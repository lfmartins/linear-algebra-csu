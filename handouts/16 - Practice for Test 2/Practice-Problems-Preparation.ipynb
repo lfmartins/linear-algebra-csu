{
 "cells": [
  {
   "cell_type": "code",
   "execution_count": 1,
   "metadata": {
    "collapsed": true
   },
   "outputs": [],
   "source": [
    "from latools import *\n",
    "from sympy import *\n",
    "init_printing(use_latex=True)\n",
    "import random"
   ]
  },
  {
   "cell_type": "markdown",
   "metadata": {},
   "source": [
    "# Exercise 1 - Determinants"
   ]
  },
  {
   "cell_type": "code",
   "execution_count": 2,
   "metadata": {
    "collapsed": false
   },
   "outputs": [
    {
     "data": {
      "image/png": "[encoded data removed]",
      "text/latex": [
       "$$7$$"
      ],
      "text/plain": [
       "7"
      ]
     },
     "execution_count": 2,
     "metadata": {},
     "output_type": "execute_result"
    }
   ],
   "source": [
    "A = matrix_to_rational([[1,2],[-3,1]])\n",
    "det(A)"
   ]
  },
  {
   "cell_type": "code",
   "execution_count": 3,
   "metadata": {
    "collapsed": false
   },
   "outputs": [
    {
     "name": "stdout",
     "output_type": "stream",
     "text": [
      "\\left[\\begin{matrix}1 & 2\\\\-3 & 1\\end{matrix}\\right]\n"
     ]
    }
   ],
   "source": [
    "print(latex(A))"
   ]
  },
  {
   "cell_type": "code",
   "execution_count": 4,
   "metadata": {
    "collapsed": false
   },
   "outputs": [
    {
     "data": {
      "image/png": "[encoded data removed]",
      "text/latex": [
       "$$29$$"
      ],
      "text/plain": [
       "29"
      ]
     },
     "execution_count": 4,
     "metadata": {},
     "output_type": "execute_result"
    }
   ],
   "source": [
    "A = matrix_to_rational([[2,0,-3],[1,2,0],[3,-1,2]])\n",
    "det(A)"
   ]
  },
  {
   "cell_type": "code",
   "execution_count": 5,
   "metadata": {
    "collapsed": false
   },
   "outputs": [
    {
     "name": "stdout",
     "output_type": "stream",
     "text": [
      "\\left[\\begin{matrix}2 & 0 & -3\\\\1 & 2 & 0\\\\3 & -1 & 2\\end{matrix}\\right]\n"
     ]
    }
   ],
   "source": [
    "print(latex(A))"
   ]
  },
  {
   "cell_type": "markdown",
   "metadata": {},
   "source": [
    "# Exercise 2 - Basis of a subspace"
   ]
  },
  {
   "cell_type": "code",
   "execution_count": 6,
   "metadata": {
    "collapsed": false
   },
   "outputs": [
    {
     "data": {
      "image/png": "[encoded data removed]",
      "text/latex": [
       "$$\\left[\\begin{matrix}1 & 0 & 2 & 1\\\\-2 & 1 & -7 & -1\\\\2 & 0 & 4 & 0\\\\3 & -1 & 9 & 3\\end{matrix}\\right]$$"
      ],
      "text/plain": [
       "⎡1   0   2   1 ⎤\n",
       "⎢              ⎥\n",
       "⎢-2  1   -7  -1⎥\n",
       "⎢              ⎥\n",
       "⎢2   0   4   0 ⎥\n",
       "⎢              ⎥\n",
       "⎣3   -1  9   3 ⎦"
      ]
     },
     "execution_count": 6,
     "metadata": {},
     "output_type": "execute_result"
    }
   ],
   "source": [
    "v1 = Matrix([1,-2,2,3])\n",
    "v2 = Matrix([0,1,0,-1])\n",
    "v3 = 2*v1-3*v2\n",
    "v4 = Matrix([1,-1,0,3])\n",
    "A = Matrix.hstack(v1,v2,v3,v4)\n",
    "A"
   ]
  },
  {
   "cell_type": "code",
   "execution_count": 7,
   "metadata": {
    "collapsed": false
   },
   "outputs": [
    {
     "data": {
      "image/png": "[encoded data removed]",
      "text/latex": [
       "$$\\left[\\begin{matrix}1 & 0 & 2 & 0\\\\0 & 1 & -3 & 0\\\\0 & 0 & 0 & 1\\\\0 & 0 & 0 & 0\\end{matrix}\\right]$$"
      ],
      "text/plain": [
       "⎡1  0  2   0⎤\n",
       "⎢           ⎥\n",
       "⎢0  1  -3  0⎥\n",
       "⎢           ⎥\n",
       "⎢0  0  0   1⎥\n",
       "⎢           ⎥\n",
       "⎣0  0  0   0⎦"
      ]
     },
     "execution_count": 7,
     "metadata": {},
     "output_type": "execute_result"
    }
   ],
   "source": [
    "reduced_row_echelon_form(A)"
   ]
  },
  {
   "cell_type": "code",
   "execution_count": 8,
   "metadata": {
    "collapsed": false
   },
   "outputs": [
    {
     "name": "stdout",
     "output_type": "stream",
     "text": [
      "\\left[\\begin{matrix}1\\\\-2\\\\2\\\\3\\end{matrix}\\right]\n",
      "\\left[\\begin{matrix}0\\\\1\\\\0\\\\-1\\end{matrix}\\right]\n",
      "\\left[\\begin{matrix}2\\\\-7\\\\4\\\\9\\end{matrix}\\right]\n",
      "\\left[\\begin{matrix}1\\\\-1\\\\0\\\\3\\end{matrix}\\right]\n"
     ]
    }
   ],
   "source": [
    "for v in [v1,v2,v3,v4]:\n",
    "    print(latex(v))"
   ]
  },
  {
   "cell_type": "code",
   "execution_count": 9,
   "metadata": {
    "collapsed": false
   },
   "outputs": [
    {
     "name": "stdout",
     "output_type": "stream",
     "text": [
      "\\left[\\begin{matrix}3\\\\-9\\\\4\\\\13\\end{matrix}\\right]\n"
     ]
    }
   ],
   "source": [
    "print(latex(2*v1-4*v2+v4))"
   ]
  },
  {
   "cell_type": "markdown",
   "metadata": {},
   "source": [
    "# Exercise 4 - Change of basis"
   ]
  },
  {
   "cell_type": "code",
   "execution_count": 10,
   "metadata": {
    "collapsed": false
   },
   "outputs": [
    {
     "data": {
      "image/png": "[encoded data removed]",
      "text/latex": [
       "$$\\left[\\begin{matrix}0 & 2 & 4 & 2\\\\-1 & 0 & -1 & 0\\\\3 & 1 & 2 & 1\\\\-2 & 3 & 1 & 0\\end{matrix}\\right]$$"
      ],
      "text/plain": [
       "⎡0   2  4   2⎤\n",
       "⎢            ⎥\n",
       "⎢-1  0  -1  0⎥\n",
       "⎢            ⎥\n",
       "⎢3   1  2   1⎥\n",
       "⎢            ⎥\n",
       "⎣-2  3  1   0⎦"
      ]
     },
     "execution_count": 10,
     "metadata": {},
     "output_type": "execute_result"
    }
   ],
   "source": [
    "v1 = Matrix([0,-1,3,-2])\n",
    "v2 = Matrix([2,0,1,3])\n",
    "v3 = Matrix([4,-1,2,1])\n",
    "v4 = Matrix([2,0,1,0])\n",
    "A = Matrix.hstack(v1,v2,v3,v4)\n",
    "A"
   ]
  },
  {
   "cell_type": "code",
   "execution_count": 11,
   "metadata": {
    "collapsed": false
   },
   "outputs": [
    {
     "data": {
      "image/png": "[encoded data removed]",
      "text/latex": [
       "$$18$$"
      ],
      "text/plain": [
       "18"
      ]
     },
     "execution_count": 11,
     "metadata": {},
     "output_type": "execute_result"
    }
   ],
   "source": [
    "det(A)"
   ]
  },
  {
   "cell_type": "code",
   "execution_count": 12,
   "metadata": {
    "collapsed": false
   },
   "outputs": [
    {
     "name": "stdout",
     "output_type": "stream",
     "text": [
      "\\mathbf{v}_1=\\left[\\begin{matrix}0\\\\-1\\\\3\\\\-2\\end{matrix}\\right],\\quad\n",
      "\\mathbf{v}_2=\\left[\\begin{matrix}2\\\\0\\\\1\\\\3\\end{matrix}\\right],\\quad\n",
      "\\mathbf{v}_3=\\left[\\begin{matrix}4\\\\-1\\\\2\\\\1\\end{matrix}\\right],\\quad\n",
      "\\mathbf{v}_4=\\left[\\begin{matrix}2\\\\0\\\\1\\\\0\\end{matrix}\\right],\\quad\n"
     ]
    }
   ],
   "source": [
    "for i, v in enumerate([v1,v2,v3,v4]):\n",
    "    print('\\\\mathbf{{v}}_{}={},\\\\quad'.format(i+1,latex(v)))"
   ]
  },
  {
   "cell_type": "markdown",
   "metadata": {},
   "source": [
    "# Exercise 5 - Eigenvalues and Eigenvectors"
   ]
  },
  {
   "cell_type": "code",
   "execution_count": 13,
   "metadata": {
    "collapsed": false
   },
   "outputs": [
    {
     "data": {
      "image/png": "[encoded data removed]",
      "text/latex": [
       "$$\\left[\\begin{matrix}4 & 0 & 1\\\\-17 & -7 & 5\\\\-12 & -6 & 5\\end{matrix}\\right]$$"
      ],
      "text/plain": [
       "⎡ 4   0   1⎤\n",
       "⎢          ⎥\n",
       "⎢-17  -7  5⎥\n",
       "⎢          ⎥\n",
       "⎣-12  -6  5⎦"
      ]
     },
     "execution_count": 13,
     "metadata": {},
     "output_type": "execute_result"
    }
   ],
   "source": [
    "D = matrix_to_rational([[-1,0,0],[0,1,0],[0,0,2]])\n",
    "n, _ = D.shape\n",
    "P = eye(n)\n",
    "cvalues = [-1, 1]\n",
    "for i in range(n):\n",
    "    for j in range(n):\n",
    "        if i==j:\n",
    "            continue\n",
    "        P[j,:] += random.choice(cvalues)*P[i,:]\n",
    "        P[:,j] += random.choice(cvalues)*P[:,i]\n",
    "\n",
    "P, det(P)\n",
    "A = P * D * P**(-1)\n",
    "A"
   ]
  },
  {
   "cell_type": "code",
   "execution_count": 14,
   "metadata": {
    "collapsed": false
   },
   "outputs": [
    {
     "data": {
      "image/png": "[encoded data removed]",
      "text/latex": [
       "$$\\left [ \\left ( -1, \\quad 1, \\quad \\left [ \\left[\\begin{matrix}- \\frac{1}{5}\\\\\\frac{7}{5}\\\\1\\end{matrix}\\right]\\right ]\\right ), \\quad \\left ( 1, \\quad 1, \\quad \\left [ \\left[\\begin{matrix}- \\frac{1}{3}\\\\\\frac{4}{3}\\\\1\\end{matrix}\\right]\\right ]\\right ), \\quad \\left ( 2, \\quad 1, \\quad \\left [ \\left[\\begin{matrix}- \\frac{1}{2}\\\\\\frac{3}{2}\\\\1\\end{matrix}\\right]\\right ]\\right )\\right ]$$"
      ],
      "text/plain": [
       "⎡⎛-1, 1, ⎡⎡-1/5⎤⎤⎞, ⎛1, 1, ⎡⎡-1/3⎤⎤⎞, ⎛2, 1, ⎡⎡-1/2⎤⎤⎞⎤\n",
       "⎢⎜       ⎢⎢    ⎥⎥⎟  ⎜      ⎢⎢    ⎥⎥⎟  ⎜      ⎢⎢    ⎥⎥⎟⎥\n",
       "⎢⎜       ⎢⎢7/5 ⎥⎥⎟  ⎜      ⎢⎢4/3 ⎥⎥⎟  ⎜      ⎢⎢3/2 ⎥⎥⎟⎥\n",
       "⎢⎜       ⎢⎢    ⎥⎥⎟  ⎜      ⎢⎢    ⎥⎥⎟  ⎜      ⎢⎢    ⎥⎥⎟⎥\n",
       "⎣⎝       ⎣⎣ 1  ⎦⎦⎠  ⎝      ⎣⎣ 1  ⎦⎦⎠  ⎝      ⎣⎣ 1  ⎦⎦⎠⎦"
      ]
     },
     "execution_count": 14,
     "metadata": {},
     "output_type": "execute_result"
    }
   ],
   "source": [
    "A.eigenvects()"
   ]
  },
  {
   "cell_type": "code",
   "execution_count": 15,
   "metadata": {
    "collapsed": false
   },
   "outputs": [
    {
     "name": "stdout",
     "output_type": "stream",
     "text": [
      "\\left[\\begin{matrix}4 & 0 & 1\\\\-17 & -7 & 5\\\\-12 & -6 & 5\\end{matrix}\\right]\n"
     ]
    }
   ],
   "source": [
    "print(latex(A))"
   ]
  },
  {
   "cell_type": "code",
   "execution_count": 16,
   "metadata": {
    "collapsed": false
   },
   "outputs": [
    {
     "data": {
      "image/png": "[encoded data removed]",
      "text/latex": [
       "$$\\left[\\begin{matrix}-12 & -21 & 16\\\\-7 & -18 & 12\\\\-15 & -33 & 23\\end{matrix}\\right]$$"
      ],
      "text/plain": [
       "⎡-12  -21  16⎤\n",
       "⎢            ⎥\n",
       "⎢-7   -18  12⎥\n",
       "⎢            ⎥\n",
       "⎣-15  -33  23⎦"
      ]
     },
     "execution_count": 16,
     "metadata": {},
     "output_type": "execute_result"
    }
   ],
   "source": [
    "D = matrix_to_rational([[-3,1,0],[0,-3,0],[0,0,-1]])\n",
    "n, _ = D.shape\n",
    "P = eye(n)\n",
    "cvalues = [-1, 1]\n",
    "for i in range(n):\n",
    "    for j in range(n):\n",
    "        if i==j:\n",
    "            continue\n",
    "        P[j,:] += random.choice(cvalues)*P[i,:]\n",
    "        P[:,j] += random.choice(cvalues)*P[:,i]\n",
    "\n",
    "P, det(P)\n",
    "A = P * D * P**(-1)\n",
    "A"
   ]
  },
  {
   "cell_type": "code",
   "execution_count": 17,
   "metadata": {
    "collapsed": false
   },
   "outputs": [
    {
     "data": {
      "image/png": "[encoded data removed]",
      "text/latex": [
       "$$\\left [ \\left ( -3, \\quad 2, \\quad \\left [ \\left[\\begin{matrix}1\\\\\\frac{1}{3}\\\\1\\end{matrix}\\right]\\right ]\\right ), \\quad \\left ( -1, \\quad 1, \\quad \\left [ \\left[\\begin{matrix}\\frac{1}{2}\\\\\\frac{1}{2}\\\\1\\end{matrix}\\right]\\right ]\\right )\\right ]$$"
      ],
      "text/plain": [
       "⎡⎛-3, 2, ⎡⎡ 1 ⎤⎤⎞, ⎛-1, 1, ⎡⎡1/2⎤⎤⎞⎤\n",
       "⎢⎜       ⎢⎢   ⎥⎥⎟  ⎜       ⎢⎢   ⎥⎥⎟⎥\n",
       "⎢⎜       ⎢⎢1/3⎥⎥⎟  ⎜       ⎢⎢1/2⎥⎥⎟⎥\n",
       "⎢⎜       ⎢⎢   ⎥⎥⎟  ⎜       ⎢⎢   ⎥⎥⎟⎥\n",
       "⎣⎝       ⎣⎣ 1 ⎦⎦⎠  ⎝       ⎣⎣ 1 ⎦⎦⎠⎦"
      ]
     },
     "execution_count": 17,
     "metadata": {},
     "output_type": "execute_result"
    }
   ],
   "source": [
    "A.eigenvects()"
   ]
  },
  {
   "cell_type": "code",
   "execution_count": 18,
   "metadata": {
    "collapsed": false
   },
   "outputs": [
    {
     "name": "stdout",
     "output_type": "stream",
     "text": [
      "\\left[\\begin{matrix}-12 & -21 & 16\\\\-7 & -18 & 12\\\\-15 & -33 & 23\\end{matrix}\\right]\n"
     ]
    }
   ],
   "source": [
    "print(latex(A))"
   ]
  },
  {
   "cell_type": "code",
   "execution_count": 19,
   "metadata": {
    "collapsed": false
   },
   "outputs": [
    {
     "data": {
      "image/png": "[encoded data removed]",
      "text/latex": [
       "$$\\left[\\begin{matrix}-5 & -6 & 3\\\\3 & 4 & -3\\\\0 & 0 & -2\\end{matrix}\\right]$$"
      ],
      "text/plain": [
       "⎡-5  -6  3 ⎤\n",
       "⎢          ⎥\n",
       "⎢3   4   -3⎥\n",
       "⎢          ⎥\n",
       "⎣0   0   -2⎦"
      ]
     },
     "execution_count": 19,
     "metadata": {},
     "output_type": "execute_result"
    }
   ],
   "source": [
    "D = matrix_to_rational([[-2,0,0],[0,-2,0],[0,0,1]])\n",
    "n, _ = D.shape\n",
    "P = eye(n)\n",
    "cvalues = [-1, 1]\n",
    "for i in range(n):\n",
    "    for j in range(n):\n",
    "        if i==j:\n",
    "            continue\n",
    "        P[j,:] += random.choice(cvalues)*P[i,:]\n",
    "        P[:,j] += random.choice(cvalues)*P[:,i]\n",
    "\n",
    "P, det(P)\n",
    "A = P * D * P**(-1)\n",
    "A"
   ]
  },
  {
   "cell_type": "code",
   "execution_count": 20,
   "metadata": {
    "collapsed": false
   },
   "outputs": [
    {
     "data": {
      "image/png": "[encoded data removed]",
      "text/latex": [
       "$$- \\left(\\lambda - 1\\right) \\left(\\lambda + 2\\right)^{2}$$"
      ],
      "text/plain": [
       "                2\n",
       "-(λ - 1)⋅(λ + 2) "
      ]
     },
     "execution_count": 20,
     "metadata": {},
     "output_type": "execute_result"
    }
   ],
   "source": [
    "lbd = symbols('lambda')\n",
    "p = det(A - lbd*eye(n))\n",
    "factor(p)"
   ]
  },
  {
   "cell_type": "code",
   "execution_count": 21,
   "metadata": {
    "collapsed": false
   },
   "outputs": [
    {
     "data": {
      "image/png": "[encoded data removed]",
      "text/latex": [
       "$$\\left[\\begin{matrix}1 & 2 & -1\\\\0 & 0 & 0\\\\0 & 0 & 0\\end{matrix}\\right]$$"
      ],
      "text/plain": [
       "⎡1  2  -1⎤\n",
       "⎢        ⎥\n",
       "⎢0  0  0 ⎥\n",
       "⎢        ⎥\n",
       "⎣0  0  0 ⎦"
      ]
     },
     "execution_count": 21,
     "metadata": {},
     "output_type": "execute_result"
    }
   ],
   "source": [
    "R = reduced_row_echelon_form(A - (-2)*eye(n))\n",
    "R"
   ]
  },
  {
   "cell_type": "code",
   "execution_count": 22,
   "metadata": {
    "collapsed": false
   },
   "outputs": [
    {
     "data": {
      "image/png": "[encoded data removed]",
      "text/latex": [
       "$$\\left[\\begin{matrix}1 & 1 & 0\\\\0 & 0 & 1\\\\0 & 0 & 0\\end{matrix}\\right]$$"
      ],
      "text/plain": [
       "⎡1  1  0⎤\n",
       "⎢       ⎥\n",
       "⎢0  0  1⎥\n",
       "⎢       ⎥\n",
       "⎣0  0  0⎦"
      ]
     },
     "execution_count": 22,
     "metadata": {},
     "output_type": "execute_result"
    }
   ],
   "source": [
    "R = reduced_row_echelon_form(A - (1)*eye(n))\n",
    "R"
   ]
  },
  {
   "cell_type": "code",
   "execution_count": 23,
   "metadata": {
    "collapsed": false
   },
   "outputs": [
    {
     "name": "stdout",
     "output_type": "stream",
     "text": [
      "\\left[\\begin{matrix}-5 & -6 & 3\\\\3 & 4 & -3\\\\0 & 0 & -2\\end{matrix}\\right]\n"
     ]
    }
   ],
   "source": [
    "print(latex(A))"
   ]
  },
  {
   "cell_type": "code",
   "execution_count": 24,
   "metadata": {
    "collapsed": false
   },
   "outputs": [
    {
     "data": {
      "image/png": "[encoded data removed]",
      "text/latex": [
       "$$\\left[\\begin{matrix}52 & 52 & 2 & -14 & -13\\\\-51 & -51 & -2 & 14 & 13\\\\89 & 92 & 7 & -26 & -23\\\\92 & 96 & 8 & -27 & -24\\\\-73 & -76 & -6 & 22 & 20\\end{matrix}\\right]$$"
      ],
      "text/plain": [
       "⎡52   52   2   -14  -13⎤\n",
       "⎢                      ⎥\n",
       "⎢-51  -51  -2  14   13 ⎥\n",
       "⎢                      ⎥\n",
       "⎢89   92   7   -26  -23⎥\n",
       "⎢                      ⎥\n",
       "⎢92   96   8   -27  -24⎥\n",
       "⎢                      ⎥\n",
       "⎣-73  -76  -6  22   20 ⎦"
      ]
     },
     "execution_count": 24,
     "metadata": {},
     "output_type": "execute_result"
    }
   ],
   "source": [
    "D = matrix_to_rational([[1,0,0,0,0],[0,1,0,0,0],[0,0,1,0,0],[0,0,0,-1,1],[0,0,0,0,-1]])\n",
    "n, _ = D.shape\n",
    "P = eye(n)\n",
    "cvalues = [-1, 1]\n",
    "for i in range(n):\n",
    "    for j in range(n):\n",
    "        if i==j:\n",
    "            continue\n",
    "        P[j,:] += random.choice(cvalues)*P[i,:]\n",
    "        P[:,j] += random.choice(cvalues)*P[:,i]\n",
    "\n",
    "P, det(P)\n",
    "A = P * D * P**(-1)\n",
    "A"
   ]
  },
  {
   "cell_type": "code",
   "execution_count": 25,
   "metadata": {
    "collapsed": false
   },
   "outputs": [
    {
     "data": {
      "image/png": "[encoded data removed]",
      "text/latex": [
       "$$- \\left(\\lambda - 1\\right)^{3} \\left(\\lambda + 1\\right)^{2}$$"
      ],
      "text/plain": [
       "        3        2\n",
       "-(λ - 1) ⋅(λ + 1) "
      ]
     },
     "execution_count": 25,
     "metadata": {},
     "output_type": "execute_result"
    }
   ],
   "source": [
    "lbd = symbols('lambda')\n",
    "p = det(A - lbd*eye(n))\n",
    "factor(p)"
   ]
  },
  {
   "cell_type": "code",
   "execution_count": 26,
   "metadata": {
    "collapsed": false
   },
   "outputs": [
    {
     "data": {
      "image/png": "[encoded data removed]",
      "text/latex": [
       "$$\\left[\\begin{matrix}1 & 0 & -2 & 1 & 0\\\\0 & 1 & 2 & - \\frac{5}{4} & - \\frac{1}{4}\\\\0 & 0 & 0 & 0 & 0\\\\0 & 0 & 0 & 0 & 0\\\\0 & 0 & 0 & 0 & 0\\end{matrix}\\right]$$"
      ],
      "text/plain": [
       "⎡1  0  -2   1     0  ⎤\n",
       "⎢                    ⎥\n",
       "⎢0  1  2   -5/4  -1/4⎥\n",
       "⎢                    ⎥\n",
       "⎢0  0  0    0     0  ⎥\n",
       "⎢                    ⎥\n",
       "⎢0  0  0    0     0  ⎥\n",
       "⎢                    ⎥\n",
       "⎣0  0  0    0     0  ⎦"
      ]
     },
     "execution_count": 26,
     "metadata": {},
     "output_type": "execute_result"
    }
   ],
   "source": [
    "R = reduced_row_echelon_form(A - (1)*eye(n))\n",
    "R"
   ]
  },
  {
   "cell_type": "code",
   "execution_count": 27,
   "metadata": {
    "collapsed": false
   },
   "outputs": [
    {
     "data": {
      "image/png": "[encoded data removed]",
      "text/latex": [
       "$$\\left[\\begin{matrix}1 & 0 & 0 & 0 & 1\\\\0 & 1 & 0 & 0 & -1\\\\0 & 0 & 1 & 0 & \\frac{7}{5}\\\\0 & 0 & 0 & 1 & \\frac{6}{5}\\\\0 & 0 & 0 & 0 & 0\\end{matrix}\\right]$$"
      ],
      "text/plain": [
       "⎡1  0  0  0   1 ⎤\n",
       "⎢               ⎥\n",
       "⎢0  1  0  0  -1 ⎥\n",
       "⎢               ⎥\n",
       "⎢0  0  1  0  7/5⎥\n",
       "⎢               ⎥\n",
       "⎢0  0  0  1  6/5⎥\n",
       "⎢               ⎥\n",
       "⎣0  0  0  0   0 ⎦"
      ]
     },
     "execution_count": 27,
     "metadata": {},
     "output_type": "execute_result"
    }
   ],
   "source": [
    "R = reduced_row_echelon_form(A - (-1)*eye(n))\n",
    "R"
   ]
  },
  {
   "cell_type": "code",
   "execution_count": 28,
   "metadata": {
    "collapsed": false
   },
   "outputs": [
    {
     "name": "stdout",
     "output_type": "stream",
     "text": [
      "\\left[\\begin{matrix}52 & 52 & 2 & -14 & -13\\\\-51 & -51 & -2 & 14 & 13\\\\89 & 92 & 7 & -26 & -23\\\\92 & 96 & 8 & -27 & -24\\\\-73 & -76 & -6 & 22 & 20\\end{matrix}\\right]\n"
     ]
    }
   ],
   "source": [
    "print(latex(A))"
   ]
  },
  {
   "cell_type": "code",
   "execution_count": 29,
   "metadata": {
    "collapsed": false
   },
   "outputs": [
    {
     "data": {
      "image/png": "[encoded data removed]",
      "text/latex": [
       "$$\\left[\\begin{matrix}50 & -48 & -165 & -195\\\\-54 & 26 & 135 & 135\\\\27 & -36 & -106 & -135\\\\3 & 12 & 15 & 32\\end{matrix}\\right]$$"
      ],
      "text/plain": [
       "⎡50   -48  -165  -195⎤\n",
       "⎢                    ⎥\n",
       "⎢-54  26   135   135 ⎥\n",
       "⎢                    ⎥\n",
       "⎢27   -36  -106  -135⎥\n",
       "⎢                    ⎥\n",
       "⎣ 3   12    15    32 ⎦"
      ]
     },
     "execution_count": 29,
     "metadata": {},
     "output_type": "execute_result"
    }
   ],
   "source": [
    "D = matrix_to_rational([[2,0,0,0],[0,2,0,0],[0,0,-1,0],[0,0,0,-1]])\n",
    "n, _ = D.shape\n",
    "P = eye(n)\n",
    "cvalues = [-1, 1]\n",
    "for i in range(n):\n",
    "    for j in range(n):\n",
    "        if i==j:\n",
    "            continue\n",
    "        P[j,:] += random.choice(cvalues)*P[i,:]\n",
    "        P[:,j] += random.choice(cvalues)*P[:,i]\n",
    "\n",
    "P, det(P)\n",
    "A = P * D * P**(-1)\n",
    "A"
   ]
  },
  {
   "cell_type": "code",
   "execution_count": 30,
   "metadata": {
    "collapsed": false
   },
   "outputs": [
    {
     "data": {
      "image/png": "[encoded data removed]",
      "text/latex": [
       "$$\\left(\\lambda - 2\\right)^{2} \\left(\\lambda + 1\\right)^{2}$$"
      ],
      "text/plain": [
       "       2        2\n",
       "(λ - 2) ⋅(λ + 1) "
      ]
     },
     "execution_count": 30,
     "metadata": {},
     "output_type": "execute_result"
    }
   ],
   "source": [
    "lbd = symbols('lambda')\n",
    "p = det(A - lbd*eye(n))\n",
    "factor(p)"
   ]
  },
  {
   "cell_type": "code",
   "execution_count": 31,
   "metadata": {
    "collapsed": false
   },
   "outputs": [
    {
     "data": {
      "image/png": "[encoded data removed]",
      "text/latex": [
       "$$\\left[\\begin{matrix}1 & 0 & - \\frac{7}{4} & - \\frac{5}{4}\\\\0 & 1 & \\frac{27}{16} & \\frac{45}{16}\\\\0 & 0 & 0 & 0\\\\0 & 0 & 0 & 0\\end{matrix}\\right]$$"
      ],
      "text/plain": [
       "⎡1  0  -7/4  -5/4⎤\n",
       "⎢                ⎥\n",
       "⎢       27    45 ⎥\n",
       "⎢0  1   ──    ── ⎥\n",
       "⎢       16    16 ⎥\n",
       "⎢                ⎥\n",
       "⎢0  0   0     0  ⎥\n",
       "⎢                ⎥\n",
       "⎣0  0   0     0  ⎦"
      ]
     },
     "execution_count": 31,
     "metadata": {},
     "output_type": "execute_result"
    }
   ],
   "source": [
    "R = reduced_row_echelon_form(A - (2)*eye(n))\n",
    "R"
   ]
  },
  {
   "cell_type": "code",
   "execution_count": 32,
   "metadata": {
    "collapsed": false
   },
   "outputs": [
    {
     "data": {
      "image/png": "[encoded data removed]",
      "text/latex": [
       "$$\\left[\\begin{matrix}1 & 0 & - \\frac{5}{3} & -1\\\\0 & 1 & \\frac{5}{3} & 3\\\\0 & 0 & 0 & 0\\\\0 & 0 & 0 & 0\\end{matrix}\\right]$$"
      ],
      "text/plain": [
       "⎡1  0  -5/3  -1⎤\n",
       "⎢              ⎥\n",
       "⎢0  1  5/3   3 ⎥\n",
       "⎢              ⎥\n",
       "⎢0  0   0    0 ⎥\n",
       "⎢              ⎥\n",
       "⎣0  0   0    0 ⎦"
      ]
     },
     "execution_count": 32,
     "metadata": {},
     "output_type": "execute_result"
    }
   ],
   "source": [
    "R = reduced_row_echelon_form(A - (-1)*eye(n))\n",
    "R"
   ]
  },
  {
   "cell_type": "code",
   "execution_count": 70,
   "metadata": {
    "collapsed": false
   },
   "outputs": [
    {
     "name": "stdout",
     "output_type": "stream",
     "text": [
      "\\left[\\begin{matrix}-16 & -72 & 27 & 3\\\\0 & -10 & 9 & -9\\\\-9 & -66 & 38 & -21\\\\-9 & -54 & 27 & -10\\end{matrix}\\right]\n"
     ]
    }
   ],
   "source": [
    "print(latex(A))"
   ]
  },
  {
   "cell_type": "markdown",
   "metadata": {},
   "source": [
    "# Exercise 8 - Gram-Schmidt"
   ]
  },
  {
   "cell_type": "code",
   "execution_count": 33,
   "metadata": {
    "collapsed": false
   },
   "outputs": [
    {
     "data": {
      "image/png": "[encoded data removed]",
      "text/latex": [
       "$$2$$"
      ],
      "text/plain": [
       "2"
      ]
     },
     "execution_count": 33,
     "metadata": {},
     "output_type": "execute_result"
    }
   ],
   "source": [
    "det(matrix_to_rational([[0,2,1],[0,-2,0],[1,1,3]]))"
   ]
  },
  {
   "cell_type": "markdown",
   "metadata": {},
   "source": [
    "# Exercise 9 - Symmetric Matrices"
   ]
  },
  {
   "cell_type": "code",
   "execution_count": 27,
   "metadata": {
    "collapsed": false
   },
   "outputs": [],
   "source": [
    "def gram_schmidt(ulist):\n",
    "    vlist = [ulist[0]]\n",
    "    for u in ulist[1:]:\n",
    "        vnew = u\n",
    "        for v in vlist:\n",
    "            vnew -= (u.dot(v)/v.dot(v))*v\n",
    "        vlist.append(vnew)\n",
    "    return vlist"
   ]
  },
  {
   "cell_type": "code",
   "execution_count": 53,
   "metadata": {
    "collapsed": false
   },
   "outputs": [
    {
     "data": {
      "image/png": "[encoded data removed]",
      "text/latex": [
       "$$\\left[\\begin{matrix}0 & -1 & -1\\\\-1 & 1 & -2\\\\-1 & -2 & 1\\end{matrix}\\right]$$"
      ],
      "text/plain": [
       "⎡0   -1  -1⎤\n",
       "⎢          ⎥\n",
       "⎢-1  1   -2⎥\n",
       "⎢          ⎥\n",
       "⎣-1  -2  1 ⎦"
      ]
     },
     "execution_count": 53,
     "metadata": {},
     "output_type": "execute_result"
    }
   ],
   "source": [
    "D = matrix_to_rational([[-2,0,0],[0,1,0],[0,0,3]])\n",
    "u1 = Matrix([1,1,1])\n",
    "u2 = Matrix([-1,2,2])\n",
    "u3 = Matrix([2,1,2])\n",
    "vlist = gram_schmidt([u1,u2,u3])\n",
    "P = Matrix.hstack(*vlist)\n",
    "A = P*D*P**(-1)\n",
    "A"
   ]
  },
  {
   "cell_type": "code",
   "execution_count": 54,
   "metadata": {
    "collapsed": false
   },
   "outputs": [
    {
     "data": {
      "image/png": "[encoded data removed]",
      "text/latex": [
       "$$- \\left(\\lambda - 3\\right) \\left(\\lambda - 1\\right) \\left(\\lambda + 2\\right)$$"
      ],
      "text/plain": [
       "-(λ - 3)⋅(λ - 1)⋅(λ + 2)"
      ]
     },
     "execution_count": 54,
     "metadata": {},
     "output_type": "execute_result"
    }
   ],
   "source": [
    "lbd = symbols('lambda')\n",
    "p = det(A - lbd*eye(3))\n",
    "factor(p)"
   ]
  },
  {
   "cell_type": "code",
   "execution_count": 55,
   "metadata": {
    "collapsed": false
   },
   "outputs": [
    {
     "name": "stdout",
     "output_type": "stream",
     "text": [
      "\\left[\\begin{matrix}0 & -1 & -1\\\\-1 & 1 & -2\\\\-1 & -2 & 1\\end{matrix}\\right]\n"
     ]
    }
   ],
   "source": [
    "print(latex(A))"
   ]
  },
  {
   "cell_type": "code",
   "execution_count": 30,
   "metadata": {
    "collapsed": false
   },
   "outputs": [],
   "source": [
    "D = matrix_to_rational([[-2,0,0],[0,1,0],[0,3,0]])"
   ]
  },
  {
   "cell_type": "code",
   "execution_count": 61,
   "metadata": {
    "collapsed": false
   },
   "outputs": [
    {
     "data": {
      "image/png": "[encoded data removed]",
      "text/latex": [
       "$$\\left[\\begin{matrix}-2 & -5 & 5\\\\-5 & -2 & 5\\\\5 & 5 & -2\\end{matrix}\\right]$$"
      ],
      "text/plain": [
       "⎡-2  -5  5 ⎤\n",
       "⎢          ⎥\n",
       "⎢-5  -2  5 ⎥\n",
       "⎢          ⎥\n",
       "⎣5   5   -2⎦"
      ]
     },
     "execution_count": 61,
     "metadata": {},
     "output_type": "execute_result"
    }
   ],
   "source": [
    "D = matrix_to_rational([[1,0,0],[0,1,0],[0,0,-4]])\n",
    "u1 = Matrix([0,1,1])\n",
    "u2 = Matrix([1,1,2])\n",
    "u3 = Matrix([1,1,1])\n",
    "vlist = gram_schmidt([u1,u2,u3])\n",
    "P = Matrix.hstack(*vlist)\n",
    "A = 3*P*D*P**(-1)\n",
    "A"
   ]
  },
  {
   "cell_type": "code",
   "execution_count": 62,
   "metadata": {
    "collapsed": false
   },
   "outputs": [
    {
     "data": {
      "image/png": "[encoded data removed]",
      "text/latex": [
       "$$- \\left(\\lambda - 3\\right)^{2} \\left(\\lambda + 12\\right)$$"
      ],
      "text/plain": [
       "        2         \n",
       "-(λ - 3) ⋅(λ + 12)"
      ]
     },
     "execution_count": 62,
     "metadata": {},
     "output_type": "execute_result"
    }
   ],
   "source": [
    "lbd = symbols('lambda')\n",
    "p = det(A - lbd*eye(3))\n",
    "factor(p)"
   ]
  },
  {
   "cell_type": "code",
   "execution_count": 63,
   "metadata": {
    "collapsed": false
   },
   "outputs": [
    {
     "name": "stdout",
     "output_type": "stream",
     "text": [
      "\\left[\\begin{matrix}-2 & -5 & 5\\\\-5 & -2 & 5\\\\5 & 5 & -2\\end{matrix}\\right]\n"
     ]
    }
   ],
   "source": [
    "print(latex(A))"
   ]
  },
  {
   "cell_type": "code",
   "execution_count": 72,
   "metadata": {
    "collapsed": false
   },
   "outputs": [
    {
     "name": "stdout",
     "output_type": "stream",
     "text": [
      "2\n"
     ]
    },
    {
     "data": {
      "image/png": "[encoded data removed]",
      "text/latex": [
       "$$\\left[\\begin{matrix}-26 & -2 & -2 & -36\\\\-2 & 1 & -29 & 18\\\\-2 & -29 & 1 & 18\\\\-36 & 18 & 18 & -6\\end{matrix}\\right]$$"
      ],
      "text/plain": [
       "⎡-26  -2   -2   -36⎤\n",
       "⎢                  ⎥\n",
       "⎢-2    1   -29  18 ⎥\n",
       "⎢                  ⎥\n",
       "⎢-2   -29   1   18 ⎥\n",
       "⎢                  ⎥\n",
       "⎣-36  18   18   -6 ⎦"
      ]
     },
     "execution_count": 72,
     "metadata": {},
     "output_type": "execute_result"
    }
   ],
   "source": [
    "D = matrix_to_rational([[-2,0,0,0],[0,2,0,0],[0,0,2,0],[0,0,0,-4]])\n",
    "u1 = Matrix([1,1,1,0])\n",
    "u2 = Matrix([-1,1,1,2])\n",
    "u3 = Matrix([1,2,0,0])\n",
    "u4 = Matrix([0,2,1,1])\n",
    "print(det(Matrix.hstack(u1,u2,u3,u4)))\n",
    "vlist = gram_schmidt([u1,u2,u3,u4])\n",
    "P = Matrix.hstack(*vlist)\n",
    "A = 15*P*D*P**(-1)\n",
    "A"
   ]
  },
  {
   "cell_type": "code",
   "execution_count": 65,
   "metadata": {
    "collapsed": false
   },
   "outputs": [
    {
     "data": {
      "image/png": "[encoded data removed]",
      "text/latex": [
       "$$\\left[\\begin{matrix}1 & -1 & \\frac{2}{3} & 0\\\\0 & 1 & \\frac{4}{3} & 0\\\\1 & 1 & - \\frac{2}{3} & 0\\\\0 & 0 & 0 & 1\\end{matrix}\\right]$$"
      ],
      "text/plain": [
       "⎡1  -1  2/3   0⎤\n",
       "⎢              ⎥\n",
       "⎢0  1   4/3   0⎥\n",
       "⎢              ⎥\n",
       "⎢1  1   -2/3  0⎥\n",
       "⎢              ⎥\n",
       "⎣0  0    0    1⎦"
      ]
     },
     "execution_count": 65,
     "metadata": {},
     "output_type": "execute_result"
    }
   ],
   "source": [
    "P"
   ]
  },
  {
   "cell_type": "code",
   "execution_count": null,
   "metadata": {
    "collapsed": true
   },
   "outputs": [],
   "source": [
    "1"
   ]
  }
 ],
 "metadata": {
  "kernelspec": {
   "display_name": "Python 3",
   "language": "python",
   "name": "python3"
  },
  "language_info": {
   "codemirror_mode": {
    "name": "ipython",
    "version": 3
   },
   "file_extension": ".py",
   "mimetype": "text/x-python",
   "name": "python",
   "nbconvert_exporter": "python",
   "pygments_lexer": "ipython3",
   "version": "3.5.1"
  }
 },
 "nbformat": 4,
 "nbformat_minor": 0
}
