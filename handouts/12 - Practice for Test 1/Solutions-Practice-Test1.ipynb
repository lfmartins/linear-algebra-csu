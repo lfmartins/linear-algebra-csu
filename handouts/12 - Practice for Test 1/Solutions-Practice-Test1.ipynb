{
 "cells": [
  {
   "cell_type": "code",
   "execution_count": 1,
   "metadata": {
    "collapsed": false
   },
   "outputs": [],
   "source": [
    "from latools import *\n",
    "from sympy import *\n",
    "init_printing(use_latex=True)"
   ]
  },
  {
   "cell_type": "markdown",
   "metadata": {},
   "source": [
    "# Exercise 1.1"
   ]
  },
  {
   "cell_type": "code",
   "execution_count": 2,
   "metadata": {
    "collapsed": false
   },
   "outputs": [
    {
     "data": {
      "image/png": "[encoded data removed]",
      "text/latex": [
       "$$\\left[\\begin{matrix}0 & 0 & 1 & -1 & 1 & 5 & 0\\\\1 & -2 & 1 & -1 & 0 & 1 & -8\\\\-3 & 6 & 2 & -2 & -1 & 10 & 6\\\\-2 & 4 & 0 & 0 & -3 & -2 & 1\\end{matrix}\\right]$$"
      ],
      "text/plain": [
       "⎡0   0   1  -1  1   5   0 ⎤\n",
       "⎢                         ⎥\n",
       "⎢1   -2  1  -1  0   1   -8⎥\n",
       "⎢                         ⎥\n",
       "⎢-3  6   2  -2  -1  10  6 ⎥\n",
       "⎢                         ⎥\n",
       "⎣-2  4   0  0   -3  -2  1 ⎦"
      ]
     },
     "execution_count": 2,
     "metadata": {},
     "output_type": "execute_result"
    }
   ],
   "source": [
    "A = matrix_to_rational([[ 0,  0, 1, -1,  1,  5,  0],\n",
    "                        [ 1, -2, 1, -1,  0,  1, -8],\n",
    "                        [-3,  6, 2, -2, -1, 10,  6],\n",
    "                        [-2,  4, 0,  0, -3, -2,  1]])\n",
    "A"
   ]
  },
  {
   "cell_type": "code",
   "execution_count": 3,
   "metadata": {
    "collapsed": false
   },
   "outputs": [
    {
     "data": {
      "image/png": "[encoded data removed]",
      "text/latex": [
       "$$\\left[\\begin{matrix}1 & -2 & 1 & -1 & 0 & 1 & -8\\\\0 & 0 & 1 & -1 & 1 & 5 & 0\\\\-3 & 6 & 2 & -2 & -1 & 10 & 6\\\\-2 & 4 & 0 & 0 & -3 & -2 & 1\\end{matrix}\\right]$$"
      ],
      "text/plain": [
       "⎡1   -2  1  -1  0   1   -8⎤\n",
       "⎢                         ⎥\n",
       "⎢0   0   1  -1  1   5   0 ⎥\n",
       "⎢                         ⎥\n",
       "⎢-3  6   2  -2  -1  10  6 ⎥\n",
       "⎢                         ⎥\n",
       "⎣-2  4   0  0   -3  -2  1 ⎦"
      ]
     },
     "execution_count": 3,
     "metadata": {},
     "output_type": "execute_result"
    }
   ],
   "source": [
    "A1 = rop(A, 'R1<=>R2')\n",
    "A1"
   ]
  },
  {
   "cell_type": "code",
   "execution_count": 4,
   "metadata": {
    "collapsed": false
   },
   "outputs": [
    {
     "data": {
      "image/png": "[encoded data removed]",
      "text/latex": [
       "$$\\left[\\begin{matrix}1 & -2 & 1 & -1 & 0 & 1 & -8\\\\0 & 0 & 1 & -1 & 1 & 5 & 0\\\\0 & 0 & 5 & -5 & -1 & 13 & -18\\\\0 & 0 & 2 & -2 & -3 & 0 & -15\\end{matrix}\\right]$$"
      ],
      "text/plain": [
       "⎡1  -2  1  -1  0   1   -8 ⎤\n",
       "⎢                         ⎥\n",
       "⎢0  0   1  -1  1   5    0 ⎥\n",
       "⎢                         ⎥\n",
       "⎢0  0   5  -5  -1  13  -18⎥\n",
       "⎢                         ⎥\n",
       "⎣0  0   2  -2  -3  0   -15⎦"
      ]
     },
     "execution_count": 4,
     "metadata": {},
     "output_type": "execute_result"
    }
   ],
   "source": [
    "A2 = rop(A1, 'R1*(3)+R3=>R3', 'R1*(2)+R4=>R4')\n",
    "A2"
   ]
  },
  {
   "cell_type": "code",
   "execution_count": 5,
   "metadata": {
    "collapsed": false
   },
   "outputs": [
    {
     "data": {
      "image/png": "[encoded data removed]",
      "text/latex": [
       "$$\\left[\\begin{matrix}1 & -2 & 0 & 0 & -1 & -4 & -8\\\\0 & 0 & 1 & -1 & 1 & 5 & 0\\\\0 & 0 & 0 & 0 & -6 & -12 & -18\\\\0 & 0 & 0 & 0 & -5 & -10 & -15\\end{matrix}\\right]$$"
      ],
      "text/plain": [
       "⎡1  -2  0  0   -1  -4   -8 ⎤\n",
       "⎢                          ⎥\n",
       "⎢0  0   1  -1  1    5    0 ⎥\n",
       "⎢                          ⎥\n",
       "⎢0  0   0  0   -6  -12  -18⎥\n",
       "⎢                          ⎥\n",
       "⎣0  0   0  0   -5  -10  -15⎦"
      ]
     },
     "execution_count": 5,
     "metadata": {},
     "output_type": "execute_result"
    }
   ],
   "source": [
    "A3 = rop(A2, 'R2*(-1)+R1=>R1', 'R2*(-5)+R3=>R3', 'R2*(-2)+R4=>R4')\n",
    "A3"
   ]
  },
  {
   "cell_type": "code",
   "execution_count": 6,
   "metadata": {
    "collapsed": false
   },
   "outputs": [
    {
     "data": {
      "image/png": "[encoded data removed]",
      "text/latex": [
       "$$\\left[\\begin{matrix}1 & -2 & 0 & 0 & -1 & -4 & -8\\\\0 & 0 & 1 & -1 & 1 & 5 & 0\\\\0 & 0 & 0 & 0 & 1 & 2 & 3\\\\0 & 0 & 0 & 0 & -5 & -10 & -15\\end{matrix}\\right]$$"
      ],
      "text/plain": [
       "⎡1  -2  0  0   -1  -4   -8 ⎤\n",
       "⎢                          ⎥\n",
       "⎢0  0   1  -1  1    5    0 ⎥\n",
       "⎢                          ⎥\n",
       "⎢0  0   0  0   1    2    3 ⎥\n",
       "⎢                          ⎥\n",
       "⎣0  0   0  0   -5  -10  -15⎦"
      ]
     },
     "execution_count": 6,
     "metadata": {},
     "output_type": "execute_result"
    }
   ],
   "source": [
    "A4 = rop(A3, 'R3*(-1/6)=>R3')\n",
    "A4"
   ]
  },
  {
   "cell_type": "code",
   "execution_count": 7,
   "metadata": {
    "collapsed": false
   },
   "outputs": [
    {
     "data": {
      "image/png": "[encoded data removed]",
      "text/latex": [
       "$$\\left[\\begin{matrix}1 & -2 & 0 & 0 & 0 & -2 & -5\\\\0 & 0 & 1 & -1 & 0 & 3 & -3\\\\0 & 0 & 0 & 0 & 1 & 2 & 3\\\\0 & 0 & 0 & 0 & 0 & 0 & 0\\end{matrix}\\right]$$"
      ],
      "text/plain": [
       "⎡1  -2  0  0   0  -2  -5⎤\n",
       "⎢                       ⎥\n",
       "⎢0  0   1  -1  0  3   -3⎥\n",
       "⎢                       ⎥\n",
       "⎢0  0   0  0   1  2   3 ⎥\n",
       "⎢                       ⎥\n",
       "⎣0  0   0  0   0  0   0 ⎦"
      ]
     },
     "execution_count": 7,
     "metadata": {},
     "output_type": "execute_result"
    }
   ],
   "source": [
    "A5 = rop(A4, 'R3*(1)+R1=>R1', 'R3*(-1)+R2=>R2', 'R3*(5)+R4=>R4')\n",
    "A5"
   ]
  },
  {
   "cell_type": "markdown",
   "metadata": {},
   "source": [
    "# Exercise 1.2"
   ]
  },
  {
   "cell_type": "code",
   "execution_count": 8,
   "metadata": {
    "collapsed": false
   },
   "outputs": [
    {
     "data": {
      "image/png": "[encoded data removed]",
      "text/latex": [
       "$$\\left[\\begin{matrix}-3 & -3 & -2 & -3\\\\-8 & -5 & -2 & 4\\\\5 & 3 & 1 & -8\\end{matrix}\\right]$$"
      ],
      "text/plain": [
       "⎡-3  -3  -2  -3⎤\n",
       "⎢              ⎥\n",
       "⎢-8  -5  -2  4 ⎥\n",
       "⎢              ⎥\n",
       "⎣5   3   1   -8⎦"
      ]
     },
     "execution_count": 8,
     "metadata": {},
     "output_type": "execute_result"
    }
   ],
   "source": [
    "A = matrix_to_rational([[-3, -3, -2, -3],\n",
    "                        [-8, -5, -2,  4],\n",
    "                        [ 5,  3,  1, -8]])\n",
    "A"
   ]
  },
  {
   "cell_type": "code",
   "execution_count": 9,
   "metadata": {
    "collapsed": false
   },
   "outputs": [
    {
     "data": {
      "image/png": "[encoded data removed]",
      "text/latex": [
       "$$\\left[\\begin{matrix}1 & 1 & \\frac{2}{3} & 1\\\\-8 & -5 & -2 & 4\\\\5 & 3 & 1 & -8\\end{matrix}\\right]$$"
      ],
      "text/plain": [
       "⎡1   1   2/3  1 ⎤\n",
       "⎢               ⎥\n",
       "⎢-8  -5  -2   4 ⎥\n",
       "⎢               ⎥\n",
       "⎣5   3    1   -8⎦"
      ]
     },
     "execution_count": 9,
     "metadata": {},
     "output_type": "execute_result"
    }
   ],
   "source": [
    "A1 = rop(A, 'R1*(-1/3)=>R1')\n",
    "A1"
   ]
  },
  {
   "cell_type": "code",
   "execution_count": 10,
   "metadata": {
    "collapsed": false
   },
   "outputs": [
    {
     "data": {
      "image/png": "[encoded data removed]",
      "text/latex": [
       "$$\\left[\\begin{matrix}1 & 1 & \\frac{2}{3} & 1\\\\0 & 3 & \\frac{10}{3} & 12\\\\0 & -2 & - \\frac{7}{3} & -13\\end{matrix}\\right]$$"
      ],
      "text/plain": [
       "⎡1  1   2/3    1 ⎤\n",
       "⎢                ⎥\n",
       "⎢0  3   10/3  12 ⎥\n",
       "⎢                ⎥\n",
       "⎣0  -2  -7/3  -13⎦"
      ]
     },
     "execution_count": 10,
     "metadata": {},
     "output_type": "execute_result"
    }
   ],
   "source": [
    "A2 = rop(A1, 'R1*(8)+R2=>R2', 'R1*(-5)+R3=>R3')\n",
    "A2"
   ]
  },
  {
   "cell_type": "code",
   "execution_count": 11,
   "metadata": {
    "collapsed": false
   },
   "outputs": [
    {
     "data": {
      "image/png": "[encoded data removed]",
      "text/latex": [
       "$$\\left[\\begin{matrix}1 & 1 & \\frac{2}{3} & 1\\\\0 & 1 & \\frac{10}{9} & 4\\\\0 & -2 & - \\frac{7}{3} & -13\\end{matrix}\\right]$$"
      ],
      "text/plain": [
       "⎡1  1   2/3    1 ⎤\n",
       "⎢                ⎥\n",
       "⎢0  1   10/9   4 ⎥\n",
       "⎢                ⎥\n",
       "⎣0  -2  -7/3  -13⎦"
      ]
     },
     "execution_count": 11,
     "metadata": {},
     "output_type": "execute_result"
    }
   ],
   "source": [
    "A3 = rop(A2, 'R2*(1/3)=>R2')\n",
    "A3"
   ]
  },
  {
   "cell_type": "code",
   "execution_count": 12,
   "metadata": {
    "collapsed": false
   },
   "outputs": [
    {
     "data": {
      "image/png": "[encoded data removed]",
      "text/latex": [
       "$$\\left[\\begin{matrix}1 & 0 & - \\frac{4}{9} & -3\\\\0 & 1 & \\frac{10}{9} & 4\\\\0 & 0 & - \\frac{1}{9} & -5\\end{matrix}\\right]$$"
      ],
      "text/plain": [
       "⎡1  0  -4/9  -3⎤\n",
       "⎢              ⎥\n",
       "⎢0  1  10/9  4 ⎥\n",
       "⎢              ⎥\n",
       "⎣0  0  -1/9  -5⎦"
      ]
     },
     "execution_count": 12,
     "metadata": {},
     "output_type": "execute_result"
    }
   ],
   "source": [
    "A4 = rop(A3, 'R2*(-1)+R1=>R1', 'R2*(2)+R3=>R3')\n",
    "A4"
   ]
  },
  {
   "cell_type": "code",
   "execution_count": 13,
   "metadata": {
    "collapsed": false
   },
   "outputs": [
    {
     "data": {
      "image/png": "[encoded data removed]",
      "text/latex": [
       "$$\\left[\\begin{matrix}1 & 0 & - \\frac{4}{9} & -3\\\\0 & 1 & \\frac{10}{9} & 4\\\\0 & 0 & 1 & 45\\end{matrix}\\right]$$"
      ],
      "text/plain": [
       "⎡1  0  -4/9  -3⎤\n",
       "⎢              ⎥\n",
       "⎢0  1  10/9  4 ⎥\n",
       "⎢              ⎥\n",
       "⎣0  0   1    45⎦"
      ]
     },
     "execution_count": 13,
     "metadata": {},
     "output_type": "execute_result"
    }
   ],
   "source": [
    "A5 = rop(A4, 'R3*(-9)=>R3')\n",
    "A5"
   ]
  },
  {
   "cell_type": "code",
   "execution_count": 14,
   "metadata": {
    "collapsed": false
   },
   "outputs": [
    {
     "data": {
      "image/png": "[encoded data removed]",
      "text/latex": [
       "$$\\left[\\begin{matrix}1 & 0 & 0 & 17\\\\0 & 1 & 0 & -46\\\\0 & 0 & 1 & 45\\end{matrix}\\right]$$"
      ],
      "text/plain": [
       "⎡1  0  0  17 ⎤\n",
       "⎢            ⎥\n",
       "⎢0  1  0  -46⎥\n",
       "⎢            ⎥\n",
       "⎣0  0  1  45 ⎦"
      ]
     },
     "execution_count": 14,
     "metadata": {},
     "output_type": "execute_result"
    }
   ],
   "source": [
    "A6 = rop(A5, 'R3*(4/9)+R1=>R1', 'R3*(-10/9)+R2=>R2')\n",
    "A6"
   ]
  },
  {
   "cell_type": "code",
   "execution_count": 15,
   "metadata": {
    "collapsed": false
   },
   "outputs": [
    {
     "name": "stdout",
     "output_type": "stream",
     "text": [
      "\\left[\\begin{matrix}-3 & -3 & -2 & -3\\\\-8 & -5 & -2 & 4\\\\5 & 3 & 1 & -8\\end{matrix}\\right]\n"
     ]
    }
   ],
   "source": [
    "print(latex(A))"
   ]
  },
  {
   "cell_type": "code",
   "execution_count": 16,
   "metadata": {
    "collapsed": false
   },
   "outputs": [
    {
     "name": "stdout",
     "output_type": "stream",
     "text": [
      "\\left[\\begin{matrix}1 & 0 & 0 & 17\\\\0 & 1 & 0 & -46\\\\0 & 0 & 1 & 45\\end{matrix}\\right]\n"
     ]
    }
   ],
   "source": [
    "print(latex(A6))"
   ]
  },
  {
   "cell_type": "markdown",
   "metadata": {},
   "source": [
    "# Exercise 3.1"
   ]
  },
  {
   "cell_type": "code",
   "execution_count": 17,
   "metadata": {
    "collapsed": false
   },
   "outputs": [
    {
     "data": {
      "image/png": "[encoded data removed]",
      "text/latex": [
       "$$\\left[\\begin{matrix}-31 & -16 & 4 & 2 & 1 & 0 & 0 & 0\\\\4 & 3 & 0 & 1 & 0 & 1 & 0 & 0\\\\13 & 4 & -3 & -4 & 0 & 0 & 1 & 0\\\\-5 & -2 & 1 & 1 & 0 & 0 & 0 & 1\\end{matrix}\\right]$$"
      ],
      "text/plain": [
       "⎡-31  -16  4   2   1  0  0  0⎤\n",
       "⎢                            ⎥\n",
       "⎢ 4    3   0   1   0  1  0  0⎥\n",
       "⎢                            ⎥\n",
       "⎢13    4   -3  -4  0  0  1  0⎥\n",
       "⎢                            ⎥\n",
       "⎣-5   -2   1   1   0  0  0  1⎦"
      ]
     },
     "execution_count": 17,
     "metadata": {},
     "output_type": "execute_result"
    }
   ],
   "source": [
    "A = matrix_to_rational([[-31, -16,  4,  2, 1, 0, 0, 0],\n",
    "                        [  4,   3,  0,  1, 0, 1, 0, 0],\n",
    "                        [ 13,   4, -3, -4, 0, 0, 1, 0],\n",
    "                        [ -5,  -2,  1,  1, 0, 0, 0, 1]])\n",
    "A"
   ]
  },
  {
   "cell_type": "code",
   "execution_count": 18,
   "metadata": {
    "collapsed": false
   },
   "outputs": [
    {
     "data": {
      "image/png": "[encoded data removed]",
      "text/latex": [
       "$$\\left[\\begin{matrix}1 & \\frac{16}{31} & - \\frac{4}{31} & - \\frac{2}{31} & - \\frac{1}{31} & 0 & 0 & 0\\\\4 & 3 & 0 & 1 & 0 & 1 & 0 & 0\\\\13 & 4 & -3 & -4 & 0 & 0 & 1 & 0\\\\-5 & -2 & 1 & 1 & 0 & 0 & 0 & 1\\end{matrix}\\right]$$"
      ],
      "text/plain": [
       "⎡    16                              ⎤\n",
       "⎢1   ──  -4/31  -2/31  -1/31  0  0  0⎥\n",
       "⎢    31                              ⎥\n",
       "⎢                                    ⎥\n",
       "⎢4   3     0      1      0    1  0  0⎥\n",
       "⎢                                    ⎥\n",
       "⎢13  4    -3     -4      0    0  1  0⎥\n",
       "⎢                                    ⎥\n",
       "⎣-5  -2    1      1      0    0  0  1⎦"
      ]
     },
     "execution_count": 18,
     "metadata": {},
     "output_type": "execute_result"
    }
   ],
   "source": [
    "A1 = rop(A, 'R1*(-1/31)=>R1')\n",
    "A1"
   ]
  },
  {
   "cell_type": "code",
   "execution_count": 19,
   "metadata": {
    "collapsed": false
   },
   "outputs": [
    {
     "data": {
      "image/png": "[encoded data removed]",
      "text/latex": [
       "$$\\left[\\begin{matrix}1 & \\frac{16}{31} & - \\frac{4}{31} & - \\frac{2}{31} & - \\frac{1}{31} & 0 & 0 & 0\\\\0 & \\frac{29}{31} & \\frac{16}{31} & \\frac{39}{31} & \\frac{4}{31} & 1 & 0 & 0\\\\0 & - \\frac{84}{31} & - \\frac{41}{31} & - \\frac{98}{31} & \\frac{13}{31} & 0 & 1 & 0\\\\0 & \\frac{18}{31} & \\frac{11}{31} & \\frac{21}{31} & - \\frac{5}{31} & 0 & 0 & 1\\end{matrix}\\right]$$"
      ],
      "text/plain": [
       "⎡    16                               ⎤\n",
       "⎢1   ──   -4/31  -2/31  -1/31  0  0  0⎥\n",
       "⎢    31                               ⎥\n",
       "⎢                                     ⎥\n",
       "⎢    29    16     39                  ⎥\n",
       "⎢0   ──    ──     ──    4/31   1  0  0⎥\n",
       "⎢    31    31     31                  ⎥\n",
       "⎢                                     ⎥\n",
       "⎢   -84   -41    -98     13           ⎥\n",
       "⎢0  ────  ────   ────    ──    0  1  0⎥\n",
       "⎢    31    31     31     31           ⎥\n",
       "⎢                                     ⎥\n",
       "⎢    18    11     21                  ⎥\n",
       "⎢0   ──    ──     ──    -5/31  0  0  1⎥\n",
       "⎣    31    31     31                  ⎦"
      ]
     },
     "execution_count": 19,
     "metadata": {},
     "output_type": "execute_result"
    }
   ],
   "source": [
    "A2 = rop(A1, 'R1*(-4)+R2=>R2', 'R1*(-13)+R3=>R3', 'R1*(5)+R4=>R4')\n",
    "A2"
   ]
  },
  {
   "cell_type": "code",
   "execution_count": 20,
   "metadata": {
    "collapsed": false
   },
   "outputs": [
    {
     "data": {
      "image/png": "[encoded data removed]",
      "text/latex": [
       "$$\\left[\\begin{matrix}1 & \\frac{16}{31} & - \\frac{4}{31} & - \\frac{2}{31} & - \\frac{1}{31} & 0 & 0 & 0\\\\0 & 1 & \\frac{16}{29} & \\frac{39}{29} & \\frac{4}{29} & \\frac{31}{29} & 0 & 0\\\\0 & - \\frac{84}{31} & - \\frac{41}{31} & - \\frac{98}{31} & \\frac{13}{31} & 0 & 1 & 0\\\\0 & \\frac{18}{31} & \\frac{11}{31} & \\frac{21}{31} & - \\frac{5}{31} & 0 & 0 & 1\\end{matrix}\\right]$$"
      ],
      "text/plain": [
       "⎡    16                                ⎤\n",
       "⎢1   ──   -4/31  -2/31  -1/31  0   0  0⎥\n",
       "⎢    31                                ⎥\n",
       "⎢                                      ⎥\n",
       "⎢          16     39           31      ⎥\n",
       "⎢0   1     ──     ──    4/29   ──  0  0⎥\n",
       "⎢          29     29           29      ⎥\n",
       "⎢                                      ⎥\n",
       "⎢   -84   -41    -98     13            ⎥\n",
       "⎢0  ────  ────   ────    ──    0   1  0⎥\n",
       "⎢    31    31     31     31            ⎥\n",
       "⎢                                      ⎥\n",
       "⎢    18    11     21                   ⎥\n",
       "⎢0   ──    ──     ──    -5/31  0   0  1⎥\n",
       "⎣    31    31     31                   ⎦"
      ]
     },
     "execution_count": 20,
     "metadata": {},
     "output_type": "execute_result"
    }
   ],
   "source": [
    "A3 = rop(A2, 'R2*(31/29)=>R2')\n",
    "A3"
   ]
  },
  {
   "cell_type": "code",
   "execution_count": 21,
   "metadata": {
    "collapsed": false
   },
   "outputs": [
    {
     "data": {
      "image/png": "[encoded data removed]",
      "text/latex": [
       "$$\\left[\\begin{matrix}1 & 0 & - \\frac{12}{29} & - \\frac{22}{29} & - \\frac{3}{29} & - \\frac{16}{29} & 0 & 0\\\\0 & 1 & \\frac{16}{29} & \\frac{39}{29} & \\frac{4}{29} & \\frac{31}{29} & 0 & 0\\\\0 & 0 & \\frac{5}{29} & \\frac{14}{29} & \\frac{23}{29} & \\frac{84}{29} & 1 & 0\\\\0 & 0 & \\frac{1}{29} & - \\frac{3}{29} & - \\frac{7}{29} & - \\frac{18}{29} & 0 & 1\\end{matrix}\\right]$$"
      ],
      "text/plain": [
       "⎡      -12   -22           -16       ⎤\n",
       "⎢1  0  ────  ────   -3/29  ────  0  0⎥\n",
       "⎢       29    29            29       ⎥\n",
       "⎢                                    ⎥\n",
       "⎢       16    39            31       ⎥\n",
       "⎢0  1   ──    ──    4/29    ──   0  0⎥\n",
       "⎢       29    29            29       ⎥\n",
       "⎢                                    ⎥\n",
       "⎢             14     23     84       ⎥\n",
       "⎢0  0  5/29   ──     ──     ──   1  0⎥\n",
       "⎢             29     29     29       ⎥\n",
       "⎢                                    ⎥\n",
       "⎢                          -18       ⎥\n",
       "⎢0  0  1/29  -3/29  -7/29  ────  0  1⎥\n",
       "⎣                           29       ⎦"
      ]
     },
     "execution_count": 21,
     "metadata": {},
     "output_type": "execute_result"
    }
   ],
   "source": [
    "A4 = rop(A3, 'R2*(-16/31)+R1=>R1', 'R2*(84/31)+R3=>R3', 'R2*(-18/31)+R4=>R4')\n",
    "A4"
   ]
  },
  {
   "cell_type": "code",
   "execution_count": 22,
   "metadata": {
    "collapsed": false
   },
   "outputs": [
    {
     "data": {
      "image/png": "[encoded data removed]",
      "text/latex": [
       "$$\\left[\\begin{matrix}1 & 0 & - \\frac{12}{29} & - \\frac{22}{29} & - \\frac{3}{29} & - \\frac{16}{29} & 0 & 0\\\\0 & 1 & \\frac{16}{29} & \\frac{39}{29} & \\frac{4}{29} & \\frac{31}{29} & 0 & 0\\\\0 & 0 & 1 & \\frac{14}{5} & \\frac{23}{5} & \\frac{84}{5} & \\frac{29}{5} & 0\\\\0 & 0 & \\frac{1}{29} & - \\frac{3}{29} & - \\frac{7}{29} & - \\frac{18}{29} & 0 & 1\\end{matrix}\\right]$$"
      ],
      "text/plain": [
       "⎡      -12   -22           -16          ⎤\n",
       "⎢1  0  ────  ────   -3/29  ────   0    0⎥\n",
       "⎢       29    29            29          ⎥\n",
       "⎢                                       ⎥\n",
       "⎢       16    39            31          ⎥\n",
       "⎢0  1   ──    ──    4/29    ──    0    0⎥\n",
       "⎢       29    29            29          ⎥\n",
       "⎢                                       ⎥\n",
       "⎢0  0   1    14/5   23/5   84/5  29/5  0⎥\n",
       "⎢                                       ⎥\n",
       "⎢                          -18          ⎥\n",
       "⎢0  0  1/29  -3/29  -7/29  ────   0    1⎥\n",
       "⎣                           29          ⎦"
      ]
     },
     "execution_count": 22,
     "metadata": {},
     "output_type": "execute_result"
    }
   ],
   "source": [
    "A5 = rop(A4, 'R3*(29/5)=>R3')\n",
    "A5"
   ]
  },
  {
   "cell_type": "code",
   "execution_count": 23,
   "metadata": {
    "collapsed": false
   },
   "outputs": [
    {
     "data": {
      "image/png": "[encoded data removed]",
      "text/latex": [
       "$$\\left[\\begin{matrix}1 & 0 & 0 & \\frac{2}{5} & \\frac{9}{5} & \\frac{32}{5} & \\frac{12}{5} & 0\\\\0 & 1 & 0 & - \\frac{1}{5} & - \\frac{12}{5} & - \\frac{41}{5} & - \\frac{16}{5} & 0\\\\0 & 0 & 1 & \\frac{14}{5} & \\frac{23}{5} & \\frac{84}{5} & \\frac{29}{5} & 0\\\\0 & 0 & 0 & - \\frac{1}{5} & - \\frac{2}{5} & - \\frac{6}{5} & - \\frac{1}{5} & 1\\end{matrix}\\right]$$"
      ],
      "text/plain": [
       "⎡1  0  0  2/5    9/5   32/5   12/5   0⎤\n",
       "⎢                                     ⎥\n",
       "⎢0  1  0  -1/5  -12/5  -41/5  -16/5  0⎥\n",
       "⎢                                     ⎥\n",
       "⎢0  0  1  14/5  23/5   84/5   29/5   0⎥\n",
       "⎢                                     ⎥\n",
       "⎣0  0  0  -1/5  -2/5   -6/5   -1/5   1⎦"
      ]
     },
     "execution_count": 23,
     "metadata": {},
     "output_type": "execute_result"
    }
   ],
   "source": [
    "A6 = rop(A5, 'R3*(12/29)+R1=>R1', 'R3*(-16/29)+R2=>R2', 'R3*(-1/29)+R4=>R4')\n",
    "A6"
   ]
  },
  {
   "cell_type": "code",
   "execution_count": 24,
   "metadata": {
    "collapsed": false
   },
   "outputs": [
    {
     "data": {
      "image/png": "[encoded data removed]",
      "text/latex": [
       "$$\\left[\\begin{matrix}1 & 0 & 0 & \\frac{2}{5} & \\frac{9}{5} & \\frac{32}{5} & \\frac{12}{5} & 0\\\\0 & 1 & 0 & - \\frac{1}{5} & - \\frac{12}{5} & - \\frac{41}{5} & - \\frac{16}{5} & 0\\\\0 & 0 & 1 & \\frac{14}{5} & \\frac{23}{5} & \\frac{84}{5} & \\frac{29}{5} & 0\\\\0 & 0 & 0 & 1 & 2 & 6 & 1 & -5\\end{matrix}\\right]$$"
      ],
      "text/plain": [
       "⎡1  0  0  2/5    9/5   32/5   12/5   0 ⎤\n",
       "⎢                                      ⎥\n",
       "⎢0  1  0  -1/5  -12/5  -41/5  -16/5  0 ⎥\n",
       "⎢                                      ⎥\n",
       "⎢0  0  1  14/5  23/5   84/5   29/5   0 ⎥\n",
       "⎢                                      ⎥\n",
       "⎣0  0  0   1      2      6      1    -5⎦"
      ]
     },
     "execution_count": 24,
     "metadata": {},
     "output_type": "execute_result"
    }
   ],
   "source": [
    "A7 = rop(A6, 'R4*(-5)=>R4')\n",
    "A7"
   ]
  },
  {
   "cell_type": "code",
   "execution_count": 25,
   "metadata": {
    "collapsed": false
   },
   "outputs": [
    {
     "data": {
      "image/png": "[encoded data removed]",
      "text/latex": [
       "$$\\left[\\begin{matrix}1 & 0 & 0 & 0 & 1 & 4 & 2 & 2\\\\0 & 1 & 0 & 0 & -2 & -7 & -3 & -1\\\\0 & 0 & 1 & 0 & -1 & 0 & 3 & 14\\\\0 & 0 & 0 & 1 & 2 & 6 & 1 & -5\\end{matrix}\\right]$$"
      ],
      "text/plain": [
       "⎡1  0  0  0  1   4   2   2 ⎤\n",
       "⎢                          ⎥\n",
       "⎢0  1  0  0  -2  -7  -3  -1⎥\n",
       "⎢                          ⎥\n",
       "⎢0  0  1  0  -1  0   3   14⎥\n",
       "⎢                          ⎥\n",
       "⎣0  0  0  1  2   6   1   -5⎦"
      ]
     },
     "execution_count": 25,
     "metadata": {},
     "output_type": "execute_result"
    }
   ],
   "source": [
    "A8 = rop(A7, 'R4*(-2/5)+R1=>R1', 'R4*(1/5)+R2=>R2', 'R4*(-14/5)+R3=>R3')\n",
    "A8"
   ]
  },
  {
   "cell_type": "markdown",
   "metadata": {},
   "source": [
    "# Exercise 4"
   ]
  },
  {
   "cell_type": "code",
   "execution_count": 26,
   "metadata": {
    "collapsed": false
   },
   "outputs": [
    {
     "data": {
      "image/png": "[encoded data removed]",
      "text/latex": [
       "$$\\left[\\begin{matrix}1 & 2 & -3 & 0 & k\\\\2 & 2 & -1 & 2 & 5\\\\3 & -1 & 2 & -2 & 3\\\\0 & 5 & -6 & 4 & 4\\end{matrix}\\right]$$"
      ],
      "text/plain": [
       "⎡1  2   -3  0   k⎤\n",
       "⎢                ⎥\n",
       "⎢2  2   -1  2   5⎥\n",
       "⎢                ⎥\n",
       "⎢3  -1  2   -2  3⎥\n",
       "⎢                ⎥\n",
       "⎣0  5   -6  4   4⎦"
      ]
     },
     "execution_count": 26,
     "metadata": {},
     "output_type": "execute_result"
    }
   ],
   "source": [
    "k = symbols('k')\n",
    "A = matrix_to_rational([[1,  2, -3,  0, k],\n",
    "                        [2,  2, -1,  2, 5],\n",
    "                        [3, -1,  2, -2, 3],\n",
    "                        [0,  5, -6,  4, 4]])\n",
    "A"
   ]
  },
  {
   "cell_type": "code",
   "execution_count": 27,
   "metadata": {
    "collapsed": false
   },
   "outputs": [
    {
     "data": {
      "image/png": "[encoded data removed]",
      "text/latex": [
       "$$\\left[\\begin{matrix}1 & 2 & -3 & 0 & k\\\\0 & -2 & 5 & 2 & - 2 k + 5\\\\0 & -7 & 11 & -2 & - 3 k + 3\\\\0 & 5 & -6 & 4 & 4\\end{matrix}\\right]$$"
      ],
      "text/plain": [
       "⎡1  2   -3  0      k    ⎤\n",
       "⎢                       ⎥\n",
       "⎢0  -2  5   2   -2⋅k + 5⎥\n",
       "⎢                       ⎥\n",
       "⎢0  -7  11  -2  -3⋅k + 3⎥\n",
       "⎢                       ⎥\n",
       "⎣0  5   -6  4      4    ⎦"
      ]
     },
     "execution_count": 27,
     "metadata": {},
     "output_type": "execute_result"
    }
   ],
   "source": [
    "A1 = rop(A, 'R1*(-2)+R2=>R2', 'R1*(-3)+R3=>R3')\n",
    "A1"
   ]
  },
  {
   "cell_type": "code",
   "execution_count": 28,
   "metadata": {
    "collapsed": false
   },
   "outputs": [
    {
     "data": {
      "image/png": "[encoded data removed]",
      "text/latex": [
       "$$\\left[\\begin{matrix}1 & 2 & -3 & 0 & k\\\\0 & 1 & - \\frac{5}{2} & -1 & k - \\frac{5}{2}\\\\0 & -7 & 11 & -2 & - 3 k + 3\\\\0 & 5 & -6 & 4 & 4\\end{matrix}\\right]$$"
      ],
      "text/plain": [
       "⎡1  2    -3   0      k    ⎤\n",
       "⎢                         ⎥\n",
       "⎢0  1   -5/2  -1  k - 5/2 ⎥\n",
       "⎢                         ⎥\n",
       "⎢0  -7   11   -2  -3⋅k + 3⎥\n",
       "⎢                         ⎥\n",
       "⎣0  5    -6   4      4    ⎦"
      ]
     },
     "execution_count": 28,
     "metadata": {},
     "output_type": "execute_result"
    }
   ],
   "source": [
    "A2 = rop(A1, 'R2*(-1/2)=>R2')\n",
    "A2"
   ]
  },
  {
   "cell_type": "code",
   "execution_count": 29,
   "metadata": {
    "collapsed": false
   },
   "outputs": [
    {
     "data": {
      "image/png": "[encoded data removed]",
      "text/latex": [
       "$$\\left[\\begin{matrix}1 & 0 & 2 & 2 & - k + 5\\\\0 & 1 & - \\frac{5}{2} & -1 & k - \\frac{5}{2}\\\\0 & 0 & - \\frac{13}{2} & -9 & 4 k - \\frac{29}{2}\\\\0 & 0 & \\frac{13}{2} & 9 & - 5 k + \\frac{33}{2}\\end{matrix}\\right]$$"
      ],
      "text/plain": [
       "⎡1  0    2    2     -k + 5   ⎤\n",
       "⎢                            ⎥\n",
       "⎢0  1  -5/2   -1    k - 5/2  ⎥\n",
       "⎢                            ⎥\n",
       "⎢0  0  -13/2  -9  4⋅k - 29/2 ⎥\n",
       "⎢                            ⎥\n",
       "⎣0  0  13/2   9   -5⋅k + 33/2⎦"
      ]
     },
     "execution_count": 29,
     "metadata": {},
     "output_type": "execute_result"
    }
   ],
   "source": [
    "A3 = rop(A2, 'R2*(-2)+R1=>R1', 'R2*(7)+R3=>R3', 'R2*(-5)+R4=>R4')\n",
    "A3"
   ]
  },
  {
   "cell_type": "code",
   "execution_count": 30,
   "metadata": {
    "collapsed": false
   },
   "outputs": [
    {
     "data": {
      "image/png": "[encoded data removed]",
      "text/latex": [
       "$$\\left[\\begin{matrix}1 & 0 & 2 & 2 & - k + 5\\\\0 & 1 & - \\frac{5}{2} & -1 & k - \\frac{5}{2}\\\\0 & 0 & 1 & \\frac{18}{13} & - \\frac{8 k}{13} + \\frac{29}{13}\\\\0 & 0 & \\frac{13}{2} & 9 & - 5 k + \\frac{33}{2}\\end{matrix}\\right]$$"
      ],
      "text/plain": [
       "⎡1  0   2    2     -k + 5   ⎤\n",
       "⎢                           ⎥\n",
       "⎢0  1  -5/2  -1    k - 5/2  ⎥\n",
       "⎢                           ⎥\n",
       "⎢            18    8⋅k   29 ⎥\n",
       "⎢0  0   1    ──  - ─── + ── ⎥\n",
       "⎢            13     13   13 ⎥\n",
       "⎢                           ⎥\n",
       "⎣0  0  13/2  9   -5⋅k + 33/2⎦"
      ]
     },
     "execution_count": 30,
     "metadata": {},
     "output_type": "execute_result"
    }
   ],
   "source": [
    "A4 = rop(A3, 'R3*(-2/13)=>R3')\n",
    "A4"
   ]
  },
  {
   "cell_type": "code",
   "execution_count": 31,
   "metadata": {
    "collapsed": false
   },
   "outputs": [
    {
     "data": {
      "image/png": "[encoded data removed]",
      "text/latex": [
       "$$\\left[\\begin{matrix}1 & 0 & 0 & - \\frac{10}{13} & \\frac{3 k}{13} + \\frac{7}{13}\\\\0 & 1 & 0 & \\frac{32}{13} & - \\frac{7 k}{13} + \\frac{40}{13}\\\\0 & 0 & 1 & \\frac{18}{13} & - \\frac{8 k}{13} + \\frac{29}{13}\\\\0 & 0 & 0 & 0 & - k + 2\\end{matrix}\\right]$$"
      ],
      "text/plain": [
       "⎡         -10    3⋅k   7  ⎤\n",
       "⎢1  0  0  ────   ─── + ── ⎥\n",
       "⎢          13     13   13 ⎥\n",
       "⎢                         ⎥\n",
       "⎢          32     7⋅k   40⎥\n",
       "⎢0  1  0   ──   - ─── + ──⎥\n",
       "⎢          13      13   13⎥\n",
       "⎢                         ⎥\n",
       "⎢          18     8⋅k   29⎥\n",
       "⎢0  0  1   ──   - ─── + ──⎥\n",
       "⎢          13      13   13⎥\n",
       "⎢                         ⎥\n",
       "⎣0  0  0   0      -k + 2  ⎦"
      ]
     },
     "execution_count": 31,
     "metadata": {},
     "output_type": "execute_result"
    }
   ],
   "source": [
    "A5 = rop(A4, 'R3*(-2)+R1=>R1', 'R3*(5/2)+R2=>R2', 'R3*(-13/2)+R4=>R4')\n",
    "A5"
   ]
  },
  {
   "cell_type": "markdown",
   "metadata": {},
   "source": [
    "# Exercise 6"
   ]
  },
  {
   "cell_type": "code",
   "execution_count": 32,
   "metadata": {
    "collapsed": false
   },
   "outputs": [
    {
     "data": {
      "image/png": "[encoded data removed]",
      "text/latex": [
       "$$\\left[\\begin{matrix}1 & -1 & 3 & x\\\\-1 & 0 & -2 & y\\\\1 & -1 & 2 & z\\end{matrix}\\right]$$"
      ],
      "text/plain": [
       "⎡1   -1  3   x⎤\n",
       "⎢             ⎥\n",
       "⎢-1  0   -2  y⎥\n",
       "⎢             ⎥\n",
       "⎣1   -1  2   z⎦"
      ]
     },
     "execution_count": 32,
     "metadata": {},
     "output_type": "execute_result"
    }
   ],
   "source": [
    "x,y,z = symbols('x,y,z')\n",
    "A = matrix_to_rational([[ 1, -1,  3, x],\n",
    "                        [-1,  0, -2, y],\n",
    "                        [ 1, -1,  2, z]])\n",
    "A"
   ]
  },
  {
   "cell_type": "code",
   "execution_count": 33,
   "metadata": {
    "collapsed": false
   },
   "outputs": [
    {
     "data": {
      "image/png": "[encoded data removed]",
      "text/latex": [
       "$$\\left[\\begin{matrix}1 & -1 & 3 & x\\\\0 & -1 & 1 & x + y\\\\0 & 0 & -1 & - x + z\\end{matrix}\\right]$$"
      ],
      "text/plain": [
       "⎡1  -1  3     x   ⎤\n",
       "⎢                 ⎥\n",
       "⎢0  -1  1   x + y ⎥\n",
       "⎢                 ⎥\n",
       "⎣0  0   -1  -x + z⎦"
      ]
     },
     "execution_count": 33,
     "metadata": {},
     "output_type": "execute_result"
    }
   ],
   "source": [
    "A1 = rop(A, 'R1*(1)+R2=>R2', 'R1*(-1)+R3=>R3')\n",
    "A1"
   ]
  },
  {
   "cell_type": "code",
   "execution_count": 34,
   "metadata": {
    "collapsed": false
   },
   "outputs": [
    {
     "data": {
      "image/png": "[encoded data removed]",
      "text/latex": [
       "$$\\left[\\begin{matrix}1 & -1 & 3 & x\\\\0 & 1 & -1 & - x - y\\\\0 & 0 & -1 & - x + z\\end{matrix}\\right]$$"
      ],
      "text/plain": [
       "⎡1  -1  3     x   ⎤\n",
       "⎢                 ⎥\n",
       "⎢0  1   -1  -x - y⎥\n",
       "⎢                 ⎥\n",
       "⎣0  0   -1  -x + z⎦"
      ]
     },
     "execution_count": 34,
     "metadata": {},
     "output_type": "execute_result"
    }
   ],
   "source": [
    "A2 = rop(A1, 'R2*(-1)=>R2')\n",
    "A2"
   ]
  },
  {
   "cell_type": "code",
   "execution_count": 35,
   "metadata": {
    "collapsed": false
   },
   "outputs": [
    {
     "data": {
      "image/png": "[encoded data removed]",
      "text/latex": [
       "$$\\left[\\begin{matrix}1 & 0 & 2 & - y\\\\0 & 1 & -1 & - x - y\\\\0 & 0 & -1 & - x + z\\end{matrix}\\right]$$"
      ],
      "text/plain": [
       "⎡1  0  2     -y  ⎤\n",
       "⎢                ⎥\n",
       "⎢0  1  -1  -x - y⎥\n",
       "⎢                ⎥\n",
       "⎣0  0  -1  -x + z⎦"
      ]
     },
     "execution_count": 35,
     "metadata": {},
     "output_type": "execute_result"
    }
   ],
   "source": [
    "A3 = rop(A2, 'R2*(1)+R1=>R1')\n",
    "A3"
   ]
  },
  {
   "cell_type": "code",
   "execution_count": 36,
   "metadata": {
    "collapsed": false
   },
   "outputs": [
    {
     "data": {
      "image/png": "[encoded data removed]",
      "text/latex": [
       "$$\\left[\\begin{matrix}1 & 0 & 2 & - y\\\\0 & 1 & -1 & - x - y\\\\0 & 0 & 1 & x - z\\end{matrix}\\right]$$"
      ],
      "text/plain": [
       "⎡1  0  2     -y  ⎤\n",
       "⎢                ⎥\n",
       "⎢0  1  -1  -x - y⎥\n",
       "⎢                ⎥\n",
       "⎣0  0  1   x - z ⎦"
      ]
     },
     "execution_count": 36,
     "metadata": {},
     "output_type": "execute_result"
    }
   ],
   "source": [
    "A4 = rop(A3, 'R3*(-1)=>R3')\n",
    "A4"
   ]
  },
  {
   "cell_type": "code",
   "execution_count": 37,
   "metadata": {
    "collapsed": false
   },
   "outputs": [
    {
     "data": {
      "image/png": "[encoded data removed]",
      "text/latex": [
       "$$\\left[\\begin{matrix}1 & 0 & 0 & - 2 x - y + 2 z\\\\0 & 1 & 0 & - y - z\\\\0 & 0 & 1 & x - z\\end{matrix}\\right]$$"
      ],
      "text/plain": [
       "⎡1  0  0  -2⋅x - y + 2⋅z⎤\n",
       "⎢                       ⎥\n",
       "⎢0  1  0      -y - z    ⎥\n",
       "⎢                       ⎥\n",
       "⎣0  0  1      x - z     ⎦"
      ]
     },
     "execution_count": 37,
     "metadata": {},
     "output_type": "execute_result"
    }
   ],
   "source": [
    "A5 = rop(A4, 'R3*(-2)+R1=>R1', 'R3*(1)+R2=>R2')\n",
    "A5"
   ]
  },
  {
   "cell_type": "markdown",
   "metadata": {},
   "source": [
    "# Exercise 7, Part 4"
   ]
  },
  {
   "cell_type": "code",
   "execution_count": 62,
   "metadata": {
    "collapsed": false
   },
   "outputs": [
    {
     "data": {
      "image/png": "[encoded data removed]",
      "text/latex": [
       "$$\\left[\\begin{matrix}2 & 2 & 1\\\\-3 & 2 & 0\\\\0 & -3 & 2\\end{matrix}\\right]$$"
      ],
      "text/plain": [
       "⎡2   2   1⎤\n",
       "⎢         ⎥\n",
       "⎢-3  2   0⎥\n",
       "⎢         ⎥\n",
       "⎣0   -3  2⎦"
      ]
     },
     "execution_count": 62,
     "metadata": {},
     "output_type": "execute_result"
    }
   ],
   "source": [
    "A = matrix_to_rational([[ 2, 2, 1],\n",
    "                        [-3, 2, 0],\n",
    "                        [ 0,-3, 2]])\n",
    "A"
   ]
  },
  {
   "cell_type": "code",
   "execution_count": 63,
   "metadata": {
    "collapsed": false
   },
   "outputs": [
    {
     "data": {
      "image/png": "[encoded data removed]",
      "text/latex": [
       "$$\\left[\\begin{matrix}1 & 1 & \\frac{1}{2}\\\\-3 & 2 & 0\\\\0 & -3 & 2\\end{matrix}\\right]$$"
      ],
      "text/plain": [
       "⎡1   1   1/2⎤\n",
       "⎢           ⎥\n",
       "⎢-3  2    0 ⎥\n",
       "⎢           ⎥\n",
       "⎣0   -3   2 ⎦"
      ]
     },
     "execution_count": 63,
     "metadata": {},
     "output_type": "execute_result"
    }
   ],
   "source": [
    "A1 = rop(A, 'R1*(1/2)=>R1')\n",
    "A1"
   ]
  },
  {
   "cell_type": "code",
   "execution_count": 64,
   "metadata": {
    "collapsed": false
   },
   "outputs": [
    {
     "data": {
      "image/png": "[encoded data removed]",
      "text/latex": [
       "$$\\left[\\begin{matrix}1 & 1 & \\frac{1}{2}\\\\0 & 5 & \\frac{3}{2}\\\\0 & -3 & 2\\end{matrix}\\right]$$"
      ],
      "text/plain": [
       "⎡1  1   1/2⎤\n",
       "⎢          ⎥\n",
       "⎢0  5   3/2⎥\n",
       "⎢          ⎥\n",
       "⎣0  -3   2 ⎦"
      ]
     },
     "execution_count": 64,
     "metadata": {},
     "output_type": "execute_result"
    }
   ],
   "source": [
    "A2 = rop(A1, 'R1*(3)+R2=>R2')\n",
    "A2"
   ]
  },
  {
   "cell_type": "code",
   "execution_count": 65,
   "metadata": {
    "collapsed": false
   },
   "outputs": [
    {
     "data": {
      "image/png": "[encoded data removed]",
      "text/latex": [
       "$$\\left[\\begin{matrix}1 & 1 & \\frac{1}{2}\\\\0 & 1 & \\frac{3}{10}\\\\0 & -3 & 2\\end{matrix}\\right]$$"
      ],
      "text/plain": [
       "⎡1  1   1/2 ⎤\n",
       "⎢           ⎥\n",
       "⎢0  1   3/10⎥\n",
       "⎢           ⎥\n",
       "⎣0  -3   2  ⎦"
      ]
     },
     "execution_count": 65,
     "metadata": {},
     "output_type": "execute_result"
    }
   ],
   "source": [
    "A3 = rop(A2, 'R2*(1/5)=>R2')\n",
    "A3"
   ]
  },
  {
   "cell_type": "code",
   "execution_count": 42,
   "metadata": {
    "collapsed": false
   },
   "outputs": [
    {
     "data": {
      "image/png": "[encoded data removed]",
      "text/latex": [
       "$$\\left[\\begin{matrix}1 & 0 & \\frac{1}{5}\\\\0 & 1 & \\frac{3}{10}\\\\0 & 0 & \\frac{29}{10}\\end{matrix}\\right]$$"
      ],
      "text/plain": [
       "⎡1  0  1/5 ⎤\n",
       "⎢          ⎥\n",
       "⎢0  1  3/10⎥\n",
       "⎢          ⎥\n",
       "⎢       29 ⎥\n",
       "⎢0  0   ── ⎥\n",
       "⎣       10 ⎦"
      ]
     },
     "execution_count": 42,
     "metadata": {},
     "output_type": "execute_result"
    }
   ],
   "source": [
    "A4 = rop(A3, 'R2*(-1)+R1=>R1', 'R2*(3)+R3=>R3')\n",
    "A4"
   ]
  },
  {
   "cell_type": "markdown",
   "metadata": {},
   "source": [
    "# Exercise 7, Part 5"
   ]
  },
  {
   "cell_type": "code",
   "execution_count": 43,
   "metadata": {
    "collapsed": false
   },
   "outputs": [
    {
     "data": {
      "image/png": "[encoded data removed]",
      "text/latex": [
       "$$\\left[\\begin{matrix}2 & -3 & 0 & 0\\\\2 & 3 & -3 & 0\\end{matrix}\\right]$$"
      ],
      "text/plain": [
       "⎡2  -3  0   0⎤\n",
       "⎢            ⎥\n",
       "⎣2  3   -3  0⎦"
      ]
     },
     "execution_count": 43,
     "metadata": {},
     "output_type": "execute_result"
    }
   ],
   "source": [
    "A = matrix_to_rational([[2, -3,  0, 0],\n",
    "                        [2,  3, -3, 0]])\n",
    "A"
   ]
  },
  {
   "cell_type": "code",
   "execution_count": 44,
   "metadata": {
    "collapsed": false
   },
   "outputs": [
    {
     "data": {
      "image/png": "[encoded data removed]",
      "text/latex": [
       "$$\\left[\\begin{matrix}1 & - \\frac{3}{2} & 0 & 0\\\\2 & 3 & -3 & 0\\end{matrix}\\right]$$"
      ],
      "text/plain": [
       "⎡1  -3/2  0   0⎤\n",
       "⎢              ⎥\n",
       "⎣2   3    -3  0⎦"
      ]
     },
     "execution_count": 44,
     "metadata": {},
     "output_type": "execute_result"
    }
   ],
   "source": [
    "A1 = rop(A, 'R1*(1/2)=>R1')\n",
    "A1"
   ]
  },
  {
   "cell_type": "code",
   "execution_count": 45,
   "metadata": {
    "collapsed": false
   },
   "outputs": [
    {
     "data": {
      "image/png": "[encoded data removed]",
      "text/latex": [
       "$$\\left[\\begin{matrix}1 & - \\frac{3}{2} & 0 & 0\\\\0 & 6 & -3 & 0\\end{matrix}\\right]$$"
      ],
      "text/plain": [
       "⎡1  -3/2  0   0⎤\n",
       "⎢              ⎥\n",
       "⎣0   6    -3  0⎦"
      ]
     },
     "execution_count": 45,
     "metadata": {},
     "output_type": "execute_result"
    }
   ],
   "source": [
    "A2 = rop(A1, 'R1*(-2)+R2=>R2')\n",
    "A2"
   ]
  },
  {
   "cell_type": "code",
   "execution_count": 46,
   "metadata": {
    "collapsed": false
   },
   "outputs": [
    {
     "data": {
      "image/png": "[encoded data removed]",
      "text/latex": [
       "$$\\left[\\begin{matrix}1 & - \\frac{3}{2} & 0 & 0\\\\0 & 1 & - \\frac{1}{2} & 0\\end{matrix}\\right]$$"
      ],
      "text/plain": [
       "⎡1  -3/2   0    0⎤\n",
       "⎢                ⎥\n",
       "⎣0   1    -1/2  0⎦"
      ]
     },
     "execution_count": 46,
     "metadata": {},
     "output_type": "execute_result"
    }
   ],
   "source": [
    "A3 = rop(A2, 'R2*(1/6)=>R2')\n",
    "A3"
   ]
  },
  {
   "cell_type": "code",
   "execution_count": 47,
   "metadata": {
    "collapsed": false
   },
   "outputs": [
    {
     "data": {
      "image/png": "[encoded data removed]",
      "text/latex": [
       "$$\\left[\\begin{matrix}1 & 0 & - \\frac{3}{4} & 0\\\\0 & 1 & - \\frac{1}{2} & 0\\end{matrix}\\right]$$"
      ],
      "text/plain": [
       "⎡1  0  -3/4  0⎤\n",
       "⎢             ⎥\n",
       "⎣0  1  -1/2  0⎦"
      ]
     },
     "execution_count": 47,
     "metadata": {},
     "output_type": "execute_result"
    }
   ],
   "source": [
    "A4 = rop(A3, 'R2*(3/2)+R1=>R1')\n",
    "A4"
   ]
  },
  {
   "cell_type": "markdown",
   "metadata": {},
   "source": [
    "# Exercise 8"
   ]
  },
  {
   "cell_type": "code",
   "execution_count": 48,
   "metadata": {
    "collapsed": false
   },
   "outputs": [
    {
     "data": {
      "image/png": "[encoded data removed]",
      "text/latex": [
       "$$\\left[\\begin{matrix}1 & 1 & -8 & 5 & x\\\\3 & 2 & -3 & 2 & y\\\\-8 & -3 & 2 & -1 & z\\\\5 & 2 & -1 & 1 & t\\end{matrix}\\right]$$"
      ],
      "text/plain": [
       "⎡1   1   -8  5   x⎤\n",
       "⎢                 ⎥\n",
       "⎢3   2   -3  2   y⎥\n",
       "⎢                 ⎥\n",
       "⎢-8  -3  2   -1  z⎥\n",
       "⎢                 ⎥\n",
       "⎣5   2   -1  1   t⎦"
      ]
     },
     "execution_count": 48,
     "metadata": {},
     "output_type": "execute_result"
    }
   ],
   "source": [
    "x,y,z,t = symbols('x,y,z,t')\n",
    "A = matrix_to_rational([[1,  1,  -8,  5, x],\n",
    "                        [3,  2,  -3,  2, y],\n",
    "                        [-8, -3,  2, -1, z],\n",
    "                        [ 5,  2, -1,  1, t]])\n",
    "A"
   ]
  },
  {
   "cell_type": "code",
   "execution_count": 49,
   "metadata": {
    "collapsed": false
   },
   "outputs": [
    {
     "data": {
      "image/png": "[encoded data removed]",
      "text/latex": [
       "$$\\left[\\begin{matrix}1 & 1 & -8 & 5 & x\\\\0 & -1 & 21 & -13 & - 3 x + y\\\\0 & 5 & -62 & 39 & 8 x + z\\\\0 & -3 & 39 & -24 & t - 5 x\\end{matrix}\\right]$$"
      ],
      "text/plain": [
       "⎡1  1   -8    5      x    ⎤\n",
       "⎢                         ⎥\n",
       "⎢0  -1  21   -13  -3⋅x + y⎥\n",
       "⎢                         ⎥\n",
       "⎢0  5   -62  39   8⋅x + z ⎥\n",
       "⎢                         ⎥\n",
       "⎣0  -3  39   -24  t - 5⋅x ⎦"
      ]
     },
     "execution_count": 49,
     "metadata": {},
     "output_type": "execute_result"
    }
   ],
   "source": [
    "A1 = rop(A, 'R1*(-3)+R2=>R2', 'R1*(8)+R3=>R3', 'R1*(-5)+R4=>R4')\n",
    "A1"
   ]
  },
  {
   "cell_type": "code",
   "execution_count": 50,
   "metadata": {
    "collapsed": false
   },
   "outputs": [
    {
     "data": {
      "image/png": "[encoded data removed]",
      "text/latex": [
       "$$\\left[\\begin{matrix}1 & 1 & -8 & 5 & x\\\\0 & 1 & -21 & 13 & 3 x - y\\\\0 & 5 & -62 & 39 & 8 x + z\\\\0 & -3 & 39 & -24 & t - 5 x\\end{matrix}\\right]$$"
      ],
      "text/plain": [
       "⎡1  1   -8    5      x   ⎤\n",
       "⎢                        ⎥\n",
       "⎢0  1   -21  13   3⋅x - y⎥\n",
       "⎢                        ⎥\n",
       "⎢0  5   -62  39   8⋅x + z⎥\n",
       "⎢                        ⎥\n",
       "⎣0  -3  39   -24  t - 5⋅x⎦"
      ]
     },
     "execution_count": 50,
     "metadata": {},
     "output_type": "execute_result"
    }
   ],
   "source": [
    "A2 = rop(A1, 'R2*(-1)=>R2')\n",
    "A2"
   ]
  },
  {
   "cell_type": "code",
   "execution_count": 51,
   "metadata": {
    "collapsed": false
   },
   "outputs": [
    {
     "data": {
      "image/png": "[encoded data removed]",
      "text/latex": [
       "$$\\left[\\begin{matrix}1 & 0 & 13 & -8 & - 2 x + y\\\\0 & 1 & -21 & 13 & 3 x - y\\\\0 & 0 & 43 & -26 & - 7 x + 5 y + z\\\\0 & 0 & -24 & 15 & t + 4 x - 3 y\\end{matrix}\\right]$$"
      ],
      "text/plain": [
       "⎡1  0  13   -8      -2⋅x + y   ⎤\n",
       "⎢                              ⎥\n",
       "⎢0  1  -21  13      3⋅x - y    ⎥\n",
       "⎢                              ⎥\n",
       "⎢0  0  43   -26  -7⋅x + 5⋅y + z⎥\n",
       "⎢                              ⎥\n",
       "⎣0  0  -24  15   t + 4⋅x - 3⋅y ⎦"
      ]
     },
     "execution_count": 51,
     "metadata": {},
     "output_type": "execute_result"
    }
   ],
   "source": [
    "A3 = rop(A2, 'R2*(-1)+R1=>R1', 'R2*(-5)+R3=>R3', 'R2*(3)+R4=>R4')\n",
    "A3"
   ]
  },
  {
   "cell_type": "code",
   "execution_count": 52,
   "metadata": {
    "collapsed": false
   },
   "outputs": [
    {
     "data": {
      "image/png": "[encoded data removed]",
      "text/latex": [
       "$$\\left[\\begin{matrix}1 & 0 & 13 & -8 & - 2 x + y\\\\0 & 1 & -21 & 13 & 3 x - y\\\\0 & 0 & 1 & - \\frac{26}{43} & - \\frac{7 x}{43} + \\frac{5 y}{43} + \\frac{z}{43}\\\\0 & 0 & -24 & 15 & t + 4 x - 3 y\\end{matrix}\\right]$$"
      ],
      "text/plain": [
       "⎡1  0  13    -8       -2⋅x + y    ⎤\n",
       "⎢                                 ⎥\n",
       "⎢0  1  -21   13       3⋅x - y     ⎥\n",
       "⎢                                 ⎥\n",
       "⎢           -26     7⋅x   5⋅y   z ⎥\n",
       "⎢0  0   1   ────  - ─── + ─── + ──⎥\n",
       "⎢            43      43    43   43⎥\n",
       "⎢                                 ⎥\n",
       "⎣0  0  -24   15    t + 4⋅x - 3⋅y  ⎦"
      ]
     },
     "execution_count": 52,
     "metadata": {},
     "output_type": "execute_result"
    }
   ],
   "source": [
    "A4 = rop(A3, 'R3*(1/43)=>R3')\n",
    "A4"
   ]
  },
  {
   "cell_type": "code",
   "execution_count": 53,
   "metadata": {
    "collapsed": false
   },
   "outputs": [
    {
     "data": {
      "image/png": "[encoded data removed]",
      "text/latex": [
       "$$\\left[\\begin{matrix}1 & 0 & 0 & - \\frac{6}{43} & \\frac{5 x}{43} - \\frac{22 y}{43} - \\frac{13 z}{43}\\\\0 & 1 & 0 & \\frac{13}{43} & - \\frac{18 x}{43} + \\frac{62 y}{43} + \\frac{21 z}{43}\\\\0 & 0 & 1 & - \\frac{26}{43} & - \\frac{7 x}{43} + \\frac{5 y}{43} + \\frac{z}{43}\\\\0 & 0 & 0 & \\frac{21}{43} & t + \\frac{4 x}{43} - \\frac{9 y}{43} + \\frac{24 z}{43}\\end{matrix}\\right]$$"
      ],
      "text/plain": [
       "⎡                 5⋅x   22⋅y   13⋅z  ⎤\n",
       "⎢1  0  0  -6/43   ─── - ──── - ────  ⎥\n",
       "⎢                  43    43     43   ⎥\n",
       "⎢                                    ⎥\n",
       "⎢          13      18⋅x   62⋅y   21⋅z⎥\n",
       "⎢0  1  0   ──    - ──── + ──── + ────⎥\n",
       "⎢          43       43     43     43 ⎥\n",
       "⎢                                    ⎥\n",
       "⎢         -26        7⋅x   5⋅y   z   ⎥\n",
       "⎢0  0  1  ────     - ─── + ─── + ──  ⎥\n",
       "⎢          43         43    43   43  ⎥\n",
       "⎢                                    ⎥\n",
       "⎢          21        4⋅x   9⋅y   24⋅z⎥\n",
       "⎢0  0  0   ──    t + ─── - ─── + ────⎥\n",
       "⎣          43         43    43    43 ⎦"
      ]
     },
     "execution_count": 53,
     "metadata": {},
     "output_type": "execute_result"
    }
   ],
   "source": [
    "A5 = rop(A4, 'R3*(-13)+R1=>R1', 'R3*(21)+R2=>R2', 'R3*(24)+R4=>R4')\n",
    "A5"
   ]
  },
  {
   "cell_type": "code",
   "execution_count": 54,
   "metadata": {
    "collapsed": false
   },
   "outputs": [
    {
     "data": {
      "image/png": "[encoded data removed]",
      "text/latex": [
       "$$\\left[\\begin{matrix}1 & 0 & 0 & - \\frac{6}{43} & \\frac{5 x}{43} - \\frac{22 y}{43} - \\frac{13 z}{43}\\\\0 & 1 & 0 & \\frac{13}{43} & - \\frac{18 x}{43} + \\frac{62 y}{43} + \\frac{21 z}{43}\\\\0 & 0 & 1 & - \\frac{26}{43} & - \\frac{7 x}{43} + \\frac{5 y}{43} + \\frac{z}{43}\\\\0 & 0 & 0 & 1 & \\frac{43 t}{21} + \\frac{4 x}{21} - \\frac{3 y}{7} + \\frac{8 z}{7}\\end{matrix}\\right]$$"
      ],
      "text/plain": [
       "⎡                  5⋅x   22⋅y   13⋅z   ⎤\n",
       "⎢1  0  0  -6/43    ─── - ──── - ────   ⎥\n",
       "⎢                   43    43     43    ⎥\n",
       "⎢                                      ⎥\n",
       "⎢          13       18⋅x   62⋅y   21⋅z ⎥\n",
       "⎢0  1  0   ──     - ──── + ──── + ──── ⎥\n",
       "⎢          43        43     43     43  ⎥\n",
       "⎢                                      ⎥\n",
       "⎢         -26         7⋅x   5⋅y   z    ⎥\n",
       "⎢0  0  1  ────      - ─── + ─── + ──   ⎥\n",
       "⎢          43          43    43   43   ⎥\n",
       "⎢                                      ⎥\n",
       "⎢                43⋅t   4⋅x   3⋅y   8⋅z⎥\n",
       "⎢0  0  0    1    ──── + ─── - ─── + ───⎥\n",
       "⎣                 21     21    7     7 ⎦"
      ]
     },
     "execution_count": 54,
     "metadata": {},
     "output_type": "execute_result"
    }
   ],
   "source": [
    "A6 = rop(A5, 'R4*(43/21)=>R4')\n",
    "A6"
   ]
  },
  {
   "cell_type": "code",
   "execution_count": 55,
   "metadata": {
    "collapsed": false
   },
   "outputs": [
    {
     "data": {
      "image/png": "[encoded data removed]",
      "text/latex": [
       "$$\\left[\\begin{matrix}1 & 0 & 0 & 0 & \\frac{2 t}{7} + \\frac{x}{7} - \\frac{4 y}{7} - \\frac{z}{7}\\\\0 & 1 & 0 & 0 & - \\frac{13 t}{21} - \\frac{10 x}{21} + \\frac{11 y}{7} + \\frac{z}{7}\\\\0 & 0 & 1 & 0 & \\frac{26 t}{21} - \\frac{x}{21} - \\frac{y}{7} + \\frac{5 z}{7}\\\\0 & 0 & 0 & 1 & \\frac{43 t}{21} + \\frac{4 x}{21} - \\frac{3 y}{7} + \\frac{8 z}{7}\\end{matrix}\\right]$$"
      ],
      "text/plain": [
       "⎡               2⋅t   x   4⋅y   z    ⎤\n",
       "⎢1  0  0  0     ─── + ─ - ─── - ─    ⎥\n",
       "⎢                7    7    7    7    ⎥\n",
       "⎢                                    ⎥\n",
       "⎢              13⋅t   10⋅x   11⋅y   z⎥\n",
       "⎢0  1  0  0  - ──── - ──── + ──── + ─⎥\n",
       "⎢               21     21     7     7⎥\n",
       "⎢                                    ⎥\n",
       "⎢              26⋅t   x    y   5⋅z   ⎥\n",
       "⎢0  0  1  0    ──── - ── - ─ + ───   ⎥\n",
       "⎢               21    21   7    7    ⎥\n",
       "⎢                                    ⎥\n",
       "⎢             43⋅t   4⋅x   3⋅y   8⋅z ⎥\n",
       "⎢0  0  0  1   ──── + ─── - ─── + ─── ⎥\n",
       "⎣              21     21    7     7  ⎦"
      ]
     },
     "execution_count": 55,
     "metadata": {},
     "output_type": "execute_result"
    }
   ],
   "source": [
    "A7 = rop(A6, 'R4*(6/43)+R1=>R1', 'R4*(-13/43)+R2=>R2', 'R4*(26/43)+R3=>R3')\n",
    "A7"
   ]
  },
  {
   "cell_type": "markdown",
   "metadata": {},
   "source": [
    "# Exercise 11\n",
    "\n",
    "## Part 2"
   ]
  },
  {
   "cell_type": "code",
   "execution_count": 56,
   "metadata": {
    "collapsed": false
   },
   "outputs": [
    {
     "data": {
      "image/png": "[encoded data removed]",
      "text/latex": [
       "$$\\left[\\begin{matrix}1 & 1 & 0 & 1 & 0 & 0\\\\0 & 1 & 1 & 0 & 1 & 0\\\\1 & 1 & 1 & 0 & 0 & 1\\end{matrix}\\right]$$"
      ],
      "text/plain": [
       "⎡1  1  0  1  0  0⎤\n",
       "⎢                ⎥\n",
       "⎢0  1  1  0  1  0⎥\n",
       "⎢                ⎥\n",
       "⎣1  1  1  0  0  1⎦"
      ]
     },
     "execution_count": 56,
     "metadata": {},
     "output_type": "execute_result"
    }
   ],
   "source": [
    "A = matrix_to_rational([[1, 1, 0, 1, 0, 0],\n",
    "                        [0, 1, 1, 0, 1, 0],\n",
    "                        [1, 1, 1, 0, 0, 1]])\n",
    "A"
   ]
  },
  {
   "cell_type": "code",
   "execution_count": 57,
   "metadata": {
    "collapsed": false
   },
   "outputs": [
    {
     "data": {
      "image/png": "[encoded data removed]",
      "text/latex": [
       "$$\\left[\\begin{matrix}1 & 1 & 0 & 1 & 0 & 0\\\\0 & 1 & 1 & 0 & 1 & 0\\\\0 & 0 & 1 & -1 & 0 & 1\\end{matrix}\\right]$$"
      ],
      "text/plain": [
       "⎡1  1  0  1   0  0⎤\n",
       "⎢                 ⎥\n",
       "⎢0  1  1  0   1  0⎥\n",
       "⎢                 ⎥\n",
       "⎣0  0  1  -1  0  1⎦"
      ]
     },
     "execution_count": 57,
     "metadata": {},
     "output_type": "execute_result"
    }
   ],
   "source": [
    "A1 = rop(A, 'R1*(-1)+R3=>R3')\n",
    "A1"
   ]
  },
  {
   "cell_type": "code",
   "execution_count": 58,
   "metadata": {
    "collapsed": false
   },
   "outputs": [
    {
     "data": {
      "image/png": "[encoded data removed]",
      "text/latex": [
       "$$\\left[\\begin{matrix}1 & 0 & -1 & 1 & -1 & 0\\\\0 & 1 & 1 & 0 & 1 & 0\\\\0 & 0 & 1 & -1 & 0 & 1\\end{matrix}\\right]$$"
      ],
      "text/plain": [
       "⎡1  0  -1  1   -1  0⎤\n",
       "⎢                   ⎥\n",
       "⎢0  1  1   0   1   0⎥\n",
       "⎢                   ⎥\n",
       "⎣0  0  1   -1  0   1⎦"
      ]
     },
     "execution_count": 58,
     "metadata": {},
     "output_type": "execute_result"
    }
   ],
   "source": [
    "A2 = rop(A1, 'R2*(-1)+R1=>R1')\n",
    "A2"
   ]
  },
  {
   "cell_type": "code",
   "execution_count": 59,
   "metadata": {
    "collapsed": false
   },
   "outputs": [
    {
     "data": {
      "image/png": "[encoded data removed]",
      "text/latex": [
       "$$\\left[\\begin{matrix}1 & 0 & 0 & 0 & -1 & 1\\\\0 & 1 & 0 & 1 & 1 & -1\\\\0 & 0 & 1 & -1 & 0 & 1\\end{matrix}\\right]$$"
      ],
      "text/plain": [
       "⎡1  0  0  0   -1  1 ⎤\n",
       "⎢                   ⎥\n",
       "⎢0  1  0  1   1   -1⎥\n",
       "⎢                   ⎥\n",
       "⎣0  0  1  -1  0   1 ⎦"
      ]
     },
     "execution_count": 59,
     "metadata": {},
     "output_type": "execute_result"
    }
   ],
   "source": [
    "A3 = rop(A2, 'R3*(1)+R1=>R1', 'R3*(-1)+R2=>R2')\n",
    "A3"
   ]
  }
 ],
 "metadata": {
  "kernelspec": {
   "display_name": "Python 3",
   "language": "python",
   "name": "python3"
  },
  "language_info": {
   "codemirror_mode": {
    "name": "ipython",
    "version": 3
   },
   "file_extension": ".py",
   "mimetype": "text/x-python",
   "name": "python",
   "nbconvert_exporter": "python",
   "pygments_lexer": "ipython3",
   "version": "3.5.1"
  }
 },
 "nbformat": 4,
 "nbformat_minor": 0
}
