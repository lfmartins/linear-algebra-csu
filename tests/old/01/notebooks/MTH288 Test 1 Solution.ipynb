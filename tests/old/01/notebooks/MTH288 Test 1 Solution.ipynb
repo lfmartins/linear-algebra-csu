{
 "cells": [
  {
   "cell_type": "code",
   "execution_count": 13,
   "metadata": {
    "collapsed": false
   },
   "outputs": [],
   "source": [
    "%run rop.py\n",
    "import sympy"
   ]
  },
  {
   "cell_type": "markdown",
   "metadata": {},
   "source": [
    "### Problem 1"
   ]
  },
  {
   "cell_type": "code",
   "execution_count": 20,
   "metadata": {
    "collapsed": false
   },
   "outputs": [
    {
     "name": "stdout",
     "output_type": "stream",
     "text": [
      "\\left[\\begin{matrix}2 & 6 & -9 & -4 & 0\\\\-3 & -11 & 9 & -1 & 0\\\\1 & 4 & -2 & 1 & 0\\end{matrix}\\right]\n"
     ]
    },
    {
     "data": {
      "image/png": "[encoded data removed]",
      "text/latex": [
       "$$\\left[\\begin{matrix}2 & 6 & -9 & -4 & 0\\\\-3 & -11 & 9 & -1 & 0\\\\1 & 4 & -2 & 1 & 0\\end{matrix}\\right]$$"
      ],
      "text/plain": [
       "⎡2    6   -9  -4  0⎤\n",
       "⎢                  ⎥\n",
       "⎢-3  -11  9   -1  0⎥\n",
       "⎢                  ⎥\n",
       "⎣1    4   -2  1   0⎦"
      ]
     },
     "execution_count": 20,
     "metadata": {},
     "output_type": "execute_result"
    }
   ],
   "source": [
    "A = matrix_to_rational([[2, 6, -9, -4, 0],\n",
    "                        [-3,-11,9,-1,0],\n",
    "                        [1, 4, -2,1,0]])\n",
    "print(sympy.latex(A))\n",
    "A"
   ]
  },
  {
   "cell_type": "code",
   "execution_count": 21,
   "metadata": {
    "collapsed": false
   },
   "outputs": [
    {
     "name": "stdout",
     "output_type": "stream",
     "text": [
      "\\left[\\begin{matrix}1 & 4 & -2 & 1 & 0\\\\-3 & -11 & 9 & -1 & 0\\\\2 & 6 & -9 & -4 & 0\\end{matrix}\\right]\n"
     ]
    },
    {
     "data": {
      "image/png": "[encoded data removed]",
      "text/latex": [
       "$$\\left[\\begin{matrix}1 & 4 & -2 & 1 & 0\\\\-3 & -11 & 9 & -1 & 0\\\\2 & 6 & -9 & -4 & 0\\end{matrix}\\right]$$"
      ],
      "text/plain": [
       "⎡1    4   -2  1   0⎤\n",
       "⎢                  ⎥\n",
       "⎢-3  -11  9   -1  0⎥\n",
       "⎢                  ⎥\n",
       "⎣2    6   -9  -4  0⎦"
      ]
     },
     "execution_count": 21,
     "metadata": {},
     "output_type": "execute_result"
    }
   ],
   "source": [
    "A1 = rop(A, 'R1<=>R3')\n",
    "print(sympy.latex(A1))\n",
    "A1"
   ]
  },
  {
   "cell_type": "code",
   "execution_count": 22,
   "metadata": {
    "collapsed": false
   },
   "outputs": [
    {
     "name": "stdout",
     "output_type": "stream",
     "text": [
      "\\left[\\begin{matrix}1 & 4 & -2 & 1 & 0\\\\0 & 1 & 3 & 2 & 0\\\\0 & -2 & -5 & -6 & 0\\end{matrix}\\right]\n"
     ]
    },
    {
     "data": {
      "image/png": "[encoded data removed]",
      "text/latex": [
       "$$\\left[\\begin{matrix}1 & 4 & -2 & 1 & 0\\\\0 & 1 & 3 & 2 & 0\\\\0 & -2 & -5 & -6 & 0\\end{matrix}\\right]$$"
      ],
      "text/plain": [
       "⎡1  4   -2  1   0⎤\n",
       "⎢                ⎥\n",
       "⎢0  1   3   2   0⎥\n",
       "⎢                ⎥\n",
       "⎣0  -2  -5  -6  0⎦"
      ]
     },
     "execution_count": 22,
     "metadata": {},
     "output_type": "execute_result"
    }
   ],
   "source": [
    "A2 = rop(A1, 'R1*(3)+R2=>R2', 'R1*(-2)+R3=>R3')\n",
    "print(sympy.latex(A2))\n",
    "A2"
   ]
  },
  {
   "cell_type": "code",
   "execution_count": 23,
   "metadata": {
    "collapsed": false
   },
   "outputs": [
    {
     "name": "stdout",
     "output_type": "stream",
     "text": [
      "\\left[\\begin{matrix}1 & 0 & -14 & -7 & 0\\\\0 & 1 & 3 & 2 & 0\\\\0 & 0 & 1 & -2 & 0\\end{matrix}\\right]\n"
     ]
    },
    {
     "data": {
      "image/png": "[encoded data removed]",
      "text/latex": [
       "$$\\left[\\begin{matrix}1 & 0 & -14 & -7 & 0\\\\0 & 1 & 3 & 2 & 0\\\\0 & 0 & 1 & -2 & 0\\end{matrix}\\right]$$"
      ],
      "text/plain": [
       "⎡1  0  -14  -7  0⎤\n",
       "⎢                ⎥\n",
       "⎢0  1   3   2   0⎥\n",
       "⎢                ⎥\n",
       "⎣0  0   1   -2  0⎦"
      ]
     },
     "execution_count": 23,
     "metadata": {},
     "output_type": "execute_result"
    }
   ],
   "source": [
    "A3 = rop(A2, 'R2*(2)+R3=>R3', 'R2*(-4)+R1=>R1')\n",
    "print(sympy.latex(A3))\n",
    "A3"
   ]
  },
  {
   "cell_type": "code",
   "execution_count": 24,
   "metadata": {
    "collapsed": false
   },
   "outputs": [
    {
     "name": "stdout",
     "output_type": "stream",
     "text": [
      "\\left[\\begin{matrix}1 & 0 & 0 & -35 & 0\\\\0 & 1 & 0 & 8 & 0\\\\0 & 0 & 1 & -2 & 0\\end{matrix}\\right]\n"
     ]
    },
    {
     "data": {
      "image/png": "[encoded data removed]",
      "text/latex": [
       "$$\\left[\\begin{matrix}1 & 0 & 0 & -35 & 0\\\\0 & 1 & 0 & 8 & 0\\\\0 & 0 & 1 & -2 & 0\\end{matrix}\\right]$$"
      ],
      "text/plain": [
       "⎡1  0  0  -35  0⎤\n",
       "⎢               ⎥\n",
       "⎢0  1  0   8   0⎥\n",
       "⎢               ⎥\n",
       "⎣0  0  1  -2   0⎦"
      ]
     },
     "execution_count": 24,
     "metadata": {},
     "output_type": "execute_result"
    }
   ],
   "source": [
    "A4 = rop(A3, 'R3*(14)+R1=>R1', 'R3*(-3)+R2=>R2')\n",
    "print(sympy.latex(A4))\n",
    "A4"
   ]
  },
  {
   "cell_type": "markdown",
   "metadata": {},
   "source": [
    "### Problem 4a"
   ]
  },
  {
   "cell_type": "code",
   "execution_count": 28,
   "metadata": {
    "collapsed": false
   },
   "outputs": [
    {
     "name": "stdout",
     "output_type": "stream",
     "text": [
      "\\[\\left[\\begin{matrix}1 & 3 & 7 & 0\\\\2 & 4 & 8 & 0\\\\-3 & 2 & 12 & 0\\end{matrix}\\right]\\]\n"
     ]
    },
    {
     "data": {
      "image/png": "[encoded data removed]",
      "text/latex": [
       "$$\\left[\\begin{matrix}1 & 3 & 7 & 0\\\\2 & 4 & 8 & 0\\\\-3 & 2 & 12 & 0\\end{matrix}\\right]$$"
      ],
      "text/plain": [
       "⎡1   3  7   0⎤\n",
       "⎢            ⎥\n",
       "⎢2   4  8   0⎥\n",
       "⎢            ⎥\n",
       "⎣-3  2  12  0⎦"
      ]
     },
     "execution_count": 28,
     "metadata": {},
     "output_type": "execute_result"
    }
   ],
   "source": [
    "A = matrix_to_rational([[1,3,7,0],\n",
    "                        [2,4,8,0],\n",
    "                        [-3,2,12,0]])\n",
    "print('\\\\[{}\\\\]'.format(sympy.latex(A)))\n",
    "A"
   ]
  },
  {
   "cell_type": "code",
   "execution_count": 29,
   "metadata": {
    "collapsed": false
   },
   "outputs": [
    {
     "name": "stdout",
     "output_type": "stream",
     "text": [
      "\\[\\left[\\begin{matrix}1 & 3 & 7 & 0\\\\0 & -2 & -6 & 0\\\\0 & 11 & 33 & 0\\end{matrix}\\right]\\]\n"
     ]
    },
    {
     "data": {
      "image/png": "[encoded data removed]",
      "text/latex": [
       "$$\\left[\\begin{matrix}1 & 3 & 7 & 0\\\\0 & -2 & -6 & 0\\\\0 & 11 & 33 & 0\\end{matrix}\\right]$$"
      ],
      "text/plain": [
       "⎡1  3   7   0⎤\n",
       "⎢            ⎥\n",
       "⎢0  -2  -6  0⎥\n",
       "⎢            ⎥\n",
       "⎣0  11  33  0⎦"
      ]
     },
     "execution_count": 29,
     "metadata": {},
     "output_type": "execute_result"
    }
   ],
   "source": [
    "A1 = rop(A, 'R1*(-2)+R2=>R2', 'R1*(3)+R3=>R3')\n",
    "print('\\\\[{}\\\\]'.format(sympy.latex(A1)))\n",
    "A1"
   ]
  },
  {
   "cell_type": "code",
   "execution_count": 31,
   "metadata": {
    "collapsed": false
   },
   "outputs": [
    {
     "name": "stdout",
     "output_type": "stream",
     "text": [
      "\\[\\left[\\begin{matrix}1 & 3 & 7 & 0\\\\0 & 1 & 3 & 0\\\\0 & 11 & 33 & 0\\end{matrix}\\right]\\]\n"
     ]
    },
    {
     "data": {
      "image/png": "[encoded data removed]",
      "text/latex": [
       "$$\\left[\\begin{matrix}1 & 3 & 7 & 0\\\\0 & 1 & 3 & 0\\\\0 & 11 & 33 & 0\\end{matrix}\\right]$$"
      ],
      "text/plain": [
       "⎡1  3   7   0⎤\n",
       "⎢            ⎥\n",
       "⎢0  1   3   0⎥\n",
       "⎢            ⎥\n",
       "⎣0  11  33  0⎦"
      ]
     },
     "execution_count": 31,
     "metadata": {},
     "output_type": "execute_result"
    }
   ],
   "source": [
    "A2 = rop(A1, 'R2*(-1/2)=>R2')\n",
    "print('\\\\[{}\\\\]'.format(sympy.latex(A2)))\n",
    "A2"
   ]
  },
  {
   "cell_type": "code",
   "execution_count": 32,
   "metadata": {
    "collapsed": false
   },
   "outputs": [
    {
     "name": "stdout",
     "output_type": "stream",
     "text": [
      "\\[\\left[\\begin{matrix}1 & 0 & -2 & 0\\\\0 & 1 & 3 & 0\\\\0 & 0 & 0 & 0\\end{matrix}\\right]\\]\n"
     ]
    },
    {
     "data": {
      "image/png": "[encoded data removed]",
      "text/latex": [
       "$$\\left[\\begin{matrix}1 & 0 & -2 & 0\\\\0 & 1 & 3 & 0\\\\0 & 0 & 0 & 0\\end{matrix}\\right]$$"
      ],
      "text/plain": [
       "⎡1  0  -2  0⎤\n",
       "⎢           ⎥\n",
       "⎢0  1  3   0⎥\n",
       "⎢           ⎥\n",
       "⎣0  0  0   0⎦"
      ]
     },
     "execution_count": 32,
     "metadata": {},
     "output_type": "execute_result"
    }
   ],
   "source": [
    "A3 = rop(A2, 'R2*(-3)+R1=>R1', 'R2*(-11)+R3=>R3')\n",
    "print('\\\\[{}\\\\]'.format(sympy.latex(A3)))\n",
    "A3"
   ]
  },
  {
   "cell_type": "markdown",
   "metadata": {},
   "source": [
    "### Problem 4b"
   ]
  },
  {
   "cell_type": "code",
   "execution_count": 33,
   "metadata": {
    "collapsed": false
   },
   "outputs": [
    {
     "name": "stdout",
     "output_type": "stream",
     "text": [
      "\\[\\left[\\begin{matrix}1 & 3 & 7 & 1\\\\2 & 4 & 8 & 4\\\\-3 & 2 & 12 & -14\\end{matrix}\\right]\\]\n"
     ]
    },
    {
     "data": {
      "image/png": "[encoded data removed]",
      "text/latex": [
       "$$\\left[\\begin{matrix}1 & 3 & 7 & 1\\\\2 & 4 & 8 & 4\\\\-3 & 2 & 12 & -14\\end{matrix}\\right]$$"
      ],
      "text/plain": [
       "⎡1   3  7    1 ⎤\n",
       "⎢              ⎥\n",
       "⎢2   4  8    4 ⎥\n",
       "⎢              ⎥\n",
       "⎣-3  2  12  -14⎦"
      ]
     },
     "execution_count": 33,
     "metadata": {},
     "output_type": "execute_result"
    }
   ],
   "source": [
    "A = matrix_to_rational([[1,3,7,1],\n",
    "                        [2,4,8,4],\n",
    "                        [-3,2,12,-14]])\n",
    "print('\\\\[{}\\\\]'.format(sympy.latex(A)))\n",
    "A"
   ]
  },
  {
   "cell_type": "code",
   "execution_count": 34,
   "metadata": {
    "collapsed": false
   },
   "outputs": [
    {
     "name": "stdout",
     "output_type": "stream",
     "text": [
      "\\[\\left[\\begin{matrix}1 & 3 & 7 & 1\\\\0 & -2 & -6 & 2\\\\0 & 11 & 33 & -11\\end{matrix}\\right]\\]\n"
     ]
    },
    {
     "data": {
      "image/png": "[encoded data removed]",
      "text/latex": [
       "$$\\left[\\begin{matrix}1 & 3 & 7 & 1\\\\0 & -2 & -6 & 2\\\\0 & 11 & 33 & -11\\end{matrix}\\right]$$"
      ],
      "text/plain": [
       "⎡1  3   7    1 ⎤\n",
       "⎢              ⎥\n",
       "⎢0  -2  -6   2 ⎥\n",
       "⎢              ⎥\n",
       "⎣0  11  33  -11⎦"
      ]
     },
     "execution_count": 34,
     "metadata": {},
     "output_type": "execute_result"
    }
   ],
   "source": [
    "A1 = rop(A, 'R1*(-2)+R2=>R2', 'R1*(3)+R3=>R3')\n",
    "print('\\\\[{}\\\\]'.format(sympy.latex(A1)))\n",
    "A1"
   ]
  },
  {
   "cell_type": "code",
   "execution_count": 35,
   "metadata": {
    "collapsed": false
   },
   "outputs": [
    {
     "name": "stdout",
     "output_type": "stream",
     "text": [
      "\\[\\left[\\begin{matrix}1 & 3 & 7 & 1\\\\0 & 1 & 3 & -1\\\\0 & 11 & 33 & -11\\end{matrix}\\right]\\]\n"
     ]
    },
    {
     "data": {
      "image/png": "[encoded data removed]",
      "text/latex": [
       "$$\\left[\\begin{matrix}1 & 3 & 7 & 1\\\\0 & 1 & 3 & -1\\\\0 & 11 & 33 & -11\\end{matrix}\\right]$$"
      ],
      "text/plain": [
       "⎡1  3   7    1 ⎤\n",
       "⎢              ⎥\n",
       "⎢0  1   3   -1 ⎥\n",
       "⎢              ⎥\n",
       "⎣0  11  33  -11⎦"
      ]
     },
     "execution_count": 35,
     "metadata": {},
     "output_type": "execute_result"
    }
   ],
   "source": [
    "A2 = rop(A1, 'R2*(-1/2)=>R2')\n",
    "print('\\\\[{}\\\\]'.format(sympy.latex(A2)))\n",
    "A2"
   ]
  },
  {
   "cell_type": "code",
   "execution_count": 36,
   "metadata": {
    "collapsed": false
   },
   "outputs": [
    {
     "name": "stdout",
     "output_type": "stream",
     "text": [
      "\\[\\left[\\begin{matrix}1 & 0 & -2 & 4\\\\0 & 1 & 3 & -1\\\\0 & 0 & 0 & 0\\end{matrix}\\right]\\]\n"
     ]
    },
    {
     "data": {
      "image/png": "[encoded data removed]",
      "text/latex": [
       "$$\\left[\\begin{matrix}1 & 0 & -2 & 4\\\\0 & 1 & 3 & -1\\\\0 & 0 & 0 & 0\\end{matrix}\\right]$$"
      ],
      "text/plain": [
       "⎡1  0  -2  4 ⎤\n",
       "⎢            ⎥\n",
       "⎢0  1  3   -1⎥\n",
       "⎢            ⎥\n",
       "⎣0  0  0   0 ⎦"
      ]
     },
     "execution_count": 36,
     "metadata": {},
     "output_type": "execute_result"
    }
   ],
   "source": [
    "A3 = rop(A2, 'R2*(-3)+R1=>R1', 'R2*(-11)+R3=>R3')\n",
    "print('\\\\[{}\\\\]'.format(sympy.latex(A3)))\n",
    "A3"
   ]
  },
  {
   "cell_type": "code",
   "execution_count": null,
   "metadata": {
    "collapsed": true
   },
   "outputs": [],
   "source": []
  },
  {
   "cell_type": "code",
   "execution_count": null,
   "metadata": {
    "collapsed": true
   },
   "outputs": [],
   "source": []
  },
  {
   "cell_type": "code",
   "execution_count": null,
   "metadata": {
    "collapsed": true
   },
   "outputs": [],
   "source": []
  },
  {
   "cell_type": "code",
   "execution_count": null,
   "metadata": {
    "collapsed": true
   },
   "outputs": [],
   "source": []
  },
  {
   "cell_type": "code",
   "execution_count": null,
   "metadata": {
    "collapsed": true
   },
   "outputs": [],
   "source": []
  },
  {
   "cell_type": "code",
   "execution_count": null,
   "metadata": {
    "collapsed": true
   },
   "outputs": [],
   "source": []
  },
  {
   "cell_type": "code",
   "execution_count": null,
   "metadata": {
    "collapsed": true
   },
   "outputs": [],
   "source": []
  }
 ],
 "metadata": {
  "kernelspec": {
   "display_name": "Python 3",
   "language": "python",
   "name": "python3"
  },
  "language_info": {
   "codemirror_mode": {
    "name": "ipython",
    "version": 3
   },
   "file_extension": ".py",
   "mimetype": "text/x-python",
   "name": "python",
   "nbconvert_exporter": "python",
   "pygments_lexer": "ipython3",
   "version": "3.5.1"
  }
 },
 "nbformat": 4,
 "nbformat_minor": 0
}
