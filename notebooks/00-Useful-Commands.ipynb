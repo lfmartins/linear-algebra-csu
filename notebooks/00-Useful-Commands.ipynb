{
 "cells": [
  {
   "cell_type": "code",
   "execution_count": 1,
   "metadata": {
    "collapsed": true
   },
   "outputs": [],
   "source": [
    "from latools import *\n",
    "from sympy import *\n",
    "init_printing(use_latex=True)"
   ]
  },
  {
   "cell_type": "markdown",
   "metadata": {},
   "source": [
    "# Gram-Schmidt\n",
    "\n",
    "__Input__: $\\{\\mathbf{u}_1,\\mathbf{u}_2,\\ldots,\\mathbf{u}_k\\}$ a linearly independent set of vectors in $\\mathbb{R}^n$\n",
    "\n",
    "__Output__: $\\{\\mathbf{v}_1,\\mathbf{v}_2,\\ldots,\\mathbf{v}_k\\}$, and orthogonal basis of $\\text{span}\\{\\mathbf{u}_1,\\mathbf{u}_2,\\ldots,\\mathbf{u}_k\\}$.\n",
    "\n",
    "__Algorithm__:\n",
    "\n",
    "- Let $\\mathbf{v}_1=\\mathbf{u}_1$\n",
    "- Let $\\displaystyle \\mathbf{v}_{j}=\\mathbf{u}_j-\n",
    "\\frac{\\mathbf{u}_j\\cdot \\mathbf{v}_1}{\\mathbf{v}_1\\cdot \\mathbf{v}_1}\\mathbf{v}_1-\n",
    "\\frac{\\mathbf{u}_j\\cdot \\mathbf{v}_2}{\\mathbf{v}_2\\cdot \\mathbf{v}_2}\\mathbf{v}_2-\\cdots-\n",
    "\\frac{\\mathbf{u}_j\\cdot \\mathbf{v}_{j-1}}{\\mathbf{v}_{j-1}\\cdot \\mathbf{v}_{j-1}}\\mathbf{v}_{j-1}$ for $j=2,\\ldots,k$\n",
    "\n",
    "The first three steps are, more explicitly:\n",
    "\n",
    "$$\n",
    "\\mathbf{v}_1=\\mathbf{u}_1\n",
    "$$\n",
    "\n",
    "$$\n",
    "\\mathbf{v}_2=\\mathbf{u}_2-\\frac{\\mathbf{u}_2\\cdot \\mathbf{v}_1}{\\mathbf{v}_1\\cdot \\mathbf{v}_1}\\mathbf{v}_1\n",
    "$$\n",
    "\n",
    "$$\n",
    "\\mathbf{v}_3=\\mathbf{u}_3-\n",
    "\\frac{\\mathbf{u}_3\\cdot \\mathbf{v}_1}{\\mathbf{v}_1\\cdot \\mathbf{v}_1}\\mathbf{v}_1-\n",
    "\\frac{\\mathbf{u}_3\\cdot \\mathbf{v}_2}{\\mathbf{v}_2\\cdot \\mathbf{v}_2}\\mathbf{v}_2\n",
    "$$\n"
   ]
  },
  {
   "cell_type": "markdown",
   "metadata": {
    "collapsed": true
   },
   "source": [
    "# Matrices\n",
    "\n",
    "## Matrix Input"
   ]
  },
  {
   "cell_type": "code",
   "execution_count": 2,
   "metadata": {
    "collapsed": false
   },
   "outputs": [
    {
     "data": {
      "image/png": "[encoded data removed]",
      "text/latex": [
       "$$\\left[\\begin{matrix}1 & 2 & 3\\\\4 & 5 & 6\\\\7 & 8 & 9\\end{matrix}\\right]$$"
      ],
      "text/plain": [
       "⎡1  2  3⎤\n",
       "⎢       ⎥\n",
       "⎢4  5  6⎥\n",
       "⎢       ⎥\n",
       "⎣7  8  9⎦"
      ]
     },
     "execution_count": 2,
     "metadata": {},
     "output_type": "execute_result"
    }
   ],
   "source": [
    "A = matrix_to_rational([[1,2,3],\n",
    "                        [4,5,6],\n",
    "                        [7,8,9]])\n",
    "A"
   ]
  },
  {
   "cell_type": "markdown",
   "metadata": {},
   "source": [
    "## Row Operations"
   ]
  },
  {
   "cell_type": "code",
   "execution_count": 3,
   "metadata": {
    "collapsed": false
   },
   "outputs": [
    {
     "data": {
      "image/png": "[encoded data removed]",
      "text/latex": [
       "$$\\left[\\begin{matrix}1 & 2 & 3\\\\4 & 5 & 6\\\\7 & 8 & 9\\end{matrix}\\right]$$"
      ],
      "text/plain": [
       "⎡1  2  3⎤\n",
       "⎢       ⎥\n",
       "⎢4  5  6⎥\n",
       "⎢       ⎥\n",
       "⎣7  8  9⎦"
      ]
     },
     "execution_count": 3,
     "metadata": {},
     "output_type": "execute_result"
    }
   ],
   "source": [
    "A = matrix_to_rational([[1,2,3],[4,5,6],[7,8,9]])\n",
    "A"
   ]
  },
  {
   "cell_type": "markdown",
   "metadata": {},
   "source": [
    "### Add a multiple of a row to another row:\n",
    "\n",
    "Notice that you can put more than one row opeartion in a single command."
   ]
  },
  {
   "cell_type": "code",
   "execution_count": 4,
   "metadata": {
    "collapsed": false
   },
   "outputs": [
    {
     "data": {
      "image/png": "[encoded data removed]",
      "text/latex": [
       "$$\\left[\\begin{matrix}1 & 2 & 3\\\\0 & -3 & -6\\\\0 & -6 & -12\\end{matrix}\\right]$$"
      ],
      "text/plain": [
       "⎡1  2    3 ⎤\n",
       "⎢          ⎥\n",
       "⎢0  -3  -6 ⎥\n",
       "⎢          ⎥\n",
       "⎣0  -6  -12⎦"
      ]
     },
     "execution_count": 4,
     "metadata": {},
     "output_type": "execute_result"
    }
   ],
   "source": [
    "A1 = rop(A, 'R1*(-4)+R2=>R2', 'R1*(-7)+R3=>R3')\n",
    "A1"
   ]
  },
  {
   "cell_type": "markdown",
   "metadata": {},
   "source": [
    "### Multiply a row by a scalar"
   ]
  },
  {
   "cell_type": "code",
   "execution_count": 5,
   "metadata": {
    "collapsed": false
   },
   "outputs": [
    {
     "data": {
      "image/png": "[encoded data removed]",
      "text/latex": [
       "$$\\left[\\begin{matrix}1 & 2 & 3\\\\0 & 1 & 2\\\\0 & -6 & -12\\end{matrix}\\right]$$"
      ],
      "text/plain": [
       "⎡1  2    3 ⎤\n",
       "⎢          ⎥\n",
       "⎢0  1    2 ⎥\n",
       "⎢          ⎥\n",
       "⎣0  -6  -12⎦"
      ]
     },
     "execution_count": 5,
     "metadata": {},
     "output_type": "execute_result"
    }
   ],
   "source": [
    "A2 = rop(A1, 'R2*(-1/3)=>R2')\n",
    "A2"
   ]
  },
  {
   "cell_type": "markdown",
   "metadata": {},
   "source": [
    "### Swap rows"
   ]
  },
  {
   "cell_type": "code",
   "execution_count": 6,
   "metadata": {
    "collapsed": false
   },
   "outputs": [
    {
     "data": {
      "image/png": "[encoded data removed]",
      "text/latex": [
       "$$\\left[\\begin{matrix}0 & 2 & 1\\\\-1 & 0 & 3\\\\2 & 4 & -2\\end{matrix}\\right]$$"
      ],
      "text/plain": [
       "⎡0   2  1 ⎤\n",
       "⎢         ⎥\n",
       "⎢-1  0  3 ⎥\n",
       "⎢         ⎥\n",
       "⎣2   4  -2⎦"
      ]
     },
     "execution_count": 6,
     "metadata": {},
     "output_type": "execute_result"
    }
   ],
   "source": [
    "A = matrix_to_rational([[0,2,1],[-1,0,3],[2,4,-2]])\n",
    "A"
   ]
  },
  {
   "cell_type": "markdown",
   "metadata": {},
   "source": [
    "Since the entry $a_{11}$ is zero, to get a pivot on row 1 we need to swap rows:"
   ]
  },
  {
   "cell_type": "code",
   "execution_count": 7,
   "metadata": {
    "collapsed": false
   },
   "outputs": [
    {
     "data": {
      "image/png": "[encoded data removed]",
      "text/latex": [
       "$$\\left[\\begin{matrix}-1 & 0 & 3\\\\0 & 2 & 1\\\\2 & 4 & -2\\end{matrix}\\right]$$"
      ],
      "text/plain": [
       "⎡-1  0  3 ⎤\n",
       "⎢         ⎥\n",
       "⎢0   2  1 ⎥\n",
       "⎢         ⎥\n",
       "⎣2   4  -2⎦"
      ]
     },
     "execution_count": 7,
     "metadata": {},
     "output_type": "execute_result"
    }
   ],
   "source": [
    "A1 = rop(A, 'R1<=>R2')\n",
    "A1"
   ]
  },
  {
   "cell_type": "markdown",
   "metadata": {},
   "source": [
    "## Identity Matrix"
   ]
  },
  {
   "cell_type": "code",
   "execution_count": 8,
   "metadata": {
    "collapsed": false
   },
   "outputs": [
    {
     "data": {
      "image/png": "[encoded data removed]",
      "text/latex": [
       "$$\\left[\\begin{matrix}1 & 0 & 0 & 0 & 0\\\\0 & 1 & 0 & 0 & 0\\\\0 & 0 & 1 & 0 & 0\\\\0 & 0 & 0 & 1 & 0\\\\0 & 0 & 0 & 0 & 1\\end{matrix}\\right]$$"
      ],
      "text/plain": [
       "⎡1  0  0  0  0⎤\n",
       "⎢             ⎥\n",
       "⎢0  1  0  0  0⎥\n",
       "⎢             ⎥\n",
       "⎢0  0  1  0  0⎥\n",
       "⎢             ⎥\n",
       "⎢0  0  0  1  0⎥\n",
       "⎢             ⎥\n",
       "⎣0  0  0  0  1⎦"
      ]
     },
     "execution_count": 8,
     "metadata": {},
     "output_type": "execute_result"
    }
   ],
   "source": [
    "eye(5) # Identity matrix, 5x5"
   ]
  },
  {
   "cell_type": "markdown",
   "metadata": {},
   "source": [
    "## Reduced row echelon form"
   ]
  },
  {
   "cell_type": "code",
   "execution_count": 9,
   "metadata": {
    "collapsed": false
   },
   "outputs": [
    {
     "data": {
      "image/png": "[encoded data removed]",
      "text/latex": [
       "$$\\left[\\begin{matrix}1 & 0 & 0\\\\0 & 1 & 0\\\\0 & 0 & 1\\end{matrix}\\right]$$"
      ],
      "text/plain": [
       "⎡1  0  0⎤\n",
       "⎢       ⎥\n",
       "⎢0  1  0⎥\n",
       "⎢       ⎥\n",
       "⎣0  0  1⎦"
      ]
     },
     "execution_count": 9,
     "metadata": {},
     "output_type": "execute_result"
    }
   ],
   "source": [
    "R = reduced_row_echelon_form(A)\n",
    "R"
   ]
  },
  {
   "cell_type": "code",
   "execution_count": 10,
   "metadata": {
    "collapsed": false
   },
   "outputs": [
    {
     "data": {
      "image/png": "[encoded data removed]",
      "text/latex": [
       "$$\\left[\\begin{matrix}1 & 0 & -1 & - \\frac{5 x}{3} + \\frac{2 y}{3}\\\\0 & 1 & 2 & \\frac{4 x}{3} - \\frac{y}{3}\\\\0 & 0 & 0 & x - 2 y + z\\end{matrix}\\right]$$"
      ],
      "text/plain": [
       "⎡            5⋅x   2⋅y⎤\n",
       "⎢1  0  -1  - ─── + ───⎥\n",
       "⎢             3     3 ⎥\n",
       "⎢                     ⎥\n",
       "⎢            4⋅x   y  ⎥\n",
       "⎢0  1  2     ─── - ─  ⎥\n",
       "⎢             3    3  ⎥\n",
       "⎢                     ⎥\n",
       "⎣0  0  0   x - 2⋅y + z⎦"
      ]
     },
     "execution_count": 10,
     "metadata": {},
     "output_type": "execute_result"
    }
   ],
   "source": [
    "x,y,z = symbols('x,y,z')\n",
    "B = matrix_to_rational([[1,2,3,x],\n",
    "                        [4,5,6,y],\n",
    "                        [7,8,9,z]])\n",
    "# Ignore last column of augmented matrix\n",
    "R = reduced_row_echelon_form(B, extra_cols=1)\n",
    "R"
   ]
  },
  {
   "cell_type": "markdown",
   "metadata": {},
   "source": [
    "## Vector input"
   ]
  },
  {
   "cell_type": "code",
   "execution_count": 11,
   "metadata": {
    "collapsed": false
   },
   "outputs": [
    {
     "data": {
      "image/png": "[encoded data removed]",
      "text/latex": [
       "$$\\left[\\begin{matrix}1\\\\-1\\\\1\\end{matrix}\\right]$$"
      ],
      "text/plain": [
       "⎡1 ⎤\n",
       "⎢  ⎥\n",
       "⎢-1⎥\n",
       "⎢  ⎥\n",
       "⎣1 ⎦"
      ]
     },
     "execution_count": 11,
     "metadata": {},
     "output_type": "execute_result"
    }
   ],
   "source": [
    "v1 = Matrix([1,-1,1])\n",
    "v1"
   ]
  },
  {
   "cell_type": "markdown",
   "metadata": {},
   "source": [
    "## Vector with fractional entries"
   ]
  },
  {
   "cell_type": "code",
   "execution_count": 12,
   "metadata": {
    "collapsed": false
   },
   "outputs": [
    {
     "data": {
      "image/png": "[encoded data removed]",
      "text/latex": [
       "$$\\left[\\begin{matrix}\\frac{1}{2}\\\\- \\frac{2}{3}\\\\4\\end{matrix}\\right]$$"
      ],
      "text/plain": [
       "⎡1/2 ⎤\n",
       "⎢    ⎥\n",
       "⎢-2/3⎥\n",
       "⎢    ⎥\n",
       "⎣ 4  ⎦"
      ]
     },
     "execution_count": 12,
     "metadata": {},
     "output_type": "execute_result"
    }
   ],
   "source": [
    "v2 = Matrix([sympify('1/2'),sympify('-2/3'),4])\n",
    "v2"
   ]
  },
  {
   "cell_type": "markdown",
   "metadata": {},
   "source": [
    "## Matrices with Symbolic variables"
   ]
  },
  {
   "cell_type": "code",
   "execution_count": 13,
   "metadata": {
    "collapsed": false
   },
   "outputs": [
    {
     "data": {
      "image/png": "[encoded data removed]",
      "text/latex": [
       "$$\\left[\\begin{matrix}1 & -1 & 2 & 5 & x\\\\0 & 1 & -2 & 4 & y\\\\1 & -1 & 1 & -3 & z\\\\1 & 1 & 1 & 2 & t\\end{matrix}\\right]$$"
      ],
      "text/plain": [
       "⎡1  -1  2   5   x⎤\n",
       "⎢                ⎥\n",
       "⎢0  1   -2  4   y⎥\n",
       "⎢                ⎥\n",
       "⎢1  -1  1   -3  z⎥\n",
       "⎢                ⎥\n",
       "⎣1  1   1   2   t⎦"
      ]
     },
     "execution_count": 13,
     "metadata": {},
     "output_type": "execute_result"
    }
   ],
   "source": [
    "x, y, z, t = symbols('x,y,z,t')\n",
    "A = matrix_to_rational([[1,-1,2,5,x],\n",
    "                        [0,1,-2,4,y],\n",
    "                        [1,-1,1,-3,z],\n",
    "                        [1,1,1,2,t]])\n",
    "A"
   ]
  },
  {
   "cell_type": "code",
   "execution_count": 14,
   "metadata": {
    "collapsed": false
   },
   "outputs": [
    {
     "data": {
      "image/png": "[encoded data removed]",
      "text/latex": [
       "$$\\left[\\begin{matrix}1 & k & 2\\\\2 & 0 & k\\\\1 & 1 & 5\\end{matrix}\\right]$$"
      ],
      "text/plain": [
       "⎡1  k  2⎤\n",
       "⎢       ⎥\n",
       "⎢2  0  k⎥\n",
       "⎢       ⎥\n",
       "⎣1  1  5⎦"
      ]
     },
     "execution_count": 14,
     "metadata": {},
     "output_type": "execute_result"
    }
   ],
   "source": [
    "k = symbols('k') # Use \"symbols\" even if there is only one symbol\n",
    "A = matrix_to_rational([[1,k,2],\n",
    "                        [2,0,k],\n",
    "                        [1,1,5]])\n",
    "A"
   ]
  },
  {
   "cell_type": "markdown",
   "metadata": {},
   "source": [
    "## Characteristic polynomial"
   ]
  },
  {
   "cell_type": "code",
   "execution_count": 15,
   "metadata": {
    "collapsed": false
   },
   "outputs": [
    {
     "data": {
      "image/png": "[encoded data removed]",
      "text/latex": [
       "$$\\left[\\begin{matrix}1 & 1 & 1\\\\-1 & -1 & 1\\\\2 & 2 & 3\\end{matrix}\\right]$$"
      ],
      "text/plain": [
       "⎡1   1   1⎤\n",
       "⎢         ⎥\n",
       "⎢-1  -1  1⎥\n",
       "⎢         ⎥\n",
       "⎣2   2   3⎦"
      ]
     },
     "execution_count": 15,
     "metadata": {},
     "output_type": "execute_result"
    }
   ],
   "source": [
    "A = matrix_to_rational([[1,1,1],[-1,-1,1],[2,2,3]])\n",
    "A"
   ]
  },
  {
   "cell_type": "code",
   "execution_count": 16,
   "metadata": {
    "collapsed": false
   },
   "outputs": [
    {
     "data": {
      "image/png": "[encoded data removed]",
      "text/latex": [
       "$$- \\lambda^{3} + 3 \\lambda^{2} + 4 \\lambda$$"
      ],
      "text/plain": [
       "   3      2      \n",
       "- λ  + 3⋅λ  + 4⋅λ"
      ]
     },
     "execution_count": 16,
     "metadata": {},
     "output_type": "execute_result"
    }
   ],
   "source": [
    "lbd = symbols('lambda')\n",
    "p = det(A - lbd*eye(3)) # eye(3) is the 3x3 identity\n",
    "p"
   ]
  },
  {
   "cell_type": "code",
   "execution_count": 17,
   "metadata": {
    "collapsed": false
   },
   "outputs": [
    {
     "data": {
      "image/png": "[encoded data removed]",
      "text/latex": [
       "$$- \\lambda \\left(\\lambda - 4\\right) \\left(\\lambda + 1\\right)$$"
      ],
      "text/plain": [
       "-λ⋅(λ - 4)⋅(λ + 1)"
      ]
     },
     "execution_count": 17,
     "metadata": {},
     "output_type": "execute_result"
    }
   ],
   "source": [
    "factor(p)"
   ]
  },
  {
   "cell_type": "markdown",
   "metadata": {},
   "source": [
    "# Matrix and vector operations"
   ]
  },
  {
   "cell_type": "code",
   "execution_count": 18,
   "metadata": {
    "collapsed": false
   },
   "outputs": [
    {
     "data": {
      "image/png": "[encoded data removed]",
      "text/latex": [
       "$$\\left[\\begin{matrix}1\\\\1\\\\3\\end{matrix}\\right]$$"
      ],
      "text/plain": [
       "⎡1⎤\n",
       "⎢ ⎥\n",
       "⎢1⎥\n",
       "⎢ ⎥\n",
       "⎣3⎦"
      ]
     },
     "execution_count": 18,
     "metadata": {},
     "output_type": "execute_result"
    }
   ],
   "source": [
    "# Multiplication\n",
    "A * v1"
   ]
  },
  {
   "cell_type": "code",
   "execution_count": 19,
   "metadata": {
    "collapsed": false
   },
   "outputs": [
    {
     "data": {
      "image/png": "[encoded data removed]",
      "text/latex": [
       "$$\\left[\\begin{matrix}\\frac{23}{6}\\\\\\frac{25}{6}\\\\\\frac{35}{3}\\end{matrix}\\right]$$"
      ],
      "text/plain": [
       "⎡23/6⎤\n",
       "⎢    ⎥\n",
       "⎢25/6⎥\n",
       "⎢    ⎥\n",
       "⎣35/3⎦"
      ]
     },
     "execution_count": 19,
     "metadata": {},
     "output_type": "execute_result"
    }
   ],
   "source": [
    "A * v2"
   ]
  },
  {
   "cell_type": "code",
   "execution_count": 20,
   "metadata": {
    "collapsed": false
   },
   "outputs": [
    {
     "data": {
      "image/png": "[encoded data removed]",
      "text/latex": [
       "$$0$$"
      ],
      "text/plain": [
       "0"
      ]
     },
     "execution_count": 20,
     "metadata": {},
     "output_type": "execute_result"
    }
   ],
   "source": [
    "# Determinant\n",
    "det(A)"
   ]
  },
  {
   "cell_type": "code",
   "execution_count": 21,
   "metadata": {
    "collapsed": false
   },
   "outputs": [
    {
     "data": {
      "image/png": "[encoded data removed]",
      "text/latex": [
       "$$\\left[\\begin{matrix}1 & \\frac{1}{2} & - \\frac{1}{2}\\\\-2 & - \\frac{3}{2} & \\frac{5}{2}\\\\0 & \\frac{1}{2} & - \\frac{1}{2}\\end{matrix}\\right]$$"
      ],
      "text/plain": [
       "⎡1   1/2   -1/2⎤\n",
       "⎢              ⎥\n",
       "⎢-2  -3/2  5/2 ⎥\n",
       "⎢              ⎥\n",
       "⎣0   1/2   -1/2⎦"
      ]
     },
     "execution_count": 21,
     "metadata": {},
     "output_type": "execute_result"
    }
   ],
   "source": [
    "# Inversion\n",
    "P = matrix_to_rational([[1,0,-1],\n",
    "                        [2,1,3],\n",
    "                        [2,1,1]])\n",
    "P**(-1)"
   ]
  },
  {
   "cell_type": "code",
   "execution_count": 22,
   "metadata": {
    "collapsed": false
   },
   "outputs": [
    {
     "data": {
      "image/png": "[encoded data removed]",
      "text/latex": [
       "$$\\left[\\begin{matrix}1 & 2 & 2\\\\0 & 1 & 1\\\\-1 & 3 & 1\\end{matrix}\\right]$$"
      ],
      "text/plain": [
       "⎡1   2  2⎤\n",
       "⎢        ⎥\n",
       "⎢0   1  1⎥\n",
       "⎢        ⎥\n",
       "⎣-1  3  1⎦"
      ]
     },
     "execution_count": 22,
     "metadata": {},
     "output_type": "execute_result"
    }
   ],
   "source": [
    "# Transposition\n",
    "P.T"
   ]
  },
  {
   "cell_type": "code",
   "execution_count": 23,
   "metadata": {
    "collapsed": false
   },
   "outputs": [
    {
     "data": {
      "image/png": "[encoded data removed]",
      "text/latex": [
       "$$\\frac{31}{6}$$"
      ],
      "text/plain": [
       "31/6"
      ]
     },
     "execution_count": 23,
     "metadata": {},
     "output_type": "execute_result"
    }
   ],
   "source": [
    "# Dot product\n",
    "v1.dot(v2)"
   ]
  },
  {
   "cell_type": "code",
   "execution_count": 24,
   "metadata": {
    "collapsed": false
   },
   "outputs": [
    {
     "data": {
      "image/png": "[encoded data removed]",
      "text/latex": [
       "$$\\sqrt{3}$$"
      ],
      "text/plain": [
       "√3"
      ]
     },
     "execution_count": 24,
     "metadata": {},
     "output_type": "execute_result"
    }
   ],
   "source": [
    "# Length (norm)\n",
    "v1.norm()"
   ]
  },
  {
   "cell_type": "code",
   "execution_count": null,
   "metadata": {
    "collapsed": true
   },
   "outputs": [],
   "source": []
  }
 ],
 "metadata": {
  "anaconda-cloud": {},
  "kernelspec": {
   "display_name": "Python [default]",
   "language": "python",
   "name": "python3"
  },
  "language_info": {
   "codemirror_mode": {
    "name": "ipython",
    "version": 3
   },
   "file_extension": ".py",
   "mimetype": "text/x-python",
   "name": "python",
   "nbconvert_exporter": "python",
   "pygments_lexer": "ipython3",
   "version": "3.5.2"
  }
 },
 "nbformat": 4,
 "nbformat_minor": 0
}
