{
 "cells": [
  {
   "cell_type": "code",
   "execution_count": 1,
   "metadata": {
    "collapsed": false
   },
   "outputs": [],
   "source": [
    "import json\n",
    "import random\n",
    "import jinja2\n",
    "import os\n",
    "import os.path\n",
    "import subprocess\n",
    "from latools import *\n",
    "from sympy import *\n",
    "init_printing(use_latex=True)"
   ]
  },
  {
   "cell_type": "markdown",
   "metadata": {},
   "source": [
    "# Function Definitions"
   ]
  },
  {
   "cell_type": "code",
   "execution_count": 304,
   "metadata": {
    "collapsed": false
   },
   "outputs": [],
   "source": [
    "def rref_to_solution_basis(R):\n",
    "    m, n = R.shape\n",
    "    nvars = n - 1\n",
    "    jold = -1\n",
    "    pivots = []\n",
    "    zero_rows = []\n",
    "    for i in range(m):\n",
    "        for j in range(n-1):\n",
    "            if R[i,j] != 0:\n",
    "                break\n",
    "        else:\n",
    "            zero_rows.append(i)\n",
    "            continue\n",
    "        if len(zero_rows) != 0:\n",
    "            raise ValueError('zero rows not at the bottom')\n",
    "        if R[i,j] != 1:\n",
    "            raise ValueError('leading element of row {} is not 1'.format(i+1))\n",
    "        for k in range(m):\n",
    "            if k != i and R[k, j] != 0:\n",
    "                raise ValueError('nonzero in pivot column {}'.format(j+1))\n",
    "        if j <= jold:\n",
    "            raise ValueError('pivot columns not in increasing order')\n",
    "        pivots.append((i,j))\n",
    "    for i in zero_rows:\n",
    "        if R[i,nvars] != 0:\n",
    "            return None, None\n",
    "    pivot_columns = [j for _ , j in pivots]\n",
    "    non_pivot_columns = [j for j in range(n-1) if j not in pivot_columns]\n",
    "    cvec = zeros(nvars, 1)\n",
    "    for (i,j) in pivots:\n",
    "        cvec[j] = R[i, n-1]\n",
    "    bvecs = [zeros(nvars,1) for _ in range(len(non_pivot_columns))]\n",
    "    for i, j in enumerate(non_pivot_columns):\n",
    "        bvecs[i][j] = 1\n",
    "        for k, l in pivots:\n",
    "            bvecs[i][l] = -R[k,j]\n",
    "    return cvec, bvecs\n",
    "\n",
    "def vector_to_latex(vec, align=''):\n",
    "    if len(align) > 0:\n",
    "        start = '\\\\begin{{bmatrix*}}[{}]'.format(align)\n",
    "        end =  '\\\\end{bmatrix*}'\n",
    "    else:\n",
    "        start = '\\\\begin{bmatrix}'\n",
    "        end = '\\\\end{bmatrix}'\n",
    "    return start + '\\\\\\\\'.join(str(v) for v in vec) + end\n",
    "\n",
    "def rref_to_solution_latex(R, align=''):\n",
    "    cvec, bvecs = rref_to_solution_basis(R)\n",
    "    if cvec is None:\n",
    "        return '\\\\varnothing'\n",
    "    sout = '\\\\left\\\\{' + vector_to_latex(cvec, align=align) + '\\n' \n",
    "    for i, vec in enumerate(bvecs):\n",
    "        sout += '+\\\\lambda_{{{}}}'.format(i+1) + vector_to_latex(vec, align=align) + '\\n'\n",
    "    sout += '\\\\;:\\\\;'\n",
    "    sout += ','.join('\\\\lambda_{{{}}}'.format(i+1) for i in range(len(bvecs)))\n",
    "    sout += '\\\\in\\\\mathbb{R}\\\\right\\\\}\\n'\n",
    "    return sout\n",
    "\n",
    "def make_linear_system_exercise(R, pvalues=range(-4,4), align='', vnames=None):\n",
    "    m, n = R.shape\n",
    "    P = zeros(m)\n",
    "    while P.det() == 0:\n",
    "        for i in range(m):\n",
    "            for j in range(m):\n",
    "                P[i, j] = nsimplify(random.choice(pvalues))\n",
    "    A = P * R\n",
    "    system_str = matrix_to_system_latex(A, vnames)\n",
    "    solution_str = rref_to_solution_latex(R, align=align)\n",
    "    return system_str, solution_str\n",
    "\n",
    "def pattern_to_exercise(pattern, rvalues=range(-5,5), pvalues=range(-3,3), align=''):\n",
    "    m = len(pattern)\n",
    "    n = max(len(pat) for pat in pattern)\n",
    "    R = zeros(m, n)\n",
    "    for i, pat in enumerate(pattern):\n",
    "        for j, s in enumerate(pat):\n",
    "            R[i,j] = 0 if s == '0' else 1 if s == '1' else random.choice(rvalues)\n",
    "    return make_linear_system_exercise(R, pvalues, align=align)\n",
    "\n",
    "def pattern_to_rref(pattern, rvalues=range(-5,5)):\n",
    "    m = len(pattern)\n",
    "    n = max(len(pat) for pat in pattern)\n",
    "    R = zeros(m, n)\n",
    "    for i, pat in enumerate(pattern):\n",
    "        for j, s in enumerate(pat):\n",
    "            R[i,j] = 0 if s == '0' else 1 if s == '1' else random.choice(rvalues)\n",
    "    return R\n",
    "\n",
    "def make_matrix_inversion_exercise(n, cmax=3):\n",
    "    A = eye(n)\n",
    "    cvalues = [k for k in range(-cmax, cmax+1) if k != 0]\n",
    "    nrows, _ = A.shape\n",
    "    for i in range(nrows):\n",
    "        for j in range(nrows):\n",
    "            if i == j:\n",
    "                continue\n",
    "            c = random.choice(cvalues)\n",
    "            A[j,:] += c*A[i,:]\n",
    "            c = random.choice(cvalues)\n",
    "            A[:,j] += c*A[:,i]\n",
    "    return matrix_to_latex(A)\n",
    "\n",
    "def gram_schmidt(ulist):\n",
    "    vlist = [ulist[0]]\n",
    "    n, _ = ulist[0].shape\n",
    "    for u in ulist[1:]:\n",
    "        vlist.append(u - sum([u.dot(v)/v.dot(v)*v for v in vlist], zeros(n, 1)))\n",
    "    return vlist\n",
    "\n",
    "def random_invertible_matrix(n, cvalues=[-1,1], determinant=1):\n",
    "    P = eye(n)\n",
    "    P[0,:] *= determinant\n",
    "    for i in range(n):\n",
    "        for j in range(n):\n",
    "            if i==j:\n",
    "                continue\n",
    "            P[j,:] += random.choice(cvalues)*P[i,:]\n",
    "            P[:,j] += random.choice(cvalues)*P[:,i]        \n",
    "    return P\n",
    "\n",
    "def vector_to_latex(v, align='r'):\n",
    "    strout = '\\\\begin{{bmatrix*}}[{}]'.format(align)\n",
    "    for elem in v:\n",
    "        strout += '{}\\\\\\\\ '.format(latex(elem))\n",
    "    strout +='\\\\end{bmatrix*}'\n",
    "    return strout\n",
    "\n",
    "def matrix_to_latex(A, align='r'):\n",
    "    n, m = A.shape\n",
    "    strout = '\\\\begin{{bmatrix*}}[{}]'.format(align)\n",
    "    for i in range(n):\n",
    "        strout += '&'.join([latex(entry) for entry in A[i,:]]) + '\\\\\\\\'\n",
    "    strout += '\\\\end{bmatrix*}'\n",
    "    return strout"
   ]
  },
  {
   "cell_type": "markdown",
   "metadata": {},
   "source": [
    "# Setup"
   ]
  },
  {
   "cell_type": "code",
   "execution_count": 305,
   "metadata": {
    "collapsed": false
   },
   "outputs": [],
   "source": [
    "latex_jinja_env = jinja2.Environment(\n",
    "    block_start_string = '\\BLOCK{',\n",
    "    block_end_string = '}',\n",
    "    variable_start_string = '\\VAR{',\n",
    "    variable_end_string = '}',\n",
    "    comment_start_string = '\\#{',\n",
    "    comment_end_string = '}',\n",
    "    line_statement_prefix = '%%',\n",
    "    line_comment_prefix = '%#',\n",
    "    trim_blocks = True,\n",
    "    autoescape = False,\n",
    "    loader = jinja2.FileSystemLoader(os.path.abspath('.'))\n",
    ")\n",
    "random.seed(11111111)\n",
    "number_of_versions = 4\n",
    "version_symbols = ['\\\\diamondsuit', '\\\\heartsuit', '\\\\clubsuit', '\\\\spadesuit']\n",
    "file_prefix = 'final-fall2016-'\n",
    "file_suffix = '.tex'\n",
    "output_dir = 'versions'\n",
    "pdf_command = 'pdflatex'"
   ]
  },
  {
   "cell_type": "markdown",
   "metadata": {},
   "source": [
    "# Problem 1: Linear System"
   ]
  },
  {
   "cell_type": "code",
   "execution_count": 306,
   "metadata": {
    "collapsed": true
   },
   "outputs": [],
   "source": [
    "patterns = [[\"10x00xx\",\n",
    "             \"01x00xx\",\n",
    "             \"00010xx\",\n",
    "             \"0000100\"],\n",
    "            [\"1x000xx\",\n",
    "             \"00100xx\",\n",
    "             \"00010xx\",\n",
    "             \"00001xx\"],\n",
    "            [\"1x00x0x\",\n",
    "             \"0010x0x\",\n",
    "             \"0001x0x\",\n",
    "             \"0000010\"],\n",
    "            [\"10x00xx\",\n",
    "             \"01x00xx\",\n",
    "             \"00010xx\",\n",
    "             \"00001xx\"]\n",
    "           ]"
   ]
  },
  {
   "cell_type": "code",
   "execution_count": 307,
   "metadata": {
    "collapsed": false
   },
   "outputs": [
    {
     "name": "stdout",
     "output_type": "stream",
     "text": [
      "['10x00xx', '01x00xx', '00010xx', '0000100']\n",
      "['1x000xx', '00100xx', '00010xx', '00001xx']\n",
      "['1x00x0x', '0010x0x', '0001x0x', '0000010']\n",
      "['10x00xx', '01x00xx', '00010xx', '00001xx']\n"
     ]
    }
   ],
   "source": [
    "problem1_versions = []\n",
    "for pattern in patterns:\n",
    "    print(pattern)\n",
    "    problem, solution = pattern_to_exercise(pattern)\n",
    "    problem1_versions.append(problem)"
   ]
  },
  {
   "cell_type": "markdown",
   "metadata": {},
   "source": [
    "# Problem 2: Matrix Inversion"
   ]
  },
  {
   "cell_type": "code",
   "execution_count": 308,
   "metadata": {
    "collapsed": false
   },
   "outputs": [],
   "source": [
    "problem2_versions = []\n",
    "for _ in range(number_of_versions):\n",
    "    problem = make_matrix_inversion_exercise(4, cmax=1)\n",
    "    problem2_versions.append(problem)"
   ]
  },
  {
   "cell_type": "markdown",
   "metadata": {},
   "source": [
    "# Problem 3: Singular Matrix"
   ]
  },
  {
   "cell_type": "code",
   "execution_count": 309,
   "metadata": {
    "collapsed": false
   },
   "outputs": [],
   "source": [
    "problem3_versions = []\n",
    "for _ in range(number_of_versions):\n",
    "    lbound = 5\n",
    "    lvalues = [v for v in range(-lbound, lbound) if v != 0]\n",
    "    lambda1 = random.choice(lvalues)\n",
    "    lambda2 = lambda1\n",
    "    while lambda2 == lambda1:\n",
    "        lambda2 = random.choice(lvalues)\n",
    "    k = symbols('k')\n",
    "    A = matrix_to_rational([[k, lambda1, 1],[lambda1,k,1],[lambda1,lambda2,1]])\n",
    "    cvalues = [-3, -2, -1, 2, 3]\n",
    "    A[:,2] *= random.choice(cvalues)\n",
    "    A[2,:] *= random.choice(cvalues)\n",
    "    j = random.choice([1,2])\n",
    "    A[:,0], A[:,j] = A[:,j], A[:,0]\n",
    "    A[:,1], A[:,2] = A[:,2], A[:,1]\n",
    "    if random.choice([True,False]):\n",
    "        A[2,:], A[1,:] = A[1,:], A[2,:]\n",
    "    problem3_versions.append(matrix_to_latex(A))"
   ]
  },
  {
   "cell_type": "markdown",
   "metadata": {},
   "source": [
    "# Problem 4: Change of Basis"
   ]
  },
  {
   "cell_type": "code",
   "execution_count": 310,
   "metadata": {
    "collapsed": false
   },
   "outputs": [],
   "source": [
    "problem4_versions = []\n",
    "for _ in range(number_of_versions):\n",
    "    A = random_invertible_matrix(4, cvalues=[-1,1], determinant=1)\n",
    "    vlist = [A[:,j] for j in range(4)]\n",
    "    cvalues = range(-2,3)\n",
    "    v = sum([random.choice(cvalues)*v for v in vlist],ones(4,1))\n",
    "    vlist.append(v)\n",
    "    problem4_versions.append([vector_to_latex(v) for v in vlist])"
   ]
  },
  {
   "cell_type": "markdown",
   "metadata": {},
   "source": [
    "# Problem 5: Range and Kernel"
   ]
  },
  {
   "cell_type": "code",
   "execution_count": 311,
   "metadata": {
    "collapsed": true
   },
   "outputs": [],
   "source": [
    "patterns = [[\"1x0xx\",\n",
    "             \"001xx\",\n",
    "             \"00000\",\n",
    "             \"00000\"],\n",
    "            [\"10x0x\",\n",
    "             \"01x0x\",\n",
    "             \"00010\",\n",
    "             \"00000\"],             \n",
    "            [\"1xx0x\",\n",
    "             \"0001x\",\n",
    "             \"00000\",\n",
    "             \"00000\"],\n",
    "            [\"10x0x\",\n",
    "             \"01x0x\",\n",
    "             \"00010\",\n",
    "             \"00000\"],\n",
    "           ]"
   ]
  },
  {
   "cell_type": "code",
   "execution_count": 312,
   "metadata": {
    "collapsed": false
   },
   "outputs": [],
   "source": [
    "problem5_versions=[]\n",
    "for pattern in patterns:\n",
    "    R = pattern_to_rref(pattern)\n",
    "    m, n = R.shape\n",
    "    P = zeros(m)\n",
    "    pvalues=range(-3,3)\n",
    "    while P.det() == 0:\n",
    "        for i in range(m):\n",
    "            for j in range(m):\n",
    "                P[i, j] = nsimplify(random.choice(pvalues))\n",
    "    A = P * R\n",
    "    problem5_versions.append(matrix_to_latex(A))"
   ]
  },
  {
   "cell_type": "markdown",
   "metadata": {},
   "source": [
    "# Problem 6: Diagonalize Symmetric Matrix"
   ]
  },
  {
   "cell_type": "code",
   "execution_count": 386,
   "metadata": {
    "collapsed": false
   },
   "outputs": [],
   "source": [
    "v1 = Matrix([1,0,1,0])\n",
    "v2 = Matrix([0,1,0,1])\n",
    "v3 = Matrix([1,1,-1,-1])\n",
    "v4 = Matrix([1,-1,-1,1])\n",
    "P=Matrix.hstack(v1,v2,v3,v4)\n",
    "dvals = [-3,-2,-1,1,2,3]\n",
    "problem6_versions=[]\n",
    "for _ in range(4):\n",
    "    a = random.choice(dvals)\n",
    "    b = a\n",
    "    while b==a:\n",
    "        b = random.choice(dvals)\n",
    "    D = diag(a,a,a,b)\n",
    "    A = 4 * P * D * P**(-1)\n",
    "    problem6_versions.append(matrix_to_latex(A))"
   ]
  },
  {
   "cell_type": "markdown",
   "metadata": {},
   "source": [
    "# Problem 8: Properties of dot product"
   ]
  },
  {
   "cell_type": "code",
   "execution_count": 400,
   "metadata": {
    "collapsed": true
   },
   "outputs": [],
   "source": [
    "problem8_versions = [random.choice([2,3,4,5]) for _ in range(4)]"
   ]
  },
  {
   "cell_type": "markdown",
   "metadata": {},
   "source": [
    "# Setup"
   ]
  },
  {
   "cell_type": "code",
   "execution_count": 401,
   "metadata": {
    "collapsed": false
   },
   "outputs": [],
   "source": [
    "latex_jinja_env = jinja2.Environment(\n",
    "    block_start_string = '\\BLOCK{',\n",
    "    block_end_string = '}',\n",
    "    variable_start_string = '\\VAR{',\n",
    "    variable_end_string = '}',\n",
    "    comment_start_string = '\\#{',\n",
    "    comment_end_string = '}',\n",
    "    line_statement_prefix = '%%',\n",
    "    line_comment_prefix = '%#',\n",
    "    trim_blocks = True,\n",
    "    autoescape = False,\n",
    "    loader = jinja2.FileSystemLoader(os.path.abspath('.'))\n",
    ")"
   ]
  },
  {
   "cell_type": "markdown",
   "metadata": {},
   "source": [
    "# Rendering"
   ]
  },
  {
   "cell_type": "code",
   "execution_count": 404,
   "metadata": {
    "collapsed": false
   },
   "outputs": [
    {
     "name": "stdout",
     "output_type": "stream",
     "text": [
      "Generating version 1\n",
      "Generating version 2\n",
      "Generating version 3\n",
      "Generating version 4\n"
     ]
    }
   ],
   "source": [
    "template = latex_jinja_env.get_template('{}template{}'.format(file_prefix, file_suffix))\n",
    "for version_number in range(number_of_versions):\n",
    "    print('Generating version {}'.format(version_number+1))\n",
    "    template_dict = {}\n",
    "    template_dict['version_symbol'] = version_symbols[version_number]\n",
    "    template_dict['problem1'] = problem1_versions[version_number]\n",
    "    template_dict['problem2'] = problem2_versions[version_number]\n",
    "    template_dict['problem3'] = problem3_versions[version_number]\n",
    "    template_dict['problem4_v1'] = problem4_versions[version_number][0]\n",
    "    template_dict['problem4_v2'] = problem4_versions[version_number][1]\n",
    "    template_dict['problem4_v3'] = problem4_versions[version_number][2]\n",
    "    template_dict['problem4_v4'] = problem4_versions[version_number][3]\n",
    "    template_dict['problem4_v5'] = problem4_versions[version_number][4]\n",
    "    template_dict['problem5'] = problem5_versions[version_number]\n",
    "    template_dict['problem6'] = problem6_versions[version_number]\n",
    "    template_dict['problem8'] = problem8_versions[version_number]\n",
    "    sout = template.render(**template_dict)\n",
    "    output_file_name = '{}version{}{}'.format(file_prefix, version_number + 1, file_suffix)\n",
    "    current_dir = os.getcwd()\n",
    "    os.chdir(os.path.join('.', output_dir))\n",
    "    fout = open(output_file_name, 'w')\n",
    "    fout.write(sout)\n",
    "    fout.close()\n",
    "    completed_process = subprocess.run([pdf_command, output_file_name], stdout=subprocess.PIPE)\n",
    "    os.chdir(current_dir)"
   ]
  },
  {
   "cell_type": "code",
   "execution_count": null,
   "metadata": {
    "collapsed": true
   },
   "outputs": [],
   "source": []
  }
 ],
 "metadata": {
  "kernelspec": {
   "display_name": "Python 3",
   "language": "python",
   "name": "python3"
  },
  "language_info": {
   "codemirror_mode": {
    "name": "ipython",
    "version": 3
   },
   "file_extension": ".py",
   "mimetype": "text/x-python",
   "name": "python",
   "nbconvert_exporter": "python",
   "pygments_lexer": "ipython3",
   "version": "3.5.1"
  }
 },
 "nbformat": 4,
 "nbformat_minor": 0
}
