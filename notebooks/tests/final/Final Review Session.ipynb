{
 "cells": [
  {
   "cell_type": "code",
   "execution_count": 1,
   "metadata": {
    "collapsed": true
   },
   "outputs": [],
   "source": [
    "from latools import *\n",
    "from sympy import *\n",
    "init_printing(use_latex=True)"
   ]
  },
  {
   "cell_type": "markdown",
   "metadata": {},
   "source": [
    "# Problem 3"
   ]
  },
  {
   "cell_type": "code",
   "execution_count": 2,
   "metadata": {
    "collapsed": false
   },
   "outputs": [
    {
     "data": {
      "image/png": "[encoded data removed]",
      "text/latex": [
       "$$\\left[\\begin{matrix}1 & 182 & 20 & 1\\\\1 & 173 & 18 & 1\\\\1 & 158 & 22 & 0\\\\1 & 160 & 22 & 0\\\\1 & 169 & 21 & 0\\end{matrix}\\right]$$"
      ],
      "text/plain": [
       "⎡1  182  20  1⎤\n",
       "⎢             ⎥\n",
       "⎢1  173  18  1⎥\n",
       "⎢             ⎥\n",
       "⎢1  158  22  0⎥\n",
       "⎢             ⎥\n",
       "⎢1  160  22  0⎥\n",
       "⎢             ⎥\n",
       "⎣1  169  21  0⎦"
      ]
     },
     "execution_count": 2,
     "metadata": {},
     "output_type": "execute_result"
    }
   ],
   "source": [
    "A = matrix_to_rational([[1,182,20,1],\n",
    "                        [1,173,18,1],\n",
    "                        [1,158,22,0],\n",
    "                        [1,160,22,0],\n",
    "                        [1,169,21,0]])\n",
    "A"
   ]
  },
  {
   "cell_type": "code",
   "execution_count": 3,
   "metadata": {
    "collapsed": false
   },
   "outputs": [
    {
     "data": {
      "image/png": "[encoded data removed]",
      "text/latex": [
       "$$\\left[\\begin{matrix}87\\\\79\\\\47\\\\51\\\\59\\end{matrix}\\right]$$"
      ],
      "text/plain": [
       "⎡87⎤\n",
       "⎢  ⎥\n",
       "⎢79⎥\n",
       "⎢  ⎥\n",
       "⎢47⎥\n",
       "⎢  ⎥\n",
       "⎢51⎥\n",
       "⎢  ⎥\n",
       "⎣59⎦"
      ]
     },
     "execution_count": 3,
     "metadata": {},
     "output_type": "execute_result"
    }
   ],
   "source": [
    "b = Matrix([87,79,47,51,59])\n",
    "b"
   ]
  },
  {
   "cell_type": "code",
   "execution_count": 4,
   "metadata": {
    "collapsed": false
   },
   "outputs": [
    {
     "data": {
      "image/png": "[encoded data removed]",
      "text/latex": [
       "$$\\left[\\begin{matrix}5 & 842 & 103 & 2\\\\842 & 142178 & 17299 & 355\\\\103 & 17299 & 2133 & 38\\\\2 & 355 & 38 & 2\\end{matrix}\\right]$$"
      ],
      "text/plain": [
       "⎡ 5    842     103    2 ⎤\n",
       "⎢                       ⎥\n",
       "⎢842  142178  17299  355⎥\n",
       "⎢                       ⎥\n",
       "⎢103  17299   2133   38 ⎥\n",
       "⎢                       ⎥\n",
       "⎣ 2    355     38     2 ⎦"
      ]
     },
     "execution_count": 4,
     "metadata": {},
     "output_type": "execute_result"
    }
   ],
   "source": [
    "M = A.T * A\n",
    "M"
   ]
  },
  {
   "cell_type": "code",
   "execution_count": 5,
   "metadata": {
    "collapsed": false
   },
   "outputs": [
    {
     "data": {
      "image/png": "[encoded data removed]",
      "text/latex": [
       "$$1714$$"
      ],
      "text/plain": [
       "1714"
      ]
     },
     "execution_count": 5,
     "metadata": {},
     "output_type": "execute_result"
    }
   ],
   "source": [
    "det(M)"
   ]
  },
  {
   "cell_type": "code",
   "execution_count": 7,
   "metadata": {
    "collapsed": false
   },
   "outputs": [
    {
     "data": {
      "image/png": "[encoded data removed]",
      "text/latex": [
       "$$\\left[\\begin{matrix}323\\\\55058\\\\6557\\\\166\\end{matrix}\\right]$$"
      ],
      "text/plain": [
       "⎡ 323 ⎤\n",
       "⎢     ⎥\n",
       "⎢55058⎥\n",
       "⎢     ⎥\n",
       "⎢6557 ⎥\n",
       "⎢     ⎥\n",
       "⎣ 166 ⎦"
      ]
     },
     "execution_count": 7,
     "metadata": {},
     "output_type": "execute_result"
    }
   ],
   "source": [
    "b1 = A.T * b\n",
    "b1"
   ]
  },
  {
   "cell_type": "code",
   "execution_count": 8,
   "metadata": {
    "collapsed": false
   },
   "outputs": [
    {
     "data": {
      "image/png": "[encoded data removed]",
      "text/latex": [
       "$$\\left[\\begin{matrix}- \\frac{85443}{857}\\\\\\frac{844}{857}\\\\- \\frac{310}{857}\\\\\\frac{12654}{857}\\end{matrix}\\right]$$"
      ],
      "text/plain": [
       "⎡-85443 ⎤\n",
       "⎢───────⎥\n",
       "⎢  857  ⎥\n",
       "⎢       ⎥\n",
       "⎢  844  ⎥\n",
       "⎢  ───  ⎥\n",
       "⎢  857  ⎥\n",
       "⎢       ⎥\n",
       "⎢ -310  ⎥\n",
       "⎢ ───── ⎥\n",
       "⎢  857  ⎥\n",
       "⎢       ⎥\n",
       "⎢ 12654 ⎥\n",
       "⎢ ───── ⎥\n",
       "⎣  857  ⎦"
      ]
     },
     "execution_count": 8,
     "metadata": {},
     "output_type": "execute_result"
    }
   ],
   "source": [
    "# M x = b1\n",
    "c = M**(-1) * b1\n",
    "c"
   ]
  },
  {
   "cell_type": "code",
   "execution_count": 9,
   "metadata": {
    "collapsed": false
   },
   "outputs": [
    {
     "data": {
      "image/png": "[encoded data removed]",
      "text/latex": [
       "$$\\left [ -99.70011668611436, \\quad 0.9848308051341891, \\quad -0.3617269544924154, \\quad 14.765460910151692\\right ]$$"
      ],
      "text/plain": [
       "[-99.70011668611436, 0.9848308051341891, -0.3617269544924154, 14.7654609101516\n",
       "92]"
      ]
     },
     "execution_count": 9,
     "metadata": {},
     "output_type": "execute_result"
    }
   ],
   "source": [
    "[float(v) for v in c]"
   ]
  },
  {
   "cell_type": "markdown",
   "metadata": {},
   "source": [
    "# Problem 9"
   ]
  },
  {
   "cell_type": "code",
   "execution_count": 10,
   "metadata": {
    "collapsed": false
   },
   "outputs": [
    {
     "data": {
      "image/png": "[encoded data removed]",
      "text/latex": [
       "$$\\left[\\begin{matrix}0 & -1 & -4 & -1\\\\-2 & 7 & -6 & -1\\\\3 & -13 & -1 & -1\\\\3 & -14 & -5 & -2\\end{matrix}\\right]$$"
      ],
      "text/plain": [
       "⎡0   -1   -4  -1⎤\n",
       "⎢               ⎥\n",
       "⎢-2   7   -6  -1⎥\n",
       "⎢               ⎥\n",
       "⎢3   -13  -1  -1⎥\n",
       "⎢               ⎥\n",
       "⎣3   -14  -5  -2⎦"
      ]
     },
     "execution_count": 10,
     "metadata": {},
     "output_type": "execute_result"
    }
   ],
   "source": [
    "A = matrix_to_rational([[0,-1,-4,-1],\n",
    "                        [-2,7,-6,-1],\n",
    "                        [3,-13,-1,-1],\n",
    "                        [3,-14,-5,-2]])\n",
    "A"
   ]
  },
  {
   "cell_type": "code",
   "execution_count": 11,
   "metadata": {
    "collapsed": false
   },
   "outputs": [
    {
     "data": {
      "image/png": "[encoded data removed]",
      "text/latex": [
       "$$\\left[\\begin{matrix}1 & 0 & 17 & 4\\\\0 & 1 & 4 & 1\\\\0 & 0 & 0 & 0\\\\0 & 0 & 0 & 0\\end{matrix}\\right]$$"
      ],
      "text/plain": [
       "⎡1  0  17  4⎤\n",
       "⎢           ⎥\n",
       "⎢0  1  4   1⎥\n",
       "⎢           ⎥\n",
       "⎢0  0  0   0⎥\n",
       "⎢           ⎥\n",
       "⎣0  0  0   0⎦"
      ]
     },
     "execution_count": 11,
     "metadata": {},
     "output_type": "execute_result"
    }
   ],
   "source": [
    "R = reduced_row_echelon_form(A)\n",
    "R"
   ]
  },
  {
   "cell_type": "markdown",
   "metadata": {},
   "source": [
    "Pivot columns: 1, 2\n",
    "Basis for the range: columns 1 and 2 of the matrix.\n"
   ]
  },
  {
   "cell_type": "markdown",
   "metadata": {},
   "source": [
    "Kernel:\n",
    "\\begin{align*}\n",
    "&x_1+17x_3+4x_4=0\\\\\n",
    "&x_2+4x_3+x_4=0\n",
    "\\end{align*}"
   ]
  },
  {
   "cell_type": "code",
   "execution_count": null,
   "metadata": {
    "collapsed": true
   },
   "outputs": [],
   "source": []
  }
 ],
 "metadata": {
  "kernelspec": {
   "display_name": "Python 3",
   "language": "python",
   "name": "python3"
  },
  "language_info": {
   "codemirror_mode": {
    "name": "ipython",
    "version": 3
   },
   "file_extension": ".py",
   "mimetype": "text/x-python",
   "name": "python",
   "nbconvert_exporter": "python",
   "pygments_lexer": "ipython3",
   "version": "3.5.1"
  }
 },
 "nbformat": 4,
 "nbformat_minor": 0
}
