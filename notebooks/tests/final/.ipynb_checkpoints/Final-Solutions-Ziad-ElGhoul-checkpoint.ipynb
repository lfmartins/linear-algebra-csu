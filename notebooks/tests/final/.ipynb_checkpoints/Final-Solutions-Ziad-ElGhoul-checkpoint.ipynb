{
 "cells": [
  {
   "cell_type": "code",
   "execution_count": 2,
   "metadata": {
    "collapsed": true
   },
   "outputs": [],
   "source": [
    "from latools import *\n",
    "from sympy import *\n",
    "init_printing(use_latex=True)"
   ]
  },
  {
   "cell_type": "markdown",
   "metadata": {
    "collapsed": true
   },
   "source": [
    "# Problem 2"
   ]
  },
  {
   "cell_type": "markdown",
   "metadata": {
    "collapsed": true
   },
   "source": [
    "## Spade"
   ]
  },
  {
   "cell_type": "code",
   "execution_count": 26,
   "metadata": {
    "collapsed": false
   },
   "outputs": [
    {
     "data": {
      "image/png": "[encoded data removed]",
      "text/latex": [
       "$$\\left[\\begin{matrix}3 & 5 & -1 & 3 & 1 & 0 & 0 & 0\\\\7 & 8 & -1 & 5 & 0 & 1 & 0 & 0\\\\-5 & -1 & -2 & -1 & 0 & 0 & 1 & 0\\\\-5 & -3 & -1 & -2 & 0 & 0 & 0 & 1\\end{matrix}\\right]$$"
      ],
      "text/plain": [
       "⎡3   5   -1  3   1  0  0  0⎤\n",
       "⎢                          ⎥\n",
       "⎢7   8   -1  5   0  1  0  0⎥\n",
       "⎢                          ⎥\n",
       "⎢-5  -1  -2  -1  0  0  1  0⎥\n",
       "⎢                          ⎥\n",
       "⎣-5  -3  -1  -2  0  0  0  1⎦"
      ]
     },
     "execution_count": 26,
     "metadata": {},
     "output_type": "execute_result"
    }
   ],
   "source": [
    "A = matrix_to_rational([[ 3,  5, -1,  3, 1, 0, 0, 0],\n",
    "                        [ 7,  8, -1,  5, 0, 1, 0, 0],\n",
    "                        [-5, -1, -2, -1, 0, 0, 1, 0],\n",
    "                        [-5, -3, -1, -2, 0, 0, 0, 1]])\n",
    "A"
   ]
  },
  {
   "cell_type": "code",
   "execution_count": 33,
   "metadata": {
    "collapsed": false
   },
   "outputs": [
    {
     "data": {
      "image/png": "[encoded data removed]",
      "text/latex": [
       "$$\\left[\\begin{matrix}1 & \\frac{5}{3} & - \\frac{1}{3} & 1 & \\frac{1}{3} & 0 & 0 & 0\\\\0 & - \\frac{11}{3} & \\frac{4}{3} & -2 & - \\frac{7}{3} & 1 & 0 & 0\\\\0 & \\frac{22}{15} & - \\frac{11}{15} & \\frac{4}{5} & \\frac{1}{3} & 0 & \\frac{1}{5} & 0\\\\0 & \\frac{16}{15} & - \\frac{8}{15} & \\frac{3}{5} & \\frac{1}{3} & 0 & 0 & \\frac{1}{5}\\end{matrix}\\right]$$"
      ],
      "text/plain": [
       "⎡1   5/3   -1/3    1   1/3   0   0    0 ⎤\n",
       "⎢                                       ⎥\n",
       "⎢0  -11/3   4/3   -2   -7/3  1   0    0 ⎥\n",
       "⎢                                       ⎥\n",
       "⎢    22    -11                          ⎥\n",
       "⎢0   ──    ────   4/5  1/3   0  1/5   0 ⎥\n",
       "⎢    15     15                          ⎥\n",
       "⎢                                       ⎥\n",
       "⎢    16                                 ⎥\n",
       "⎢0   ──    -8/15  3/5  1/3   0   0   1/5⎥\n",
       "⎣    15                                 ⎦"
      ]
     },
     "execution_count": 33,
     "metadata": {},
     "output_type": "execute_result"
    }
   ],
   "source": [
    "A1 = rop(A,'R1*(1/3)=>R1', 'R1*(-7)+R2=>R2', 'R3*(1/5)=>R3', 'R4*(1/5)=>R4','R1*(1)+R3=>R3',\n",
    "           'R1*(1)+R4=>R4')\n",
    "A1"
   ]
  },
  {
   "cell_type": "code",
   "execution_count": 37,
   "metadata": {
    "collapsed": false
   },
   "outputs": [
    {
     "data": {
      "image/png": "[encoded data removed]",
      "text/latex": [
       "$$\\left[\\begin{matrix}1 & \\frac{5}{3} & - \\frac{1}{3} & 1 & \\frac{1}{3} & 0 & 0 & 0\\\\0 & - \\frac{11}{3} & \\frac{4}{3} & -2 & - \\frac{7}{3} & 1 & 0 & 0\\\\0 & - \\frac{11}{5} & \\frac{3}{5} & - \\frac{6}{5} & -2 & 1 & \\frac{1}{5} & 0\\\\0 & - \\frac{14}{3} & \\frac{11}{6} & - \\frac{41}{16} & - \\frac{127}{48} & 1 & 0 & - \\frac{3}{16}\\end{matrix}\\right]$$"
      ],
      "text/plain": [
       "⎡1   5/3   -1/3   1     1/3   0   0     0  ⎤\n",
       "⎢                                          ⎥\n",
       "⎢0  -11/3  4/3    -2   -7/3   1   0     0  ⎥\n",
       "⎢                                          ⎥\n",
       "⎢0  -11/5  3/5   -6/5   -2    1  1/5    0  ⎥\n",
       "⎢                                          ⎥\n",
       "⎢                -41   -127                ⎥\n",
       "⎢0  -14/3  11/6  ────  ─────  1   0   -3/16⎥\n",
       "⎣                 16     48                ⎦"
      ]
     },
     "execution_count": 37,
     "metadata": {},
     "output_type": "execute_result"
    }
   ],
   "source": [
    "A2 = rop(A1, 'R4*(-15/16)=>R4', 'R2*(1)+R3=>R3', 'R2*(1)+R4=>R4')\n",
    "A2"
   ]
  },
  {
   "cell_type": "code",
   "execution_count": 38,
   "metadata": {
    "collapsed": false
   },
   "outputs": [
    {
     "data": {
      "image/png": "[encoded data removed]",
      "text/latex": [
       "$$\\left[\\begin{matrix}1 & \\frac{5}{3} & - \\frac{1}{3} & 1 & \\frac{1}{3} & 0 & 0 & 0\\\\0 & - \\frac{11}{3} & \\frac{4}{3} & -2 & - \\frac{7}{3} & 1 & 0 & 0\\\\0 & - \\frac{242}{15} & \\frac{22}{5} & - \\frac{44}{5} & - \\frac{44}{3} & \\frac{22}{3} & \\frac{22}{15} & 0\\\\0 & - \\frac{14}{3} & \\frac{11}{6} & - \\frac{41}{16} & - \\frac{127}{48} & 1 & 0 & - \\frac{3}{16}\\end{matrix}\\right]$$"
      ],
      "text/plain": [
       "⎡1   5/3   -1/3    1     1/3    0    0     0  ⎤\n",
       "⎢                                             ⎥\n",
       "⎢0  -11/3  4/3    -2    -7/3    1    0     0  ⎥\n",
       "⎢                                             ⎥\n",
       "⎢   -242                             22       ⎥\n",
       "⎢0  ─────  22/5  -44/5  -44/3  22/3  ──    0  ⎥\n",
       "⎢     15                             15       ⎥\n",
       "⎢                                             ⎥\n",
       "⎢                -41    -127                  ⎥\n",
       "⎢0  -14/3  11/6  ────   ─────   1    0   -3/16⎥\n",
       "⎣                 16      48                  ⎦"
      ]
     },
     "execution_count": 38,
     "metadata": {},
     "output_type": "execute_result"
    }
   ],
   "source": [
    "A3 = rop(A2, 'R3*(22/3)=>R3')\n",
    "A3"
   ]
  },
  {
   "cell_type": "code",
   "execution_count": 39,
   "metadata": {
    "collapsed": false
   },
   "outputs": [
    {
     "data": {
      "image/png": "[encoded data removed]",
      "text/latex": [
       "$$\\left[\\begin{matrix}1 & \\frac{5}{3} & - \\frac{1}{3} & 1 & \\frac{1}{3} & 0 & 0 & 0\\\\0 & - \\frac{11}{3} & \\frac{4}{3} & -2 & - \\frac{7}{3} & 1 & 0 & 0\\\\0 & - \\frac{242}{15} & \\frac{22}{5} & - \\frac{44}{5} & - \\frac{44}{3} & \\frac{22}{3} & \\frac{22}{15} & 0\\\\0 & \\frac{308}{9} & - \\frac{121}{9} & \\frac{451}{24} & \\frac{1397}{72} & - \\frac{22}{3} & 0 & \\frac{11}{8}\\end{matrix}\\right]$$"
      ],
      "text/plain": [
       "⎡1   5/3    -1/3     1     1/3     0    0    0  ⎤\n",
       "⎢                                               ⎥\n",
       "⎢0  -11/3   4/3     -2    -7/3     1    0    0  ⎥\n",
       "⎢                                               ⎥\n",
       "⎢   -242                                22      ⎥\n",
       "⎢0  ─────   22/5   -44/5  -44/3  22/3   ──   0  ⎥\n",
       "⎢     15                                15      ⎥\n",
       "⎢                                               ⎥\n",
       "⎢                   451   1397                  ⎥\n",
       "⎢0  308/9  -121/9   ───   ────   -22/3  0   11/8⎥\n",
       "⎣                    24    72                   ⎦"
      ]
     },
     "execution_count": 39,
     "metadata": {},
     "output_type": "execute_result"
    }
   ],
   "source": [
    "A4 = rop(A3, 'R4*(-22/3)=>R4')\n",
    "A4"
   ]
  },
  {
   "cell_type": "code",
   "execution_count": 40,
   "metadata": {
    "collapsed": false
   },
   "outputs": [
    {
     "data": {
      "image/png": "[encoded data removed]",
      "text/latex": [
       "$$\\left[\\begin{matrix}1 & \\frac{5}{3} & - \\frac{1}{3} & 1 & \\frac{1}{3} & 0 & 0 & 0\\\\0 & - \\frac{11}{3} & \\frac{4}{3} & -2 & - \\frac{7}{3} & 1 & 0 & 0\\\\0 & - \\frac{242}{15} & \\frac{22}{5} & - \\frac{44}{5} & - \\frac{44}{3} & \\frac{22}{3} & \\frac{22}{15} & 0\\\\0 & - \\frac{6776}{27} & \\frac{2662}{27} & - \\frac{4961}{36} & - \\frac{15367}{108} & \\frac{484}{9} & 0 & - \\frac{121}{12}\\end{matrix}\\right]$$"
      ],
      "text/plain": [
       "⎡1   5/3    -1/3    1       1/3      0    0     0  ⎤\n",
       "⎢                                                  ⎥\n",
       "⎢0  -11/3   4/3     -2     -7/3      1    0     0  ⎥\n",
       "⎢                                                  ⎥\n",
       "⎢   -242                                  22       ⎥\n",
       "⎢0  ─────   22/5  -44/5    -44/3   22/3   ──    0  ⎥\n",
       "⎢     15                                  15       ⎥\n",
       "⎢                                                  ⎥\n",
       "⎢   -6776   2662  -4961   -15367              -121 ⎥\n",
       "⎢0  ──────  ────  ──────  ───────  484/9  0   ─────⎥\n",
       "⎣     27     27     36      108                 12 ⎦"
      ]
     },
     "execution_count": 40,
     "metadata": {},
     "output_type": "execute_result"
    }
   ],
   "source": [
    "A5 = rop(A4, 'R4*(-22/3)=>R4')\n",
    "A5"
   ]
  },
  {
   "cell_type": "code",
   "execution_count": 41,
   "metadata": {
    "collapsed": false
   },
   "outputs": [
    {
     "data": {
      "image/png": "[encoded data removed]",
      "text/latex": [
       "$$\\left[\\begin{matrix}1 & \\frac{5}{3} & - \\frac{1}{3} & 1 & \\frac{1}{3} & 0 & 0 & 0\\\\0 & - \\frac{11}{3} & \\frac{4}{3} & -2 & - \\frac{7}{3} & 1 & 0 & 0\\\\0 & - \\frac{242}{15} & \\frac{22}{5} & - \\frac{44}{5} & - \\frac{44}{3} & \\frac{22}{3} & \\frac{22}{15} & 0\\\\0 & - \\frac{36058}{135} & \\frac{13904}{135} & - \\frac{26389}{180} & - \\frac{16951}{108} & \\frac{550}{9} & \\frac{22}{15} & - \\frac{121}{12}\\end{matrix}\\right]$$"
      ],
      "text/plain": [
       "⎡1    5/3    -1/3      1       1/3      0    0     0  ⎤\n",
       "⎢                                                     ⎥\n",
       "⎢0   -11/3    4/3     -2      -7/3      1    0     0  ⎥\n",
       "⎢                                                     ⎥\n",
       "⎢    -242                                    22       ⎥\n",
       "⎢0   ─────   22/5    -44/5    -44/3   22/3   ──    0  ⎥\n",
       "⎢      15                                    15       ⎥\n",
       "⎢                                                     ⎥\n",
       "⎢   -36058   13904  -26389   -16951          22  -121 ⎥\n",
       "⎢0  ───────  ─────  ───────  ───────  550/9  ──  ─────⎥\n",
       "⎣     135     135     180      108           15    12 ⎦"
      ]
     },
     "execution_count": 41,
     "metadata": {},
     "output_type": "execute_result"
    }
   ],
   "source": [
    "A6 = rop(A5, 'R3*(1)+R4=>R4')\n",
    "A6"
   ]
  },
  {
   "cell_type": "code",
   "execution_count": 42,
   "metadata": {
    "collapsed": false
   },
   "outputs": [
    {
     "data": {
      "image/png": "[encoded data removed]",
      "text/latex": [
       "$$\\left[\\begin{matrix}1 & \\frac{5}{3} & - \\frac{1}{3} & 1 & \\frac{1}{3} & 0 & 0 & 0\\\\0 & - \\frac{143}{15} & \\frac{44}{15} & - \\frac{26}{5} & - \\frac{23}{3} & \\frac{11}{3} & \\frac{8}{15} & 0\\\\0 & - \\frac{242}{15} & \\frac{22}{5} & - \\frac{44}{5} & - \\frac{44}{3} & \\frac{22}{3} & \\frac{22}{15} & 0\\\\0 & - \\frac{36058}{135} & \\frac{13904}{135} & - \\frac{26389}{180} & - \\frac{16951}{108} & \\frac{550}{9} & \\frac{22}{15} & - \\frac{121}{12}\\end{matrix}\\right]$$"
      ],
      "text/plain": [
       "⎡1    5/3    -1/3      1       1/3      0     0      0  ⎤\n",
       "⎢                                                       ⎥\n",
       "⎢    -143     44                                        ⎥\n",
       "⎢0   ─────    ──     -26/5    -23/3   11/3   8/15    0  ⎥\n",
       "⎢      15     15                                        ⎥\n",
       "⎢                                                       ⎥\n",
       "⎢    -242                                     22        ⎥\n",
       "⎢0   ─────   22/5    -44/5    -44/3   22/3    ──     0  ⎥\n",
       "⎢      15                                     15        ⎥\n",
       "⎢                                                       ⎥\n",
       "⎢   -36058   13904  -26389   -16951           22   -121 ⎥\n",
       "⎢0  ───────  ─────  ───────  ───────  550/9   ──   ─────⎥\n",
       "⎣     135     135     180      108            15     12 ⎦"
      ]
     },
     "execution_count": 42,
     "metadata": {},
     "output_type": "execute_result"
    }
   ],
   "source": [
    "A7 = rop(A6, 'R3*(4/11)+R2=>R2')\n",
    "A7"
   ]
  },
  {
   "cell_type": "code",
   "execution_count": 44,
   "metadata": {
    "collapsed": false
   },
   "outputs": [
    {
     "data": {
      "image/png": "[encoded data removed]",
      "text/latex": [
       "$$\\left[\\begin{matrix}1 & \\frac{5}{3} & - \\frac{1}{3} & 1 & \\frac{1}{3} & 0 & 0 & 0\\\\0 & - \\frac{143}{15} & \\frac{44}{15} & - \\frac{26}{5} & - \\frac{23}{3} & \\frac{11}{3} & \\frac{8}{15} & 0\\\\0 & - \\frac{242}{15} & \\frac{22}{5} & - \\frac{44}{5} & - \\frac{44}{3} & \\frac{22}{3} & \\frac{22}{15} & 0\\\\0 & - \\frac{288464}{135} & \\frac{111232}{135} & - \\frac{52778}{45} & - \\frac{33902}{27} & \\frac{4400}{9} & \\frac{176}{15} & - \\frac{242}{3}\\end{matrix}\\right]$$"
      ],
      "text/plain": [
       "⎡1    5/3      -1/3      1       1/3      0      0      0   ⎤\n",
       "⎢                                                           ⎥\n",
       "⎢    -143       44                                          ⎥\n",
       "⎢0   ─────      ──     -26/5    -23/3    11/3   8/15    0   ⎥\n",
       "⎢      15       15                                          ⎥\n",
       "⎢                                                           ⎥\n",
       "⎢    -242                                        22         ⎥\n",
       "⎢0   ─────     22/5    -44/5    -44/3    22/3    ──     0   ⎥\n",
       "⎢      15                                        15         ⎥\n",
       "⎢                                                           ⎥\n",
       "⎢   -288464   111232  -52778   -33902           176         ⎥\n",
       "⎢0  ────────  ──────  ───────  ───────  4400/9  ───   -242/3⎥\n",
       "⎣     135      135       45       27             15         ⎦"
      ]
     },
     "execution_count": 44,
     "metadata": {},
     "output_type": "execute_result"
    }
   ],
   "source": [
    "A8 = rop(A7, 'R4*(8)=>R4')\n",
    "A8"
   ]
  },
  {
   "cell_type": "code",
   "execution_count": 45,
   "metadata": {
    "collapsed": false
   },
   "outputs": [
    {
     "data": {
      "image/png": "[encoded data removed]",
      "text/latex": [
       "$$\\left[\\begin{matrix}1 & \\frac{91}{15} & - \\frac{23}{15} & \\frac{17}{5} & \\frac{13}{3} & -2 & - \\frac{2}{5} & 0\\\\0 & - \\frac{143}{15} & \\frac{44}{15} & - \\frac{26}{5} & - \\frac{23}{3} & \\frac{11}{3} & \\frac{8}{15} & 0\\\\0 & - \\frac{242}{15} & \\frac{22}{5} & - \\frac{44}{5} & - \\frac{44}{3} & \\frac{22}{3} & \\frac{22}{15} & 0\\\\0 & - \\frac{288464}{135} & \\frac{111232}{135} & - \\frac{52778}{45} & - \\frac{33902}{27} & \\frac{4400}{9} & \\frac{176}{15} & - \\frac{242}{3}\\end{matrix}\\right]$$"
      ],
      "text/plain": [
       "⎡      91      -23                                          ⎤\n",
       "⎢1     ──      ────    17/5     13/3      -2    -2/5    0   ⎥\n",
       "⎢      15       15                                          ⎥\n",
       "⎢                                                           ⎥\n",
       "⎢    -143       44                                          ⎥\n",
       "⎢0   ─────      ──     -26/5    -23/3    11/3   8/15    0   ⎥\n",
       "⎢      15       15                                          ⎥\n",
       "⎢                                                           ⎥\n",
       "⎢    -242                                        22         ⎥\n",
       "⎢0   ─────     22/5    -44/5    -44/3    22/3    ──     0   ⎥\n",
       "⎢      15                                        15         ⎥\n",
       "⎢                                                           ⎥\n",
       "⎢   -288464   111232  -52778   -33902           176         ⎥\n",
       "⎢0  ────────  ──────  ───────  ───────  4400/9  ───   -242/3⎥\n",
       "⎣     135      135       45       27             15         ⎦"
      ]
     },
     "execution_count": 45,
     "metadata": {},
     "output_type": "execute_result"
    }
   ],
   "source": [
    "A9 = rop(A8, 'R3*(-3/11)+R1=>R1')\n",
    "A9"
   ]
  },
  {
   "cell_type": "code",
   "execution_count": 46,
   "metadata": {
    "collapsed": false
   },
   "outputs": [
    {
     "data": {
      "image/png": "[encoded data removed]",
      "text/latex": [
       "$$\\left[\\begin{matrix}1 & \\frac{27043}{135} & - \\frac{10319}{135} & \\frac{4951}{45} & \\frac{3199}{27} & - \\frac{418}{9} & - \\frac{22}{15} & \\frac{22}{3}\\\\0 & - \\frac{143}{15} & \\frac{44}{15} & - \\frac{26}{5} & - \\frac{23}{3} & \\frac{11}{3} & \\frac{8}{15} & 0\\\\0 & - \\frac{242}{15} & \\frac{22}{5} & - \\frac{44}{5} & - \\frac{44}{3} & \\frac{22}{3} & \\frac{22}{15} & 0\\\\0 & - \\frac{288464}{135} & \\frac{111232}{135} & - \\frac{52778}{45} & - \\frac{33902}{27} & \\frac{4400}{9} & \\frac{176}{15} & - \\frac{242}{3}\\end{matrix}\\right]$$"
      ],
      "text/plain": [
       "⎡    27043    -10319    4951     3199            -22         ⎤\n",
       "⎢1   ─────    ───────   ────     ────    -418/9  ────   22/3 ⎥\n",
       "⎢     135       135      45       27              15         ⎥\n",
       "⎢                                                            ⎥\n",
       "⎢    -143       44                                           ⎥\n",
       "⎢0   ─────      ──      -26/5    -23/3    11/3   8/15    0   ⎥\n",
       "⎢      15       15                                           ⎥\n",
       "⎢                                                            ⎥\n",
       "⎢    -242                                         22         ⎥\n",
       "⎢0   ─────     22/5     -44/5    -44/3    22/3    ──     0   ⎥\n",
       "⎢      15                                         15         ⎥\n",
       "⎢                                                            ⎥\n",
       "⎢   -288464   111232   -52778   -33902           176         ⎥\n",
       "⎢0  ────────  ──────   ───────  ───────  4400/9  ───   -242/3⎥\n",
       "⎣     135      135        45       27             15         ⎦"
      ]
     },
     "execution_count": 46,
     "metadata": {},
     "output_type": "execute_result"
    }
   ],
   "source": [
    "A10 = rop(A9, 'R4*(-1/11)+R1=>R1')\n",
    "A10"
   ]
  },
  {
   "cell_type": "code",
   "execution_count": 47,
   "metadata": {
    "collapsed": false
   },
   "outputs": [
    {
     "data": {
      "image/png": "[encoded data removed]",
      "text/latex": [
       "$$\\left[\\begin{matrix}1 & \\frac{27043}{135} & - \\frac{10319}{135} & \\frac{4951}{45} & \\frac{3199}{27} & - \\frac{418}{9} & - \\frac{22}{15} & \\frac{22}{3}\\\\0 & \\frac{52019}{45} & - \\frac{20092}{45} & \\frac{9518}{15} & \\frac{6095}{9} & -263 & - \\frac{88}{15} & 44\\\\0 & - \\frac{242}{15} & \\frac{22}{5} & - \\frac{44}{5} & - \\frac{44}{3} & \\frac{22}{3} & \\frac{22}{15} & 0\\\\0 & - \\frac{288464}{135} & \\frac{111232}{135} & - \\frac{52778}{45} & - \\frac{33902}{27} & \\frac{4400}{9} & \\frac{176}{15} & - \\frac{242}{3}\\end{matrix}\\right]$$"
      ],
      "text/plain": [
       "⎡    27043    -10319    4951     3199            -22         ⎤\n",
       "⎢1   ─────    ───────   ────     ────    -418/9  ────   22/3 ⎥\n",
       "⎢     135       135      45       27              15         ⎥\n",
       "⎢                                                            ⎥\n",
       "⎢    52019    -20092    9518                     -88         ⎥\n",
       "⎢0   ─────    ───────   ────    6095/9    -263   ────    44  ⎥\n",
       "⎢      45        45      15                       15         ⎥\n",
       "⎢                                                            ⎥\n",
       "⎢    -242                                         22         ⎥\n",
       "⎢0   ─────     22/5     -44/5    -44/3    22/3    ──     0   ⎥\n",
       "⎢      15                                         15         ⎥\n",
       "⎢                                                            ⎥\n",
       "⎢   -288464   111232   -52778   -33902           176         ⎥\n",
       "⎢0  ────────  ──────   ───────  ───────  4400/9  ───   -242/3⎥\n",
       "⎣     135      135        45       27             15         ⎦"
      ]
     },
     "execution_count": 47,
     "metadata": {},
     "output_type": "execute_result"
    }
   ],
   "source": [
    "A11 = rop(A10, 'R4*(-6/11)+R2=>R2')\n",
    "A11"
   ]
  },
  {
   "cell_type": "code",
   "execution_count": null,
   "metadata": {
    "collapsed": true
   },
   "outputs": [],
   "source": []
  },
  {
   "cell_type": "code",
   "execution_count": null,
   "metadata": {
    "collapsed": true
   },
   "outputs": [],
   "source": []
  },
  {
   "cell_type": "code",
   "execution_count": null,
   "metadata": {
    "collapsed": true
   },
   "outputs": [],
   "source": []
  },
  {
   "cell_type": "code",
   "execution_count": null,
   "metadata": {
    "collapsed": true
   },
   "outputs": [],
   "source": []
  },
  {
   "cell_type": "code",
   "execution_count": null,
   "metadata": {
    "collapsed": true
   },
   "outputs": [],
   "source": []
  },
  {
   "cell_type": "code",
   "execution_count": null,
   "metadata": {
    "collapsed": true
   },
   "outputs": [],
   "source": []
  },
  {
   "cell_type": "code",
   "execution_count": null,
   "metadata": {
    "collapsed": true
   },
   "outputs": [],
   "source": []
  },
  {
   "cell_type": "code",
   "execution_count": null,
   "metadata": {
    "collapsed": true
   },
   "outputs": [],
   "source": []
  },
  {
   "cell_type": "code",
   "execution_count": null,
   "metadata": {
    "collapsed": true
   },
   "outputs": [],
   "source": []
  },
  {
   "cell_type": "code",
   "execution_count": null,
   "metadata": {
    "collapsed": true
   },
   "outputs": [],
   "source": []
  },
  {
   "cell_type": "code",
   "execution_count": null,
   "metadata": {
    "collapsed": true
   },
   "outputs": [],
   "source": []
  },
  {
   "cell_type": "code",
   "execution_count": null,
   "metadata": {
    "collapsed": true
   },
   "outputs": [],
   "source": []
  },
  {
   "cell_type": "code",
   "execution_count": null,
   "metadata": {
    "collapsed": true
   },
   "outputs": [],
   "source": []
  },
  {
   "cell_type": "code",
   "execution_count": null,
   "metadata": {
    "collapsed": true
   },
   "outputs": [],
   "source": []
  },
  {
   "cell_type": "code",
   "execution_count": null,
   "metadata": {
    "collapsed": true
   },
   "outputs": [],
   "source": []
  },
  {
   "cell_type": "code",
   "execution_count": null,
   "metadata": {
    "collapsed": true
   },
   "outputs": [],
   "source": []
  },
  {
   "cell_type": "code",
   "execution_count": null,
   "metadata": {
    "collapsed": true
   },
   "outputs": [],
   "source": []
  },
  {
   "cell_type": "code",
   "execution_count": null,
   "metadata": {
    "collapsed": true
   },
   "outputs": [],
   "source": []
  },
  {
   "cell_type": "code",
   "execution_count": null,
   "metadata": {
    "collapsed": true
   },
   "outputs": [],
   "source": []
  },
  {
   "cell_type": "code",
   "execution_count": null,
   "metadata": {
    "collapsed": true
   },
   "outputs": [],
   "source": []
  },
  {
   "cell_type": "code",
   "execution_count": null,
   "metadata": {
    "collapsed": true
   },
   "outputs": [],
   "source": []
  },
  {
   "cell_type": "code",
   "execution_count": null,
   "metadata": {
    "collapsed": true
   },
   "outputs": [],
   "source": []
  },
  {
   "cell_type": "code",
   "execution_count": null,
   "metadata": {
    "collapsed": true
   },
   "outputs": [],
   "source": []
  },
  {
   "cell_type": "code",
   "execution_count": null,
   "metadata": {
    "collapsed": true
   },
   "outputs": [],
   "source": []
  },
  {
   "cell_type": "code",
   "execution_count": null,
   "metadata": {
    "collapsed": true
   },
   "outputs": [],
   "source": []
  },
  {
   "cell_type": "code",
   "execution_count": null,
   "metadata": {
    "collapsed": true
   },
   "outputs": [],
   "source": []
  },
  {
   "cell_type": "code",
   "execution_count": null,
   "metadata": {
    "collapsed": true
   },
   "outputs": [],
   "source": []
  },
  {
   "cell_type": "code",
   "execution_count": null,
   "metadata": {
    "collapsed": true
   },
   "outputs": [],
   "source": []
  },
  {
   "cell_type": "code",
   "execution_count": null,
   "metadata": {
    "collapsed": true
   },
   "outputs": [],
   "source": []
  },
  {
   "cell_type": "code",
   "execution_count": null,
   "metadata": {
    "collapsed": true
   },
   "outputs": [],
   "source": []
  },
  {
   "cell_type": "code",
   "execution_count": null,
   "metadata": {
    "collapsed": true
   },
   "outputs": [],
   "source": []
  },
  {
   "cell_type": "code",
   "execution_count": null,
   "metadata": {
    "collapsed": true
   },
   "outputs": [],
   "source": []
  },
  {
   "cell_type": "code",
   "execution_count": null,
   "metadata": {
    "collapsed": true
   },
   "outputs": [],
   "source": []
  },
  {
   "cell_type": "code",
   "execution_count": null,
   "metadata": {
    "collapsed": true
   },
   "outputs": [],
   "source": []
  },
  {
   "cell_type": "code",
   "execution_count": null,
   "metadata": {
    "collapsed": true
   },
   "outputs": [],
   "source": []
  },
  {
   "cell_type": "code",
   "execution_count": null,
   "metadata": {
    "collapsed": true
   },
   "outputs": [],
   "source": []
  },
  {
   "cell_type": "code",
   "execution_count": null,
   "metadata": {
    "collapsed": true
   },
   "outputs": [],
   "source": []
  },
  {
   "cell_type": "code",
   "execution_count": null,
   "metadata": {
    "collapsed": true
   },
   "outputs": [],
   "source": []
  },
  {
   "cell_type": "code",
   "execution_count": null,
   "metadata": {
    "collapsed": true
   },
   "outputs": [],
   "source": []
  },
  {
   "cell_type": "code",
   "execution_count": null,
   "metadata": {
    "collapsed": true
   },
   "outputs": [],
   "source": []
  },
  {
   "cell_type": "code",
   "execution_count": null,
   "metadata": {
    "collapsed": true
   },
   "outputs": [],
   "source": []
  },
  {
   "cell_type": "code",
   "execution_count": null,
   "metadata": {
    "collapsed": true
   },
   "outputs": [],
   "source": []
  },
  {
   "cell_type": "code",
   "execution_count": null,
   "metadata": {
    "collapsed": true
   },
   "outputs": [],
   "source": []
  },
  {
   "cell_type": "code",
   "execution_count": null,
   "metadata": {
    "collapsed": true
   },
   "outputs": [],
   "source": []
  },
  {
   "cell_type": "code",
   "execution_count": null,
   "metadata": {
    "collapsed": true
   },
   "outputs": [],
   "source": []
  },
  {
   "cell_type": "code",
   "execution_count": null,
   "metadata": {
    "collapsed": true
   },
   "outputs": [],
   "source": []
  },
  {
   "cell_type": "code",
   "execution_count": null,
   "metadata": {
    "collapsed": true
   },
   "outputs": [],
   "source": []
  },
  {
   "cell_type": "code",
   "execution_count": null,
   "metadata": {
    "collapsed": true
   },
   "outputs": [],
   "source": []
  },
  {
   "cell_type": "code",
   "execution_count": null,
   "metadata": {
    "collapsed": true
   },
   "outputs": [],
   "source": []
  },
  {
   "cell_type": "code",
   "execution_count": null,
   "metadata": {
    "collapsed": true
   },
   "outputs": [],
   "source": []
  },
  {
   "cell_type": "code",
   "execution_count": null,
   "metadata": {
    "collapsed": true
   },
   "outputs": [],
   "source": []
  },
  {
   "cell_type": "code",
   "execution_count": null,
   "metadata": {
    "collapsed": true
   },
   "outputs": [],
   "source": []
  },
  {
   "cell_type": "code",
   "execution_count": null,
   "metadata": {
    "collapsed": true
   },
   "outputs": [],
   "source": []
  },
  {
   "cell_type": "code",
   "execution_count": null,
   "metadata": {
    "collapsed": true
   },
   "outputs": [],
   "source": []
  },
  {
   "cell_type": "code",
   "execution_count": null,
   "metadata": {
    "collapsed": true
   },
   "outputs": [],
   "source": []
  },
  {
   "cell_type": "code",
   "execution_count": null,
   "metadata": {
    "collapsed": true
   },
   "outputs": [],
   "source": []
  },
  {
   "cell_type": "code",
   "execution_count": null,
   "metadata": {
    "collapsed": true
   },
   "outputs": [],
   "source": []
  },
  {
   "cell_type": "code",
   "execution_count": null,
   "metadata": {
    "collapsed": true
   },
   "outputs": [],
   "source": []
  },
  {
   "cell_type": "code",
   "execution_count": null,
   "metadata": {
    "collapsed": true
   },
   "outputs": [],
   "source": []
  },
  {
   "cell_type": "code",
   "execution_count": null,
   "metadata": {
    "collapsed": true
   },
   "outputs": [],
   "source": []
  },
  {
   "cell_type": "code",
   "execution_count": null,
   "metadata": {
    "collapsed": true
   },
   "outputs": [],
   "source": []
  },
  {
   "cell_type": "code",
   "execution_count": null,
   "metadata": {
    "collapsed": true
   },
   "outputs": [],
   "source": []
  },
  {
   "cell_type": "code",
   "execution_count": null,
   "metadata": {
    "collapsed": true
   },
   "outputs": [],
   "source": []
  },
  {
   "cell_type": "code",
   "execution_count": null,
   "metadata": {
    "collapsed": true
   },
   "outputs": [],
   "source": []
  },
  {
   "cell_type": "code",
   "execution_count": null,
   "metadata": {
    "collapsed": true
   },
   "outputs": [],
   "source": []
  },
  {
   "cell_type": "code",
   "execution_count": null,
   "metadata": {
    "collapsed": true
   },
   "outputs": [],
   "source": []
  },
  {
   "cell_type": "code",
   "execution_count": null,
   "metadata": {
    "collapsed": true
   },
   "outputs": [],
   "source": []
  },
  {
   "cell_type": "code",
   "execution_count": null,
   "metadata": {
    "collapsed": true
   },
   "outputs": [],
   "source": []
  },
  {
   "cell_type": "code",
   "execution_count": null,
   "metadata": {
    "collapsed": true
   },
   "outputs": [],
   "source": []
  },
  {
   "cell_type": "code",
   "execution_count": null,
   "metadata": {
    "collapsed": true
   },
   "outputs": [],
   "source": []
  },
  {
   "cell_type": "code",
   "execution_count": null,
   "metadata": {
    "collapsed": true
   },
   "outputs": [],
   "source": []
  }
 ],
 "metadata": {
  "kernelspec": {
   "display_name": "Python 3",
   "language": "python",
   "name": "python3"
  },
  "language_info": {
   "codemirror_mode": {
    "name": "ipython",
    "version": 3
   },
   "file_extension": ".py",
   "mimetype": "text/x-python",
   "name": "python",
   "nbconvert_exporter": "python",
   "pygments_lexer": "ipython3",
   "version": "3.5.1"
  }
 },
 "nbformat": 4,
 "nbformat_minor": 0
}
