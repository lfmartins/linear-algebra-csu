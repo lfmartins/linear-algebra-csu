{
 "cells": [
  {
   "cell_type": "code",
   "execution_count": 1,
   "metadata": {
    "collapsed": false
   },
   "outputs": [],
   "source": [
    "import json\n",
    "import random\n",
    "import jinja2\n",
    "import os\n",
    "import os.path\n",
    "import subprocess\n",
    "from latools import *\n",
    "from sympy import *\n",
    "init_printing(use_latex=True)"
   ]
  },
  {
   "cell_type": "markdown",
   "metadata": {},
   "source": [
    "# Function Definitions"
   ]
  },
  {
   "cell_type": "code",
   "execution_count": 2,
   "metadata": {
    "collapsed": false
   },
   "outputs": [],
   "source": [
    "def rref_to_solution_basis(R):\n",
    "    m, n = R.shape\n",
    "    nvars = n - 1\n",
    "    jold = -1\n",
    "    pivots = []\n",
    "    zero_rows = []\n",
    "    for i in range(m):\n",
    "        for j in range(n-1):\n",
    "            if R[i,j] != 0:\n",
    "                break\n",
    "        else:\n",
    "            zero_rows.append(i)\n",
    "            continue\n",
    "        if len(zero_rows) != 0:\n",
    "            raise ValueError('zero rows not at the bottom')\n",
    "        if R[i,j] != 1:\n",
    "            raise ValueError('leading element of row {} is not 1'.format(i+1))\n",
    "        for k in range(m):\n",
    "            if k != i and R[k, j] != 0:\n",
    "                raise ValueError('nonzero in pivot column {}'.format(j+1))\n",
    "        if j <= jold:\n",
    "            raise ValueError('pivot columns not in increasing order')\n",
    "        pivots.append((i,j))\n",
    "    for i in zero_rows:\n",
    "        if R[i,nvars] != 0:\n",
    "            return None, None\n",
    "    pivot_columns = [j for _ , j in pivots]\n",
    "    non_pivot_columns = [j for j in range(n-1) if j not in pivot_columns]\n",
    "    cvec = zeros(nvars, 1)\n",
    "    for (i,j) in pivots:\n",
    "        cvec[j] = R[i, n-1]\n",
    "    bvecs = [zeros(nvars,1) for _ in range(len(non_pivot_columns))]\n",
    "    for i, j in enumerate(non_pivot_columns):\n",
    "        bvecs[i][j] = 1\n",
    "        for k, l in pivots:\n",
    "            bvecs[i][l] = -R[k,j]\n",
    "    return cvec, bvecs\n",
    "def vector_to_latex(vec, align=''):\n",
    "    if len(align) > 0:\n",
    "        start = '\\\\begin{{bmatrix*}}[{}]'.format(align)\n",
    "        end =  '\\\\end{bmatrix*}'\n",
    "    else:\n",
    "        start = '\\\\begin{bmatrix}'\n",
    "        end = '\\\\end{bmatrix}'\n",
    "    return start + '\\\\\\\\'.join(str(v) for v in vec) + end\n",
    "def rref_to_solution_latex(R, align=''):\n",
    "    cvec, bvecs = rref_to_solution_basis(R)\n",
    "    if cvec is None:\n",
    "        return '\\\\varnothing'\n",
    "    sout = '\\\\left\\\\{' + vector_to_latex(cvec, align=align) + '\\n' \n",
    "    for i, vec in enumerate(bvecs):\n",
    "        sout += '+\\\\lambda_{{{}}}'.format(i+1) + vector_to_latex(vec, align=align) + '\\n'\n",
    "    sout += '\\\\;:\\\\;'\n",
    "    sout += ','.join('\\\\lambda_{{{}}}'.format(i+1) for i in range(len(bvecs)))\n",
    "    sout += '\\\\in\\\\mathbb{R}\\\\right\\\\}\\n'\n",
    "    return sout\n",
    "def make_linear_system_exercise(R, pvalues=range(-4,4), align='', vnames=None):\n",
    "    m, n = R.shape\n",
    "    P = zeros(m)\n",
    "    while P.det() == 0:\n",
    "        for i in range(m):\n",
    "            for j in range(m):\n",
    "                P[i, j] = nsimplify(random.choice(pvalues))\n",
    "    A = P * R\n",
    "    system_str = matrix_to_system_latex(A, vnames)\n",
    "    solution_str = rref_to_solution_latex(R, align=align)\n",
    "    return system_str, solution_str\n",
    "def pattern_to_exercise(pattern, rvalues=range(-5,5), pvalues=range(-3,3), align=''):\n",
    "    m = len(pattern)\n",
    "    n = max(len(pat) for pat in pattern)\n",
    "    R = zeros(m, n)\n",
    "    for i, pat in enumerate(pattern):\n",
    "        for j, s in enumerate(pat):\n",
    "            R[i,j] = 0 if s == '0' else 1 if s == '1' else random.choice(rvalues)\n",
    "    return make_linear_system_exercise(R, pvalues, align=align)\n",
    "def make_matrix_inversion_exercise(n, cmax=3):\n",
    "    A = eye(n)\n",
    "    cvalues = [k for k in range(-cmax, cmax+1) if k != 0]\n",
    "    nrows, _ = A.shape\n",
    "    for i in range(nrows):\n",
    "        for j in range(nrows):\n",
    "            if i == j:\n",
    "                continue\n",
    "            c = random.choice(cvalues)\n",
    "            A[j,:] += c*A[i,:]\n",
    "            c = random.choice(cvalues)\n",
    "            A[:,j] += c*A[:,i]\n",
    "    return latex(A)"
   ]
  },
  {
   "cell_type": "markdown",
   "metadata": {},
   "source": [
    "# Setup"
   ]
  },
  {
   "cell_type": "code",
   "execution_count": 12,
   "metadata": {
    "collapsed": false
   },
   "outputs": [],
   "source": [
    "latex_jinja_env = jinja2.Environment(\n",
    "    block_start_string = '\\BLOCK{',\n",
    "    block_end_string = '}',\n",
    "    variable_start_string = '\\VAR{',\n",
    "    variable_end_string = '}',\n",
    "    comment_start_string = '\\#{',\n",
    "    comment_end_string = '}',\n",
    "    line_statement_prefix = '%%',\n",
    "    line_comment_prefix = '%#',\n",
    "    trim_blocks = True,\n",
    "    autoescape = False,\n",
    "    loader = jinja2.FileSystemLoader(os.path.abspath('.'))\n",
    ")\n",
    "random.seed(11111111)\n",
    "number_of_versions = 4\n",
    "version_symbols = ['\\\\diamondsuit', '\\\\heartsuit', '\\\\clubsuit', '\\\\spadesuit']\n",
    "file_prefix = 'final-fall2016-'\n",
    "file_suffix = '.tex'\n",
    "output_dir = 'versions'\n",
    "pdf_command = 'pdflatex'"
   ]
  },
  {
   "cell_type": "markdown",
   "metadata": {},
   "source": [
    "# Problem 1: Linear System"
   ]
  },
  {
   "cell_type": "code",
   "execution_count": 13,
   "metadata": {
    "collapsed": true
   },
   "outputs": [],
   "source": [
    "patterns = [[\"10x0xx\",\n",
    "             \"01x0xx\",\n",
    "             \"0001xx\",\n",
    "             \"000000\"],\n",
    "            [\"1x000x\",\n",
    "             \"00100x\",\n",
    "             \"00010x\",\n",
    "             \"00001x\"],\n",
    "            [\"1x00xx\",\n",
    "             \"0010xx\",\n",
    "             \"0001xx\",\n",
    "             \"000000\"],\n",
    "            [\"10x00x\",\n",
    "             \"01x00x\",\n",
    "             \"00010x\",\n",
    "             \"00001x\"]\n",
    "           ]"
   ]
  },
  {
   "cell_type": "code",
   "execution_count": 14,
   "metadata": {
    "collapsed": false
   },
   "outputs": [
    {
     "name": "stdout",
     "output_type": "stream",
     "text": [
      "['10x0xx', '01x0xx', '0001xx', '000000']\n",
      "['1x000x', '00100x', '00010x', '00001x']\n",
      "['1x00xx', '0010xx', '0001xx', '000000']\n",
      "['10x00x', '01x00x', '00010x', '00001x']\n"
     ]
    }
   ],
   "source": [
    "problem1_versions = []\n",
    "for pattern in patterns:\n",
    "    print(pattern)\n",
    "    problem, solution = pattern_to_exercise(pattern)\n",
    "    problem1_versions.append(problem)"
   ]
  },
  {
   "cell_type": "markdown",
   "metadata": {},
   "source": [
    "# Problem 2: Matrix Inversion"
   ]
  },
  {
   "cell_type": "code",
   "execution_count": 15,
   "metadata": {
    "collapsed": false
   },
   "outputs": [],
   "source": [
    "problem2_versions = []\n",
    "for _ in range(number_of_versions):\n",
    "    problem = make_matrix_inversion_exercise(3, cmax=1)\n",
    "    problem2_versions.append(problem)"
   ]
  },
  {
   "cell_type": "markdown",
   "metadata": {},
   "source": [
    "# Problem 3: Vector Operations"
   ]
  },
  {
   "cell_type": "code",
   "execution_count": 16,
   "metadata": {
    "collapsed": false
   },
   "outputs": [],
   "source": [
    "problem3_versions = []\n",
    "cmin, cmax = -3, 4\n",
    "ndim = 3\n",
    "nvecs = 2\n",
    "fmt = ',\\\\quad\\n'.join(['\\\\mathbf{{{{v}}}}_{}={{}}'.format(i+1) for i in range(nvecs)])\n",
    "for _ in range(number_of_versions):\n",
    "    vlist = [latex(Matrix([random.randrange(cmin,cmax) for _ in range(ndim)])) for _ in range(nvecs)]\n",
    "    problem3_versions.append(fmt.format(*vlist))"
   ]
  },
  {
   "cell_type": "markdown",
   "metadata": {},
   "source": [
    "# Problem 4: Mistery Linear Transformation"
   ]
  },
  {
   "cell_type": "code",
   "execution_count": 17,
   "metadata": {
    "collapsed": false
   },
   "outputs": [],
   "source": [
    "problem4_versions = []\n",
    "cvalues = [-2, -3, -4, -5, -6, -7, -8, 2, 3, 4, 5, 6, 7, 8]\n",
    "ndim = 2\n",
    "nvecs = 4\n",
    "for _ in range(number_of_versions):\n",
    "    v11, v12, v21, v22 = 0, 0, 0, 0\n",
    "    while v11*v22 - v12*v21 not in [1,-1]:\n",
    "        v11, v12, v21, v22 = [random.choice(cvalues) for _ in range(4)]\n",
    "    v1 = Matrix([v11,v12])\n",
    "    Lv1 = Matrix([random.choice(cvalues), random.choice(cvalues)])\n",
    "    v2 = Matrix([v21,v22])\n",
    "    Lv2 = Matrix([random.choice(cvalues), random.choice(cvalues)])\n",
    "    vlist = [latex(v) for v in [v1, Lv1, v2, Lv2]]\n",
    "    problem4_versions.append(vlist)"
   ]
  },
  {
   "cell_type": "markdown",
   "metadata": {},
   "source": [
    "# Problem 5: Check if Transformation is Linear"
   ]
  },
  {
   "cell_type": "code",
   "execution_count": 18,
   "metadata": {
    "collapsed": true
   },
   "outputs": [],
   "source": [
    "problem5_versions=[str(random.choice([-2,-3,2,3])) for _ in range(number_of_versions)]"
   ]
  },
  {
   "cell_type": "markdown",
   "metadata": {},
   "source": [
    "# Setup"
   ]
  },
  {
   "cell_type": "code",
   "execution_count": 19,
   "metadata": {
    "collapsed": false
   },
   "outputs": [],
   "source": [
    "latex_jinja_env = jinja2.Environment(\n",
    "    block_start_string = '\\BLOCK{',\n",
    "    block_end_string = '}',\n",
    "    variable_start_string = '\\VAR{',\n",
    "    variable_end_string = '}',\n",
    "    comment_start_string = '\\#{',\n",
    "    comment_end_string = '}',\n",
    "    line_statement_prefix = '%%',\n",
    "    line_comment_prefix = '%#',\n",
    "    trim_blocks = True,\n",
    "    autoescape = False,\n",
    "    loader = jinja2.FileSystemLoader(os.path.abspath('.'))\n",
    ")"
   ]
  },
  {
   "cell_type": "markdown",
   "metadata": {},
   "source": [
    "# Rendering"
   ]
  },
  {
   "cell_type": "code",
   "execution_count": 21,
   "metadata": {
    "collapsed": false
   },
   "outputs": [
    {
     "name": "stdout",
     "output_type": "stream",
     "text": [
      "Generating version 1\n",
      "Generating version 2\n",
      "Generating version 3\n",
      "Generating version 4\n"
     ]
    }
   ],
   "source": [
    "template = latex_jinja_env.get_template('{}template{}'.format(file_prefix, file_suffix))\n",
    "for version_number in range(number_of_versions):\n",
    "    print('Generating version {}'.format(version_number+1))\n",
    "    template_dict = {}\n",
    "    template_dict['version_symbol'] = version_symbols[version_number]\n",
    "    template_dict['problem1'] = problem1_versions[version_number]\n",
    "    template_dict['problem2'] = problem2_versions[version_number]\n",
    "    template_dict['problem3'] = problem3_versions[version_number]\n",
    "    template_dict['problem4_v1'] = problem4_versions[version_number][0]\n",
    "    template_dict['problem4_Lv1'] = problem4_versions[version_number][1]\n",
    "    template_dict['problem4_v2'] = problem4_versions[version_number][2]\n",
    "    template_dict['problem4_Lv2'] = problem4_versions[version_number][3]\n",
    "    template_dict['problem5'] = problem5_versions[version_number]\n",
    "    sout = template.render(**template_dict)\n",
    "    output_file_name = '{}version{}{}'.format(file_prefix, version_number + 1, file_suffix)\n",
    "    current_dir = os.getcwd()\n",
    "    os.chdir(os.path.join('.', output_dir))\n",
    "    fout = open(output_file_name, 'w')\n",
    "    fout.write(sout)\n",
    "    fout.close()\n",
    "    completed_process = subprocess.run([pdf_command, output_file_name], stdout=subprocess.PIPE)\n",
    "    os.chdir(current_dir)"
   ]
  },
  {
   "cell_type": "code",
   "execution_count": null,
   "metadata": {
    "collapsed": true
   },
   "outputs": [],
   "source": []
  }
 ],
 "metadata": {
  "kernelspec": {
   "display_name": "Python 3",
   "language": "python",
   "name": "python3"
  },
  "language_info": {
   "codemirror_mode": {
    "name": "ipython",
    "version": 3
   },
   "file_extension": ".py",
   "mimetype": "text/x-python",
   "name": "python",
   "nbconvert_exporter": "python",
   "pygments_lexer": "ipython3",
   "version": "3.5.1"
  }
 },
 "nbformat": 4,
 "nbformat_minor": 0
}
