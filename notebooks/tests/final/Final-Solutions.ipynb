{
 "cells": [
  {
   "cell_type": "code",
   "execution_count": 2,
   "metadata": {
    "collapsed": true
   },
   "outputs": [],
   "source": [
    "from latools import *\n",
    "from sympy import *\n",
    "init_printing(use_latex=True)"
   ]
  },
  {
   "cell_type": "markdown",
   "metadata": {},
   "source": [
    "# Problem 1"
   ]
  },
  {
   "cell_type": "markdown",
   "metadata": {},
   "source": [
    "## Spade"
   ]
  },
  {
   "cell_type": "code",
   "execution_count": 9,
   "metadata": {
    "collapsed": false
   },
   "outputs": [
    {
     "data": {
      "image/png": "[encoded data removed]",
      "text/latex": [
       "$$\\left[\\begin{matrix}0 & -3 & 3 & -1 & -1 & -10 & -4\\\\-1 & 2 & 3 & 0 & -1 & 15 & 10\\\\-2 & -3 & 13 & -3 & -2 & -4 & 2\\\\-3 & -1 & 16 & -3 & 2 & -9 & -8\\end{matrix}\\right]$$"
      ],
      "text/plain": [
       "⎡0   -3  3   -1  -1  -10  -4⎤\n",
       "⎢                           ⎥\n",
       "⎢-1  2   3   0   -1  15   10⎥\n",
       "⎢                           ⎥\n",
       "⎢-2  -3  13  -3  -2  -4   2 ⎥\n",
       "⎢                           ⎥\n",
       "⎣-3  -1  16  -3  2   -9   -8⎦"
      ]
     },
     "execution_count": 9,
     "metadata": {},
     "output_type": "execute_result"
    }
   ],
   "source": [
    "A = matrix_to_rational([[ 0, -3,  3, -1, -1, -10, -4],\n",
    "                        [-1,  2,  3,  0, -1,  15, 10],\n",
    "                        [-2, -3, 13, -3, -2,  -4,  2],\n",
    "                        [-3, -1, 16, -3,  2,  -9, -8]])\n",
    "A"
   ]
  },
  {
   "cell_type": "code",
   "execution_count": 10,
   "metadata": {
    "collapsed": false
   },
   "outputs": [
    {
     "data": {
      "image/png": "[encoded data removed]",
      "text/latex": [
       "$$\\left[\\begin{matrix}-1 & 2 & 3 & 0 & -1 & 15 & 10\\\\0 & -3 & 3 & -1 & -1 & -10 & -4\\\\-2 & -3 & 13 & -3 & -2 & -4 & 2\\\\-3 & -1 & 16 & -3 & 2 & -9 & -8\\end{matrix}\\right]$$"
      ],
      "text/plain": [
       "⎡-1  2   3   0   -1  15   10⎤\n",
       "⎢                           ⎥\n",
       "⎢0   -3  3   -1  -1  -10  -4⎥\n",
       "⎢                           ⎥\n",
       "⎢-2  -3  13  -3  -2  -4   2 ⎥\n",
       "⎢                           ⎥\n",
       "⎣-3  -1  16  -3  2   -9   -8⎦"
      ]
     },
     "execution_count": 10,
     "metadata": {},
     "output_type": "execute_result"
    }
   ],
   "source": [
    "A1 = rop(A, 'R1<=>R2')\n",
    "A1"
   ]
  },
  {
   "cell_type": "code",
   "execution_count": 11,
   "metadata": {
    "collapsed": false
   },
   "outputs": [
    {
     "data": {
      "image/png": "[encoded data removed]",
      "text/latex": [
       "$$\\left[\\begin{matrix}1 & -2 & -3 & 0 & 1 & -15 & -10\\\\0 & -3 & 3 & -1 & -1 & -10 & -4\\\\0 & -7 & 7 & -3 & 0 & -34 & -18\\\\0 & -7 & 7 & -3 & 5 & -54 & -38\\end{matrix}\\right]$$"
      ],
      "text/plain": [
       "⎡1  -2  -3  0   1   -15  -10⎤\n",
       "⎢                           ⎥\n",
       "⎢0  -3  3   -1  -1  -10  -4 ⎥\n",
       "⎢                           ⎥\n",
       "⎢0  -7  7   -3  0   -34  -18⎥\n",
       "⎢                           ⎥\n",
       "⎣0  -7  7   -3  5   -54  -38⎦"
      ]
     },
     "execution_count": 11,
     "metadata": {},
     "output_type": "execute_result"
    }
   ],
   "source": [
    "A2 = rop(A1, 'R1*(-1)=>R1', 'R1*(2)+R3=>R3', 'R1*(3)+R4=>R4')\n",
    "A2"
   ]
  },
  {
   "cell_type": "code",
   "execution_count": 12,
   "metadata": {
    "collapsed": false
   },
   "outputs": [
    {
     "data": {
      "image/png": "[encoded data removed]",
      "text/latex": [
       "$$\\left[\\begin{matrix}1 & 0 & -5 & \\frac{2}{3} & \\frac{5}{3} & - \\frac{25}{3} & - \\frac{22}{3}\\\\0 & 1 & -1 & \\frac{1}{3} & \\frac{1}{3} & \\frac{10}{3} & \\frac{4}{3}\\\\0 & 0 & 0 & - \\frac{2}{3} & \\frac{7}{3} & - \\frac{32}{3} & - \\frac{26}{3}\\\\0 & 0 & 0 & - \\frac{2}{3} & \\frac{22}{3} & - \\frac{92}{3} & - \\frac{86}{3}\\end{matrix}\\right]$$"
      ],
      "text/plain": [
       "⎡1  0  -5  2/3   5/3   -25/3  -22/3⎤\n",
       "⎢                                  ⎥\n",
       "⎢0  1  -1  1/3   1/3   10/3    4/3 ⎥\n",
       "⎢                                  ⎥\n",
       "⎢0  0  0   -2/3  7/3   -32/3  -26/3⎥\n",
       "⎢                                  ⎥\n",
       "⎣0  0  0   -2/3  22/3  -92/3  -86/3⎦"
      ]
     },
     "execution_count": 12,
     "metadata": {},
     "output_type": "execute_result"
    }
   ],
   "source": [
    "A3 = rop(A2, 'R2*(-1/3)=>R2', 'R2*(2)+R1=>R1', 'R2*(7)+R3=>R3', 'R2*(7)+R4=>R4')\n",
    "A3"
   ]
  },
  {
   "cell_type": "code",
   "execution_count": 13,
   "metadata": {
    "collapsed": false
   },
   "outputs": [
    {
     "data": {
      "image/png": "[encoded data removed]",
      "text/latex": [
       "$$\\left[\\begin{matrix}1 & 0 & -5 & 0 & 4 & -19 & -16\\\\0 & 1 & -1 & 0 & \\frac{3}{2} & -2 & -3\\\\0 & 0 & 0 & 1 & - \\frac{7}{2} & 16 & 13\\\\0 & 0 & 0 & 0 & 5 & -20 & -20\\end{matrix}\\right]$$"
      ],
      "text/plain": [
       "⎡1  0  -5  0   4    -19  -16⎤\n",
       "⎢                           ⎥\n",
       "⎢0  1  -1  0  3/2   -2   -3 ⎥\n",
       "⎢                           ⎥\n",
       "⎢0  0  0   1  -7/2  16   13 ⎥\n",
       "⎢                           ⎥\n",
       "⎣0  0  0   0   5    -20  -20⎦"
      ]
     },
     "execution_count": 13,
     "metadata": {},
     "output_type": "execute_result"
    }
   ],
   "source": [
    "A4 = rop(A3, 'R3*(-3/2)=>R3', 'R3*(-2/3)+R1=>R1', 'R3*(-1/3)+R2=>R2', 'R3*(2/3)+R4=>R4')\n",
    "A4"
   ]
  },
  {
   "cell_type": "code",
   "execution_count": 14,
   "metadata": {
    "collapsed": false
   },
   "outputs": [
    {
     "data": {
      "image/png": "[encoded data removed]",
      "text/latex": [
       "$$\\left[\\begin{matrix}1 & 0 & -5 & 0 & 0 & -3 & 0\\\\0 & 1 & -1 & 0 & 0 & 4 & 3\\\\0 & 0 & 0 & 1 & 0 & 2 & -1\\\\0 & 0 & 0 & 0 & 1 & -4 & -4\\end{matrix}\\right]$$"
      ],
      "text/plain": [
       "⎡1  0  -5  0  0  -3  0 ⎤\n",
       "⎢                      ⎥\n",
       "⎢0  1  -1  0  0  4   3 ⎥\n",
       "⎢                      ⎥\n",
       "⎢0  0  0   1  0  2   -1⎥\n",
       "⎢                      ⎥\n",
       "⎣0  0  0   0  1  -4  -4⎦"
      ]
     },
     "execution_count": 14,
     "metadata": {},
     "output_type": "execute_result"
    }
   ],
   "source": [
    "A5 = rop(A4, 'R4*(1/5)=>R4', 'R4*(-4)+R1=>R1', 'R4*(-3/2)+R2=>R2', 'R4*(7/2)+R3=>R3')\n",
    "A5"
   ]
  },
  {
   "cell_type": "markdown",
   "metadata": {
    "collapsed": true
   },
   "source": [
    "## Club"
   ]
  },
  {
   "cell_type": "code",
   "execution_count": 15,
   "metadata": {
    "collapsed": false
   },
   "outputs": [
    {
     "data": {
      "image/png": "[encoded data removed]",
      "text/latex": [
       "$$\\left[\\begin{matrix}1 & -4 & -2 & -2 & 10 & 1 & 4\\\\-2 & 8 & 0 & 1 & 0 & 1 & 9\\\\-1 & 4 & -1 & -2 & 12 & -2 & 7\\\\-2 & 8 & 0 & -1 & 8 & -3 & 7\\end{matrix}\\right]$$"
      ],
      "text/plain": [
       "⎡1   -4  -2  -2  10  1   4⎤\n",
       "⎢                         ⎥\n",
       "⎢-2  8   0   1   0   1   9⎥\n",
       "⎢                         ⎥\n",
       "⎢-1  4   -1  -2  12  -2  7⎥\n",
       "⎢                         ⎥\n",
       "⎣-2  8   0   -1  8   -3  7⎦"
      ]
     },
     "execution_count": 15,
     "metadata": {},
     "output_type": "execute_result"
    }
   ],
   "source": [
    "A = matrix_to_rational([[ 1, -4, -2, -2, 10,  1, 4],\n",
    "                        [-2,  8,  0,  1,  0,  1, 9],\n",
    "                        [-1,  4, -1, -2, 12, -2, 7],\n",
    "                        [-2,  8,  0, -1,  8, -3, 7]])\n",
    "A"
   ]
  },
  {
   "cell_type": "code",
   "execution_count": 16,
   "metadata": {
    "collapsed": false
   },
   "outputs": [
    {
     "data": {
      "image/png": "[encoded data removed]",
      "text/latex": [
       "$$\\left[\\begin{matrix}1 & -4 & -2 & -2 & 10 & 1 & 4\\\\0 & 0 & -4 & -3 & 20 & 3 & 17\\\\0 & 0 & -3 & -4 & 22 & -1 & 11\\\\0 & 0 & -4 & -5 & 28 & -1 & 15\\end{matrix}\\right]$$"
      ],
      "text/plain": [
       "⎡1  -4  -2  -2  10  1   4 ⎤\n",
       "⎢                         ⎥\n",
       "⎢0  0   -4  -3  20  3   17⎥\n",
       "⎢                         ⎥\n",
       "⎢0  0   -3  -4  22  -1  11⎥\n",
       "⎢                         ⎥\n",
       "⎣0  0   -4  -5  28  -1  15⎦"
      ]
     },
     "execution_count": 16,
     "metadata": {},
     "output_type": "execute_result"
    }
   ],
   "source": [
    "A1 = rop(A, 'R1*(2)+R2=>R2', 'R1*(1)+R3=>R3', 'R1*(2)+R4=>R4')\n",
    "A1"
   ]
  },
  {
   "cell_type": "code",
   "execution_count": 17,
   "metadata": {
    "collapsed": false
   },
   "outputs": [
    {
     "data": {
      "image/png": "[encoded data removed]",
      "text/latex": [
       "$$\\left[\\begin{matrix}1 & -4 & 0 & - \\frac{1}{2} & 0 & - \\frac{1}{2} & - \\frac{9}{2}\\\\0 & 0 & 1 & \\frac{3}{4} & -5 & - \\frac{3}{4} & - \\frac{17}{4}\\\\0 & 0 & 0 & - \\frac{7}{4} & 7 & - \\frac{13}{4} & - \\frac{7}{4}\\\\0 & 0 & 0 & -2 & 8 & -4 & -2\\end{matrix}\\right]$$"
      ],
      "text/plain": [
       "⎡1  -4  0  -1/2  0   -1/2   -9/2 ⎤\n",
       "⎢                                ⎥\n",
       "⎢0  0   1  3/4   -5  -3/4   -17/4⎥\n",
       "⎢                                ⎥\n",
       "⎢0  0   0  -7/4  7   -13/4  -7/4 ⎥\n",
       "⎢                                ⎥\n",
       "⎣0  0   0   -2   8    -4     -2  ⎦"
      ]
     },
     "execution_count": 17,
     "metadata": {},
     "output_type": "execute_result"
    }
   ],
   "source": [
    "A2 = rop(A1, 'R2*(-1/4)=>R2', 'R2*(2)+R1=>R1', 'R2*(3)+R3=>R3', 'R2*(4)+R4=>R4')\n",
    "A2"
   ]
  },
  {
   "cell_type": "code",
   "execution_count": 18,
   "metadata": {
    "collapsed": false
   },
   "outputs": [
    {
     "data": {
      "image/png": "[encoded data removed]",
      "text/latex": [
       "$$\\left[\\begin{matrix}1 & -4 & 0 & 0 & -2 & \\frac{3}{7} & -4\\\\0 & 0 & 1 & 0 & -2 & - \\frac{15}{7} & -5\\\\0 & 0 & 0 & 1 & -4 & \\frac{13}{7} & 1\\\\0 & 0 & 0 & 0 & 0 & - \\frac{2}{7} & 0\\end{matrix}\\right]$$"
      ],
      "text/plain": [
       "⎡1  -4  0  0  -2   3/7   -4⎤\n",
       "⎢                          ⎥\n",
       "⎢0  0   1  0  -2  -15/7  -5⎥\n",
       "⎢                          ⎥\n",
       "⎢0  0   0  1  -4  13/7   1 ⎥\n",
       "⎢                          ⎥\n",
       "⎣0  0   0  0  0   -2/7   0 ⎦"
      ]
     },
     "execution_count": 18,
     "metadata": {},
     "output_type": "execute_result"
    }
   ],
   "source": [
    "A3 = rop(A2, 'R3*(-4/7)=>R3', 'R3*(1/2)+R1=>R1', 'R3*(-3/4)+R2=>R2', 'R3*(2)+R4=>R4')\n",
    "A3"
   ]
  },
  {
   "cell_type": "code",
   "execution_count": 19,
   "metadata": {
    "collapsed": false
   },
   "outputs": [
    {
     "data": {
      "image/png": "[encoded data removed]",
      "text/latex": [
       "$$\\left[\\begin{matrix}1 & -4 & 0 & 0 & -2 & 0 & -4\\\\0 & 0 & 1 & 0 & -2 & 0 & -5\\\\0 & 0 & 0 & 1 & -4 & 0 & 1\\\\0 & 0 & 0 & 0 & 0 & 1 & 0\\end{matrix}\\right]$$"
      ],
      "text/plain": [
       "⎡1  -4  0  0  -2  0  -4⎤\n",
       "⎢                      ⎥\n",
       "⎢0  0   1  0  -2  0  -5⎥\n",
       "⎢                      ⎥\n",
       "⎢0  0   0  1  -4  0  1 ⎥\n",
       "⎢                      ⎥\n",
       "⎣0  0   0  0  0   1  0 ⎦"
      ]
     },
     "execution_count": 19,
     "metadata": {},
     "output_type": "execute_result"
    }
   ],
   "source": [
    "A4 = rop(A3, 'R4*(-7/2)=>R4', 'R4*(-3/7)+R1=>R1', 'R4*(15/7)+R2=>R2', 'R4*(-13/7)+R3=>R3')\n",
    "A4"
   ]
  },
  {
   "cell_type": "markdown",
   "metadata": {},
   "source": [
    "## Heart"
   ]
  },
  {
   "cell_type": "code",
   "execution_count": 20,
   "metadata": {
    "collapsed": false
   },
   "outputs": [
    {
     "data": {
      "image/png": "[encoded data removed]",
      "text/latex": [
       "$$\\left[\\begin{matrix}0 & 0 & 1 & 0 & -2 & 0 & 6\\\\1 & -1 & 0 & -1 & -2 & 6 & 7\\\\0 & 0 & 1 & -3 & 0 & -2 & 6\\\\2 & -2 & 0 & -2 & -3 & 11 & 11\\end{matrix}\\right]$$"
      ],
      "text/plain": [
       "⎡0  0   1  0   -2  0   6 ⎤\n",
       "⎢                        ⎥\n",
       "⎢1  -1  0  -1  -2  6   7 ⎥\n",
       "⎢                        ⎥\n",
       "⎢0  0   1  -3  0   -2  6 ⎥\n",
       "⎢                        ⎥\n",
       "⎣2  -2  0  -2  -3  11  11⎦"
      ]
     },
     "execution_count": 20,
     "metadata": {},
     "output_type": "execute_result"
    }
   ],
   "source": [
    "A = matrix_to_rational([[0,  0, 1,  0, -2,  0,  6],\n",
    "                        [1, -1, 0, -1, -2,  6,  7],\n",
    "                        [0,  0, 1, -3,  0, -2,  6],\n",
    "                        [2, -2, 0, -2, -3, 11, 11]])\n",
    "A"
   ]
  },
  {
   "cell_type": "code",
   "execution_count": 21,
   "metadata": {
    "collapsed": false
   },
   "outputs": [
    {
     "data": {
      "image/png": "[encoded data removed]",
      "text/latex": [
       "$$\\left[\\begin{matrix}1 & -1 & 0 & -1 & -2 & 6 & 7\\\\0 & 0 & 1 & 0 & -2 & 0 & 6\\\\0 & 0 & 1 & -3 & 0 & -2 & 6\\\\2 & -2 & 0 & -2 & -3 & 11 & 11\\end{matrix}\\right]$$"
      ],
      "text/plain": [
       "⎡1  -1  0  -1  -2  6   7 ⎤\n",
       "⎢                        ⎥\n",
       "⎢0  0   1  0   -2  0   6 ⎥\n",
       "⎢                        ⎥\n",
       "⎢0  0   1  -3  0   -2  6 ⎥\n",
       "⎢                        ⎥\n",
       "⎣2  -2  0  -2  -3  11  11⎦"
      ]
     },
     "execution_count": 21,
     "metadata": {},
     "output_type": "execute_result"
    }
   ],
   "source": [
    "A1 = rop(A, 'R1<=>R2')\n",
    "A1"
   ]
  },
  {
   "cell_type": "code",
   "execution_count": 22,
   "metadata": {
    "collapsed": false
   },
   "outputs": [
    {
     "data": {
      "image/png": "[encoded data removed]",
      "text/latex": [
       "$$\\left[\\begin{matrix}1 & -1 & 0 & -1 & -2 & 6 & 7\\\\0 & 0 & 1 & 0 & -2 & 0 & 6\\\\0 & 0 & 1 & -3 & 0 & -2 & 6\\\\0 & 0 & 0 & 0 & 1 & -1 & -3\\end{matrix}\\right]$$"
      ],
      "text/plain": [
       "⎡1  -1  0  -1  -2  6   7 ⎤\n",
       "⎢                        ⎥\n",
       "⎢0  0   1  0   -2  0   6 ⎥\n",
       "⎢                        ⎥\n",
       "⎢0  0   1  -3  0   -2  6 ⎥\n",
       "⎢                        ⎥\n",
       "⎣0  0   0  0   1   -1  -3⎦"
      ]
     },
     "execution_count": 22,
     "metadata": {},
     "output_type": "execute_result"
    }
   ],
   "source": [
    "A2 = rop(A1, 'R1*(-2)+R4=>R4')\n",
    "A2"
   ]
  },
  {
   "cell_type": "code",
   "execution_count": 23,
   "metadata": {
    "collapsed": false
   },
   "outputs": [
    {
     "data": {
      "image/png": "[encoded data removed]",
      "text/latex": [
       "$$\\left[\\begin{matrix}1 & -1 & 0 & -1 & -2 & 6 & 7\\\\0 & 0 & 1 & 0 & -2 & 0 & 6\\\\0 & 0 & 0 & -3 & 2 & -2 & 0\\\\0 & 0 & 0 & 0 & 1 & -1 & -3\\end{matrix}\\right]$$"
      ],
      "text/plain": [
       "⎡1  -1  0  -1  -2  6   7 ⎤\n",
       "⎢                        ⎥\n",
       "⎢0  0   1  0   -2  0   6 ⎥\n",
       "⎢                        ⎥\n",
       "⎢0  0   0  -3  2   -2  0 ⎥\n",
       "⎢                        ⎥\n",
       "⎣0  0   0  0   1   -1  -3⎦"
      ]
     },
     "execution_count": 23,
     "metadata": {},
     "output_type": "execute_result"
    }
   ],
   "source": [
    "A3 = rop(A2, 'R2*(-1)+R3=>R3')\n",
    "A3"
   ]
  },
  {
   "cell_type": "code",
   "execution_count": 24,
   "metadata": {
    "collapsed": false
   },
   "outputs": [
    {
     "data": {
      "image/png": "[encoded data removed]",
      "text/latex": [
       "$$\\left[\\begin{matrix}1 & -1 & 0 & 0 & - \\frac{8}{3} & \\frac{20}{3} & 7\\\\0 & 0 & 1 & 0 & -2 & 0 & 6\\\\0 & 0 & 0 & 1 & - \\frac{2}{3} & \\frac{2}{3} & 0\\\\0 & 0 & 0 & 0 & 1 & -1 & -3\\end{matrix}\\right]$$"
      ],
      "text/plain": [
       "⎡1  -1  0  0  -8/3  20/3  7 ⎤\n",
       "⎢                           ⎥\n",
       "⎢0  0   1  0   -2    0    6 ⎥\n",
       "⎢                           ⎥\n",
       "⎢0  0   0  1  -2/3  2/3   0 ⎥\n",
       "⎢                           ⎥\n",
       "⎣0  0   0  0   1     -1   -3⎦"
      ]
     },
     "execution_count": 24,
     "metadata": {},
     "output_type": "execute_result"
    }
   ],
   "source": [
    "A4 = rop(A3, 'R3*(-1/3)=>R3', 'R3*(1)+R1=>R1')\n",
    "A4"
   ]
  },
  {
   "cell_type": "code",
   "execution_count": 25,
   "metadata": {
    "collapsed": false
   },
   "outputs": [
    {
     "data": {
      "image/png": "[encoded data removed]",
      "text/latex": [
       "$$\\left[\\begin{matrix}1 & -1 & 0 & 0 & 0 & 4 & -1\\\\0 & 0 & 1 & 0 & 0 & -2 & 0\\\\0 & 0 & 0 & 1 & 0 & 0 & -2\\\\0 & 0 & 0 & 0 & 1 & -1 & -3\\end{matrix}\\right]$$"
      ],
      "text/plain": [
       "⎡1  -1  0  0  0  4   -1⎤\n",
       "⎢                      ⎥\n",
       "⎢0  0   1  0  0  -2  0 ⎥\n",
       "⎢                      ⎥\n",
       "⎢0  0   0  1  0  0   -2⎥\n",
       "⎢                      ⎥\n",
       "⎣0  0   0  0  1  -1  -3⎦"
      ]
     },
     "execution_count": 25,
     "metadata": {},
     "output_type": "execute_result"
    }
   ],
   "source": [
    "A5 = rop(A4, 'R4*(8/3)+R1=>R1', 'R4*(2)+R2=>R2', 'R4*(2/3)+R3=>R3')\n",
    "A5"
   ]
  },
  {
   "cell_type": "markdown",
   "metadata": {},
   "source": [
    "## Diamond"
   ]
  },
  {
   "cell_type": "code",
   "execution_count": 26,
   "metadata": {
    "collapsed": false
   },
   "outputs": [
    {
     "data": {
      "image/png": "[encoded data removed]",
      "text/latex": [
       "$$\\left[\\begin{matrix}1 & -2 & -5 & -3 & -2 & 5 & -14\\\\-3 & 0 & -3 & -2 & -2 & 13 & 7\\\\0 & -2 & -6 & -1 & 0 & 4 & -9\\\\-1 & -1 & -4 & 1 & 0 & 2 & 0\\end{matrix}\\right]$$"
      ],
      "text/plain": [
       "⎡1   -2  -5  -3  -2  5   -14⎤\n",
       "⎢                           ⎥\n",
       "⎢-3  0   -3  -2  -2  13   7 ⎥\n",
       "⎢                           ⎥\n",
       "⎢0   -2  -6  -1  0   4   -9 ⎥\n",
       "⎢                           ⎥\n",
       "⎣-1  -1  -4  1   0   2    0 ⎦"
      ]
     },
     "execution_count": 26,
     "metadata": {},
     "output_type": "execute_result"
    }
   ],
   "source": [
    "A = matrix_to_rational([[ 1, -2, -5, -3, -2,  5, -14],\n",
    "                        [-3,  0, -3, -2, -2, 13,   7],\n",
    "                        [ 0, -2, -6, -1,  0,  4,  -9],\n",
    "                        [-1,-1, -4,  1,  0,  2,   0]])\n",
    "A"
   ]
  },
  {
   "cell_type": "code",
   "execution_count": 27,
   "metadata": {
    "collapsed": false
   },
   "outputs": [
    {
     "data": {
      "image/png": "[encoded data removed]",
      "text/latex": [
       "$$\\left[\\begin{matrix}1 & -2 & -5 & -3 & -2 & 5 & -14\\\\0 & -6 & -18 & -11 & -8 & 28 & -35\\\\0 & -2 & -6 & -1 & 0 & 4 & -9\\\\0 & -3 & -9 & -2 & -2 & 7 & -14\\end{matrix}\\right]$$"
      ],
      "text/plain": [
       "⎡1  -2  -5   -3   -2  5   -14⎤\n",
       "⎢                            ⎥\n",
       "⎢0  -6  -18  -11  -8  28  -35⎥\n",
       "⎢                            ⎥\n",
       "⎢0  -2  -6   -1   0   4   -9 ⎥\n",
       "⎢                            ⎥\n",
       "⎣0  -3  -9   -2   -2  7   -14⎦"
      ]
     },
     "execution_count": 27,
     "metadata": {},
     "output_type": "execute_result"
    }
   ],
   "source": [
    "A1 = rop(A, 'R1*(3)+R2=>R2', 'R1*(1)+R4=>R4')\n",
    "A1"
   ]
  },
  {
   "cell_type": "code",
   "execution_count": 28,
   "metadata": {
    "collapsed": false
   },
   "outputs": [
    {
     "data": {
      "image/png": "[encoded data removed]",
      "text/latex": [
       "$$\\left[\\begin{matrix}1 & 0 & 1 & \\frac{2}{3} & \\frac{2}{3} & - \\frac{13}{3} & - \\frac{7}{3}\\\\0 & 1 & 3 & \\frac{11}{6} & \\frac{4}{3} & - \\frac{14}{3} & \\frac{35}{6}\\\\0 & 0 & 0 & \\frac{8}{3} & \\frac{8}{3} & - \\frac{16}{3} & \\frac{8}{3}\\\\0 & 0 & 0 & \\frac{7}{2} & 2 & -7 & \\frac{7}{2}\\end{matrix}\\right]$$"
      ],
      "text/plain": [
       "⎡1  0  1  2/3   2/3  -13/3  -7/3⎤\n",
       "⎢                               ⎥\n",
       "⎢0  1  3  11/6  4/3  -14/3  35/6⎥\n",
       "⎢                               ⎥\n",
       "⎢0  0  0  8/3   8/3  -16/3  8/3 ⎥\n",
       "⎢                               ⎥\n",
       "⎣0  0  0  7/2    2    -7    7/2 ⎦"
      ]
     },
     "execution_count": 28,
     "metadata": {},
     "output_type": "execute_result"
    }
   ],
   "source": [
    "A2 = rop(A1, 'R2*(-1/6)=>R2', 'R2*(2)+R1=>R1', 'R2*(2)+R3=>R3', 'R2*(3)+R4=>R4')\n",
    "A2"
   ]
  },
  {
   "cell_type": "code",
   "execution_count": 29,
   "metadata": {
    "collapsed": false
   },
   "outputs": [
    {
     "data": {
      "image/png": "[encoded data removed]",
      "text/latex": [
       "$$\\left[\\begin{matrix}1 & 0 & 1 & 0 & 0 & -3 & -3\\\\0 & 1 & 3 & 0 & - \\frac{1}{2} & -1 & 4\\\\0 & 0 & 0 & 1 & 1 & -2 & 1\\\\0 & 0 & 0 & 0 & - \\frac{3}{2} & 0 & 0\\end{matrix}\\right]$$"
      ],
      "text/plain": [
       "⎡1  0  1  0   0    -3  -3⎤\n",
       "⎢                        ⎥\n",
       "⎢0  1  3  0  -1/2  -1  4 ⎥\n",
       "⎢                        ⎥\n",
       "⎢0  0  0  1   1    -2  1 ⎥\n",
       "⎢                        ⎥\n",
       "⎣0  0  0  0  -3/2  0   0 ⎦"
      ]
     },
     "execution_count": 29,
     "metadata": {},
     "output_type": "execute_result"
    }
   ],
   "source": [
    "A3 = rop(A2, 'R3*(3/8)=>R3', 'R3*(-2/3)+R1=>R1', 'R3*(-11/6)+R2=>R2', 'R3*(-7/2)+R4=>R4')\n",
    "A3"
   ]
  },
  {
   "cell_type": "code",
   "execution_count": 30,
   "metadata": {
    "collapsed": false
   },
   "outputs": [
    {
     "data": {
      "image/png": "[encoded data removed]",
      "text/latex": [
       "$$\\left[\\begin{matrix}1 & 0 & 1 & 0 & 0 & -3 & -3\\\\0 & 1 & 3 & 0 & 0 & -1 & 4\\\\0 & 0 & 0 & 1 & 0 & -2 & 1\\\\0 & 0 & 0 & 0 & 1 & 0 & 0\\end{matrix}\\right]$$"
      ],
      "text/plain": [
       "⎡1  0  1  0  0  -3  -3⎤\n",
       "⎢                     ⎥\n",
       "⎢0  1  3  0  0  -1  4 ⎥\n",
       "⎢                     ⎥\n",
       "⎢0  0  0  1  0  -2  1 ⎥\n",
       "⎢                     ⎥\n",
       "⎣0  0  0  0  1  0   0 ⎦"
      ]
     },
     "execution_count": 30,
     "metadata": {},
     "output_type": "execute_result"
    }
   ],
   "source": [
    "A4 = rop(A3, 'R4*(-2/3)=>R4', 'R4*(1/2)+R2=>R2', 'R4*(-1)+R3=>R3')\n",
    "A4"
   ]
  },
  {
   "cell_type": "markdown",
   "metadata": {
    "collapsed": true
   },
   "source": [
    "# Problem 2"
   ]
  },
  {
   "cell_type": "markdown",
   "metadata": {
    "collapsed": true
   },
   "source": [
    "## Spade"
   ]
  },
  {
   "cell_type": "code",
   "execution_count": 31,
   "metadata": {
    "collapsed": false
   },
   "outputs": [
    {
     "data": {
      "image/png": "[encoded data removed]",
      "text/latex": [
       "$$\\left[\\begin{matrix}7 & 1 & 5 & -3 & 1 & 0 & 0 & 0\\\\13 & 0 & 11 & -7 & 0 & 1 & 0 & 0\\\\3 & 1 & 2 & -1 & 0 & 0 & 1 & 0\\\\-3 & 1 & -3 & 2 & 0 & 0 & 0 & 1\\end{matrix}\\right]$$"
      ],
      "text/plain": [
       "⎡7   1  5   -3  1  0  0  0⎤\n",
       "⎢                         ⎥\n",
       "⎢13  0  11  -7  0  1  0  0⎥\n",
       "⎢                         ⎥\n",
       "⎢3   1  2   -1  0  0  1  0⎥\n",
       "⎢                         ⎥\n",
       "⎣-3  1  -3  2   0  0  0  1⎦"
      ]
     },
     "execution_count": 31,
     "metadata": {},
     "output_type": "execute_result"
    }
   ],
   "source": [
    "A = matrix_to_rational([[ 7, 1,  5, -3, 1, 0, 0, 0],\n",
    "                        [13, 0, 11, -7, 0, 1, 0, 0],\n",
    "                        [ 3, 1,  2, -1, 0, 0, 1, 0],\n",
    "                        [-3, 1, -3,  2, 0, 0, 0, 1]])\n",
    "A"
   ]
  },
  {
   "cell_type": "code",
   "execution_count": 32,
   "metadata": {
    "collapsed": false
   },
   "outputs": [
    {
     "data": {
      "image/png": "[encoded data removed]",
      "text/latex": [
       "$$\\left[\\begin{matrix}1 & \\frac{1}{7} & \\frac{5}{7} & - \\frac{3}{7} & \\frac{1}{7} & 0 & 0 & 0\\\\0 & - \\frac{13}{7} & \\frac{12}{7} & - \\frac{10}{7} & - \\frac{13}{7} & 1 & 0 & 0\\\\0 & \\frac{4}{7} & - \\frac{1}{7} & \\frac{2}{7} & - \\frac{3}{7} & 0 & 1 & 0\\\\0 & \\frac{10}{7} & - \\frac{6}{7} & \\frac{5}{7} & \\frac{3}{7} & 0 & 0 & 1\\end{matrix}\\right]$$"
      ],
      "text/plain": [
       "⎡1   1/7   5/7   -3/7    1/7   0  0  0⎤\n",
       "⎢                                     ⎥\n",
       "⎢0  -13/7  12/7  -10/7  -13/7  1  0  0⎥\n",
       "⎢                                     ⎥\n",
       "⎢0   4/7   -1/7   2/7   -3/7   0  1  0⎥\n",
       "⎢                                     ⎥\n",
       "⎣0  10/7   -6/7   5/7    3/7   0  0  1⎦"
      ]
     },
     "execution_count": 32,
     "metadata": {},
     "output_type": "execute_result"
    }
   ],
   "source": [
    "A1 = rop(A, 'R1*(1/7)=>R1', 'R1*(-13)+R2=>R2', 'R1*(-3)+R3=>R3', 'R1*(3)+R4=>R4')\n",
    "A1"
   ]
  },
  {
   "cell_type": "code",
   "execution_count": 33,
   "metadata": {
    "collapsed": false
   },
   "outputs": [
    {
     "data": {
      "image/png": "[encoded data removed]",
      "text/latex": [
       "$$\\left[\\begin{matrix}1 & 0 & \\frac{11}{13} & - \\frac{7}{13} & 0 & \\frac{1}{13} & 0 & 0\\\\0 & 1 & - \\frac{12}{13} & \\frac{10}{13} & 1 & - \\frac{7}{13} & 0 & 0\\\\0 & 0 & \\frac{5}{13} & - \\frac{2}{13} & -1 & \\frac{4}{13} & 1 & 0\\\\0 & 0 & \\frac{6}{13} & - \\frac{5}{13} & -1 & \\frac{10}{13} & 0 & 1\\end{matrix}\\right]$$"
      ],
      "text/plain": [
       "⎡       11                         ⎤\n",
       "⎢1  0   ──   -7/13  0   1/13   0  0⎥\n",
       "⎢       13                         ⎥\n",
       "⎢                                  ⎥\n",
       "⎢      -12    10                   ⎥\n",
       "⎢0  1  ────   ──    1   -7/13  0  0⎥\n",
       "⎢       13    13                   ⎥\n",
       "⎢                                  ⎥\n",
       "⎢0  0  5/13  -2/13  -1  4/13   1  0⎥\n",
       "⎢                                  ⎥\n",
       "⎢                        10        ⎥\n",
       "⎢0  0  6/13  -5/13  -1   ──    0  1⎥\n",
       "⎣                        13        ⎦"
      ]
     },
     "execution_count": 33,
     "metadata": {},
     "output_type": "execute_result"
    }
   ],
   "source": [
    "A2 = rop(A1, 'R2*(-7/13)=>R2', 'R2*(-1/7)+R1=>R1', 'R2*(-4/7)+R3=>R3', 'R2*(-10/7)+R4=>R4')\n",
    "A2"
   ]
  },
  {
   "cell_type": "code",
   "execution_count": 34,
   "metadata": {
    "collapsed": false
   },
   "outputs": [
    {
     "data": {
      "image/png": "[encoded data removed]",
      "text/latex": [
       "$$\\left[\\begin{matrix}1 & 0 & 0 & - \\frac{1}{5} & \\frac{11}{5} & - \\frac{3}{5} & - \\frac{11}{5} & 0\\\\0 & 1 & 0 & \\frac{2}{5} & - \\frac{7}{5} & \\frac{1}{5} & \\frac{12}{5} & 0\\\\0 & 0 & 1 & - \\frac{2}{5} & - \\frac{13}{5} & \\frac{4}{5} & \\frac{13}{5} & 0\\\\0 & 0 & 0 & - \\frac{1}{5} & \\frac{1}{5} & \\frac{2}{5} & - \\frac{6}{5} & 1\\end{matrix}\\right]$$"
      ],
      "text/plain": [
       "⎡1  0  0  -1/5  11/5   -3/5  -11/5  0⎤\n",
       "⎢                                    ⎥\n",
       "⎢0  1  0  2/5   -7/5   1/5   12/5   0⎥\n",
       "⎢                                    ⎥\n",
       "⎢0  0  1  -2/5  -13/5  4/5   13/5   0⎥\n",
       "⎢                                    ⎥\n",
       "⎣0  0  0  -1/5   1/5   2/5   -6/5   1⎦"
      ]
     },
     "execution_count": 34,
     "metadata": {},
     "output_type": "execute_result"
    }
   ],
   "source": [
    "A3 = rop(A2, 'R3*(13/5)=>R3', 'R3*(-11/13)+R1=>R1', 'R3*(12/13)+R2=>R2', 'R3*(-6/13)+R4=>R4')\n",
    "A3"
   ]
  },
  {
   "cell_type": "code",
   "execution_count": 35,
   "metadata": {
    "collapsed": false
   },
   "outputs": [
    {
     "data": {
      "image/png": "[encoded data removed]",
      "text/latex": [
       "$$\\left[\\begin{matrix}1 & 0 & 0 & 0 & 2 & -1 & -1 & -1\\\\0 & 1 & 0 & 0 & -1 & 1 & 0 & 2\\\\0 & 0 & 1 & 0 & -3 & 0 & 5 & -2\\\\0 & 0 & 0 & 1 & -1 & -2 & 6 & -5\\end{matrix}\\right]$$"
      ],
      "text/plain": [
       "⎡1  0  0  0  2   -1  -1  -1⎤\n",
       "⎢                          ⎥\n",
       "⎢0  1  0  0  -1  1   0   2 ⎥\n",
       "⎢                          ⎥\n",
       "⎢0  0  1  0  -3  0   5   -2⎥\n",
       "⎢                          ⎥\n",
       "⎣0  0  0  1  -1  -2  6   -5⎦"
      ]
     },
     "execution_count": 35,
     "metadata": {},
     "output_type": "execute_result"
    }
   ],
   "source": [
    "A4 = rop(A3,'R4*(-5)=>R4', 'R4*(1/5)+R1=>R1', 'R4*(-2/5)+R2=>R2', 'R4*(2/5)+R3=>R3')\n",
    "A4"
   ]
  },
  {
   "cell_type": "markdown",
   "metadata": {
    "collapsed": true
   },
   "source": [
    "## Club"
   ]
  },
  {
   "cell_type": "code",
   "execution_count": 36,
   "metadata": {
    "collapsed": false
   },
   "outputs": [
    {
     "data": {
      "image/png": "[encoded data removed]",
      "text/latex": [
       "$$\\left[\\begin{matrix}3 & 5 & -1 & 3 & 1 & 0 & 0 & 0\\\\7 & 8 & -1 & 5 & 0 & 1 & 0 & 0\\\\-5 & -1 & -2 & -1 & 0 & 0 & 1 & 0\\\\-5 & -3 & -1 & -2 & 0 & 0 & 0 & 1\\end{matrix}\\right]$$"
      ],
      "text/plain": [
       "⎡3   5   -1  3   1  0  0  0⎤\n",
       "⎢                          ⎥\n",
       "⎢7   8   -1  5   0  1  0  0⎥\n",
       "⎢                          ⎥\n",
       "⎢-5  -1  -2  -1  0  0  1  0⎥\n",
       "⎢                          ⎥\n",
       "⎣-5  -3  -1  -2  0  0  0  1⎦"
      ]
     },
     "execution_count": 36,
     "metadata": {},
     "output_type": "execute_result"
    }
   ],
   "source": [
    "A = matrix_to_rational([[ 3,  5, -1,  3, 1, 0, 0, 0],\n",
    "                        [ 7,  8, -1,  5, 0, 1, 0, 0],\n",
    "                        [-5, -1, -2, -1, 0, 0, 1, 0],\n",
    "                        [-5, -3, -1, -2, 0, 0, 0, 1]])\n",
    "A"
   ]
  },
  {
   "cell_type": "code",
   "execution_count": 37,
   "metadata": {
    "collapsed": false
   },
   "outputs": [
    {
     "data": {
      "image/png": "[encoded data removed]",
      "text/latex": [
       "$$\\left[\\begin{matrix}1 & \\frac{5}{3} & - \\frac{1}{3} & 1 & \\frac{1}{3} & 0 & 0 & 0\\\\0 & - \\frac{11}{3} & \\frac{4}{3} & -2 & - \\frac{7}{3} & 1 & 0 & 0\\\\0 & \\frac{22}{3} & - \\frac{11}{3} & 4 & \\frac{5}{3} & 0 & 1 & 0\\\\0 & \\frac{16}{3} & - \\frac{8}{3} & 3 & \\frac{5}{3} & 0 & 0 & 1\\end{matrix}\\right]$$"
      ],
      "text/plain": [
       "⎡1   5/3   -1/3   1   1/3   0  0  0⎤\n",
       "⎢                                  ⎥\n",
       "⎢0  -11/3   4/3   -2  -7/3  1  0  0⎥\n",
       "⎢                                  ⎥\n",
       "⎢0  22/3   -11/3  4   5/3   0  1  0⎥\n",
       "⎢                                  ⎥\n",
       "⎣0  16/3   -8/3   3   5/3   0  0  1⎦"
      ]
     },
     "execution_count": 37,
     "metadata": {},
     "output_type": "execute_result"
    }
   ],
   "source": [
    "A1 = rop(A, 'R1*(1/3)=>R1', 'R1*(-7)+R2=>R2', 'R1*(5)+R3=>R3', 'R1*(5)+R4=>R4')\n",
    "A1"
   ]
  },
  {
   "cell_type": "code",
   "execution_count": 38,
   "metadata": {
    "collapsed": false
   },
   "outputs": [
    {
     "data": {
      "image/png": "[encoded data removed]",
      "text/latex": [
       "$$\\left[\\begin{matrix}1 & 0 & \\frac{3}{11} & \\frac{1}{11} & - \\frac{8}{11} & \\frac{5}{11} & 0 & 0\\\\0 & 1 & - \\frac{4}{11} & \\frac{6}{11} & \\frac{7}{11} & - \\frac{3}{11} & 0 & 0\\\\0 & 0 & -1 & 0 & -3 & 2 & 1 & 0\\\\0 & 0 & - \\frac{8}{11} & \\frac{1}{11} & - \\frac{19}{11} & \\frac{16}{11} & 0 & 1\\end{matrix}\\right]$$"
      ],
      "text/plain": [
       "⎡1  0  3/11   1/11  -8/11  5/11   0  0⎤\n",
       "⎢                                     ⎥\n",
       "⎢0  1  -4/11  6/11  7/11   -3/11  0  0⎥\n",
       "⎢                                     ⎥\n",
       "⎢0  0   -1     0     -3      2    1  0⎥\n",
       "⎢                                     ⎥\n",
       "⎢                   -19     16        ⎥\n",
       "⎢0  0  -8/11  1/11  ────    ──    0  1⎥\n",
       "⎣                    11     11        ⎦"
      ]
     },
     "execution_count": 38,
     "metadata": {},
     "output_type": "execute_result"
    }
   ],
   "source": [
    "A2 = rop(A1, 'R2*(-3/11)=>R2', 'R2*(-5/3)+R1=>R1', 'R2*(-22/3)+R3=>R3', 'R2*(-16/3)+R4=>R4')\n",
    "A2"
   ]
  },
  {
   "cell_type": "code",
   "execution_count": 39,
   "metadata": {
    "collapsed": false
   },
   "outputs": [
    {
     "data": {
      "image/png": "[encoded data removed]",
      "text/latex": [
       "$$\\left[\\begin{matrix}1 & 0 & 0 & \\frac{1}{11} & - \\frac{17}{11} & 1 & \\frac{3}{11} & 0\\\\0 & 1 & 0 & \\frac{6}{11} & \\frac{19}{11} & -1 & - \\frac{4}{11} & 0\\\\0 & 0 & 1 & 0 & 3 & -2 & -1 & 0\\\\0 & 0 & 0 & \\frac{1}{11} & \\frac{5}{11} & 0 & - \\frac{8}{11} & 1\\end{matrix}\\right]$$"
      ],
      "text/plain": [
       "⎡               -17               ⎤\n",
       "⎢1  0  0  1/11  ────  1   3/11   0⎥\n",
       "⎢                11               ⎥\n",
       "⎢                                 ⎥\n",
       "⎢                19               ⎥\n",
       "⎢0  1  0  6/11   ──   -1  -4/11  0⎥\n",
       "⎢                11               ⎥\n",
       "⎢                                 ⎥\n",
       "⎢0  0  1   0     3    -2   -1    0⎥\n",
       "⎢                                 ⎥\n",
       "⎣0  0  0  1/11  5/11  0   -8/11  1⎦"
      ]
     },
     "execution_count": 39,
     "metadata": {},
     "output_type": "execute_result"
    }
   ],
   "source": [
    "A3 = rop(A2, 'R3*(-1)=>R3', 'R3*(-3/11)+R1=>R1', 'R3*(4/11)+R2=>R2', 'R3*(8/11)+R4=>R4')\n",
    "A3"
   ]
  },
  {
   "cell_type": "code",
   "execution_count": 40,
   "metadata": {
    "collapsed": false
   },
   "outputs": [
    {
     "data": {
      "image/png": "[encoded data removed]",
      "text/latex": [
       "$$\\left[\\begin{matrix}1 & 0 & 0 & 0 & -2 & 1 & 1 & -1\\\\0 & 1 & 0 & 0 & -1 & -1 & 4 & -6\\\\0 & 0 & 1 & 0 & 3 & -2 & -1 & 0\\\\0 & 0 & 0 & 1 & 5 & 0 & -8 & 11\\end{matrix}\\right]$$"
      ],
      "text/plain": [
       "⎡1  0  0  0  -2  1   1   -1⎤\n",
       "⎢                          ⎥\n",
       "⎢0  1  0  0  -1  -1  4   -6⎥\n",
       "⎢                          ⎥\n",
       "⎢0  0  1  0  3   -2  -1  0 ⎥\n",
       "⎢                          ⎥\n",
       "⎣0  0  0  1  5   0   -8  11⎦"
      ]
     },
     "execution_count": 40,
     "metadata": {},
     "output_type": "execute_result"
    }
   ],
   "source": [
    "A4 = rop(A3, 'R4*(11)=>R4', 'R4*(-1/11)+R1=>R1', 'R4*(-6/11)+R2=>R2')\n",
    "A4"
   ]
  },
  {
   "cell_type": "markdown",
   "metadata": {
    "collapsed": true
   },
   "source": [
    "## Heart"
   ]
  },
  {
   "cell_type": "code",
   "execution_count": 41,
   "metadata": {
    "collapsed": false
   },
   "outputs": [
    {
     "data": {
      "image/png": "[encoded data removed]",
      "text/latex": [
       "$$\\left[\\begin{matrix}1 & 1 & 1 & -1 & 1 & 0 & 0 & 0\\\\1 & 8 & 7 & -5 & 0 & 1 & 0 & 0\\\\1 & -3 & -2 & 1 & 0 & 0 & 1 & 0\\\\-1 & 9 & 7 & -4 & 0 & 0 & 0 & 1\\end{matrix}\\right]$$"
      ],
      "text/plain": [
       "⎡1   1   1   -1  1  0  0  0⎤\n",
       "⎢                          ⎥\n",
       "⎢1   8   7   -5  0  1  0  0⎥\n",
       "⎢                          ⎥\n",
       "⎢1   -3  -2  1   0  0  1  0⎥\n",
       "⎢                          ⎥\n",
       "⎣-1  9   7   -4  0  0  0  1⎦"
      ]
     },
     "execution_count": 41,
     "metadata": {},
     "output_type": "execute_result"
    }
   ],
   "source": [
    "A = matrix_to_rational([[ 1,  1,  1, -1, 1, 0, 0, 0],\n",
    "                        [ 1,  8,  7, -5, 0, 1, 0, 0],\n",
    "                        [ 1, -3, -2,  1, 0, 0, 1, 0],\n",
    "                        [-1,  9,  7, -4, 0, 0, 0, 1]])\n",
    "A"
   ]
  },
  {
   "cell_type": "code",
   "execution_count": 42,
   "metadata": {
    "collapsed": false
   },
   "outputs": [
    {
     "data": {
      "image/png": "[encoded data removed]",
      "text/latex": [
       "$$\\left[\\begin{matrix}1 & 1 & 1 & -1 & 1 & 0 & 0 & 0\\\\0 & 7 & 6 & -4 & -1 & 1 & 0 & 0\\\\0 & -4 & -3 & 2 & -1 & 0 & 1 & 0\\\\0 & 10 & 8 & -5 & 1 & 0 & 0 & 1\\end{matrix}\\right]$$"
      ],
      "text/plain": [
       "⎡1  1   1   -1  1   0  0  0⎤\n",
       "⎢                          ⎥\n",
       "⎢0  7   6   -4  -1  1  0  0⎥\n",
       "⎢                          ⎥\n",
       "⎢0  -4  -3  2   -1  0  1  0⎥\n",
       "⎢                          ⎥\n",
       "⎣0  10  8   -5  1   0  0  1⎦"
      ]
     },
     "execution_count": 42,
     "metadata": {},
     "output_type": "execute_result"
    }
   ],
   "source": [
    "A1 = rop(A, 'R1*(-1)+R2=>R2', 'R1*(-1)+R3=>R3', 'R1*(1)+R4=>R4')\n",
    "A1"
   ]
  },
  {
   "cell_type": "code",
   "execution_count": 43,
   "metadata": {
    "collapsed": false
   },
   "outputs": [
    {
     "data": {
      "image/png": "[encoded data removed]",
      "text/latex": [
       "$$\\left[\\begin{matrix}1 & 0 & \\frac{1}{7} & - \\frac{3}{7} & \\frac{8}{7} & - \\frac{1}{7} & 0 & 0\\\\0 & 1 & \\frac{6}{7} & - \\frac{4}{7} & - \\frac{1}{7} & \\frac{1}{7} & 0 & 0\\\\0 & 0 & \\frac{3}{7} & - \\frac{2}{7} & - \\frac{11}{7} & \\frac{4}{7} & 1 & 0\\\\0 & 0 & - \\frac{4}{7} & \\frac{5}{7} & \\frac{17}{7} & - \\frac{10}{7} & 0 & 1\\end{matrix}\\right]$$"
      ],
      "text/plain": [
       "⎡1  0  1/7   -3/7   8/7   -1/7   0  0⎤\n",
       "⎢                                    ⎥\n",
       "⎢0  1  6/7   -4/7  -1/7    1/7   0  0⎥\n",
       "⎢                                    ⎥\n",
       "⎢0  0  3/7   -2/7  -11/7   4/7   1  0⎥\n",
       "⎢                                    ⎥\n",
       "⎣0  0  -4/7  5/7   17/7   -10/7  0  1⎦"
      ]
     },
     "execution_count": 43,
     "metadata": {},
     "output_type": "execute_result"
    }
   ],
   "source": [
    "A2 = rop(A1, 'R2*(1/7)=>R2', 'R2*(-1)+R1=>R1', 'R2*(4)+R3=>R3', 'R2*(-10)+R4=>R4')\n",
    "A2"
   ]
  },
  {
   "cell_type": "code",
   "execution_count": 44,
   "metadata": {
    "collapsed": false
   },
   "outputs": [
    {
     "data": {
      "image/png": "[encoded data removed]",
      "text/latex": [
       "$$\\left[\\begin{matrix}1 & 0 & 0 & - \\frac{1}{3} & \\frac{5}{3} & - \\frac{1}{3} & - \\frac{1}{3} & 0\\\\0 & 1 & 0 & 0 & 3 & -1 & -2 & 0\\\\0 & 0 & 1 & - \\frac{2}{3} & - \\frac{11}{3} & \\frac{4}{3} & \\frac{7}{3} & 0\\\\0 & 0 & 0 & \\frac{1}{3} & \\frac{1}{3} & - \\frac{2}{3} & \\frac{4}{3} & 1\\end{matrix}\\right]$$"
      ],
      "text/plain": [
       "⎡1  0  0  -1/3   5/3   -1/3  -1/3  0⎤\n",
       "⎢                                   ⎥\n",
       "⎢0  1  0   0      3     -1    -2   0⎥\n",
       "⎢                                   ⎥\n",
       "⎢0  0  1  -2/3  -11/3  4/3   7/3   0⎥\n",
       "⎢                                   ⎥\n",
       "⎣0  0  0  1/3    1/3   -2/3  4/3   1⎦"
      ]
     },
     "execution_count": 44,
     "metadata": {},
     "output_type": "execute_result"
    }
   ],
   "source": [
    "A3 = rop(A2, 'R3*(7/3)=>R3', 'R3*(-1/7)+R1=>R1', 'R3*(-6/7)+R2=>R2', 'R3*(4/7)+R4=>R4')\n",
    "A3"
   ]
  },
  {
   "cell_type": "code",
   "execution_count": 45,
   "metadata": {
    "collapsed": false
   },
   "outputs": [
    {
     "data": {
      "image/png": "[encoded data removed]",
      "text/latex": [
       "$$\\left[\\begin{matrix}1 & 0 & 0 & 0 & 2 & -1 & 1 & 1\\\\0 & 1 & 0 & 0 & 3 & -1 & -2 & 0\\\\0 & 0 & 1 & 0 & -3 & 0 & 5 & 2\\\\0 & 0 & 0 & 1 & 1 & -2 & 4 & 3\\end{matrix}\\right]$$"
      ],
      "text/plain": [
       "⎡1  0  0  0  2   -1  1   1⎤\n",
       "⎢                         ⎥\n",
       "⎢0  1  0  0  3   -1  -2  0⎥\n",
       "⎢                         ⎥\n",
       "⎢0  0  1  0  -3  0   5   2⎥\n",
       "⎢                         ⎥\n",
       "⎣0  0  0  1  1   -2  4   3⎦"
      ]
     },
     "execution_count": 45,
     "metadata": {},
     "output_type": "execute_result"
    }
   ],
   "source": [
    "A4 = rop(A3, 'R4*(3)=>R4', 'R4*(1/3)+R1=>R1', 'R4*(2/3)+R3=>R3')\n",
    "A4"
   ]
  },
  {
   "cell_type": "markdown",
   "metadata": {
    "collapsed": true
   },
   "source": [
    "## Diamond"
   ]
  },
  {
   "cell_type": "code",
   "execution_count": 46,
   "metadata": {
    "collapsed": false
   },
   "outputs": [
    {
     "data": {
      "image/png": "[encoded data removed]",
      "text/latex": [
       "$$\\left[\\begin{matrix}3 & -5 & -1 & 1 & 1 & 0 & 0 & 0\\\\5 & 2 & -5 & -3 & 0 & 1 & 0 & 0\\\\1 & -3 & 0 & 1 & 0 & 0 & 1 & 0\\\\1 & -1 & -1 & 0 & 0 & 0 & 0 & 1\\end{matrix}\\right]$$"
      ],
      "text/plain": [
       "⎡3  -5  -1  1   1  0  0  0⎤\n",
       "⎢                         ⎥\n",
       "⎢5  2   -5  -3  0  1  0  0⎥\n",
       "⎢                         ⎥\n",
       "⎢1  -3  0   1   0  0  1  0⎥\n",
       "⎢                         ⎥\n",
       "⎣1  -1  -1  0   0  0  0  1⎦"
      ]
     },
     "execution_count": 46,
     "metadata": {},
     "output_type": "execute_result"
    }
   ],
   "source": [
    "A = matrix_to_rational([[ 3, -5, -1,  1, 1, 0, 0, 0],\n",
    "                        [ 5,  2, -5, -3, 0, 1, 0, 0],\n",
    "                        [ 1, -3,  0,  1, 0, 0, 1, 0],\n",
    "                        [ 1, -1, -1,  0, 0, 0, 0, 1]])\n",
    "A"
   ]
  },
  {
   "cell_type": "code",
   "execution_count": 47,
   "metadata": {
    "collapsed": false
   },
   "outputs": [
    {
     "data": {
      "image/png": "[encoded data removed]",
      "text/latex": [
       "$$\\left[\\begin{matrix}1 & - \\frac{5}{3} & - \\frac{1}{3} & \\frac{1}{3} & \\frac{1}{3} & 0 & 0 & 0\\\\0 & \\frac{31}{3} & - \\frac{10}{3} & - \\frac{14}{3} & - \\frac{5}{3} & 1 & 0 & 0\\\\0 & - \\frac{4}{3} & \\frac{1}{3} & \\frac{2}{3} & - \\frac{1}{3} & 0 & 1 & 0\\\\0 & \\frac{2}{3} & - \\frac{2}{3} & - \\frac{1}{3} & - \\frac{1}{3} & 0 & 0 & 1\\end{matrix}\\right]$$"
      ],
      "text/plain": [
       "⎡1  -5/3  -1/3    1/3   1/3   0  0  0⎤\n",
       "⎢                                    ⎥\n",
       "⎢0  31/3  -10/3  -14/3  -5/3  1  0  0⎥\n",
       "⎢                                    ⎥\n",
       "⎢0  -4/3   1/3    2/3   -1/3  0  1  0⎥\n",
       "⎢                                    ⎥\n",
       "⎣0  2/3   -2/3   -1/3   -1/3  0  0  1⎦"
      ]
     },
     "execution_count": 47,
     "metadata": {},
     "output_type": "execute_result"
    }
   ],
   "source": [
    "A1 = rop(A, 'R1*(1/3)=>R1', 'R1*(-5)+R2=>R2', 'R1*(-1)+R3=>R3', 'R1*(-1)+R4=>R4')\n",
    "A1"
   ]
  },
  {
   "cell_type": "code",
   "execution_count": 48,
   "metadata": {
    "collapsed": false
   },
   "outputs": [
    {
     "data": {
      "image/png": "[encoded data removed]",
      "text/latex": [
       "$$\\left[\\begin{matrix}1 & 0 & - \\frac{27}{31} & - \\frac{13}{31} & \\frac{2}{31} & \\frac{5}{31} & 0 & 0\\\\0 & 1 & - \\frac{10}{31} & - \\frac{14}{31} & - \\frac{5}{31} & \\frac{3}{31} & 0 & 0\\\\0 & 0 & - \\frac{3}{31} & \\frac{2}{31} & - \\frac{17}{31} & \\frac{4}{31} & 1 & 0\\\\0 & 0 & - \\frac{14}{31} & - \\frac{1}{31} & - \\frac{7}{31} & - \\frac{2}{31} & 0 & 1\\end{matrix}\\right]$$"
      ],
      "text/plain": [
       "⎡      -27    -13                      ⎤\n",
       "⎢1  0  ────   ────   2/31   5/31   0  0⎥\n",
       "⎢       31     31                      ⎥\n",
       "⎢                                      ⎥\n",
       "⎢      -10    -14                      ⎥\n",
       "⎢0  1  ────   ────   -5/31  3/31   0  0⎥\n",
       "⎢       31     31                      ⎥\n",
       "⎢                                      ⎥\n",
       "⎢                    -17               ⎥\n",
       "⎢0  0  -3/31  2/31   ────   4/31   1  0⎥\n",
       "⎢                     31               ⎥\n",
       "⎢                                      ⎥\n",
       "⎢      -14                             ⎥\n",
       "⎢0  0  ────   -1/31  -7/31  -2/31  0  1⎥\n",
       "⎣       31                             ⎦"
      ]
     },
     "execution_count": 48,
     "metadata": {},
     "output_type": "execute_result"
    }
   ],
   "source": [
    "A2 = rop(A1, 'R2*(3/31)=>R2', 'R2*(5/3)+R1=>R1', 'R2*(4/3)+R3=>R3', 'R2*(-2/3)+R4=>R4')\n",
    "A2"
   ]
  },
  {
   "cell_type": "code",
   "execution_count": 49,
   "metadata": {
    "collapsed": false
   },
   "outputs": [
    {
     "data": {
      "image/png": "[encoded data removed]",
      "text/latex": [
       "$$\\left[\\begin{matrix}1 & 0 & 0 & -1 & 5 & -1 & -9 & 0\\\\0 & 1 & 0 & - \\frac{2}{3} & \\frac{5}{3} & - \\frac{1}{3} & - \\frac{10}{3} & 0\\\\0 & 0 & 1 & - \\frac{2}{3} & \\frac{17}{3} & - \\frac{4}{3} & - \\frac{31}{3} & 0\\\\0 & 0 & 0 & - \\frac{1}{3} & \\frac{7}{3} & - \\frac{2}{3} & - \\frac{14}{3} & 1\\end{matrix}\\right]$$"
      ],
      "text/plain": [
       "⎡1  0  0   -1    5     -1    -9    0⎤\n",
       "⎢                                   ⎥\n",
       "⎢0  1  0  -2/3  5/3   -1/3  -10/3  0⎥\n",
       "⎢                                   ⎥\n",
       "⎢0  0  1  -2/3  17/3  -4/3  -31/3  0⎥\n",
       "⎢                                   ⎥\n",
       "⎣0  0  0  -1/3  7/3   -2/3  -14/3  1⎦"
      ]
     },
     "execution_count": 49,
     "metadata": {},
     "output_type": "execute_result"
    }
   ],
   "source": [
    "A3 = rop(A2, 'R3*(-31/3)=>R3', 'R3*(27/31)+R1=>R1', 'R3*(10/31)+R2=>R2', 'R3*(14/31)+R4=>R4')\n",
    "A3"
   ]
  },
  {
   "cell_type": "code",
   "execution_count": 50,
   "metadata": {
    "collapsed": false
   },
   "outputs": [
    {
     "data": {
      "image/png": "[encoded data removed]",
      "text/latex": [
       "$$\\left[\\begin{matrix}1 & 0 & 0 & 0 & -2 & 1 & 5 & -3\\\\0 & 1 & 0 & 0 & -3 & 1 & 6 & -2\\\\0 & 0 & 1 & 0 & 1 & 0 & -1 & -2\\\\0 & 0 & 0 & 1 & -7 & 2 & 14 & -3\\end{matrix}\\right]$$"
      ],
      "text/plain": [
       "⎡1  0  0  0  -2  1  5   -3⎤\n",
       "⎢                         ⎥\n",
       "⎢0  1  0  0  -3  1  6   -2⎥\n",
       "⎢                         ⎥\n",
       "⎢0  0  1  0  1   0  -1  -2⎥\n",
       "⎢                         ⎥\n",
       "⎣0  0  0  1  -7  2  14  -3⎦"
      ]
     },
     "execution_count": 50,
     "metadata": {},
     "output_type": "execute_result"
    }
   ],
   "source": [
    "A4 = rop(A3, 'R4*(-3)=>R4', 'R4*(1)+R1=>R1', 'R4*(2/3)+R2=>R2', 'R4*(2/3)+R3=>R3')\n",
    "A4"
   ]
  },
  {
   "cell_type": "markdown",
   "metadata": {
    "collapsed": true
   },
   "source": [
    "# Problem 3"
   ]
  },
  {
   "cell_type": "markdown",
   "metadata": {
    "collapsed": true
   },
   "source": [
    "## Spade"
   ]
  },
  {
   "cell_type": "code",
   "execution_count": 51,
   "metadata": {
    "collapsed": false
   },
   "outputs": [
    {
     "data": {
      "image/png": "[encoded data removed]",
      "text/latex": [
       "$$\\left[\\begin{matrix}3 & k & -1\\\\3 & -1 & k\\\\-3 & 1 & 2\\end{matrix}\\right]$$"
      ],
      "text/plain": [
       "⎡3   k   -1⎤\n",
       "⎢          ⎥\n",
       "⎢3   -1  k ⎥\n",
       "⎢          ⎥\n",
       "⎣-3  1   2 ⎦"
      ]
     },
     "execution_count": 51,
     "metadata": {},
     "output_type": "execute_result"
    }
   ],
   "source": [
    "k = symbols('k')\n",
    "A = matrix_to_rational([[3, k, -1], [3, -1, k], [-3, 1, 2]])\n",
    "A"
   ]
  },
  {
   "cell_type": "code",
   "execution_count": 52,
   "metadata": {
    "collapsed": false
   },
   "outputs": [
    {
     "data": {
      "image/png": "[encoded data removed]",
      "text/latex": [
       "$$- 3 k^{2} - 9 k - 6$$"
      ],
      "text/plain": [
       "     2          \n",
       "- 3⋅k  - 9⋅k - 6"
      ]
     },
     "execution_count": 52,
     "metadata": {},
     "output_type": "execute_result"
    }
   ],
   "source": [
    "p = det(A)\n",
    "p"
   ]
  },
  {
   "cell_type": "code",
   "execution_count": 53,
   "metadata": {
    "collapsed": false
   },
   "outputs": [
    {
     "data": {
      "image/png": "[encoded data removed]",
      "text/latex": [
       "$$- 3 \\left(k + 1\\right) \\left(k + 2\\right)$$"
      ],
      "text/plain": [
       "-3⋅(k + 1)⋅(k + 2)"
      ]
     },
     "execution_count": 53,
     "metadata": {},
     "output_type": "execute_result"
    }
   ],
   "source": [
    "factor(p)"
   ]
  },
  {
   "cell_type": "markdown",
   "metadata": {
    "collapsed": true
   },
   "source": [
    "## Club"
   ]
  },
  {
   "cell_type": "code",
   "execution_count": 54,
   "metadata": {
    "collapsed": false
   },
   "outputs": [
    {
     "data": {
      "image/png": "[encoded data removed]",
      "text/latex": [
       "$$\\left[\\begin{matrix}-1 & 3 & k\\\\k & 3 & -1\\\\4 & -6 & 2\\end{matrix}\\right]$$"
      ],
      "text/plain": [
       "⎡-1  3   k ⎤\n",
       "⎢          ⎥\n",
       "⎢k   3   -1⎥\n",
       "⎢          ⎥\n",
       "⎣4   -6  2 ⎦"
      ]
     },
     "execution_count": 54,
     "metadata": {},
     "output_type": "execute_result"
    }
   ],
   "source": [
    "k = symbols('k')\n",
    "A = matrix_to_rational([[-1, 3, k], [k, 3, -1], [4, -6, 2]])\n",
    "A"
   ]
  },
  {
   "cell_type": "code",
   "execution_count": 55,
   "metadata": {
    "collapsed": false
   },
   "outputs": [
    {
     "data": {
      "image/png": "[encoded data removed]",
      "text/latex": [
       "$$- 6 k^{2} - 18 k - 12$$"
      ],
      "text/plain": [
       "     2            \n",
       "- 6⋅k  - 18⋅k - 12"
      ]
     },
     "execution_count": 55,
     "metadata": {},
     "output_type": "execute_result"
    }
   ],
   "source": [
    "p = det(A)\n",
    "p"
   ]
  },
  {
   "cell_type": "code",
   "execution_count": 56,
   "metadata": {
    "collapsed": false
   },
   "outputs": [
    {
     "data": {
      "image/png": "[encoded data removed]",
      "text/latex": [
       "$$- 6 \\left(k + 1\\right) \\left(k + 2\\right)$$"
      ],
      "text/plain": [
       "-6⋅(k + 1)⋅(k + 2)"
      ]
     },
     "execution_count": 56,
     "metadata": {},
     "output_type": "execute_result"
    }
   ],
   "source": [
    "factor(p)"
   ]
  },
  {
   "cell_type": "markdown",
   "metadata": {
    "collapsed": true
   },
   "source": [
    "## Heart"
   ]
  },
  {
   "cell_type": "code",
   "execution_count": 57,
   "metadata": {
    "collapsed": false
   },
   "outputs": [
    {
     "data": {
      "image/png": "[encoded data removed]",
      "text/latex": [
       "$$\\left[\\begin{matrix}-3 & -3 & k\\\\-10 & -6 & -6\\\\k & -3 & -3\\end{matrix}\\right]$$"
      ],
      "text/plain": [
       "⎡-3   -3  k ⎤\n",
       "⎢           ⎥\n",
       "⎢-10  -6  -6⎥\n",
       "⎢           ⎥\n",
       "⎣ k   -3  -3⎦"
      ]
     },
     "execution_count": 57,
     "metadata": {},
     "output_type": "execute_result"
    }
   ],
   "source": [
    "k = symbols('k')\n",
    "A = matrix_to_rational([[-3,-3,k], [-10,-6,-6], [k,-3,-3]])\n",
    "A"
   ]
  },
  {
   "cell_type": "code",
   "execution_count": 58,
   "metadata": {
    "collapsed": false
   },
   "outputs": [
    {
     "data": {
      "image/png": "[encoded data removed]",
      "text/latex": [
       "$$6 k^{2} + 48 k + 90$$"
      ],
      "text/plain": [
       "   2            \n",
       "6⋅k  + 48⋅k + 90"
      ]
     },
     "execution_count": 58,
     "metadata": {},
     "output_type": "execute_result"
    }
   ],
   "source": [
    "p = det(A)\n",
    "p"
   ]
  },
  {
   "cell_type": "code",
   "execution_count": 59,
   "metadata": {
    "collapsed": false
   },
   "outputs": [
    {
     "data": {
      "image/png": "[encoded data removed]",
      "text/latex": [
       "$$6 \\left(k + 3\\right) \\left(k + 5\\right)$$"
      ],
      "text/plain": [
       "6⋅(k + 3)⋅(k + 5)"
      ]
     },
     "execution_count": 59,
     "metadata": {},
     "output_type": "execute_result"
    }
   ],
   "source": [
    "factor(p)"
   ]
  },
  {
   "cell_type": "markdown",
   "metadata": {
    "collapsed": true
   },
   "source": [
    "## Diamond"
   ]
  },
  {
   "cell_type": "code",
   "execution_count": 60,
   "metadata": {
    "collapsed": false
   },
   "outputs": [
    {
     "data": {
      "image/png": "[encoded data removed]",
      "text/latex": [
       "$$\\left[\\begin{matrix}2 & k & -3\\\\4 & -6 & 4\\\\2 & -3 & k\\end{matrix}\\right]$$"
      ],
      "text/plain": [
       "⎡2  k   -3⎤\n",
       "⎢         ⎥\n",
       "⎢4  -6  4 ⎥\n",
       "⎢         ⎥\n",
       "⎣2  -3  k ⎦"
      ]
     },
     "execution_count": 60,
     "metadata": {},
     "output_type": "execute_result"
    }
   ],
   "source": [
    "k = symbols('k')\n",
    "A = matrix_to_rational([[2,k,-3], [4,-6,4], [2,-3,k]])\n",
    "A"
   ]
  },
  {
   "cell_type": "code",
   "execution_count": 61,
   "metadata": {
    "collapsed": false
   },
   "outputs": [
    {
     "data": {
      "image/png": "[encoded data removed]",
      "text/latex": [
       "$$- 4 k^{2} - 4 k + 24$$"
      ],
      "text/plain": [
       "     2           \n",
       "- 4⋅k  - 4⋅k + 24"
      ]
     },
     "execution_count": 61,
     "metadata": {},
     "output_type": "execute_result"
    }
   ],
   "source": [
    "p = det(A)\n",
    "p"
   ]
  },
  {
   "cell_type": "code",
   "execution_count": 62,
   "metadata": {
    "collapsed": false
   },
   "outputs": [
    {
     "data": {
      "image/png": "[encoded data removed]",
      "text/latex": [
       "$$- 4 \\left(k - 2\\right) \\left(k + 3\\right)$$"
      ],
      "text/plain": [
       "-4⋅(k - 2)⋅(k + 3)"
      ]
     },
     "execution_count": 62,
     "metadata": {},
     "output_type": "execute_result"
    }
   ],
   "source": [
    "factor(p)"
   ]
  },
  {
   "cell_type": "markdown",
   "metadata": {
    "collapsed": true
   },
   "source": [
    "# Problem 4"
   ]
  },
  {
   "cell_type": "markdown",
   "metadata": {
    "collapsed": true
   },
   "source": [
    "## Spade"
   ]
  },
  {
   "cell_type": "code",
   "execution_count": 63,
   "metadata": {
    "collapsed": false
   },
   "outputs": [
    {
     "data": {
      "image/png": "[encoded data removed]",
      "text/latex": [
       "$$\\left[\\begin{matrix}15 & 9 & 1 & 1 & -20\\\\9 & 2 & -3 & -1 & -15\\\\-5 & -1 & 2 & 1 & 11\\\\-11 & -5 & 1 & 0 & 18\\end{matrix}\\right]$$"
      ],
      "text/plain": [
       "⎡15   9   1   1   -20⎤\n",
       "⎢                    ⎥\n",
       "⎢ 9   2   -3  -1  -15⎥\n",
       "⎢                    ⎥\n",
       "⎢-5   -1  2   1   11 ⎥\n",
       "⎢                    ⎥\n",
       "⎣-11  -5  1   0   18 ⎦"
      ]
     },
     "execution_count": 63,
     "metadata": {},
     "output_type": "execute_result"
    }
   ],
   "source": [
    "A = matrix_to_rational([[ 15,  9,  1,  1, -20], \n",
    "                        [  9,  2, -3, -1, -15], \n",
    "                        [ -5, -1,  2,  1,  11], \n",
    "                        [-11, -5,  1,  0,  18]])\n",
    "A"
   ]
  },
  {
   "cell_type": "code",
   "execution_count": 64,
   "metadata": {
    "collapsed": false
   },
   "outputs": [
    {
     "data": {
      "image/png": "[encoded data removed]",
      "text/latex": [
       "$$\\left[\\begin{matrix}1 & 0 & 0 & 0 & 18\\\\0 & 1 & 0 & 0 & -35\\\\0 & 0 & 1 & 0 & 41\\\\0 & 0 & 0 & 1 & -16\\end{matrix}\\right]$$"
      ],
      "text/plain": [
       "⎡1  0  0  0  18 ⎤\n",
       "⎢               ⎥\n",
       "⎢0  1  0  0  -35⎥\n",
       "⎢               ⎥\n",
       "⎢0  0  1  0  41 ⎥\n",
       "⎢               ⎥\n",
       "⎣0  0  0  1  -16⎦"
      ]
     },
     "execution_count": 64,
     "metadata": {},
     "output_type": "execute_result"
    }
   ],
   "source": [
    "reduced_row_echelon_form(A)"
   ]
  },
  {
   "cell_type": "markdown",
   "metadata": {
    "collapsed": true
   },
   "source": [
    "## Club"
   ]
  },
  {
   "cell_type": "code",
   "execution_count": 65,
   "metadata": {
    "collapsed": false
   },
   "outputs": [
    {
     "data": {
      "image/png": "[encoded data removed]",
      "text/latex": [
       "$$\\left[\\begin{matrix}15 & -1 & -5 & 7 & 53\\\\3 & 0 & -1 & 1 & 11\\\\-7 & 1 & 2 & -3 & -21\\\\-5 & 1 & 1 & -2 & -13\\end{matrix}\\right]$$"
      ],
      "text/plain": [
       "⎡15  -1  -5  7   53 ⎤\n",
       "⎢                   ⎥\n",
       "⎢3   0   -1  1   11 ⎥\n",
       "⎢                   ⎥\n",
       "⎢-7  1   2   -3  -21⎥\n",
       "⎢                   ⎥\n",
       "⎣-5  1   1   -2  -13⎦"
      ]
     },
     "execution_count": 65,
     "metadata": {},
     "output_type": "execute_result"
    }
   ],
   "source": [
    "A = matrix_to_rational([[15, -1, -5,  7,  53],\n",
    "                        [ 3,  0, -1,  1,  11],\n",
    "                        [-7,  1,  2, -3, -21],\n",
    "                        [-5,  1,  1, -2, -13]])\n",
    "A"
   ]
  },
  {
   "cell_type": "code",
   "execution_count": 66,
   "metadata": {
    "collapsed": false
   },
   "outputs": [
    {
     "data": {
      "image/png": "[encoded data removed]",
      "text/latex": [
       "$$\\left[\\begin{matrix}1 & 0 & 0 & 0 & 3\\\\0 & 1 & 0 & 0 & 6\\\\0 & 0 & 1 & 0 & 0\\\\0 & 0 & 0 & 1 & 2\\end{matrix}\\right]$$"
      ],
      "text/plain": [
       "⎡1  0  0  0  3⎤\n",
       "⎢             ⎥\n",
       "⎢0  1  0  0  6⎥\n",
       "⎢             ⎥\n",
       "⎢0  0  1  0  0⎥\n",
       "⎢             ⎥\n",
       "⎣0  0  0  1  2⎦"
      ]
     },
     "execution_count": 66,
     "metadata": {},
     "output_type": "execute_result"
    }
   ],
   "source": [
    "reduced_row_echelon_form(A)"
   ]
  },
  {
   "cell_type": "code",
   "execution_count": 67,
   "metadata": {
    "collapsed": false
   },
   "outputs": [
    {
     "data": {
      "image/png": "[encoded data removed]",
      "text/latex": [
       "$$\\left[\\begin{matrix}0 & 1 & 1 & -1\\\\1 & 1 & 4 & -2\\\\1 & 0 & 5 & -4\\\\1 & -2 & 2 & -1\\end{matrix}\\right]$$"
      ],
      "text/plain": [
       "⎡0  1   1  -1⎤\n",
       "⎢            ⎥\n",
       "⎢1  1   4  -2⎥\n",
       "⎢            ⎥\n",
       "⎢1  0   5  -4⎥\n",
       "⎢            ⎥\n",
       "⎣1  -2  2  -1⎦"
      ]
     },
     "execution_count": 67,
     "metadata": {},
     "output_type": "execute_result"
    }
   ],
   "source": [
    "A[:,0:-1]**(-1)"
   ]
  },
  {
   "cell_type": "markdown",
   "metadata": {
    "collapsed": true
   },
   "source": [
    "## Heart"
   ]
  },
  {
   "cell_type": "code",
   "execution_count": 68,
   "metadata": {
    "collapsed": false
   },
   "outputs": [
    {
     "data": {
      "image/png": "[encoded data removed]",
      "text/latex": [
       "$$\\left[\\begin{matrix}7 & 7 & 3 & 5 & -2\\\\1 & 6 & 3 & 3 & 8\\\\3 & 1 & 0 & 1 & -3\\\\-3 & -3 & -1 & -2 & 2\\end{matrix}\\right]$$"
      ],
      "text/plain": [
       "⎡7   7   3   5   -2⎤\n",
       "⎢                  ⎥\n",
       "⎢1   6   3   3   8 ⎥\n",
       "⎢                  ⎥\n",
       "⎢3   1   0   1   -3⎥\n",
       "⎢                  ⎥\n",
       "⎣-3  -3  -1  -2  2 ⎦"
      ]
     },
     "execution_count": 68,
     "metadata": {},
     "output_type": "execute_result"
    }
   ],
   "source": [
    "A = matrix_to_rational([[ 7,  7,  3,  5, -2],\n",
    "                        [ 1,  6,  3,  3,  8],\n",
    "                        [ 3,  1,  0,  1, -3],\n",
    "                        [-3, -3, -1, -2,  2]])\n",
    "A"
   ]
  },
  {
   "cell_type": "code",
   "execution_count": 69,
   "metadata": {
    "collapsed": false
   },
   "outputs": [
    {
     "data": {
      "image/png": "[encoded data removed]",
      "text/latex": [
       "$$\\left[\\begin{matrix}1 & 0 & 0 & 0 & 5\\\\0 & 1 & 0 & 0 & 4\\\\0 & 0 & 1 & 0 & 15\\\\0 & 0 & 0 & 1 & -22\\end{matrix}\\right]$$"
      ],
      "text/plain": [
       "⎡1  0  0  0   5 ⎤\n",
       "⎢               ⎥\n",
       "⎢0  1  0  0   4 ⎥\n",
       "⎢               ⎥\n",
       "⎢0  0  1  0  15 ⎥\n",
       "⎢               ⎥\n",
       "⎣0  0  0  1  -22⎦"
      ]
     },
     "execution_count": 69,
     "metadata": {},
     "output_type": "execute_result"
    }
   ],
   "source": [
    "reduced_row_echelon_form(A)"
   ]
  },
  {
   "cell_type": "markdown",
   "metadata": {
    "collapsed": true
   },
   "source": [
    "## Diamond"
   ]
  },
  {
   "cell_type": "code",
   "execution_count": 70,
   "metadata": {
    "collapsed": false
   },
   "outputs": [
    {
     "data": {
      "image/png": "[encoded data removed]",
      "text/latex": [
       "$$\\left[\\begin{matrix}-5 & -7 & -5 & 3 & 7\\\\-21 & -20 & -17 & 11 & 24\\\\17 & 17 & 14 & -9 & -18\\\\-11 & -11 & -9 & 6 & 13\\end{matrix}\\right]$$"
      ],
      "text/plain": [
       "⎡-5   -7   -5   3    7 ⎤\n",
       "⎢                      ⎥\n",
       "⎢-21  -20  -17  11  24 ⎥\n",
       "⎢                      ⎥\n",
       "⎢17   17   14   -9  -18⎥\n",
       "⎢                      ⎥\n",
       "⎣-11  -11  -9   6   13 ⎦"
      ]
     },
     "execution_count": 70,
     "metadata": {},
     "output_type": "execute_result"
    }
   ],
   "source": [
    "A = matrix_to_rational([[-5,   -7, -5,   3,   7],\n",
    "                        [-21, -20, -17, 11,  24],\n",
    "                        [ 17,  17,  14, -9, -18],\n",
    "                        [-11, -11,  -9,  6,  13]])\n",
    "A"
   ]
  },
  {
   "cell_type": "code",
   "execution_count": 71,
   "metadata": {
    "collapsed": false
   },
   "outputs": [
    {
     "data": {
      "image/png": "[encoded data removed]",
      "text/latex": [
       "$$\\left[\\begin{matrix}1 & 0 & 0 & 0 & 9\\\\0 & 1 & 0 & 0 & 7\\\\0 & 0 & 1 & 0 & -13\\\\0 & 0 & 0 & 1 & 12\\end{matrix}\\right]$$"
      ],
      "text/plain": [
       "⎡1  0  0  0   9 ⎤\n",
       "⎢               ⎥\n",
       "⎢0  1  0  0   7 ⎥\n",
       "⎢               ⎥\n",
       "⎢0  0  1  0  -13⎥\n",
       "⎢               ⎥\n",
       "⎣0  0  0  1  12 ⎦"
      ]
     },
     "execution_count": 71,
     "metadata": {},
     "output_type": "execute_result"
    }
   ],
   "source": [
    "reduced_row_echelon_form(A)"
   ]
  },
  {
   "cell_type": "markdown",
   "metadata": {
    "collapsed": true
   },
   "source": [
    "# Problem 5"
   ]
  },
  {
   "cell_type": "markdown",
   "metadata": {
    "collapsed": true
   },
   "source": [
    "## Spade"
   ]
  },
  {
   "cell_type": "code",
   "execution_count": 72,
   "metadata": {
    "collapsed": false
   },
   "outputs": [
    {
     "data": {
      "image/png": "[encoded data removed]",
      "text/latex": [
       "$$\\left[\\begin{matrix}2 & -1 & -3 & -2 & -12\\\\-2 & 2 & 2 & -3 & 14\\\\2 & 1 & -5 & -3 & -8\\\\1 & 2 & -4 & 1 & -1\\end{matrix}\\right]$$"
      ],
      "text/plain": [
       "⎡2   -1  -3  -2  -12⎤\n",
       "⎢                   ⎥\n",
       "⎢-2  2   2   -3  14 ⎥\n",
       "⎢                   ⎥\n",
       "⎢2   1   -5  -3  -8 ⎥\n",
       "⎢                   ⎥\n",
       "⎣1   2   -4  1   -1 ⎦"
      ]
     },
     "execution_count": 72,
     "metadata": {},
     "output_type": "execute_result"
    }
   ],
   "source": [
    "A = matrix_to_rational([[ 2, -1, -3, -2, -12],\n",
    "                        [-2,  2,  2, -3,  14],\n",
    "                        [ 2,  1, -5, -3,  -8],\n",
    "                        [ 1,  2, -4,  1,  -1]])\n",
    "A"
   ]
  },
  {
   "cell_type": "code",
   "execution_count": 73,
   "metadata": {
    "collapsed": false
   },
   "outputs": [
    {
     "data": {
      "image/png": "[encoded data removed]",
      "text/latex": [
       "$$\\left[\\begin{matrix}1 & 0 & -2 & 0 & -5\\\\0 & 1 & -1 & 0 & 2\\\\0 & 0 & 0 & 1 & 0\\\\0 & 0 & 0 & 0 & 0\\end{matrix}\\right]$$"
      ],
      "text/plain": [
       "⎡1  0  -2  0  -5⎤\n",
       "⎢               ⎥\n",
       "⎢0  1  -1  0  2 ⎥\n",
       "⎢               ⎥\n",
       "⎢0  0  0   1  0 ⎥\n",
       "⎢               ⎥\n",
       "⎣0  0  0   0  0 ⎦"
      ]
     },
     "execution_count": 73,
     "metadata": {},
     "output_type": "execute_result"
    }
   ],
   "source": [
    "reduced_row_echelon_form(A)"
   ]
  },
  {
   "cell_type": "markdown",
   "metadata": {
    "collapsed": true
   },
   "source": [
    "## Club"
   ]
  },
  {
   "cell_type": "code",
   "execution_count": 74,
   "metadata": {
    "collapsed": false
   },
   "outputs": [
    {
     "data": {
      "image/png": "[encoded data removed]",
      "text/latex": [
       "$$\\left[\\begin{matrix}2 & 2 & -4 & 0 & -4\\\\-1 & -1 & 2 & -1 & 6\\\\-2 & -2 & 4 & -3 & 16\\\\1 & 1 & -2 & 0 & -2\\end{matrix}\\right]$$"
      ],
      "text/plain": [
       "⎡2   2   -4  0   -4⎤\n",
       "⎢                  ⎥\n",
       "⎢-1  -1  2   -1  6 ⎥\n",
       "⎢                  ⎥\n",
       "⎢-2  -2  4   -3  16⎥\n",
       "⎢                  ⎥\n",
       "⎣1   1   -2  0   -2⎦"
      ]
     },
     "execution_count": 74,
     "metadata": {},
     "output_type": "execute_result"
    }
   ],
   "source": [
    "A = matrix_to_rational([[ 2,  2, -4,  0, -4],\n",
    "                        [-1, -1,  2, -1,  6],\n",
    "                        [-2, -2,  4, -3, 16],\n",
    "                        [ 1,  1, -2,  0, -2]])\n",
    "A"
   ]
  },
  {
   "cell_type": "code",
   "execution_count": 75,
   "metadata": {
    "collapsed": false
   },
   "outputs": [
    {
     "data": {
      "image/png": "[encoded data removed]",
      "text/latex": [
       "$$\\left[\\begin{matrix}1 & 1 & -2 & 0 & -2\\\\0 & 0 & 0 & 1 & -4\\\\0 & 0 & 0 & 0 & 0\\\\0 & 0 & 0 & 0 & 0\\end{matrix}\\right]$$"
      ],
      "text/plain": [
       "⎡1  1  -2  0  -2⎤\n",
       "⎢               ⎥\n",
       "⎢0  0  0   1  -4⎥\n",
       "⎢               ⎥\n",
       "⎢0  0  0   0  0 ⎥\n",
       "⎢               ⎥\n",
       "⎣0  0  0   0  0 ⎦"
      ]
     },
     "execution_count": 75,
     "metadata": {},
     "output_type": "execute_result"
    }
   ],
   "source": [
    "reduced_row_echelon_form(A)"
   ]
  },
  {
   "cell_type": "markdown",
   "metadata": {
    "collapsed": true
   },
   "source": [
    "## Heart"
   ]
  },
  {
   "cell_type": "code",
   "execution_count": 76,
   "metadata": {
    "collapsed": false
   },
   "outputs": [
    {
     "data": {
      "image/png": "[encoded data removed]",
      "text/latex": [
       "$$\\left[\\begin{matrix}2 & 0 & -10 & -3 & 6\\\\2 & 0 & -10 & -1 & 6\\\\0 & -3 & -12 & 1 & 6\\\\-3 & -3 & 3 & -1 & -3\\end{matrix}\\right]$$"
      ],
      "text/plain": [
       "⎡2   0   -10  -3  6 ⎤\n",
       "⎢                   ⎥\n",
       "⎢2   0   -10  -1  6 ⎥\n",
       "⎢                   ⎥\n",
       "⎢0   -3  -12  1   6 ⎥\n",
       "⎢                   ⎥\n",
       "⎣-3  -3   3   -1  -3⎦"
      ]
     },
     "execution_count": 76,
     "metadata": {},
     "output_type": "execute_result"
    }
   ],
   "source": [
    "A = matrix_to_rational([[ 2,  0, -10, -3,  6],\n",
    "                        [ 2,  0, -10, -1,  6],\n",
    "                        [ 0, -3, -12,  1,  6],\n",
    "                        [-3, -3,   3, -1, -3]])\n",
    "A"
   ]
  },
  {
   "cell_type": "code",
   "execution_count": 77,
   "metadata": {
    "collapsed": false
   },
   "outputs": [
    {
     "data": {
      "image/png": "[encoded data removed]",
      "text/latex": [
       "$$\\left[\\begin{matrix}1 & 0 & -5 & 0 & 3\\\\0 & 1 & 4 & 0 & -2\\\\0 & 0 & 0 & 1 & 0\\\\0 & 0 & 0 & 0 & 0\\end{matrix}\\right]$$"
      ],
      "text/plain": [
       "⎡1  0  -5  0  3 ⎤\n",
       "⎢               ⎥\n",
       "⎢0  1  4   0  -2⎥\n",
       "⎢               ⎥\n",
       "⎢0  0  0   1  0 ⎥\n",
       "⎢               ⎥\n",
       "⎣0  0  0   0  0 ⎦"
      ]
     },
     "execution_count": 77,
     "metadata": {},
     "output_type": "execute_result"
    }
   ],
   "source": [
    "reduced_row_echelon_form(A)"
   ]
  },
  {
   "cell_type": "markdown",
   "metadata": {
    "collapsed": true
   },
   "source": [
    "## Diamond"
   ]
  },
  {
   "cell_type": "code",
   "execution_count": 78,
   "metadata": {
    "collapsed": false
   },
   "outputs": [
    {
     "data": {
      "image/png": "[encoded data removed]",
      "text/latex": [
       "$$\\left[\\begin{matrix}-2 & 2 & -2 & 8 & -14\\\\-1 & 1 & -1 & 4 & -7\\\\-2 & 2 & 1 & 5 & -5\\\\0 & 0 & -2 & 2 & -6\\end{matrix}\\right]$$"
      ],
      "text/plain": [
       "⎡-2  2  -2  8  -14⎤\n",
       "⎢                 ⎥\n",
       "⎢-1  1  -1  4  -7 ⎥\n",
       "⎢                 ⎥\n",
       "⎢-2  2  1   5  -5 ⎥\n",
       "⎢                 ⎥\n",
       "⎣0   0  -2  2  -6 ⎦"
      ]
     },
     "execution_count": 78,
     "metadata": {},
     "output_type": "execute_result"
    }
   ],
   "source": [
    "A = matrix_to_rational([[ -2, 2, -2, 8, -14],\n",
    "                        [ -1, 1, -1, 4,  -7],\n",
    "                        [ -2, 2,  1, 5,  -5],\n",
    "                        [  0, 0, -2, 2,  -6]])\n",
    "A"
   ]
  },
  {
   "cell_type": "code",
   "execution_count": 79,
   "metadata": {
    "collapsed": false
   },
   "outputs": [
    {
     "data": {
      "image/png": "[encoded data removed]",
      "text/latex": [
       "$$\\left[\\begin{matrix}1 & -1 & 0 & -3 & 4\\\\0 & 0 & 1 & -1 & 3\\\\0 & 0 & 0 & 0 & 0\\\\0 & 0 & 0 & 0 & 0\\end{matrix}\\right]$$"
      ],
      "text/plain": [
       "⎡1  -1  0  -3  4⎤\n",
       "⎢               ⎥\n",
       "⎢0  0   1  -1  3⎥\n",
       "⎢               ⎥\n",
       "⎢0  0   0  0   0⎥\n",
       "⎢               ⎥\n",
       "⎣0  0   0  0   0⎦"
      ]
     },
     "execution_count": 79,
     "metadata": {},
     "output_type": "execute_result"
    }
   ],
   "source": [
    "reduced_row_echelon_form(A)"
   ]
  },
  {
   "cell_type": "markdown",
   "metadata": {
    "collapsed": true
   },
   "source": [
    "# Problem 6"
   ]
  },
  {
   "cell_type": "markdown",
   "metadata": {
    "collapsed": true
   },
   "source": [
    "## Spade"
   ]
  },
  {
   "cell_type": "code",
   "execution_count": 80,
   "metadata": {
    "collapsed": false
   },
   "outputs": [
    {
     "data": {
      "image/png": "[encoded data removed]",
      "text/latex": [
       "$$\\left[\\begin{matrix}-9 & 1 & 1 & -1\\\\1 & -9 & -1 & 1\\\\1 & -1 & -9 & 1\\\\-1 & 1 & 1 & -9\\end{matrix}\\right]$$"
      ],
      "text/plain": [
       "⎡-9  1   1   -1⎤\n",
       "⎢              ⎥\n",
       "⎢1   -9  -1  1 ⎥\n",
       "⎢              ⎥\n",
       "⎢1   -1  -9  1 ⎥\n",
       "⎢              ⎥\n",
       "⎣-1  1   1   -9⎦"
      ]
     },
     "execution_count": 80,
     "metadata": {},
     "output_type": "execute_result"
    }
   ],
   "source": [
    "A = matrix_to_rational([[-9,  1,  1, -1],\n",
    "                        [ 1, -9, -1,  1],\n",
    "                        [ 1, -1, -9,  1],\n",
    "                        [-1,  1,  1, -9]])\n",
    "A"
   ]
  },
  {
   "cell_type": "code",
   "execution_count": 81,
   "metadata": {
    "collapsed": false
   },
   "outputs": [
    {
     "data": {
      "image/png": "[encoded data removed]",
      "text/latex": [
       "$$\\lambda^{4} + 36 \\lambda^{3} + 480 \\lambda^{2} + 2816 \\lambda + 6144$$"
      ],
      "text/plain": [
       " 4       3        2                \n",
       "λ  + 36⋅λ  + 480⋅λ  + 2816⋅λ + 6144"
      ]
     },
     "execution_count": 81,
     "metadata": {},
     "output_type": "execute_result"
    }
   ],
   "source": [
    "lbd = symbols('lambda')\n",
    "p = det(A - lbd*eye(4))\n",
    "p"
   ]
  },
  {
   "cell_type": "code",
   "execution_count": 82,
   "metadata": {
    "collapsed": false
   },
   "outputs": [
    {
     "data": {
      "image/png": "[encoded data removed]",
      "text/latex": [
       "$$\\left(\\lambda + 8\\right)^{3} \\left(\\lambda + 12\\right)$$"
      ],
      "text/plain": [
       "       3         \n",
       "(λ + 8) ⋅(λ + 12)"
      ]
     },
     "execution_count": 82,
     "metadata": {},
     "output_type": "execute_result"
    }
   ],
   "source": [
    "factor(p)"
   ]
  },
  {
   "cell_type": "code",
   "execution_count": 83,
   "metadata": {
    "collapsed": false
   },
   "outputs": [
    {
     "data": {
      "image/png": "[encoded data removed]",
      "text/latex": [
       "$$\\left[\\begin{matrix}-1 & 1 & 1 & -1\\\\1 & -1 & -1 & 1\\\\1 & -1 & -1 & 1\\\\-1 & 1 & 1 & -1\\end{matrix}\\right]$$"
      ],
      "text/plain": [
       "⎡-1  1   1   -1⎤\n",
       "⎢              ⎥\n",
       "⎢1   -1  -1  1 ⎥\n",
       "⎢              ⎥\n",
       "⎢1   -1  -1  1 ⎥\n",
       "⎢              ⎥\n",
       "⎣-1  1   1   -1⎦"
      ]
     },
     "execution_count": 83,
     "metadata": {},
     "output_type": "execute_result"
    }
   ],
   "source": [
    "R = A - (-8)*eye(4)\n",
    "R"
   ]
  },
  {
   "cell_type": "code",
   "execution_count": 84,
   "metadata": {
    "collapsed": false
   },
   "outputs": [
    {
     "data": {
      "image/png": "[encoded data removed]",
      "text/latex": [
       "$$\\left[\\begin{matrix}1 & -1 & -1 & 1\\\\0 & 0 & 0 & 0\\\\0 & 0 & 0 & 0\\\\0 & 0 & 0 & 0\\end{matrix}\\right]$$"
      ],
      "text/plain": [
       "⎡1  -1  -1  1⎤\n",
       "⎢            ⎥\n",
       "⎢0  0   0   0⎥\n",
       "⎢            ⎥\n",
       "⎢0  0   0   0⎥\n",
       "⎢            ⎥\n",
       "⎣0  0   0   0⎦"
      ]
     },
     "execution_count": 84,
     "metadata": {},
     "output_type": "execute_result"
    }
   ],
   "source": [
    "reduced_row_echelon_form(R)"
   ]
  },
  {
   "cell_type": "code",
   "execution_count": 85,
   "metadata": {
    "collapsed": true
   },
   "outputs": [],
   "source": [
    "u1 = Matrix([1,1,0,0])\n",
    "u2 = Matrix([1,0,1,0])\n",
    "u3 = Matrix([-1,0,0,1])"
   ]
  },
  {
   "cell_type": "code",
   "execution_count": 86,
   "metadata": {
    "collapsed": false
   },
   "outputs": [
    {
     "data": {
      "image/png": "[encoded data removed]",
      "text/latex": [
       "$$\\left[\\begin{matrix}1\\\\1\\\\0\\\\0\\end{matrix}\\right]$$"
      ],
      "text/plain": [
       "⎡1⎤\n",
       "⎢ ⎥\n",
       "⎢1⎥\n",
       "⎢ ⎥\n",
       "⎢0⎥\n",
       "⎢ ⎥\n",
       "⎣0⎦"
      ]
     },
     "execution_count": 86,
     "metadata": {},
     "output_type": "execute_result"
    }
   ],
   "source": [
    "v1 = u1\n",
    "v1"
   ]
  },
  {
   "cell_type": "code",
   "execution_count": 87,
   "metadata": {
    "collapsed": false
   },
   "outputs": [
    {
     "data": {
      "image/png": "[encoded data removed]",
      "text/latex": [
       "$$\\left[\\begin{matrix}\\frac{1}{2}\\\\- \\frac{1}{2}\\\\1\\\\0\\end{matrix}\\right]$$"
      ],
      "text/plain": [
       "⎡1/2 ⎤\n",
       "⎢    ⎥\n",
       "⎢-1/2⎥\n",
       "⎢    ⎥\n",
       "⎢ 1  ⎥\n",
       "⎢    ⎥\n",
       "⎣ 0  ⎦"
      ]
     },
     "execution_count": 87,
     "metadata": {},
     "output_type": "execute_result"
    }
   ],
   "source": [
    "v2 = u2 - u2.dot(v1)/v1.dot(v1) * v1\n",
    "v2"
   ]
  },
  {
   "cell_type": "code",
   "execution_count": 88,
   "metadata": {
    "collapsed": false
   },
   "outputs": [
    {
     "data": {
      "image/png": "[encoded data removed]",
      "text/latex": [
       "$$\\left[\\begin{matrix}- \\frac{1}{3}\\\\\\frac{1}{3}\\\\\\frac{1}{3}\\\\1\\end{matrix}\\right]$$"
      ],
      "text/plain": [
       "⎡-1/3⎤\n",
       "⎢    ⎥\n",
       "⎢1/3 ⎥\n",
       "⎢    ⎥\n",
       "⎢1/3 ⎥\n",
       "⎢    ⎥\n",
       "⎣ 1  ⎦"
      ]
     },
     "execution_count": 88,
     "metadata": {},
     "output_type": "execute_result"
    }
   ],
   "source": [
    "v3 = u3 - u3.dot(v1)/v1.dot(v1) * v1 - u3.dot(v2)/v2.dot(v2) * v2\n",
    "v3"
   ]
  },
  {
   "cell_type": "code",
   "execution_count": 89,
   "metadata": {
    "collapsed": false
   },
   "outputs": [
    {
     "data": {
      "image/png": "[encoded data removed]",
      "text/latex": [
       "$$\\left[\\begin{matrix}\\frac{\\sqrt{2}}{2}\\\\\\frac{\\sqrt{2}}{2}\\\\0\\\\0\\end{matrix}\\right]$$"
      ],
      "text/plain": [
       "⎡√2⎤\n",
       "⎢──⎥\n",
       "⎢2 ⎥\n",
       "⎢  ⎥\n",
       "⎢√2⎥\n",
       "⎢──⎥\n",
       "⎢2 ⎥\n",
       "⎢  ⎥\n",
       "⎢0 ⎥\n",
       "⎢  ⎥\n",
       "⎣0 ⎦"
      ]
     },
     "execution_count": 89,
     "metadata": {},
     "output_type": "execute_result"
    }
   ],
   "source": [
    "n1 = v1/v1.norm()\n",
    "n1"
   ]
  },
  {
   "cell_type": "code",
   "execution_count": 90,
   "metadata": {
    "collapsed": true
   },
   "outputs": [],
   "source": [
    "n2 = v2/v2.norm()"
   ]
  },
  {
   "cell_type": "code",
   "execution_count": 91,
   "metadata": {
    "collapsed": false
   },
   "outputs": [
    {
     "data": {
      "image/png": "[encoded data removed]",
      "text/latex": [
       "$$\\left[\\begin{matrix}\\frac{\\sqrt{6}}{6}\\\\- \\frac{\\sqrt{6}}{6}\\\\\\frac{\\sqrt{6}}{3}\\\\0\\end{matrix}\\right]$$"
      ],
      "text/plain": [
       "⎡ √6 ⎤\n",
       "⎢ ── ⎥\n",
       "⎢ 6  ⎥\n",
       "⎢    ⎥\n",
       "⎢-√6 ⎥\n",
       "⎢────⎥\n",
       "⎢ 6  ⎥\n",
       "⎢    ⎥\n",
       "⎢ √6 ⎥\n",
       "⎢ ── ⎥\n",
       "⎢ 3  ⎥\n",
       "⎢    ⎥\n",
       "⎣ 0  ⎦"
      ]
     },
     "execution_count": 91,
     "metadata": {},
     "output_type": "execute_result"
    }
   ],
   "source": [
    "n2"
   ]
  },
  {
   "cell_type": "code",
   "execution_count": 92,
   "metadata": {
    "collapsed": false
   },
   "outputs": [
    {
     "data": {
      "image/png": "[encoded data removed]",
      "text/latex": [
       "$$\\left[\\begin{matrix}- \\frac{\\sqrt{3}}{6}\\\\\\frac{\\sqrt{3}}{6}\\\\\\frac{\\sqrt{3}}{6}\\\\\\frac{\\sqrt{3}}{2}\\end{matrix}\\right]$$"
      ],
      "text/plain": [
       "⎡-√3 ⎤\n",
       "⎢────⎥\n",
       "⎢ 6  ⎥\n",
       "⎢    ⎥\n",
       "⎢ √3 ⎥\n",
       "⎢ ── ⎥\n",
       "⎢ 6  ⎥\n",
       "⎢    ⎥\n",
       "⎢ √3 ⎥\n",
       "⎢ ── ⎥\n",
       "⎢ 6  ⎥\n",
       "⎢    ⎥\n",
       "⎢ √3 ⎥\n",
       "⎢ ── ⎥\n",
       "⎣ 2  ⎦"
      ]
     },
     "execution_count": 92,
     "metadata": {},
     "output_type": "execute_result"
    }
   ],
   "source": [
    "n3 = v3/v3.norm()\n",
    "n3"
   ]
  },
  {
   "cell_type": "code",
   "execution_count": 93,
   "metadata": {
    "collapsed": false
   },
   "outputs": [
    {
     "data": {
      "image/png": "[encoded data removed]",
      "text/latex": [
       "$$\\left [ 1, \\quad 0, \\quad 0, \\quad 0, \\quad 1, \\quad 0, \\quad 0, \\quad 0, \\quad 1\\right ]$$"
      ],
      "text/plain": [
       "[1, 0, 0, 0, 1, 0, 0, 0, 1]"
      ]
     },
     "execution_count": 93,
     "metadata": {},
     "output_type": "execute_result"
    }
   ],
   "source": [
    "nvectors = [n1, n2, n3]\n",
    "[v.dot(w) for v in nvectors for w in nvectors]"
   ]
  },
  {
   "cell_type": "code",
   "execution_count": 94,
   "metadata": {
    "collapsed": false
   },
   "outputs": [
    {
     "data": {
      "image/png": "[encoded data removed]",
      "text/latex": [
       "$$\\left[\\begin{matrix}3 & 1 & 1 & -1\\\\1 & 3 & -1 & 1\\\\1 & -1 & 3 & 1\\\\-1 & 1 & 1 & 3\\end{matrix}\\right]$$"
      ],
      "text/plain": [
       "⎡3   1   1   -1⎤\n",
       "⎢              ⎥\n",
       "⎢1   3   -1  1 ⎥\n",
       "⎢              ⎥\n",
       "⎢1   -1  3   1 ⎥\n",
       "⎢              ⎥\n",
       "⎣-1  1   1   3 ⎦"
      ]
     },
     "execution_count": 94,
     "metadata": {},
     "output_type": "execute_result"
    }
   ],
   "source": [
    "R = A - (-12)*eye(4)\n",
    "R"
   ]
  },
  {
   "cell_type": "code",
   "execution_count": 95,
   "metadata": {
    "collapsed": false
   },
   "outputs": [
    {
     "data": {
      "image/png": "[encoded data removed]",
      "text/latex": [
       "$$\\left[\\begin{matrix}1 & 0 & 0 & -1\\\\0 & 1 & 0 & 1\\\\0 & 0 & 1 & 1\\\\0 & 0 & 0 & 0\\end{matrix}\\right]$$"
      ],
      "text/plain": [
       "⎡1  0  0  -1⎤\n",
       "⎢           ⎥\n",
       "⎢0  1  0  1 ⎥\n",
       "⎢           ⎥\n",
       "⎢0  0  1  1 ⎥\n",
       "⎢           ⎥\n",
       "⎣0  0  0  0 ⎦"
      ]
     },
     "execution_count": 95,
     "metadata": {},
     "output_type": "execute_result"
    }
   ],
   "source": [
    "reduced_row_echelon_form(R)"
   ]
  },
  {
   "cell_type": "code",
   "execution_count": 96,
   "metadata": {
    "collapsed": false
   },
   "outputs": [
    {
     "data": {
      "image/png": "[encoded data removed]",
      "text/latex": [
       "$$\\left[\\begin{matrix}\\frac{1}{2}\\\\- \\frac{1}{2}\\\\- \\frac{1}{2}\\\\\\frac{1}{2}\\end{matrix}\\right]$$"
      ],
      "text/plain": [
       "⎡1/2 ⎤\n",
       "⎢    ⎥\n",
       "⎢-1/2⎥\n",
       "⎢    ⎥\n",
       "⎢-1/2⎥\n",
       "⎢    ⎥\n",
       "⎣1/2 ⎦"
      ]
     },
     "execution_count": 96,
     "metadata": {},
     "output_type": "execute_result"
    }
   ],
   "source": [
    "v4 = Matrix([1,-1,-1,1])\n",
    "n4 = v4/v4.norm()\n",
    "n4"
   ]
  },
  {
   "cell_type": "code",
   "execution_count": 97,
   "metadata": {
    "collapsed": false
   },
   "outputs": [
    {
     "data": {
      "image/png": "[encoded data removed]",
      "text/latex": [
       "$$\\left[\\begin{matrix}\\frac{\\sqrt{2}}{2} & \\frac{\\sqrt{6}}{6} & - \\frac{\\sqrt{3}}{6} & \\frac{1}{2}\\\\\\frac{\\sqrt{2}}{2} & - \\frac{\\sqrt{6}}{6} & \\frac{\\sqrt{3}}{6} & - \\frac{1}{2}\\\\0 & \\frac{\\sqrt{6}}{3} & \\frac{\\sqrt{3}}{6} & - \\frac{1}{2}\\\\0 & 0 & \\frac{\\sqrt{3}}{2} & \\frac{1}{2}\\end{matrix}\\right]$$"
      ],
      "text/plain": [
       "⎡√2   √6   -√3       ⎤\n",
       "⎢──   ──   ────  1/2 ⎥\n",
       "⎢2    6     6        ⎥\n",
       "⎢                    ⎥\n",
       "⎢√2  -√6    √3       ⎥\n",
       "⎢──  ────   ──   -1/2⎥\n",
       "⎢2    6     6        ⎥\n",
       "⎢                    ⎥\n",
       "⎢     √6    √3       ⎥\n",
       "⎢0    ──    ──   -1/2⎥\n",
       "⎢     3     6        ⎥\n",
       "⎢                    ⎥\n",
       "⎢           √3       ⎥\n",
       "⎢0    0     ──   1/2 ⎥\n",
       "⎣           2        ⎦"
      ]
     },
     "execution_count": 97,
     "metadata": {},
     "output_type": "execute_result"
    }
   ],
   "source": [
    "P = Matrix.hstack(n1, n2, n3, n4)\n",
    "P"
   ]
  },
  {
   "cell_type": "code",
   "execution_count": 98,
   "metadata": {
    "collapsed": false
   },
   "outputs": [
    {
     "data": {
      "image/png": "[encoded data removed]",
      "text/latex": [
       "$$\\left[\\begin{matrix}-8 & 0 & 0 & 0\\\\0 & -8 & 0 & 0\\\\0 & 0 & -8 & 0\\\\0 & 0 & 0 & -12\\end{matrix}\\right]$$"
      ],
      "text/plain": [
       "⎡-8  0   0    0 ⎤\n",
       "⎢               ⎥\n",
       "⎢0   -8  0    0 ⎥\n",
       "⎢               ⎥\n",
       "⎢0   0   -8   0 ⎥\n",
       "⎢               ⎥\n",
       "⎣0   0   0   -12⎦"
      ]
     },
     "execution_count": 98,
     "metadata": {},
     "output_type": "execute_result"
    }
   ],
   "source": [
    "P.T * A * P"
   ]
  },
  {
   "cell_type": "markdown",
   "metadata": {},
   "source": [
    "## Club"
   ]
  },
  {
   "cell_type": "code",
   "execution_count": 99,
   "metadata": {
    "collapsed": false
   },
   "outputs": [
    {
     "data": {
      "image/png": "[encoded data removed]",
      "text/latex": [
       "$$\\left[\\begin{matrix}-11 & -1 & -1 & 1\\\\-1 & -11 & 1 & -1\\\\-1 & 1 & -11 & -1\\\\1 & -1 & -1 & -11\\end{matrix}\\right]$$"
      ],
      "text/plain": [
       "⎡-11  -1   -1    1 ⎤\n",
       "⎢                  ⎥\n",
       "⎢-1   -11   1   -1 ⎥\n",
       "⎢                  ⎥\n",
       "⎢-1    1   -11  -1 ⎥\n",
       "⎢                  ⎥\n",
       "⎣ 1   -1   -1   -11⎦"
      ]
     },
     "execution_count": 99,
     "metadata": {},
     "output_type": "execute_result"
    }
   ],
   "source": [
    "A = matrix_to_rational([[-11,  -1,  -1,   1],\n",
    "                        [ -1, -11,   1,  -1],\n",
    "                        [ -1,   1, -11,  -1],\n",
    "                        [  1,  -1,  -1, -11]])\n",
    "A"
   ]
  },
  {
   "cell_type": "code",
   "execution_count": 100,
   "metadata": {
    "collapsed": false
   },
   "outputs": [
    {
     "data": {
      "image/png": "[encoded data removed]",
      "text/latex": [
       "$$\\lambda^{4} + 44 \\lambda^{3} + 720 \\lambda^{2} + 5184 \\lambda + 13824$$"
      ],
      "text/plain": [
       " 4       3        2                 \n",
       "λ  + 44⋅λ  + 720⋅λ  + 5184⋅λ + 13824"
      ]
     },
     "execution_count": 100,
     "metadata": {},
     "output_type": "execute_result"
    }
   ],
   "source": [
    "lbd = symbols('lambda')\n",
    "p = det(A - lbd*eye(4))\n",
    "p"
   ]
  },
  {
   "cell_type": "code",
   "execution_count": 101,
   "metadata": {
    "collapsed": false
   },
   "outputs": [
    {
     "data": {
      "image/png": "[encoded data removed]",
      "text/latex": [
       "$$\\left(\\lambda + 8\\right) \\left(\\lambda + 12\\right)^{3}$$"
      ],
      "text/plain": [
       "                3\n",
       "(λ + 8)⋅(λ + 12) "
      ]
     },
     "execution_count": 101,
     "metadata": {},
     "output_type": "execute_result"
    }
   ],
   "source": [
    "factor(p)"
   ]
  },
  {
   "cell_type": "code",
   "execution_count": 102,
   "metadata": {
    "collapsed": false
   },
   "outputs": [
    {
     "data": {
      "image/png": "[encoded data removed]",
      "text/latex": [
       "$$\\left[\\begin{matrix}1 & -1 & -1 & 1\\\\-1 & 1 & 1 & -1\\\\-1 & 1 & 1 & -1\\\\1 & -1 & -1 & 1\\end{matrix}\\right]$$"
      ],
      "text/plain": [
       "⎡1   -1  -1  1 ⎤\n",
       "⎢              ⎥\n",
       "⎢-1  1   1   -1⎥\n",
       "⎢              ⎥\n",
       "⎢-1  1   1   -1⎥\n",
       "⎢              ⎥\n",
       "⎣1   -1  -1  1 ⎦"
      ]
     },
     "execution_count": 102,
     "metadata": {},
     "output_type": "execute_result"
    }
   ],
   "source": [
    "R = A - (-12)*eye(4)\n",
    "R"
   ]
  },
  {
   "cell_type": "code",
   "execution_count": 103,
   "metadata": {
    "collapsed": false
   },
   "outputs": [
    {
     "data": {
      "image/png": "[encoded data removed]",
      "text/latex": [
       "$$\\left[\\begin{matrix}1 & -1 & -1 & 1\\\\0 & 0 & 0 & 0\\\\0 & 0 & 0 & 0\\\\0 & 0 & 0 & 0\\end{matrix}\\right]$$"
      ],
      "text/plain": [
       "⎡1  -1  -1  1⎤\n",
       "⎢            ⎥\n",
       "⎢0  0   0   0⎥\n",
       "⎢            ⎥\n",
       "⎢0  0   0   0⎥\n",
       "⎢            ⎥\n",
       "⎣0  0   0   0⎦"
      ]
     },
     "execution_count": 103,
     "metadata": {},
     "output_type": "execute_result"
    }
   ],
   "source": [
    "reduced_row_echelon_form(R)"
   ]
  },
  {
   "cell_type": "code",
   "execution_count": 104,
   "metadata": {
    "collapsed": true
   },
   "outputs": [],
   "source": [
    "u1 = Matrix([1,1,0,0])\n",
    "u2 = Matrix([1,0,1,0])\n",
    "u3 = Matrix([-1,0,0,1])"
   ]
  },
  {
   "cell_type": "code",
   "execution_count": 105,
   "metadata": {
    "collapsed": false
   },
   "outputs": [
    {
     "data": {
      "image/png": "[encoded data removed]",
      "text/latex": [
       "$$\\left[\\begin{matrix}1\\\\1\\\\0\\\\0\\end{matrix}\\right]$$"
      ],
      "text/plain": [
       "⎡1⎤\n",
       "⎢ ⎥\n",
       "⎢1⎥\n",
       "⎢ ⎥\n",
       "⎢0⎥\n",
       "⎢ ⎥\n",
       "⎣0⎦"
      ]
     },
     "execution_count": 105,
     "metadata": {},
     "output_type": "execute_result"
    }
   ],
   "source": [
    "v1 = u1\n",
    "v1"
   ]
  },
  {
   "cell_type": "code",
   "execution_count": 106,
   "metadata": {
    "collapsed": false
   },
   "outputs": [
    {
     "data": {
      "image/png": "[encoded data removed]",
      "text/latex": [
       "$$\\left[\\begin{matrix}\\frac{1}{2}\\\\- \\frac{1}{2}\\\\1\\\\0\\end{matrix}\\right]$$"
      ],
      "text/plain": [
       "⎡1/2 ⎤\n",
       "⎢    ⎥\n",
       "⎢-1/2⎥\n",
       "⎢    ⎥\n",
       "⎢ 1  ⎥\n",
       "⎢    ⎥\n",
       "⎣ 0  ⎦"
      ]
     },
     "execution_count": 106,
     "metadata": {},
     "output_type": "execute_result"
    }
   ],
   "source": [
    "v2 = u2 - u2.dot(v1)/v1.dot(v1) * v1\n",
    "v2"
   ]
  },
  {
   "cell_type": "code",
   "execution_count": 107,
   "metadata": {
    "collapsed": false
   },
   "outputs": [
    {
     "data": {
      "image/png": "[encoded data removed]",
      "text/latex": [
       "$$\\left[\\begin{matrix}- \\frac{1}{3}\\\\\\frac{1}{3}\\\\\\frac{1}{3}\\\\1\\end{matrix}\\right]$$"
      ],
      "text/plain": [
       "⎡-1/3⎤\n",
       "⎢    ⎥\n",
       "⎢1/3 ⎥\n",
       "⎢    ⎥\n",
       "⎢1/3 ⎥\n",
       "⎢    ⎥\n",
       "⎣ 1  ⎦"
      ]
     },
     "execution_count": 107,
     "metadata": {},
     "output_type": "execute_result"
    }
   ],
   "source": [
    "v3 = u3 - u3.dot(v1)/v1.dot(v1) * v1 - u3.dot(v2)/v2.dot(v2) * v2\n",
    "v3"
   ]
  },
  {
   "cell_type": "code",
   "execution_count": 108,
   "metadata": {
    "collapsed": false
   },
   "outputs": [
    {
     "data": {
      "image/png": "[encoded data removed]",
      "text/latex": [
       "$$\\left[\\begin{matrix}\\frac{\\sqrt{2}}{2}\\\\\\frac{\\sqrt{2}}{2}\\\\0\\\\0\\end{matrix}\\right]$$"
      ],
      "text/plain": [
       "⎡√2⎤\n",
       "⎢──⎥\n",
       "⎢2 ⎥\n",
       "⎢  ⎥\n",
       "⎢√2⎥\n",
       "⎢──⎥\n",
       "⎢2 ⎥\n",
       "⎢  ⎥\n",
       "⎢0 ⎥\n",
       "⎢  ⎥\n",
       "⎣0 ⎦"
      ]
     },
     "execution_count": 108,
     "metadata": {},
     "output_type": "execute_result"
    }
   ],
   "source": [
    "n1 = v1/v1.norm()\n",
    "n1"
   ]
  },
  {
   "cell_type": "code",
   "execution_count": 109,
   "metadata": {
    "collapsed": true
   },
   "outputs": [],
   "source": [
    "n2 = v2/v2.norm()"
   ]
  },
  {
   "cell_type": "code",
   "execution_count": 110,
   "metadata": {
    "collapsed": false
   },
   "outputs": [
    {
     "data": {
      "image/png": "[encoded data removed]",
      "text/latex": [
       "$$\\left[\\begin{matrix}\\frac{\\sqrt{6}}{6}\\\\- \\frac{\\sqrt{6}}{6}\\\\\\frac{\\sqrt{6}}{3}\\\\0\\end{matrix}\\right]$$"
      ],
      "text/plain": [
       "⎡ √6 ⎤\n",
       "⎢ ── ⎥\n",
       "⎢ 6  ⎥\n",
       "⎢    ⎥\n",
       "⎢-√6 ⎥\n",
       "⎢────⎥\n",
       "⎢ 6  ⎥\n",
       "⎢    ⎥\n",
       "⎢ √6 ⎥\n",
       "⎢ ── ⎥\n",
       "⎢ 3  ⎥\n",
       "⎢    ⎥\n",
       "⎣ 0  ⎦"
      ]
     },
     "execution_count": 110,
     "metadata": {},
     "output_type": "execute_result"
    }
   ],
   "source": [
    "n2"
   ]
  },
  {
   "cell_type": "code",
   "execution_count": 111,
   "metadata": {
    "collapsed": false
   },
   "outputs": [
    {
     "data": {
      "image/png": "[encoded data removed]",
      "text/latex": [
       "$$\\left[\\begin{matrix}- \\frac{\\sqrt{3}}{6}\\\\\\frac{\\sqrt{3}}{6}\\\\\\frac{\\sqrt{3}}{6}\\\\\\frac{\\sqrt{3}}{2}\\end{matrix}\\right]$$"
      ],
      "text/plain": [
       "⎡-√3 ⎤\n",
       "⎢────⎥\n",
       "⎢ 6  ⎥\n",
       "⎢    ⎥\n",
       "⎢ √3 ⎥\n",
       "⎢ ── ⎥\n",
       "⎢ 6  ⎥\n",
       "⎢    ⎥\n",
       "⎢ √3 ⎥\n",
       "⎢ ── ⎥\n",
       "⎢ 6  ⎥\n",
       "⎢    ⎥\n",
       "⎢ √3 ⎥\n",
       "⎢ ── ⎥\n",
       "⎣ 2  ⎦"
      ]
     },
     "execution_count": 111,
     "metadata": {},
     "output_type": "execute_result"
    }
   ],
   "source": [
    "n3 = v3/v3.norm()\n",
    "n3"
   ]
  },
  {
   "cell_type": "code",
   "execution_count": 112,
   "metadata": {
    "collapsed": false
   },
   "outputs": [
    {
     "data": {
      "image/png": "[encoded data removed]",
      "text/latex": [
       "$$\\left [ 1, \\quad 0, \\quad 0, \\quad 0, \\quad 1, \\quad 0, \\quad 0, \\quad 0, \\quad 1\\right ]$$"
      ],
      "text/plain": [
       "[1, 0, 0, 0, 1, 0, 0, 0, 1]"
      ]
     },
     "execution_count": 112,
     "metadata": {},
     "output_type": "execute_result"
    }
   ],
   "source": [
    "nvectors = [n1, n2, n3]\n",
    "[v.dot(w) for v in nvectors for w in nvectors]"
   ]
  },
  {
   "cell_type": "code",
   "execution_count": 113,
   "metadata": {
    "collapsed": false
   },
   "outputs": [
    {
     "data": {
      "image/png": "[encoded data removed]",
      "text/latex": [
       "$$\\left[\\begin{matrix}-3 & -1 & -1 & 1\\\\-1 & -3 & 1 & -1\\\\-1 & 1 & -3 & -1\\\\1 & -1 & -1 & -3\\end{matrix}\\right]$$"
      ],
      "text/plain": [
       "⎡-3  -1  -1  1 ⎤\n",
       "⎢              ⎥\n",
       "⎢-1  -3  1   -1⎥\n",
       "⎢              ⎥\n",
       "⎢-1  1   -3  -1⎥\n",
       "⎢              ⎥\n",
       "⎣1   -1  -1  -3⎦"
      ]
     },
     "execution_count": 113,
     "metadata": {},
     "output_type": "execute_result"
    }
   ],
   "source": [
    "R = A - (-8)*eye(4)\n",
    "R"
   ]
  },
  {
   "cell_type": "code",
   "execution_count": 114,
   "metadata": {
    "collapsed": false
   },
   "outputs": [
    {
     "data": {
      "image/png": "[encoded data removed]",
      "text/latex": [
       "$$\\left[\\begin{matrix}1 & 0 & 0 & -1\\\\0 & 1 & 0 & 1\\\\0 & 0 & 1 & 1\\\\0 & 0 & 0 & 0\\end{matrix}\\right]$$"
      ],
      "text/plain": [
       "⎡1  0  0  -1⎤\n",
       "⎢           ⎥\n",
       "⎢0  1  0  1 ⎥\n",
       "⎢           ⎥\n",
       "⎢0  0  1  1 ⎥\n",
       "⎢           ⎥\n",
       "⎣0  0  0  0 ⎦"
      ]
     },
     "execution_count": 114,
     "metadata": {},
     "output_type": "execute_result"
    }
   ],
   "source": [
    "reduced_row_echelon_form(R)"
   ]
  },
  {
   "cell_type": "code",
   "execution_count": 115,
   "metadata": {
    "collapsed": false
   },
   "outputs": [
    {
     "data": {
      "image/png": "[encoded data removed]",
      "text/latex": [
       "$$\\left[\\begin{matrix}\\frac{1}{2}\\\\- \\frac{1}{2}\\\\- \\frac{1}{2}\\\\\\frac{1}{2}\\end{matrix}\\right]$$"
      ],
      "text/plain": [
       "⎡1/2 ⎤\n",
       "⎢    ⎥\n",
       "⎢-1/2⎥\n",
       "⎢    ⎥\n",
       "⎢-1/2⎥\n",
       "⎢    ⎥\n",
       "⎣1/2 ⎦"
      ]
     },
     "execution_count": 115,
     "metadata": {},
     "output_type": "execute_result"
    }
   ],
   "source": [
    "v4 = Matrix([1,-1,-1,1])\n",
    "n4 = v4/v4.norm()\n",
    "n4"
   ]
  },
  {
   "cell_type": "code",
   "execution_count": 116,
   "metadata": {
    "collapsed": false
   },
   "outputs": [
    {
     "data": {
      "image/png": "[encoded data removed]",
      "text/latex": [
       "$$\\left[\\begin{matrix}\\frac{\\sqrt{2}}{2} & \\frac{\\sqrt{6}}{6} & - \\frac{\\sqrt{3}}{6} & \\frac{1}{2}\\\\\\frac{\\sqrt{2}}{2} & - \\frac{\\sqrt{6}}{6} & \\frac{\\sqrt{3}}{6} & - \\frac{1}{2}\\\\0 & \\frac{\\sqrt{6}}{3} & \\frac{\\sqrt{3}}{6} & - \\frac{1}{2}\\\\0 & 0 & \\frac{\\sqrt{3}}{2} & \\frac{1}{2}\\end{matrix}\\right]$$"
      ],
      "text/plain": [
       "⎡√2   √6   -√3       ⎤\n",
       "⎢──   ──   ────  1/2 ⎥\n",
       "⎢2    6     6        ⎥\n",
       "⎢                    ⎥\n",
       "⎢√2  -√6    √3       ⎥\n",
       "⎢──  ────   ──   -1/2⎥\n",
       "⎢2    6     6        ⎥\n",
       "⎢                    ⎥\n",
       "⎢     √6    √3       ⎥\n",
       "⎢0    ──    ──   -1/2⎥\n",
       "⎢     3     6        ⎥\n",
       "⎢                    ⎥\n",
       "⎢           √3       ⎥\n",
       "⎢0    0     ──   1/2 ⎥\n",
       "⎣           2        ⎦"
      ]
     },
     "execution_count": 116,
     "metadata": {},
     "output_type": "execute_result"
    }
   ],
   "source": [
    "P = Matrix.hstack(n1, n2, n3, n4)\n",
    "P"
   ]
  },
  {
   "cell_type": "code",
   "execution_count": 117,
   "metadata": {
    "collapsed": false
   },
   "outputs": [
    {
     "data": {
      "image/png": "[encoded data removed]",
      "text/latex": [
       "$$\\left[\\begin{matrix}-12 & 0 & 0 & 0\\\\0 & -12 & 0 & 0\\\\0 & 0 & -12 & 0\\\\0 & 0 & 0 & -8\\end{matrix}\\right]$$"
      ],
      "text/plain": [
       "⎡-12   0    0   0 ⎤\n",
       "⎢                 ⎥\n",
       "⎢ 0   -12   0   0 ⎥\n",
       "⎢                 ⎥\n",
       "⎢ 0    0   -12  0 ⎥\n",
       "⎢                 ⎥\n",
       "⎣ 0    0    0   -8⎦"
      ]
     },
     "execution_count": 117,
     "metadata": {},
     "output_type": "execute_result"
    }
   ],
   "source": [
    "P.T * A * P"
   ]
  },
  {
   "cell_type": "markdown",
   "metadata": {},
   "source": [
    "## Heart"
   ]
  },
  {
   "cell_type": "code",
   "execution_count": 118,
   "metadata": {
    "collapsed": false
   },
   "outputs": [
    {
     "data": {
      "image/png": "[encoded data removed]",
      "text/latex": [
       "$$\\left[\\begin{matrix}10 & 2 & 2 & -2\\\\2 & 10 & -2 & 2\\\\2 & -2 & 10 & 2\\\\-2 & 2 & 2 & 10\\end{matrix}\\right]$$"
      ],
      "text/plain": [
       "⎡10  2   2   -2⎤\n",
       "⎢              ⎥\n",
       "⎢2   10  -2  2 ⎥\n",
       "⎢              ⎥\n",
       "⎢2   -2  10  2 ⎥\n",
       "⎢              ⎥\n",
       "⎣-2  2   2   10⎦"
      ]
     },
     "execution_count": 118,
     "metadata": {},
     "output_type": "execute_result"
    }
   ],
   "source": [
    "A = matrix_to_rational([[ 10,   2,   2, -2],\n",
    "                        [  2,  10,  -2,  2],\n",
    "                        [  2,  -2,  10,  2],\n",
    "                        [ -2,   2,   2,  10]])\n",
    "A"
   ]
  },
  {
   "cell_type": "code",
   "execution_count": 119,
   "metadata": {
    "collapsed": false
   },
   "outputs": [
    {
     "data": {
      "image/png": "[encoded data removed]",
      "text/latex": [
       "$$\\lambda^{4} - 40 \\lambda^{3} + 576 \\lambda^{2} - 3456 \\lambda + 6912$$"
      ],
      "text/plain": [
       " 4       3        2                \n",
       "λ  - 40⋅λ  + 576⋅λ  - 3456⋅λ + 6912"
      ]
     },
     "execution_count": 119,
     "metadata": {},
     "output_type": "execute_result"
    }
   ],
   "source": [
    "lbd = symbols('lambda')\n",
    "p = det(A - lbd*eye(4))\n",
    "p"
   ]
  },
  {
   "cell_type": "code",
   "execution_count": 120,
   "metadata": {
    "collapsed": false
   },
   "outputs": [
    {
     "data": {
      "image/png": "[encoded data removed]",
      "text/latex": [
       "$$\\left(\\lambda - 12\\right)^{3} \\left(\\lambda - 4\\right)$$"
      ],
      "text/plain": [
       "        3        \n",
       "(λ - 12) ⋅(λ - 4)"
      ]
     },
     "execution_count": 120,
     "metadata": {},
     "output_type": "execute_result"
    }
   ],
   "source": [
    "factor(p)"
   ]
  },
  {
   "cell_type": "code",
   "execution_count": 121,
   "metadata": {
    "collapsed": false
   },
   "outputs": [
    {
     "data": {
      "image/png": "[encoded data removed]",
      "text/latex": [
       "$$\\left[\\begin{matrix}-2 & 2 & 2 & -2\\\\2 & -2 & -2 & 2\\\\2 & -2 & -2 & 2\\\\-2 & 2 & 2 & -2\\end{matrix}\\right]$$"
      ],
      "text/plain": [
       "⎡-2  2   2   -2⎤\n",
       "⎢              ⎥\n",
       "⎢2   -2  -2  2 ⎥\n",
       "⎢              ⎥\n",
       "⎢2   -2  -2  2 ⎥\n",
       "⎢              ⎥\n",
       "⎣-2  2   2   -2⎦"
      ]
     },
     "execution_count": 121,
     "metadata": {},
     "output_type": "execute_result"
    }
   ],
   "source": [
    "R = A - (12)*eye(4)\n",
    "R"
   ]
  },
  {
   "cell_type": "code",
   "execution_count": 122,
   "metadata": {
    "collapsed": false
   },
   "outputs": [
    {
     "data": {
      "image/png": "[encoded data removed]",
      "text/latex": [
       "$$\\left[\\begin{matrix}1 & -1 & -1 & 1\\\\0 & 0 & 0 & 0\\\\0 & 0 & 0 & 0\\\\0 & 0 & 0 & 0\\end{matrix}\\right]$$"
      ],
      "text/plain": [
       "⎡1  -1  -1  1⎤\n",
       "⎢            ⎥\n",
       "⎢0  0   0   0⎥\n",
       "⎢            ⎥\n",
       "⎢0  0   0   0⎥\n",
       "⎢            ⎥\n",
       "⎣0  0   0   0⎦"
      ]
     },
     "execution_count": 122,
     "metadata": {},
     "output_type": "execute_result"
    }
   ],
   "source": [
    "reduced_row_echelon_form(R)"
   ]
  },
  {
   "cell_type": "code",
   "execution_count": 123,
   "metadata": {
    "collapsed": true
   },
   "outputs": [],
   "source": [
    "u1 = Matrix([1,1,0,0])\n",
    "u2 = Matrix([1,0,1,0])\n",
    "u3 = Matrix([-1,0,0,1])"
   ]
  },
  {
   "cell_type": "code",
   "execution_count": 124,
   "metadata": {
    "collapsed": false
   },
   "outputs": [
    {
     "data": {
      "image/png": "[encoded data removed]",
      "text/latex": [
       "$$\\left[\\begin{matrix}1\\\\1\\\\0\\\\0\\end{matrix}\\right]$$"
      ],
      "text/plain": [
       "⎡1⎤\n",
       "⎢ ⎥\n",
       "⎢1⎥\n",
       "⎢ ⎥\n",
       "⎢0⎥\n",
       "⎢ ⎥\n",
       "⎣0⎦"
      ]
     },
     "execution_count": 124,
     "metadata": {},
     "output_type": "execute_result"
    }
   ],
   "source": [
    "v1 = u1\n",
    "v1"
   ]
  },
  {
   "cell_type": "code",
   "execution_count": 125,
   "metadata": {
    "collapsed": false
   },
   "outputs": [
    {
     "data": {
      "image/png": "[encoded data removed]",
      "text/latex": [
       "$$\\left[\\begin{matrix}\\frac{1}{2}\\\\- \\frac{1}{2}\\\\1\\\\0\\end{matrix}\\right]$$"
      ],
      "text/plain": [
       "⎡1/2 ⎤\n",
       "⎢    ⎥\n",
       "⎢-1/2⎥\n",
       "⎢    ⎥\n",
       "⎢ 1  ⎥\n",
       "⎢    ⎥\n",
       "⎣ 0  ⎦"
      ]
     },
     "execution_count": 125,
     "metadata": {},
     "output_type": "execute_result"
    }
   ],
   "source": [
    "v2 = u2 - u2.dot(v1)/v1.dot(v1) * v1\n",
    "v2"
   ]
  },
  {
   "cell_type": "code",
   "execution_count": 126,
   "metadata": {
    "collapsed": false
   },
   "outputs": [
    {
     "data": {
      "image/png": "[encoded data removed]",
      "text/latex": [
       "$$\\left[\\begin{matrix}- \\frac{1}{3}\\\\\\frac{1}{3}\\\\\\frac{1}{3}\\\\1\\end{matrix}\\right]$$"
      ],
      "text/plain": [
       "⎡-1/3⎤\n",
       "⎢    ⎥\n",
       "⎢1/3 ⎥\n",
       "⎢    ⎥\n",
       "⎢1/3 ⎥\n",
       "⎢    ⎥\n",
       "⎣ 1  ⎦"
      ]
     },
     "execution_count": 126,
     "metadata": {},
     "output_type": "execute_result"
    }
   ],
   "source": [
    "v3 = u3 - u3.dot(v1)/v1.dot(v1) * v1 - u3.dot(v2)/v2.dot(v2) * v2\n",
    "v3"
   ]
  },
  {
   "cell_type": "code",
   "execution_count": 127,
   "metadata": {
    "collapsed": false
   },
   "outputs": [
    {
     "data": {
      "image/png": "[encoded data removed]",
      "text/latex": [
       "$$\\left[\\begin{matrix}\\frac{\\sqrt{2}}{2}\\\\\\frac{\\sqrt{2}}{2}\\\\0\\\\0\\end{matrix}\\right]$$"
      ],
      "text/plain": [
       "⎡√2⎤\n",
       "⎢──⎥\n",
       "⎢2 ⎥\n",
       "⎢  ⎥\n",
       "⎢√2⎥\n",
       "⎢──⎥\n",
       "⎢2 ⎥\n",
       "⎢  ⎥\n",
       "⎢0 ⎥\n",
       "⎢  ⎥\n",
       "⎣0 ⎦"
      ]
     },
     "execution_count": 127,
     "metadata": {},
     "output_type": "execute_result"
    }
   ],
   "source": [
    "n1 = v1/v1.norm()\n",
    "n1"
   ]
  },
  {
   "cell_type": "code",
   "execution_count": 128,
   "metadata": {
    "collapsed": true
   },
   "outputs": [],
   "source": [
    "n2 = v2/v2.norm()"
   ]
  },
  {
   "cell_type": "code",
   "execution_count": 129,
   "metadata": {
    "collapsed": false
   },
   "outputs": [
    {
     "data": {
      "image/png": "[encoded data removed]",
      "text/latex": [
       "$$\\left[\\begin{matrix}\\frac{\\sqrt{6}}{6}\\\\- \\frac{\\sqrt{6}}{6}\\\\\\frac{\\sqrt{6}}{3}\\\\0\\end{matrix}\\right]$$"
      ],
      "text/plain": [
       "⎡ √6 ⎤\n",
       "⎢ ── ⎥\n",
       "⎢ 6  ⎥\n",
       "⎢    ⎥\n",
       "⎢-√6 ⎥\n",
       "⎢────⎥\n",
       "⎢ 6  ⎥\n",
       "⎢    ⎥\n",
       "⎢ √6 ⎥\n",
       "⎢ ── ⎥\n",
       "⎢ 3  ⎥\n",
       "⎢    ⎥\n",
       "⎣ 0  ⎦"
      ]
     },
     "execution_count": 129,
     "metadata": {},
     "output_type": "execute_result"
    }
   ],
   "source": [
    "n2"
   ]
  },
  {
   "cell_type": "code",
   "execution_count": 130,
   "metadata": {
    "collapsed": false
   },
   "outputs": [
    {
     "data": {
      "image/png": "[encoded data removed]",
      "text/latex": [
       "$$\\left[\\begin{matrix}- \\frac{\\sqrt{3}}{6}\\\\\\frac{\\sqrt{3}}{6}\\\\\\frac{\\sqrt{3}}{6}\\\\\\frac{\\sqrt{3}}{2}\\end{matrix}\\right]$$"
      ],
      "text/plain": [
       "⎡-√3 ⎤\n",
       "⎢────⎥\n",
       "⎢ 6  ⎥\n",
       "⎢    ⎥\n",
       "⎢ √3 ⎥\n",
       "⎢ ── ⎥\n",
       "⎢ 6  ⎥\n",
       "⎢    ⎥\n",
       "⎢ √3 ⎥\n",
       "⎢ ── ⎥\n",
       "⎢ 6  ⎥\n",
       "⎢    ⎥\n",
       "⎢ √3 ⎥\n",
       "⎢ ── ⎥\n",
       "⎣ 2  ⎦"
      ]
     },
     "execution_count": 130,
     "metadata": {},
     "output_type": "execute_result"
    }
   ],
   "source": [
    "n3 = v3/v3.norm()\n",
    "n3"
   ]
  },
  {
   "cell_type": "code",
   "execution_count": 131,
   "metadata": {
    "collapsed": false
   },
   "outputs": [
    {
     "data": {
      "image/png": "[encoded data removed]",
      "text/latex": [
       "$$\\left [ 1, \\quad 0, \\quad 0, \\quad 0, \\quad 1, \\quad 0, \\quad 0, \\quad 0, \\quad 1\\right ]$$"
      ],
      "text/plain": [
       "[1, 0, 0, 0, 1, 0, 0, 0, 1]"
      ]
     },
     "execution_count": 131,
     "metadata": {},
     "output_type": "execute_result"
    }
   ],
   "source": [
    "nvectors = [n1, n2, n3]\n",
    "[v.dot(w) for v in nvectors for w in nvectors]"
   ]
  },
  {
   "cell_type": "code",
   "execution_count": 132,
   "metadata": {
    "collapsed": false
   },
   "outputs": [
    {
     "data": {
      "image/png": "[encoded data removed]",
      "text/latex": [
       "$$\\left[\\begin{matrix}6 & 2 & 2 & -2\\\\2 & 6 & -2 & 2\\\\2 & -2 & 6 & 2\\\\-2 & 2 & 2 & 6\\end{matrix}\\right]$$"
      ],
      "text/plain": [
       "⎡6   2   2   -2⎤\n",
       "⎢              ⎥\n",
       "⎢2   6   -2  2 ⎥\n",
       "⎢              ⎥\n",
       "⎢2   -2  6   2 ⎥\n",
       "⎢              ⎥\n",
       "⎣-2  2   2   6 ⎦"
      ]
     },
     "execution_count": 132,
     "metadata": {},
     "output_type": "execute_result"
    }
   ],
   "source": [
    "R = A - (4)*eye(4)\n",
    "R"
   ]
  },
  {
   "cell_type": "code",
   "execution_count": 133,
   "metadata": {
    "collapsed": false
   },
   "outputs": [
    {
     "data": {
      "image/png": "[encoded data removed]",
      "text/latex": [
       "$$\\left[\\begin{matrix}1 & 0 & 0 & -1\\\\0 & 1 & 0 & 1\\\\0 & 0 & 1 & 1\\\\0 & 0 & 0 & 0\\end{matrix}\\right]$$"
      ],
      "text/plain": [
       "⎡1  0  0  -1⎤\n",
       "⎢           ⎥\n",
       "⎢0  1  0  1 ⎥\n",
       "⎢           ⎥\n",
       "⎢0  0  1  1 ⎥\n",
       "⎢           ⎥\n",
       "⎣0  0  0  0 ⎦"
      ]
     },
     "execution_count": 133,
     "metadata": {},
     "output_type": "execute_result"
    }
   ],
   "source": [
    "reduced_row_echelon_form(R)"
   ]
  },
  {
   "cell_type": "code",
   "execution_count": 134,
   "metadata": {
    "collapsed": false
   },
   "outputs": [
    {
     "data": {
      "image/png": "[encoded data removed]",
      "text/latex": [
       "$$\\left[\\begin{matrix}\\frac{1}{2}\\\\- \\frac{1}{2}\\\\- \\frac{1}{2}\\\\\\frac{1}{2}\\end{matrix}\\right]$$"
      ],
      "text/plain": [
       "⎡1/2 ⎤\n",
       "⎢    ⎥\n",
       "⎢-1/2⎥\n",
       "⎢    ⎥\n",
       "⎢-1/2⎥\n",
       "⎢    ⎥\n",
       "⎣1/2 ⎦"
      ]
     },
     "execution_count": 134,
     "metadata": {},
     "output_type": "execute_result"
    }
   ],
   "source": [
    "v4 = Matrix([1,-1,-1,1])\n",
    "n4 = v4/v4.norm()\n",
    "n4"
   ]
  },
  {
   "cell_type": "code",
   "execution_count": 135,
   "metadata": {
    "collapsed": false
   },
   "outputs": [
    {
     "data": {
      "image/png": "[encoded data removed]",
      "text/latex": [
       "$$\\left[\\begin{matrix}\\frac{\\sqrt{2}}{2} & \\frac{\\sqrt{6}}{6} & - \\frac{\\sqrt{3}}{6} & \\frac{1}{2}\\\\\\frac{\\sqrt{2}}{2} & - \\frac{\\sqrt{6}}{6} & \\frac{\\sqrt{3}}{6} & - \\frac{1}{2}\\\\0 & \\frac{\\sqrt{6}}{3} & \\frac{\\sqrt{3}}{6} & - \\frac{1}{2}\\\\0 & 0 & \\frac{\\sqrt{3}}{2} & \\frac{1}{2}\\end{matrix}\\right]$$"
      ],
      "text/plain": [
       "⎡√2   √6   -√3       ⎤\n",
       "⎢──   ──   ────  1/2 ⎥\n",
       "⎢2    6     6        ⎥\n",
       "⎢                    ⎥\n",
       "⎢√2  -√6    √3       ⎥\n",
       "⎢──  ────   ──   -1/2⎥\n",
       "⎢2    6     6        ⎥\n",
       "⎢                    ⎥\n",
       "⎢     √6    √3       ⎥\n",
       "⎢0    ──    ──   -1/2⎥\n",
       "⎢     3     6        ⎥\n",
       "⎢                    ⎥\n",
       "⎢           √3       ⎥\n",
       "⎢0    0     ──   1/2 ⎥\n",
       "⎣           2        ⎦"
      ]
     },
     "execution_count": 135,
     "metadata": {},
     "output_type": "execute_result"
    }
   ],
   "source": [
    "P = Matrix.hstack(n1, n2, n3, n4)\n",
    "P"
   ]
  },
  {
   "cell_type": "code",
   "execution_count": 136,
   "metadata": {
    "collapsed": false
   },
   "outputs": [
    {
     "data": {
      "image/png": "[encoded data removed]",
      "text/latex": [
       "$$\\left[\\begin{matrix}12 & 0 & 0 & 0\\\\0 & 12 & 0 & 0\\\\0 & 0 & 12 & 0\\\\0 & 0 & 0 & 4\\end{matrix}\\right]$$"
      ],
      "text/plain": [
       "⎡12  0   0   0⎤\n",
       "⎢             ⎥\n",
       "⎢0   12  0   0⎥\n",
       "⎢             ⎥\n",
       "⎢0   0   12  0⎥\n",
       "⎢             ⎥\n",
       "⎣0   0   0   4⎦"
      ]
     },
     "execution_count": 136,
     "metadata": {},
     "output_type": "execute_result"
    }
   ],
   "source": [
    "P.T * A * P"
   ]
  },
  {
   "cell_type": "markdown",
   "metadata": {},
   "source": [
    "## Diamond"
   ]
  },
  {
   "cell_type": "code",
   "execution_count": 137,
   "metadata": {
    "collapsed": false
   },
   "outputs": [
    {
     "data": {
      "image/png": "[encoded data removed]",
      "text/latex": [
       "$$\\left[\\begin{matrix}-5 & -3 & -3 & 3\\\\-3 & -5 & 3 & -3\\\\-3 & 3 & -5 & -3\\\\3 & -3 & -3 & -5\\end{matrix}\\right]$$"
      ],
      "text/plain": [
       "⎡-5  -3  -3  3 ⎤\n",
       "⎢              ⎥\n",
       "⎢-3  -5  3   -3⎥\n",
       "⎢              ⎥\n",
       "⎢-3  3   -5  -3⎥\n",
       "⎢              ⎥\n",
       "⎣3   -3  -3  -5⎦"
      ]
     },
     "execution_count": 137,
     "metadata": {},
     "output_type": "execute_result"
    }
   ],
   "source": [
    "A = matrix_to_rational([[ -5, -3, -3,  3],\n",
    "                        [ -3, -5,  3, -3],\n",
    "                        [ -3,  3, -5, -3],\n",
    "                        [  3, -3, -3, -5]])\n",
    "A"
   ]
  },
  {
   "cell_type": "code",
   "execution_count": 138,
   "metadata": {
    "collapsed": false
   },
   "outputs": [
    {
     "data": {
      "image/png": "[encoded data removed]",
      "text/latex": [
       "$$\\lambda^{4} + 20 \\lambda^{3} + 96 \\lambda^{2} - 256 \\lambda - 2048$$"
      ],
      "text/plain": [
       " 4       3       2               \n",
       "λ  + 20⋅λ  + 96⋅λ  - 256⋅λ - 2048"
      ]
     },
     "execution_count": 138,
     "metadata": {},
     "output_type": "execute_result"
    }
   ],
   "source": [
    "lbd = symbols('lambda')\n",
    "p = det(A - lbd*eye(4))\n",
    "p"
   ]
  },
  {
   "cell_type": "code",
   "execution_count": 139,
   "metadata": {
    "collapsed": false
   },
   "outputs": [
    {
     "data": {
      "image/png": "[encoded data removed]",
      "text/latex": [
       "$$\\left(\\lambda - 4\\right) \\left(\\lambda + 8\\right)^{3}$$"
      ],
      "text/plain": [
       "               3\n",
       "(λ - 4)⋅(λ + 8) "
      ]
     },
     "execution_count": 139,
     "metadata": {},
     "output_type": "execute_result"
    }
   ],
   "source": [
    "factor(p)"
   ]
  },
  {
   "cell_type": "code",
   "execution_count": 140,
   "metadata": {
    "collapsed": false
   },
   "outputs": [
    {
     "data": {
      "image/png": "[encoded data removed]",
      "text/latex": [
       "$$\\left[\\begin{matrix}3 & -3 & -3 & 3\\\\-3 & 3 & 3 & -3\\\\-3 & 3 & 3 & -3\\\\3 & -3 & -3 & 3\\end{matrix}\\right]$$"
      ],
      "text/plain": [
       "⎡3   -3  -3  3 ⎤\n",
       "⎢              ⎥\n",
       "⎢-3  3   3   -3⎥\n",
       "⎢              ⎥\n",
       "⎢-3  3   3   -3⎥\n",
       "⎢              ⎥\n",
       "⎣3   -3  -3  3 ⎦"
      ]
     },
     "execution_count": 140,
     "metadata": {},
     "output_type": "execute_result"
    }
   ],
   "source": [
    "R = A - (-8)*eye(4)\n",
    "R"
   ]
  },
  {
   "cell_type": "code",
   "execution_count": 141,
   "metadata": {
    "collapsed": false
   },
   "outputs": [
    {
     "data": {
      "image/png": "[encoded data removed]",
      "text/latex": [
       "$$\\left[\\begin{matrix}1 & -1 & -1 & 1\\\\0 & 0 & 0 & 0\\\\0 & 0 & 0 & 0\\\\0 & 0 & 0 & 0\\end{matrix}\\right]$$"
      ],
      "text/plain": [
       "⎡1  -1  -1  1⎤\n",
       "⎢            ⎥\n",
       "⎢0  0   0   0⎥\n",
       "⎢            ⎥\n",
       "⎢0  0   0   0⎥\n",
       "⎢            ⎥\n",
       "⎣0  0   0   0⎦"
      ]
     },
     "execution_count": 141,
     "metadata": {},
     "output_type": "execute_result"
    }
   ],
   "source": [
    "reduced_row_echelon_form(R)"
   ]
  },
  {
   "cell_type": "code",
   "execution_count": 142,
   "metadata": {
    "collapsed": true
   },
   "outputs": [],
   "source": [
    "u1 = Matrix([1,1,0,0])\n",
    "u2 = Matrix([1,0,1,0])\n",
    "u3 = Matrix([-1,0,0,1])"
   ]
  },
  {
   "cell_type": "code",
   "execution_count": 143,
   "metadata": {
    "collapsed": false
   },
   "outputs": [
    {
     "data": {
      "image/png": "[encoded data removed]",
      "text/latex": [
       "$$\\left[\\begin{matrix}1\\\\1\\\\0\\\\0\\end{matrix}\\right]$$"
      ],
      "text/plain": [
       "⎡1⎤\n",
       "⎢ ⎥\n",
       "⎢1⎥\n",
       "⎢ ⎥\n",
       "⎢0⎥\n",
       "⎢ ⎥\n",
       "⎣0⎦"
      ]
     },
     "execution_count": 143,
     "metadata": {},
     "output_type": "execute_result"
    }
   ],
   "source": [
    "v1 = u1\n",
    "v1"
   ]
  },
  {
   "cell_type": "code",
   "execution_count": 144,
   "metadata": {
    "collapsed": false
   },
   "outputs": [
    {
     "data": {
      "image/png": "[encoded data removed]",
      "text/latex": [
       "$$\\left[\\begin{matrix}\\frac{1}{2}\\\\- \\frac{1}{2}\\\\1\\\\0\\end{matrix}\\right]$$"
      ],
      "text/plain": [
       "⎡1/2 ⎤\n",
       "⎢    ⎥\n",
       "⎢-1/2⎥\n",
       "⎢    ⎥\n",
       "⎢ 1  ⎥\n",
       "⎢    ⎥\n",
       "⎣ 0  ⎦"
      ]
     },
     "execution_count": 144,
     "metadata": {},
     "output_type": "execute_result"
    }
   ],
   "source": [
    "v2 = u2 - u2.dot(v1)/v1.dot(v1) * v1\n",
    "v2"
   ]
  },
  {
   "cell_type": "code",
   "execution_count": 145,
   "metadata": {
    "collapsed": false
   },
   "outputs": [
    {
     "data": {
      "image/png": "[encoded data removed]",
      "text/latex": [
       "$$\\left[\\begin{matrix}- \\frac{1}{3}\\\\\\frac{1}{3}\\\\\\frac{1}{3}\\\\1\\end{matrix}\\right]$$"
      ],
      "text/plain": [
       "⎡-1/3⎤\n",
       "⎢    ⎥\n",
       "⎢1/3 ⎥\n",
       "⎢    ⎥\n",
       "⎢1/3 ⎥\n",
       "⎢    ⎥\n",
       "⎣ 1  ⎦"
      ]
     },
     "execution_count": 145,
     "metadata": {},
     "output_type": "execute_result"
    }
   ],
   "source": [
    "v3 = u3 - u3.dot(v1)/v1.dot(v1) * v1 - u3.dot(v2)/v2.dot(v2) * v2\n",
    "v3"
   ]
  },
  {
   "cell_type": "code",
   "execution_count": 146,
   "metadata": {
    "collapsed": false
   },
   "outputs": [
    {
     "data": {
      "image/png": "[encoded data removed]",
      "text/latex": [
       "$$\\left[\\begin{matrix}\\frac{\\sqrt{2}}{2}\\\\\\frac{\\sqrt{2}}{2}\\\\0\\\\0\\end{matrix}\\right]$$"
      ],
      "text/plain": [
       "⎡√2⎤\n",
       "⎢──⎥\n",
       "⎢2 ⎥\n",
       "⎢  ⎥\n",
       "⎢√2⎥\n",
       "⎢──⎥\n",
       "⎢2 ⎥\n",
       "⎢  ⎥\n",
       "⎢0 ⎥\n",
       "⎢  ⎥\n",
       "⎣0 ⎦"
      ]
     },
     "execution_count": 146,
     "metadata": {},
     "output_type": "execute_result"
    }
   ],
   "source": [
    "n1 = v1/v1.norm()\n",
    "n1"
   ]
  },
  {
   "cell_type": "code",
   "execution_count": 147,
   "metadata": {
    "collapsed": true
   },
   "outputs": [],
   "source": [
    "n2 = v2/v2.norm()"
   ]
  },
  {
   "cell_type": "code",
   "execution_count": 148,
   "metadata": {
    "collapsed": false
   },
   "outputs": [
    {
     "data": {
      "image/png": "[encoded data removed]",
      "text/latex": [
       "$$\\left[\\begin{matrix}\\frac{\\sqrt{6}}{6}\\\\- \\frac{\\sqrt{6}}{6}\\\\\\frac{\\sqrt{6}}{3}\\\\0\\end{matrix}\\right]$$"
      ],
      "text/plain": [
       "⎡ √6 ⎤\n",
       "⎢ ── ⎥\n",
       "⎢ 6  ⎥\n",
       "⎢    ⎥\n",
       "⎢-√6 ⎥\n",
       "⎢────⎥\n",
       "⎢ 6  ⎥\n",
       "⎢    ⎥\n",
       "⎢ √6 ⎥\n",
       "⎢ ── ⎥\n",
       "⎢ 3  ⎥\n",
       "⎢    ⎥\n",
       "⎣ 0  ⎦"
      ]
     },
     "execution_count": 148,
     "metadata": {},
     "output_type": "execute_result"
    }
   ],
   "source": [
    "n2"
   ]
  },
  {
   "cell_type": "code",
   "execution_count": 149,
   "metadata": {
    "collapsed": false
   },
   "outputs": [
    {
     "data": {
      "image/png": "[encoded data removed]",
      "text/latex": [
       "$$\\left[\\begin{matrix}- \\frac{\\sqrt{3}}{6}\\\\\\frac{\\sqrt{3}}{6}\\\\\\frac{\\sqrt{3}}{6}\\\\\\frac{\\sqrt{3}}{2}\\end{matrix}\\right]$$"
      ],
      "text/plain": [
       "⎡-√3 ⎤\n",
       "⎢────⎥\n",
       "⎢ 6  ⎥\n",
       "⎢    ⎥\n",
       "⎢ √3 ⎥\n",
       "⎢ ── ⎥\n",
       "⎢ 6  ⎥\n",
       "⎢    ⎥\n",
       "⎢ √3 ⎥\n",
       "⎢ ── ⎥\n",
       "⎢ 6  ⎥\n",
       "⎢    ⎥\n",
       "⎢ √3 ⎥\n",
       "⎢ ── ⎥\n",
       "⎣ 2  ⎦"
      ]
     },
     "execution_count": 149,
     "metadata": {},
     "output_type": "execute_result"
    }
   ],
   "source": [
    "n3 = v3/v3.norm()\n",
    "n3"
   ]
  },
  {
   "cell_type": "code",
   "execution_count": 150,
   "metadata": {
    "collapsed": false
   },
   "outputs": [
    {
     "data": {
      "image/png": "[encoded data removed]",
      "text/latex": [
       "$$\\left [ 1, \\quad 0, \\quad 0, \\quad 0, \\quad 1, \\quad 0, \\quad 0, \\quad 0, \\quad 1\\right ]$$"
      ],
      "text/plain": [
       "[1, 0, 0, 0, 1, 0, 0, 0, 1]"
      ]
     },
     "execution_count": 150,
     "metadata": {},
     "output_type": "execute_result"
    }
   ],
   "source": [
    "nvectors = [n1, n2, n3]\n",
    "[v.dot(w) for v in nvectors for w in nvectors]"
   ]
  },
  {
   "cell_type": "code",
   "execution_count": 151,
   "metadata": {
    "collapsed": false
   },
   "outputs": [
    {
     "data": {
      "image/png": "[encoded data removed]",
      "text/latex": [
       "$$\\left[\\begin{matrix}-9 & -3 & -3 & 3\\\\-3 & -9 & 3 & -3\\\\-3 & 3 & -9 & -3\\\\3 & -3 & -3 & -9\\end{matrix}\\right]$$"
      ],
      "text/plain": [
       "⎡-9  -3  -3  3 ⎤\n",
       "⎢              ⎥\n",
       "⎢-3  -9  3   -3⎥\n",
       "⎢              ⎥\n",
       "⎢-3  3   -9  -3⎥\n",
       "⎢              ⎥\n",
       "⎣3   -3  -3  -9⎦"
      ]
     },
     "execution_count": 151,
     "metadata": {},
     "output_type": "execute_result"
    }
   ],
   "source": [
    "R = A - (4)*eye(4)\n",
    "R"
   ]
  },
  {
   "cell_type": "code",
   "execution_count": 152,
   "metadata": {
    "collapsed": false
   },
   "outputs": [
    {
     "data": {
      "image/png": "[encoded data removed]",
      "text/latex": [
       "$$\\left[\\begin{matrix}1 & 0 & 0 & -1\\\\0 & 1 & 0 & 1\\\\0 & 0 & 1 & 1\\\\0 & 0 & 0 & 0\\end{matrix}\\right]$$"
      ],
      "text/plain": [
       "⎡1  0  0  -1⎤\n",
       "⎢           ⎥\n",
       "⎢0  1  0  1 ⎥\n",
       "⎢           ⎥\n",
       "⎢0  0  1  1 ⎥\n",
       "⎢           ⎥\n",
       "⎣0  0  0  0 ⎦"
      ]
     },
     "execution_count": 152,
     "metadata": {},
     "output_type": "execute_result"
    }
   ],
   "source": [
    "reduced_row_echelon_form(R)"
   ]
  },
  {
   "cell_type": "code",
   "execution_count": 153,
   "metadata": {
    "collapsed": false
   },
   "outputs": [
    {
     "data": {
      "image/png": "[encoded data removed]",
      "text/latex": [
       "$$\\left[\\begin{matrix}\\frac{1}{2}\\\\- \\frac{1}{2}\\\\- \\frac{1}{2}\\\\\\frac{1}{2}\\end{matrix}\\right]$$"
      ],
      "text/plain": [
       "⎡1/2 ⎤\n",
       "⎢    ⎥\n",
       "⎢-1/2⎥\n",
       "⎢    ⎥\n",
       "⎢-1/2⎥\n",
       "⎢    ⎥\n",
       "⎣1/2 ⎦"
      ]
     },
     "execution_count": 153,
     "metadata": {},
     "output_type": "execute_result"
    }
   ],
   "source": [
    "v4 = Matrix([1,-1,-1,1])\n",
    "n4 = v4/v4.norm()\n",
    "n4"
   ]
  },
  {
   "cell_type": "code",
   "execution_count": 154,
   "metadata": {
    "collapsed": false
   },
   "outputs": [
    {
     "data": {
      "image/png": "[encoded data removed]",
      "text/latex": [
       "$$\\left[\\begin{matrix}\\frac{\\sqrt{2}}{2} & \\frac{\\sqrt{6}}{6} & - \\frac{\\sqrt{3}}{6} & \\frac{1}{2}\\\\\\frac{\\sqrt{2}}{2} & - \\frac{\\sqrt{6}}{6} & \\frac{\\sqrt{3}}{6} & - \\frac{1}{2}\\\\0 & \\frac{\\sqrt{6}}{3} & \\frac{\\sqrt{3}}{6} & - \\frac{1}{2}\\\\0 & 0 & \\frac{\\sqrt{3}}{2} & \\frac{1}{2}\\end{matrix}\\right]$$"
      ],
      "text/plain": [
       "⎡√2   √6   -√3       ⎤\n",
       "⎢──   ──   ────  1/2 ⎥\n",
       "⎢2    6     6        ⎥\n",
       "⎢                    ⎥\n",
       "⎢√2  -√6    √3       ⎥\n",
       "⎢──  ────   ──   -1/2⎥\n",
       "⎢2    6     6        ⎥\n",
       "⎢                    ⎥\n",
       "⎢     √6    √3       ⎥\n",
       "⎢0    ──    ──   -1/2⎥\n",
       "⎢     3     6        ⎥\n",
       "⎢                    ⎥\n",
       "⎢           √3       ⎥\n",
       "⎢0    0     ──   1/2 ⎥\n",
       "⎣           2        ⎦"
      ]
     },
     "execution_count": 154,
     "metadata": {},
     "output_type": "execute_result"
    }
   ],
   "source": [
    "P = Matrix.hstack(n1, n2, n3, n4)\n",
    "P"
   ]
  },
  {
   "cell_type": "code",
   "execution_count": 155,
   "metadata": {
    "collapsed": false
   },
   "outputs": [
    {
     "data": {
      "image/png": "[encoded data removed]",
      "text/latex": [
       "$$\\left[\\begin{matrix}-8 & 0 & 0 & 0\\\\0 & -8 & 0 & 0\\\\0 & 0 & -8 & 0\\\\0 & 0 & 0 & 4\\end{matrix}\\right]$$"
      ],
      "text/plain": [
       "⎡-8  0   0   0⎤\n",
       "⎢             ⎥\n",
       "⎢0   -8  0   0⎥\n",
       "⎢             ⎥\n",
       "⎢0   0   -8  0⎥\n",
       "⎢             ⎥\n",
       "⎣0   0   0   4⎦"
      ]
     },
     "execution_count": 155,
     "metadata": {},
     "output_type": "execute_result"
    }
   ],
   "source": [
    "P.T * A * P"
   ]
  },
  {
   "cell_type": "code",
   "execution_count": 156,
   "metadata": {
    "collapsed": false
   },
   "outputs": [
    {
     "data": {
      "image/png": "[encoded data removed]",
      "text/latex": [
       "$$\\left[\\begin{matrix}3\\\\-3\\\\-3\\\\-9\\end{matrix}\\right]$$"
      ],
      "text/plain": [
       "⎡3 ⎤\n",
       "⎢  ⎥\n",
       "⎢-3⎥\n",
       "⎢  ⎥\n",
       "⎢-3⎥\n",
       "⎢  ⎥\n",
       "⎣-9⎦"
      ]
     },
     "execution_count": 156,
     "metadata": {},
     "output_type": "execute_result"
    }
   ],
   "source": [
    "v = Matrix([-1,1,1,0])\n",
    "(A - (4)*eye(4))*v"
   ]
  },
  {
   "cell_type": "code",
   "execution_count": 157,
   "metadata": {
    "collapsed": true
   },
   "outputs": [],
   "source": [
    "u1 = Matrix([-1,1,1,0])\n",
    "u2 = Matrix([0,1,0,1])\n",
    "u3 = Matrix([3,2,1,0])\n",
    "u4 = Matrix([1,0,1,0])"
   ]
  },
  {
   "cell_type": "code",
   "execution_count": 158,
   "metadata": {
    "collapsed": false
   },
   "outputs": [
    {
     "data": {
      "image/png": "[encoded data removed]",
      "text/latex": [
       "$$\\left[\\begin{matrix}-1\\\\1\\\\1\\\\0\\end{matrix}\\right]$$"
      ],
      "text/plain": [
       "⎡-1⎤\n",
       "⎢  ⎥\n",
       "⎢1 ⎥\n",
       "⎢  ⎥\n",
       "⎢1 ⎥\n",
       "⎢  ⎥\n",
       "⎣0 ⎦"
      ]
     },
     "execution_count": 158,
     "metadata": {},
     "output_type": "execute_result"
    }
   ],
   "source": [
    "v1 = u1\n",
    "v1"
   ]
  },
  {
   "cell_type": "code",
   "execution_count": 159,
   "metadata": {
    "collapsed": false
   },
   "outputs": [
    {
     "data": {
      "image/png": "[encoded data removed]",
      "text/latex": [
       "$$\\left[\\begin{matrix}\\frac{1}{3}\\\\\\frac{2}{3}\\\\- \\frac{1}{3}\\\\1\\end{matrix}\\right]$$"
      ],
      "text/plain": [
       "⎡1/3 ⎤\n",
       "⎢    ⎥\n",
       "⎢2/3 ⎥\n",
       "⎢    ⎥\n",
       "⎢-1/3⎥\n",
       "⎢    ⎥\n",
       "⎣ 1  ⎦"
      ]
     },
     "execution_count": 159,
     "metadata": {},
     "output_type": "execute_result"
    }
   ],
   "source": [
    "v2 = u2 - u2.dot(v1)/v1.dot(v1) * v1\n",
    "v2"
   ]
  },
  {
   "cell_type": "code",
   "execution_count": 160,
   "metadata": {
    "collapsed": false
   },
   "outputs": [
    {
     "data": {
      "image/png": "[encoded data removed]",
      "text/latex": [
       "$$\\left[\\begin{matrix}\\frac{13}{5}\\\\\\frac{6}{5}\\\\\\frac{7}{5}\\\\- \\frac{6}{5}\\end{matrix}\\right]$$"
      ],
      "text/plain": [
       "⎡13/5⎤\n",
       "⎢    ⎥\n",
       "⎢6/5 ⎥\n",
       "⎢    ⎥\n",
       "⎢7/5 ⎥\n",
       "⎢    ⎥\n",
       "⎣-6/5⎦"
      ]
     },
     "execution_count": 160,
     "metadata": {},
     "output_type": "execute_result"
    }
   ],
   "source": [
    "v3 = u3 - u3.dot(v1)/v1.dot(v1) * v1 - u3.dot(v2)/v2.dot(v2) * v2\n",
    "v3"
   ]
  },
  {
   "cell_type": "code",
   "execution_count": 161,
   "metadata": {
    "collapsed": false
   },
   "outputs": [
    {
     "data": {
      "image/png": "[encoded data removed]",
      "text/latex": [
       "$$\\left[\\begin{matrix}\\frac{3}{29}\\\\- \\frac{12}{29}\\\\\\frac{15}{29}\\\\\\frac{12}{29}\\end{matrix}\\right]$$"
      ],
      "text/plain": [
       "⎡3/29⎤\n",
       "⎢    ⎥\n",
       "⎢-12 ⎥\n",
       "⎢────⎥\n",
       "⎢ 29 ⎥\n",
       "⎢    ⎥\n",
       "⎢ 15 ⎥\n",
       "⎢ ── ⎥\n",
       "⎢ 29 ⎥\n",
       "⎢    ⎥\n",
       "⎢ 12 ⎥\n",
       "⎢ ── ⎥\n",
       "⎣ 29 ⎦"
      ]
     },
     "execution_count": 161,
     "metadata": {},
     "output_type": "execute_result"
    }
   ],
   "source": [
    "v4 = u4 - u4.dot(v1)/v1.dot(v1) * v1 - u4.dot(v2)/v2.dot(v2) * v2 - u4.dot(v3)/v3.dot(v3) * v3\n",
    "v4"
   ]
  },
  {
   "cell_type": "code",
   "execution_count": 162,
   "metadata": {
    "collapsed": false
   },
   "outputs": [
    {
     "data": {
      "image/png": "[encoded data removed]",
      "text/latex": [
       "$$\\left[\\begin{matrix}- \\frac{\\sqrt{3}}{3}\\\\\\frac{\\sqrt{3}}{3}\\\\\\frac{\\sqrt{3}}{3}\\\\0\\end{matrix}\\right]$$"
      ],
      "text/plain": [
       "⎡-√3 ⎤\n",
       "⎢────⎥\n",
       "⎢ 3  ⎥\n",
       "⎢    ⎥\n",
       "⎢ √3 ⎥\n",
       "⎢ ── ⎥\n",
       "⎢ 3  ⎥\n",
       "⎢    ⎥\n",
       "⎢ √3 ⎥\n",
       "⎢ ── ⎥\n",
       "⎢ 3  ⎥\n",
       "⎢    ⎥\n",
       "⎣ 0  ⎦"
      ]
     },
     "execution_count": 162,
     "metadata": {},
     "output_type": "execute_result"
    }
   ],
   "source": [
    "n1 = v1/v1.norm()\n",
    "n1"
   ]
  },
  {
   "cell_type": "code",
   "execution_count": 163,
   "metadata": {
    "collapsed": true
   },
   "outputs": [],
   "source": [
    "n2 = v2/v2.norm()"
   ]
  },
  {
   "cell_type": "code",
   "execution_count": 164,
   "metadata": {
    "collapsed": false
   },
   "outputs": [
    {
     "data": {
      "image/png": "[encoded data removed]",
      "text/latex": [
       "$$\\left[\\begin{matrix}\\frac{\\sqrt{15}}{15}\\\\\\frac{2 \\sqrt{15}}{15}\\\\- \\frac{\\sqrt{15}}{15}\\\\\\frac{\\sqrt{15}}{5}\\end{matrix}\\right]$$"
      ],
      "text/plain": [
       "⎡ √15 ⎤\n",
       "⎢ ─── ⎥\n",
       "⎢  15 ⎥\n",
       "⎢     ⎥\n",
       "⎢2⋅√15⎥\n",
       "⎢─────⎥\n",
       "⎢  15 ⎥\n",
       "⎢     ⎥\n",
       "⎢-√15 ⎥\n",
       "⎢─────⎥\n",
       "⎢  15 ⎥\n",
       "⎢     ⎥\n",
       "⎢ √15 ⎥\n",
       "⎢ ─── ⎥\n",
       "⎣  5  ⎦"
      ]
     },
     "execution_count": 164,
     "metadata": {},
     "output_type": "execute_result"
    }
   ],
   "source": [
    "n2"
   ]
  },
  {
   "cell_type": "code",
   "execution_count": 165,
   "metadata": {
    "collapsed": false
   },
   "outputs": [
    {
     "data": {
      "image/png": "[encoded data removed]",
      "text/latex": [
       "$$\\left[\\begin{matrix}\\frac{13 \\sqrt{290}}{290}\\\\\\frac{3 \\sqrt{290}}{145}\\\\\\frac{7 \\sqrt{290}}{290}\\\\- \\frac{3 \\sqrt{290}}{145}\\end{matrix}\\right]$$"
      ],
      "text/plain": [
       "⎡13⋅√290 ⎤\n",
       "⎢─────── ⎥\n",
       "⎢  290   ⎥\n",
       "⎢        ⎥\n",
       "⎢ 3⋅√290 ⎥\n",
       "⎢ ────── ⎥\n",
       "⎢  145   ⎥\n",
       "⎢        ⎥\n",
       "⎢ 7⋅√290 ⎥\n",
       "⎢ ────── ⎥\n",
       "⎢  290   ⎥\n",
       "⎢        ⎥\n",
       "⎢-3⋅√290 ⎥\n",
       "⎢────────⎥\n",
       "⎣  145   ⎦"
      ]
     },
     "execution_count": 165,
     "metadata": {},
     "output_type": "execute_result"
    }
   ],
   "source": [
    "n3 = v3/v3.norm()\n",
    "n3"
   ]
  },
  {
   "cell_type": "markdown",
   "metadata": {
    "collapsed": true
   },
   "source": [
    "# Problem 7"
   ]
  },
  {
   "cell_type": "code",
   "execution_count": 13,
   "metadata": {
    "collapsed": false
   },
   "outputs": [
    {
     "data": {
      "image/png": "[encoded data removed]",
      "text/latex": [
       "$$\\left[\\begin{matrix}1 & 181 & 21 & 1\\\\1 & 158 & 20 & 0\\\\1 & 175 & 23 & 0\\\\1 & 179 & 22 & 1\\\\1 & 170 & 24 & 1\\\\1 & 152 & 19 & 0\\end{matrix}\\right]$$"
      ],
      "text/plain": [
       "⎡1  181  21  1⎤\n",
       "⎢             ⎥\n",
       "⎢1  158  20  0⎥\n",
       "⎢             ⎥\n",
       "⎢1  175  23  0⎥\n",
       "⎢             ⎥\n",
       "⎢1  179  22  1⎥\n",
       "⎢             ⎥\n",
       "⎢1  170  24  1⎥\n",
       "⎢             ⎥\n",
       "⎣1  152  19  0⎦"
      ]
     },
     "execution_count": 13,
     "metadata": {},
     "output_type": "execute_result"
    }
   ],
   "source": [
    "A = matrix_to_rational([[1, 181, 21, 1],\n",
    "                        [1, 158, 20, 0],\n",
    "                        [1, 175, 23, 0],\n",
    "                        [1, 179, 22, 1],\n",
    "                        [1, 170, 24, 1],\n",
    "                        [1, 152, 19, 0]])\n",
    "A"
   ]
  },
  {
   "cell_type": "code",
   "execution_count": 14,
   "metadata": {
    "collapsed": false
   },
   "outputs": [
    {
     "data": {
      "image/png": "[encoded data removed]",
      "text/latex": [
       "$$\\left[\\begin{matrix}91\\\\78\\\\82\\\\85\\\\80\\\\68\\end{matrix}\\right]$$"
      ],
      "text/plain": [
       "⎡91⎤\n",
       "⎢  ⎥\n",
       "⎢78⎥\n",
       "⎢  ⎥\n",
       "⎢82⎥\n",
       "⎢  ⎥\n",
       "⎢85⎥\n",
       "⎢  ⎥\n",
       "⎢80⎥\n",
       "⎢  ⎥\n",
       "⎣68⎦"
      ]
     },
     "execution_count": 14,
     "metadata": {},
     "output_type": "execute_result"
    }
   ],
   "source": [
    "b = Matrix([91, 78, 82, 85, 80, 68])\n",
    "b"
   ]
  },
  {
   "cell_type": "code",
   "execution_count": 15,
   "metadata": {
    "collapsed": false
   },
   "outputs": [
    {
     "data": {
      "image/png": "[encoded data removed]",
      "text/latex": [
       "$$\\left[\\begin{matrix}6 & 1015 & 129 & 3\\\\1015 & 172395 & 21892 & 530\\\\129 & 21892 & 2791 & 67\\\\3 & 530 & 67 & 3\\end{matrix}\\right]$$"
      ],
      "text/plain": [
       "⎡ 6     1015    129    3 ⎤\n",
       "⎢                        ⎥\n",
       "⎢1015  172395  21892  530⎥\n",
       "⎢                        ⎥\n",
       "⎢129   21892   2791   67 ⎥\n",
       "⎢                        ⎥\n",
       "⎣ 3     530     67     3 ⎦"
      ]
     },
     "execution_count": 15,
     "metadata": {},
     "output_type": "execute_result"
    }
   ],
   "source": [
    "M = A.T * A\n",
    "M"
   ]
  },
  {
   "cell_type": "code",
   "execution_count": 16,
   "metadata": {
    "collapsed": false
   },
   "outputs": [
    {
     "data": {
      "image/png": "[encoded data removed]",
      "text/latex": [
       "$$\\left[\\begin{matrix}484\\\\82296\\\\10439\\\\256\\end{matrix}\\right]$$"
      ],
      "text/plain": [
       "⎡ 484 ⎤\n",
       "⎢     ⎥\n",
       "⎢82296⎥\n",
       "⎢     ⎥\n",
       "⎢10439⎥\n",
       "⎢     ⎥\n",
       "⎣ 256 ⎦"
      ]
     },
     "execution_count": 16,
     "metadata": {},
     "output_type": "execute_result"
    }
   ],
   "source": [
    "d = A.T * b\n",
    "d"
   ]
  },
  {
   "cell_type": "code",
   "execution_count": 17,
   "metadata": {
    "collapsed": false
   },
   "outputs": [
    {
     "data": {
      "image/png": "[encoded data removed]",
      "text/latex": [
       "$$\\left[\\begin{matrix}- \\frac{59793}{4148}\\\\\\frac{698}{1037}\\\\- \\frac{7387}{8296}\\\\\\frac{5981}{8296}\\end{matrix}\\right]$$"
      ],
      "text/plain": [
       "⎡-59793 ⎤\n",
       "⎢───────⎥\n",
       "⎢  4148 ⎥\n",
       "⎢       ⎥\n",
       "⎢ 698   ⎥\n",
       "⎢ ────  ⎥\n",
       "⎢ 1037  ⎥\n",
       "⎢       ⎥\n",
       "⎢-7387  ⎥\n",
       "⎢────── ⎥\n",
       "⎢ 8296  ⎥\n",
       "⎢       ⎥\n",
       "⎢ 5981  ⎥\n",
       "⎢ ────  ⎥\n",
       "⎣ 8296  ⎦"
      ]
     },
     "execution_count": 17,
     "metadata": {},
     "output_type": "execute_result"
    }
   ],
   "source": [
    "c = M**(-1) * d\n",
    "c"
   ]
  },
  {
   "cell_type": "code",
   "execution_count": 18,
   "metadata": {
    "collapsed": false
   },
   "outputs": [
    {
     "data": {
      "image/png": "[encoded data removed]",
      "text/latex": [
       "$$\\left [ -14.4148987463838, \\quad 0.6730954676952748, \\quad -0.8904291224686596, \\quad 0.7209498553519769\\right ]$$"
      ],
      "text/plain": [
       "[-14.4148987463838, 0.6730954676952748, -0.8904291224686596, 0.720949855351976\n",
       "9]"
      ]
     },
     "execution_count": 18,
     "metadata": {},
     "output_type": "execute_result"
    }
   ],
   "source": [
    "\n",
    "list(map(float, c))"
   ]
  },
  {
   "cell_type": "code",
   "execution_count": null,
   "metadata": {
    "collapsed": true
   },
   "outputs": [],
   "source": []
  }
 ],
 "metadata": {
  "kernelspec": {
   "display_name": "Python 3",
   "language": "python",
   "name": "python3"
  },
  "language_info": {
   "codemirror_mode": {
    "name": "ipython",
    "version": 3
   },
   "file_extension": ".py",
   "mimetype": "text/x-python",
   "name": "python",
   "nbconvert_exporter": "python",
   "pygments_lexer": "ipython3",
   "version": "3.5.1"
  }
 },
 "nbformat": 4,
 "nbformat_minor": 0
}
