{
 "cells": [
  {
   "cell_type": "code",
   "execution_count": 53,
   "metadata": {
    "collapsed": true
   },
   "outputs": [],
   "source": [
    "import json\n",
    "import random\n",
    "import jinja2\n",
    "import os\n",
    "import os.path\n",
    "import subprocess\n",
    "from latools import *\n",
    "from sympy import *\n",
    "init_printing(use_latex=True)"
   ]
  },
  {
   "cell_type": "code",
   "execution_count": 54,
   "metadata": {
    "collapsed": false
   },
   "outputs": [],
   "source": [
    "latex_jinja_env = jinja2.Environment(\n",
    "    block_start_string = '\\BLOCK{',\n",
    "    block_end_string = '}',\n",
    "    variable_start_string = '\\VAR{',\n",
    "    variable_end_string = '}',\n",
    "    comment_start_string = '\\#{',\n",
    "    comment_end_string = '}',\n",
    "    line_statement_prefix = '%%',\n",
    "    line_comment_prefix = '%#',\n",
    "    trim_blocks = True,\n",
    "    autoescape = False,\n",
    "    loader = jinja2.FileSystemLoader(os.path.abspath('.'))\n",
    ")\n",
    "number_of_versions = 4\n",
    "file_prefix = 'extra-quiz-mth288-fall2016-'\n",
    "file_suffix = '.tex'\n",
    "output_dir = 'versions'\n",
    "pdf_command = 'pdflatex'\n",
    "problems = [{} for _ in range(number_of_versions)]"
   ]
  },
  {
   "cell_type": "code",
   "execution_count": 78,
   "metadata": {
    "collapsed": false
   },
   "outputs": [],
   "source": [
    "random.seed(11111111)\n",
    "n = 3\n",
    "clist = [0, 1, -2]\n",
    "for problem in problems:\n",
    "    A = eye(n)\n",
    "    cvalues = [-1,1]\n",
    "    for i in range(n):\n",
    "        for j in range(n):\n",
    "            if i == j:\n",
    "                continue\n",
    "            c = random.choice(cvalues)\n",
    "            A[:,j] += c * A[:, i]\n",
    "            c = random.choice(cvalues)\n",
    "            A[j,:] += c * A[i,:]\n",
    "    for k in range(n):\n",
    "        problem['v{}'.format(k+1)] = A[:,k]\n",
    "        problem['w{}'.format(k+1)] = randMatrix(2, 1, -3, 3)\n",
    "    random.shuffle(clist)\n",
    "    c1, c2, c3 = clist\n",
    "    problem['u'] = c1*problem['v1']+c2*problem['v2']+c3*problem['v3']"
   ]
  },
  {
   "cell_type": "code",
   "execution_count": 79,
   "metadata": {
    "collapsed": false
   },
   "outputs": [
    {
     "name": "stdout",
     "output_type": "stream",
     "text": [
      "Generating version 1\n",
      "Generating version 2\n",
      "Generating version 3\n",
      "Generating version 4\n"
     ]
    }
   ],
   "source": [
    "template = latex_jinja_env.get_template('{}template{}'.format(file_prefix, file_suffix))\n",
    "for version_number in range(number_of_versions):\n",
    "    print('Generating version {}'.format(version_number+1))\n",
    "    problem = problems[version_number]\n",
    "    template_dict = {}\n",
    "    template_dict['v1'] = latex(problem['v1'])\n",
    "    template_dict['v2'] = latex(problem['v2'])\n",
    "    template_dict['v3'] = latex(problem['v3'])\n",
    "    template_dict['w1'] = latex(problem['w1'])\n",
    "    template_dict['w2'] = latex(problem['w2'])\n",
    "    template_dict['w3'] = latex(problem['w3'])\n",
    "    template_dict['u'] = latex(problem['u'])\n",
    "    sout = template.render(**template_dict)\n",
    "    output_file_name = '{}version{}{}'.format(file_prefix, version_number + 1, file_suffix)\n",
    "    current_dir = os.getcwd()\n",
    "    os.chdir(os.path.join('.', output_dir))\n",
    "    fout = open(output_file_name, 'w')\n",
    "    fout.write(sout)\n",
    "    fout.close()\n",
    "    completed_process = subprocess.run([pdf_command, output_file_name], stdout=subprocess.PIPE)\n",
    "    os.chdir(current_dir)"
   ]
  },
  {
   "cell_type": "code",
   "execution_count": 62,
   "metadata": {
    "collapsed": false
   },
   "outputs": [],
   "source": [
    "randMatrix?"
   ]
  },
  {
   "cell_type": "code",
   "execution_count": 76,
   "metadata": {
    "collapsed": false
   },
   "outputs": [
    {
     "data": {
      "image/png": "[encoded data removed]",
      "text/latex": [
       "$$\\left [ 1, \\quad -2, \\quad 0\\right ]$$"
      ],
      "text/plain": [
       "[1, -2, 0]"
      ]
     },
     "execution_count": 76,
     "metadata": {},
     "output_type": "execute_result"
    }
   ],
   "source": [
    "random.shuffle(clist)\n",
    "clist"
   ]
  },
  {
   "cell_type": "code",
   "execution_count": null,
   "metadata": {
    "collapsed": true
   },
   "outputs": [],
   "source": [
    "    template_dict['w1'] = latex(problem['w1'])"
   ]
  }
 ],
 "metadata": {
  "kernelspec": {
   "display_name": "Python 3",
   "language": "python",
   "name": "python3"
  },
  "language_info": {
   "codemirror_mode": {
    "name": "ipython",
    "version": 3
   },
   "file_extension": ".py",
   "mimetype": "text/x-python",
   "name": "python",
   "nbconvert_exporter": "python",
   "pygments_lexer": "ipython3",
   "version": "3.5.1"
  }
 },
 "nbformat": 4,
 "nbformat_minor": 0
}
