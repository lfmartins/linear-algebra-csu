{
 "cells": [
  {
   "cell_type": "code",
   "execution_count": 2,
   "metadata": {
    "collapsed": false
   },
   "outputs": [],
   "source": [
    "from latools import *\n",
    "from sympy import *\n",
    "init_printing(use_latex=True)"
   ]
  },
  {
   "cell_type": "markdown",
   "metadata": {},
   "source": [
    "# Problem 1"
   ]
  },
  {
   "cell_type": "code",
   "execution_count": 3,
   "metadata": {
    "collapsed": false
   },
   "outputs": [
    {
     "data": {
      "image/png": "[encoded data removed]",
      "text/latex": [
       "$$\\left[\\begin{matrix}1 & -2 & -5 & -3 & 5 & -14\\\\-3 & 0 & -3 & -2 & 13 & 7\\\\0 & -2 & -6 & -1 & 4 & -9\\\\-1 & -1 & -4 & 1 & 2 & 0\\end{matrix}\\right]$$"
      ],
      "text/plain": [
       "⎡1   -2  -5  -3  5   -14⎤\n",
       "⎢                       ⎥\n",
       "⎢-3  0   -3  -2  13   7 ⎥\n",
       "⎢                       ⎥\n",
       "⎢0   -2  -6  -1  4   -9 ⎥\n",
       "⎢                       ⎥\n",
       "⎣-1  -1  -4  1   2    0 ⎦"
      ]
     },
     "execution_count": 3,
     "metadata": {},
     "output_type": "execute_result"
    }
   ],
   "source": [
    "A = matrix_to_rational([[ 1, -2, -5, -3,  5, -14],\n",
    "                        [-3,  0, -3, -2, 13,   7],\n",
    "                        [ 0, -2, -6, -1,  4,  -9],\n",
    "                        [-1, -1, -4,  1,  2,   0]])\n",
    "A"
   ]
  },
  {
   "cell_type": "code",
   "execution_count": 4,
   "metadata": {
    "collapsed": false
   },
   "outputs": [
    {
     "data": {
      "image/png": "[encoded data removed]",
      "text/latex": [
       "$$\\left[\\begin{matrix}1 & -2 & -5 & -3 & 5 & -14\\\\0 & -6 & -18 & -11 & 28 & -35\\\\0 & -2 & -6 & -1 & 4 & -9\\\\0 & -3 & -9 & -2 & 7 & -14\\end{matrix}\\right]$$"
      ],
      "text/plain": [
       "⎡1  -2  -5   -3   5   -14⎤\n",
       "⎢                        ⎥\n",
       "⎢0  -6  -18  -11  28  -35⎥\n",
       "⎢                        ⎥\n",
       "⎢0  -2  -6   -1   4   -9 ⎥\n",
       "⎢                        ⎥\n",
       "⎣0  -3  -9   -2   7   -14⎦"
      ]
     },
     "execution_count": 4,
     "metadata": {},
     "output_type": "execute_result"
    }
   ],
   "source": [
    "A1 = rop(A, 'R1*(3)+R2=>R2', 'R1*(1)+R4=>R4')\n",
    "A1"
   ]
  },
  {
   "cell_type": "code",
   "execution_count": 6,
   "metadata": {
    "collapsed": false
   },
   "outputs": [
    {
     "data": {
      "image/png": "[encoded data removed]",
      "text/latex": [
       "$$\\left[\\begin{matrix}1 & -2 & -5 & -3 & 5 & -14\\\\0 & 1 & 3 & \\frac{11}{6} & - \\frac{14}{3} & \\frac{35}{6}\\\\0 & -2 & -6 & -1 & 4 & -9\\\\0 & -3 & -9 & -2 & 7 & -14\\end{matrix}\\right]$$"
      ],
      "text/plain": [
       "⎡1  -2  -5   -3     5    -14 ⎤\n",
       "⎢                            ⎥\n",
       "⎢0  1   3   11/6  -14/3  35/6⎥\n",
       "⎢                            ⎥\n",
       "⎢0  -2  -6   -1     4     -9 ⎥\n",
       "⎢                            ⎥\n",
       "⎣0  -3  -9   -2     7    -14 ⎦"
      ]
     },
     "execution_count": 6,
     "metadata": {},
     "output_type": "execute_result"
    }
   ],
   "source": [
    "A2 = rop(A1, 'R2*(-1/6)=>R2')\n",
    "A2"
   ]
  },
  {
   "cell_type": "code",
   "execution_count": 7,
   "metadata": {
    "collapsed": false
   },
   "outputs": [
    {
     "data": {
      "image/png": "[encoded data removed]",
      "text/latex": [
       "$$\\left[\\begin{matrix}1 & 0 & 1 & \\frac{2}{3} & - \\frac{13}{3} & - \\frac{7}{3}\\\\0 & 1 & 3 & \\frac{11}{6} & - \\frac{14}{3} & \\frac{35}{6}\\\\0 & 0 & 0 & \\frac{8}{3} & - \\frac{16}{3} & \\frac{8}{3}\\\\0 & 0 & 0 & \\frac{7}{2} & -7 & \\frac{7}{2}\\end{matrix}\\right]$$"
      ],
      "text/plain": [
       "⎡1  0  1  2/3   -13/3  -7/3⎤\n",
       "⎢                          ⎥\n",
       "⎢0  1  3  11/6  -14/3  35/6⎥\n",
       "⎢                          ⎥\n",
       "⎢0  0  0  8/3   -16/3  8/3 ⎥\n",
       "⎢                          ⎥\n",
       "⎣0  0  0  7/2    -7    7/2 ⎦"
      ]
     },
     "execution_count": 7,
     "metadata": {},
     "output_type": "execute_result"
    }
   ],
   "source": [
    "A3 = rop(A2, 'R2*(2)+R1=>R1', 'R2*(2)+R3=>R3', 'R2*(3)+R4=>R4')\n",
    "A3"
   ]
  },
  {
   "cell_type": "code",
   "execution_count": 8,
   "metadata": {
    "collapsed": false
   },
   "outputs": [
    {
     "data": {
      "image/png": "[encoded data removed]",
      "text/latex": [
       "$$\\left[\\begin{matrix}1 & 0 & 1 & \\frac{2}{3} & - \\frac{13}{3} & - \\frac{7}{3}\\\\0 & 1 & 3 & \\frac{11}{6} & - \\frac{14}{3} & \\frac{35}{6}\\\\0 & 0 & 0 & 1 & -2 & 1\\\\0 & 0 & 0 & \\frac{7}{2} & -7 & \\frac{7}{2}\\end{matrix}\\right]$$"
      ],
      "text/plain": [
       "⎡1  0  1  2/3   -13/3  -7/3⎤\n",
       "⎢                          ⎥\n",
       "⎢0  1  3  11/6  -14/3  35/6⎥\n",
       "⎢                          ⎥\n",
       "⎢0  0  0   1     -2     1  ⎥\n",
       "⎢                          ⎥\n",
       "⎣0  0  0  7/2    -7    7/2 ⎦"
      ]
     },
     "execution_count": 8,
     "metadata": {},
     "output_type": "execute_result"
    }
   ],
   "source": [
    "A4 = rop(A3, 'R3*(3/8)=>R3')\n",
    "A4"
   ]
  },
  {
   "cell_type": "code",
   "execution_count": 12,
   "metadata": {
    "collapsed": false
   },
   "outputs": [
    {
     "data": {
      "image/png": "[encoded data removed]",
      "text/latex": [
       "$$\\left[\\begin{matrix}1 & 0 & 1 & 0 & -3 & -3\\\\0 & 1 & 3 & 0 & -1 & 4\\\\0 & 0 & 0 & 1 & -2 & 1\\\\0 & 0 & 0 & 0 & 0 & 0\\end{matrix}\\right]$$"
      ],
      "text/plain": [
       "⎡1  0  1  0  -3  -3⎤\n",
       "⎢                  ⎥\n",
       "⎢0  1  3  0  -1  4 ⎥\n",
       "⎢                  ⎥\n",
       "⎢0  0  0  1  -2  1 ⎥\n",
       "⎢                  ⎥\n",
       "⎣0  0  0  0  0   0 ⎦"
      ]
     },
     "execution_count": 12,
     "metadata": {},
     "output_type": "execute_result"
    }
   ],
   "source": [
    "A5 = rop(A4, 'R3*(-2/3)+R1=>R1', 'R3*(-11/6)+R2=>R2', 'R3*(-7/2)+R4=>R4')\n",
    "A5"
   ]
  },
  {
   "cell_type": "markdown",
   "metadata": {},
   "source": [
    "# Problem 2"
   ]
  },
  {
   "cell_type": "code",
   "execution_count": 20,
   "metadata": {
    "collapsed": false
   },
   "outputs": [
    {
     "data": {
      "image/png": "[encoded data removed]",
      "text/latex": [
       "$$\\left[\\begin{matrix}-3 & 1 & -1 & 1 & 0 & 0\\\\-1 & 2 & -1 & 0 & 1 & 0\\\\-1 & -1 & 0 & 0 & 0 & 1\\end{matrix}\\right]$$"
      ],
      "text/plain": [
       "⎡-3  1   -1  1  0  0⎤\n",
       "⎢                   ⎥\n",
       "⎢-1  2   -1  0  1  0⎥\n",
       "⎢                   ⎥\n",
       "⎣-1  -1  0   0  0  1⎦"
      ]
     },
     "execution_count": 20,
     "metadata": {},
     "output_type": "execute_result"
    }
   ],
   "source": [
    "A = matrix_to_rational([[-3,  1, -1, 1, 0, 0],\n",
    "                        [-1,  2, -1, 0, 1, 0],\n",
    "                        [-1, -1,  0, 0, 0, 1]])\n",
    "A"
   ]
  },
  {
   "cell_type": "code",
   "execution_count": 22,
   "metadata": {
    "collapsed": false
   },
   "outputs": [
    {
     "data": {
      "image/png": "[encoded data removed]",
      "text/latex": [
       "$$\\left[\\begin{matrix}1 & - \\frac{1}{3} & \\frac{1}{3} & - \\frac{1}{3} & 0 & 0\\\\-1 & 2 & -1 & 0 & 1 & 0\\\\-1 & -1 & 0 & 0 & 0 & 1\\end{matrix}\\right]$$"
      ],
      "text/plain": [
       "⎡1   -1/3  1/3  -1/3  0  0⎤\n",
       "⎢                         ⎥\n",
       "⎢-1   2    -1    0    1  0⎥\n",
       "⎢                         ⎥\n",
       "⎣-1   -1    0    0    0  1⎦"
      ]
     },
     "execution_count": 22,
     "metadata": {},
     "output_type": "execute_result"
    }
   ],
   "source": [
    "A1 = rop(A, 'R1*(-1/3)=>R1')\n",
    "A1"
   ]
  },
  {
   "cell_type": "code",
   "execution_count": 23,
   "metadata": {
    "collapsed": false
   },
   "outputs": [
    {
     "data": {
      "image/png": "[encoded data removed]",
      "text/latex": [
       "$$\\left[\\begin{matrix}1 & - \\frac{1}{3} & \\frac{1}{3} & - \\frac{1}{3} & 0 & 0\\\\0 & \\frac{5}{3} & - \\frac{2}{3} & - \\frac{1}{3} & 1 & 0\\\\0 & - \\frac{4}{3} & \\frac{1}{3} & - \\frac{1}{3} & 0 & 1\\end{matrix}\\right]$$"
      ],
      "text/plain": [
       "⎡1  -1/3  1/3   -1/3  0  0⎤\n",
       "⎢                         ⎥\n",
       "⎢0  5/3   -2/3  -1/3  1  0⎥\n",
       "⎢                         ⎥\n",
       "⎣0  -4/3  1/3   -1/3  0  1⎦"
      ]
     },
     "execution_count": 23,
     "metadata": {},
     "output_type": "execute_result"
    }
   ],
   "source": [
    "A2 = rop(A1, 'R1*(1)+R2=>R2', 'R1*(1)+R3=>R3')\n",
    "A2"
   ]
  },
  {
   "cell_type": "code",
   "execution_count": 24,
   "metadata": {
    "collapsed": false
   },
   "outputs": [
    {
     "data": {
      "image/png": "[encoded data removed]",
      "text/latex": [
       "$$\\left[\\begin{matrix}1 & - \\frac{1}{3} & \\frac{1}{3} & - \\frac{1}{3} & 0 & 0\\\\0 & 1 & - \\frac{2}{5} & - \\frac{1}{5} & \\frac{3}{5} & 0\\\\0 & - \\frac{4}{3} & \\frac{1}{3} & - \\frac{1}{3} & 0 & 1\\end{matrix}\\right]$$"
      ],
      "text/plain": [
       "⎡1  -1/3  1/3   -1/3   0   0⎤\n",
       "⎢                           ⎥\n",
       "⎢0   1    -2/5  -1/5  3/5  0⎥\n",
       "⎢                           ⎥\n",
       "⎣0  -4/3  1/3   -1/3   0   1⎦"
      ]
     },
     "execution_count": 24,
     "metadata": {},
     "output_type": "execute_result"
    }
   ],
   "source": [
    "A3 = rop(A2, 'R2*(3/5)=>R2')\n",
    "A3"
   ]
  },
  {
   "cell_type": "code",
   "execution_count": 25,
   "metadata": {
    "collapsed": false
   },
   "outputs": [
    {
     "data": {
      "image/png": "[encoded data removed]",
      "text/latex": [
       "$$\\left[\\begin{matrix}1 & 0 & \\frac{1}{5} & - \\frac{2}{5} & \\frac{1}{5} & 0\\\\0 & 1 & - \\frac{2}{5} & - \\frac{1}{5} & \\frac{3}{5} & 0\\\\0 & 0 & - \\frac{1}{5} & - \\frac{3}{5} & \\frac{4}{5} & 1\\end{matrix}\\right]$$"
      ],
      "text/plain": [
       "⎡1  0  1/5   -2/5  1/5  0⎤\n",
       "⎢                        ⎥\n",
       "⎢0  1  -2/5  -1/5  3/5  0⎥\n",
       "⎢                        ⎥\n",
       "⎣0  0  -1/5  -3/5  4/5  1⎦"
      ]
     },
     "execution_count": 25,
     "metadata": {},
     "output_type": "execute_result"
    }
   ],
   "source": [
    "A4 = rop(A3, 'R2*(1/3)+R1=>R1', 'R2*(4/3)+R3=>R3')\n",
    "A4"
   ]
  },
  {
   "cell_type": "code",
   "execution_count": 26,
   "metadata": {
    "collapsed": false
   },
   "outputs": [
    {
     "data": {
      "image/png": "[encoded data removed]",
      "text/latex": [
       "$$\\left[\\begin{matrix}1 & 0 & \\frac{1}{5} & - \\frac{2}{5} & \\frac{1}{5} & 0\\\\0 & 1 & - \\frac{2}{5} & - \\frac{1}{5} & \\frac{3}{5} & 0\\\\0 & 0 & 1 & 3 & -4 & -5\\end{matrix}\\right]$$"
      ],
      "text/plain": [
       "⎡1  0  1/5   -2/5  1/5  0 ⎤\n",
       "⎢                         ⎥\n",
       "⎢0  1  -2/5  -1/5  3/5  0 ⎥\n",
       "⎢                         ⎥\n",
       "⎣0  0   1     3    -4   -5⎦"
      ]
     },
     "execution_count": 26,
     "metadata": {},
     "output_type": "execute_result"
    }
   ],
   "source": [
    "A5 = rop(A4, 'R3*(-5)=>R3')\n",
    "A5"
   ]
  },
  {
   "cell_type": "code",
   "execution_count": 27,
   "metadata": {
    "collapsed": false
   },
   "outputs": [
    {
     "data": {
      "image/png": "[encoded data removed]",
      "text/latex": [
       "$$\\left[\\begin{matrix}1 & 0 & 0 & -1 & 1 & 1\\\\0 & 1 & 0 & 1 & -1 & -2\\\\0 & 0 & 1 & 3 & -4 & -5\\end{matrix}\\right]$$"
      ],
      "text/plain": [
       "⎡1  0  0  -1  1   1 ⎤\n",
       "⎢                   ⎥\n",
       "⎢0  1  0  1   -1  -2⎥\n",
       "⎢                   ⎥\n",
       "⎣0  0  1  3   -4  -5⎦"
      ]
     },
     "execution_count": 27,
     "metadata": {},
     "output_type": "execute_result"
    }
   ],
   "source": [
    "A6 = rop(A5, 'R3*(-1/5)+R1=>R1', 'R3*(2/5)+R2=>R2')\n",
    "A6"
   ]
  },
  {
   "cell_type": "markdown",
   "metadata": {},
   "source": [
    "# Problem 4"
   ]
  },
  {
   "cell_type": "code",
   "execution_count": 28,
   "metadata": {
    "collapsed": false
   },
   "outputs": [
    {
     "data": {
      "image/png": "[encoded data removed]",
      "text/latex": [
       "$$\\left[\\begin{matrix}-3 & -2 & x\\\\-4 & -3 & y\\end{matrix}\\right]$$"
      ],
      "text/plain": [
       "⎡-3  -2  x⎤\n",
       "⎢         ⎥\n",
       "⎣-4  -3  y⎦"
      ]
     },
     "execution_count": 28,
     "metadata": {},
     "output_type": "execute_result"
    }
   ],
   "source": [
    "x, y = symbols('x,y')\n",
    "A = matrix_to_rational([[-3, -2, x],\n",
    "                        [-4, -3, y]])\n",
    "A"
   ]
  },
  {
   "cell_type": "code",
   "execution_count": 29,
   "metadata": {
    "collapsed": false
   },
   "outputs": [
    {
     "data": {
      "image/png": "[encoded data removed]",
      "text/latex": [
       "$$\\left[\\begin{matrix}1 & \\frac{2}{3} & - \\frac{x}{3}\\\\-4 & -3 & y\\end{matrix}\\right]$$"
      ],
      "text/plain": [
       "⎡         -x ⎤\n",
       "⎢1   2/3  ───⎥\n",
       "⎢          3 ⎥\n",
       "⎢            ⎥\n",
       "⎣-4  -3    y ⎦"
      ]
     },
     "execution_count": 29,
     "metadata": {},
     "output_type": "execute_result"
    }
   ],
   "source": [
    "A1 = rop(A, 'R1*(-1/3)=>R1')\n",
    "A1"
   ]
  },
  {
   "cell_type": "code",
   "execution_count": 30,
   "metadata": {
    "collapsed": false
   },
   "outputs": [
    {
     "data": {
      "image/png": "[encoded data removed]",
      "text/latex": [
       "$$\\left[\\begin{matrix}1 & \\frac{2}{3} & - \\frac{x}{3}\\\\0 & - \\frac{1}{3} & - \\frac{4 x}{3} + y\\end{matrix}\\right]$$"
      ],
      "text/plain": [
       "⎡            -x    ⎤\n",
       "⎢1  2/3      ───   ⎥\n",
       "⎢             3    ⎥\n",
       "⎢                  ⎥\n",
       "⎢           4⋅x    ⎥\n",
       "⎢0  -1/3  - ─── + y⎥\n",
       "⎣            3     ⎦"
      ]
     },
     "execution_count": 30,
     "metadata": {},
     "output_type": "execute_result"
    }
   ],
   "source": [
    "A2 = rop(A1, 'R1*(4)+R2=>R2')\n",
    "A2"
   ]
  },
  {
   "cell_type": "code",
   "execution_count": 31,
   "metadata": {
    "collapsed": false
   },
   "outputs": [
    {
     "data": {
      "image/png": "[encoded data removed]",
      "text/latex": [
       "$$\\left[\\begin{matrix}1 & \\frac{2}{3} & - \\frac{x}{3}\\\\0 & 1 & 4 x - 3 y\\end{matrix}\\right]$$"
      ],
      "text/plain": [
       "⎡           -x    ⎤\n",
       "⎢1  2/3     ───   ⎥\n",
       "⎢            3    ⎥\n",
       "⎢                 ⎥\n",
       "⎣0   1   4⋅x - 3⋅y⎦"
      ]
     },
     "execution_count": 31,
     "metadata": {},
     "output_type": "execute_result"
    }
   ],
   "source": [
    "A3 = rop(A2, 'R2*(-3)=>R2')\n",
    "A3"
   ]
  },
  {
   "cell_type": "code",
   "execution_count": 32,
   "metadata": {
    "collapsed": false
   },
   "outputs": [
    {
     "data": {
      "image/png": "[encoded data removed]",
      "text/latex": [
       "$$\\left[\\begin{matrix}1 & 0 & - 3 x + 2 y\\\\0 & 1 & 4 x - 3 y\\end{matrix}\\right]$$"
      ],
      "text/plain": [
       "⎡1  0  -3⋅x + 2⋅y⎤\n",
       "⎢                ⎥\n",
       "⎣0  1  4⋅x - 3⋅y ⎦"
      ]
     },
     "execution_count": 32,
     "metadata": {},
     "output_type": "execute_result"
    }
   ],
   "source": [
    "A4 = rop(A3, 'R2*(-2/3)+R1=>R1')\n",
    "A4"
   ]
  },
  {
   "cell_type": "code",
   "execution_count": 36,
   "metadata": {
    "collapsed": false
   },
   "outputs": [
    {
     "data": {
      "image/png": "[encoded data removed]",
      "text/latex": [
       "$$-19$$"
      ],
      "text/plain": [
       "-19"
      ]
     },
     "execution_count": 36,
     "metadata": {},
     "output_type": "execute_result"
    }
   ],
   "source": [
    "-3*5+2*(-2)"
   ]
  },
  {
   "cell_type": "code",
   "execution_count": 37,
   "metadata": {
    "collapsed": false
   },
   "outputs": [
    {
     "data": {
      "image/png": "[encoded data removed]",
      "text/latex": [
       "$$26$$"
      ],
      "text/plain": [
       "26"
      ]
     },
     "execution_count": 37,
     "metadata": {},
     "output_type": "execute_result"
    }
   ],
   "source": [
    "4*5-3*-2"
   ]
  },
  {
   "cell_type": "code",
   "execution_count": 38,
   "metadata": {
    "collapsed": false
   },
   "outputs": [
    {
     "data": {
      "image/png": "[encoded data removed]",
      "text/latex": [
       "$$100$$"
      ],
      "text/plain": [
       "100"
      ]
     },
     "execution_count": 38,
     "metadata": {},
     "output_type": "execute_result"
    }
   ],
   "source": [
    "-19*-8+26*-2"
   ]
  },
  {
   "cell_type": "code",
   "execution_count": 39,
   "metadata": {
    "collapsed": false
   },
   "outputs": [
    {
     "data": {
      "image/png": "[encoded data removed]",
      "text/latex": [
       "$$-80$$"
      ],
      "text/plain": [
       "-80"
      ]
     },
     "execution_count": 39,
     "metadata": {},
     "output_type": "execute_result"
    }
   ],
   "source": [
    "-19*-4+26*-6"
   ]
  },
  {
   "cell_type": "code",
   "execution_count": 40,
   "metadata": {
    "collapsed": false
   },
   "outputs": [
    {
     "data": {
      "image/png": "[encoded data removed]",
      "text/latex": [
       "$$\\left[\\begin{matrix}-3 & 2\\\\4 & -3\\end{matrix}\\right]$$"
      ],
      "text/plain": [
       "⎡-3  2 ⎤\n",
       "⎢      ⎥\n",
       "⎣4   -3⎦"
      ]
     },
     "execution_count": 40,
     "metadata": {},
     "output_type": "execute_result"
    }
   ],
   "source": [
    "P = Matrix([[-3,2],[4,-3]])\n",
    "P"
   ]
  },
  {
   "cell_type": "code",
   "execution_count": 41,
   "metadata": {
    "collapsed": false
   },
   "outputs": [
    {
     "data": {
      "image/png": "[encoded data removed]",
      "text/latex": [
       "$$\\left[\\begin{matrix}5\\\\-2\\end{matrix}\\right]$$"
      ],
      "text/plain": [
       "⎡5 ⎤\n",
       "⎢  ⎥\n",
       "⎣-2⎦"
      ]
     },
     "execution_count": 41,
     "metadata": {},
     "output_type": "execute_result"
    }
   ],
   "source": [
    "v = Matrix([5,-2])\n",
    "v"
   ]
  },
  {
   "cell_type": "code",
   "execution_count": 42,
   "metadata": {
    "collapsed": false
   },
   "outputs": [
    {
     "data": {
      "image/png": "[encoded data removed]",
      "text/latex": [
       "$$\\left[\\begin{matrix}-19\\\\26\\end{matrix}\\right]$$"
      ],
      "text/plain": [
       "⎡-19⎤\n",
       "⎢   ⎥\n",
       "⎣26 ⎦"
      ]
     },
     "execution_count": 42,
     "metadata": {},
     "output_type": "execute_result"
    }
   ],
   "source": [
    "P*v"
   ]
  },
  {
   "cell_type": "code",
   "execution_count": 43,
   "metadata": {
    "collapsed": false
   },
   "outputs": [
    {
     "data": {
      "image/png": "[encoded data removed]",
      "text/latex": [
       "$$\\left[\\begin{matrix}-8 & -2\\\\-4 & -6\\end{matrix}\\right]$$"
      ],
      "text/plain": [
       "⎡-8  -2⎤\n",
       "⎢      ⎥\n",
       "⎣-4  -6⎦"
      ]
     },
     "execution_count": 43,
     "metadata": {},
     "output_type": "execute_result"
    }
   ],
   "source": [
    "M = Matrix([[-8,-2],[-4,-6]])\n",
    "M"
   ]
  },
  {
   "cell_type": "code",
   "execution_count": 44,
   "metadata": {
    "collapsed": false
   },
   "outputs": [
    {
     "data": {
      "image/png": "[encoded data removed]",
      "text/latex": [
       "$$\\left[\\begin{matrix}100\\\\-80\\end{matrix}\\right]$$"
      ],
      "text/plain": [
       "⎡100⎤\n",
       "⎢   ⎥\n",
       "⎣-80⎦"
      ]
     },
     "execution_count": 44,
     "metadata": {},
     "output_type": "execute_result"
    }
   ],
   "source": [
    "M*P*v"
   ]
  },
  {
   "cell_type": "code",
   "execution_count": null,
   "metadata": {
    "collapsed": true
   },
   "outputs": [],
   "source": []
  }
 ],
 "metadata": {
  "kernelspec": {
   "display_name": "Python 3",
   "language": "python",
   "name": "python3"
  },
  "language_info": {
   "codemirror_mode": {
    "name": "ipython",
    "version": 3
   },
   "file_extension": ".py",
   "mimetype": "text/x-python",
   "name": "python",
   "nbconvert_exporter": "python",
   "pygments_lexer": "ipython3",
   "version": "3.5.1"
  }
 },
 "nbformat": 4,
 "nbformat_minor": 0
}
