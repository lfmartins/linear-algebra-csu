{
 "cells": [
  {
   "cell_type": "markdown",
   "metadata": {},
   "source": [
    "## Loading the libraries. \n",
    "\n",
    "__Note__: File `latools.py` must be in same directory as working notebook."
   ]
  },
  {
   "cell_type": "code",
   "execution_count": 2,
   "metadata": {
    "collapsed": true
   },
   "outputs": [],
   "source": [
    "from latools import *\n",
    "from sympy import *\n",
    "init_printing(use_latex=True)"
   ]
  },
  {
   "cell_type": "markdown",
   "metadata": {},
   "source": [
    "## Summary of Commands\n",
    "\n",
    "### Matrix input\n",
    "\n",
    "To input matrices, use the function `matrix_to_rational()`. The argument is a two-dimensional array, as shown below:\n",
    "\n",
    "    A = matrix_to_rational([11,12,13],\n",
    "                           [21,22,23],\n",
    "                           [31,32,33]]);\n",
    "\n",
    "### Row operations\n",
    "\n",
    "To do row operations on a matrix, use the function `rop()`:\n",
    "\n",
    "    output_matrix = rop(input_matrix, sequence_of_operations)\n",
    "    \n",
    "The syntax for row operations is:\n",
    "\n",
    "- `'Ri*(c)+Rj=>Rj'`: Multiply row `i` by the scalar `c` and add to row `j`. The result is stored in row `j`.\n",
    "- `'Ri*(c)=>Ri'`: Multiply row `i` by the scalar `c`. The result is stored in row `i`.\n",
    "- `'Ri<=>Rj'`: Swap rows `i` and `j`\n",
    "\n",
    "Notes:\n",
    "\n",
    "- The parenthesis around the scalar `c` are always required.\n",
    "- The row operations must be specified as strings, that is, they have to be surrounded by quotes.\n",
    "\n",
    "### Symbolic variables\n",
    "\n",
    "To introduce symbolic variables, use the function `symbols()`. For example:\n",
    "\n",
    "    x, y, z = symbols('x,y,z')\n",
    "\n",
    "This introduces three symbolic variables named `x`, `y`, `z`."
   ]
  },
  {
   "cell_type": "markdown",
   "metadata": {},
   "source": [
    "## Examples\n",
    "\n",
    "### Example 1"
   ]
  },
  {
   "cell_type": "code",
   "execution_count": 3,
   "metadata": {
    "collapsed": false
   },
   "outputs": [
    {
     "data": {
      "text/plain": [
       "⎡0   0  -1  2⎤\n",
       "⎢            ⎥\n",
       "⎢2   1  1   1⎥\n",
       "⎢            ⎥\n",
       "⎣-3  2  0   0⎦"
      ]
     },
     "execution_count": 3,
     "metadata": {},
     "output_type": "execute_result"
    }
   ],
   "source": [
    "A = matrix_to_rational([[ 0, 0, -1, 2],\n",
    "                        [ 2, 1,  1, 1],\n",
    "                        [-3, 2,  0, 0]])\n",
    "A"
   ]
  },
  {
   "cell_type": "code",
   "execution_count": 4,
   "metadata": {
    "collapsed": false
   },
   "outputs": [
    {
     "data": {
      "text/plain": [
       "⎡2   1  1   1⎤\n",
       "⎢            ⎥\n",
       "⎢0   0  -1  2⎥\n",
       "⎢            ⎥\n",
       "⎣-3  2  0   0⎦"
      ]
     },
     "execution_count": 4,
     "metadata": {},
     "output_type": "execute_result"
    }
   ],
   "source": [
    "A1 = rop(A, 'R1<=>R2')\n",
    "A1"
   ]
  },
  {
   "cell_type": "code",
   "execution_count": 7,
   "metadata": {
    "collapsed": false
   },
   "outputs": [
    {
     "data": {
      "text/plain": [
       "⎡1   1/2  1/2  1/2⎤\n",
       "⎢                 ⎥\n",
       "⎢0    0   -1    2 ⎥\n",
       "⎢                 ⎥\n",
       "⎣-3   2    0    0 ⎦"
      ]
     },
     "execution_count": 7,
     "metadata": {},
     "output_type": "execute_result"
    }
   ],
   "source": [
    "A2 = rop(A1, 'R1*(1/2)=>R1')\n",
    "A2"
   ]
  },
  {
   "cell_type": "code",
   "execution_count": 8,
   "metadata": {
    "collapsed": false
   },
   "outputs": [
    {
     "data": {
      "text/plain": [
       "⎡1  1/2  1/2  1/2⎤\n",
       "⎢                ⎥\n",
       "⎢0   0   -1    2 ⎥\n",
       "⎢                ⎥\n",
       "⎣0  7/2  3/2  3/2⎦"
      ]
     },
     "execution_count": 8,
     "metadata": {},
     "output_type": "execute_result"
    }
   ],
   "source": [
    "A3 = rop(A2, 'R1*(3)+R3=>R3')\n",
    "A3"
   ]
  },
  {
   "cell_type": "code",
   "execution_count": 9,
   "metadata": {
    "collapsed": false
   },
   "outputs": [
    {
     "data": {
      "text/plain": [
       "⎡1  1/2  1/2  1/2⎤\n",
       "⎢                ⎥\n",
       "⎢0  7/2  3/2  3/2⎥\n",
       "⎢                ⎥\n",
       "⎣0   0   -1    2 ⎦"
      ]
     },
     "execution_count": 9,
     "metadata": {},
     "output_type": "execute_result"
    }
   ],
   "source": [
    "A4 = rop(A3, 'R2<=>R3')\n",
    "A4"
   ]
  },
  {
   "cell_type": "code",
   "execution_count": 10,
   "metadata": {
    "collapsed": false
   },
   "outputs": [
    {
     "data": {
      "text/plain": [
       "⎡1  1/2  1/2  1/2⎤\n",
       "⎢                ⎥\n",
       "⎢0   1   3/7  3/7⎥\n",
       "⎢                ⎥\n",
       "⎣0   0   -1    2 ⎦"
      ]
     },
     "execution_count": 10,
     "metadata": {},
     "output_type": "execute_result"
    }
   ],
   "source": [
    "A5 = rop(A4, 'R2*(2/7)=>R2')\n",
    "A5"
   ]
  },
  {
   "cell_type": "code",
   "execution_count": 11,
   "metadata": {
    "collapsed": false
   },
   "outputs": [
    {
     "data": {
      "text/plain": [
       "⎡1  0  2/7  2/7⎤\n",
       "⎢              ⎥\n",
       "⎢0  1  3/7  3/7⎥\n",
       "⎢              ⎥\n",
       "⎣0  0  -1    2 ⎦"
      ]
     },
     "execution_count": 11,
     "metadata": {},
     "output_type": "execute_result"
    }
   ],
   "source": [
    "A6 = rop(A5, 'R2*(-1/2)+R1=>R1')\n",
    "A6"
   ]
  },
  {
   "cell_type": "code",
   "execution_count": 13,
   "metadata": {
    "collapsed": false
   },
   "outputs": [
    {
     "data": {
      "text/plain": [
       "⎡1  0  2/7  2/7⎤\n",
       "⎢              ⎥\n",
       "⎢0  1  3/7  3/7⎥\n",
       "⎢              ⎥\n",
       "⎣0  0   1   -2 ⎦"
      ]
     },
     "execution_count": 13,
     "metadata": {},
     "output_type": "execute_result"
    }
   ],
   "source": [
    "A7 = rop(A6, 'R3*(-1)=>R3')\n",
    "A7"
   ]
  },
  {
   "cell_type": "code",
   "execution_count": 14,
   "metadata": {
    "collapsed": false
   },
   "outputs": [
    {
     "data": {
      "text/plain": [
       "⎡1  0  0  6/7⎤\n",
       "⎢            ⎥\n",
       "⎢0  1  0  9/7⎥\n",
       "⎢            ⎥\n",
       "⎣0  0  1  -2 ⎦"
      ]
     },
     "execution_count": 14,
     "metadata": {},
     "output_type": "execute_result"
    }
   ],
   "source": [
    "A8 = rop(A7, 'R3*(-2/7)+R1=>R1', 'R3*(-3/7)+R2=>R2')\n",
    "A8"
   ]
  },
  {
   "cell_type": "markdown",
   "metadata": {},
   "source": [
    "## Example 2\n",
    "\n",
    "An example with symbolic variables on the right-hand side of the system."
   ]
  },
  {
   "cell_type": "code",
   "execution_count": 15,
   "metadata": {
    "collapsed": false
   },
   "outputs": [
    {
     "data": {
      "text/plain": [
       "⎡1   2  x⎤\n",
       "⎢        ⎥\n",
       "⎣-2  3  y⎦"
      ]
     },
     "execution_count": 15,
     "metadata": {},
     "output_type": "execute_result"
    }
   ],
   "source": [
    "x, y = symbols('x,y')\n",
    "A = matrix_to_rational([[ 1,2,x],\n",
    "                        [-2,3,y]])\n",
    "A"
   ]
  },
  {
   "cell_type": "code",
   "execution_count": 16,
   "metadata": {
    "collapsed": false
   },
   "outputs": [
    {
     "data": {
      "text/plain": [
       "⎡1  2     x   ⎤\n",
       "⎢             ⎥\n",
       "⎣0  7  2⋅x + y⎦"
      ]
     },
     "execution_count": 16,
     "metadata": {},
     "output_type": "execute_result"
    }
   ],
   "source": [
    "A1 = rop(A, 'R1*(2)+R2=>R2')\n",
    "A1"
   ]
  },
  {
   "cell_type": "code",
   "execution_count": 17,
   "metadata": {
    "collapsed": false
   },
   "outputs": [
    {
     "data": {
      "text/plain": [
       "⎡1  2     x   ⎤\n",
       "⎢             ⎥\n",
       "⎢      2⋅x   y⎥\n",
       "⎢0  1  ─── + ─⎥\n",
       "⎣       7    7⎦"
      ]
     },
     "execution_count": 17,
     "metadata": {},
     "output_type": "execute_result"
    }
   ],
   "source": [
    "A2 = rop(A1, 'R2*(1/7)=>R2')\n",
    "A2"
   ]
  },
  {
   "cell_type": "code",
   "execution_count": 18,
   "metadata": {
    "collapsed": false
   },
   "outputs": [
    {
     "data": {
      "text/plain": [
       "⎡      5⋅x   y⎤\n",
       "⎢1  1  ─── - ─⎥\n",
       "⎢       7    7⎥\n",
       "⎢             ⎥\n",
       "⎢      2⋅x   y⎥\n",
       "⎢0  1  ─── + ─⎥\n",
       "⎣       7    7⎦"
      ]
     },
     "execution_count": 18,
     "metadata": {},
     "output_type": "execute_result"
    }
   ],
   "source": [
    "A3 = rop(A2, 'R2*(-1)+R1=>R1')\n",
    "A3"
   ]
  },
  {
   "cell_type": "code",
   "execution_count": null,
   "metadata": {
    "collapsed": true
   },
   "outputs": [],
   "source": []
  }
 ],
 "metadata": {
  "kernelspec": {
   "display_name": "Python 3",
   "language": "python",
   "name": "python3"
  },
  "language_info": {
   "codemirror_mode": {
    "name": "ipython",
    "version": 3
   },
   "file_extension": ".py",
   "mimetype": "text/x-python",
   "name": "python",
   "nbconvert_exporter": "python",
   "pygments_lexer": "ipython3",
   "version": "3.5.1"
  }
 },
 "nbformat": 4,
 "nbformat_minor": 0
}
