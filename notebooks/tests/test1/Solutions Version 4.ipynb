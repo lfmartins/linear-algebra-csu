{
 "cells": [
  {
   "cell_type": "code",
   "execution_count": 2,
   "metadata": {
    "collapsed": true
   },
   "outputs": [],
   "source": [
    "from latools import *\n",
    "from sympy import *\n",
    "init_printing(use_latex=True)"
   ]
  },
  {
   "cell_type": "markdown",
   "metadata": {},
   "source": [
    "# Problem 1"
   ]
  },
  {
   "cell_type": "code",
   "execution_count": 2,
   "metadata": {
    "collapsed": false
   },
   "outputs": [
    {
     "data": {
      "image/png": "[encoded data removed]",
      "text/latex": [
       "$$\\left[\\begin{matrix}-1 & -3 & 13 & -1 & -3 & 9\\\\-3 & -3 & 15 & 2 & -3 & 2\\\\-1 & -2 & 9 & 1 & 2 & -5\\\\1 & -2 & 7 & -1 & -3 & 2\\end{matrix}\\right]$$"
      ],
      "text/plain": [
       "⎡-1  -3  13  -1  -3  9 ⎤\n",
       "⎢                      ⎥\n",
       "⎢-3  -3  15  2   -3  2 ⎥\n",
       "⎢                      ⎥\n",
       "⎢-1  -2  9   1   2   -5⎥\n",
       "⎢                      ⎥\n",
       "⎣1   -2  7   -1  -3  2 ⎦"
      ]
     },
     "execution_count": 2,
     "metadata": {},
     "output_type": "execute_result"
    }
   ],
   "source": [
    "A = matrix_to_rational([[-1, -3, 13, -1, -3,  9],\n",
    "                        [-3, -3, 15,  2, -3,  2],\n",
    "                        [-1, -2,  9,  1,  2, -5],\n",
    "                        [ 1, -2,  7, -1, -3,  2]])\n",
    "A"
   ]
  },
  {
   "cell_type": "code",
   "execution_count": 3,
   "metadata": {
    "collapsed": false
   },
   "outputs": [
    {
     "data": {
      "image/png": "[encoded data removed]",
      "text/latex": [
       "$$\\left[\\begin{matrix}1 & 3 & -13 & 1 & 3 & -9\\\\-3 & -3 & 15 & 2 & -3 & 2\\\\-1 & -2 & 9 & 1 & 2 & -5\\\\1 & -2 & 7 & -1 & -3 & 2\\end{matrix}\\right]$$"
      ],
      "text/plain": [
       "⎡1   3   -13  1   3   -9⎤\n",
       "⎢                       ⎥\n",
       "⎢-3  -3  15   2   -3  2 ⎥\n",
       "⎢                       ⎥\n",
       "⎢-1  -2   9   1   2   -5⎥\n",
       "⎢                       ⎥\n",
       "⎣1   -2   7   -1  -3  2 ⎦"
      ]
     },
     "execution_count": 3,
     "metadata": {},
     "output_type": "execute_result"
    }
   ],
   "source": [
    "A1 = rop(A, 'R1*(-1)=>R1')\n",
    "A1"
   ]
  },
  {
   "cell_type": "code",
   "execution_count": 4,
   "metadata": {
    "collapsed": false
   },
   "outputs": [
    {
     "data": {
      "image/png": "[encoded data removed]",
      "text/latex": [
       "$$\\left[\\begin{matrix}1 & 3 & -13 & 1 & 3 & -9\\\\0 & 6 & -24 & 5 & 6 & -25\\\\0 & 1 & -4 & 2 & 5 & -14\\\\0 & -5 & 20 & -2 & -6 & 11\\end{matrix}\\right]$$"
      ],
      "text/plain": [
       "⎡1  3   -13  1   3   -9 ⎤\n",
       "⎢                       ⎥\n",
       "⎢0  6   -24  5   6   -25⎥\n",
       "⎢                       ⎥\n",
       "⎢0  1   -4   2   5   -14⎥\n",
       "⎢                       ⎥\n",
       "⎣0  -5  20   -2  -6  11 ⎦"
      ]
     },
     "execution_count": 4,
     "metadata": {},
     "output_type": "execute_result"
    }
   ],
   "source": [
    "A2 = rop(A1, 'R1*(3)+R2=>R2', 'R1*(1)+R3=>R3', 'R1*(-1)+R4=>R4')\n",
    "A2"
   ]
  },
  {
   "cell_type": "code",
   "execution_count": 5,
   "metadata": {
    "collapsed": false
   },
   "outputs": [
    {
     "data": {
      "image/png": "[encoded data removed]",
      "text/latex": [
       "$$\\left[\\begin{matrix}1 & 3 & -13 & 1 & 3 & -9\\\\0 & 1 & -4 & 2 & 5 & -14\\\\0 & 6 & -24 & 5 & 6 & -25\\\\0 & -5 & 20 & -2 & -6 & 11\\end{matrix}\\right]$$"
      ],
      "text/plain": [
       "⎡1  3   -13  1   3   -9 ⎤\n",
       "⎢                       ⎥\n",
       "⎢0  1   -4   2   5   -14⎥\n",
       "⎢                       ⎥\n",
       "⎢0  6   -24  5   6   -25⎥\n",
       "⎢                       ⎥\n",
       "⎣0  -5  20   -2  -6  11 ⎦"
      ]
     },
     "execution_count": 5,
     "metadata": {},
     "output_type": "execute_result"
    }
   ],
   "source": [
    "A3 = rop(A2, 'R2<=>R3')\n",
    "A3"
   ]
  },
  {
   "cell_type": "code",
   "execution_count": 6,
   "metadata": {
    "collapsed": false
   },
   "outputs": [
    {
     "data": {
      "image/png": "[encoded data removed]",
      "text/latex": [
       "$$\\left[\\begin{matrix}1 & 0 & -1 & -5 & -12 & 33\\\\0 & 1 & -4 & 2 & 5 & -14\\\\0 & 0 & 0 & -7 & -24 & 59\\\\0 & 0 & 0 & 8 & 19 & -59\\end{matrix}\\right]$$"
      ],
      "text/plain": [
       "⎡1  0  -1  -5  -12  33 ⎤\n",
       "⎢                      ⎥\n",
       "⎢0  1  -4  2    5   -14⎥\n",
       "⎢                      ⎥\n",
       "⎢0  0  0   -7  -24  59 ⎥\n",
       "⎢                      ⎥\n",
       "⎣0  0  0   8   19   -59⎦"
      ]
     },
     "execution_count": 6,
     "metadata": {},
     "output_type": "execute_result"
    }
   ],
   "source": [
    "A4 = rop(A3, 'R2*(-3)+R1=>R1', 'R2*(-6)+R3=>R3', 'R2*(5)+R4=>R4')\n",
    "A4"
   ]
  },
  {
   "cell_type": "code",
   "execution_count": 7,
   "metadata": {
    "collapsed": false
   },
   "outputs": [
    {
     "data": {
      "image/png": "[encoded data removed]",
      "text/latex": [
       "$$\\left[\\begin{matrix}1 & 0 & -1 & -5 & -12 & 33\\\\0 & 1 & -4 & 2 & 5 & -14\\\\0 & 0 & 0 & 1 & \\frac{24}{7} & - \\frac{59}{7}\\\\0 & 0 & 0 & 8 & 19 & -59\\end{matrix}\\right]$$"
      ],
      "text/plain": [
       "⎡1  0  -1  -5  -12    33  ⎤\n",
       "⎢                         ⎥\n",
       "⎢0  1  -4  2    5     -14 ⎥\n",
       "⎢                         ⎥\n",
       "⎢0  0  0   1   24/7  -59/7⎥\n",
       "⎢                         ⎥\n",
       "⎣0  0  0   8    19    -59 ⎦"
      ]
     },
     "execution_count": 7,
     "metadata": {},
     "output_type": "execute_result"
    }
   ],
   "source": [
    "A5 = rop(A4, 'R3*(-1/7)=>R3')\n",
    "A5"
   ]
  },
  {
   "cell_type": "code",
   "execution_count": 9,
   "metadata": {
    "collapsed": false
   },
   "outputs": [
    {
     "data": {
      "image/png": "[encoded data removed]",
      "text/latex": [
       "$$\\left[\\begin{matrix}1 & 0 & -1 & 0 & \\frac{36}{7} & - \\frac{64}{7}\\\\0 & 1 & -4 & 0 & - \\frac{13}{7} & \\frac{20}{7}\\\\0 & 0 & 0 & 1 & \\frac{24}{7} & - \\frac{59}{7}\\\\0 & 0 & 0 & 0 & - \\frac{59}{7} & \\frac{59}{7}\\end{matrix}\\right]$$"
      ],
      "text/plain": [
       "⎡1  0  -1  0  36/7   -64/7⎤\n",
       "⎢                         ⎥\n",
       "⎢0  1  -4  0  -13/7  20/7 ⎥\n",
       "⎢                         ⎥\n",
       "⎢0  0  0   1  24/7   -59/7⎥\n",
       "⎢                         ⎥\n",
       "⎣0  0  0   0  -59/7  59/7 ⎦"
      ]
     },
     "execution_count": 9,
     "metadata": {},
     "output_type": "execute_result"
    }
   ],
   "source": [
    "A6 = rop(A5, 'R3*(5)+R1=>R1', 'R3*(-2)+R2=>R2', 'R3*(-8)+R4=>R4')\n",
    "A6"
   ]
  },
  {
   "cell_type": "code",
   "execution_count": 11,
   "metadata": {
    "collapsed": false
   },
   "outputs": [
    {
     "data": {
      "image/png": "[encoded data removed]",
      "text/latex": [
       "$$\\left[\\begin{matrix}1 & 0 & -1 & 0 & \\frac{36}{7} & - \\frac{64}{7}\\\\0 & 1 & -4 & 0 & - \\frac{13}{7} & \\frac{20}{7}\\\\0 & 0 & 0 & 1 & \\frac{24}{7} & - \\frac{59}{7}\\\\0 & 0 & 0 & 0 & 1 & -1\\end{matrix}\\right]$$"
      ],
      "text/plain": [
       "⎡1  0  -1  0  36/7   -64/7⎤\n",
       "⎢                         ⎥\n",
       "⎢0  1  -4  0  -13/7  20/7 ⎥\n",
       "⎢                         ⎥\n",
       "⎢0  0  0   1  24/7   -59/7⎥\n",
       "⎢                         ⎥\n",
       "⎣0  0  0   0    1     -1  ⎦"
      ]
     },
     "execution_count": 11,
     "metadata": {},
     "output_type": "execute_result"
    }
   ],
   "source": [
    "A7 = rop(A6, 'R4*(-7/59)=>R4')\n",
    "A7"
   ]
  },
  {
   "cell_type": "code",
   "execution_count": 12,
   "metadata": {
    "collapsed": false
   },
   "outputs": [
    {
     "data": {
      "image/png": "[encoded data removed]",
      "text/latex": [
       "$$\\left[\\begin{matrix}1 & 0 & -1 & 0 & 0 & -4\\\\0 & 1 & -4 & 0 & 0 & 1\\\\0 & 0 & 0 & 1 & 0 & -5\\\\0 & 0 & 0 & 0 & 1 & -1\\end{matrix}\\right]$$"
      ],
      "text/plain": [
       "⎡1  0  -1  0  0  -4⎤\n",
       "⎢                  ⎥\n",
       "⎢0  1  -4  0  0  1 ⎥\n",
       "⎢                  ⎥\n",
       "⎢0  0  0   1  0  -5⎥\n",
       "⎢                  ⎥\n",
       "⎣0  0  0   0  1  -1⎦"
      ]
     },
     "execution_count": 12,
     "metadata": {},
     "output_type": "execute_result"
    }
   ],
   "source": [
    "A8 = rop(A7, 'R4*(-24/7)+R3=>R3', 'R4*(13/7)+R2=>R2', 'R4*(-36/7)+R1=>R1')\n",
    "A8"
   ]
  },
  {
   "cell_type": "markdown",
   "metadata": {},
   "source": [
    "# Problem 2"
   ]
  },
  {
   "cell_type": "code",
   "execution_count": 18,
   "metadata": {
    "collapsed": false
   },
   "outputs": [
    {
     "data": {
      "image/png": "[encoded data removed]",
      "text/latex": [
       "$$\\left[\\begin{matrix}-1 & -1 & -1 & 1 & 0 & 0\\\\3 & -2 & -1 & 0 & 1 & 0\\\\3 & -1 & 0 & 0 & 0 & 1\\end{matrix}\\right]$$"
      ],
      "text/plain": [
       "⎡-1  -1  -1  1  0  0⎤\n",
       "⎢                   ⎥\n",
       "⎢3   -2  -1  0  1  0⎥\n",
       "⎢                   ⎥\n",
       "⎣3   -1  0   0  0  1⎦"
      ]
     },
     "execution_count": 18,
     "metadata": {},
     "output_type": "execute_result"
    }
   ],
   "source": [
    "A = matrix_to_rational([[-1, -1, -1, 1, 0, 0],\n",
    "                        [ 3, -2, -1, 0, 1, 0],\n",
    "                        [ 3, -1,  0, 0, 0, 1]])\n",
    "A"
   ]
  },
  {
   "cell_type": "code",
   "execution_count": 19,
   "metadata": {
    "collapsed": false
   },
   "outputs": [
    {
     "data": {
      "image/png": "[encoded data removed]",
      "text/latex": [
       "$$\\left[\\begin{matrix}1 & 1 & 1 & -1 & 0 & 0\\\\3 & -2 & -1 & 0 & 1 & 0\\\\3 & -1 & 0 & 0 & 0 & 1\\end{matrix}\\right]$$"
      ],
      "text/plain": [
       "⎡1  1   1   -1  0  0⎤\n",
       "⎢                   ⎥\n",
       "⎢3  -2  -1  0   1  0⎥\n",
       "⎢                   ⎥\n",
       "⎣3  -1  0   0   0  1⎦"
      ]
     },
     "execution_count": 19,
     "metadata": {},
     "output_type": "execute_result"
    }
   ],
   "source": [
    "A1 = rop(A, 'R1*(-1)=>R1')\n",
    "A1"
   ]
  },
  {
   "cell_type": "code",
   "execution_count": 20,
   "metadata": {
    "collapsed": false
   },
   "outputs": [
    {
     "data": {
      "image/png": "[encoded data removed]",
      "text/latex": [
       "$$\\left[\\begin{matrix}1 & 1 & 1 & -1 & 0 & 0\\\\0 & -5 & -4 & 3 & 1 & 0\\\\0 & -4 & -3 & 3 & 0 & 1\\end{matrix}\\right]$$"
      ],
      "text/plain": [
       "⎡1  1   1   -1  0  0⎤\n",
       "⎢                   ⎥\n",
       "⎢0  -5  -4  3   1  0⎥\n",
       "⎢                   ⎥\n",
       "⎣0  -4  -3  3   0  1⎦"
      ]
     },
     "execution_count": 20,
     "metadata": {},
     "output_type": "execute_result"
    }
   ],
   "source": [
    "A2 = rop(A1, 'R1*(-3)+R2=>R2', 'R1*(-3)+R3=>R3')\n",
    "A2"
   ]
  },
  {
   "cell_type": "code",
   "execution_count": 21,
   "metadata": {
    "collapsed": false
   },
   "outputs": [
    {
     "data": {
      "image/png": "[encoded data removed]",
      "text/latex": [
       "$$\\left[\\begin{matrix}1 & 1 & 1 & -1 & 0 & 0\\\\0 & 1 & \\frac{4}{5} & - \\frac{3}{5} & - \\frac{1}{5} & 0\\\\0 & -4 & -3 & 3 & 0 & 1\\end{matrix}\\right]$$"
      ],
      "text/plain": [
       "⎡1  1    1    -1    0    0⎤\n",
       "⎢                         ⎥\n",
       "⎢0  1   4/5  -3/5  -1/5  0⎥\n",
       "⎢                         ⎥\n",
       "⎣0  -4  -3    3     0    1⎦"
      ]
     },
     "execution_count": 21,
     "metadata": {},
     "output_type": "execute_result"
    }
   ],
   "source": [
    "A3 = rop(A2, 'R2*(-1/5)=>R2')\n",
    "A3"
   ]
  },
  {
   "cell_type": "code",
   "execution_count": 22,
   "metadata": {
    "collapsed": false
   },
   "outputs": [
    {
     "data": {
      "image/png": "[encoded data removed]",
      "text/latex": [
       "$$\\left[\\begin{matrix}1 & 0 & \\frac{1}{5} & - \\frac{2}{5} & \\frac{1}{5} & 0\\\\0 & 1 & \\frac{4}{5} & - \\frac{3}{5} & - \\frac{1}{5} & 0\\\\0 & 0 & \\frac{1}{5} & \\frac{3}{5} & - \\frac{4}{5} & 1\\end{matrix}\\right]$$"
      ],
      "text/plain": [
       "⎡1  0  1/5  -2/5  1/5   0⎤\n",
       "⎢                        ⎥\n",
       "⎢0  1  4/5  -3/5  -1/5  0⎥\n",
       "⎢                        ⎥\n",
       "⎣0  0  1/5  3/5   -4/5  1⎦"
      ]
     },
     "execution_count": 22,
     "metadata": {},
     "output_type": "execute_result"
    }
   ],
   "source": [
    "A4 = rop(A3, 'R2*(-1)+R1=>R1', 'R2*(4)+R3=>R3')\n",
    "A4"
   ]
  },
  {
   "cell_type": "code",
   "execution_count": 23,
   "metadata": {
    "collapsed": false
   },
   "outputs": [
    {
     "data": {
      "image/png": "[encoded data removed]",
      "text/latex": [
       "$$\\left[\\begin{matrix}1 & 0 & \\frac{1}{5} & - \\frac{2}{5} & \\frac{1}{5} & 0\\\\0 & 1 & \\frac{4}{5} & - \\frac{3}{5} & - \\frac{1}{5} & 0\\\\0 & 0 & 1 & 3 & -4 & 5\\end{matrix}\\right]$$"
      ],
      "text/plain": [
       "⎡1  0  1/5  -2/5  1/5   0⎤\n",
       "⎢                        ⎥\n",
       "⎢0  1  4/5  -3/5  -1/5  0⎥\n",
       "⎢                        ⎥\n",
       "⎣0  0   1    3     -4   5⎦"
      ]
     },
     "execution_count": 23,
     "metadata": {},
     "output_type": "execute_result"
    }
   ],
   "source": [
    "A5 = rop(A4, 'R3*(5)=>R3')\n",
    "A5"
   ]
  },
  {
   "cell_type": "code",
   "execution_count": 24,
   "metadata": {
    "collapsed": false
   },
   "outputs": [
    {
     "data": {
      "image/png": "[encoded data removed]",
      "text/latex": [
       "$$\\left[\\begin{matrix}1 & 0 & 0 & -1 & 1 & -1\\\\0 & 1 & 0 & -3 & 3 & -4\\\\0 & 0 & 1 & 3 & -4 & 5\\end{matrix}\\right]$$"
      ],
      "text/plain": [
       "⎡1  0  0  -1  1   -1⎤\n",
       "⎢                   ⎥\n",
       "⎢0  1  0  -3  3   -4⎥\n",
       "⎢                   ⎥\n",
       "⎣0  0  1  3   -4  5 ⎦"
      ]
     },
     "execution_count": 24,
     "metadata": {},
     "output_type": "execute_result"
    }
   ],
   "source": [
    "A6 = rop(A5, 'R3*(-1/5)+R1=>R1', 'R3*(-4/5)+R2=>R2')\n",
    "A6"
   ]
  },
  {
   "cell_type": "markdown",
   "metadata": {},
   "source": [
    "# Problem 4"
   ]
  },
  {
   "cell_type": "code",
   "execution_count": 23,
   "metadata": {
    "collapsed": false
   },
   "outputs": [
    {
     "data": {
      "image/png": "[encoded data removed]",
      "text/latex": [
       "$$\\left[\\begin{matrix}4 & 7 & x\\\\-3 & -5 & y\\end{matrix}\\right]$$"
      ],
      "text/plain": [
       "⎡4   7   x⎤\n",
       "⎢         ⎥\n",
       "⎣-3  -5  y⎦"
      ]
     },
     "execution_count": 23,
     "metadata": {},
     "output_type": "execute_result"
    }
   ],
   "source": [
    "x, y = symbols('x,y')\n",
    "A = matrix_to_rational([[4, 7, x],[-3,-5,y]])\n",
    "A"
   ]
  },
  {
   "cell_type": "code",
   "execution_count": 24,
   "metadata": {
    "collapsed": false
   },
   "outputs": [
    {
     "data": {
      "image/png": "[encoded data removed]",
      "text/latex": [
       "$$\\left[\\begin{matrix}1 & \\frac{7}{4} & \\frac{x}{4}\\\\-3 & -5 & y\\end{matrix}\\right]$$"
      ],
      "text/plain": [
       "⎡         x⎤\n",
       "⎢1   7/4  ─⎥\n",
       "⎢         4⎥\n",
       "⎢          ⎥\n",
       "⎣-3  -5   y⎦"
      ]
     },
     "execution_count": 24,
     "metadata": {},
     "output_type": "execute_result"
    }
   ],
   "source": [
    "A1 = rop(A, 'R1*(1/4)=>R1')\n",
    "A1"
   ]
  },
  {
   "cell_type": "code",
   "execution_count": 25,
   "metadata": {
    "collapsed": false
   },
   "outputs": [
    {
     "data": {
      "image/png": "[encoded data removed]",
      "text/latex": [
       "$$\\left[\\begin{matrix}1 & \\frac{7}{4} & \\frac{x}{4}\\\\0 & \\frac{1}{4} & \\frac{3 x}{4} + y\\end{matrix}\\right]$$"
      ],
      "text/plain": [
       "⎡           x   ⎤\n",
       "⎢1  7/4     ─   ⎥\n",
       "⎢           4   ⎥\n",
       "⎢               ⎥\n",
       "⎢        3⋅x    ⎥\n",
       "⎢0  1/4  ─── + y⎥\n",
       "⎣         4     ⎦"
      ]
     },
     "execution_count": 25,
     "metadata": {},
     "output_type": "execute_result"
    }
   ],
   "source": [
    "A2 = rop(A1, 'R1*(3)+R2=>R2')\n",
    "A2"
   ]
  },
  {
   "cell_type": "code",
   "execution_count": 26,
   "metadata": {
    "collapsed": false
   },
   "outputs": [
    {
     "data": {
      "image/png": "[encoded data removed]",
      "text/latex": [
       "$$\\left[\\begin{matrix}1 & \\frac{7}{4} & \\frac{x}{4}\\\\0 & 1 & 3 x + 4 y\\end{matrix}\\right]$$"
      ],
      "text/plain": [
       "⎡            x    ⎤\n",
       "⎢1  7/4      ─    ⎥\n",
       "⎢            4    ⎥\n",
       "⎢                 ⎥\n",
       "⎣0   1   3⋅x + 4⋅y⎦"
      ]
     },
     "execution_count": 26,
     "metadata": {},
     "output_type": "execute_result"
    }
   ],
   "source": [
    "A3 = rop(A2, 'R2*(4)=>R2')\n",
    "A3"
   ]
  },
  {
   "cell_type": "code",
   "execution_count": 27,
   "metadata": {
    "collapsed": false
   },
   "outputs": [
    {
     "data": {
      "image/png": "[encoded data removed]",
      "text/latex": [
       "$$\\left[\\begin{matrix}1 & 0 & - 5 x - 7 y\\\\0 & 1 & 3 x + 4 y\\end{matrix}\\right]$$"
      ],
      "text/plain": [
       "⎡1  0  -5⋅x - 7⋅y⎤\n",
       "⎢                ⎥\n",
       "⎣0  1  3⋅x + 4⋅y ⎦"
      ]
     },
     "execution_count": 27,
     "metadata": {},
     "output_type": "execute_result"
    }
   ],
   "source": [
    "A4 = rop(A3, 'R2*(-7/4)+R1=>R1')\n",
    "A4"
   ]
  },
  {
   "cell_type": "code",
   "execution_count": 28,
   "metadata": {
    "collapsed": false
   },
   "outputs": [
    {
     "data": {
      "image/png": "[encoded data removed]",
      "text/latex": [
       "$$-11$$"
      ],
      "text/plain": [
       "-11"
      ]
     },
     "execution_count": 28,
     "metadata": {},
     "output_type": "execute_result"
    }
   ],
   "source": [
    "-5*5+-7*-2"
   ]
  },
  {
   "cell_type": "code",
   "execution_count": 29,
   "metadata": {
    "collapsed": false
   },
   "outputs": [
    {
     "data": {
      "image/png": "[encoded data removed]",
      "text/latex": [
       "$$7$$"
      ],
      "text/plain": [
       "7"
      ]
     },
     "execution_count": 29,
     "metadata": {},
     "output_type": "execute_result"
    }
   ],
   "source": [
    "3*5+4*-2"
   ]
  },
  {
   "cell_type": "code",
   "execution_count": 30,
   "metadata": {
    "collapsed": false
   },
   "outputs": [
    {
     "data": {
      "image/png": "[encoded data removed]",
      "text/latex": [
       "$$82$$"
      ],
      "text/plain": [
       "82"
      ]
     },
     "execution_count": 30,
     "metadata": {},
     "output_type": "execute_result"
    }
   ],
   "source": [
    "-11*-3+7*7"
   ]
  },
  {
   "cell_type": "code",
   "execution_count": 31,
   "metadata": {
    "collapsed": false
   },
   "outputs": [
    {
     "data": {
      "image/png": "[encoded data removed]",
      "text/latex": [
       "$$-2$$"
      ],
      "text/plain": [
       "-2"
      ]
     },
     "execution_count": 31,
     "metadata": {},
     "output_type": "execute_result"
    }
   ],
   "source": [
    "-11*4+7*6"
   ]
  },
  {
   "cell_type": "code",
   "execution_count": 32,
   "metadata": {
    "collapsed": false
   },
   "outputs": [
    {
     "data": {
      "image/png": "[encoded data removed]",
      "text/latex": [
       "$$\\left[\\begin{matrix}-5 & -7\\\\3 & 4\\end{matrix}\\right]$$"
      ],
      "text/plain": [
       "⎡-5  -7⎤\n",
       "⎢      ⎥\n",
       "⎣3   4 ⎦"
      ]
     },
     "execution_count": 32,
     "metadata": {},
     "output_type": "execute_result"
    }
   ],
   "source": [
    "P = Matrix([[-5, -7],[3, 4]])\n",
    "P"
   ]
  },
  {
   "cell_type": "code",
   "execution_count": 36,
   "metadata": {
    "collapsed": false
   },
   "outputs": [
    {
     "data": {
      "image/png": "[encoded data removed]",
      "text/latex": [
       "$$\\left[\\begin{matrix}5\\\\-2\\end{matrix}\\right]$$"
      ],
      "text/plain": [
       "⎡5 ⎤\n",
       "⎢  ⎥\n",
       "⎣-2⎦"
      ]
     },
     "execution_count": 36,
     "metadata": {},
     "output_type": "execute_result"
    }
   ],
   "source": [
    "v = Matrix([5,-2])\n",
    "v"
   ]
  },
  {
   "cell_type": "code",
   "execution_count": 37,
   "metadata": {
    "collapsed": false
   },
   "outputs": [
    {
     "data": {
      "image/png": "[encoded data removed]",
      "text/latex": [
       "$$\\left[\\begin{matrix}-11\\\\7\\end{matrix}\\right]$$"
      ],
      "text/plain": [
       "⎡-11⎤\n",
       "⎢   ⎥\n",
       "⎣ 7 ⎦"
      ]
     },
     "execution_count": 37,
     "metadata": {},
     "output_type": "execute_result"
    }
   ],
   "source": [
    "P*v"
   ]
  },
  {
   "cell_type": "code",
   "execution_count": 38,
   "metadata": {
    "collapsed": false
   },
   "outputs": [
    {
     "data": {
      "image/png": "[encoded data removed]",
      "text/latex": [
       "$$\\left[\\begin{matrix}-3 & 7\\\\4 & 6\\end{matrix}\\right]$$"
      ],
      "text/plain": [
       "⎡-3  7⎤\n",
       "⎢     ⎥\n",
       "⎣4   6⎦"
      ]
     },
     "execution_count": 38,
     "metadata": {},
     "output_type": "execute_result"
    }
   ],
   "source": [
    "M = Matrix([[-3,7],[4,6]])\n",
    "M"
   ]
  },
  {
   "cell_type": "code",
   "execution_count": 39,
   "metadata": {
    "collapsed": false
   },
   "outputs": [
    {
     "data": {
      "image/png": "[encoded data removed]",
      "text/latex": [
       "$$\\left[\\begin{matrix}82\\\\-2\\end{matrix}\\right]$$"
      ],
      "text/plain": [
       "⎡82⎤\n",
       "⎢  ⎥\n",
       "⎣-2⎦"
      ]
     },
     "execution_count": 39,
     "metadata": {},
     "output_type": "execute_result"
    }
   ],
   "source": [
    "M*P*v"
   ]
  },
  {
   "cell_type": "code",
   "execution_count": null,
   "metadata": {
    "collapsed": true
   },
   "outputs": [],
   "source": []
  },
  {
   "cell_type": "code",
   "execution_count": null,
   "metadata": {
    "collapsed": true
   },
   "outputs": [],
   "source": []
  },
  {
   "cell_type": "code",
   "execution_count": null,
   "metadata": {
    "collapsed": true
   },
   "outputs": [],
   "source": []
  },
  {
   "cell_type": "code",
   "execution_count": null,
   "metadata": {
    "collapsed": true
   },
   "outputs": [],
   "source": []
  },
  {
   "cell_type": "code",
   "execution_count": null,
   "metadata": {
    "collapsed": true
   },
   "outputs": [],
   "source": []
  },
  {
   "cell_type": "code",
   "execution_count": null,
   "metadata": {
    "collapsed": true
   },
   "outputs": [],
   "source": []
  }
 ],
 "metadata": {
  "kernelspec": {
   "display_name": "Python 3",
   "language": "python",
   "name": "python3"
  },
  "language_info": {
   "codemirror_mode": {
    "name": "ipython",
    "version": 3
   },
   "file_extension": ".py",
   "mimetype": "text/x-python",
   "name": "python",
   "nbconvert_exporter": "python",
   "pygments_lexer": "ipython3",
   "version": "3.5.1"
  }
 },
 "nbformat": 4,
 "nbformat_minor": 0
}
