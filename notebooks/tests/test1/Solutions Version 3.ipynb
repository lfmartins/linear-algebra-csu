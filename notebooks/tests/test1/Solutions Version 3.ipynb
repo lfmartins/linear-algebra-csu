{
 "cells": [
  {
   "cell_type": "code",
   "execution_count": 1,
   "metadata": {
    "collapsed": true
   },
   "outputs": [],
   "source": [
    "from latools import *\n",
    "from sympy import *\n",
    "init_printing(use_latex=True)"
   ]
  },
  {
   "cell_type": "code",
   "execution_count": 2,
   "metadata": {
    "collapsed": false
   },
   "outputs": [
    {
     "data": {
      "image/png": "[encoded data removed]",
      "text/latex": [
       "$$\\left[\\begin{matrix}-2 & -6 & -2 & -2 & 0 & -8\\\\-1 & -3 & -3 & -3 & -6 & -10\\\\-1 & -3 & 2 & -1 & 9 & 8\\\\1 & 3 & 0 & 2 & -3 & -1\\end{matrix}\\right]$$"
      ],
      "text/plain": [
       "⎡-2  -6  -2  -2  0   -8 ⎤\n",
       "⎢                       ⎥\n",
       "⎢-1  -3  -3  -3  -6  -10⎥\n",
       "⎢                       ⎥\n",
       "⎢-1  -3  2   -1  9    8 ⎥\n",
       "⎢                       ⎥\n",
       "⎣1   3   0   2   -3  -1 ⎦"
      ]
     },
     "execution_count": 2,
     "metadata": {},
     "output_type": "execute_result"
    }
   ],
   "source": [
    "A = matrix_to_rational([[-2, -6, -2, -2,  0,  -8],\n",
    "                        [-1, -3, -3, -3, -6, -10],\n",
    "                        [-1, -3,  2, -1,  9,   8],\n",
    "                        [ 1,  3,  0,  2, -3,  -1]])\n",
    "A"
   ]
  },
  {
   "cell_type": "code",
   "execution_count": 3,
   "metadata": {
    "collapsed": false
   },
   "outputs": [
    {
     "data": {
      "image/png": "[encoded data removed]",
      "text/latex": [
       "$$\\left[\\begin{matrix}1 & 3 & 1 & 1 & 0 & 4\\\\-1 & -3 & -3 & -3 & -6 & -10\\\\-1 & -3 & 2 & -1 & 9 & 8\\\\1 & 3 & 0 & 2 & -3 & -1\\end{matrix}\\right]$$"
      ],
      "text/plain": [
       "⎡1   3   1   1   0    4 ⎤\n",
       "⎢                       ⎥\n",
       "⎢-1  -3  -3  -3  -6  -10⎥\n",
       "⎢                       ⎥\n",
       "⎢-1  -3  2   -1  9    8 ⎥\n",
       "⎢                       ⎥\n",
       "⎣1   3   0   2   -3  -1 ⎦"
      ]
     },
     "execution_count": 3,
     "metadata": {},
     "output_type": "execute_result"
    }
   ],
   "source": [
    "A1 = rop(A, 'R1*(-1/2)=>R1')\n",
    "A1"
   ]
  },
  {
   "cell_type": "code",
   "execution_count": 4,
   "metadata": {
    "collapsed": false
   },
   "outputs": [
    {
     "data": {
      "image/png": "[encoded data removed]",
      "text/latex": [
       "$$\\left[\\begin{matrix}1 & 3 & 1 & 1 & 0 & 4\\\\0 & 0 & -2 & -2 & -6 & -6\\\\0 & 0 & 3 & 0 & 9 & 12\\\\0 & 0 & -1 & 1 & -3 & -5\\end{matrix}\\right]$$"
      ],
      "text/plain": [
       "⎡1  3  1   1   0   4 ⎤\n",
       "⎢                    ⎥\n",
       "⎢0  0  -2  -2  -6  -6⎥\n",
       "⎢                    ⎥\n",
       "⎢0  0  3   0   9   12⎥\n",
       "⎢                    ⎥\n",
       "⎣0  0  -1  1   -3  -5⎦"
      ]
     },
     "execution_count": 4,
     "metadata": {},
     "output_type": "execute_result"
    }
   ],
   "source": [
    "A2 = rop(A1, 'R1*(1)+R2=>R2', 'R1*(1)+R3=>R3', 'R1*(-1)+R4=>R4')\n",
    "A2"
   ]
  },
  {
   "cell_type": "code",
   "execution_count": 5,
   "metadata": {
    "collapsed": false
   },
   "outputs": [
    {
     "data": {
      "image/png": "[encoded data removed]",
      "text/latex": [
       "$$\\left[\\begin{matrix}1 & 3 & 1 & 1 & 0 & 4\\\\0 & 0 & 1 & 1 & 3 & 3\\\\0 & 0 & 3 & 0 & 9 & 12\\\\0 & 0 & -1 & 1 & -3 & -5\\end{matrix}\\right]$$"
      ],
      "text/plain": [
       "⎡1  3  1   1  0   4 ⎤\n",
       "⎢                   ⎥\n",
       "⎢0  0  1   1  3   3 ⎥\n",
       "⎢                   ⎥\n",
       "⎢0  0  3   0  9   12⎥\n",
       "⎢                   ⎥\n",
       "⎣0  0  -1  1  -3  -5⎦"
      ]
     },
     "execution_count": 5,
     "metadata": {},
     "output_type": "execute_result"
    }
   ],
   "source": [
    "A3 = rop(A2, 'R2*(-1/2)=>R2')\n",
    "A3"
   ]
  },
  {
   "cell_type": "code",
   "execution_count": 7,
   "metadata": {
    "collapsed": false
   },
   "outputs": [
    {
     "data": {
      "image/png": "[encoded data removed]",
      "text/latex": [
       "$$\\left[\\begin{matrix}1 & 3 & 0 & 0 & -3 & 1\\\\0 & 0 & 1 & 1 & 3 & 3\\\\0 & 0 & 0 & -3 & 0 & 3\\\\0 & 0 & 0 & 2 & 0 & -2\\end{matrix}\\right]$$"
      ],
      "text/plain": [
       "⎡1  3  0  0   -3  1 ⎤\n",
       "⎢                   ⎥\n",
       "⎢0  0  1  1   3   3 ⎥\n",
       "⎢                   ⎥\n",
       "⎢0  0  0  -3  0   3 ⎥\n",
       "⎢                   ⎥\n",
       "⎣0  0  0  2   0   -2⎦"
      ]
     },
     "execution_count": 7,
     "metadata": {},
     "output_type": "execute_result"
    }
   ],
   "source": [
    "A4 = rop(A3, 'R2*(-1)+R1=>R1', 'R2*(-3)+R3=>R3', 'R2*(1)+R4=>R4')\n",
    "A4"
   ]
  },
  {
   "cell_type": "code",
   "execution_count": 8,
   "metadata": {
    "collapsed": false
   },
   "outputs": [
    {
     "data": {
      "image/png": "[encoded data removed]",
      "text/latex": [
       "$$\\left[\\begin{matrix}1 & 3 & 0 & 0 & -3 & 1\\\\0 & 0 & 1 & 1 & 3 & 3\\\\0 & 0 & 0 & 1 & 0 & -1\\\\0 & 0 & 0 & 2 & 0 & -2\\end{matrix}\\right]$$"
      ],
      "text/plain": [
       "⎡1  3  0  0  -3  1 ⎤\n",
       "⎢                  ⎥\n",
       "⎢0  0  1  1  3   3 ⎥\n",
       "⎢                  ⎥\n",
       "⎢0  0  0  1  0   -1⎥\n",
       "⎢                  ⎥\n",
       "⎣0  0  0  2  0   -2⎦"
      ]
     },
     "execution_count": 8,
     "metadata": {},
     "output_type": "execute_result"
    }
   ],
   "source": [
    "A5 = rop(A4, 'R3*(-1/3)=>R3')\n",
    "A5"
   ]
  },
  {
   "cell_type": "code",
   "execution_count": 9,
   "metadata": {
    "collapsed": false
   },
   "outputs": [
    {
     "data": {
      "image/png": "[encoded data removed]",
      "text/latex": [
       "$$\\left[\\begin{matrix}1 & 3 & 0 & 0 & -3 & 1\\\\0 & 0 & 1 & 0 & 3 & 4\\\\0 & 0 & 0 & 1 & 0 & -1\\\\0 & 0 & 0 & 0 & 0 & 0\\end{matrix}\\right]$$"
      ],
      "text/plain": [
       "⎡1  3  0  0  -3  1 ⎤\n",
       "⎢                  ⎥\n",
       "⎢0  0  1  0  3   4 ⎥\n",
       "⎢                  ⎥\n",
       "⎢0  0  0  1  0   -1⎥\n",
       "⎢                  ⎥\n",
       "⎣0  0  0  0  0   0 ⎦"
      ]
     },
     "execution_count": 9,
     "metadata": {},
     "output_type": "execute_result"
    }
   ],
   "source": [
    "A6 = rop(A5, 'R3*(-1)+R2=>R2', 'R3*(-2)+R4=>R4')\n",
    "A6"
   ]
  },
  {
   "cell_type": "markdown",
   "metadata": {},
   "source": [
    "# Problem 2"
   ]
  },
  {
   "cell_type": "code",
   "execution_count": 10,
   "metadata": {
    "collapsed": false
   },
   "outputs": [
    {
     "data": {
      "image/png": "[encoded data removed]",
      "text/latex": [
       "$$\\left[\\begin{matrix}1 & -1 & -1 & 1 & 0 & 0\\\\3 & -2 & -5 & 0 & 1 & 0\\\\-1 & 1 & 2 & 0 & 0 & 1\\end{matrix}\\right]$$"
      ],
      "text/plain": [
       "⎡1   -1  -1  1  0  0⎤\n",
       "⎢                   ⎥\n",
       "⎢3   -2  -5  0  1  0⎥\n",
       "⎢                   ⎥\n",
       "⎣-1  1   2   0  0  1⎦"
      ]
     },
     "execution_count": 10,
     "metadata": {},
     "output_type": "execute_result"
    }
   ],
   "source": [
    "A = matrix_to_rational([[ 1, -1, -1, 1, 0, 0],\n",
    "                        [ 3, -2, -5, 0, 1, 0],\n",
    "                        [-1,  1,  2, 0, 0, 1]])\n",
    "A"
   ]
  },
  {
   "cell_type": "code",
   "execution_count": 11,
   "metadata": {
    "collapsed": false
   },
   "outputs": [
    {
     "data": {
      "image/png": "[encoded data removed]",
      "text/latex": [
       "$$\\left[\\begin{matrix}1 & -1 & -1 & 1 & 0 & 0\\\\0 & 1 & -2 & -3 & 1 & 0\\\\0 & 0 & 1 & 1 & 0 & 1\\end{matrix}\\right]$$"
      ],
      "text/plain": [
       "⎡1  -1  -1  1   0  0⎤\n",
       "⎢                   ⎥\n",
       "⎢0  1   -2  -3  1  0⎥\n",
       "⎢                   ⎥\n",
       "⎣0  0   1   1   0  1⎦"
      ]
     },
     "execution_count": 11,
     "metadata": {},
     "output_type": "execute_result"
    }
   ],
   "source": [
    "A1 = rop(A, 'R1*(-3)+R2=>R2', 'R1*(1)+R3=>R3')\n",
    "A1"
   ]
  },
  {
   "cell_type": "code",
   "execution_count": 12,
   "metadata": {
    "collapsed": false
   },
   "outputs": [
    {
     "data": {
      "image/png": "[encoded data removed]",
      "text/latex": [
       "$$\\left[\\begin{matrix}1 & 0 & -3 & -2 & 1 & 0\\\\0 & 1 & -2 & -3 & 1 & 0\\\\0 & 0 & 1 & 1 & 0 & 1\\end{matrix}\\right]$$"
      ],
      "text/plain": [
       "⎡1  0  -3  -2  1  0⎤\n",
       "⎢                  ⎥\n",
       "⎢0  1  -2  -3  1  0⎥\n",
       "⎢                  ⎥\n",
       "⎣0  0  1   1   0  1⎦"
      ]
     },
     "execution_count": 12,
     "metadata": {},
     "output_type": "execute_result"
    }
   ],
   "source": [
    "A2 = rop(A1, 'R2*(1)+R1=>R1')\n",
    "A2"
   ]
  },
  {
   "cell_type": "code",
   "execution_count": 13,
   "metadata": {
    "collapsed": false
   },
   "outputs": [
    {
     "data": {
      "image/png": "[encoded data removed]",
      "text/latex": [
       "$$\\left[\\begin{matrix}1 & 0 & 0 & 1 & 1 & 3\\\\0 & 1 & 0 & -1 & 1 & 2\\\\0 & 0 & 1 & 1 & 0 & 1\\end{matrix}\\right]$$"
      ],
      "text/plain": [
       "⎡1  0  0  1   1  3⎤\n",
       "⎢                 ⎥\n",
       "⎢0  1  0  -1  1  2⎥\n",
       "⎢                 ⎥\n",
       "⎣0  0  1  1   0  1⎦"
      ]
     },
     "execution_count": 13,
     "metadata": {},
     "output_type": "execute_result"
    }
   ],
   "source": [
    "A3 = rop(A2, 'R3*(3)+R1=>R1', 'R3*(2)+R2=>R2')\n",
    "A3"
   ]
  },
  {
   "cell_type": "markdown",
   "metadata": {},
   "source": [
    "# Problem 4"
   ]
  },
  {
   "cell_type": "code",
   "execution_count": 15,
   "metadata": {
    "collapsed": false
   },
   "outputs": [
    {
     "data": {
      "image/png": "[encoded data removed]",
      "text/latex": [
       "$$\\left[\\begin{matrix}-4 & 5 & x\\\\-3 & 4 & y\\end{matrix}\\right]$$"
      ],
      "text/plain": [
       "⎡-4  5  x⎤\n",
       "⎢        ⎥\n",
       "⎣-3  4  y⎦"
      ]
     },
     "execution_count": 15,
     "metadata": {},
     "output_type": "execute_result"
    }
   ],
   "source": [
    "x, y = symbols('x,y')\n",
    "A = matrix_to_rational([[-4, 5, x],\n",
    "                        [-3, 4, y]])\n",
    "A"
   ]
  },
  {
   "cell_type": "code",
   "execution_count": 16,
   "metadata": {
    "collapsed": false
   },
   "outputs": [
    {
     "data": {
      "image/png": "[encoded data removed]",
      "text/latex": [
       "$$\\left[\\begin{matrix}1 & - \\frac{5}{4} & - \\frac{x}{4}\\\\-3 & 4 & y\\end{matrix}\\right]$$"
      ],
      "text/plain": [
       "⎡          -x ⎤\n",
       "⎢1   -5/4  ───⎥\n",
       "⎢           4 ⎥\n",
       "⎢             ⎥\n",
       "⎣-3   4     y ⎦"
      ]
     },
     "execution_count": 16,
     "metadata": {},
     "output_type": "execute_result"
    }
   ],
   "source": [
    "A1 = rop(A, 'R1*(-1/4)=>R1')\n",
    "A1"
   ]
  },
  {
   "cell_type": "code",
   "execution_count": 17,
   "metadata": {
    "collapsed": false
   },
   "outputs": [
    {
     "data": {
      "image/png": "[encoded data removed]",
      "text/latex": [
       "$$\\left[\\begin{matrix}1 & - \\frac{5}{4} & - \\frac{x}{4}\\\\0 & \\frac{1}{4} & - \\frac{3 x}{4} + y\\end{matrix}\\right]$$"
      ],
      "text/plain": [
       "⎡            -x    ⎤\n",
       "⎢1  -5/4     ───   ⎥\n",
       "⎢             4    ⎥\n",
       "⎢                  ⎥\n",
       "⎢           3⋅x    ⎥\n",
       "⎢0  1/4   - ─── + y⎥\n",
       "⎣            4     ⎦"
      ]
     },
     "execution_count": 17,
     "metadata": {},
     "output_type": "execute_result"
    }
   ],
   "source": [
    "A2 = rop(A1, 'R1*(3)+R2=>R2')\n",
    "A2"
   ]
  },
  {
   "cell_type": "code",
   "execution_count": 18,
   "metadata": {
    "collapsed": false
   },
   "outputs": [
    {
     "data": {
      "image/png": "[encoded data removed]",
      "text/latex": [
       "$$\\left[\\begin{matrix}1 & - \\frac{5}{4} & - \\frac{x}{4}\\\\0 & 1 & - 3 x + 4 y\\end{matrix}\\right]$$"
      ],
      "text/plain": [
       "⎡            -x     ⎤\n",
       "⎢1  -5/4     ───    ⎥\n",
       "⎢             4     ⎥\n",
       "⎢                   ⎥\n",
       "⎣0   1    -3⋅x + 4⋅y⎦"
      ]
     },
     "execution_count": 18,
     "metadata": {},
     "output_type": "execute_result"
    }
   ],
   "source": [
    "A3 = rop(A2, 'R2*(4)=>R2')\n",
    "A3"
   ]
  },
  {
   "cell_type": "code",
   "execution_count": 19,
   "metadata": {
    "collapsed": false
   },
   "outputs": [
    {
     "data": {
      "image/png": "[encoded data removed]",
      "text/latex": [
       "$$\\left[\\begin{matrix}1 & 0 & - 4 x + 5 y\\\\0 & 1 & - 3 x + 4 y\\end{matrix}\\right]$$"
      ],
      "text/plain": [
       "⎡1  0  -4⋅x + 5⋅y⎤\n",
       "⎢                ⎥\n",
       "⎣0  1  -3⋅x + 4⋅y⎦"
      ]
     },
     "execution_count": 19,
     "metadata": {},
     "output_type": "execute_result"
    }
   ],
   "source": [
    "A4 = rop(A3, 'R2*(5/4)+R1=>R1')\n",
    "A4"
   ]
  },
  {
   "cell_type": "code",
   "execution_count": 20,
   "metadata": {
    "collapsed": false
   },
   "outputs": [
    {
     "data": {
      "image/png": "[encoded data removed]",
      "text/latex": [
       "$$-30$$"
      ],
      "text/plain": [
       "-30"
      ]
     },
     "execution_count": 20,
     "metadata": {},
     "output_type": "execute_result"
    }
   ],
   "source": [
    "-4*5+5*-2"
   ]
  },
  {
   "cell_type": "code",
   "execution_count": 21,
   "metadata": {
    "collapsed": false
   },
   "outputs": [
    {
     "data": {
      "image/png": "[encoded data removed]",
      "text/latex": [
       "$$-23$$"
      ],
      "text/plain": [
       "-23"
      ]
     },
     "execution_count": 21,
     "metadata": {},
     "output_type": "execute_result"
    }
   ],
   "source": [
    "-3*5 + 4*-2"
   ]
  },
  {
   "cell_type": "code",
   "execution_count": 22,
   "metadata": {
    "collapsed": false
   },
   "outputs": [
    {
     "data": {
      "image/png": "[encoded data removed]",
      "text/latex": [
       "$$194$$"
      ],
      "text/plain": [
       "194"
      ]
     },
     "execution_count": 22,
     "metadata": {},
     "output_type": "execute_result"
    }
   ],
   "source": [
    "-30*-8+(-23)*2"
   ]
  },
  {
   "cell_type": "code",
   "execution_count": 30,
   "metadata": {
    "collapsed": false
   },
   "outputs": [
    {
     "data": {
      "image/png": "[encoded data removed]",
      "text/latex": [
       "$$4$$"
      ],
      "text/plain": [
       "4"
      ]
     },
     "execution_count": 30,
     "metadata": {},
     "output_type": "execute_result"
    }
   ],
   "source": [
    "-30*6+(-23)*-8"
   ]
  },
  {
   "cell_type": "code",
   "execution_count": 24,
   "metadata": {
    "collapsed": false
   },
   "outputs": [
    {
     "data": {
      "image/png": "[encoded data removed]",
      "text/latex": [
       "$$\\left[\\begin{matrix}-4 & 5\\\\-3 & 4\\end{matrix}\\right]$$"
      ],
      "text/plain": [
       "⎡-4  5⎤\n",
       "⎢     ⎥\n",
       "⎣-3  4⎦"
      ]
     },
     "execution_count": 24,
     "metadata": {},
     "output_type": "execute_result"
    }
   ],
   "source": [
    "P = Matrix([[-4, 5],[-3,4]])\n",
    "P"
   ]
  },
  {
   "cell_type": "code",
   "execution_count": 26,
   "metadata": {
    "collapsed": false
   },
   "outputs": [
    {
     "data": {
      "image/png": "[encoded data removed]",
      "text/latex": [
       "$$\\left[\\begin{matrix}5\\\\-2\\end{matrix}\\right]$$"
      ],
      "text/plain": [
       "⎡5 ⎤\n",
       "⎢  ⎥\n",
       "⎣-2⎦"
      ]
     },
     "execution_count": 26,
     "metadata": {},
     "output_type": "execute_result"
    }
   ],
   "source": [
    "v = Matrix([5,-2])\n",
    "v"
   ]
  },
  {
   "cell_type": "code",
   "execution_count": 27,
   "metadata": {
    "collapsed": false
   },
   "outputs": [
    {
     "data": {
      "image/png": "[encoded data removed]",
      "text/latex": [
       "$$\\left[\\begin{matrix}-30\\\\-23\\end{matrix}\\right]$$"
      ],
      "text/plain": [
       "⎡-30⎤\n",
       "⎢   ⎥\n",
       "⎣-23⎦"
      ]
     },
     "execution_count": 27,
     "metadata": {},
     "output_type": "execute_result"
    }
   ],
   "source": [
    "P*v"
   ]
  },
  {
   "cell_type": "code",
   "execution_count": 28,
   "metadata": {
    "collapsed": false
   },
   "outputs": [
    {
     "data": {
      "image/png": "[encoded data removed]",
      "text/latex": [
       "$$\\left[\\begin{matrix}-8 & 2\\\\6 & -8\\end{matrix}\\right]$$"
      ],
      "text/plain": [
       "⎡-8  2 ⎤\n",
       "⎢      ⎥\n",
       "⎣6   -8⎦"
      ]
     },
     "execution_count": 28,
     "metadata": {},
     "output_type": "execute_result"
    }
   ],
   "source": [
    "M = Matrix([[-8,2],[6,-8]])\n",
    "M"
   ]
  },
  {
   "cell_type": "code",
   "execution_count": 29,
   "metadata": {
    "collapsed": false
   },
   "outputs": [
    {
     "data": {
      "image/png": "[encoded data removed]",
      "text/latex": [
       "$$\\left[\\begin{matrix}194\\\\4\\end{matrix}\\right]$$"
      ],
      "text/plain": [
       "⎡194⎤\n",
       "⎢   ⎥\n",
       "⎣ 4 ⎦"
      ]
     },
     "execution_count": 29,
     "metadata": {},
     "output_type": "execute_result"
    }
   ],
   "source": [
    "M*P*v"
   ]
  },
  {
   "cell_type": "code",
   "execution_count": null,
   "metadata": {
    "collapsed": true
   },
   "outputs": [],
   "source": []
  }
 ],
 "metadata": {
  "kernelspec": {
   "display_name": "Python 3",
   "language": "python",
   "name": "python3"
  },
  "language_info": {
   "codemirror_mode": {
    "name": "ipython",
    "version": 3
   },
   "file_extension": ".py",
   "mimetype": "text/x-python",
   "name": "python",
   "nbconvert_exporter": "python",
   "pygments_lexer": "ipython3",
   "version": "3.5.1"
  }
 },
 "nbformat": 4,
 "nbformat_minor": 0
}
