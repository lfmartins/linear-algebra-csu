{
 "cells": [
  {
   "cell_type": "code",
   "execution_count": 2,
   "metadata": {
    "collapsed": true
   },
   "outputs": [],
   "source": [
    "from latools import *\n",
    "from sympy import *\n",
    "init_printing(use_latex=True)"
   ]
  },
  {
   "cell_type": "code",
   "execution_count": 3,
   "metadata": {
    "collapsed": false
   },
   "outputs": [
    {
     "data": {
      "image/png": "[encoded data removed]",
      "text/latex": [
       "$$\\left[\\begin{matrix}-1 & -3 & 13 & -1 & -3 & 9\\\\-3 & -3 & 15 & 2 & -3 & 2\\\\-1 & -2 & 9 & 1 & 2 & -5\\\\1 & -2 & 7 & -1 & -3 & 2\\end{matrix}\\right]$$"
      ],
      "text/plain": [
       "⎡-1  -3  13  -1  -3  9 ⎤\n",
       "⎢                      ⎥\n",
       "⎢-3  -3  15  2   -3  2 ⎥\n",
       "⎢                      ⎥\n",
       "⎢-1  -2  9   1   2   -5⎥\n",
       "⎢                      ⎥\n",
       "⎣1   -2  7   -1  -3  2 ⎦"
      ]
     },
     "execution_count": 3,
     "metadata": {},
     "output_type": "execute_result"
    }
   ],
   "source": [
    "A = matrix_to_rational([[-1, -3, 13, -1, -3,  9],\n",
    "                        [-3, -3, 15,  2, -3,  2],\n",
    "                        [-1, -2,  9,  1,  2, -5],\n",
    "                        [ 1, -2,  7, -1, -3,  2]])\n",
    "A"
   ]
  },
  {
   "cell_type": "code",
   "execution_count": 4,
   "metadata": {
    "collapsed": false
   },
   "outputs": [
    {
     "data": {
      "image/png": "[encoded data removed]",
      "text/latex": [
       "$$\\left[\\begin{matrix}1 & -2 & 7 & -1 & -3 & 2\\\\0 & -9 & 36 & -1 & -12 & 8\\\\0 & -4 & 16 & 0 & -1 & -3\\\\0 & -5 & 20 & -2 & -6 & 11\\end{matrix}\\right]$$"
      ],
      "text/plain": [
       "⎡1  -2  7   -1  -3   2 ⎤\n",
       "⎢                      ⎥\n",
       "⎢0  -9  36  -1  -12  8 ⎥\n",
       "⎢                      ⎥\n",
       "⎢0  -4  16  0   -1   -3⎥\n",
       "⎢                      ⎥\n",
       "⎣0  -5  20  -2  -6   11⎦"
      ]
     },
     "execution_count": 4,
     "metadata": {},
     "output_type": "execute_result"
    }
   ],
   "source": [
    "A1 = rop(A, 'R1<=>R4','R1*(3)+R2=>R2','R1*(1)+R3=>R3','R1*(1)+R4=>R4')\n",
    "A1"
   ]
  },
  {
   "cell_type": "code",
   "execution_count": 7,
   "metadata": {
    "collapsed": false
   },
   "outputs": [
    {
     "data": {
      "image/png": "[encoded data removed]",
      "text/latex": [
       "$$\\left[\\begin{matrix}1 & 0 & -1 & - \\frac{7}{9} & - \\frac{1}{3} & \\frac{2}{9}\\\\0 & 1 & -4 & \\frac{1}{9} & \\frac{4}{3} & - \\frac{8}{9}\\\\0 & 0 & 0 & \\frac{4}{9} & \\frac{13}{3} & - \\frac{59}{9}\\\\0 & 0 & 0 & - \\frac{13}{9} & \\frac{2}{3} & \\frac{59}{9}\\end{matrix}\\right]$$"
      ],
      "text/plain": [
       "⎡1  0  -1  -7/9   -1/3   2/9 ⎤\n",
       "⎢                            ⎥\n",
       "⎢0  1  -4   1/9   4/3   -8/9 ⎥\n",
       "⎢                            ⎥\n",
       "⎢0  0  0    4/9   13/3  -59/9⎥\n",
       "⎢                            ⎥\n",
       "⎣0  0  0   -13/9  2/3   59/9 ⎦"
      ]
     },
     "execution_count": 7,
     "metadata": {},
     "output_type": "execute_result"
    }
   ],
   "source": [
    "A2 = rop(A1, 'R2*(-1/9)=>R2','R2*(2)+R1=>R1','R2*(4)+R3=>R3','R2*(5)+R4=>R4')\n",
    "A2"
   ]
  },
  {
   "cell_type": "code",
   "execution_count": 9,
   "metadata": {
    "collapsed": false
   },
   "outputs": [
    {
     "data": {
      "image/png": "[encoded data removed]",
      "text/latex": [
       "$$\\left[\\begin{matrix}1 & 0 & -1 & 0 & \\frac{29}{4} & - \\frac{45}{4}\\\\0 & 1 & -4 & 0 & \\frac{1}{4} & \\frac{3}{4}\\\\0 & 0 & 0 & 1 & \\frac{39}{4} & - \\frac{59}{4}\\\\0 & 0 & 0 & 0 & \\frac{59}{4} & - \\frac{59}{4}\\end{matrix}\\right]$$"
      ],
      "text/plain": [
       "⎡1  0  -1  0  29/4  -45/4⎤\n",
       "⎢                        ⎥\n",
       "⎢0  1  -4  0  1/4    3/4 ⎥\n",
       "⎢                        ⎥\n",
       "⎢0  0  0   1  39/4  -59/4⎥\n",
       "⎢                        ⎥\n",
       "⎣0  0  0   0  59/4  -59/4⎦"
      ]
     },
     "execution_count": 9,
     "metadata": {},
     "output_type": "execute_result"
    }
   ],
   "source": [
    "A3 = rop(A2, 'R3*(9/4)=>R3','R3*(7/9)+R1=>R1','R3*(-1/9)+R2=>R2','R3*(13/9)+R4=>R4')\n",
    "A3"
   ]
  },
  {
   "cell_type": "code",
   "execution_count": null,
   "metadata": {
    "collapsed": true
   },
   "outputs": [],
   "source": [
    "A4"
   ]
  }
 ],
 "metadata": {
  "kernelspec": {
   "display_name": "Python 3",
   "language": "python",
   "name": "python3"
  },
  "language_info": {
   "codemirror_mode": {
    "name": "ipython",
    "version": 3
   },
   "file_extension": ".py",
   "mimetype": "text/x-python",
   "name": "python",
   "nbconvert_exporter": "python",
   "pygments_lexer": "ipython3",
   "version": "3.5.1"
  }
 },
 "nbformat": 4,
 "nbformat_minor": 0
}
