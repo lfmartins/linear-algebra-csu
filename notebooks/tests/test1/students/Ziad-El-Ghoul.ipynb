{
 "cells": [
  {
   "cell_type": "code",
   "execution_count": 1,
   "metadata": {
    "collapsed": true
   },
   "outputs": [],
   "source": [
    "from latools import *\n",
    "from sympy import *\n",
    "init_printing(use_latex=True)"
   ]
  },
  {
   "cell_type": "markdown",
   "metadata": {},
   "source": [
    "# Problem 1"
   ]
  },
  {
   "cell_type": "code",
   "execution_count": 2,
   "metadata": {
    "collapsed": false
   },
   "outputs": [
    {
     "data": {
      "image/png": "[encoded data removed]",
      "text/latex": [
       "$$\\left[\\begin{matrix}-2 & -6 & -2 & -2 & 0 & -8\\\\-1 & -3 & -3 & -3 & -6 & -10\\\\-1 & -3 & 2 & -1 & 9 & 8\\\\1 & 3 & 0 & 2 & -3 & -1\\end{matrix}\\right]$$"
      ],
      "text/plain": [
       "⎡-2  -6  -2  -2  0   -8 ⎤\n",
       "⎢                       ⎥\n",
       "⎢-1  -3  -3  -3  -6  -10⎥\n",
       "⎢                       ⎥\n",
       "⎢-1  -3  2   -1  9    8 ⎥\n",
       "⎢                       ⎥\n",
       "⎣1   3   0   2   -3  -1 ⎦"
      ]
     },
     "execution_count": 2,
     "metadata": {},
     "output_type": "execute_result"
    }
   ],
   "source": [
    "A = matrix_to_rational([[-2, -6, -2, -2,  0,  -8],\n",
    "                        [-1, -3, -3, -3, -6, -10],\n",
    "                        [-1, -3,  2, -1,  9,   8],\n",
    "                        [ 1,  3,  0,  2, -3,  -1]])\n",
    "A"
   ]
  },
  {
   "cell_type": "code",
   "execution_count": 3,
   "metadata": {
    "collapsed": false
   },
   "outputs": [
    {
     "data": {
      "image/png": "[encoded data removed]",
      "text/latex": [
       "$$\\left[\\begin{matrix}1 & 3 & 0 & 2 & -3 & -1\\\\0 & 0 & 1 & \\frac{2}{5} & 3 & \\frac{18}{5}\\\\0 & 0 & 3 & 0 & 9 & 12\\\\0 & 0 & -2 & 2 & -6 & -10\\end{matrix}\\right]$$"
      ],
      "text/plain": [
       "⎡1  3  0    2   -3   -1 ⎤\n",
       "⎢                       ⎥\n",
       "⎢0  0  1   2/5  3   18/5⎥\n",
       "⎢                       ⎥\n",
       "⎢0  0  3    0   9    12 ⎥\n",
       "⎢                       ⎥\n",
       "⎣0  0  -2   2   -6  -10 ⎦"
      ]
     },
     "execution_count": 3,
     "metadata": {},
     "output_type": "execute_result"
    }
   ],
   "source": [
    "rop(A, 'R4<=>R1', 'R3*(-1)+R2=>R2', 'R4*(-1/2)+R3=>R3','R1*(2)+R4=>R4','R2*(-1/5)=>R2')"
   ]
  },
  {
   "cell_type": "markdown",
   "metadata": {
    "collapsed": true
   },
   "source": [
    "# Problem 2"
   ]
  },
  {
   "cell_type": "code",
   "execution_count": 4,
   "metadata": {
    "collapsed": false
   },
   "outputs": [
    {
     "data": {
      "image/png": "[encoded data removed]",
      "text/latex": [
       "$$\\left[\\begin{matrix}1 & -1 & -1 & 1 & 0 & 0\\\\3 & -2 & -5 & 0 & 1 & 0\\\\-1 & 1 & 2 & 0 & 0 & 1\\end{matrix}\\right]$$"
      ],
      "text/plain": [
       "⎡1   -1  -1  1  0  0⎤\n",
       "⎢                   ⎥\n",
       "⎢3   -2  -5  0  1  0⎥\n",
       "⎢                   ⎥\n",
       "⎣-1  1   2   0  0  1⎦"
      ]
     },
     "execution_count": 4,
     "metadata": {},
     "output_type": "execute_result"
    }
   ],
   "source": [
    "A = matrix_to_rational([[ 1, -1, -1, 1, 0, 0],\n",
    "                        [ 3, -2, -5, 0, 1, 0],\n",
    "                        [-1,  1,  2, 0, 0, 1]])\n",
    "A"
   ]
  },
  {
   "cell_type": "code",
   "execution_count": 5,
   "metadata": {
    "collapsed": false
   },
   "outputs": [
    {
     "data": {
      "image/png": "[encoded data removed]",
      "text/latex": [
       "$$\\left[\\begin{matrix}1 & -1 & -1 & 1 & 0 & 0\\\\3 & -2 & -5 & 0 & 1 & 0\\\\0 & 0 & 1 & 1 & 0 & 1\\end{matrix}\\right]$$"
      ],
      "text/plain": [
       "⎡1  -1  -1  1  0  0⎤\n",
       "⎢                  ⎥\n",
       "⎢3  -2  -5  0  1  0⎥\n",
       "⎢                  ⎥\n",
       "⎣0  0   1   1  0  1⎦"
      ]
     },
     "execution_count": 5,
     "metadata": {},
     "output_type": "execute_result"
    }
   ],
   "source": [
    "A1 = rop(A, 'R1*(1)+R3=>R3')\n",
    "A1"
   ]
  },
  {
   "cell_type": "code",
   "execution_count": 7,
   "metadata": {
    "collapsed": false
   },
   "outputs": [
    {
     "data": {
      "image/png": "[encoded data removed]",
      "text/latex": [
       "$$\\left[\\begin{matrix}1 & -1 & -1 & 1 & 0 & 0\\\\0 & 1 & -2 & -3 & 1 & 0\\\\0 & 0 & 1 & 1 & 0 & 1\\end{matrix}\\right]$$"
      ],
      "text/plain": [
       "⎡1  -1  -1  1   0  0⎤\n",
       "⎢                   ⎥\n",
       "⎢0  1   -2  -3  1  0⎥\n",
       "⎢                   ⎥\n",
       "⎣0  0   1   1   0  1⎦"
      ]
     },
     "execution_count": 7,
     "metadata": {},
     "output_type": "execute_result"
    }
   ],
   "source": [
    "A2 = rop(A1, 'R1*(-3)+R2=>R2')\n",
    "A2"
   ]
  },
  {
   "cell_type": "code",
   "execution_count": 9,
   "metadata": {
    "collapsed": false
   },
   "outputs": [
    {
     "data": {
      "image/png": "[encoded data removed]",
      "text/latex": [
       "$$\\left[\\begin{matrix}1 & 0 & -3 & -2 & 1 & 0\\\\0 & 1 & -2 & -3 & 1 & 0\\\\0 & 0 & 1 & 1 & 0 & 1\\end{matrix}\\right]$$"
      ],
      "text/plain": [
       "⎡1  0  -3  -2  1  0⎤\n",
       "⎢                  ⎥\n",
       "⎢0  1  -2  -3  1  0⎥\n",
       "⎢                  ⎥\n",
       "⎣0  0  1   1   0  1⎦"
      ]
     },
     "execution_count": 9,
     "metadata": {},
     "output_type": "execute_result"
    }
   ],
   "source": [
    "A3 = rop(A2, 'R2*(1)+R1=>R1')\n",
    "A3"
   ]
  },
  {
   "cell_type": "code",
   "execution_count": null,
   "metadata": {
    "collapsed": true
   },
   "outputs": [],
   "source": []
  }
 ],
 "metadata": {
  "kernelspec": {
   "display_name": "Python 3",
   "language": "python",
   "name": "python3"
  },
  "language_info": {
   "codemirror_mode": {
    "name": "ipython",
    "version": 3
   },
   "file_extension": ".py",
   "mimetype": "text/x-python",
   "name": "python",
   "nbconvert_exporter": "python",
   "pygments_lexer": "ipython3",
   "version": "3.5.1"
  }
 },
 "nbformat": 4,
 "nbformat_minor": 0
}
