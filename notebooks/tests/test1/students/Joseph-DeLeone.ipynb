{
 "cells": [
  {
   "cell_type": "code",
   "execution_count": 1,
   "metadata": {
    "collapsed": true
   },
   "outputs": [],
   "source": [
    "from latools import *\n",
    "from sympy import *\n",
    "init_printing(use_latex=True)"
   ]
  },
  {
   "cell_type": "markdown",
   "metadata": {},
   "source": [
    "# Problem 1"
   ]
  },
  {
   "cell_type": "code",
   "execution_count": 2,
   "metadata": {
    "collapsed": false
   },
   "outputs": [
    {
     "data": {
      "image/png": "[encoded data removed]",
      "text/latex": [
       "$$\\left[\\begin{matrix}-1 & -3 & 13 & -1 & -3 & 9\\\\-3 & -3 & 15 & 2 & -3 & 2\\\\-1 & -2 & 9 & 1 & 2 & -5\\\\1 & -2 & 7 & -1 & -3 & 2\\end{matrix}\\right]$$"
      ],
      "text/plain": [
       "⎡-1  -3  13  -1  -3  9 ⎤\n",
       "⎢                      ⎥\n",
       "⎢-3  -3  15  2   -3  2 ⎥\n",
       "⎢                      ⎥\n",
       "⎢-1  -2  9   1   2   -5⎥\n",
       "⎢                      ⎥\n",
       "⎣1   -2  7   -1  -3  2 ⎦"
      ]
     },
     "execution_count": 2,
     "metadata": {},
     "output_type": "execute_result"
    }
   ],
   "source": [
    "A = matrix_to_rational([[-1, -3, 13, -1, -3,  9],\n",
    "                        [-3, -3, 15,  2, -3,  2],\n",
    "                        [-1, -2,  9,  1,  2, -5],\n",
    "                        [ 1, -2,  7, -1, -3,  2]])\n",
    "A"
   ]
  },
  {
   "cell_type": "code",
   "execution_count": 7,
   "metadata": {
    "collapsed": false
   },
   "outputs": [
    {
     "data": {
      "image/png": "[encoded data removed]",
      "text/latex": [
       "$$\\left[\\begin{matrix}1 & -2 & 7 & -1 & -3 & 2\\\\0 & -9 & 36 & -1 & -12 & 8\\\\0 & -4 & 16 & 0 & -1 & -3\\\\0 & -5 & 20 & -2 & -6 & 11\\end{matrix}\\right]$$"
      ],
      "text/plain": [
       "⎡1  -2  7   -1  -3   2 ⎤\n",
       "⎢                      ⎥\n",
       "⎢0  -9  36  -1  -12  8 ⎥\n",
       "⎢                      ⎥\n",
       "⎢0  -4  16  0   -1   -3⎥\n",
       "⎢                      ⎥\n",
       "⎣0  -5  20  -2  -6   11⎦"
      ]
     },
     "execution_count": 7,
     "metadata": {},
     "output_type": "execute_result"
    }
   ],
   "source": [
    "A1 = rop(A, 'R1<=>R4','R1*(3)+R2=>R2','R1*(1)+R3=>R3','R1*(1)+R4=>R4')\n",
    "A1"
   ]
  },
  {
   "cell_type": "code",
   "execution_count": 10,
   "metadata": {
    "collapsed": false
   },
   "outputs": [
    {
     "data": {
      "image/png": "[encoded data removed]",
      "text/latex": [
       "$$\\left[\\begin{matrix}1 & 0 & -1 & 5 & -3 & -26\\\\0 & 1 & -4 & 3 & 0 & -14\\\\0 & 0 & 0 & 12 & -1 & -59\\\\0 & 0 & 0 & 13 & -6 & -59\\end{matrix}\\right]$$"
      ],
      "text/plain": [
       "⎡1  0  -1  5   -3  -26⎤\n",
       "⎢                     ⎥\n",
       "⎢0  1  -4  3   0   -14⎥\n",
       "⎢                     ⎥\n",
       "⎢0  0  0   12  -1  -59⎥\n",
       "⎢                     ⎥\n",
       "⎣0  0  0   13  -6  -59⎦"
      ]
     },
     "execution_count": 10,
     "metadata": {},
     "output_type": "execute_result"
    }
   ],
   "source": [
    "A2 = rop(A1, 'R4*(-2)+R2=>R2', 'R2*(2)+R1=>R1','R2*(4)+R3=>R3','R2*(5)+R4=>R4')\n",
    "A2"
   ]
  },
  {
   "cell_type": "markdown",
   "metadata": {
    "collapsed": true
   },
   "source": [
    "# Problem 2"
   ]
  },
  {
   "cell_type": "code",
   "execution_count": 2,
   "metadata": {
    "collapsed": false
   },
   "outputs": [
    {
     "data": {
      "image/png": "[encoded data removed]",
      "text/latex": [
       "$$\\left[\\begin{matrix}-1 & -1 & -1 & 1 & 0 & 0\\\\3 & -2 & -1 & 0 & 1 & 0\\\\3 & -1 & 0 & 0 & 0 & 1\\end{matrix}\\right]$$"
      ],
      "text/plain": [
       "⎡-1  -1  -1  1  0  0⎤\n",
       "⎢                   ⎥\n",
       "⎢3   -2  -1  0  1  0⎥\n",
       "⎢                   ⎥\n",
       "⎣3   -1  0   0  0  1⎦"
      ]
     },
     "execution_count": 2,
     "metadata": {},
     "output_type": "execute_result"
    }
   ],
   "source": [
    "A = matrix_to_rational([[-1, -1, -1, 1, 0, 0],\n",
    "                        [ 3, -2, -1, 0, 1, 0],\n",
    "                        [ 3, -1,  0, 0, 0, 1]])\n",
    "A"
   ]
  },
  {
   "cell_type": "code",
   "execution_count": 3,
   "metadata": {
    "collapsed": false
   },
   "outputs": [
    {
     "data": {
      "image/png": "[encoded data removed]",
      "text/latex": [
       "$$\\left[\\begin{matrix}1 & 1 & 1 & -1 & 0 & 0\\\\3 & -2 & -1 & 0 & 1 & 0\\\\3 & -1 & 0 & 0 & 0 & 1\\end{matrix}\\right]$$"
      ],
      "text/plain": [
       "⎡1  1   1   -1  0  0⎤\n",
       "⎢                   ⎥\n",
       "⎢3  -2  -1  0   1  0⎥\n",
       "⎢                   ⎥\n",
       "⎣3  -1  0   0   0  1⎦"
      ]
     },
     "execution_count": 3,
     "metadata": {},
     "output_type": "execute_result"
    }
   ],
   "source": [
    "A1 = rop(A, 'R1*(-1)=>R1')\n",
    "A1"
   ]
  },
  {
   "cell_type": "code",
   "execution_count": 4,
   "metadata": {
    "collapsed": false
   },
   "outputs": [
    {
     "data": {
      "image/png": "[encoded data removed]",
      "text/latex": [
       "$$\\left[\\begin{matrix}1 & 1 & 1 & -1 & 0 & 0\\\\0 & -5 & -4 & 3 & 1 & 0\\\\0 & -4 & -3 & 3 & 0 & 1\\end{matrix}\\right]$$"
      ],
      "text/plain": [
       "⎡1  1   1   -1  0  0⎤\n",
       "⎢                   ⎥\n",
       "⎢0  -5  -4  3   1  0⎥\n",
       "⎢                   ⎥\n",
       "⎣0  -4  -3  3   0  1⎦"
      ]
     },
     "execution_count": 4,
     "metadata": {},
     "output_type": "execute_result"
    }
   ],
   "source": [
    "A2 = rop(A1, 'R1*(-3)+R2=>R2', 'R1*(-3)+R3=>R3')\n",
    "A2"
   ]
  },
  {
   "cell_type": "code",
   "execution_count": 5,
   "metadata": {
    "collapsed": false
   },
   "outputs": [
    {
     "data": {
      "image/png": "[encoded data removed]",
      "text/latex": [
       "$$\\left[\\begin{matrix}1 & 1 & 1 & -1 & 0 & 0\\\\0 & 1 & \\frac{4}{5} & - \\frac{3}{5} & - \\frac{1}{5} & 0\\\\0 & -4 & -3 & 3 & 0 & 1\\end{matrix}\\right]$$"
      ],
      "text/plain": [
       "⎡1  1    1    -1    0    0⎤\n",
       "⎢                         ⎥\n",
       "⎢0  1   4/5  -3/5  -1/5  0⎥\n",
       "⎢                         ⎥\n",
       "⎣0  -4  -3    3     0    1⎦"
      ]
     },
     "execution_count": 5,
     "metadata": {},
     "output_type": "execute_result"
    }
   ],
   "source": [
    "A3 = rop(A2, 'R2*(-1/5)=>R2')\n",
    "A3"
   ]
  },
  {
   "cell_type": "code",
   "execution_count": 6,
   "metadata": {
    "collapsed": false
   },
   "outputs": [
    {
     "data": {
      "image/png": "[encoded data removed]",
      "text/latex": [
       "$$\\left[\\begin{matrix}1 & 0 & \\frac{1}{5} & - \\frac{2}{5} & \\frac{1}{5} & 0\\\\0 & 1 & \\frac{4}{5} & - \\frac{3}{5} & - \\frac{1}{5} & 0\\\\0 & 0 & \\frac{1}{5} & \\frac{3}{5} & - \\frac{4}{5} & 1\\end{matrix}\\right]$$"
      ],
      "text/plain": [
       "⎡1  0  1/5  -2/5  1/5   0⎤\n",
       "⎢                        ⎥\n",
       "⎢0  1  4/5  -3/5  -1/5  0⎥\n",
       "⎢                        ⎥\n",
       "⎣0  0  1/5  3/5   -4/5  1⎦"
      ]
     },
     "execution_count": 6,
     "metadata": {},
     "output_type": "execute_result"
    }
   ],
   "source": [
    "A4 = rop(A3, 'R2*(-1)+R1=>R1', 'R2*(4)+R3=>R3')\n",
    "A4"
   ]
  },
  {
   "cell_type": "code",
   "execution_count": 7,
   "metadata": {
    "collapsed": false
   },
   "outputs": [
    {
     "data": {
      "image/png": "[encoded data removed]",
      "text/latex": [
       "$$\\left[\\begin{matrix}1 & 0 & \\frac{1}{5} & - \\frac{2}{5} & \\frac{1}{5} & 0\\\\0 & 1 & \\frac{4}{5} & - \\frac{3}{5} & - \\frac{1}{5} & 0\\\\0 & 0 & -1 & -3 & 4 & -5\\end{matrix}\\right]$$"
      ],
      "text/plain": [
       "⎡1  0  1/5  -2/5  1/5   0 ⎤\n",
       "⎢                         ⎥\n",
       "⎢0  1  4/5  -3/5  -1/5  0 ⎥\n",
       "⎢                         ⎥\n",
       "⎣0  0  -1    -3    4    -5⎦"
      ]
     },
     "execution_count": 7,
     "metadata": {},
     "output_type": "execute_result"
    }
   ],
   "source": [
    "A5 = rop(A4, 'R3*(-5)=>R3')\n",
    "A5"
   ]
  },
  {
   "cell_type": "code",
   "execution_count": 9,
   "metadata": {
    "collapsed": false
   },
   "outputs": [
    {
     "data": {
      "image/png": "[encoded data removed]",
      "text/latex": [
       "$$\\left[\\begin{matrix}1 & 0 & \\frac{4}{5} & \\frac{7}{5} & - \\frac{11}{5} & 3\\\\0 & 1 & \\frac{6}{5} & \\frac{3}{5} & - \\frac{9}{5} & 2\\\\0 & 0 & -1 & -3 & 4 & -5\\end{matrix}\\right]$$"
      ],
      "text/plain": [
       "⎡1  0  4/5  7/5  -11/5  3 ⎤\n",
       "⎢                         ⎥\n",
       "⎢0  1  6/5  3/5  -9/5   2 ⎥\n",
       "⎢                         ⎥\n",
       "⎣0  0  -1   -3     4    -5⎦"
      ]
     },
     "execution_count": 9,
     "metadata": {},
     "output_type": "execute_result"
    }
   ],
   "source": [
    "A6 = rop(A5, 'R3*(-2/5)+R2=>R2', 'R3*(-3/5)+R1=>R1')\n",
    "A6"
   ]
  },
  {
   "cell_type": "code",
   "execution_count": null,
   "metadata": {
    "collapsed": true
   },
   "outputs": [],
   "source": []
  }
 ],
 "metadata": {
  "kernelspec": {
   "display_name": "Python 3",
   "language": "python",
   "name": "python3"
  },
  "language_info": {
   "codemirror_mode": {
    "name": "ipython",
    "version": 3
   },
   "file_extension": ".py",
   "mimetype": "text/x-python",
   "name": "python",
   "nbconvert_exporter": "python",
   "pygments_lexer": "ipython3",
   "version": "3.5.1"
  }
 },
 "nbformat": 4,
 "nbformat_minor": 0
}
