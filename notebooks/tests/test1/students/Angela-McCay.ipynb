{
 "cells": [
  {
   "cell_type": "code",
   "execution_count": 2,
   "metadata": {
    "collapsed": true
   },
   "outputs": [],
   "source": [
    "from latools import *\n",
    "from sympy import *\n",
    "init_printing(use_latex=True)"
   ]
  },
  {
   "cell_type": "code",
   "execution_count": 3,
   "metadata": {
    "collapsed": false
   },
   "outputs": [
    {
     "data": {
      "image/png": "[encoded data removed]",
      "text/latex": [
       "$$\\left[\\begin{matrix}-2 & -6 & -2 & -2 & 0 & -8\\\\-1 & -3 & -3 & -3 & -6 & -10\\\\-1 & -3 & 2 & -1 & 9 & 8\\\\1 & 3 & 0 & 2 & -3 & -1\\end{matrix}\\right]$$"
      ],
      "text/plain": [
       "⎡-2  -6  -2  -2  0   -8 ⎤\n",
       "⎢                       ⎥\n",
       "⎢-1  -3  -3  -3  -6  -10⎥\n",
       "⎢                       ⎥\n",
       "⎢-1  -3  2   -1  9    8 ⎥\n",
       "⎢                       ⎥\n",
       "⎣1   3   0   2   -3  -1 ⎦"
      ]
     },
     "execution_count": 3,
     "metadata": {},
     "output_type": "execute_result"
    }
   ],
   "source": [
    "A = matrix_to_rational([[-2, -6, -2, -2,  0,  -8],\n",
    "                        [-1, -3, -3, -3, -6, -10],\n",
    "                        [-1, -3,  2, -1,  9,   8],\n",
    "                        [ 1,  3,  0,  2, -3,  -1]])\n",
    "A"
   ]
  },
  {
   "cell_type": "code",
   "execution_count": 13,
   "metadata": {
    "collapsed": false
   },
   "outputs": [
    {
     "data": {
      "image/png": "[encoded data removed]",
      "text/latex": [
       "$$\\left[\\begin{matrix}1 & 3 & 0 & \\frac{9}{8} & -3 & - \\frac{1}{8}\\\\0 & 0 & 1 & \\frac{1}{4} & 3 & \\frac{15}{4}\\\\0 & 0 & 0 & \\frac{3}{8} & 0 & - \\frac{3}{8}\\\\0 & 0 & 0 & \\frac{1}{8} & 0 & - \\frac{1}{8}\\end{matrix}\\right]$$"
      ],
      "text/plain": [
       "⎡1  3  0  9/8  -3  -1/8⎤\n",
       "⎢                      ⎥\n",
       "⎢0  0  1  1/4  3   15/4⎥\n",
       "⎢                      ⎥\n",
       "⎢0  0  0  3/8  0   -3/8⎥\n",
       "⎢                      ⎥\n",
       "⎣0  0  0  1/8  0   -1/8⎦"
      ]
     },
     "execution_count": 13,
     "metadata": {},
     "output_type": "execute_result"
    }
   ],
   "source": [
    "rop(A, 'R1*(-1/2)=>R1','R1*(1)+R2=>R2','R1*(1)+R3=>R3','R1*(-1)+R4=>R4',\n",
    "       'R2*(-1/2)=>R2','R2*(-1)+R1=>R1','R2*(-3)+R3=>R3','R2*(1)+R4=>R4',\n",
    "       'R3*(-1/8)=>R3','R3*(3)+R1=>R1','R3*(-2)+R2=>R2','R3*(-5)+R4=>R4')"
   ]
  },
  {
   "cell_type": "code",
   "execution_count": 14,
   "metadata": {
    "collapsed": false
   },
   "outputs": [
    {
     "data": {
      "image/png": "[encoded data removed]",
      "text/latex": [
       "$$13$$"
      ],
      "text/plain": [
       "13"
      ]
     },
     "execution_count": 14,
     "metadata": {},
     "output_type": "execute_result"
    }
   ],
   "source": [
    "30-17"
   ]
  },
  {
   "cell_type": "code",
   "execution_count": null,
   "metadata": {
    "collapsed": true
   },
   "outputs": [],
   "source": []
  }
 ],
 "metadata": {
  "kernelspec": {
   "display_name": "Python 3",
   "language": "python",
   "name": "python3"
  },
  "language_info": {
   "codemirror_mode": {
    "name": "ipython",
    "version": 3
   },
   "file_extension": ".py",
   "mimetype": "text/x-python",
   "name": "python",
   "nbconvert_exporter": "python",
   "pygments_lexer": "ipython3",
   "version": "3.5.1"
  }
 },
 "nbformat": 4,
 "nbformat_minor": 0
}
