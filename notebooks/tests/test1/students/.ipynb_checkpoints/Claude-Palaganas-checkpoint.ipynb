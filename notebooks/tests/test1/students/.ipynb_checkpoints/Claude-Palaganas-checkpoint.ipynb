{
 "cells": [
  {
   "cell_type": "code",
   "execution_count": 1,
   "metadata": {
    "collapsed": true
   },
   "outputs": [],
   "source": [
    "from latools import *\n",
    "from sympy import *\n",
    "init_printing(use_latex=True)"
   ]
  },
  {
   "cell_type": "code",
   "execution_count": 2,
   "metadata": {
    "collapsed": false
   },
   "outputs": [
    {
     "data": {
      "image/png": "[encoded data removed]",
      "text/latex": [
       "$$\\left[\\begin{matrix}-1 & -3 & 13 & -1 & -3 & 9\\\\-3 & -3 & 15 & 2 & -3 & 2\\\\-1 & -2 & 9 & 1 & 2 & -5\\\\1 & -2 & 7 & -1 & -3 & 2\\end{matrix}\\right]$$"
      ],
      "text/plain": [
       "⎡-1  -3  13  -1  -3  9 ⎤\n",
       "⎢                      ⎥\n",
       "⎢-3  -3  15  2   -3  2 ⎥\n",
       "⎢                      ⎥\n",
       "⎢-1  -2  9   1   2   -5⎥\n",
       "⎢                      ⎥\n",
       "⎣1   -2  7   -1  -3  2 ⎦"
      ]
     },
     "execution_count": 2,
     "metadata": {},
     "output_type": "execute_result"
    }
   ],
   "source": [
    "A = matrix_to_rational([[-1, -3, 13, -1, -3,  9],\n",
    "                        [-3, -3, 15,  2, -3,  2],\n",
    "                        [-1, -2,  9,  1,  2, -5],\n",
    "                        [ 1, -2,  7, -1, -3,  2]])\n",
    "A"
   ]
  },
  {
   "cell_type": "code",
   "execution_count": 7,
   "metadata": {
    "collapsed": false
   },
   "outputs": [
    {
     "data": {
      "image/png": "[encoded data removed]",
      "text/latex": [
       "$$\\left[\\begin{matrix}1 & -2 & 7 & -1 & -3 & 2\\\\0 & -9 & 36 & -1 & -12 & 8\\\\0 & -4 & 16 & 0 & -1 & -3\\\\0 & -5 & 20 & -2 & -6 & 11\\end{matrix}\\right]$$"
      ],
      "text/plain": [
       "⎡1  -2  7   -1  -3   2 ⎤\n",
       "⎢                      ⎥\n",
       "⎢0  -9  36  -1  -12  8 ⎥\n",
       "⎢                      ⎥\n",
       "⎢0  -4  16  0   -1   -3⎥\n",
       "⎢                      ⎥\n",
       "⎣0  -5  20  -2  -6   11⎦"
      ]
     },
     "execution_count": 7,
     "metadata": {},
     "output_type": "execute_result"
    }
   ],
   "source": [
    "A1 = rop(A, 'R1<=>R4','R1*(3)+R2=>R2','R1*(1)+R3=>R3','R1*(1)+R4=>R4')\n",
    "A1"
   ]
  },
  {
   "cell_type": "code",
   "execution_count": 10,
   "metadata": {
    "collapsed": false
   },
   "outputs": [
    {
     "data": {
      "image/png": "[encoded data removed]",
      "text/latex": [
       "$$\\left[\\begin{matrix}1 & 0 & -1 & 5 & -3 & -26\\\\0 & 1 & -4 & 3 & 0 & -14\\\\0 & 0 & 0 & 12 & -1 & -59\\\\0 & 0 & 0 & 13 & -6 & -59\\end{matrix}\\right]$$"
      ],
      "text/plain": [
       "⎡1  0  -1  5   -3  -26⎤\n",
       "⎢                     ⎥\n",
       "⎢0  1  -4  3   0   -14⎥\n",
       "⎢                     ⎥\n",
       "⎢0  0  0   12  -1  -59⎥\n",
       "⎢                     ⎥\n",
       "⎣0  0  0   13  -6  -59⎦"
      ]
     },
     "execution_count": 10,
     "metadata": {},
     "output_type": "execute_result"
    }
   ],
   "source": [
    "A2 = rop(A1, 'R4*(-2)+R2=>R2', 'R2*(2)+R1=>R1','R2*(4)+R3=>R3','R2*(5)+R4=>R4')\n",
    "A2"
   ]
  },
  {
   "cell_type": "code",
   "execution_count": null,
   "metadata": {
    "collapsed": true
   },
   "outputs": [],
   "source": []
  }
 ],
 "metadata": {
  "kernelspec": {
   "display_name": "Python 3",
   "language": "python",
   "name": "python3"
  },
  "language_info": {
   "codemirror_mode": {
    "name": "ipython",
    "version": 3
   },
   "file_extension": ".py",
   "mimetype": "text/x-python",
   "name": "python",
   "nbconvert_exporter": "python",
   "pygments_lexer": "ipython3",
   "version": "3.5.1"
  }
 },
 "nbformat": 4,
 "nbformat_minor": 0
}
