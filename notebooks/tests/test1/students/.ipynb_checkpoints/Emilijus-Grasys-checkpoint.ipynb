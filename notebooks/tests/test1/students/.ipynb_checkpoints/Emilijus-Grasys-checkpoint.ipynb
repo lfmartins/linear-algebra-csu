{
 "cells": [
  {
   "cell_type": "code",
   "execution_count": 2,
   "metadata": {
    "collapsed": true
   },
   "outputs": [],
   "source": [
    "from latools import *\n",
    "from sympy import *\n",
    "init_printing(use_latex=True)"
   ]
  },
  {
   "cell_type": "code",
   "execution_count": 3,
   "metadata": {
    "collapsed": false
   },
   "outputs": [
    {
     "data": {
      "image/png": "[encoded data removed]",
      "text/latex": [
       "$$\\left[\\begin{matrix}-1 & -3 & 13 & -1 & -3 & 9\\\\-3 & -3 & 15 & 2 & -3 & 2\\\\-1 & -2 & 9 & 1 & 2 & -5\\\\1 & -2 & 7 & -1 & -3 & 2\\end{matrix}\\right]$$"
      ],
      "text/plain": [
       "⎡-1  -3  13  -1  -3  9 ⎤\n",
       "⎢                      ⎥\n",
       "⎢-3  -3  15  2   -3  2 ⎥\n",
       "⎢                      ⎥\n",
       "⎢-1  -2  9   1   2   -5⎥\n",
       "⎢                      ⎥\n",
       "⎣1   -2  7   -1  -3  2 ⎦"
      ]
     },
     "execution_count": 3,
     "metadata": {},
     "output_type": "execute_result"
    }
   ],
   "source": [
    "A = matrix_to_rational([[-1, -3, 13, -1, -3,  9],\n",
    "                        [-3, -3, 15,  2, -3,  2],\n",
    "                        [-1, -2,  9,  1,  2, -5],\n",
    "                        [ 1, -2,  7, -1, -3,  2]])\n",
    "A"
   ]
  },
  {
   "cell_type": "code",
   "execution_count": 24,
   "metadata": {
    "collapsed": false
   },
   "outputs": [
    {
     "data": {
      "image/png": "[encoded data removed]",
      "text/latex": [
       "$$\\left[\\begin{matrix}1 & 0 & -1 & 0 & 0 & -4\\\\0 & 1 & -4 & 0 & - \\frac{71}{42} & \\frac{113}{42}\\\\0 & 0 & 0 & 1 & 0 & -5\\\\0 & 0 & 0 & 0 & 1 & -1\\end{matrix}\\right]$$"
      ],
      "text/plain": [
       "⎡1  0  -1  0   0    -4 ⎤\n",
       "⎢                      ⎥\n",
       "⎢             -71   113⎥\n",
       "⎢0  1  -4  0  ────  ───⎥\n",
       "⎢              42    42⎥\n",
       "⎢                      ⎥\n",
       "⎢0  0  0   1   0    -5 ⎥\n",
       "⎢                      ⎥\n",
       "⎣0  0  0   0   1    -1 ⎦"
      ]
     },
     "execution_count": 24,
     "metadata": {},
     "output_type": "execute_result"
    }
   ],
   "source": [
    "A1 = rop(A, 'R1*(-1)=>R1','R1*(3)+R2=>R2','R2*(1/6)=>R2','R2*(-3)+R1=>R1','R3*(1)+R4=>R4',\n",
    "            'R1*(1)+R3=>R3','R3*(1/2)=>R3','R2*(1)+R3=>R3','R3*(12/7)=>R3','R2*(4)+R4=>R4',\n",
    "            'R4*(1/3)=>R4','R3*(3/2)+R1=>R1','R3*(-5/6)+R2=>R2','R3*(-10/9)+R4=>R4',\n",
    "            'R4*(-21/59)=>R4','R4*(-36/7)+R1=>R1','R4*(-1)+R2=>R2','R4*(-24/7)+R3=>R3','R4*(-5/6)+R2=>R2')\n",
    "A1 "
   ]
  },
  {
   "cell_type": "code",
   "execution_count": 22,
   "metadata": {
    "collapsed": false
   },
   "outputs": [
    {
     "data": {
      "image/png": "[encoded data removed]",
      "text/latex": [
       "$$\\left[\\begin{matrix}1 & - \\frac{1}{2} & 1 & 0 & \\frac{10}{7} & - \\frac{83}{14}\\\\0 & \\frac{11}{36} & - \\frac{11}{9} & 0 & - \\frac{215}{126} & \\frac{169}{84}\\\\0 & - \\frac{1}{6} & \\frac{2}{3} & 1 & \\frac{10}{21} & - \\frac{79}{14}\\\\0 & - \\frac{1}{6} & \\frac{2}{3} & 0 & \\frac{31}{21} & - \\frac{23}{14}\\end{matrix}\\right]$$"
      ],
      "text/plain": [
       "⎡                          -83 ⎤\n",
       "⎢1  -1/2    1    0  10/7   ────⎥\n",
       "⎢                           14 ⎥\n",
       "⎢                              ⎥\n",
       "⎢    11             -215   169 ⎥\n",
       "⎢0   ──   -11/9  0  ─────  ─── ⎥\n",
       "⎢    36              126    84 ⎥\n",
       "⎢                              ⎥\n",
       "⎢                    10    -79 ⎥\n",
       "⎢0  -1/6   2/3   1   ──    ────⎥\n",
       "⎢                    21     14 ⎥\n",
       "⎢                              ⎥\n",
       "⎢                    31    -23 ⎥\n",
       "⎢0  -1/6   2/3   0   ──    ────⎥\n",
       "⎣                    21     14 ⎦"
      ]
     },
     "execution_count": 22,
     "metadata": {},
     "output_type": "execute_result"
    }
   ],
   "source": [
    "A2 = rop(A1, 'R2*(1/6)=>R2','R2*(-3)+R1=>R1','R2*(-1)+R3=>R3','R2*(-1)+R4=>R4','R4*(-5/6)+R2=>R2')\n",
    "A2"
   ]
  },
  {
   "cell_type": "code",
   "execution_count": 13,
   "metadata": {
    "collapsed": false
   },
   "outputs": [
    {
     "data": {
      "image/png": "[encoded data removed]",
      "text/latex": [
       "$$\\left[\\begin{matrix}1 & 0 & -1 & - \\frac{3}{2} & 0 & \\frac{7}{2}\\\\0 & 1 & -4 & \\frac{5}{6} & 1 & - \\frac{25}{6}\\\\2 & 0 & -2 & - \\frac{5}{6} & -1 & - \\frac{17}{6}\\\\0 & 0 & 0 & \\frac{7}{6} & 4 & - \\frac{59}{6}\\end{matrix}\\right]$$"
      ],
      "text/plain": [
       "⎡1  0  -1  -3/2  0    7/2 ⎤\n",
       "⎢                         ⎥\n",
       "⎢0  1  -4  5/6   1   -25/6⎥\n",
       "⎢                         ⎥\n",
       "⎢2  0  -2  -5/6  -1  -17/6⎥\n",
       "⎢                         ⎥\n",
       "⎣0  0  0   7/6   4   -59/6⎦"
      ]
     },
     "execution_count": 13,
     "metadata": {},
     "output_type": "execute_result"
    }
   ],
   "source": [
    "A3 = rop(A2, 'R3<=>R4')\n",
    "A3"
   ]
  },
  {
   "cell_type": "code",
   "execution_count": 14,
   "metadata": {
    "collapsed": false
   },
   "outputs": [
    {
     "data": {
      "image/png": "[encoded data removed]",
      "text/latex": [
       "$$\\left[\\begin{matrix}1 & 0 & -1 & - \\frac{3}{2} & 0 & \\frac{7}{2}\\\\0 & 1 & -4 & \\frac{5}{6} & 1 & - \\frac{25}{6}\\\\-1 & 0 & 1 & \\frac{5}{12} & \\frac{1}{2} & \\frac{17}{12}\\\\0 & 0 & 0 & \\frac{7}{6} & 4 & - \\frac{59}{6}\\end{matrix}\\right]$$"
      ],
      "text/plain": [
       "⎡1   0  -1  -3/2   0    7/2 ⎤\n",
       "⎢                           ⎥\n",
       "⎢0   1  -4  5/6    1   -25/6⎥\n",
       "⎢                           ⎥\n",
       "⎢                       17  ⎥\n",
       "⎢-1  0  1   5/12  1/2   ──  ⎥\n",
       "⎢                       12  ⎥\n",
       "⎢                           ⎥\n",
       "⎣0   0  0   7/6    4   -59/6⎦"
      ]
     },
     "execution_count": 14,
     "metadata": {},
     "output_type": "execute_result"
    }
   ],
   "source": [
    "A4 = rop(A3, 'R3*(-1/2)=>R3')\n",
    "A4"
   ]
  },
  {
   "cell_type": "code",
   "execution_count": 16,
   "metadata": {
    "collapsed": false
   },
   "outputs": [
    {
     "data": {
      "image/png": "[encoded data removed]",
      "text/latex": [
       "$$\\left[\\begin{matrix}0 & 0 & 0 & - \\frac{13}{12} & \\frac{1}{2} & \\frac{59}{12}\\\\-4 & 1 & 0 & \\frac{5}{2} & 3 & \\frac{3}{2}\\\\-1 & 0 & 1 & \\frac{5}{12} & \\frac{1}{2} & \\frac{17}{12}\\\\0 & 0 & 0 & \\frac{7}{6} & 4 & - \\frac{59}{6}\\end{matrix}\\right]$$"
      ],
      "text/plain": [
       "⎡          -13         59  ⎤\n",
       "⎢0   0  0  ────  1/2   ──  ⎥\n",
       "⎢           12         12  ⎥\n",
       "⎢                          ⎥\n",
       "⎢-4  1  0  5/2    3    3/2 ⎥\n",
       "⎢                          ⎥\n",
       "⎢                      17  ⎥\n",
       "⎢-1  0  1  5/12  1/2   ──  ⎥\n",
       "⎢                      12  ⎥\n",
       "⎢                          ⎥\n",
       "⎣0   0  0  7/6    4   -59/6⎦"
      ]
     },
     "execution_count": 16,
     "metadata": {},
     "output_type": "execute_result"
    }
   ],
   "source": [
    "A5 = rop(A4, 'R3*(4)+R2=>R2', 'R3*(1)+R1=>R1')\n",
    "A5"
   ]
  },
  {
   "cell_type": "code",
   "execution_count": 20,
   "metadata": {
    "collapsed": false
   },
   "outputs": [
    {
     "data": {
      "image/png": "[encoded data removed]",
      "text/latex": [
       "$$\\left[\\begin{matrix}0 & 0 & 0 & 0 & \\frac{59}{14} & - \\frac{59}{14}\\\\-4 & 1 & 0 & 0 & - \\frac{39}{7} & \\frac{158}{7}\\\\-1 & 0 & 1 & 0 & - \\frac{13}{14} & \\frac{69}{14}\\\\0 & 0 & 0 & 1 & \\frac{24}{7} & - \\frac{59}{7}\\end{matrix}\\right]$$"
      ],
      "text/plain": [
       "⎡              59    -59  ⎤\n",
       "⎢0   0  0  0   ──    ──── ⎥\n",
       "⎢              14     14  ⎥\n",
       "⎢                         ⎥\n",
       "⎢-4  1  0  0  -39/7  158/7⎥\n",
       "⎢                         ⎥\n",
       "⎢             -13     69  ⎥\n",
       "⎢-1  0  1  0  ────    ──  ⎥\n",
       "⎢              14     14  ⎥\n",
       "⎢                         ⎥\n",
       "⎣0   0  0  1  24/7   -59/7⎦"
      ]
     },
     "execution_count": 20,
     "metadata": {},
     "output_type": "execute_result"
    }
   ],
   "source": [
    "A6 = rop(A5, 'R4*(6/7)=>R4','R4*(-5/12)+R3=>R3','R4*(-5/2)+R2=>R2','R4*(13/12)+R1=>R1')\n",
    "A6"
   ]
  },
  {
   "cell_type": "code",
   "execution_count": null,
   "metadata": {
    "collapsed": true
   },
   "outputs": [],
   "source": []
  }
 ],
 "metadata": {
  "kernelspec": {
   "display_name": "Python 3",
   "language": "python",
   "name": "python3"
  },
  "language_info": {
   "codemirror_mode": {
    "name": "ipython",
    "version": 3
   },
   "file_extension": ".py",
   "mimetype": "text/x-python",
   "name": "python",
   "nbconvert_exporter": "python",
   "pygments_lexer": "ipython3",
   "version": "3.5.1"
  }
 },
 "nbformat": 4,
 "nbformat_minor": 0
}
