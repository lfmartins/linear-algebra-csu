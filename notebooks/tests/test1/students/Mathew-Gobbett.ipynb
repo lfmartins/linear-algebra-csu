{
 "cells": [
  {
   "cell_type": "code",
   "execution_count": 2,
   "metadata": {
    "collapsed": false
   },
   "outputs": [],
   "source": [
    "from latools import *\n",
    "from sympy import *\n",
    "init_printing(use_latex=True)"
   ]
  },
  {
   "cell_type": "code",
   "execution_count": 3,
   "metadata": {
    "collapsed": false
   },
   "outputs": [
    {
     "data": {
      "image/png": "[encoded data removed]",
      "text/latex": [
       "$$\\left[\\begin{matrix}-3 & 3 & 0 & 2 & 0 & -16\\\\-2 & 2 & -3 & -3 & -2 & 1\\\\-3 & 3 & -2 & -3 & -3 & -4\\\\0 & 0 & 1 & -2 & -2 & 3\\end{matrix}\\right]$$"
      ],
      "text/plain": [
       "⎡-3  3  0   2   0   -16⎤\n",
       "⎢                      ⎥\n",
       "⎢-2  2  -3  -3  -2   1 ⎥\n",
       "⎢                      ⎥\n",
       "⎢-3  3  -2  -3  -3  -4 ⎥\n",
       "⎢                      ⎥\n",
       "⎣0   0  1   -2  -2   3 ⎦"
      ]
     },
     "execution_count": 3,
     "metadata": {},
     "output_type": "execute_result"
    }
   ],
   "source": [
    "A = matrix_to_rational([[-3, 3,  0,  2,  0, -16],\n",
    "                        [-2, 2, -3, -3, -2,   1],\n",
    "                        [-3, 3, -2, -3, -3,  -4],\n",
    "                        [ 0, 0,  1, -2, -2,   3]])\n",
    "A"
   ]
  },
  {
   "cell_type": "code",
   "execution_count": 4,
   "metadata": {
    "collapsed": false
   },
   "outputs": [
    {
     "data": {
      "image/png": "[encoded data removed]",
      "text/latex": [
       "$$\\left[\\begin{matrix}1 & -1 & 0 & - \\frac{2}{3} & 0 & \\frac{16}{3}\\\\-2 & 2 & -3 & -3 & -2 & 1\\\\-3 & 3 & -2 & -3 & -3 & -4\\\\0 & 0 & 1 & -2 & -2 & 3\\end{matrix}\\right]$$"
      ],
      "text/plain": [
       "⎡1   -1  0   -2/3  0   16/3⎤\n",
       "⎢                          ⎥\n",
       "⎢-2  2   -3   -3   -2   1  ⎥\n",
       "⎢                          ⎥\n",
       "⎢-3  3   -2   -3   -3   -4 ⎥\n",
       "⎢                          ⎥\n",
       "⎣0   0   1    -2   -2   3  ⎦"
      ]
     },
     "execution_count": 4,
     "metadata": {},
     "output_type": "execute_result"
    }
   ],
   "source": [
    "A1 = rop(A, 'R1*(-1/3)=>R1')\n",
    "A1"
   ]
  },
  {
   "cell_type": "code",
   "execution_count": 7,
   "metadata": {
    "collapsed": false
   },
   "outputs": [
    {
     "data": {
      "image/png": "[encoded data removed]",
      "text/latex": [
       "$$\\left[\\begin{matrix}1 & -1 & 0 & - \\frac{2}{3} & 0 & \\frac{16}{3}\\\\0 & 0 & 1 & -2 & -2 & 3\\\\0 & 0 & -2 & -5 & -3 & 12\\\\0 & 0 & -3 & - \\frac{13}{3} & -2 & \\frac{35}{3}\\end{matrix}\\right]$$"
      ],
      "text/plain": [
       "⎡1  -1  0   -2/3   0   16/3⎤\n",
       "⎢                          ⎥\n",
       "⎢0  0   1    -2    -2   3  ⎥\n",
       "⎢                          ⎥\n",
       "⎢0  0   -2   -5    -3   12 ⎥\n",
       "⎢                          ⎥\n",
       "⎣0  0   -3  -13/3  -2  35/3⎦"
      ]
     },
     "execution_count": 7,
     "metadata": {},
     "output_type": "execute_result"
    }
   ],
   "source": [
    "A2 = rop(A1, 'R1*(3)+R3=>R3', 'R1*(2)+R2=>R2', 'R2<=>R4')\n",
    "A2"
   ]
  },
  {
   "cell_type": "code",
   "execution_count": 12,
   "metadata": {
    "collapsed": false
   },
   "outputs": [
    {
     "data": {
      "image/png": "[encoded data removed]",
      "text/latex": [
       "$$\\left[\\begin{matrix}1 & -1 & 0 & - \\frac{2}{3} & 0 & \\frac{16}{3}\\\\0 & 0 & 1 & -2 & -2 & 3\\\\0 & 0 & 0 & 1 & \\frac{7}{9} & -2\\\\0 & 0 & 0 & - \\frac{31}{3} & -8 & \\frac{62}{3}\\end{matrix}\\right]$$"
      ],
      "text/plain": [
       "⎡1  -1  0  -2/3    0   16/3⎤\n",
       "⎢                          ⎥\n",
       "⎢0  0   1   -2    -2    3  ⎥\n",
       "⎢                          ⎥\n",
       "⎢0  0   0    1    7/9   -2 ⎥\n",
       "⎢                          ⎥\n",
       "⎣0  0   0  -31/3  -8   62/3⎦"
      ]
     },
     "execution_count": 12,
     "metadata": {},
     "output_type": "execute_result"
    }
   ],
   "source": [
    "A3 = rop(A2, 'R2*(2)+R3=>R3', 'R2*(3)+R4=>R4', 'R3*(-1/9)=>R3')\n",
    "A3"
   ]
  },
  {
   "cell_type": "code",
   "execution_count": 15,
   "metadata": {
    "collapsed": false
   },
   "outputs": [
    {
     "data": {
      "image/png": "[encoded data removed]",
      "text/latex": [
       "$$\\left[\\begin{matrix}1 & -1 & 0 & 0 & \\frac{14}{27} & 4\\\\0 & 0 & 1 & 0 & - \\frac{4}{9} & -1\\\\0 & 0 & 0 & 1 & \\frac{7}{9} & -2\\\\0 & 0 & 0 & -6 & - \\frac{125}{27} & 12\\end{matrix}\\right]$$"
      ],
      "text/plain": [
       "⎡               14      ⎤\n",
       "⎢1  -1  0  0    ──    4 ⎥\n",
       "⎢               27      ⎥\n",
       "⎢                       ⎥\n",
       "⎢0  0   1  0   -4/9   -1⎥\n",
       "⎢                       ⎥\n",
       "⎢0  0   0  1    7/9   -2⎥\n",
       "⎢                       ⎥\n",
       "⎢              -125     ⎥\n",
       "⎢0  0   0  -6  ─────  12⎥\n",
       "⎣                27     ⎦"
      ]
     },
     "execution_count": 15,
     "metadata": {},
     "output_type": "execute_result"
    }
   ],
   "source": [
    "A4 = rop(A3, 'R3*(2/3)+R1=>R1', 'R3*(2)+R2=>R2', 'R3*(13/3)+R4=>R4')\n",
    "A4"
   ]
  },
  {
   "cell_type": "code",
   "execution_count": 16,
   "metadata": {
    "collapsed": false
   },
   "outputs": [
    {
     "data": {
      "image/png": "[encoded data removed]",
      "text/latex": [
       "$$\\left[\\begin{matrix}1 & -1 & 0 & 0 & \\frac{14}{27} & 4\\\\0 & 0 & 1 & 0 & - \\frac{4}{9} & -1\\\\0 & 0 & 0 & 1 & \\frac{7}{9} & -2\\\\0 & 0 & 0 & \\frac{162}{125} & 1 & - \\frac{324}{125}\\end{matrix}\\right]$$"
      ],
      "text/plain": [
       "⎡                14        ⎤\n",
       "⎢1  -1  0   0    ──     4  ⎥\n",
       "⎢                27        ⎥\n",
       "⎢                          ⎥\n",
       "⎢0  0   1   0   -4/9   -1  ⎥\n",
       "⎢                          ⎥\n",
       "⎢0  0   0   1   7/9    -2  ⎥\n",
       "⎢                          ⎥\n",
       "⎢          162        -324 ⎥\n",
       "⎢0  0   0  ───   1    ─────⎥\n",
       "⎣          125         125 ⎦"
      ]
     },
     "execution_count": 16,
     "metadata": {},
     "output_type": "execute_result"
    }
   ],
   "source": [
    "A5 = rop(A4, 'R4*(-27/125)=>R4')\n",
    "A5"
   ]
  },
  {
   "cell_type": "code",
   "execution_count": 18,
   "metadata": {
    "collapsed": false
   },
   "outputs": [
    {
     "data": {
      "image/png": "[encoded data removed]",
      "text/latex": [
       "$$\\left[\\begin{matrix}1 & -1 & 0 & \\frac{84}{125} & \\frac{28}{27} & \\frac{332}{125}\\\\0 & 0 & 1 & \\frac{72}{125} & 0 & - \\frac{269}{125}\\\\0 & 0 & 0 & - \\frac{1}{125} & 0 & \\frac{2}{125}\\\\0 & 0 & 0 & \\frac{162}{125} & 1 & - \\frac{324}{125}\\end{matrix}\\right]$$"
      ],
      "text/plain": [
       "⎡            84    28   332 ⎤\n",
       "⎢1  -1  0   ───    ──   ─── ⎥\n",
       "⎢           125    27   125 ⎥\n",
       "⎢                           ⎥\n",
       "⎢            72        -269 ⎥\n",
       "⎢0  0   1   ───    0   ─────⎥\n",
       "⎢           125         125 ⎥\n",
       "⎢                           ⎥\n",
       "⎢0  0   0  -1/125  0   2/125⎥\n",
       "⎢                           ⎥\n",
       "⎢           162        -324 ⎥\n",
       "⎢0  0   0   ───    1   ─────⎥\n",
       "⎣           125         125 ⎦"
      ]
     },
     "execution_count": 18,
     "metadata": {},
     "output_type": "execute_result"
    }
   ],
   "source": [
    "A6 = rop(A5, 'R4*(14/27)+R1=>R1', 'R4*(4/9)+R2=>R2', 'R4*(-7/9)+R3=>R3')\n",
    "A6"
   ]
  },
  {
   "cell_type": "code",
   "execution_count": null,
   "metadata": {
    "collapsed": true
   },
   "outputs": [],
   "source": []
  }
 ],
 "metadata": {
  "kernelspec": {
   "display_name": "Python 3",
   "language": "python",
   "name": "python3"
  },
  "language_info": {
   "codemirror_mode": {
    "name": "ipython",
    "version": 3
   },
   "file_extension": ".py",
   "mimetype": "text/x-python",
   "name": "python",
   "nbconvert_exporter": "python",
   "pygments_lexer": "ipython3",
   "version": "3.5.1"
  }
 },
 "nbformat": 4,
 "nbformat_minor": 0
}
