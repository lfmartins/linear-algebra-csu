{
 "cells": [
  {
   "cell_type": "code",
   "execution_count": 1,
   "metadata": {
    "collapsed": false
   },
   "outputs": [],
   "source": [
    "from latools import *\n",
    "from sympy import *\n",
    "init_printing(use_latex=True)"
   ]
  },
  {
   "cell_type": "code",
   "execution_count": 2,
   "metadata": {
    "collapsed": false
   },
   "outputs": [
    {
     "data": {
      "image/png": "[encoded data removed]",
      "text/latex": [
       "$$\\left[\\begin{matrix}-3 & 3 & 0 & 2 & 0 & -16\\\\-2 & 2 & -3 & -3 & -2 & 1\\\\-3 & 3 & -2 & -3 & -3 & -4\\\\0 & 0 & 1 & -2 & -2 & 3\\end{matrix}\\right]$$"
      ],
      "text/plain": [
       "⎡-3  3  0   2   0   -16⎤\n",
       "⎢                      ⎥\n",
       "⎢-2  2  -3  -3  -2   1 ⎥\n",
       "⎢                      ⎥\n",
       "⎢-3  3  -2  -3  -3  -4 ⎥\n",
       "⎢                      ⎥\n",
       "⎣0   0  1   -2  -2   3 ⎦"
      ]
     },
     "execution_count": 2,
     "metadata": {},
     "output_type": "execute_result"
    }
   ],
   "source": [
    "A = matrix_to_rational([[-3, 3,  0,  2,  0, -16],\n",
    "                        [-2, 2, -3, -3, -2,   1],\n",
    "                        [-3, 3, -2, -3, -3,  -4],\n",
    "                        [ 0, 0,  1, -2, -2,   3]])\n",
    "A"
   ]
  },
  {
   "cell_type": "code",
   "execution_count": 11,
   "metadata": {
    "collapsed": false
   },
   "outputs": [
    {
     "data": {
      "image/png": "[encoded data removed]",
      "text/latex": [
       "$$\\left[\\begin{matrix}-8 & 8 & -9 & -14 & -11 & 5\\\\-3 & 3 & -2 & -3 & -3 & -4\\\\\\frac{27}{31} & - \\frac{27}{31} & \\frac{27}{31} & \\frac{40}{31} & \\frac{33}{31} & \\frac{1}{31}\\\\0 & 0 & 1 & -2 & -2 & 3\\end{matrix}\\right]$$"
      ],
      "text/plain": [
       "⎡-8   8    -9  -14  -11   5  ⎤\n",
       "⎢                            ⎥\n",
       "⎢-3   3    -2  -3   -3    -4 ⎥\n",
       "⎢                            ⎥\n",
       "⎢27  -27   27  40   33       ⎥\n",
       "⎢──  ────  ──  ──   ──   1/31⎥\n",
       "⎢31   31   31  31   31       ⎥\n",
       "⎢                            ⎥\n",
       "⎣0    0    1   -2   -2    3  ⎦"
      ]
     },
     "execution_count": 11,
     "metadata": {},
     "output_type": "execute_result"
    }
   ],
   "source": [
    "rop(A, 'R2*(-1)+R1=>R1', 'R1*(-1)=>R1', 'R1*(2)+R2=>R2','R3*(9)+R2=>R2', 'R3*(3)+R1=>R1',\n",
    "       'R3<=>R2','R3*(-1/31)=>R3')"
   ]
  },
  {
   "cell_type": "code",
   "execution_count": null,
   "metadata": {
    "collapsed": true
   },
   "outputs": [],
   "source": []
  }
 ],
 "metadata": {
  "kernelspec": {
   "display_name": "Python 3",
   "language": "python",
   "name": "python3"
  },
  "language_info": {
   "codemirror_mode": {
    "name": "ipython",
    "version": 3
   },
   "file_extension": ".py",
   "mimetype": "text/x-python",
   "name": "python",
   "nbconvert_exporter": "python",
   "pygments_lexer": "ipython3",
   "version": "3.5.1"
  }
 },
 "nbformat": 4,
 "nbformat_minor": 0
}
