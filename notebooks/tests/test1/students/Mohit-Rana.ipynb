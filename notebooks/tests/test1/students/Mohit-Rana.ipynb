{
 "cells": [
  {
   "cell_type": "code",
   "execution_count": 1,
   "metadata": {
    "collapsed": true
   },
   "outputs": [],
   "source": [
    "from latools import *\n",
    "from sympy import *\n",
    "init_printing(use_latex=True)"
   ]
  },
  {
   "cell_type": "markdown",
   "metadata": {},
   "source": [
    "# Problem 1"
   ]
  },
  {
   "cell_type": "code",
   "execution_count": 19,
   "metadata": {
    "collapsed": false
   },
   "outputs": [
    {
     "data": {
      "image/png": "[encoded data removed]",
      "text/latex": [
       "$$\\left[\\begin{matrix}1 & -2 & -5 & -3 & 5 & -14\\\\-3 & 0 & -3 & -2 & 13 & 7\\\\0 & -2 & -6 & -1 & 4 & -9\\\\-1 & -1 & -4 & 1 & 2 & 0\\end{matrix}\\right]$$"
      ],
      "text/plain": [
       "⎡1   -2  -5  -3  5   -14⎤\n",
       "⎢                       ⎥\n",
       "⎢-3  0   -3  -2  13   7 ⎥\n",
       "⎢                       ⎥\n",
       "⎢0   -2  -6  -1  4   -9 ⎥\n",
       "⎢                       ⎥\n",
       "⎣-1  -1  -4  1   2    0 ⎦"
      ]
     },
     "execution_count": 19,
     "metadata": {},
     "output_type": "execute_result"
    }
   ],
   "source": [
    "A = matrix_to_rational([[ 1, -2, -5, -3,  5, -14],\n",
    "                        [-3,  0, -3, -2, 13,   7],\n",
    "                        [ 0, -2, -6, -1,  4,  -9],\n",
    "                        [-1, -1, -4,  1,  2,   0]])\n",
    "A"
   ]
  },
  {
   "cell_type": "code",
   "execution_count": 20,
   "metadata": {
    "collapsed": false
   },
   "outputs": [
    {
     "data": {
      "image/png": "[encoded data removed]",
      "text/latex": [
       "$$\\left[\\begin{matrix}1 & -2 & -5 & -3 & 5 & -14\\\\1 & 0 & 1 & \\frac{2}{3} & - \\frac{13}{3} & - \\frac{7}{3}\\\\0 & -2 & -6 & -1 & 4 & -9\\\\-1 & -1 & -4 & 1 & 2 & 0\\end{matrix}\\right]$$"
      ],
      "text/plain": [
       "⎡1   -2  -5  -3     5    -14 ⎤\n",
       "⎢                            ⎥\n",
       "⎢1   0   1   2/3  -13/3  -7/3⎥\n",
       "⎢                            ⎥\n",
       "⎢0   -2  -6  -1     4     -9 ⎥\n",
       "⎢                            ⎥\n",
       "⎣-1  -1  -4   1     2     0  ⎦"
      ]
     },
     "execution_count": 20,
     "metadata": {},
     "output_type": "execute_result"
    }
   ],
   "source": [
    "A1 = rop(A, 'R2*(-1/3)=>R2')\n",
    "A1"
   ]
  },
  {
   "cell_type": "code",
   "execution_count": 21,
   "metadata": {
    "collapsed": false
   },
   "outputs": [
    {
     "data": {
      "image/png": "[encoded data removed]",
      "text/latex": [
       "$$\\left[\\begin{matrix}1 & -2 & -5 & -3 & 5 & -14\\\\0 & 2 & 6 & \\frac{11}{3} & - \\frac{28}{3} & \\frac{35}{3}\\\\0 & -2 & -6 & -1 & 4 & -9\\\\-1 & -1 & -4 & 1 & 2 & 0\\end{matrix}\\right]$$"
      ],
      "text/plain": [
       "⎡1   -2  -5   -3     5    -14 ⎤\n",
       "⎢                             ⎥\n",
       "⎢0   2   6   11/3  -28/3  35/3⎥\n",
       "⎢                             ⎥\n",
       "⎢0   -2  -6   -1     4     -9 ⎥\n",
       "⎢                             ⎥\n",
       "⎣-1  -1  -4   1      2     0  ⎦"
      ]
     },
     "execution_count": 21,
     "metadata": {},
     "output_type": "execute_result"
    }
   ],
   "source": [
    "A2 = rop(A1, 'R1*(-1)+R2=>R2')\n",
    "A2"
   ]
  },
  {
   "cell_type": "code",
   "execution_count": 35,
   "metadata": {
    "collapsed": false
   },
   "outputs": [
    {
     "data": {
      "image/png": "[encoded data removed]",
      "text/latex": [
       "$$\\left[\\begin{matrix}1 & -2 & -5 & -3 & 5 & -14\\\\0 & 2 & 6 & \\frac{11}{3} & - \\frac{28}{3} & \\frac{35}{3}\\\\0 & -2 & -6 & -1 & 4 & -9\\\\-2 & 1 & 1 & 4 & -3 & 14\\end{matrix}\\right]$$"
      ],
      "text/plain": [
       "⎡1   -2  -5   -3     5    -14 ⎤\n",
       "⎢                             ⎥\n",
       "⎢0   2   6   11/3  -28/3  35/3⎥\n",
       "⎢                             ⎥\n",
       "⎢0   -2  -6   -1     4     -9 ⎥\n",
       "⎢                             ⎥\n",
       "⎣-2  1   1    4     -3     14 ⎦"
      ]
     },
     "execution_count": 35,
     "metadata": {},
     "output_type": "execute_result"
    }
   ],
   "source": [
    "A3 = rop(A2, 'R1*(-1)+R4=>R4')\n",
    "A3"
   ]
  },
  {
   "cell_type": "code",
   "execution_count": 36,
   "metadata": {
    "collapsed": false
   },
   "outputs": [
    {
     "data": {
      "image/png": "[encoded data removed]",
      "text/latex": [
       "$$\\left[\\begin{matrix}1 & -2 & -5 & -3 & 5 & -14\\\\0 & 2 & 6 & \\frac{11}{3} & - \\frac{28}{3} & \\frac{35}{3}\\\\0 & 0 & 0 & \\frac{8}{3} & - \\frac{16}{3} & \\frac{8}{3}\\\\-2 & 1 & 1 & 4 & -3 & 14\\end{matrix}\\right]$$"
      ],
      "text/plain": [
       "⎡1   -2  -5   -3     5    -14 ⎤\n",
       "⎢                             ⎥\n",
       "⎢0   2   6   11/3  -28/3  35/3⎥\n",
       "⎢                             ⎥\n",
       "⎢0   0   0   8/3   -16/3  8/3 ⎥\n",
       "⎢                             ⎥\n",
       "⎣-2  1   1    4     -3     14 ⎦"
      ]
     },
     "execution_count": 36,
     "metadata": {},
     "output_type": "execute_result"
    }
   ],
   "source": [
    "A4 = rop(A3, 'R2*(1)+R3=>R3')\n",
    "A4"
   ]
  },
  {
   "cell_type": "code",
   "execution_count": 37,
   "metadata": {
    "collapsed": false
   },
   "outputs": [
    {
     "data": {
      "image/png": "[encoded data removed]",
      "text/latex": [
       "$$\\left[\\begin{matrix}1 & -2 & -5 & -3 & 5 & -14\\\\0 & 1 & 3 & \\frac{11}{6} & - \\frac{14}{3} & \\frac{35}{6}\\\\0 & 0 & 0 & \\frac{8}{3} & - \\frac{16}{3} & \\frac{8}{3}\\\\-2 & 1 & 1 & 4 & -3 & 14\\end{matrix}\\right]$$"
      ],
      "text/plain": [
       "⎡1   -2  -5   -3     5    -14 ⎤\n",
       "⎢                             ⎥\n",
       "⎢0   1   3   11/6  -14/3  35/6⎥\n",
       "⎢                             ⎥\n",
       "⎢0   0   0   8/3   -16/3  8/3 ⎥\n",
       "⎢                             ⎥\n",
       "⎣-2  1   1    4     -3     14 ⎦"
      ]
     },
     "execution_count": 37,
     "metadata": {},
     "output_type": "execute_result"
    }
   ],
   "source": [
    "A5 = rop(A4, 'R2*(1/2)=>R2')\n",
    "A5"
   ]
  },
  {
   "cell_type": "code",
   "execution_count": 38,
   "metadata": {
    "collapsed": false
   },
   "outputs": [
    {
     "data": {
      "image/png": "[encoded data removed]",
      "text/latex": [
       "$$\\left[\\begin{matrix}1 & -2 & -5 & -3 & 5 & -14\\\\0 & 1 & 3 & \\frac{11}{6} & - \\frac{14}{3} & \\frac{35}{6}\\\\0 & 0 & 0 & \\frac{8}{3} & - \\frac{16}{3} & \\frac{8}{3}\\\\-2 & -2 & -8 & - \\frac{3}{2} & 11 & - \\frac{7}{2}\\end{matrix}\\right]$$"
      ],
      "text/plain": [
       "⎡1   -2  -5   -3     5    -14 ⎤\n",
       "⎢                             ⎥\n",
       "⎢0   1   3   11/6  -14/3  35/6⎥\n",
       "⎢                             ⎥\n",
       "⎢0   0   0   8/3   -16/3  8/3 ⎥\n",
       "⎢                             ⎥\n",
       "⎣-2  -2  -8  -3/2   11    -7/2⎦"
      ]
     },
     "execution_count": 38,
     "metadata": {},
     "output_type": "execute_result"
    }
   ],
   "source": [
    "A6 = rop(A5, 'R2*(-3)+R4=>R4')\n",
    "A6"
   ]
  },
  {
   "cell_type": "code",
   "execution_count": 39,
   "metadata": {
    "collapsed": false
   },
   "outputs": [
    {
     "data": {
      "image/png": "[encoded data removed]",
      "text/latex": [
       "$$\\left[\\begin{matrix}1 & -2 & -5 & -3 & 5 & -14\\\\0 & 1 & 3 & \\frac{11}{6} & - \\frac{14}{3} & \\frac{35}{6}\\\\0 & 0 & 0 & 1 & -2 & 1\\\\-2 & -2 & -8 & - \\frac{3}{2} & 11 & - \\frac{7}{2}\\end{matrix}\\right]$$"
      ],
      "text/plain": [
       "⎡1   -2  -5   -3     5    -14 ⎤\n",
       "⎢                             ⎥\n",
       "⎢0   1   3   11/6  -14/3  35/6⎥\n",
       "⎢                             ⎥\n",
       "⎢0   0   0    1     -2     1  ⎥\n",
       "⎢                             ⎥\n",
       "⎣-2  -2  -8  -3/2   11    -7/2⎦"
      ]
     },
     "execution_count": 39,
     "metadata": {},
     "output_type": "execute_result"
    }
   ],
   "source": [
    "A7 = rop(A6, 'R3*(3/8)=>R3')\n",
    "A7"
   ]
  },
  {
   "cell_type": "code",
   "execution_count": 40,
   "metadata": {
    "collapsed": false
   },
   "outputs": [
    {
     "data": {
      "image/png": "[encoded data removed]",
      "text/latex": [
       "$$\\left[\\begin{matrix}1 & -2 & -5 & -3 & 5 & -14\\\\0 & 1 & 3 & \\frac{11}{6} & - \\frac{14}{3} & \\frac{35}{6}\\\\0 & 0 & 0 & 1 & -2 & 1\\\\\\frac{4}{7} & \\frac{4}{7} & \\frac{16}{7} & \\frac{3}{7} & - \\frac{22}{7} & 1\\end{matrix}\\right]$$"
      ],
      "text/plain": [
       "⎡ 1   -2    -5    -3     5    -14 ⎤\n",
       "⎢                                 ⎥\n",
       "⎢ 0    1    3    11/6  -14/3  35/6⎥\n",
       "⎢                                 ⎥\n",
       "⎢ 0    0    0     1     -2     1  ⎥\n",
       "⎢                                 ⎥\n",
       "⎣4/7  4/7  16/7  3/7   -22/7   1  ⎦"
      ]
     },
     "execution_count": 40,
     "metadata": {},
     "output_type": "execute_result"
    }
   ],
   "source": [
    "A8 = rop(A7, 'R4*(-2/7)=>R4')\n",
    "A8"
   ]
  },
  {
   "cell_type": "code",
   "execution_count": 41,
   "metadata": {
    "collapsed": false
   },
   "outputs": [
    {
     "data": {
      "image/png": "[encoded data removed]",
      "text/latex": [
       "$$\\left[\\begin{matrix}1 & -2 & -5 & -3 & 5 & -14\\\\0 & 1 & 3 & \\frac{11}{6} & - \\frac{14}{3} & \\frac{35}{6}\\\\0 & 0 & 0 & 1 & -2 & 1\\\\\\frac{4}{7} & \\frac{4}{7} & \\frac{16}{7} & - \\frac{4}{7} & - \\frac{8}{7} & 0\\end{matrix}\\right]$$"
      ],
      "text/plain": [
       "⎡ 1   -2    -5    -3     5    -14 ⎤\n",
       "⎢                                 ⎥\n",
       "⎢ 0    1    3    11/6  -14/3  35/6⎥\n",
       "⎢                                 ⎥\n",
       "⎢ 0    0    0     1     -2     1  ⎥\n",
       "⎢                                 ⎥\n",
       "⎣4/7  4/7  16/7  -4/7  -8/7    0  ⎦"
      ]
     },
     "execution_count": 41,
     "metadata": {},
     "output_type": "execute_result"
    }
   ],
   "source": [
    "A9 = rop(A8, 'R3*(-1)+R4=>R4')\n",
    "A9"
   ]
  },
  {
   "cell_type": "code",
   "execution_count": 42,
   "metadata": {
    "collapsed": false
   },
   "outputs": [
    {
     "data": {
      "image/png": "[encoded data removed]",
      "text/latex": [
       "$$\\left[\\begin{matrix}1 & -2 & -5 & -3 & 5 & -14\\\\0 & 1 & 3 & 0 & -1 & 4\\\\0 & 0 & 0 & 1 & -2 & 1\\\\\\frac{4}{7} & \\frac{4}{7} & \\frac{16}{7} & - \\frac{4}{7} & - \\frac{8}{7} & 0\\end{matrix}\\right]$$"
      ],
      "text/plain": [
       "⎡ 1   -2    -5    -3    5    -14⎤\n",
       "⎢                               ⎥\n",
       "⎢ 0    1    3     0     -1    4 ⎥\n",
       "⎢                               ⎥\n",
       "⎢ 0    0    0     1     -2    1 ⎥\n",
       "⎢                               ⎥\n",
       "⎣4/7  4/7  16/7  -4/7  -8/7   0 ⎦"
      ]
     },
     "execution_count": 42,
     "metadata": {},
     "output_type": "execute_result"
    }
   ],
   "source": [
    "A10 = rop(A9, 'R3*(-11/6)+R2=>R2')\n",
    "A10"
   ]
  },
  {
   "cell_type": "code",
   "execution_count": 43,
   "metadata": {
    "collapsed": false
   },
   "outputs": [
    {
     "data": {
      "image/png": "[encoded data removed]",
      "text/latex": [
       "$$\\left[\\begin{matrix}1 & -2 & -5 & - \\frac{11}{3} & \\frac{19}{3} & - \\frac{44}{3}\\\\0 & 1 & 3 & 0 & -1 & 4\\\\0 & 0 & 0 & 1 & -2 & 1\\\\\\frac{4}{7} & \\frac{4}{7} & \\frac{16}{7} & - \\frac{4}{7} & - \\frac{8}{7} & 0\\end{matrix}\\right]$$"
      ],
      "text/plain": [
       "⎡ 1   -2    -5   -11/3  19/3  -44/3⎤\n",
       "⎢                                  ⎥\n",
       "⎢ 0    1    3      0     -1     4  ⎥\n",
       "⎢                                  ⎥\n",
       "⎢ 0    0    0      1     -2     1  ⎥\n",
       "⎢                                  ⎥\n",
       "⎣4/7  4/7  16/7  -4/7   -8/7    0  ⎦"
      ]
     },
     "execution_count": 43,
     "metadata": {},
     "output_type": "execute_result"
    }
   ],
   "source": [
    "A11 = rop(A10, 'R3*(-2/3)+R1=>R1')\n",
    "A11"
   ]
  },
  {
   "cell_type": "markdown",
   "metadata": {
    "collapsed": true
   },
   "source": [
    "# Problem 2"
   ]
  },
  {
   "cell_type": "code",
   "execution_count": 2,
   "metadata": {
    "collapsed": false
   },
   "outputs": [
    {
     "data": {
      "image/png": "[encoded data removed]",
      "text/latex": [
       "$$\\left[\\begin{matrix}-3 & 1 & -1 & 1 & 0 & 0\\\\-1 & 2 & -1 & 0 & 1 & 0\\\\-1 & -1 & 0 & 0 & 0 & 1\\end{matrix}\\right]$$"
      ],
      "text/plain": [
       "⎡-3  1   -1  1  0  0⎤\n",
       "⎢                   ⎥\n",
       "⎢-1  2   -1  0  1  0⎥\n",
       "⎢                   ⎥\n",
       "⎣-1  -1  0   0  0  1⎦"
      ]
     },
     "execution_count": 2,
     "metadata": {},
     "output_type": "execute_result"
    }
   ],
   "source": [
    "A = matrix_to_rational([[-3,  1, -1, 1, 0, 0],\n",
    "                        [-1,  2, -1, 0, 1, 0],\n",
    "                        [-1, -1,  0, 0, 0, 1]])\n",
    "A"
   ]
  },
  {
   "cell_type": "code",
   "execution_count": 3,
   "metadata": {
    "collapsed": false
   },
   "outputs": [
    {
     "data": {
      "image/png": "[encoded data removed]",
      "text/latex": [
       "$$\\left[\\begin{matrix}1 & - \\frac{1}{3} & \\frac{1}{3} & - \\frac{1}{3} & 0 & 0\\\\-1 & 2 & -1 & 0 & 1 & 0\\\\-1 & -1 & 0 & 0 & 0 & 1\\end{matrix}\\right]$$"
      ],
      "text/plain": [
       "⎡1   -1/3  1/3  -1/3  0  0⎤\n",
       "⎢                         ⎥\n",
       "⎢-1   2    -1    0    1  0⎥\n",
       "⎢                         ⎥\n",
       "⎣-1   -1    0    0    0  1⎦"
      ]
     },
     "execution_count": 3,
     "metadata": {},
     "output_type": "execute_result"
    }
   ],
   "source": [
    "A1 = rop(A, 'R1*(-1/3)=>R1')\n",
    "A1"
   ]
  },
  {
   "cell_type": "code",
   "execution_count": 4,
   "metadata": {
    "collapsed": false
   },
   "outputs": [
    {
     "data": {
      "image/png": "[encoded data removed]",
      "text/latex": [
       "$$\\left[\\begin{matrix}1 & - \\frac{1}{3} & \\frac{1}{3} & - \\frac{1}{3} & 0 & 0\\\\1 & -2 & 1 & 0 & -1 & 0\\\\-1 & -1 & 0 & 0 & 0 & 1\\end{matrix}\\right]$$"
      ],
      "text/plain": [
       "⎡1   -1/3  1/3  -1/3  0   0⎤\n",
       "⎢                          ⎥\n",
       "⎢1    -2    1    0    -1  0⎥\n",
       "⎢                          ⎥\n",
       "⎣-1   -1    0    0    0   1⎦"
      ]
     },
     "execution_count": 4,
     "metadata": {},
     "output_type": "execute_result"
    }
   ],
   "source": [
    "A2 = rop(A1, 'R2*(-1)=>R2')\n",
    "A2"
   ]
  },
  {
   "cell_type": "code",
   "execution_count": 6,
   "metadata": {
    "collapsed": false
   },
   "outputs": [
    {
     "data": {
      "image/png": "[encoded data removed]",
      "text/latex": [
       "$$\\left[\\begin{matrix}1 & - \\frac{1}{3} & \\frac{1}{3} & - \\frac{1}{3} & 0 & 0\\\\1 & -2 & 1 & 0 & -1 & 0\\\\1 & 1 & 0 & 0 & 0 & -1\\end{matrix}\\right]$$"
      ],
      "text/plain": [
       "⎡1  -1/3  1/3  -1/3  0   0 ⎤\n",
       "⎢                          ⎥\n",
       "⎢1   -2    1    0    -1  0 ⎥\n",
       "⎢                          ⎥\n",
       "⎣1   1     0    0    0   -1⎦"
      ]
     },
     "execution_count": 6,
     "metadata": {},
     "output_type": "execute_result"
    }
   ],
   "source": [
    "A3 = rop(A2,'R3*(-1)=>R3')\n",
    "A3"
   ]
  },
  {
   "cell_type": "code",
   "execution_count": 7,
   "metadata": {
    "collapsed": false
   },
   "outputs": [
    {
     "data": {
      "image/png": "[encoded data removed]",
      "text/latex": [
       "$$\\left[\\begin{matrix}1 & - \\frac{1}{3} & \\frac{1}{3} & - \\frac{1}{3} & 0 & 0\\\\0 & - \\frac{5}{3} & \\frac{2}{3} & \\frac{1}{3} & -1 & 0\\\\0 & \\frac{4}{3} & - \\frac{1}{3} & \\frac{1}{3} & 0 & -1\\end{matrix}\\right]$$"
      ],
      "text/plain": [
       "⎡1  -1/3  1/3   -1/3  0   0 ⎤\n",
       "⎢                           ⎥\n",
       "⎢0  -5/3  2/3   1/3   -1  0 ⎥\n",
       "⎢                           ⎥\n",
       "⎣0  4/3   -1/3  1/3   0   -1⎦"
      ]
     },
     "execution_count": 7,
     "metadata": {},
     "output_type": "execute_result"
    }
   ],
   "source": [
    "A4 = rop(A3, 'R1*(-1)+R2=>R2', 'R1*(-1)+R3=>R3')\n",
    "A4"
   ]
  },
  {
   "cell_type": "code",
   "execution_count": 10,
   "metadata": {
    "collapsed": false
   },
   "outputs": [
    {
     "data": {
      "image/png": "[encoded data removed]",
      "text/latex": [
       "$$\\left[\\begin{matrix}1 & - \\frac{1}{3} & \\frac{1}{3} & - \\frac{1}{3} & 0 & 0\\\\0 & 1 & - \\frac{2}{5} & - \\frac{1}{5} & \\frac{3}{5} & 0\\\\0 & \\frac{4}{3} & - \\frac{1}{3} & \\frac{1}{3} & 0 & -1\\end{matrix}\\right]$$"
      ],
      "text/plain": [
       "⎡1  -1/3  1/3   -1/3   0   0 ⎤\n",
       "⎢                            ⎥\n",
       "⎢0   1    -2/5  -1/5  3/5  0 ⎥\n",
       "⎢                            ⎥\n",
       "⎣0  4/3   -1/3  1/3    0   -1⎦"
      ]
     },
     "execution_count": 10,
     "metadata": {},
     "output_type": "execute_result"
    }
   ],
   "source": [
    "A5 = rop(A4, 'R2*(-3/5)=>R2')\n",
    "A5"
   ]
  },
  {
   "cell_type": "code",
   "execution_count": 11,
   "metadata": {
    "collapsed": false
   },
   "outputs": [
    {
     "data": {
      "image/png": "[encoded data removed]",
      "text/latex": [
       "$$\\left[\\begin{matrix}1 & - \\frac{1}{3} & \\frac{1}{3} & - \\frac{1}{3} & 0 & 0\\\\0 & 1 & - \\frac{2}{5} & - \\frac{1}{5} & \\frac{3}{5} & 0\\\\0 & 1 & - \\frac{1}{4} & \\frac{1}{4} & 0 & - \\frac{3}{4}\\end{matrix}\\right]$$"
      ],
      "text/plain": [
       "⎡1  -1/3  1/3   -1/3   0    0  ⎤\n",
       "⎢                              ⎥\n",
       "⎢0   1    -2/5  -1/5  3/5   0  ⎥\n",
       "⎢                              ⎥\n",
       "⎣0   1    -1/4  1/4    0   -3/4⎦"
      ]
     },
     "execution_count": 11,
     "metadata": {},
     "output_type": "execute_result"
    }
   ],
   "source": [
    "A6 = rop(A5, 'R3*(3/4)=>R3')\n",
    "A6"
   ]
  },
  {
   "cell_type": "code",
   "execution_count": 12,
   "metadata": {
    "collapsed": false
   },
   "outputs": [
    {
     "data": {
      "image/png": "[encoded data removed]",
      "text/latex": [
       "$$\\left[\\begin{matrix}1 & 0 & \\frac{1}{5} & - \\frac{2}{5} & \\frac{1}{5} & 0\\\\0 & 1 & - \\frac{2}{5} & - \\frac{1}{5} & \\frac{3}{5} & 0\\\\0 & 1 & - \\frac{1}{4} & \\frac{1}{4} & 0 & - \\frac{3}{4}\\end{matrix}\\right]$$"
      ],
      "text/plain": [
       "⎡1  0  1/5   -2/5  1/5   0  ⎤\n",
       "⎢                           ⎥\n",
       "⎢0  1  -2/5  -1/5  3/5   0  ⎥\n",
       "⎢                           ⎥\n",
       "⎣0  1  -1/4  1/4    0   -3/4⎦"
      ]
     },
     "execution_count": 12,
     "metadata": {},
     "output_type": "execute_result"
    }
   ],
   "source": [
    "A7 = rop(A6, 'R2*(1/3)+R1=>R1')\n",
    "A7"
   ]
  },
  {
   "cell_type": "code",
   "execution_count": 13,
   "metadata": {
    "collapsed": false
   },
   "outputs": [
    {
     "data": {
      "image/png": "[encoded data removed]",
      "text/latex": [
       "$$\\left[\\begin{matrix}1 & 0 & \\frac{1}{5} & - \\frac{2}{5} & \\frac{1}{5} & 0\\\\0 & 1 & - \\frac{2}{5} & - \\frac{1}{5} & \\frac{3}{5} & 0\\\\0 & 0 & \\frac{3}{20} & \\frac{9}{20} & - \\frac{3}{5} & - \\frac{3}{4}\\end{matrix}\\right]$$"
      ],
      "text/plain": [
       "⎡1  0  1/5   -2/5  1/5    0  ⎤\n",
       "⎢                            ⎥\n",
       "⎢0  1  -2/5  -1/5  3/5    0  ⎥\n",
       "⎢                            ⎥\n",
       "⎣0  0  3/20  9/20  -3/5  -3/4⎦"
      ]
     },
     "execution_count": 13,
     "metadata": {},
     "output_type": "execute_result"
    }
   ],
   "source": [
    "A8 = rop(A7, 'R2*(-1)+R3=>R3')\n",
    "A8"
   ]
  },
  {
   "cell_type": "code",
   "execution_count": 15,
   "metadata": {
    "collapsed": false
   },
   "outputs": [
    {
     "data": {
      "image/png": "[encoded data removed]",
      "text/latex": [
       "$$\\left[\\begin{matrix}1 & 0 & 0 & -1 & 1 & 1\\\\0 & 1 & 0 & 1 & -1 & -2\\\\0 & 0 & 1 & 3 & -4 & -5\\end{matrix}\\right]$$"
      ],
      "text/plain": [
       "⎡1  0  0  -1  1   1 ⎤\n",
       "⎢                   ⎥\n",
       "⎢0  1  0  1   -1  -2⎥\n",
       "⎢                   ⎥\n",
       "⎣0  0  1  3   -4  -5⎦"
      ]
     },
     "execution_count": 15,
     "metadata": {},
     "output_type": "execute_result"
    }
   ],
   "source": [
    "A9 = rop(A8, 'R3*(20/3)=>R3', 'R3*(2/5)+R2=>R2', 'R3*(-1/5)+R1=>R1')\n",
    "A9"
   ]
  },
  {
   "cell_type": "code",
   "execution_count": null,
   "metadata": {
    "collapsed": true
   },
   "outputs": [],
   "source": []
  }
 ],
 "metadata": {
  "kernelspec": {
   "display_name": "Python 3",
   "language": "python",
   "name": "python3"
  },
  "language_info": {
   "codemirror_mode": {
    "name": "ipython",
    "version": 3
   },
   "file_extension": ".py",
   "mimetype": "text/x-python",
   "name": "python",
   "nbconvert_exporter": "python",
   "pygments_lexer": "ipython3",
   "version": "3.5.1"
  }
 },
 "nbformat": 4,
 "nbformat_minor": 0
}
