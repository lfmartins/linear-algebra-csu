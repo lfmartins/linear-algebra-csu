{
 "cells": [
  {
   "cell_type": "code",
   "execution_count": 1,
   "metadata": {
    "collapsed": true
   },
   "outputs": [],
   "source": [
    "from latools import *\n",
    "from sympy import *\n",
    "init_printing(use_latex=True)"
   ]
  },
  {
   "cell_type": "markdown",
   "metadata": {},
   "source": [
    "# Problem 1"
   ]
  },
  {
   "cell_type": "code",
   "execution_count": 10,
   "metadata": {
    "collapsed": false
   },
   "outputs": [
    {
     "data": {
      "image/png": "[encoded data removed]",
      "text/latex": [
       "$$\\left[\\begin{matrix}-3 & 3 & 0 & 2 & 0 & -16\\\\-2 & 2 & -3 & -3 & -2 & 1\\\\-3 & 3 & -2 & -3 & -3 & -4\\\\0 & 0 & 1 & -2 & -2 & 3\\end{matrix}\\right]$$"
      ],
      "text/plain": [
       "⎡-3  3  0   2   0   -16⎤\n",
       "⎢                      ⎥\n",
       "⎢-2  2  -3  -3  -2   1 ⎥\n",
       "⎢                      ⎥\n",
       "⎢-3  3  -2  -3  -3  -4 ⎥\n",
       "⎢                      ⎥\n",
       "⎣0   0  1   -2  -2   3 ⎦"
      ]
     },
     "execution_count": 10,
     "metadata": {},
     "output_type": "execute_result"
    }
   ],
   "source": [
    "A = matrix_to_rational([[-3, 3,  0,  2,  0, -16],\n",
    "                        [-2, 2, -3, -3, -2,   1],\n",
    "                        [-3, 3, -2, -3, -3,  -4],\n",
    "                        [ 0, 0,  1, -2, -2,   3]])\n",
    "A"
   ]
  },
  {
   "cell_type": "code",
   "execution_count": 11,
   "metadata": {
    "collapsed": false
   },
   "outputs": [
    {
     "data": {
      "image/png": "[encoded data removed]",
      "text/latex": [
       "$$\\left[\\begin{matrix}1 & -1 & 0 & - \\frac{2}{3} & 0 & \\frac{16}{3}\\\\-2 & 2 & -3 & -3 & -2 & 1\\\\-3 & 3 & -2 & -3 & -3 & -4\\\\0 & 0 & 1 & -2 & -2 & 3\\end{matrix}\\right]$$"
      ],
      "text/plain": [
       "⎡1   -1  0   -2/3  0   16/3⎤\n",
       "⎢                          ⎥\n",
       "⎢-2  2   -3   -3   -2   1  ⎥\n",
       "⎢                          ⎥\n",
       "⎢-3  3   -2   -3   -3   -4 ⎥\n",
       "⎢                          ⎥\n",
       "⎣0   0   1    -2   -2   3  ⎦"
      ]
     },
     "execution_count": 11,
     "metadata": {},
     "output_type": "execute_result"
    }
   ],
   "source": [
    "A1 = rop(A, 'R1*(-1/3)=>R1')\n",
    "A1"
   ]
  },
  {
   "cell_type": "code",
   "execution_count": 12,
   "metadata": {
    "collapsed": false
   },
   "outputs": [
    {
     "data": {
      "image/png": "[encoded data removed]",
      "text/latex": [
       "$$\\left[\\begin{matrix}1 & -1 & 0 & - \\frac{2}{3} & 0 & \\frac{16}{3}\\\\0 & 0 & -3 & - \\frac{13}{3} & -2 & \\frac{35}{3}\\\\0 & 0 & -2 & -5 & -3 & 12\\\\0 & 0 & 1 & -2 & -2 & 3\\end{matrix}\\right]$$"
      ],
      "text/plain": [
       "⎡1  -1  0   -2/3   0   16/3⎤\n",
       "⎢                          ⎥\n",
       "⎢0  0   -3  -13/3  -2  35/3⎥\n",
       "⎢                          ⎥\n",
       "⎢0  0   -2   -5    -3   12 ⎥\n",
       "⎢                          ⎥\n",
       "⎣0  0   1    -2    -2   3  ⎦"
      ]
     },
     "execution_count": 12,
     "metadata": {},
     "output_type": "execute_result"
    }
   ],
   "source": [
    "A2 = rop(A1, 'R1*(2)+R2=>R2', 'R1*(3)+R3=>R3')\n",
    "A2"
   ]
  },
  {
   "cell_type": "code",
   "execution_count": 13,
   "metadata": {
    "collapsed": false
   },
   "outputs": [
    {
     "data": {
      "image/png": "[encoded data removed]",
      "text/latex": [
       "$$\\left[\\begin{matrix}1 & -1 & 0 & - \\frac{2}{3} & 0 & \\frac{16}{3}\\\\0 & 0 & 1 & \\frac{13}{9} & \\frac{2}{3} & - \\frac{35}{9}\\\\0 & 0 & -2 & -5 & -3 & 12\\\\0 & 0 & 1 & -2 & -2 & 3\\end{matrix}\\right]$$"
      ],
      "text/plain": [
       "⎡1  -1  0   -2/3   0   16/3 ⎤\n",
       "⎢                           ⎥\n",
       "⎢0  0   1   13/9  2/3  -35/9⎥\n",
       "⎢                           ⎥\n",
       "⎢0  0   -2   -5   -3    12  ⎥\n",
       "⎢                           ⎥\n",
       "⎣0  0   1    -2   -2     3  ⎦"
      ]
     },
     "execution_count": 13,
     "metadata": {},
     "output_type": "execute_result"
    }
   ],
   "source": [
    "A3 = rop(A2, 'R2*(-1/3)=>R2')\n",
    "A3"
   ]
  },
  {
   "cell_type": "code",
   "execution_count": 14,
   "metadata": {
    "collapsed": false
   },
   "outputs": [
    {
     "data": {
      "image/png": "[encoded data removed]",
      "text/latex": [
       "$$\\left[\\begin{matrix}1 & -1 & 0 & - \\frac{2}{3} & 0 & \\frac{16}{3}\\\\0 & 0 & 1 & \\frac{13}{9} & \\frac{2}{3} & - \\frac{35}{9}\\\\0 & 0 & 0 & - \\frac{19}{9} & - \\frac{5}{3} & \\frac{38}{9}\\\\0 & 0 & 0 & - \\frac{31}{9} & - \\frac{8}{3} & \\frac{62}{9}\\end{matrix}\\right]$$"
      ],
      "text/plain": [
       "⎡1  -1  0  -2/3    0    16/3 ⎤\n",
       "⎢                            ⎥\n",
       "⎢0  0   1  13/9   2/3   -35/9⎥\n",
       "⎢                            ⎥\n",
       "⎢0  0   0  -19/9  -5/3  38/9 ⎥\n",
       "⎢                            ⎥\n",
       "⎣0  0   0  -31/9  -8/3  62/9 ⎦"
      ]
     },
     "execution_count": 14,
     "metadata": {},
     "output_type": "execute_result"
    }
   ],
   "source": [
    "A4 = rop(A3, 'R2*(2)+R3=>R3', 'R2*(-1)+R4=>R4')\n",
    "A4"
   ]
  },
  {
   "cell_type": "code",
   "execution_count": 15,
   "metadata": {
    "collapsed": false
   },
   "outputs": [
    {
     "data": {
      "image/png": "[encoded data removed]",
      "text/latex": [
       "$$\\left[\\begin{matrix}1 & -1 & 0 & - \\frac{2}{3} & 0 & \\frac{16}{3}\\\\0 & 0 & 1 & \\frac{13}{9} & \\frac{2}{3} & - \\frac{35}{9}\\\\0 & 0 & 0 & 1 & \\frac{15}{19} & -2\\\\0 & 0 & 0 & - \\frac{31}{9} & - \\frac{8}{3} & \\frac{62}{9}\\end{matrix}\\right]$$"
      ],
      "text/plain": [
       "⎡1  -1  0  -2/3    0    16/3 ⎤\n",
       "⎢                            ⎥\n",
       "⎢0  0   1  13/9   2/3   -35/9⎥\n",
       "⎢                            ⎥\n",
       "⎢                  15        ⎥\n",
       "⎢0  0   0    1     ──    -2  ⎥\n",
       "⎢                  19        ⎥\n",
       "⎢                            ⎥\n",
       "⎣0  0   0  -31/9  -8/3  62/9 ⎦"
      ]
     },
     "execution_count": 15,
     "metadata": {},
     "output_type": "execute_result"
    }
   ],
   "source": [
    "A5 = rop(A4, 'R3*(-9/19)=>R3')\n",
    "A5"
   ]
  },
  {
   "cell_type": "code",
   "execution_count": 16,
   "metadata": {
    "collapsed": false
   },
   "outputs": [
    {
     "data": {
      "image/png": "[encoded data removed]",
      "text/latex": [
       "$$\\left[\\begin{matrix}1 & -1 & 0 & 0 & \\frac{10}{19} & 4\\\\0 & 0 & 1 & 0 & - \\frac{9}{19} & -1\\\\0 & 0 & 0 & 1 & \\frac{15}{19} & -2\\\\0 & 0 & 0 & 0 & \\frac{1}{19} & 0\\end{matrix}\\right]$$"
      ],
      "text/plain": [
       "⎡              10      ⎤\n",
       "⎢1  -1  0  0   ──    4 ⎥\n",
       "⎢              19      ⎥\n",
       "⎢                      ⎥\n",
       "⎢0  0   1  0  -9/19  -1⎥\n",
       "⎢                      ⎥\n",
       "⎢              15      ⎥\n",
       "⎢0  0   0  1   ──    -2⎥\n",
       "⎢              19      ⎥\n",
       "⎢                      ⎥\n",
       "⎣0  0   0  0  1/19   0 ⎦"
      ]
     },
     "execution_count": 16,
     "metadata": {},
     "output_type": "execute_result"
    }
   ],
   "source": [
    "A6 = rop(A5, 'R3*(2/3)+R1=>R1', 'R3*(-13/9)+R2=>R2', 'R3*(31/9)+R4=>R4')\n",
    "A6"
   ]
  },
  {
   "cell_type": "code",
   "execution_count": 17,
   "metadata": {
    "collapsed": false
   },
   "outputs": [
    {
     "data": {
      "image/png": "[encoded data removed]",
      "text/latex": [
       "$$\\left[\\begin{matrix}1 & -1 & 0 & 0 & \\frac{10}{19} & 4\\\\0 & 0 & 1 & 0 & - \\frac{9}{19} & -1\\\\0 & 0 & 0 & 1 & \\frac{15}{19} & -2\\\\0 & 0 & 0 & 0 & 1 & 0\\end{matrix}\\right]$$"
      ],
      "text/plain": [
       "⎡              10      ⎤\n",
       "⎢1  -1  0  0   ──    4 ⎥\n",
       "⎢              19      ⎥\n",
       "⎢                      ⎥\n",
       "⎢0  0   1  0  -9/19  -1⎥\n",
       "⎢                      ⎥\n",
       "⎢              15      ⎥\n",
       "⎢0  0   0  1   ──    -2⎥\n",
       "⎢              19      ⎥\n",
       "⎢                      ⎥\n",
       "⎣0  0   0  0    1    0 ⎦"
      ]
     },
     "execution_count": 17,
     "metadata": {},
     "output_type": "execute_result"
    }
   ],
   "source": [
    "A7 = rop(A6, 'R4*(19)=>R4')\n",
    "A7"
   ]
  },
  {
   "cell_type": "code",
   "execution_count": 18,
   "metadata": {
    "collapsed": false
   },
   "outputs": [
    {
     "data": {
      "image/png": "[encoded data removed]",
      "text/latex": [
       "$$\\left[\\begin{matrix}1 & -1 & 0 & 0 & 0 & 4\\\\0 & 0 & 1 & 0 & 0 & -1\\\\0 & 0 & 0 & 1 & 0 & -2\\\\0 & 0 & 0 & 0 & 1 & 0\\end{matrix}\\right]$$"
      ],
      "text/plain": [
       "⎡1  -1  0  0  0  4 ⎤\n",
       "⎢                  ⎥\n",
       "⎢0  0   1  0  0  -1⎥\n",
       "⎢                  ⎥\n",
       "⎢0  0   0  1  0  -2⎥\n",
       "⎢                  ⎥\n",
       "⎣0  0   0  0  1  0 ⎦"
      ]
     },
     "execution_count": 18,
     "metadata": {},
     "output_type": "execute_result"
    }
   ],
   "source": [
    "A8 = rop(A7, 'R4*(-10/19)+R1=>R1', 'R4*(9/19)+R2=>R2', 'R4*(-15/19)+R3=>R3')\n",
    "A8"
   ]
  },
  {
   "cell_type": "markdown",
   "metadata": {},
   "source": [
    "# Problem 2"
   ]
  },
  {
   "cell_type": "code",
   "execution_count": 27,
   "metadata": {
    "collapsed": false
   },
   "outputs": [
    {
     "data": {
      "image/png": "[encoded data removed]",
      "text/latex": [
       "$$\\left[\\begin{matrix}3 & -5 & 3 & 1 & 0 & 0\\\\1 & -4 & 3 & 0 & 1 & 0\\\\1 & -3 & 2 & 0 & 0 & 1\\end{matrix}\\right]$$"
      ],
      "text/plain": [
       "⎡3  -5  3  1  0  0⎤\n",
       "⎢                 ⎥\n",
       "⎢1  -4  3  0  1  0⎥\n",
       "⎢                 ⎥\n",
       "⎣1  -3  2  0  0  1⎦"
      ]
     },
     "execution_count": 27,
     "metadata": {},
     "output_type": "execute_result"
    }
   ],
   "source": [
    "A = matrix_to_rational([[3, -5, 3, 1, 0, 0],\n",
    "                        [1, -4, 3, 0, 1, 0],\n",
    "                        [1, -3, 2, 0, 0, 1]])\n",
    "A"
   ]
  },
  {
   "cell_type": "code",
   "execution_count": 28,
   "metadata": {
    "collapsed": false
   },
   "outputs": [
    {
     "data": {
      "image/png": "[encoded data removed]",
      "text/latex": [
       "$$\\left[\\begin{matrix}1 & - \\frac{5}{3} & 1 & \\frac{1}{3} & 0 & 0\\\\1 & -4 & 3 & 0 & 1 & 0\\\\1 & -3 & 2 & 0 & 0 & 1\\end{matrix}\\right]$$"
      ],
      "text/plain": [
       "⎡1  -5/3  1  1/3  0  0⎤\n",
       "⎢                     ⎥\n",
       "⎢1   -4   3   0   1  0⎥\n",
       "⎢                     ⎥\n",
       "⎣1   -3   2   0   0  1⎦"
      ]
     },
     "execution_count": 28,
     "metadata": {},
     "output_type": "execute_result"
    }
   ],
   "source": [
    "A1 = rop(A, 'R1*(1/3)=>R1')\n",
    "A1"
   ]
  },
  {
   "cell_type": "code",
   "execution_count": 29,
   "metadata": {
    "collapsed": false
   },
   "outputs": [
    {
     "data": {
      "image/png": "[encoded data removed]",
      "text/latex": [
       "$$\\left[\\begin{matrix}1 & - \\frac{5}{3} & 1 & \\frac{1}{3} & 0 & 0\\\\0 & - \\frac{7}{3} & 2 & - \\frac{1}{3} & 1 & 0\\\\0 & - \\frac{4}{3} & 1 & - \\frac{1}{3} & 0 & 1\\end{matrix}\\right]$$"
      ],
      "text/plain": [
       "⎡1  -5/3  1  1/3   0  0⎤\n",
       "⎢                      ⎥\n",
       "⎢0  -7/3  2  -1/3  1  0⎥\n",
       "⎢                      ⎥\n",
       "⎣0  -4/3  1  -1/3  0  1⎦"
      ]
     },
     "execution_count": 29,
     "metadata": {},
     "output_type": "execute_result"
    }
   ],
   "source": [
    "A2 = rop(A1, 'R1*(-1)+R2=>R2', 'R1*(-1)+R3=>R3')\n",
    "A2"
   ]
  },
  {
   "cell_type": "code",
   "execution_count": 30,
   "metadata": {
    "collapsed": false
   },
   "outputs": [
    {
     "data": {
      "image/png": "[encoded data removed]",
      "text/latex": [
       "$$\\left[\\begin{matrix}1 & - \\frac{5}{3} & 1 & \\frac{1}{3} & 0 & 0\\\\0 & 1 & - \\frac{6}{7} & \\frac{1}{7} & - \\frac{3}{7} & 0\\\\0 & - \\frac{4}{3} & 1 & - \\frac{1}{3} & 0 & 1\\end{matrix}\\right]$$"
      ],
      "text/plain": [
       "⎡1  -5/3   1    1/3    0    0⎤\n",
       "⎢                            ⎥\n",
       "⎢0   1    -6/7  1/7   -3/7  0⎥\n",
       "⎢                            ⎥\n",
       "⎣0  -4/3   1    -1/3   0    1⎦"
      ]
     },
     "execution_count": 30,
     "metadata": {},
     "output_type": "execute_result"
    }
   ],
   "source": [
    "A3 = rop(A2, 'R2*(-3/7)=>R2')\n",
    "A3"
   ]
  },
  {
   "cell_type": "code",
   "execution_count": 31,
   "metadata": {
    "collapsed": false
   },
   "outputs": [
    {
     "data": {
      "image/png": "[encoded data removed]",
      "text/latex": [
       "$$\\left[\\begin{matrix}1 & 0 & - \\frac{3}{7} & \\frac{4}{7} & - \\frac{5}{7} & 0\\\\0 & 1 & - \\frac{6}{7} & \\frac{1}{7} & - \\frac{3}{7} & 0\\\\0 & 0 & - \\frac{1}{7} & - \\frac{1}{7} & - \\frac{4}{7} & 1\\end{matrix}\\right]$$"
      ],
      "text/plain": [
       "⎡1  0  -3/7  4/7   -5/7  0⎤\n",
       "⎢                         ⎥\n",
       "⎢0  1  -6/7  1/7   -3/7  0⎥\n",
       "⎢                         ⎥\n",
       "⎣0  0  -1/7  -1/7  -4/7  1⎦"
      ]
     },
     "execution_count": 31,
     "metadata": {},
     "output_type": "execute_result"
    }
   ],
   "source": [
    "A4 = rop(A3, 'R2*(5/3)+R1=>R1', 'R2*(4/3)+R3=>R3')\n",
    "A4"
   ]
  },
  {
   "cell_type": "code",
   "execution_count": 32,
   "metadata": {
    "collapsed": false
   },
   "outputs": [
    {
     "data": {
      "image/png": "[encoded data removed]",
      "text/latex": [
       "$$\\left[\\begin{matrix}1 & 0 & - \\frac{3}{7} & \\frac{4}{7} & - \\frac{5}{7} & 0\\\\0 & 1 & - \\frac{6}{7} & \\frac{1}{7} & - \\frac{3}{7} & 0\\\\0 & 0 & -1 & -1 & -4 & 7\\end{matrix}\\right]$$"
      ],
      "text/plain": [
       "⎡1  0  -3/7  4/7  -5/7  0⎤\n",
       "⎢                        ⎥\n",
       "⎢0  1  -6/7  1/7  -3/7  0⎥\n",
       "⎢                        ⎥\n",
       "⎣0  0   -1   -1    -4   7⎦"
      ]
     },
     "execution_count": 32,
     "metadata": {},
     "output_type": "execute_result"
    }
   ],
   "source": [
    "A5 = rop(A4, 'R3*(7)=>R3')\n",
    "A5"
   ]
  },
  {
   "cell_type": "code",
   "execution_count": 33,
   "metadata": {
    "collapsed": false
   },
   "outputs": [
    {
     "data": {
      "image/png": "[encoded data removed]",
      "text/latex": [
       "$$\\left[\\begin{matrix}1 & 0 & - \\frac{3}{7} & \\frac{4}{7} & - \\frac{5}{7} & 0\\\\0 & 1 & - \\frac{6}{7} & \\frac{1}{7} & - \\frac{3}{7} & 0\\\\0 & 0 & 1 & 1 & 4 & -7\\end{matrix}\\right]$$"
      ],
      "text/plain": [
       "⎡1  0  -3/7  4/7  -5/7  0 ⎤\n",
       "⎢                         ⎥\n",
       "⎢0  1  -6/7  1/7  -3/7  0 ⎥\n",
       "⎢                         ⎥\n",
       "⎣0  0   1     1    4    -7⎦"
      ]
     },
     "execution_count": 33,
     "metadata": {},
     "output_type": "execute_result"
    }
   ],
   "source": [
    "A6 = rop(A5, 'R3*(-1)=>R3')\n",
    "A6"
   ]
  },
  {
   "cell_type": "code",
   "execution_count": 34,
   "metadata": {
    "collapsed": false
   },
   "outputs": [
    {
     "data": {
      "image/png": "[encoded data removed]",
      "text/latex": [
       "$$\\left[\\begin{matrix}1 & 0 & 0 & 1 & 1 & -3\\\\0 & 1 & 0 & 1 & 3 & -6\\\\0 & 0 & 1 & 1 & 4 & -7\\end{matrix}\\right]$$"
      ],
      "text/plain": [
       "⎡1  0  0  1  1  -3⎤\n",
       "⎢                 ⎥\n",
       "⎢0  1  0  1  3  -6⎥\n",
       "⎢                 ⎥\n",
       "⎣0  0  1  1  4  -7⎦"
      ]
     },
     "execution_count": 34,
     "metadata": {},
     "output_type": "execute_result"
    }
   ],
   "source": [
    "A7 = rop(A6, 'R3*(3/7)+R1=>R1', 'R3*(6/7)+R2=>R2')\n",
    "A7"
   ]
  },
  {
   "cell_type": "markdown",
   "metadata": {},
   "source": [
    "# Problem 4"
   ]
  },
  {
   "cell_type": "code",
   "execution_count": 35,
   "metadata": {
    "collapsed": false
   },
   "outputs": [
    {
     "data": {
      "image/png": "[encoded data removed]",
      "text/latex": [
       "$$\\left[\\begin{matrix}-2 & 3 & x\\\\-3 & 4 & y\\end{matrix}\\right]$$"
      ],
      "text/plain": [
       "⎡-2  3  x⎤\n",
       "⎢        ⎥\n",
       "⎣-3  4  y⎦"
      ]
     },
     "execution_count": 35,
     "metadata": {},
     "output_type": "execute_result"
    }
   ],
   "source": [
    "x, y = symbols('x,y')\n",
    "A = matrix_to_rational([[-2, 3, x],\n",
    "                        [-3, 4, y]])\n",
    "A"
   ]
  },
  {
   "cell_type": "code",
   "execution_count": 36,
   "metadata": {
    "collapsed": false
   },
   "outputs": [
    {
     "data": {
      "image/png": "[encoded data removed]",
      "text/latex": [
       "$$\\left[\\begin{matrix}1 & - \\frac{3}{2} & - \\frac{x}{2}\\\\-3 & 4 & y\\end{matrix}\\right]$$"
      ],
      "text/plain": [
       "⎡          -x ⎤\n",
       "⎢1   -3/2  ───⎥\n",
       "⎢           2 ⎥\n",
       "⎢             ⎥\n",
       "⎣-3   4     y ⎦"
      ]
     },
     "execution_count": 36,
     "metadata": {},
     "output_type": "execute_result"
    }
   ],
   "source": [
    "A1 = rop(A, 'R1*(-1/2)=>R1')\n",
    "A1"
   ]
  },
  {
   "cell_type": "code",
   "execution_count": 37,
   "metadata": {
    "collapsed": false
   },
   "outputs": [
    {
     "data": {
      "image/png": "[encoded data removed]",
      "text/latex": [
       "$$\\left[\\begin{matrix}1 & - \\frac{3}{2} & - \\frac{x}{2}\\\\0 & - \\frac{1}{2} & - \\frac{3 x}{2} + y\\end{matrix}\\right]$$"
      ],
      "text/plain": [
       "⎡            -x    ⎤\n",
       "⎢1  -3/2     ───   ⎥\n",
       "⎢             2    ⎥\n",
       "⎢                  ⎥\n",
       "⎢           3⋅x    ⎥\n",
       "⎢0  -1/2  - ─── + y⎥\n",
       "⎣            2     ⎦"
      ]
     },
     "execution_count": 37,
     "metadata": {},
     "output_type": "execute_result"
    }
   ],
   "source": [
    "A2 = rop(A1, 'R1*(3)+R2=>R2')\n",
    "A2"
   ]
  },
  {
   "cell_type": "code",
   "execution_count": 38,
   "metadata": {
    "collapsed": false
   },
   "outputs": [
    {
     "data": {
      "image/png": "[encoded data removed]",
      "text/latex": [
       "$$\\left[\\begin{matrix}1 & - \\frac{3}{2} & - \\frac{x}{2}\\\\0 & 1 & 3 x - 2 y\\end{matrix}\\right]$$"
      ],
      "text/plain": [
       "⎡            -x    ⎤\n",
       "⎢1  -3/2     ───   ⎥\n",
       "⎢             2    ⎥\n",
       "⎢                  ⎥\n",
       "⎣0   1    3⋅x - 2⋅y⎦"
      ]
     },
     "execution_count": 38,
     "metadata": {},
     "output_type": "execute_result"
    }
   ],
   "source": [
    "A3 = rop(A2, 'R2*(-2)=>R2')\n",
    "A3"
   ]
  },
  {
   "cell_type": "code",
   "execution_count": 39,
   "metadata": {
    "collapsed": false
   },
   "outputs": [
    {
     "data": {
      "image/png": "[encoded data removed]",
      "text/latex": [
       "$$\\left[\\begin{matrix}1 & 0 & 4 x - 3 y\\\\0 & 1 & 3 x - 2 y\\end{matrix}\\right]$$"
      ],
      "text/plain": [
       "⎡1  0  4⋅x - 3⋅y⎤\n",
       "⎢               ⎥\n",
       "⎣0  1  3⋅x - 2⋅y⎦"
      ]
     },
     "execution_count": 39,
     "metadata": {},
     "output_type": "execute_result"
    }
   ],
   "source": [
    "A4 = rop(A3, 'R2*(3/2)+R1=>R1')\n",
    "A4"
   ]
  },
  {
   "cell_type": "code",
   "execution_count": 40,
   "metadata": {
    "collapsed": false
   },
   "outputs": [
    {
     "data": {
      "image/png": "[encoded data removed]",
      "text/latex": [
       "$$26$$"
      ],
      "text/plain": [
       "26"
      ]
     },
     "execution_count": 40,
     "metadata": {},
     "output_type": "execute_result"
    }
   ],
   "source": [
    "4*5-3*-2"
   ]
  },
  {
   "cell_type": "code",
   "execution_count": 41,
   "metadata": {
    "collapsed": false
   },
   "outputs": [
    {
     "data": {
      "image/png": "[encoded data removed]",
      "text/latex": [
       "$$19$$"
      ],
      "text/plain": [
       "19"
      ]
     },
     "execution_count": 41,
     "metadata": {},
     "output_type": "execute_result"
    }
   ],
   "source": [
    "3*5-2*-2"
   ]
  },
  {
   "cell_type": "code",
   "execution_count": 42,
   "metadata": {
    "collapsed": false
   },
   "outputs": [
    {
     "data": {
      "image/png": "[encoded data removed]",
      "text/latex": [
       "$$94$$"
      ],
      "text/plain": [
       "94"
      ]
     },
     "execution_count": 42,
     "metadata": {},
     "output_type": "execute_result"
    }
   ],
   "source": [
    "26*8+19*(-6)"
   ]
  },
  {
   "cell_type": "code",
   "execution_count": 43,
   "metadata": {
    "collapsed": false
   },
   "outputs": [
    {
     "data": {
      "image/png": "[encoded data removed]",
      "text/latex": [
       "$$154$$"
      ],
      "text/plain": [
       "154"
      ]
     },
     "execution_count": 43,
     "metadata": {},
     "output_type": "execute_result"
    }
   ],
   "source": [
    "26*3+19*4"
   ]
  },
  {
   "cell_type": "code",
   "execution_count": 44,
   "metadata": {
    "collapsed": false
   },
   "outputs": [
    {
     "data": {
      "image/png": "[encoded data removed]",
      "text/latex": [
       "$$\\left[\\begin{matrix}4 & -3\\\\3 & -2\\end{matrix}\\right]$$"
      ],
      "text/plain": [
       "⎡4  -3⎤\n",
       "⎢     ⎥\n",
       "⎣3  -2⎦"
      ]
     },
     "execution_count": 44,
     "metadata": {},
     "output_type": "execute_result"
    }
   ],
   "source": [
    "P = Matrix([[4,-3],[3,-2]])\n",
    "P"
   ]
  },
  {
   "cell_type": "code",
   "execution_count": 45,
   "metadata": {
    "collapsed": false
   },
   "outputs": [
    {
     "data": {
      "image/png": "[encoded data removed]",
      "text/latex": [
       "$$\\left[\\begin{matrix}5\\\\-2\\end{matrix}\\right]$$"
      ],
      "text/plain": [
       "⎡5 ⎤\n",
       "⎢  ⎥\n",
       "⎣-2⎦"
      ]
     },
     "execution_count": 45,
     "metadata": {},
     "output_type": "execute_result"
    }
   ],
   "source": [
    "v = Matrix([5,-2])\n",
    "v"
   ]
  },
  {
   "cell_type": "code",
   "execution_count": 46,
   "metadata": {
    "collapsed": false
   },
   "outputs": [
    {
     "data": {
      "image/png": "[encoded data removed]",
      "text/latex": [
       "$$\\left[\\begin{matrix}26\\\\19\\end{matrix}\\right]$$"
      ],
      "text/plain": [
       "⎡26⎤\n",
       "⎢  ⎥\n",
       "⎣19⎦"
      ]
     },
     "execution_count": 46,
     "metadata": {},
     "output_type": "execute_result"
    }
   ],
   "source": [
    "P*v"
   ]
  },
  {
   "cell_type": "code",
   "execution_count": 48,
   "metadata": {
    "collapsed": false
   },
   "outputs": [
    {
     "data": {
      "image/png": "[encoded data removed]",
      "text/latex": [
       "$$\\left[\\begin{matrix}8 & -6\\\\3 & 4\\end{matrix}\\right]$$"
      ],
      "text/plain": [
       "⎡8  -6⎤\n",
       "⎢     ⎥\n",
       "⎣3  4 ⎦"
      ]
     },
     "execution_count": 48,
     "metadata": {},
     "output_type": "execute_result"
    }
   ],
   "source": [
    "M = Matrix([[8,-6],[3,4]])\n",
    "M"
   ]
  },
  {
   "cell_type": "code",
   "execution_count": 49,
   "metadata": {
    "collapsed": false
   },
   "outputs": [
    {
     "data": {
      "image/png": "[encoded data removed]",
      "text/latex": [
       "$$\\left[\\begin{matrix}94\\\\154\\end{matrix}\\right]$$"
      ],
      "text/plain": [
       "⎡94 ⎤\n",
       "⎢   ⎥\n",
       "⎣154⎦"
      ]
     },
     "execution_count": 49,
     "metadata": {},
     "output_type": "execute_result"
    }
   ],
   "source": [
    "M*P*v"
   ]
  },
  {
   "cell_type": "code",
   "execution_count": null,
   "metadata": {
    "collapsed": true
   },
   "outputs": [],
   "source": []
  },
  {
   "cell_type": "code",
   "execution_count": null,
   "metadata": {
    "collapsed": true
   },
   "outputs": [],
   "source": []
  },
  {
   "cell_type": "code",
   "execution_count": null,
   "metadata": {
    "collapsed": true
   },
   "outputs": [],
   "source": []
  }
 ],
 "metadata": {
  "kernelspec": {
   "display_name": "Python 3",
   "language": "python",
   "name": "python3"
  },
  "language_info": {
   "codemirror_mode": {
    "name": "ipython",
    "version": 3
   },
   "file_extension": ".py",
   "mimetype": "text/x-python",
   "name": "python",
   "nbconvert_exporter": "python",
   "pygments_lexer": "ipython3",
   "version": "3.5.1"
  }
 },
 "nbformat": 4,
 "nbformat_minor": 0
}
