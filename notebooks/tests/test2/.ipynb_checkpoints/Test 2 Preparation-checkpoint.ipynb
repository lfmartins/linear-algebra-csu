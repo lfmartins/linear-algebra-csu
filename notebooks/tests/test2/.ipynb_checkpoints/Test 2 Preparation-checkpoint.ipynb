{
 "cells": [
  {
   "cell_type": "code",
   "execution_count": 1,
   "metadata": {
    "collapsed": true
   },
   "outputs": [],
   "source": [
    "from latools import *\n",
    "from sympy import *\n",
    "init_printing(use_latex=True)\n",
    "import random"
   ]
  },
  {
   "cell_type": "code",
   "execution_count": 2,
   "metadata": {
    "collapsed": true
   },
   "outputs": [],
   "source": [
    "def gram_schmidt(ulist):\n",
    "    vlist = [ulist[0]]\n",
    "    n, _ = ulist[0].shape\n",
    "    for u in ulist[1:]:\n",
    "        vlist.append(u - sum([u.dot(v)/v.dot(v)*v for v in vlist], zeros(n, 1)))\n",
    "    return vlist\n",
    "\n",
    "def random_invertible_matrix(n, cvalues=[-1,1], determinant=1):\n",
    "    P = eye(n)\n",
    "    P[0,:] *= determinant\n",
    "    for i in range(n):\n",
    "        for j in range(n):\n",
    "            if i==j:\n",
    "                continue\n",
    "            P[j,:] += random.choice(cvalues)*P[i,:]\n",
    "            P[:,j] += random.choice(cvalues)*P[:,i]        \n",
    "    return P\n",
    "\n",
    "def vector_to_latex(v, align='r'):\n",
    "    strout = '\\\\begin{{bmatrix*}}[{}]'.format(align)\n",
    "    for elem in v:\n",
    "        strout += '{}\\\\\\\\ '.format(latex(elem))\n",
    "    strout +='\\\\end{bmatrix*}'\n",
    "    return strout\n",
    "\n",
    "def matrix_to_latex(A, align='r'):\n",
    "    n, m = A.shape\n",
    "    strout = '\\\\begin{{bmatrix*}}[{}]'.format(align)\n",
    "    for i in range(n):\n",
    "        strout += '&'.join([latex(entry) for entry in A[i,:]]) + '\\\\\\\\'\n",
    "    strout += '\\\\end{bmatrix*}'\n",
    "    return strout"
   ]
  },
  {
   "cell_type": "markdown",
   "metadata": {},
   "source": [
    "# Problem 1"
   ]
  },
  {
   "cell_type": "code",
   "execution_count": 25,
   "metadata": {
    "collapsed": true
   },
   "outputs": [],
   "source": [
    "def determine_if_vector_in_span(dim, nvec, min=-3, max=3, cmin=-5, cmax=5):\n",
    "    ulist = [randMatrix(dim, 1, min, max) for _ in range(nvec)]\n",
    "    clist = [random.randrange(cmin, cmax+1) for _ in range(nvec)]\n",
    "    v = sum([c*u for c, u in zip(clist, ulist)], zeros(dim,1))\n",
    "    strout = 'Determine if the vector:\\n\\\\[\\n\\mathbf{v}='\n",
    "    strout += '{}\\n\\\\]\\n'.format(vector_to_latex(v))\n",
    "    strout += 'is in the span of the set of vectors:\\n\\\\[\\n'\n",
    "    for i, u in enumerate(ulist):\n",
    "        strout += '\\\\mathbf{{u}}_{}={}\\\\quad\\n'.format(i+1, vector_to_latex(u))\n",
    "    strout += '\\\\]\\n'\n",
    "    strout += '''If $\\\\mathbf{v}$ is in the span, \n",
    "express it as a linear combination the given vectors\\n\\n'''\n",
    "    strout += '% Solution: ${}$'.format(latex(clist))\n",
    "    return strout"
   ]
  },
  {
   "cell_type": "code",
   "execution_count": 26,
   "metadata": {
    "collapsed": false
   },
   "outputs": [
    {
     "name": "stdout",
     "output_type": "stream",
     "text": [
      "Determine if the vector:\n",
      "\\[\n",
      "\\mathbf{v}=\\begin{bmatrix*}[r]-1\\\\ -1\\\\ 5\\\\ \\end{bmatrix*}\n",
      "\\]\n",
      "is in the span of the set of vectors:\n",
      "\\[\n",
      "\\mathbf{u}_1=\\begin{bmatrix*}[r]-2\\\\ 1\\\\ 2\\\\ \\end{bmatrix*}\\quad\n",
      "\\mathbf{u}_2=\\begin{bmatrix*}[r]3\\\\ -3\\\\ 1\\\\ \\end{bmatrix*}\\quad\n",
      "\\]\n",
      "If $\\mathbf{v}$ is in the span, \n",
      "express it as a linear combination the given vectors\n",
      "\n",
      "% Solution: $\\left [ 2, \\quad 1\\right ]$\n"
     ]
    }
   ],
   "source": [
    "print(determine_if_vector_in_span(3, 2))"
   ]
  },
  {
   "cell_type": "markdown",
   "metadata": {},
   "source": [
    "# Problem 2"
   ]
  },
  {
   "cell_type": "code",
   "execution_count": 27,
   "metadata": {
    "collapsed": true
   },
   "outputs": [],
   "source": [
    "def make_find_orthogonal_subspace(dim, nvec, min=-3, max=3):\n",
    "    ulist = [randMatrix(dim, 1, min, max) for _ in range(nvec)]\n",
    "    strout = 'Let:\\n\\\\['\n",
    "    for i, u in enumerate(ulist):\n",
    "        strout += '\\\\mathbf{{u}}_{}={}\\\\quad\\n'.format(i+1, vector_to_latex(u))\n",
    "        \n",
    "    strout += '\\\\]\\nFind one vector in $\\\\R^{{{}}}$ that is orthogonal to $'.format(dim)\n",
    "    strout += ', '.join(['\\\\textbf{{u}}_{}'.format(i+1) for i in range(nvec)])\n",
    "    strout += '$.\\n'\n",
    "    return strout"
   ]
  },
  {
   "cell_type": "code",
   "execution_count": 29,
   "metadata": {
    "collapsed": false
   },
   "outputs": [
    {
     "name": "stdout",
     "output_type": "stream",
     "text": [
      "Let:\n",
      "\\[\\mathbf{u}_1=\\begin{bmatrix*}[r]-2\\\\ 3\\\\ 2\\\\ 3\\\\ \\end{bmatrix*}\\quad\n",
      "\\mathbf{u}_2=\\begin{bmatrix*}[r]2\\\\ -2\\\\ 1\\\\ -1\\\\ \\end{bmatrix*}\\quad\n",
      "\\]\n",
      "Find one vector in $\\R^{4}$ that is orthogonal to $\\textbf{u}_1, \\textbf{u}_2$.\n",
      "\n"
     ]
    }
   ],
   "source": [
    "problem = make_find_orthogonal_subspace(4, 2)\n",
    "print(problem)"
   ]
  },
  {
   "cell_type": "markdown",
   "metadata": {},
   "source": [
    "# Problem 3"
   ]
  },
  {
   "cell_type": "code",
   "execution_count": 36,
   "metadata": {
    "collapsed": true
   },
   "outputs": [],
   "source": [
    "def make_find_basis_of_eigenspace(D, cvalues=[-1,1], determinant=1):\n",
    "    n, _ = D.shape\n",
    "    P = random_invertible_matrix(n, cvalues, determinant)\n",
    "    A = P * D * P**(-1)\n",
    "    strout = 'Let $A$ be the matrix:\\n\\\\[A=\\n{}\\n\\\\]\\n'.format(matrix_to_latex(A))\n",
    "    strout += 'Find all eigenvalues of $A$ and a basis for the eigenspace of the largest eigenvalue of $A$\\n\\n'\n",
    "    strout += '% Solution: D=${}$ P=${}$\\n'.format(matrix_to_latex(D), matrix_to_latex(P))\n",
    "    return strout"
   ]
  },
  {
   "cell_type": "code",
   "execution_count": 38,
   "metadata": {
    "collapsed": false,
    "scrolled": true
   },
   "outputs": [
    {
     "name": "stdout",
     "output_type": "stream",
     "text": [
      "Let $A$ be the matrix:\n",
      "\\[A=\n",
      "\\begin{bmatrix*}[r]-2&3&-3\\\\-4&5&-3\\\\1&-1&2\\\\\\end{bmatrix*}\n",
      "\\]\n",
      "Find all eigenvalues of $A$ and a basis for the eigenspace of the largest eigenvalue of $A$\n",
      "\n",
      "% Solution: D=$\\begin{bmatrix*}[r]2&1&0\\\\0&2&0\\\\0&0&1\\\\\\end{bmatrix*}$ P=$\\begin{bmatrix*}[r]-3&3&1\\\\-3&2&1\\\\1&-1&0\\\\\\end{bmatrix*}$\n",
      "\n"
     ]
    }
   ],
   "source": [
    "D = matrix_to_rational([[2, 1, 0],[0,2,0],[0,0,1]])\n",
    "problem = make_find_basis_of_eigenspace(D)\n",
    "print(problem)"
   ]
  },
  {
   "cell_type": "markdown",
   "metadata": {},
   "source": [
    "# Problem 4"
   ]
  },
  {
   "cell_type": "code",
   "execution_count": 39,
   "metadata": {
    "collapsed": false
   },
   "outputs": [],
   "source": [
    "def make_gram_schmidt_problem(dim, nvec, min=-2, max=2):\n",
    "    strout = '''Use the Gram-Schmidt method to find an orthogonal basis of the subspace \n",
    "of $\\\\R^{{{}}}$ spanned by the following vectors:\\n\\n\\\\[\\n'''.format(dim)\n",
    "    ulist = []\n",
    "    for i in range(nvec):\n",
    "        u = randMatrix(dim, 1, min, max)\n",
    "        ulist.append(u)\n",
    "        strout += '\\\\mathbf{{u}}_{}={}\\\\quad\\n'.format(i+1, vector_to_latex(u))\n",
    "    strout += '\\\\]\\n\\n'\n",
    "    strout+='% Solution: ${}$\\n'.format(latex(gram_schmidt(ulist)))\n",
    "    return strout"
   ]
  },
  {
   "cell_type": "code",
   "execution_count": 41,
   "metadata": {
    "collapsed": false
   },
   "outputs": [
    {
     "name": "stdout",
     "output_type": "stream",
     "text": [
      "Use the Gram-Schmidt method to find an orthogonal basis of the subspace \n",
      "of $\\R^{4}$ spanned by the following vectors:\n",
      "\n",
      "\\[\n",
      "\\mathbf{u}_1=\\begin{bmatrix*}[r]2\\\\ -1\\\\ 2\\\\ -1\\\\ \\end{bmatrix*}\\quad\n",
      "\\mathbf{u}_2=\\begin{bmatrix*}[r]0\\\\ -2\\\\ 0\\\\ 2\\\\ \\end{bmatrix*}\\quad\n",
      "\\mathbf{u}_3=\\begin{bmatrix*}[r]-2\\\\ -1\\\\ -1\\\\ 0\\\\ \\end{bmatrix*}\\quad\n",
      "\\]\n",
      "\n",
      "% Solution: $\\left [ \\left[\\begin{matrix}2\\\\-1\\\\2\\\\-1\\end{matrix}\\right], \\quad \\left[\\begin{matrix}0\\\\-2\\\\0\\\\2\\end{matrix}\\right], \\quad \\left[\\begin{matrix}-1\\\\-1\\\\0\\\\-1\\end{matrix}\\right]\\right ]$\n",
      "\n"
     ]
    }
   ],
   "source": [
    "problem = make_gram_schmidt_problem(4, 3)\n",
    "print(problem)"
   ]
  },
  {
   "cell_type": "markdown",
   "metadata": {
    "collapsed": true
   },
   "source": [
    "# Problem 5"
   ]
  },
  {
   "cell_type": "code",
   "execution_count": 20,
   "metadata": {
    "collapsed": false
   },
   "outputs": [],
   "source": [
    "u1 = Matrix([1,1,1])\n",
    "u2 = Matrix([-1,0,1])\n",
    "u3 = Matrix([0,1,1])\n",
    "v1, v2, v3 = gram_schmidt([u1,u2,u3])"
   ]
  },
  {
   "cell_type": "code",
   "execution_count": 21,
   "metadata": {
    "collapsed": false
   },
   "outputs": [],
   "source": [
    "def make_symmetric_diagonlization(D, cvalues=[0,1], determinant=1):\n",
    "    n, _ = D.shape\n",
    "    P = random_invertible_matrix(n, cvalues, determinant)\n",
    "    ulist = [P[:,j] for j in range(n)]\n",
    "    vlist = gram_schmidt(ulist)\n",
    "    P = Matrix.hstack(*vlist)\n",
    "    A = P * D * P**(-1)\n",
    "    strout = 'Let\\n\\\\[\\nA={}\\n\\\\]\\nNotice that $A$ is a symmetric matrix.\\n'.format(matrix_to_latex(A))\n",
    "    strout += '''Find an orthonormal basis of eigenvectors of $A$ and a matrix $P$ such that $D=P^TAP$ \n",
    "is a diagonal matrix. Verify that your answer is correct by computing $P^TAP$\\n\\n'''\n",
    "    strout += '% Solution: $P={}$, $P^TAP={}$\\n\\n'.format(matrix_to_latex(P), matrix_to_latex(P.T * A * P))\n",
    "    return strout"
   ]
  },
  {
   "cell_type": "code",
   "execution_count": 22,
   "metadata": {
    "collapsed": false
   },
   "outputs": [
    {
     "name": "stdout",
     "output_type": "stream",
     "text": [
      "Let\n",
      "\\[\n",
      "A=\\begin{bmatrix*}[r]- \\frac{1}{5}&- \\frac{8}{5}\\\\- \\frac{8}{5}&\\frac{11}{5}\\\\\\end{bmatrix*}\n",
      "\\]\n",
      "Notice that $A$ is a symmetric matrix.\n",
      "Find an orthonormal basis of eigenvectors of $A$ and a matrix $P$ such that $D=P^TAP$ \n",
      "is a diagonal matrix. Verify that your answer is correct by computing $P^TAP$\n",
      "\n",
      "% Solution: $P=\\begin{bmatrix*}[r]2&- \\frac{1}{5}\\\\1&\\frac{2}{5}\\\\\\end{bmatrix*}$, $P^TAP=\\begin{bmatrix*}[r]-5&0\\\\0&\\frac{3}{5}\\\\\\end{bmatrix*}$\n",
      "\n",
      "\n"
     ]
    }
   ],
   "source": [
    "D = matrix_to_rational([[-1,0],[0,3]])\n",
    "print(make_symmetric_diagonlization(D))"
   ]
  },
  {
   "cell_type": "code",
   "execution_count": 150,
   "metadata": {
    "collapsed": false
   },
   "outputs": [
    {
     "data": {
      "image/png": "[encoded data removed]",
      "text/latex": [
       "$$\\left[\\begin{matrix}-2\\\\2\\end{matrix}\\right]$$"
      ],
      "text/plain": [
       "⎡-2⎤\n",
       "⎢  ⎥\n",
       "⎣2 ⎦"
      ]
     },
     "execution_count": 150,
     "metadata": {},
     "output_type": "execute_result"
    }
   ],
   "source": [
    "v1 = Matrix([-2,2])\n",
    "v1"
   ]
  },
  {
   "cell_type": "code",
   "execution_count": 152,
   "metadata": {
    "collapsed": false
   },
   "outputs": [
    {
     "data": {
      "image/png": "[encoded data removed]",
      "text/latex": [
       "$$\\left[\\begin{matrix}1\\\\1\\end{matrix}\\right]$$"
      ],
      "text/plain": [
       "⎡1⎤\n",
       "⎢ ⎥\n",
       "⎣1⎦"
      ]
     },
     "execution_count": 152,
     "metadata": {},
     "output_type": "execute_result"
    }
   ],
   "source": [
    "v2 = Matrix([1,1])\n",
    "v2"
   ]
  },
  {
   "cell_type": "code",
   "execution_count": 153,
   "metadata": {
    "collapsed": false
   },
   "outputs": [
    {
     "data": {
      "image/png": "[encoded data removed]",
      "text/latex": [
       "$$\\left[\\begin{matrix}-2 & 1\\\\2 & 1\\end{matrix}\\right]$$"
      ],
      "text/plain": [
       "⎡-2  1⎤\n",
       "⎢     ⎥\n",
       "⎣2   1⎦"
      ]
     },
     "execution_count": 153,
     "metadata": {},
     "output_type": "execute_result"
    }
   ],
   "source": [
    "P = Matrix.hstack(v1,v2)\n",
    "P"
   ]
  },
  {
   "cell_type": "code",
   "execution_count": 155,
   "metadata": {
    "collapsed": false
   },
   "outputs": [
    {
     "data": {
      "image/png": "[encoded data removed]",
      "text/latex": [
       "$$\\left[\\begin{matrix}-2 & 0\\\\0 & -1\\end{matrix}\\right]$$"
      ],
      "text/plain": [
       "⎡-2  0 ⎤\n",
       "⎢      ⎥\n",
       "⎣0   -1⎦"
      ]
     },
     "execution_count": 155,
     "metadata": {},
     "output_type": "execute_result"
    }
   ],
   "source": [
    "D = matrix_to_rational([[-2,0],[0,-1]])\n",
    "D"
   ]
  },
  {
   "cell_type": "code",
   "execution_count": 156,
   "metadata": {
    "collapsed": false
   },
   "outputs": [
    {
     "data": {
      "image/png": "[encoded data removed]",
      "text/latex": [
       "$$\\left[\\begin{matrix}- \\frac{3}{2} & \\frac{1}{2}\\\\\\frac{1}{2} & - \\frac{3}{2}\\end{matrix}\\right]$$"
      ],
      "text/plain": [
       "⎡-3/2  1/2 ⎤\n",
       "⎢          ⎥\n",
       "⎣1/2   -3/2⎦"
      ]
     },
     "execution_count": 156,
     "metadata": {},
     "output_type": "execute_result"
    }
   ],
   "source": [
    "A = P * D * P**(-1)\n",
    "A"
   ]
  },
  {
   "cell_type": "code",
   "execution_count": 158,
   "metadata": {
    "collapsed": false
   },
   "outputs": [
    {
     "data": {
      "image/png": "[encoded data removed]",
      "text/latex": [
       "$$\\left(\\lambda + 1\\right) \\left(\\lambda + 2\\right)$$"
      ],
      "text/plain": [
       "(λ + 1)⋅(λ + 2)"
      ]
     },
     "execution_count": 158,
     "metadata": {},
     "output_type": "execute_result"
    }
   ],
   "source": [
    "lbd = symbols('lambda')\n",
    "p = det(A - lbd*eye(2))\n",
    "factor(p)"
   ]
  },
  {
   "cell_type": "code",
   "execution_count": 159,
   "metadata": {
    "collapsed": false
   },
   "outputs": [
    {
     "name": "stdout",
     "output_type": "stream",
     "text": [
      "\\left[\\begin{matrix}- \\frac{3}{2} & \\frac{1}{2}\\\\\\frac{1}{2} & - \\frac{3}{2}\\end{matrix}\\right]\n"
     ]
    }
   ],
   "source": [
    "print(latex(A))"
   ]
  },
  {
   "cell_type": "code",
   "execution_count": 160,
   "metadata": {
    "collapsed": false
   },
   "outputs": [
    {
     "name": "stdout",
     "output_type": "stream",
     "text": [
      "\\left[\\begin{matrix}-2 & 1\\\\2 & 1\\end{matrix}\\right]\n"
     ]
    }
   ],
   "source": [
    "print(latex(P))"
   ]
  },
  {
   "cell_type": "code",
   "execution_count": 161,
   "metadata": {
    "collapsed": false
   },
   "outputs": [
    {
     "name": "stdout",
     "output_type": "stream",
     "text": [
      "\\left[\\begin{matrix}-16 & 0\\\\0 & -2\\end{matrix}\\right]\n"
     ]
    }
   ],
   "source": [
    "print(latex(P.T*A*P))"
   ]
  },
  {
   "cell_type": "code",
   "execution_count": null,
   "metadata": {
    "collapsed": true
   },
   "outputs": [],
   "source": []
  }
 ],
 "metadata": {
  "kernelspec": {
   "display_name": "Python 3",
   "language": "python",
   "name": "python3"
  },
  "language_info": {
   "codemirror_mode": {
    "name": "ipython",
    "version": 3
   },
   "file_extension": ".py",
   "mimetype": "text/x-python",
   "name": "python",
   "nbconvert_exporter": "python",
   "pygments_lexer": "ipython3",
   "version": "3.5.1"
  }
 },
 "nbformat": 4,
 "nbformat_minor": 0
}
