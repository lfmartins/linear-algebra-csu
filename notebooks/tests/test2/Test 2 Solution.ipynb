{
 "cells": [
  {
   "cell_type": "code",
   "execution_count": 1,
   "metadata": {
    "collapsed": true
   },
   "outputs": [],
   "source": [
    "from latools import *\n",
    "from sympy import *\n",
    "init_printing(use_latex=True)"
   ]
  },
  {
   "cell_type": "markdown",
   "metadata": {},
   "source": [
    "# Problem 1"
   ]
  },
  {
   "cell_type": "code",
   "execution_count": 11,
   "metadata": {
    "collapsed": false
   },
   "outputs": [
    {
     "data": {
      "image/png": "[encoded data removed]",
      "text/latex": [
       "$$\\left[\\begin{matrix}-3 & -3 & -15\\\\-3 & 3 & 9\\\\-3 & -1 & -7\\end{matrix}\\right]$$"
      ],
      "text/plain": [
       "⎡-3  -3  -15⎤\n",
       "⎢           ⎥\n",
       "⎢-3  3    9 ⎥\n",
       "⎢           ⎥\n",
       "⎣-3  -1  -7 ⎦"
      ]
     },
     "execution_count": 11,
     "metadata": {},
     "output_type": "execute_result"
    }
   ],
   "source": [
    "# Heart\n",
    "A = matrix_to_rational([[-3,-3,-15],[-3,3,9],[-3,-1,-7]])\n",
    "A"
   ]
  },
  {
   "cell_type": "code",
   "execution_count": 12,
   "metadata": {
    "collapsed": false
   },
   "outputs": [
    {
     "data": {
      "image/png": "[encoded data removed]",
      "text/latex": [
       "$$\\left[\\begin{matrix}1 & 0 & 1\\\\0 & 1 & 4\\\\0 & 0 & 0\\end{matrix}\\right]$$"
      ],
      "text/plain": [
       "⎡1  0  1⎤\n",
       "⎢       ⎥\n",
       "⎢0  1  4⎥\n",
       "⎢       ⎥\n",
       "⎣0  0  0⎦"
      ]
     },
     "execution_count": 12,
     "metadata": {},
     "output_type": "execute_result"
    }
   ],
   "source": [
    "reduced_row_echelon_form(A)"
   ]
  },
  {
   "cell_type": "code",
   "execution_count": 13,
   "metadata": {
    "collapsed": false
   },
   "outputs": [
    {
     "data": {
      "image/png": "[encoded data removed]",
      "text/latex": [
       "$$\\left[\\begin{matrix}-3 & -1 & -11\\\\-1 & 3 & 13\\\\-2 & 0 & -4\\end{matrix}\\right]$$"
      ],
      "text/plain": [
       "⎡-3  -1  -11⎤\n",
       "⎢           ⎥\n",
       "⎢-1  3   13 ⎥\n",
       "⎢           ⎥\n",
       "⎣-2  0   -4 ⎦"
      ]
     },
     "execution_count": 13,
     "metadata": {},
     "output_type": "execute_result"
    }
   ],
   "source": [
    "# Spade\n",
    "A = matrix_to_rational([[-3,-1,-11],[-1,3,13],[-2,0,-4]])\n",
    "A"
   ]
  },
  {
   "cell_type": "code",
   "execution_count": 14,
   "metadata": {
    "collapsed": false
   },
   "outputs": [
    {
     "data": {
      "image/png": "[encoded data removed]",
      "text/latex": [
       "$$\\left[\\begin{matrix}1 & 0 & 2\\\\0 & 1 & 5\\\\0 & 0 & 0\\end{matrix}\\right]$$"
      ],
      "text/plain": [
       "⎡1  0  2⎤\n",
       "⎢       ⎥\n",
       "⎢0  1  5⎥\n",
       "⎢       ⎥\n",
       "⎣0  0  0⎦"
      ]
     },
     "execution_count": 14,
     "metadata": {},
     "output_type": "execute_result"
    }
   ],
   "source": [
    "reduced_row_echelon_form(A)"
   ]
  },
  {
   "cell_type": "code",
   "execution_count": 17,
   "metadata": {
    "collapsed": false
   },
   "outputs": [
    {
     "data": {
      "image/png": "[encoded data removed]",
      "text/latex": [
       "$$\\left[\\begin{matrix}3 & -2 & 6\\\\-1 & -3 & -13\\\\-3 & -1 & -15\\end{matrix}\\right]$$"
      ],
      "text/plain": [
       "⎡3   -2   6 ⎤\n",
       "⎢           ⎥\n",
       "⎢-1  -3  -13⎥\n",
       "⎢           ⎥\n",
       "⎣-3  -1  -15⎦"
      ]
     },
     "execution_count": 17,
     "metadata": {},
     "output_type": "execute_result"
    }
   ],
   "source": [
    "# Diamond\n",
    "A = matrix_to_rational([[3,-2,6],[-1,-3,-13],[-3,-1,-15]])\n",
    "A"
   ]
  },
  {
   "cell_type": "code",
   "execution_count": 18,
   "metadata": {
    "collapsed": false
   },
   "outputs": [
    {
     "data": {
      "image/png": "[encoded data removed]",
      "text/latex": [
       "$$\\left[\\begin{matrix}1 & 0 & 4\\\\0 & 1 & 3\\\\0 & 0 & 0\\end{matrix}\\right]$$"
      ],
      "text/plain": [
       "⎡1  0  4⎤\n",
       "⎢       ⎥\n",
       "⎢0  1  3⎥\n",
       "⎢       ⎥\n",
       "⎣0  0  0⎦"
      ]
     },
     "execution_count": 18,
     "metadata": {},
     "output_type": "execute_result"
    }
   ],
   "source": [
    "reduced_row_echelon_form(A)"
   ]
  },
  {
   "cell_type": "code",
   "execution_count": 20,
   "metadata": {
    "collapsed": false
   },
   "outputs": [
    {
     "data": {
      "image/png": "[encoded data removed]",
      "text/latex": [
       "$$\\left[\\begin{matrix}-2 & 3 & -1\\\\1 & -3 & -1\\\\2 & 1 & 5\\end{matrix}\\right]$$"
      ],
      "text/plain": [
       "⎡-2  3   -1⎤\n",
       "⎢          ⎥\n",
       "⎢1   -3  -1⎥\n",
       "⎢          ⎥\n",
       "⎣2   1   5 ⎦"
      ]
     },
     "execution_count": 20,
     "metadata": {},
     "output_type": "execute_result"
    }
   ],
   "source": [
    "# Diamond\n",
    "A = matrix_to_rational([[-2,3,-1],[1,-3,-1],[2,1,5]])\n",
    "A"
   ]
  },
  {
   "cell_type": "code",
   "execution_count": 21,
   "metadata": {
    "collapsed": false
   },
   "outputs": [
    {
     "data": {
      "image/png": "[encoded data removed]",
      "text/latex": [
       "$$\\left[\\begin{matrix}1 & 0 & 2\\\\0 & 1 & 1\\\\0 & 0 & 0\\end{matrix}\\right]$$"
      ],
      "text/plain": [
       "⎡1  0  2⎤\n",
       "⎢       ⎥\n",
       "⎢0  1  1⎥\n",
       "⎢       ⎥\n",
       "⎣0  0  0⎦"
      ]
     },
     "execution_count": 21,
     "metadata": {},
     "output_type": "execute_result"
    }
   ],
   "source": [
    "reduced_row_echelon_form(A)"
   ]
  },
  {
   "cell_type": "markdown",
   "metadata": {},
   "source": [
    "# Problem 2"
   ]
  },
  {
   "cell_type": "code",
   "execution_count": 43,
   "metadata": {
    "collapsed": false
   },
   "outputs": [
    {
     "data": {
      "image/png": "[encoded data removed]",
      "text/latex": [
       "$$\\left[\\begin{matrix}3 & 2 & 1 & -3\\\\-1 & 3 & 2 & 3\\end{matrix}\\right]$$"
      ],
      "text/plain": [
       "⎡3   2  1  -3⎤\n",
       "⎢            ⎥\n",
       "⎣-1  3  2  3 ⎦"
      ]
     },
     "execution_count": 43,
     "metadata": {},
     "output_type": "execute_result"
    }
   ],
   "source": [
    "# Heart\n",
    "A = matrix_to_rational([[3,2,1,-3],[-1,3,2,3]])\n",
    "A"
   ]
  },
  {
   "cell_type": "code",
   "execution_count": 44,
   "metadata": {
    "collapsed": false
   },
   "outputs": [
    {
     "data": {
      "image/png": "[encoded data removed]",
      "text/latex": [
       "$$\\left[\\begin{matrix}1 & 0 & - \\frac{1}{11} & - \\frac{15}{11}\\\\0 & 1 & \\frac{7}{11} & \\frac{6}{11}\\end{matrix}\\right]$$"
      ],
      "text/plain": [
       "⎡             -15 ⎤\n",
       "⎢1  0  -1/11  ────⎥\n",
       "⎢              11 ⎥\n",
       "⎢                 ⎥\n",
       "⎣0  1  7/11   6/11⎦"
      ]
     },
     "execution_count": 44,
     "metadata": {},
     "output_type": "execute_result"
    }
   ],
   "source": [
    "reduced_row_echelon_form(A)"
   ]
  },
  {
   "cell_type": "code",
   "execution_count": 33,
   "metadata": {
    "collapsed": false
   },
   "outputs": [
    {
     "data": {
      "image/png": "[encoded data removed]",
      "text/latex": [
       "$$\\left[\\begin{matrix}-1 & 1 & 3 & 3\\\\-3 & -2 & 2 & -3\\end{matrix}\\right]$$"
      ],
      "text/plain": [
       "⎡-1  1   3  3 ⎤\n",
       "⎢             ⎥\n",
       "⎣-3  -2  2  -3⎦"
      ]
     },
     "execution_count": 33,
     "metadata": {},
     "output_type": "execute_result"
    }
   ],
   "source": [
    "# Spade\n",
    "A = matrix_to_rational([[-1,1,3,3],[-3,-2,2,-3]])\n",
    "A"
   ]
  },
  {
   "cell_type": "code",
   "execution_count": 34,
   "metadata": {
    "collapsed": false
   },
   "outputs": [
    {
     "data": {
      "image/png": "[encoded data removed]",
      "text/latex": [
       "$$\\left[\\begin{matrix}1 & 0 & - \\frac{8}{5} & - \\frac{3}{5}\\\\0 & 1 & \\frac{7}{5} & \\frac{12}{5}\\end{matrix}\\right]$$"
      ],
      "text/plain": [
       "⎡1  0  -8/5  -3/5⎤\n",
       "⎢                ⎥\n",
       "⎣0  1  7/5   12/5⎦"
      ]
     },
     "execution_count": 34,
     "metadata": {},
     "output_type": "execute_result"
    }
   ],
   "source": [
    "reduced_row_echelon_form(A)"
   ]
  },
  {
   "cell_type": "code",
   "execution_count": 29,
   "metadata": {
    "collapsed": false
   },
   "outputs": [
    {
     "data": {
      "image/png": "[encoded data removed]",
      "text/latex": [
       "$$\\left[\\begin{matrix}-2 & 1 & -2 & 3\\\\-3 & 2 & 0 & 1\\end{matrix}\\right]$$"
      ],
      "text/plain": [
       "⎡-2  1  -2  3⎤\n",
       "⎢            ⎥\n",
       "⎣-3  2  0   1⎦"
      ]
     },
     "execution_count": 29,
     "metadata": {},
     "output_type": "execute_result"
    }
   ],
   "source": [
    "# Diamond\n",
    "A = matrix_to_rational([[-2,1,-2,3],[-3,2,0,1]])\n",
    "A"
   ]
  },
  {
   "cell_type": "code",
   "execution_count": 30,
   "metadata": {
    "collapsed": false
   },
   "outputs": [
    {
     "data": {
      "image/png": "[encoded data removed]",
      "text/latex": [
       "$$\\left[\\begin{matrix}1 & 0 & 4 & -5\\\\0 & 1 & 6 & -7\\end{matrix}\\right]$$"
      ],
      "text/plain": [
       "⎡1  0  4  -5⎤\n",
       "⎢           ⎥\n",
       "⎣0  1  6  -7⎦"
      ]
     },
     "execution_count": 30,
     "metadata": {},
     "output_type": "execute_result"
    }
   ],
   "source": [
    "reduced_row_echelon_form(A)"
   ]
  },
  {
   "cell_type": "code",
   "execution_count": 25,
   "metadata": {
    "collapsed": false
   },
   "outputs": [
    {
     "data": {
      "image/png": "[encoded data removed]",
      "text/latex": [
       "$$\\left[\\begin{matrix}-2 & 3 & 2 & 3\\\\2 & -2 & 1 & -1\\end{matrix}\\right]$$"
      ],
      "text/plain": [
       "⎡-2  3   2  3 ⎤\n",
       "⎢             ⎥\n",
       "⎣2   -2  1  -1⎦"
      ]
     },
     "execution_count": 25,
     "metadata": {},
     "output_type": "execute_result"
    }
   ],
   "source": [
    "# Club\n",
    "A = matrix_to_rational([[-2,3,2,3],[2,-2,1,-1]])\n",
    "A"
   ]
  },
  {
   "cell_type": "code",
   "execution_count": 26,
   "metadata": {
    "collapsed": false
   },
   "outputs": [
    {
     "data": {
      "image/png": "[encoded data removed]",
      "text/latex": [
       "$$\\left[\\begin{matrix}1 & 0 & \\frac{7}{2} & \\frac{3}{2}\\\\0 & 1 & 3 & 2\\end{matrix}\\right]$$"
      ],
      "text/plain": [
       "⎡1  0  7/2  3/2⎤\n",
       "⎢              ⎥\n",
       "⎣0  1   3    2 ⎦"
      ]
     },
     "execution_count": 26,
     "metadata": {},
     "output_type": "execute_result"
    }
   ],
   "source": [
    "reduced_row_echelon_form(A)"
   ]
  },
  {
   "cell_type": "markdown",
   "metadata": {},
   "source": [
    "# Problem 3"
   ]
  },
  {
   "cell_type": "code",
   "execution_count": 45,
   "metadata": {
    "collapsed": false
   },
   "outputs": [
    {
     "data": {
      "image/png": "[encoded data removed]",
      "text/latex": [
       "$$\\left[\\begin{matrix}2 & -1 & 3\\\\6 & 17 & -15\\\\7 & 17 & -14\\end{matrix}\\right]$$"
      ],
      "text/plain": [
       "⎡2  -1   3 ⎤\n",
       "⎢          ⎥\n",
       "⎢6  17  -15⎥\n",
       "⎢          ⎥\n",
       "⎣7  17  -14⎦"
      ]
     },
     "execution_count": 45,
     "metadata": {},
     "output_type": "execute_result"
    }
   ],
   "source": [
    "# Heart\n",
    "A = matrix_to_rational([[2,-1,3],[6,17,-15],[7,17,-14]])\n",
    "A"
   ]
  },
  {
   "cell_type": "code",
   "execution_count": 46,
   "metadata": {
    "collapsed": false
   },
   "outputs": [
    {
     "data": {
      "image/png": "[encoded data removed]",
      "text/latex": [
       "$$- \\lambda^{3} + 5 \\lambda^{2} - 8 \\lambda + 4$$"
      ],
      "text/plain": [
       "   3      2          \n",
       "- λ  + 5⋅λ  - 8⋅λ + 4"
      ]
     },
     "execution_count": 46,
     "metadata": {},
     "output_type": "execute_result"
    }
   ],
   "source": [
    "lbd = symbols('lambda')\n",
    "p = det(A - lbd*eye(3))\n",
    "p"
   ]
  },
  {
   "cell_type": "code",
   "execution_count": 47,
   "metadata": {
    "collapsed": false
   },
   "outputs": [
    {
     "data": {
      "image/png": "[encoded data removed]",
      "text/latex": [
       "$$- \\left(\\lambda - 2\\right)^{2} \\left(\\lambda - 1\\right)$$"
      ],
      "text/plain": [
       "        2        \n",
       "-(λ - 2) ⋅(λ - 1)"
      ]
     },
     "execution_count": 47,
     "metadata": {},
     "output_type": "execute_result"
    }
   ],
   "source": [
    "factor(p)"
   ]
  },
  {
   "cell_type": "code",
   "execution_count": 48,
   "metadata": {
    "collapsed": false
   },
   "outputs": [
    {
     "data": {
      "image/png": "[encoded data removed]",
      "text/latex": [
       "$$\\left[\\begin{matrix}0 & -1 & 3\\\\6 & 15 & -15\\\\7 & 17 & -16\\end{matrix}\\right]$$"
      ],
      "text/plain": [
       "⎡0  -1   3 ⎤\n",
       "⎢          ⎥\n",
       "⎢6  15  -15⎥\n",
       "⎢          ⎥\n",
       "⎣7  17  -16⎦"
      ]
     },
     "execution_count": 48,
     "metadata": {},
     "output_type": "execute_result"
    }
   ],
   "source": [
    "M = A-2*eye(3)\n",
    "M"
   ]
  },
  {
   "cell_type": "code",
   "execution_count": 50,
   "metadata": {
    "collapsed": false
   },
   "outputs": [
    {
     "data": {
      "image/png": "[encoded data removed]",
      "text/latex": [
       "$$\\left[\\begin{matrix}1 & 0 & 5\\\\0 & 1 & -3\\\\0 & 0 & 0\\end{matrix}\\right]$$"
      ],
      "text/plain": [
       "⎡1  0  5 ⎤\n",
       "⎢        ⎥\n",
       "⎢0  1  -3⎥\n",
       "⎢        ⎥\n",
       "⎣0  0  0 ⎦"
      ]
     },
     "execution_count": 50,
     "metadata": {},
     "output_type": "execute_result"
    }
   ],
   "source": [
    "R = reduced_row_echelon_form(M)\n",
    "R"
   ]
  },
  {
   "cell_type": "code",
   "execution_count": 51,
   "metadata": {
    "collapsed": false
   },
   "outputs": [
    {
     "data": {
      "image/png": "[encoded data removed]",
      "text/latex": [
       "$$\\left[\\begin{matrix}-2 & 3 & 3\\\\-4 & 5 & 3\\\\-1 & 1 & 2\\end{matrix}\\right]$$"
      ],
      "text/plain": [
       "⎡-2  3  3⎤\n",
       "⎢        ⎥\n",
       "⎢-4  5  3⎥\n",
       "⎢        ⎥\n",
       "⎣-1  1  2⎦"
      ]
     },
     "execution_count": 51,
     "metadata": {},
     "output_type": "execute_result"
    }
   ],
   "source": [
    "# Spade\n",
    "A = matrix_to_rational([[-2,3,3],[-4,5,3],[-1,1,2]])\n",
    "A"
   ]
  },
  {
   "cell_type": "code",
   "execution_count": 52,
   "metadata": {
    "collapsed": false
   },
   "outputs": [
    {
     "data": {
      "image/png": "[encoded data removed]",
      "text/latex": [
       "$$- \\lambda^{3} + 5 \\lambda^{2} - 8 \\lambda + 4$$"
      ],
      "text/plain": [
       "   3      2          \n",
       "- λ  + 5⋅λ  - 8⋅λ + 4"
      ]
     },
     "execution_count": 52,
     "metadata": {},
     "output_type": "execute_result"
    }
   ],
   "source": [
    "lbd = symbols('lambda')\n",
    "p = det(A - lbd*eye(3))\n",
    "p"
   ]
  },
  {
   "cell_type": "code",
   "execution_count": 53,
   "metadata": {
    "collapsed": false
   },
   "outputs": [
    {
     "data": {
      "image/png": "[encoded data removed]",
      "text/latex": [
       "$$- \\left(\\lambda - 2\\right)^{2} \\left(\\lambda - 1\\right)$$"
      ],
      "text/plain": [
       "        2        \n",
       "-(λ - 2) ⋅(λ - 1)"
      ]
     },
     "execution_count": 53,
     "metadata": {},
     "output_type": "execute_result"
    }
   ],
   "source": [
    "factor(p)"
   ]
  },
  {
   "cell_type": "code",
   "execution_count": 54,
   "metadata": {
    "collapsed": false
   },
   "outputs": [
    {
     "data": {
      "image/png": "[encoded data removed]",
      "text/latex": [
       "$$\\left[\\begin{matrix}-4 & 3 & 3\\\\-4 & 3 & 3\\\\-1 & 1 & 0\\end{matrix}\\right]$$"
      ],
      "text/plain": [
       "⎡-4  3  3⎤\n",
       "⎢        ⎥\n",
       "⎢-4  3  3⎥\n",
       "⎢        ⎥\n",
       "⎣-1  1  0⎦"
      ]
     },
     "execution_count": 54,
     "metadata": {},
     "output_type": "execute_result"
    }
   ],
   "source": [
    "M = A-2*eye(3)\n",
    "M"
   ]
  },
  {
   "cell_type": "code",
   "execution_count": 55,
   "metadata": {
    "collapsed": false
   },
   "outputs": [
    {
     "data": {
      "image/png": "[encoded data removed]",
      "text/latex": [
       "$$\\left[\\begin{matrix}1 & 0 & -3\\\\0 & 1 & -3\\\\0 & 0 & 0\\end{matrix}\\right]$$"
      ],
      "text/plain": [
       "⎡1  0  -3⎤\n",
       "⎢        ⎥\n",
       "⎢0  1  -3⎥\n",
       "⎢        ⎥\n",
       "⎣0  0  0 ⎦"
      ]
     },
     "execution_count": 55,
     "metadata": {},
     "output_type": "execute_result"
    }
   ],
   "source": [
    "R = reduced_row_echelon_form(M)\n",
    "R"
   ]
  },
  {
   "cell_type": "code",
   "execution_count": 56,
   "metadata": {
    "collapsed": false
   },
   "outputs": [
    {
     "data": {
      "image/png": "[encoded data removed]",
      "text/latex": [
       "$$\\left[\\begin{matrix}0 & 1 & -3\\\\-4 & 5 & -7\\\\-1 & 1 & 0\\end{matrix}\\right]$$"
      ],
      "text/plain": [
       "⎡0   1  -3⎤\n",
       "⎢         ⎥\n",
       "⎢-4  5  -7⎥\n",
       "⎢         ⎥\n",
       "⎣-1  1  0 ⎦"
      ]
     },
     "execution_count": 56,
     "metadata": {},
     "output_type": "execute_result"
    }
   ],
   "source": [
    "# Diamond\n",
    "A = matrix_to_rational([[0,1,-3],[-4,5,-7],[-1,1,0]])\n",
    "A"
   ]
  },
  {
   "cell_type": "code",
   "execution_count": 57,
   "metadata": {
    "collapsed": false
   },
   "outputs": [
    {
     "data": {
      "image/png": "[encoded data removed]",
      "text/latex": [
       "$$- \\lambda^{3} + 5 \\lambda^{2} - 8 \\lambda + 4$$"
      ],
      "text/plain": [
       "   3      2          \n",
       "- λ  + 5⋅λ  - 8⋅λ + 4"
      ]
     },
     "execution_count": 57,
     "metadata": {},
     "output_type": "execute_result"
    }
   ],
   "source": [
    "lbd = symbols('lambda')\n",
    "p = det(A - lbd*eye(3))\n",
    "p"
   ]
  },
  {
   "cell_type": "code",
   "execution_count": 58,
   "metadata": {
    "collapsed": false
   },
   "outputs": [
    {
     "data": {
      "image/png": "[encoded data removed]",
      "text/latex": [
       "$$- \\left(\\lambda - 2\\right)^{2} \\left(\\lambda - 1\\right)$$"
      ],
      "text/plain": [
       "        2        \n",
       "-(λ - 2) ⋅(λ - 1)"
      ]
     },
     "execution_count": 58,
     "metadata": {},
     "output_type": "execute_result"
    }
   ],
   "source": [
    "factor(p)"
   ]
  },
  {
   "cell_type": "code",
   "execution_count": 59,
   "metadata": {
    "collapsed": false
   },
   "outputs": [
    {
     "data": {
      "image/png": "[encoded data removed]",
      "text/latex": [
       "$$\\left[\\begin{matrix}-2 & 1 & -3\\\\-4 & 3 & -7\\\\-1 & 1 & -2\\end{matrix}\\right]$$"
      ],
      "text/plain": [
       "⎡-2  1  -3⎤\n",
       "⎢         ⎥\n",
       "⎢-4  3  -7⎥\n",
       "⎢         ⎥\n",
       "⎣-1  1  -2⎦"
      ]
     },
     "execution_count": 59,
     "metadata": {},
     "output_type": "execute_result"
    }
   ],
   "source": [
    "M = A-2*eye(3)\n",
    "M"
   ]
  },
  {
   "cell_type": "code",
   "execution_count": 60,
   "metadata": {
    "collapsed": false
   },
   "outputs": [
    {
     "data": {
      "image/png": "[encoded data removed]",
      "text/latex": [
       "$$\\left[\\begin{matrix}1 & 0 & 1\\\\0 & 1 & -1\\\\0 & 0 & 0\\end{matrix}\\right]$$"
      ],
      "text/plain": [
       "⎡1  0  1 ⎤\n",
       "⎢        ⎥\n",
       "⎢0  1  -1⎥\n",
       "⎢        ⎥\n",
       "⎣0  0  0 ⎦"
      ]
     },
     "execution_count": 60,
     "metadata": {},
     "output_type": "execute_result"
    }
   ],
   "source": [
    "R = reduced_row_echelon_form(M)\n",
    "R"
   ]
  },
  {
   "cell_type": "code",
   "execution_count": 61,
   "metadata": {
    "collapsed": false
   },
   "outputs": [
    {
     "data": {
      "image/png": "[encoded data removed]",
      "text/latex": [
       "$$\\left[\\begin{matrix}-2 & 3 & -3\\\\-4 & 5 & -3\\\\1 & -1 & 2\\end{matrix}\\right]$$"
      ],
      "text/plain": [
       "⎡-2  3   -3⎤\n",
       "⎢          ⎥\n",
       "⎢-4  5   -3⎥\n",
       "⎢          ⎥\n",
       "⎣1   -1  2 ⎦"
      ]
     },
     "execution_count": 61,
     "metadata": {},
     "output_type": "execute_result"
    }
   ],
   "source": [
    "# Club\n",
    "A = matrix_to_rational([[-2,3,-3],[-4,5,-3],[1,-1,2]])\n",
    "A"
   ]
  },
  {
   "cell_type": "code",
   "execution_count": 62,
   "metadata": {
    "collapsed": false
   },
   "outputs": [
    {
     "data": {
      "image/png": "[encoded data removed]",
      "text/latex": [
       "$$- \\lambda^{3} + 5 \\lambda^{2} - 8 \\lambda + 4$$"
      ],
      "text/plain": [
       "   3      2          \n",
       "- λ  + 5⋅λ  - 8⋅λ + 4"
      ]
     },
     "execution_count": 62,
     "metadata": {},
     "output_type": "execute_result"
    }
   ],
   "source": [
    "lbd = symbols('lambda')\n",
    "p = det(A - lbd*eye(3))\n",
    "p"
   ]
  },
  {
   "cell_type": "code",
   "execution_count": 63,
   "metadata": {
    "collapsed": false
   },
   "outputs": [
    {
     "data": {
      "image/png": "[encoded data removed]",
      "text/latex": [
       "$$- \\left(\\lambda - 2\\right)^{2} \\left(\\lambda - 1\\right)$$"
      ],
      "text/plain": [
       "        2        \n",
       "-(λ - 2) ⋅(λ - 1)"
      ]
     },
     "execution_count": 63,
     "metadata": {},
     "output_type": "execute_result"
    }
   ],
   "source": [
    "factor(p)"
   ]
  },
  {
   "cell_type": "code",
   "execution_count": 64,
   "metadata": {
    "collapsed": false
   },
   "outputs": [
    {
     "data": {
      "image/png": "[encoded data removed]",
      "text/latex": [
       "$$\\left[\\begin{matrix}-4 & 3 & -3\\\\-4 & 3 & -3\\\\1 & -1 & 0\\end{matrix}\\right]$$"
      ],
      "text/plain": [
       "⎡-4  3   -3⎤\n",
       "⎢          ⎥\n",
       "⎢-4  3   -3⎥\n",
       "⎢          ⎥\n",
       "⎣1   -1  0 ⎦"
      ]
     },
     "execution_count": 64,
     "metadata": {},
     "output_type": "execute_result"
    }
   ],
   "source": [
    "M = A-2*eye(3)\n",
    "M"
   ]
  },
  {
   "cell_type": "code",
   "execution_count": 65,
   "metadata": {
    "collapsed": false
   },
   "outputs": [
    {
     "data": {
      "image/png": "[encoded data removed]",
      "text/latex": [
       "$$\\left[\\begin{matrix}1 & 0 & 3\\\\0 & 1 & 3\\\\0 & 0 & 0\\end{matrix}\\right]$$"
      ],
      "text/plain": [
       "⎡1  0  3⎤\n",
       "⎢       ⎥\n",
       "⎢0  1  3⎥\n",
       "⎢       ⎥\n",
       "⎣0  0  0⎦"
      ]
     },
     "execution_count": 65,
     "metadata": {},
     "output_type": "execute_result"
    }
   ],
   "source": [
    "R = reduced_row_echelon_form(M)\n",
    "R"
   ]
  },
  {
   "cell_type": "markdown",
   "metadata": {},
   "source": [
    "# Problem 5"
   ]
  },
  {
   "cell_type": "code",
   "execution_count": 66,
   "metadata": {
    "collapsed": true
   },
   "outputs": [],
   "source": [
    "# Club\n",
    "u1 = Matrix([2,-1,2,-1])\n",
    "u2 = Matrix([0,-2,0,2])\n",
    "u3 = Matrix([-2,-1,-1,0])"
   ]
  },
  {
   "cell_type": "code",
   "execution_count": 68,
   "metadata": {
    "collapsed": false
   },
   "outputs": [
    {
     "data": {
      "image/png": "[encoded data removed]",
      "text/latex": [
       "$$\\left[\\begin{matrix}2\\\\-1\\\\2\\\\-1\\end{matrix}\\right]$$"
      ],
      "text/plain": [
       "⎡2 ⎤\n",
       "⎢  ⎥\n",
       "⎢-1⎥\n",
       "⎢  ⎥\n",
       "⎢2 ⎥\n",
       "⎢  ⎥\n",
       "⎣-1⎦"
      ]
     },
     "execution_count": 68,
     "metadata": {},
     "output_type": "execute_result"
    }
   ],
   "source": [
    "v1 = u1\n",
    "v1"
   ]
  },
  {
   "cell_type": "code",
   "execution_count": 69,
   "metadata": {
    "collapsed": false
   },
   "outputs": [
    {
     "data": {
      "image/png": "[encoded data removed]",
      "text/latex": [
       "$$\\left[\\begin{matrix}0\\\\-2\\\\0\\\\2\\end{matrix}\\right]$$"
      ],
      "text/plain": [
       "⎡0 ⎤\n",
       "⎢  ⎥\n",
       "⎢-2⎥\n",
       "⎢  ⎥\n",
       "⎢0 ⎥\n",
       "⎢  ⎥\n",
       "⎣2 ⎦"
      ]
     },
     "execution_count": 69,
     "metadata": {},
     "output_type": "execute_result"
    }
   ],
   "source": [
    "v2 = u2 - (u2.dot(v1) / v1.dot(v1)) * v1\n",
    "v2"
   ]
  },
  {
   "cell_type": "code",
   "execution_count": 71,
   "metadata": {
    "collapsed": false
   },
   "outputs": [
    {
     "data": {
      "image/png": "[encoded data removed]",
      "text/latex": [
       "$$\\left[\\begin{matrix}-1\\\\-1\\\\0\\\\-1\\end{matrix}\\right]$$"
      ],
      "text/plain": [
       "⎡-1⎤\n",
       "⎢  ⎥\n",
       "⎢-1⎥\n",
       "⎢  ⎥\n",
       "⎢0 ⎥\n",
       "⎢  ⎥\n",
       "⎣-1⎦"
      ]
     },
     "execution_count": 71,
     "metadata": {},
     "output_type": "execute_result"
    }
   ],
   "source": [
    "v3 = u3 - (u3.dot(v1) / v1.dot(v1)) * v1 - (u3.dot(v2) / v2.dot(v2)) * v2\n",
    "v3"
   ]
  },
  {
   "cell_type": "code",
   "execution_count": 72,
   "metadata": {
    "collapsed": false
   },
   "outputs": [
    {
     "data": {
      "image/png": "[encoded data removed]",
      "text/latex": [
       "$$\\left ( 0, \\quad 0, \\quad 0\\right )$$"
      ],
      "text/plain": [
       "(0, 0, 0)"
      ]
     },
     "execution_count": 72,
     "metadata": {},
     "output_type": "execute_result"
    }
   ],
   "source": [
    "v1.dot(v2), v1.dot(v3), v2.dot(v3)"
   ]
  },
  {
   "cell_type": "code",
   "execution_count": 75,
   "metadata": {
    "collapsed": true
   },
   "outputs": [],
   "source": [
    "# Diamond\n",
    "u1 = Matrix([1,2,0,-2])\n",
    "u2 = Matrix([1,-1,2,0])\n",
    "u3 = Matrix([0,-2,1,-2])"
   ]
  },
  {
   "cell_type": "code",
   "execution_count": 76,
   "metadata": {
    "collapsed": false
   },
   "outputs": [
    {
     "data": {
      "image/png": "[encoded data removed]",
      "text/latex": [
       "$$\\left[\\begin{matrix}1\\\\2\\\\0\\\\-2\\end{matrix}\\right]$$"
      ],
      "text/plain": [
       "⎡1 ⎤\n",
       "⎢  ⎥\n",
       "⎢2 ⎥\n",
       "⎢  ⎥\n",
       "⎢0 ⎥\n",
       "⎢  ⎥\n",
       "⎣-2⎦"
      ]
     },
     "execution_count": 76,
     "metadata": {},
     "output_type": "execute_result"
    }
   ],
   "source": [
    "v1 = u1\n",
    "v1"
   ]
  },
  {
   "cell_type": "code",
   "execution_count": 77,
   "metadata": {
    "collapsed": false
   },
   "outputs": [
    {
     "data": {
      "image/png": "[encoded data removed]",
      "text/latex": [
       "$$\\left[\\begin{matrix}\\frac{10}{9}\\\\- \\frac{7}{9}\\\\2\\\\- \\frac{2}{9}\\end{matrix}\\right]$$"
      ],
      "text/plain": [
       "⎡10/9⎤\n",
       "⎢    ⎥\n",
       "⎢-7/9⎥\n",
       "⎢    ⎥\n",
       "⎢ 2  ⎥\n",
       "⎢    ⎥\n",
       "⎣-2/9⎦"
      ]
     },
     "execution_count": 77,
     "metadata": {},
     "output_type": "execute_result"
    }
   ],
   "source": [
    "v2 = u2 - (u2.dot(v1) / v1.dot(v1)) * v1\n",
    "v2"
   ]
  },
  {
   "cell_type": "code",
   "execution_count": 78,
   "metadata": {
    "collapsed": false
   },
   "outputs": [
    {
     "data": {
      "image/png": "[encoded data removed]",
      "text/latex": [
       "$$\\left[\\begin{matrix}- \\frac{40}{53}\\\\- \\frac{78}{53}\\\\- \\frac{19}{53}\\\\- \\frac{98}{53}\\end{matrix}\\right]$$"
      ],
      "text/plain": [
       "⎡-40 ⎤\n",
       "⎢────⎥\n",
       "⎢ 53 ⎥\n",
       "⎢    ⎥\n",
       "⎢-78 ⎥\n",
       "⎢────⎥\n",
       "⎢ 53 ⎥\n",
       "⎢    ⎥\n",
       "⎢-19 ⎥\n",
       "⎢────⎥\n",
       "⎢ 53 ⎥\n",
       "⎢    ⎥\n",
       "⎢-98 ⎥\n",
       "⎢────⎥\n",
       "⎣ 53 ⎦"
      ]
     },
     "execution_count": 78,
     "metadata": {},
     "output_type": "execute_result"
    }
   ],
   "source": [
    "v3 = u3 - (u3.dot(v1) / v1.dot(v1)) * v1 - (u3.dot(v2) / v2.dot(v2)) * v2\n",
    "v3"
   ]
  },
  {
   "cell_type": "code",
   "execution_count": 79,
   "metadata": {
    "collapsed": false
   },
   "outputs": [
    {
     "data": {
      "image/png": "[encoded data removed]",
      "text/latex": [
       "$$\\left ( 0, \\quad 0, \\quad 0\\right )$$"
      ],
      "text/plain": [
       "(0, 0, 0)"
      ]
     },
     "execution_count": 79,
     "metadata": {},
     "output_type": "execute_result"
    }
   ],
   "source": [
    "v1.dot(v2), v1.dot(v3), v2.dot(v3)"
   ]
  },
  {
   "cell_type": "code",
   "execution_count": 82,
   "metadata": {
    "collapsed": true
   },
   "outputs": [],
   "source": [
    "# Spade\n",
    "u1 = Matrix([1,0,0,-2])\n",
    "u2 = Matrix([-2,1,1,1])\n",
    "u3 = Matrix([2,1,2,-1])"
   ]
  },
  {
   "cell_type": "code",
   "execution_count": 85,
   "metadata": {
    "collapsed": false
   },
   "outputs": [
    {
     "data": {
      "image/png": "[encoded data removed]",
      "text/latex": [
       "$$\\left[\\begin{matrix}1\\\\0\\\\0\\\\-2\\end{matrix}\\right]$$"
      ],
      "text/plain": [
       "⎡1 ⎤\n",
       "⎢  ⎥\n",
       "⎢0 ⎥\n",
       "⎢  ⎥\n",
       "⎢0 ⎥\n",
       "⎢  ⎥\n",
       "⎣-2⎦"
      ]
     },
     "execution_count": 85,
     "metadata": {},
     "output_type": "execute_result"
    }
   ],
   "source": [
    "v1 = u1\n",
    "v1"
   ]
  },
  {
   "cell_type": "code",
   "execution_count": 86,
   "metadata": {
    "collapsed": false
   },
   "outputs": [
    {
     "data": {
      "image/png": "[encoded data removed]",
      "text/latex": [
       "$$\\left[\\begin{matrix}- \\frac{6}{5}\\\\1\\\\1\\\\- \\frac{3}{5}\\end{matrix}\\right]$$"
      ],
      "text/plain": [
       "⎡-6/5⎤\n",
       "⎢    ⎥\n",
       "⎢ 1  ⎥\n",
       "⎢    ⎥\n",
       "⎢ 1  ⎥\n",
       "⎢    ⎥\n",
       "⎣-3/5⎦"
      ]
     },
     "execution_count": 86,
     "metadata": {},
     "output_type": "execute_result"
    }
   ],
   "source": [
    "v2 = u2 - (u2.dot(v1) / v1.dot(v1)) * v1\n",
    "v2"
   ]
  },
  {
   "cell_type": "code",
   "execution_count": 87,
   "metadata": {
    "collapsed": false
   },
   "outputs": [
    {
     "data": {
      "image/png": "[encoded data removed]",
      "text/latex": [
       "$$\\left[\\begin{matrix}\\frac{30}{19}\\\\\\frac{13}{19}\\\\\\frac{32}{19}\\\\\\frac{15}{19}\\end{matrix}\\right]$$"
      ],
      "text/plain": [
       "⎡30⎤\n",
       "⎢──⎥\n",
       "⎢19⎥\n",
       "⎢  ⎥\n",
       "⎢13⎥\n",
       "⎢──⎥\n",
       "⎢19⎥\n",
       "⎢  ⎥\n",
       "⎢32⎥\n",
       "⎢──⎥\n",
       "⎢19⎥\n",
       "⎢  ⎥\n",
       "⎢15⎥\n",
       "⎢──⎥\n",
       "⎣19⎦"
      ]
     },
     "execution_count": 87,
     "metadata": {},
     "output_type": "execute_result"
    }
   ],
   "source": [
    "v3 = u3 - (u3.dot(v1) / v1.dot(v1)) * v1 - (u3.dot(v2) / v2.dot(v2)) * v2\n",
    "v3"
   ]
  },
  {
   "cell_type": "code",
   "execution_count": 89,
   "metadata": {
    "collapsed": true
   },
   "outputs": [],
   "source": [
    "# Heart\n",
    "u1 = Matrix([0,1,0,-2])\n",
    "u2 = Matrix([2,2,-1,0])\n",
    "u3 = Matrix([0,1,2,1])"
   ]
  },
  {
   "cell_type": "code",
   "execution_count": 90,
   "metadata": {
    "collapsed": false
   },
   "outputs": [
    {
     "data": {
      "image/png": "[encoded data removed]",
      "text/latex": [
       "$$\\left[\\begin{matrix}0\\\\1\\\\0\\\\-2\\end{matrix}\\right]$$"
      ],
      "text/plain": [
       "⎡0 ⎤\n",
       "⎢  ⎥\n",
       "⎢1 ⎥\n",
       "⎢  ⎥\n",
       "⎢0 ⎥\n",
       "⎢  ⎥\n",
       "⎣-2⎦"
      ]
     },
     "execution_count": 90,
     "metadata": {},
     "output_type": "execute_result"
    }
   ],
   "source": [
    "v1 = u1\n",
    "v1"
   ]
  },
  {
   "cell_type": "code",
   "execution_count": 91,
   "metadata": {
    "collapsed": false
   },
   "outputs": [
    {
     "data": {
      "image/png": "[encoded data removed]",
      "text/latex": [
       "$$\\left[\\begin{matrix}2\\\\\\frac{8}{5}\\\\-1\\\\\\frac{4}{5}\\end{matrix}\\right]$$"
      ],
      "text/plain": [
       "⎡ 2 ⎤\n",
       "⎢   ⎥\n",
       "⎢8/5⎥\n",
       "⎢   ⎥\n",
       "⎢-1 ⎥\n",
       "⎢   ⎥\n",
       "⎣4/5⎦"
      ]
     },
     "execution_count": 91,
     "metadata": {},
     "output_type": "execute_result"
    }
   ],
   "source": [
    "v2 = u2 - (u2.dot(v1) / v1.dot(v1)) * v1\n",
    "v2"
   ]
  },
  {
   "cell_type": "code",
   "execution_count": 92,
   "metadata": {
    "collapsed": false
   },
   "outputs": [
    {
     "data": {
      "image/png": "[encoded data removed]",
      "text/latex": [
       "$$\\left[\\begin{matrix}- \\frac{4}{41}\\\\\\frac{46}{41}\\\\\\frac{84}{41}\\\\\\frac{23}{41}\\end{matrix}\\right]$$"
      ],
      "text/plain": [
       "⎡-4/41⎤\n",
       "⎢     ⎥\n",
       "⎢ 46  ⎥\n",
       "⎢ ──  ⎥\n",
       "⎢ 41  ⎥\n",
       "⎢     ⎥\n",
       "⎢ 84  ⎥\n",
       "⎢ ──  ⎥\n",
       "⎢ 41  ⎥\n",
       "⎢     ⎥\n",
       "⎢ 23  ⎥\n",
       "⎢ ──  ⎥\n",
       "⎣ 41  ⎦"
      ]
     },
     "execution_count": 92,
     "metadata": {},
     "output_type": "execute_result"
    }
   ],
   "source": [
    "v3 = u3 - (u3.dot(v1) / v1.dot(v1)) * v1 - (u3.dot(v2) / v2.dot(v2)) * v2\n",
    "v3"
   ]
  },
  {
   "cell_type": "markdown",
   "metadata": {},
   "source": [
    "# Problem 5"
   ]
  },
  {
   "cell_type": "code",
   "execution_count": 93,
   "metadata": {
    "collapsed": false
   },
   "outputs": [
    {
     "data": {
      "image/png": "[encoded data removed]",
      "text/latex": [
       "$$\\left[\\begin{matrix}- \\frac{3}{2} & \\frac{1}{2}\\\\\\frac{1}{2} & - \\frac{3}{2}\\end{matrix}\\right]$$"
      ],
      "text/plain": [
       "⎡-3/2  1/2 ⎤\n",
       "⎢          ⎥\n",
       "⎣1/2   -3/2⎦"
      ]
     },
     "execution_count": 93,
     "metadata": {},
     "output_type": "execute_result"
    }
   ],
   "source": [
    "A = matrix_to_rational([[-3/2,1/2],[1/2,-3/2]])\n",
    "A"
   ]
  },
  {
   "cell_type": "code",
   "execution_count": 95,
   "metadata": {
    "collapsed": false
   },
   "outputs": [
    {
     "data": {
      "image/png": "[encoded data removed]",
      "text/latex": [
       "$$\\lambda^{2} + 3 \\lambda + 2$$"
      ],
      "text/plain": [
       " 2          \n",
       "λ  + 3⋅λ + 2"
      ]
     },
     "execution_count": 95,
     "metadata": {},
     "output_type": "execute_result"
    }
   ],
   "source": [
    "lbd = symbols('lambda')\n",
    "p = det(A - lbd*eye(2))\n",
    "p"
   ]
  },
  {
   "cell_type": "code",
   "execution_count": 96,
   "metadata": {
    "collapsed": false
   },
   "outputs": [
    {
     "data": {
      "image/png": "[encoded data removed]",
      "text/latex": [
       "$$\\left(\\lambda + 1\\right) \\left(\\lambda + 2\\right)$$"
      ],
      "text/plain": [
       "(λ + 1)⋅(λ + 2)"
      ]
     },
     "execution_count": 96,
     "metadata": {},
     "output_type": "execute_result"
    }
   ],
   "source": [
    "factor(p)"
   ]
  },
  {
   "cell_type": "code",
   "execution_count": 98,
   "metadata": {
    "collapsed": false
   },
   "outputs": [
    {
     "data": {
      "image/png": "[encoded data removed]",
      "text/latex": [
       "$$\\left[\\begin{matrix}- \\frac{1}{2} & \\frac{1}{2}\\\\\\frac{1}{2} & - \\frac{1}{2}\\end{matrix}\\right]$$"
      ],
      "text/plain": [
       "⎡-1/2  1/2 ⎤\n",
       "⎢          ⎥\n",
       "⎣1/2   -1/2⎦"
      ]
     },
     "execution_count": 98,
     "metadata": {},
     "output_type": "execute_result"
    }
   ],
   "source": [
    "R = A - (-1)*eye(2)\n",
    "R"
   ]
  },
  {
   "cell_type": "code",
   "execution_count": 99,
   "metadata": {
    "collapsed": false
   },
   "outputs": [
    {
     "data": {
      "image/png": "[encoded data removed]",
      "text/latex": [
       "$$\\left[\\begin{matrix}1 & -1\\\\0 & 0\\end{matrix}\\right]$$"
      ],
      "text/plain": [
       "⎡1  -1⎤\n",
       "⎢     ⎥\n",
       "⎣0  0 ⎦"
      ]
     },
     "execution_count": 99,
     "metadata": {},
     "output_type": "execute_result"
    }
   ],
   "source": [
    "reduced_row_echelon_form(R)"
   ]
  },
  {
   "cell_type": "code",
   "execution_count": 104,
   "metadata": {
    "collapsed": false
   },
   "outputs": [
    {
     "data": {
      "image/png": "[encoded data removed]",
      "text/latex": [
       "$$\\left[\\begin{matrix}1\\\\1\\end{matrix}\\right]$$"
      ],
      "text/plain": [
       "⎡1⎤\n",
       "⎢ ⎥\n",
       "⎣1⎦"
      ]
     },
     "execution_count": 104,
     "metadata": {},
     "output_type": "execute_result"
    }
   ],
   "source": [
    "u1 = Matrix([1,1])\n",
    "u1"
   ]
  },
  {
   "cell_type": "code",
   "execution_count": 106,
   "metadata": {
    "collapsed": false
   },
   "outputs": [
    {
     "data": {
      "image/png": "[encoded data removed]",
      "text/latex": [
       "$$\\left[\\begin{matrix}0\\\\0\\end{matrix}\\right]$$"
      ],
      "text/plain": [
       "⎡0⎤\n",
       "⎢ ⎥\n",
       "⎣0⎦"
      ]
     },
     "execution_count": 106,
     "metadata": {},
     "output_type": "execute_result"
    }
   ],
   "source": [
    "A*u1-(-1)*u1"
   ]
  },
  {
   "cell_type": "code",
   "execution_count": 101,
   "metadata": {
    "collapsed": false
   },
   "outputs": [
    {
     "data": {
      "image/png": "[encoded data removed]",
      "text/latex": [
       "$$\\left[\\begin{matrix}\\frac{1}{2} & \\frac{1}{2}\\\\\\frac{1}{2} & \\frac{1}{2}\\end{matrix}\\right]$$"
      ],
      "text/plain": [
       "⎡1/2  1/2⎤\n",
       "⎢        ⎥\n",
       "⎣1/2  1/2⎦"
      ]
     },
     "execution_count": 101,
     "metadata": {},
     "output_type": "execute_result"
    }
   ],
   "source": [
    "R = A - (-2)*eye(2)\n",
    "R"
   ]
  },
  {
   "cell_type": "code",
   "execution_count": 103,
   "metadata": {
    "collapsed": false
   },
   "outputs": [
    {
     "data": {
      "image/png": "[encoded data removed]",
      "text/latex": [
       "$$\\left[\\begin{matrix}1 & 1\\\\0 & 0\\end{matrix}\\right]$$"
      ],
      "text/plain": [
       "⎡1  1⎤\n",
       "⎢    ⎥\n",
       "⎣0  0⎦"
      ]
     },
     "execution_count": 103,
     "metadata": {},
     "output_type": "execute_result"
    }
   ],
   "source": [
    "reduced_row_echelon_form(R)"
   ]
  },
  {
   "cell_type": "code",
   "execution_count": 107,
   "metadata": {
    "collapsed": false
   },
   "outputs": [
    {
     "data": {
      "image/png": "[encoded data removed]",
      "text/latex": [
       "$$\\left[\\begin{matrix}-1\\\\1\\end{matrix}\\right]$$"
      ],
      "text/plain": [
       "⎡-1⎤\n",
       "⎢  ⎥\n",
       "⎣1 ⎦"
      ]
     },
     "execution_count": 107,
     "metadata": {},
     "output_type": "execute_result"
    }
   ],
   "source": [
    "u2 = Matrix([-1,1])\n",
    "u2"
   ]
  },
  {
   "cell_type": "code",
   "execution_count": 108,
   "metadata": {
    "collapsed": false
   },
   "outputs": [
    {
     "data": {
      "image/png": "[encoded data removed]",
      "text/latex": [
       "$$\\left[\\begin{matrix}\\frac{\\sqrt{2}}{2}\\\\\\frac{\\sqrt{2}}{2}\\end{matrix}\\right]$$"
      ],
      "text/plain": [
       "⎡√2⎤\n",
       "⎢──⎥\n",
       "⎢2 ⎥\n",
       "⎢  ⎥\n",
       "⎢√2⎥\n",
       "⎢──⎥\n",
       "⎣2 ⎦"
      ]
     },
     "execution_count": 108,
     "metadata": {},
     "output_type": "execute_result"
    }
   ],
   "source": [
    "n1 = u1/u1.norm()\n",
    "n1"
   ]
  },
  {
   "cell_type": "code",
   "execution_count": 109,
   "metadata": {
    "collapsed": false
   },
   "outputs": [
    {
     "data": {
      "image/png": "[encoded data removed]",
      "text/latex": [
       "$$\\left[\\begin{matrix}- \\frac{\\sqrt{2}}{2}\\\\\\frac{\\sqrt{2}}{2}\\end{matrix}\\right]$$"
      ],
      "text/plain": [
       "⎡-√2 ⎤\n",
       "⎢────⎥\n",
       "⎢ 2  ⎥\n",
       "⎢    ⎥\n",
       "⎢ √2 ⎥\n",
       "⎢ ── ⎥\n",
       "⎣ 2  ⎦"
      ]
     },
     "execution_count": 109,
     "metadata": {},
     "output_type": "execute_result"
    }
   ],
   "source": [
    "n2 = u2/u2.norm()\n",
    "n2"
   ]
  },
  {
   "cell_type": "code",
   "execution_count": 110,
   "metadata": {
    "collapsed": false
   },
   "outputs": [
    {
     "data": {
      "image/png": "[encoded data removed]",
      "text/latex": [
       "$$\\left[\\begin{matrix}\\frac{\\sqrt{2}}{2} & - \\frac{\\sqrt{2}}{2}\\\\\\frac{\\sqrt{2}}{2} & \\frac{\\sqrt{2}}{2}\\end{matrix}\\right]$$"
      ],
      "text/plain": [
       "⎡√2  -√2 ⎤\n",
       "⎢──  ────⎥\n",
       "⎢2    2  ⎥\n",
       "⎢        ⎥\n",
       "⎢√2   √2 ⎥\n",
       "⎢──   ── ⎥\n",
       "⎣2    2  ⎦"
      ]
     },
     "execution_count": 110,
     "metadata": {},
     "output_type": "execute_result"
    }
   ],
   "source": [
    "P = Matrix.hstack(n1,n2)\n",
    "P"
   ]
  },
  {
   "cell_type": "code",
   "execution_count": 111,
   "metadata": {
    "collapsed": false
   },
   "outputs": [
    {
     "data": {
      "image/png": "[encoded data removed]",
      "text/latex": [
       "$$\\left[\\begin{matrix}1 & 0\\\\0 & 1\\end{matrix}\\right]$$"
      ],
      "text/plain": [
       "⎡1  0⎤\n",
       "⎢    ⎥\n",
       "⎣0  1⎦"
      ]
     },
     "execution_count": 111,
     "metadata": {},
     "output_type": "execute_result"
    }
   ],
   "source": [
    "P.T*P"
   ]
  },
  {
   "cell_type": "code",
   "execution_count": 112,
   "metadata": {
    "collapsed": false
   },
   "outputs": [
    {
     "data": {
      "image/png": "[encoded data removed]",
      "text/latex": [
       "$$\\left[\\begin{matrix}-1 & 0\\\\0 & -2\\end{matrix}\\right]$$"
      ],
      "text/plain": [
       "⎡-1  0 ⎤\n",
       "⎢      ⎥\n",
       "⎣0   -2⎦"
      ]
     },
     "execution_count": 112,
     "metadata": {},
     "output_type": "execute_result"
    }
   ],
   "source": [
    "P.T * A * P"
   ]
  },
  {
   "cell_type": "code",
   "execution_count": null,
   "metadata": {
    "collapsed": true
   },
   "outputs": [],
   "source": []
  }
 ],
 "metadata": {
  "kernelspec": {
   "display_name": "Python 3",
   "language": "python",
   "name": "python3"
  },
  "language_info": {
   "codemirror_mode": {
    "name": "ipython",
    "version": 3
   },
   "file_extension": ".py",
   "mimetype": "text/x-python",
   "name": "python",
   "nbconvert_exporter": "python",
   "pygments_lexer": "ipython3",
   "version": "3.5.1"
  }
 },
 "nbformat": 4,
 "nbformat_minor": 0
}
