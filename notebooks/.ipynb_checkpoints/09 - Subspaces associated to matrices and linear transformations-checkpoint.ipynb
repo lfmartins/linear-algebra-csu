{
 "cells": [
  {
   "cell_type": "code",
   "execution_count": 2,
   "metadata": {
    "collapsed": true
   },
   "outputs": [],
   "source": [
    "%run rop.py\n",
    "from sympy import init_printing\n",
    "init_printing(use_latex=True) # If Latex is not installed, change to use_latex=False"
   ]
  },
  {
   "cell_type": "markdown",
   "metadata": {},
   "source": [
    "# Subspaces associated to matrices and linear transformations\n",
    "\n",
    "In this notebook we consider the problem of identifying subspaces associated to a matrix $A$, or the corresponding linear transformation given by $T(\\mathbf{x})=A\\mathbf{x}$.\n",
    "\n",
    "## Row and column spaces\n",
    "\n",
    "Let $A$ be a $n\\times m$ matrix.\n",
    "\n",
    "The _row space_ of $A$ is the subspace of $\\mathbb{R^m}$ spanned by the row vectors of $A$. Notation: $\\text{row}\\,(A)$\n",
    "\n",
    "The _column space_ of $A$ is the subspace of $\\mathbb{R^n}$ spanned by the column vectors of $A$. Notation: $\\text{col}\\,(A)$\n",
    "\n",
    "Method to find the row and column spaces:\n",
    "\n",
    "- Using elementary row operations on $A$, find its reduced row echelon form $B$.\n",
    "- The nonzero rows of $B$ are a basis for $\\text{row}\\,(A)$.\n",
    "- The columns of $A$ corresponding to the pivot columns of $B$ form a basis for $\\text{col}\\,(A)$\n",
    "\n",
    "### Example 1\n",
    "\n",
    "Find bases for the row and column spaces of the matrix $A$ given below:"
   ]
  },
  {
   "cell_type": "code",
   "execution_count": 3,
   "metadata": {
    "collapsed": false
   },
   "outputs": [
    {
     "data": {
      "image/png": "[encoded data removed]",
      "text/latex": [
       "$$\\left[\\begin{matrix}1 & -2 & 7 & 5\\\\-2 & -1 & -9 & -7\\\\1 & 13 & -8 & -4\\end{matrix}\\right]$$"
      ],
      "text/plain": [
       "⎡1   -2  7   5 ⎤\n",
       "⎢              ⎥\n",
       "⎢-2  -1  -9  -7⎥\n",
       "⎢              ⎥\n",
       "⎣1   13  -8  -4⎦"
      ]
     },
     "execution_count": 3,
     "metadata": {},
     "output_type": "execute_result"
    }
   ],
   "source": [
    "A = matrix_to_rational([[1, -2, 7, 5], [-2, -1, -9, -7],[1,13,-8,-4]])\n",
    "A"
   ]
  },
  {
   "cell_type": "markdown",
   "metadata": {},
   "source": [
    "_Solution_: we first find the reduced row echelon form of $A$:"
   ]
  },
  {
   "cell_type": "code",
   "execution_count": 4,
   "metadata": {
    "collapsed": false
   },
   "outputs": [
    {
     "data": {
      "image/png": "[encoded data removed]",
      "text/latex": [
       "$$\\left[\\begin{matrix}1 & 0 & 5 & \\frac{19}{5}\\\\0 & 1 & -1 & - \\frac{3}{5}\\\\0 & 0 & 0 & 0\\end{matrix}\\right]$$"
      ],
      "text/plain": [
       "⎡1  0  5   19/5⎤\n",
       "⎢              ⎥\n",
       "⎢0  1  -1  -3/5⎥\n",
       "⎢              ⎥\n",
       "⎣0  0  0    0  ⎦"
      ]
     },
     "execution_count": 4,
     "metadata": {},
     "output_type": "execute_result"
    }
   ],
   "source": [
    "B = reduced_row_echelon(A)\n",
    "B"
   ]
  },
  {
   "cell_type": "markdown",
   "metadata": {},
   "source": [
    "A basis for the row space of $A$ is given by the nonzero rows of $B$:\n",
    "\n",
    "$$\n",
    "\\left\\{\n",
    "\\left[\\begin{matrix}1\\\\0\\\\5\\\\19/5\\end{matrix}\\right],\n",
    "\\left[\\begin{matrix}0\\\\1\\\\-1\\\\-3/5\\end{matrix}\\right]\n",
    "\\right\\}\n",
    "$$\n",
    "\n",
    "A basis for the columns space of $A$ is given by the rows of $A$ the correspond to pivot columns in $B$. In this example, the pivot columns are $1$ and $2$, so a basis for $\\text{col}\\,(A)$ is:\n",
    "\n",
    "$$\n",
    "\\left\\{\n",
    "\\left[\\begin{matrix}1\\\\-2\\\\1\\end{matrix}\\right],\n",
    "\\left[\\begin{matrix}-2\\\\-1\\\\13\\end{matrix}\\right]\n",
    "\\right\\}\n",
    "$$"
   ]
  },
  {
   "cell_type": "markdown",
   "metadata": {},
   "source": [
    "An alternate solution to the problem of finding a basis for the row space is to consider the _transpose_ of the given matrix. In our example, we could compute:"
   ]
  },
  {
   "cell_type": "code",
   "execution_count": 11,
   "metadata": {
    "collapsed": false
   },
   "outputs": [
    {
     "data": {
      "image/png": "[encoded data removed]",
      "text/latex": [
       "$$\\left[\\begin{matrix}1 & -2 & 1\\\\-2 & -1 & 13\\\\7 & -9 & -8\\\\5 & -7 & -4\\end{matrix}\\right]$$"
      ],
      "text/plain": [
       "⎡1   -2  1 ⎤\n",
       "⎢          ⎥\n",
       "⎢-2  -1  13⎥\n",
       "⎢          ⎥\n",
       "⎢7   -9  -8⎥\n",
       "⎢          ⎥\n",
       "⎣5   -7  -4⎦"
      ]
     },
     "execution_count": 11,
     "metadata": {},
     "output_type": "execute_result"
    }
   ],
   "source": [
    "A1 = A.transpose()\n",
    "A1"
   ]
  },
  {
   "cell_type": "code",
   "execution_count": 12,
   "metadata": {
    "collapsed": false
   },
   "outputs": [
    {
     "data": {
      "image/png": "[encoded data removed]",
      "text/latex": [
       "$$\\left[\\begin{matrix}1 & 0 & -5\\\\0 & 1 & -3\\\\0 & 0 & 0\\\\0 & 0 & 0\\end{matrix}\\right]$$"
      ],
      "text/plain": [
       "⎡1  0  -5⎤\n",
       "⎢        ⎥\n",
       "⎢0  1  -3⎥\n",
       "⎢        ⎥\n",
       "⎢0  0  0 ⎥\n",
       "⎢        ⎥\n",
       "⎣0  0  0 ⎦"
      ]
     },
     "execution_count": 12,
     "metadata": {},
     "output_type": "execute_result"
    }
   ],
   "source": [
    "B1 = reduced_row_echelon(A1)\n",
    "B1"
   ]
  },
  {
   "cell_type": "markdown",
   "metadata": {},
   "source": [
    "Since the pivot columns are columns 1 and 2, a basis for $\\text{row}\\,(A)$ is given by:\n",
    "\n",
    "$$\n",
    "\\left\\{\n",
    "\\left[\\begin{matrix}1\\\\-2\\\\7\\\\5\\end{matrix}\\right],\n",
    "\\left[\\begin{matrix}-2\\\\-1\\\\-9\\\\-7\\end{matrix}\\right]\n",
    "\\right\\}\n",
    "$$"
   ]
  },
  {
   "cell_type": "markdown",
   "metadata": {},
   "source": [
    "Notice that the dimension of the subspaces $\\text{row}\\,(A)$ and $\\text{col}\\,(A)$ are the same in this example. This is a general fact, and this number is called the _rank_ of $A$, denoted by $\\text{rank}\\,(A)$. Thus, in the example above, $\\text{rank}\\,(A)=2$. The following is the general procedure to find the rank of a matrix:\n",
    "\n",
    "- Using elementary row operations on $A$, find its reduced row echelon form $B$.\n",
    "- The rank of $A$ can be found as either the number of nonzero rows of $B$, or the number of pivot columns of $B$."
   ]
  },
  {
   "cell_type": "markdown",
   "metadata": {},
   "source": [
    "## Kernel and range\n",
    "\n",
    "Let $A$ be a $n\\times m$ matrix. We denote by $T:\\mathbb{R}^m\\to\\mathbb{R}^n$ the linear transformation defined by $T(\\mathbf{x})=A\\mathbf{x}$\n",
    "\n",
    "- The _kernel_ of $A$ is the set of vectors $\\mathbf{x}\\in\\mathbb{R}^m$ such that $A\\mathbf{x}=0$. Notation: $\\text{ker}\\,(A)$. The kernel is also called _null space_.\n",
    "- The _range_ of $A$ is the set of vectors $\\mathbf{b}\\in\\mathbb{R}^n$ such that there is a $\\mathbf{x}\\in\\mathbb{R}^m$ such that $A\\mathbf{x}=\\mathbf{b}$. Notation: $\\text{range}(A)$.\n",
    "\n",
    "We use the same terminology for the linear transformation $T$ associated to $A$. We use these subspaces to define the following numbers associated to $A$ or $T$:\n",
    "\n",
    "- The _nullity_ of $A$ (or $T$) is the dimension of the kernel of $A$ (or $T$).\n",
    "- The _rank_ of $A$ (or $T$) is the dimension of the range of $A$ (or $T$). (*Yes*, this is the same \"rank\" discussed in the previous example).\n",
    "\n",
    "How to compute the range and kernel:\n",
    "\n",
    "- The range of $A$ is the subspace spanned by the columns of $A$. So, we already learned how to compute the range in the previous section.\n",
    "- To find the kernel of $A$ we need to find the set of solutions of the system $A\\mathbf{x}=\\mathbf{0}$. This is a kind of problem that we already solved, but let's review the solution method. Let's consider the matrix:\n",
    "\n",
    "\n"
   ]
  },
  {
   "cell_type": "code",
   "execution_count": 5,
   "metadata": {
    "collapsed": false
   },
   "outputs": [
    {
     "data": {
      "image/png": "[encoded data removed]",
      "text/latex": [
       "$$\\left[\\begin{matrix}1 & -3 & -2 & 8 & -8\\\\2 & -6 & 4 & -8 & 0\\\\3 & -9 & -1 & 9 & -14\\end{matrix}\\right]$$"
      ],
      "text/plain": [
       "⎡1  -3  -2  8   -8 ⎤\n",
       "⎢                  ⎥\n",
       "⎢2  -6  4   -8   0 ⎥\n",
       "⎢                  ⎥\n",
       "⎣3  -9  -1  9   -14⎦"
      ]
     },
     "execution_count": 5,
     "metadata": {},
     "output_type": "execute_result"
    }
   ],
   "source": [
    "A = matrix_to_rational([[1, -3, -2, 8, -8], [2, -6, 4, -8, 0], [3, -9, -1, 9, -14]])\n",
    "A"
   ]
  },
  {
   "cell_type": "markdown",
   "metadata": {},
   "source": [
    "We start by finding the reduced row echelon form of $A$:"
   ]
  },
  {
   "cell_type": "code",
   "execution_count": 6,
   "metadata": {
    "collapsed": false
   },
   "outputs": [
    {
     "data": {
      "image/png": "[encoded data removed]",
      "text/latex": [
       "$$\\left[\\begin{matrix}1 & -3 & 0 & 2 & -4\\\\0 & 0 & 1 & -3 & 2\\\\0 & 0 & 0 & 0 & 0\\end{matrix}\\right]$$"
      ],
      "text/plain": [
       "⎡1  -3  0  2   -4⎤\n",
       "⎢                ⎥\n",
       "⎢0  0   1  -3  2 ⎥\n",
       "⎢                ⎥\n",
       "⎣0  0   0  0   0 ⎦"
      ]
     },
     "execution_count": 6,
     "metadata": {},
     "output_type": "execute_result"
    }
   ],
   "source": [
    "B = reduced_row_echelon(A)\n",
    "B"
   ]
  },
  {
   "cell_type": "markdown",
   "metadata": {},
   "source": [
    "The system $A\\mathbf{x}=\\mathbf{0}$ is equivalent to:\n",
    "\n",
    "$$\n",
    "\\begin{matrix}\n",
    "x_1-3x_2+2x_4-4x_5=0\\quad\\Rightarrow\\quad x_1=3x_2-2x_4+4x_5\\\\\n",
    "x_3-3x_4+2x_5=0\\quad\\Rightarrow\\quad x_3=3x_4-2x_5\n",
    "\\end{matrix}\n",
    "$$\n",
    "\n",
    "We can define the variables $s_1=x_2$, $s_2=x_4$ and $s_3=x_5$ (that correspond to _non-pivot_ columns) freely and then compute $x_1$ and $x_3$. This leads to a general solution of the type:\n",
    "\n",
    "$$\n",
    "\\left[\\begin{matrix}\n",
    "3s_1-2s_2+4s_3\\\\\n",
    "s_1\\\\\n",
    "3s_2-2s_3\\\\\n",
    "s_2\\\\\n",
    "s_3\n",
    "\\end{matrix}\\right]\n",
    "$$\n",
    "\n",
    "To find a basis of the null space, we consider the three cases:\n",
    "\n",
    "$$\n",
    "s_1=1, s_2=0, s_3=0 \\Rightarrow \n",
    "\\left[\\begin{matrix}3\\\\1\\\\0\\\\0\\\\0\\end{matrix}\\right]\n",
    "$$\n",
    "\n",
    "$$\n",
    "s_1=0, s_2=1, s_3=0 \\Rightarrow \n",
    "\\left[\\begin{matrix}-2\\\\0\\\\3\\\\1\\\\0\\end{matrix}\\right]\n",
    "$$\n",
    "\n",
    "$$\n",
    "s_1=0, s_2=0, s_3=1 \\Rightarrow \n",
    "\\left[\\begin{matrix}4\\\\0\\\\-2\\\\0\\\\1\\end{matrix}\\right]\n",
    "$$\n",
    "\n",
    "That is, a basis for the kernel is:\n",
    "\n",
    "$$\n",
    "\\left\\{\n",
    "\\left[\\begin{matrix}3\\\\1\\\\0\\\\0\\\\0\\end{matrix}\\right],\n",
    "\\left[\\begin{matrix}-2\\\\0\\\\3\\\\1\\\\0\\end{matrix}\\right],\n",
    "\\left[\\begin{matrix}4\\\\0\\\\-2\\\\0\\\\1\\end{matrix}\\right]\n",
    "\\right\\}\n",
    "$$\n",
    "\n",
    "The nullity is the dimension of the kernel, which is $3$ in this case. Notice that the following principle is valid in general:\n",
    "\n",
    "_The nulity is the number of non-pivot rows in the reduced row echelon form of the matrix_\n",
    "\n",
    "The following theorem follows from the observations above:\n",
    "\n",
    "$$\n",
    "\\text{If $A$ is a $n\\times m$ matrix, then }\\text{rank}\\,(A)+\\text{nullity}\\,(A)=m\n",
    "$$\n",
    "\n",
    "_Proof_: The rank of $A$ is the number of pivot columns in the reduced row echelon form of $A$, and the nullity is the number of non-pivot columns. So, the sum of rank and nulity is equal to the total number of columns of $A$.\n"
   ]
  },
  {
   "cell_type": "markdown",
   "metadata": {},
   "source": [
    "## Exercises\n",
    "\n",
    "For each of the matrices below find basis for:\n",
    "\n",
    "- The row space of $A$\n",
    "- The column space of $A$ (which is equal to the range of $A$)\n",
    "- The kernel of $A$\n",
    "\n",
    "Also find the rank and nullity of $A$, and verify that the sum of rank and nullity has the expected value."
   ]
  },
  {
   "cell_type": "code",
   "execution_count": 17,
   "metadata": {
    "collapsed": false
   },
   "outputs": [
    {
     "data": {
      "image/png": "[encoded data removed]",
      "text/latex": [
       "$$\\left[\\begin{matrix}2 & 2 & 2\\\\1 & 4 & 7\\end{matrix}\\right]$$"
      ],
      "text/plain": [
       "⎡2  2  2⎤\n",
       "⎢       ⎥\n",
       "⎣1  4  7⎦"
      ]
     },
     "execution_count": 17,
     "metadata": {},
     "output_type": "execute_result"
    }
   ],
   "source": [
    "# Exercise 1\n",
    "A = matrix_to_rational([[2, 2, 2], [1, 4, 7]])\n",
    "A"
   ]
  },
  {
   "cell_type": "code",
   "execution_count": 18,
   "metadata": {
    "collapsed": false
   },
   "outputs": [
    {
     "data": {
      "image/png": "[encoded data removed]",
      "text/latex": [
       "$$\\left[\\begin{matrix}2 & 2 & 0 & -2 & 6 & 8\\\\1 & -2 & 1 & 10 & -2 & -8\\\\2 & -3 & 1 & 17 & -1 & -10\\\\3 & -2 & 1 & 16 & 2 & -6\\end{matrix}\\right]$$"
      ],
      "text/plain": [
       "⎡2  2   0  -2  6    8 ⎤\n",
       "⎢                     ⎥\n",
       "⎢1  -2  1  10  -2  -8 ⎥\n",
       "⎢                     ⎥\n",
       "⎢2  -3  1  17  -1  -10⎥\n",
       "⎢                     ⎥\n",
       "⎣3  -2  1  16  2   -6 ⎦"
      ]
     },
     "execution_count": 18,
     "metadata": {},
     "output_type": "execute_result"
    }
   ],
   "source": [
    "# Exercise 2\n",
    "A = matrix_to_rational([[2, 2, 0, -2, 6, 8], [1, -2, 1, 10, -2, -8], [2, -3, 1, 17, -1, -10], [3, -2, 1, 16, 2, -6]])\n",
    "A"
   ]
  },
  {
   "cell_type": "code",
   "execution_count": 19,
   "metadata": {
    "collapsed": false
   },
   "outputs": [
    {
     "data": {
      "image/png": "[encoded data removed]",
      "text/latex": [
       "$$\\left[\\begin{matrix}1 & -1 & -1 & 1 & 5\\\\2 & -2 & -3 & 1 & 14\\\\-1 & 1 & 2 & 0 & -9\\\\4 & -4 & 2 & 10 & -4\\\\0 & 0 & 1 & 1 & -4\\end{matrix}\\right]$$"
      ],
      "text/plain": [
       "⎡1   -1  -1  1   5 ⎤\n",
       "⎢                  ⎥\n",
       "⎢2   -2  -3  1   14⎥\n",
       "⎢                  ⎥\n",
       "⎢-1  1   2   0   -9⎥\n",
       "⎢                  ⎥\n",
       "⎢4   -4  2   10  -4⎥\n",
       "⎢                  ⎥\n",
       "⎣0   0   1   1   -4⎦"
      ]
     },
     "execution_count": 19,
     "metadata": {},
     "output_type": "execute_result"
    }
   ],
   "source": [
    "# Exercise 3\n",
    "A = matrix_to_rational([[1, -1, -1, 1, 5], \n",
    "                        [2, -2, -3, 1, 14], \n",
    "                        [-1, 1, 2, 0, -9], \n",
    "                        [4, -4, 2, 10, -4], \n",
    "                        [0, 0, 1, 1, -4]])\n",
    "A"
   ]
  },
  {
   "cell_type": "code",
   "execution_count": null,
   "metadata": {
    "collapsed": true
   },
   "outputs": [],
   "source": []
  }
 ],
 "metadata": {
  "kernelspec": {
   "display_name": "Python 3",
   "language": "python",
   "name": "python3"
  },
  "language_info": {
   "codemirror_mode": {
    "name": "ipython",
    "version": 3
   },
   "file_extension": ".py",
   "mimetype": "text/x-python",
   "name": "python",
   "nbconvert_exporter": "python",
   "pygments_lexer": "ipython3",
   "version": "3.5.1"
  }
 },
 "nbformat": 4,
 "nbformat_minor": 0
}
