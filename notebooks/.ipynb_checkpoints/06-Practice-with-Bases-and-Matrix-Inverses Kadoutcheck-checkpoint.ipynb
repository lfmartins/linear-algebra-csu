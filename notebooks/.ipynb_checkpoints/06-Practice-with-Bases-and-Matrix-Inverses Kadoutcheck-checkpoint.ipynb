{
 "cells": [
  {
   "cell_type": "code",
   "execution_count": 1,
   "metadata": {
    "collapsed": false
   },
   "outputs": [],
   "source": [
    "from latools import *\n",
    "from sympy import *\n",
    "init_printing(use_latex=False)"
   ]
  },
  {
   "cell_type": "markdown",
   "metadata": {},
   "source": [
    "## Determine if a Set of Vectors is a Basis\n",
    "\n",
    "### Example 1\n",
    "\n",
    "Determine if the vectors below form a basis of $\\mathbb{R}^3$:\n",
    "$$\n",
    "\\mathbf{v}_1=\\begin{bmatrix} 1  \\\\ 3 \\\\ 0 \\end{bmatrix}\\quad\n",
    "\\mathbf{v}_2=\\begin{bmatrix} 2  \\\\ 2 \\\\ 1 \\end{bmatrix}\\quad\n",
    "\\mathbf{v}_3=\\begin{bmatrix} -1 \\\\ 4 \\\\ 1 \\end{bmatrix}\n",
    "$$\n",
    "\n",
    "#### Solution\n",
    "\n",
    "We want to find $c_1$, $c_2$, $c_3$ such that:\n",
    "\n",
    "$$\n",
    "\\begin{bmatrix} x \\\\ y \\\\ z \\end{bmatrix} = \n",
    "c_1\\begin{bmatrix} 1  \\\\ 3 \\\\ 0 \\end{bmatrix}+\n",
    "c_2\\begin{bmatrix} 2  \\\\ 2 \\\\ 1 \\end{bmatrix}+\n",
    "c_3\\begin{bmatrix} -1 \\\\ 4 \\\\ 1 \\end{bmatrix}\n",
    "$$\n",
    "\n",
    "Equivalently, we need to solve the system:\n",
    "\n",
    "$$\n",
    "\\begin{bmatrix} 1 & 2 & -1 \\\\ 3 & 2 & 4 \\\\ 0 & 1 & 1 \\end{bmatrix}\n",
    "\\begin{bmatrix} c_1\\\\c_2\\\\c_3 \\end{bmatrix} = \n",
    "\\begin{bmatrix} x \\\\ y \\\\ z \\\\ \\end{bmatrix}\n",
    "$$\n",
    "\n",
    "We solve the system using Gaussian Elimination:"
   ]
  },
  {
   "cell_type": "code",
   "execution_count": 2,
   "metadata": {
    "collapsed": false
   },
   "outputs": [
    {
     "data": {
      "text/plain": [
       "⎡1  2   -1  x⎤\n",
       "⎢            ⎥\n",
       "⎢3  2   4   y⎥\n",
       "⎢            ⎥\n",
       "⎣0  -1  1   z⎦"
      ]
     },
     "execution_count": 2,
     "metadata": {},
     "output_type": "execute_result"
    }
   ],
   "source": [
    "x, y, z = symbols('x, y, z')\n",
    "A = matrix_to_rational([[1,  2, -1, x],\n",
    "                        [3,  2,  4, y],\n",
    "                        [0, -1,  1, z]])\n",
    "A"
   ]
  },
  {
   "cell_type": "code",
   "execution_count": 3,
   "metadata": {
    "collapsed": false
   },
   "outputs": [
    {
     "data": {
      "text/plain": [
       "⎡1  2   -1     x    ⎤\n",
       "⎢                   ⎥\n",
       "⎢0  -4  7   -3⋅x + y⎥\n",
       "⎢                   ⎥\n",
       "⎣0  -1  1      z    ⎦"
      ]
     },
     "execution_count": 3,
     "metadata": {},
     "output_type": "execute_result"
    }
   ],
   "source": [
    "A1 = rop(A, 'R1*(-3)+R2=>R2')\n",
    "A1"
   ]
  },
  {
   "cell_type": "code",
   "execution_count": 4,
   "metadata": {
    "collapsed": false
   },
   "outputs": [
    {
     "data": {
      "text/plain": [
       "⎡1  2   -1     x    ⎤\n",
       "⎢                   ⎥\n",
       "⎢0  -1  1      z    ⎥\n",
       "⎢                   ⎥\n",
       "⎣0  -4  7   -3⋅x + y⎦"
      ]
     },
     "execution_count": 4,
     "metadata": {},
     "output_type": "execute_result"
    }
   ],
   "source": [
    "A2 = rop(A1, 'R2<=>R3')\n",
    "A2"
   ]
  },
  {
   "cell_type": "code",
   "execution_count": 5,
   "metadata": {
    "collapsed": false
   },
   "outputs": [
    {
     "data": {
      "text/plain": [
       "⎡1  2   -1     x    ⎤\n",
       "⎢                   ⎥\n",
       "⎢0  1   -1     -z   ⎥\n",
       "⎢                   ⎥\n",
       "⎣0  -4  7   -3⋅x + y⎦"
      ]
     },
     "execution_count": 5,
     "metadata": {},
     "output_type": "execute_result"
    }
   ],
   "source": [
    "A3 = rop(A2, 'R2*(-1)=>R2')\n",
    "A3"
   ]
  },
  {
   "cell_type": "code",
   "execution_count": 6,
   "metadata": {
    "collapsed": false
   },
   "outputs": [
    {
     "data": {
      "text/plain": [
       "⎡1  0  1      x + 2⋅z    ⎤\n",
       "⎢                        ⎥\n",
       "⎢0  1  -1        -z      ⎥\n",
       "⎢                        ⎥\n",
       "⎣0  0  3   -3⋅x + y - 4⋅z⎦"
      ]
     },
     "execution_count": 6,
     "metadata": {},
     "output_type": "execute_result"
    }
   ],
   "source": [
    "A4 = rop(A3, 'R2*(-2)+R1=>R1', 'R2*(4)+R3=>R3')\n",
    "A4"
   ]
  },
  {
   "cell_type": "code",
   "execution_count": 7,
   "metadata": {
    "collapsed": false
   },
   "outputs": [
    {
     "data": {
      "text/plain": [
       "⎡1  0  1     x + 2⋅z   ⎤\n",
       "⎢                      ⎥\n",
       "⎢0  1  -1       -z     ⎥\n",
       "⎢                      ⎥\n",
       "⎢               y   4⋅z⎥\n",
       "⎢0  0  1   -x + ─ - ───⎥\n",
       "⎣               3    3 ⎦"
      ]
     },
     "execution_count": 7,
     "metadata": {},
     "output_type": "execute_result"
    }
   ],
   "source": [
    "A5 = rop(A4, 'R3*(1/3)=>R3')\n",
    "A5"
   ]
  },
  {
   "cell_type": "code",
   "execution_count": 8,
   "metadata": {
    "collapsed": false
   },
   "outputs": [
    {
     "data": {
      "text/plain": [
       "⎡               y   10⋅z⎤\n",
       "⎢1  0  0  2⋅x - ─ + ────⎥\n",
       "⎢               3    3  ⎥\n",
       "⎢                       ⎥\n",
       "⎢               y   7⋅z ⎥\n",
       "⎢0  1  0   -x + ─ - ─── ⎥\n",
       "⎢               3    3  ⎥\n",
       "⎢                       ⎥\n",
       "⎢               y   4⋅z ⎥\n",
       "⎢0  0  1   -x + ─ - ─── ⎥\n",
       "⎣               3    3  ⎦"
      ]
     },
     "execution_count": 8,
     "metadata": {},
     "output_type": "execute_result"
    }
   ],
   "source": [
    "A6 = rop(A5, 'R3*(-1)+R1=>R1', 'R3*(1)+R2=>R2')\n",
    "A6"
   ]
  },
  {
   "cell_type": "markdown",
   "metadata": {},
   "source": [
    "This is in RREF, so we get the solution:\n",
    "$$\n",
    "c_1=2x-\\frac{1}{3}y+\\frac{10}{3}z\n",
    "$$\n",
    "$$\n",
    "c_2=-x+\\frac{1}{3}y-\\frac{7}{3}z\n",
    "$$\n",
    "$$\n",
    "c_3=-x+\\frac{1}{3}y-\\frac{4}{3}z\n",
    "$$\n",
    "This can also be written in matrix form:\n",
    "\n",
    "$$\n",
    "\\begin{bmatrix} c_1 \\\\ c_2 \\\\ c_3 \\end{bmatrix} = \n",
    "\\begin{bmatrix} \n",
    "2  & -\\frac{1}{3} &  \\frac{10}{3}\\\\\n",
    "-1 &  \\frac{1}{3} & -\\frac{7}{3}\\\\\n",
    "-1 &  \\frac{1}{3} & -\\frac{4}{3}\n",
    "\\end{bmatrix}\n",
    "\\begin{bmatrix}x \\\\ y \\\\ z \\end{bmatrix}\n",
    "$$\n",
    "\n",
    "\n",
    "Since we can find a solution for any given $x$, $y$ and $z$, we conclude that the given set of vectors is a basis."
   ]
  },
  {
   "cell_type": "markdown",
   "metadata": {},
   "source": [
    "### Example 2\n",
    "\n",
    "Determine if the vectors below form a basis of $\\mathbb{R}^4$:\n",
    "$$\n",
    "\\mathbf{v}_1=\\begin{bmatrix} 0  \\\\ 2 \\\\ 1 \\\\    1 \\end{bmatrix}\\quad\n",
    "\\mathbf{v}_2=\\begin{bmatrix} 0  \\\\ 3 \\\\ 0 \\\\    3 \\end{bmatrix}\\quad\n",
    "\\mathbf{v}_3=\\begin{bmatrix} -2 \\\\ 1 \\\\ -2  \\\\  1 \\end{bmatrix}\\quad\n",
    "\\mathbf{v}_3=\\begin{bmatrix}  0 \\\\ 0 \\\\  1  \\\\ -1 \\end{bmatrix}\n",
    "$$\n",
    "\n",
    "#### Solution\n",
    "\n",
    "We want to find $c_1$, $c_2$, $c_3$ such that:\n",
    "\n",
    "$$\n",
    "\\begin{bmatrix} r \\\\ s \\\\ t \\\\ u \\end{bmatrix} = \n",
    "c_1\\begin{bmatrix} 0  \\\\ 2 \\\\ 1 \\\\ 1 \\end{bmatrix}+\n",
    "c_2\\begin{bmatrix} 0  \\\\ 3 \\\\ 0 \\\\ 3 \\end{bmatrix}+\n",
    "c_3\\begin{bmatrix} -2 \\\\ 1 \\\\ -2  \\\\  1 \\end{bmatrix}+\n",
    "c_4\\begin{bmatrix}  0 \\\\ 0 \\\\  1  \\\\ -1 \\end{bmatrix}\n",
    "$$\n",
    "\n",
    "Equivalently, we need to solve the system:\n",
    "\n",
    "$$\n",
    "\\begin{bmatrix} \n",
    "0 & 0 & -2 & 0 \\\\ \n",
    "2 & 3 & 1 & 0 \\\\ \n",
    "1 & 0 & -2 & 1 \\\\\n",
    "1 & 3 & 1 & -1\n",
    "\\end{bmatrix}\n",
    "\\begin{bmatrix} c_1\\\\c_2\\\\c_3 \\\\ c_4\\end{bmatrix} = \n",
    "\\begin{bmatrix} r \\\\ s \\\\ t \\\\ u\\end{bmatrix}\n",
    "$$\n",
    "\n",
    "We solve the system using Gaussian Elimination:"
   ]
  },
  {
   "cell_type": "code",
   "execution_count": 9,
   "metadata": {
    "collapsed": false
   },
   "outputs": [
    {
     "data": {
      "text/plain": [
       "⎡0  0  -2  0   r⎤\n",
       "⎢               ⎥\n",
       "⎢2  3  1   0   s⎥\n",
       "⎢               ⎥\n",
       "⎢1  0  -2  1   t⎥\n",
       "⎢               ⎥\n",
       "⎣1  3  1   -1  u⎦"
      ]
     },
     "execution_count": 9,
     "metadata": {},
     "output_type": "execute_result"
    }
   ],
   "source": [
    "r, s, t, u = symbols('r,s,t,u')\n",
    "A = matrix_to_rational([[0,  0, -2,  0, r],\n",
    "                        [2,  3,  1,  0, s],\n",
    "                        [1,  0, -2,  1, t],\n",
    "                        [1,  3,  1, -1, u]])\n",
    "A"
   ]
  },
  {
   "cell_type": "code",
   "execution_count": 10,
   "metadata": {
    "collapsed": false
   },
   "outputs": [
    {
     "data": {
      "text/plain": [
       "⎡1  0  -2  1   t⎤\n",
       "⎢               ⎥\n",
       "⎢2  3  1   0   s⎥\n",
       "⎢               ⎥\n",
       "⎢0  0  -2  0   r⎥\n",
       "⎢               ⎥\n",
       "⎣1  3  1   -1  u⎦"
      ]
     },
     "execution_count": 10,
     "metadata": {},
     "output_type": "execute_result"
    }
   ],
   "source": [
    "A1 = rop(A, 'R1<=>R3')\n",
    "A1"
   ]
  },
  {
   "cell_type": "code",
   "execution_count": 11,
   "metadata": {
    "collapsed": false
   },
   "outputs": [
    {
     "data": {
      "text/plain": [
       "⎡1  0  -2  1      t   ⎤\n",
       "⎢                     ⎥\n",
       "⎢0  3  5   -2  s - 2⋅t⎥\n",
       "⎢                     ⎥\n",
       "⎢0  0  -2  0      r   ⎥\n",
       "⎢                     ⎥\n",
       "⎣0  3  3   -2  -t + u ⎦"
      ]
     },
     "execution_count": 11,
     "metadata": {},
     "output_type": "execute_result"
    }
   ],
   "source": [
    "A2 = rop(A1, 'R1*(-2)+R2=>R2', 'R1*(-1)+R4=>R4')\n",
    "A2"
   ]
  },
  {
   "cell_type": "code",
   "execution_count": 12,
   "metadata": {
    "collapsed": false
   },
   "outputs": [
    {
     "data": {
      "text/plain": [
       "⎡1  0  -2    1       t   ⎤\n",
       "⎢                        ⎥\n",
       "⎢                 s   2⋅t⎥\n",
       "⎢0  1  5/3  -2/3  ─ - ───⎥\n",
       "⎢                 3    3 ⎥\n",
       "⎢                        ⎥\n",
       "⎢0  0  -2    0       r   ⎥\n",
       "⎢                        ⎥\n",
       "⎣0  3   3    -2   -t + u ⎦"
      ]
     },
     "execution_count": 12,
     "metadata": {},
     "output_type": "execute_result"
    }
   ],
   "source": [
    "A3 = rop(A2, 'R2*(1/3)=>R2')\n",
    "A3"
   ]
  },
  {
   "cell_type": "code",
   "execution_count": 13,
   "metadata": {
    "collapsed": false
   },
   "outputs": [
    {
     "data": {
      "text/plain": [
       "⎡1  0  -2    1        t     ⎤\n",
       "⎢                           ⎥\n",
       "⎢                  s   2⋅t  ⎥\n",
       "⎢0  1  5/3  -2/3   ─ - ───  ⎥\n",
       "⎢                  3    3   ⎥\n",
       "⎢                           ⎥\n",
       "⎢0  0  -2    0        r     ⎥\n",
       "⎢                           ⎥\n",
       "⎣0  0  -2    0    -s + t + u⎦"
      ]
     },
     "execution_count": 13,
     "metadata": {},
     "output_type": "execute_result"
    }
   ],
   "source": [
    "A4 = rop(A3, 'R2*(-3)+R4=>R4')\n",
    "A4"
   ]
  },
  {
   "cell_type": "code",
   "execution_count": 14,
   "metadata": {
    "collapsed": false
   },
   "outputs": [
    {
     "data": {
      "text/plain": [
       "⎡1  0  -2    1        t     ⎤\n",
       "⎢                           ⎥\n",
       "⎢                  s   2⋅t  ⎥\n",
       "⎢0  1  5/3  -2/3   ─ - ───  ⎥\n",
       "⎢                  3    3   ⎥\n",
       "⎢                           ⎥\n",
       "⎢                    -r     ⎥\n",
       "⎢0  0   1    0       ───    ⎥\n",
       "⎢                     2     ⎥\n",
       "⎢                           ⎥\n",
       "⎣0  0  -2    0    -s + t + u⎦"
      ]
     },
     "execution_count": 14,
     "metadata": {},
     "output_type": "execute_result"
    }
   ],
   "source": [
    "A5 = rop(A4, 'R3*(-1/2)=>R3')\n",
    "A5"
   ]
  },
  {
   "cell_type": "code",
   "execution_count": 15,
   "metadata": {
    "collapsed": false
   },
   "outputs": [
    {
     "data": {
      "text/plain": [
       "⎡1  0  0   1        -r + t    ⎤\n",
       "⎢                             ⎥\n",
       "⎢               5⋅r   s   2⋅t ⎥\n",
       "⎢0  1  0  -2/3  ─── + ─ - ─── ⎥\n",
       "⎢                6    3    3  ⎥\n",
       "⎢                             ⎥\n",
       "⎢                    -r       ⎥\n",
       "⎢0  0  1   0         ───      ⎥\n",
       "⎢                     2       ⎥\n",
       "⎢                             ⎥\n",
       "⎣0  0  0   0    -r - s + t + u⎦"
      ]
     },
     "execution_count": 15,
     "metadata": {},
     "output_type": "execute_result"
    }
   ],
   "source": [
    "A6 = rop(A5, 'R3*(2)+R1=>R1', 'R3*(-5/3)+R2=>R2', 'R3*(2)+R4=>R4')\n",
    "A6"
   ]
  },
  {
   "cell_type": "markdown",
   "metadata": {},
   "source": [
    "Thus, the system is equivalent to:\n",
    "\n",
    "$$\n",
    "c_1 + c_4 = -r + t \n",
    "$$\n",
    "\n",
    "$$\n",
    "c_2-\\frac{2}{3}c_4 = \\frac{5}{6}r + \\frac{1}{3}s - \\frac{2}{3}t\n",
    "$$\n",
    "\n",
    "$$\n",
    "c_3 = -\\frac{1}{2}r\n",
    "$$\n",
    "\n",
    "$$\n",
    "0 = -r-s+t+u\n",
    "$$\n",
    "\n",
    "The last equation is impossible if $-r-w+t+u\\ne0$, so the given set is not a basis."
   ]
  },
  {
   "cell_type": "markdown",
   "metadata": {
    "collapsed": true
   },
   "source": [
    "## Matrix Inversion\n",
    "\n",
    "### Example 1\n",
    "\n",
    "Determine if the matrix below is invertible and, if so, find its inverse.\n",
    "\n",
    "$$\n",
    "\\begin{bmatrix}\n",
    "2 &  3 &  1 & -2 \\\\\n",
    "3 & -1 &  2 &  2 \\\\\n",
    "1 &  5 & -2 & -3 \\\\\n",
    "1 &  2 &  1 &  1\n",
    "\\end{bmatrix}\n",
    "$$\n",
    "\n",
    "#### Solution:"
   ]
  },
  {
   "cell_type": "code",
   "execution_count": 16,
   "metadata": {
    "collapsed": false
   },
   "outputs": [
    {
     "data": {
      "text/plain": [
       "⎡2  3   1   -2  1  0  0  0⎤\n",
       "⎢                         ⎥\n",
       "⎢3  -1  2   2   0  1  0  0⎥\n",
       "⎢                         ⎥\n",
       "⎢1  5   -2  -3  0  0  1  0⎥\n",
       "⎢                         ⎥\n",
       "⎣1  2   1   1   0  0  0  1⎦"
      ]
     },
     "execution_count": 16,
     "metadata": {},
     "output_type": "execute_result"
    }
   ],
   "source": [
    "A = matrix_to_rational([[2,  3,  1, -2, 1, 0, 0, 0],\n",
    "                        [3, -1,  2,  2, 0, 1, 0, 0],\n",
    "                        [1,  5, -2, -3, 0, 0, 1, 0],\n",
    "                        [1,  2,  1,  1, 0, 0, 0, 1]])\n",
    "A"
   ]
  },
  {
   "cell_type": "code",
   "execution_count": 17,
   "metadata": {
    "collapsed": false
   },
   "outputs": [
    {
     "data": {
      "text/plain": [
       "⎡1  5   -2  -3  0  0  1  0⎤\n",
       "⎢                         ⎥\n",
       "⎢3  -1  2   2   0  1  0  0⎥\n",
       "⎢                         ⎥\n",
       "⎢2  3   1   -2  1  0  0  0⎥\n",
       "⎢                         ⎥\n",
       "⎣1  2   1   1   0  0  0  1⎦"
      ]
     },
     "execution_count": 17,
     "metadata": {},
     "output_type": "execute_result"
    }
   ],
   "source": [
    "A1 = rop(A, 'R1<=>R3')\n",
    "A1"
   ]
  },
  {
   "cell_type": "code",
   "execution_count": 18,
   "metadata": {
    "collapsed": false
   },
   "outputs": [
    {
     "data": {
      "text/plain": [
       "⎡1   5   -2  -3  0  0  1   0⎤\n",
       "⎢                           ⎥\n",
       "⎢0  -16  8   11  0  1  -3  0⎥\n",
       "⎢                           ⎥\n",
       "⎢0  -7   5   4   1  0  -2  0⎥\n",
       "⎢                           ⎥\n",
       "⎣0  -3   3   4   0  0  -1  1⎦"
      ]
     },
     "execution_count": 18,
     "metadata": {},
     "output_type": "execute_result"
    }
   ],
   "source": [
    "A2 = rop(A1, 'R1*(-3)+R2=>R2', 'R1*(-2)+R3=>R3', 'R1*(-1)+R4=>R4')\n",
    "A2"
   ]
  },
  {
   "cell_type": "code",
   "execution_count": 19,
   "metadata": {
    "collapsed": false
   },
   "outputs": [
    {
     "data": {
      "text/plain": [
       "⎡1  5    -2    -3   0    0     1    0⎤\n",
       "⎢                                    ⎥\n",
       "⎢             -11                    ⎥\n",
       "⎢0  1   -1/2  ────  0  -1/16  3/16  0⎥\n",
       "⎢              16                    ⎥\n",
       "⎢                                    ⎥\n",
       "⎢0  -7   5     4    1    0     -2   0⎥\n",
       "⎢                                    ⎥\n",
       "⎣0  -3   3     4    0    0     -1   1⎦"
      ]
     },
     "execution_count": 19,
     "metadata": {},
     "output_type": "execute_result"
    }
   ],
   "source": [
    "A3 = rop(A2, 'R2*(-1/16)=>R2')\n",
    "A3"
   ]
  },
  {
   "cell_type": "code",
   "execution_count": 20,
   "metadata": {
    "collapsed": false
   },
   "outputs": [
    {
     "data": {
      "text/plain": [
       "⎡1  0  1/2   7/16  0  5/16   1/16   0⎤\n",
       "⎢                                    ⎥\n",
       "⎢            -11                     ⎥\n",
       "⎢0  1  -1/2  ────  0  -1/16  3/16   0⎥\n",
       "⎢             16                     ⎥\n",
       "⎢                                    ⎥\n",
       "⎢            -13             -11     ⎥\n",
       "⎢0  0  3/2   ────  1  -7/16  ────   0⎥\n",
       "⎢             16              16     ⎥\n",
       "⎢                                    ⎥\n",
       "⎢             31                     ⎥\n",
       "⎢0  0  3/2    ──   0  -3/16  -7/16  1⎥\n",
       "⎣             16                     ⎦"
      ]
     },
     "execution_count": 20,
     "metadata": {},
     "output_type": "execute_result"
    }
   ],
   "source": [
    "A4 = rop(A3, 'R2*(-5)+R1=>R1', 'R2*(7)+R3=>R3', 'R2*(3)+R4=>R4')\n",
    "A4"
   ]
  },
  {
   "cell_type": "code",
   "execution_count": 21,
   "metadata": {
    "collapsed": false
   },
   "outputs": [
    {
     "data": {
      "text/plain": [
       "⎡1  0  1/2   7/16   0   5/16   1/16   0⎤\n",
       "⎢                                      ⎥\n",
       "⎢            -11                       ⎥\n",
       "⎢0  1  -1/2  ────   0   -1/16  3/16   0⎥\n",
       "⎢             16                       ⎥\n",
       "⎢                                      ⎥\n",
       "⎢            -13               -11     ⎥\n",
       "⎢0  0   1    ────  2/3  -7/24  ────   0⎥\n",
       "⎢             24                24     ⎥\n",
       "⎢                                      ⎥\n",
       "⎢             31                       ⎥\n",
       "⎢0  0  3/2    ──    0   -3/16  -7/16  1⎥\n",
       "⎣             16                       ⎦"
      ]
     },
     "execution_count": 21,
     "metadata": {},
     "output_type": "execute_result"
    }
   ],
   "source": [
    "A5 = rop(A4, 'R3*(2/3)=>R3')\n",
    "A5"
   ]
  },
  {
   "cell_type": "code",
   "execution_count": 22,
   "metadata": {
    "collapsed": false
   },
   "outputs": [
    {
     "data": {
      "text/plain": [
       "⎡          17          11            ⎤\n",
       "⎢1  0  0   ──   -1/3   ──    7/24   0⎥\n",
       "⎢          24          24            ⎥\n",
       "⎢                                    ⎥\n",
       "⎢         -23                        ⎥\n",
       "⎢0  1  0  ────  1/3   -5/24  -1/24  0⎥\n",
       "⎢          24                        ⎥\n",
       "⎢                                    ⎥\n",
       "⎢         -13                -11     ⎥\n",
       "⎢0  0  1  ────  2/3   -7/24  ────   0⎥\n",
       "⎢          24                 24     ⎥\n",
       "⎢                                    ⎥\n",
       "⎣0  0  0  11/4   -1    1/4    1/4   1⎦"
      ]
     },
     "execution_count": 22,
     "metadata": {},
     "output_type": "execute_result"
    }
   ],
   "source": [
    "A6 = rop(A5, 'R3*(-1/2)+R1=>R1', 'R3*(1/2)+R2=>R2', 'R3*(-3/2)+R4=>R4')\n",
    "A6"
   ]
  },
  {
   "cell_type": "code",
   "execution_count": 24,
   "metadata": {
    "collapsed": false
   },
   "outputs": [
    {
     "data": {
      "text/plain": [
       "⎡          17           11               ⎤\n",
       "⎢1  0  0   ──   -1/3    ──    7/24    0  ⎥\n",
       "⎢          24           24               ⎥\n",
       "⎢                                        ⎥\n",
       "⎢         -23                            ⎥\n",
       "⎢0  1  0  ────   1/3   -5/24  -1/24   0  ⎥\n",
       "⎢          24                            ⎥\n",
       "⎢                                        ⎥\n",
       "⎢         -13                 -11        ⎥\n",
       "⎢0  0  1  ────   2/3   -7/24  ────    0  ⎥\n",
       "⎢          24                  24        ⎥\n",
       "⎢                                        ⎥\n",
       "⎣0  0  0   1    -4/11  1/11   1/11   4/11⎦"
      ]
     },
     "execution_count": 24,
     "metadata": {},
     "output_type": "execute_result"
    }
   ],
   "source": [
    "A7 = rop(A6, 'R4*(4/11)=>R4')\n",
    "A7"
   ]
  },
  {
   "cell_type": "code",
   "execution_count": 25,
   "metadata": {
    "collapsed": false
   },
   "outputs": [
    {
     "data": {
      "text/plain": [
       "⎡                    13           -17 ⎤\n",
       "⎢1  0  0  0  -5/66   ──    5/22   ────⎥\n",
       "⎢                    33            66 ⎥\n",
       "⎢                                     ⎥\n",
       "⎢                                  23 ⎥\n",
       "⎢0  1  0  0  -1/66  -4/33  1/22    ── ⎥\n",
       "⎢                                  66 ⎥\n",
       "⎢                                     ⎥\n",
       "⎢             31                   13 ⎥\n",
       "⎢0  0  1  0   ──    -8/33  -9/22   ── ⎥\n",
       "⎢             66                   66 ⎥\n",
       "⎢                                     ⎥\n",
       "⎣0  0  0  1  -4/11  1/11   1/11   4/11⎦"
      ]
     },
     "execution_count": 25,
     "metadata": {},
     "output_type": "execute_result"
    }
   ],
   "source": [
    "A8 = rop(A7, 'R4*(-17/24)+R1=>R1', 'R4*(23/24)+R2=>R2', 'R4*(13/24)+R3=>R3')\n",
    "A8"
   ]
  },
  {
   "cell_type": "markdown",
   "metadata": {},
   "source": [
    "Since the RREF of the augmented matrix has the identity matrix on its left half, the given matrix is invertible. Its inverse can be found on the right half of the augmented matrix:\n",
    "\n",
    "$$\n",
    "\\left[\\begin{matrix} - \\frac{5}{66} & \\frac{13}{33} & \\frac{5}{22} & - \\frac{17}{66}\\\\\n",
    " - \\frac{1}{66} & - \\frac{4}{33} & \\frac{1}{22} & \\frac{23}{66}\\\\\n",
    "  \\frac{31}{66} & - \\frac{8}{33} & - \\frac{9}{22} & \\frac{13}{66}\\\\\n",
    "   - \\frac{4}{11} & \\frac{1}{11} & \\frac{1}{11} & \\frac{4}{11}\\end{matrix}\\right]\n",
    "$$"
   ]
  },
  {
   "cell_type": "markdown",
   "metadata": {},
   "source": [
    "### Example 2\n",
    "\n",
    "Determine if the matrix below is invertible and, if so, find its inverse.\n",
    "\n",
    "$$\n",
    "\\begin{bmatrix}\n",
    " 1 &  2 &  0 & -2 \\\\\n",
    "-1 &  2 & -6 & -8 \\\\\n",
    "-1 &  0 &  3 &  3 \\\\\n",
    " 0 &  2 & -3 & -5\n",
    "\\end{bmatrix}\n",
    "$$\n",
    "\n",
    "#### Solution:"
   ]
  },
  {
   "cell_type": "code",
   "execution_count": 27,
   "metadata": {
    "collapsed": false
   },
   "outputs": [
    {
     "data": {
      "text/plain": [
       "⎡1   2  0   -2  1  0  0  0⎤\n",
       "⎢                         ⎥\n",
       "⎢-1  2  -6  -8  0  1  0  0⎥\n",
       "⎢                         ⎥\n",
       "⎢-1  0  3   3   0  0  1  0⎥\n",
       "⎢                         ⎥\n",
       "⎣0   2  -3  -5  0  0  0  1⎦"
      ]
     },
     "execution_count": 27,
     "metadata": {},
     "output_type": "execute_result"
    }
   ],
   "source": [
    "A = matrix_to_rational([[ 1, 2,  0, -2, 1, 0, 0, 0],\n",
    "                        [-1, 2, -6, -8, 0, 1, 0, 0],\n",
    "                        [-1, 0,  3,  3, 0, 0, 1, 0],\n",
    "                        [ 0, 2, -3, -5, 0, 0, 0, 1]])\n",
    "A"
   ]
  },
  {
   "cell_type": "code",
   "execution_count": 28,
   "metadata": {
    "collapsed": false
   },
   "outputs": [
    {
     "data": {
      "text/plain": [
       "⎡1  2  0   -2   1  0  0  0⎤\n",
       "⎢                         ⎥\n",
       "⎢0  4  -6  -10  1  1  0  0⎥\n",
       "⎢                         ⎥\n",
       "⎢0  2  3    1   1  0  1  0⎥\n",
       "⎢                         ⎥\n",
       "⎣0  2  -3  -5   0  0  0  1⎦"
      ]
     },
     "execution_count": 28,
     "metadata": {},
     "output_type": "execute_result"
    }
   ],
   "source": [
    "A1 = rop(A, 'R1*(1)+R2=>R2', 'R1*(1)+R3=>R3')\n",
    "A1"
   ]
  },
  {
   "cell_type": "code",
   "execution_count": 29,
   "metadata": {
    "collapsed": false
   },
   "outputs": [
    {
     "data": {
      "text/plain": [
       "⎡1  2   0     -2    1    0   0  0⎤\n",
       "⎢                                ⎥\n",
       "⎢0  1  -3/2  -5/2  1/4  1/4  0  0⎥\n",
       "⎢                                ⎥\n",
       "⎢0  2   3     1     1    0   1  0⎥\n",
       "⎢                                ⎥\n",
       "⎣0  2   -3    -5    0    0   0  1⎦"
      ]
     },
     "execution_count": 29,
     "metadata": {},
     "output_type": "execute_result"
    }
   ],
   "source": [
    "A2 = rop(A1, 'R2*(1/4)=>R2')\n",
    "A2"
   ]
  },
  {
   "cell_type": "code",
   "execution_count": 30,
   "metadata": {
    "collapsed": false
   },
   "outputs": [
    {
     "data": {
      "text/plain": [
       "⎡1  0   3     3    1/2   -1/2  0  0⎤\n",
       "⎢                                  ⎥\n",
       "⎢0  1  -3/2  -5/2  1/4   1/4   0  0⎥\n",
       "⎢                                  ⎥\n",
       "⎢0  0   6     6    1/2   -1/2  1  0⎥\n",
       "⎢                                  ⎥\n",
       "⎣0  0   0     0    -1/2  -1/2  0  1⎦"
      ]
     },
     "execution_count": 30,
     "metadata": {},
     "output_type": "execute_result"
    }
   ],
   "source": [
    "A3 = rop(A2, 'R2*(-2)+R1=>R1', 'R2*(-2)+R3=>R3', 'R2*(-2)+R4=>R4')\n",
    "A3"
   ]
  },
  {
   "cell_type": "markdown",
   "metadata": {},
   "source": [
    "Since we got a row of zeros, we can stop here, and the matrix will not be invertible."
   ]
  },
  {
   "cell_type": "code",
   "execution_count": null,
   "metadata": {
    "collapsed": true
   },
   "outputs": [],
   "source": []
  }
 ],
 "metadata": {
  "anaconda-cloud": {},
  "kernelspec": {
   "display_name": "Python 3",
   "language": "python",
   "name": "python3"
  },
  "language_info": {
   "codemirror_mode": {
    "name": "ipython",
    "version": 3
   },
   "file_extension": ".py",
   "mimetype": "text/x-python",
   "name": "python",
   "nbconvert_exporter": "python",
   "pygments_lexer": "ipython3",
   "version": "3.5.1"
  }
 },
 "nbformat": 4,
 "nbformat_minor": 0
}
