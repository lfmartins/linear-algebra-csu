{
 "cells": [
  {
   "cell_type": "markdown",
   "metadata": {},
   "source": [
    "# Linear Combinations Example - Diet Planning\n",
    "\n",
    "Jodi wants to plan for her breakfast based on four kinds of foot: milk, bread, bacon and bananas. The table below gives the amount, in grams, of each kind of nutrient contained in each food:\n",
    "\n",
    "<table>\n",
    "<tr> <td>**Food**</td> <td>**Protein**</td> <td>**Carbs**</td> <td>**Fat**</td> </tr>\n",
    "<tr> <td>Milk (1 qt)</td> <td>32</td> <td>48</td> <td>40</td> </tr>\n",
    "<tr> <td>Bread (1 slice)</td> <td>2</td> <td>12</td> <td>1</td> </tr>\n",
    "<tr> <td>Bacon (1 slice)</td> <td>4</td> <td>1</td> <td>8</td> </tr>\n",
    "<tr> <td>Banana (1 medium)</td> <td>1/2 </td> <td>27 </td> <td>1</td> </tr>\n",
    "</table>\n",
    "\n",
    "Jodi wants to choose the foods in such a way that she gets 15g of protein, 100g of carbs and 10g of fat. How much of each food should he eat?\n",
    "\n",
    "## Solution using linear algebra\n",
    "\n",
    "We can represent each food as a 3-dimensional vector:\n",
    "\n",
    "$$\\left[\\begin{matrix}\\text{Protein}\\\\\\text{Carbs}\\\\\\text{Fat}\\\\\\end{matrix}\\right]$$\n",
    "\n",
    "We then have the following vectors for Milk, Bread, Bacon and Bananas, respectively:\n",
    "\n",
    "$$\n",
    "\\mathbf{u_1}=\\left[\\begin{matrix} 32  \\\\ 48 \\\\ 40 \\\\ \\end{matrix}\\right]\\quad\n",
    "\\mathbf{u_2}=\\left[\\begin{matrix}  2  \\\\ 12 \\\\  1 \\\\ \\end{matrix}\\right]\\quad\n",
    "\\mathbf{u_3}=\\left[\\begin{matrix}  4  \\\\  1 \\\\  8 \\\\ \\end{matrix}\\right]\\quad\n",
    "\\mathbf{u_4}=\\left[\\begin{matrix} 1/2 \\\\ 27 \\\\  1 \\\\ \\end{matrix}\\right]\\quad\n",
    "$$\n",
    "\n",
    "The nutrient allowances for breakfast can also be represented by a vector:\n",
    "\n",
    "$$\n",
    "\\mathbf{b}=\\left[\\begin{matrix} 15  \\\\ 100 \\\\ 10 \\\\ \\end{matrix}\\right]\n",
    "$$\n",
    "\n",
    "Let $c_1$, $c_2$, $c_3$ and $c_4$ be scalars representing the quantities of each kind of foot. The problem can be formulated as finding the values of the scalars in such a way that:\n",
    "\n",
    "$$\n",
    "c_1\\left[\\begin{matrix} 32  \\\\ 48 \\\\ 40 \\\\ \\end{matrix}\\right]+\n",
    "c_2\\left[\\begin{matrix}  2  \\\\ 12 \\\\  1 \\\\ \\end{matrix}\\right]+\n",
    "c_3\\left[\\begin{matrix}  4  \\\\  1 \\\\  8 \\\\ \\end{matrix}\\right]+\n",
    "c_4\\left[\\begin{matrix} 1/2 \\\\ 27 \\\\  1 \\\\ \\end{matrix}\\right]=\n",
    "\\left[\\begin{matrix} 15  \\\\ 100 \\\\ 10 \\\\ \\end{matrix}\\right]\n",
    "$$\n",
    "\n",
    "Using the definitions of vector operations, this is equivalent to:\n",
    "\n",
    "$$\n",
    "\\left[\n",
    "\\begin{matrix}\n",
    "32c_1+2c_2+4c_3+(1/2)c_4\\\\\n",
    "48c_1+12c_2+c_3+27c_4\\\\\n",
    "40c_1+c_2+8c_3+c_4\\\\\n",
    "\\end{matrix}\n",
    "\\right]=\n",
    "\\left[\\begin{matrix}\n",
    "15 \\\\ 100 \\\\ 10\n",
    "\\end{matrix}\\right]\n",
    "$$\n",
    "\n",
    "To solve this linear system, we write the augmented matrix and do row operations until we get a reduced row echelon form:"
   ]
  },
  {
   "cell_type": "code",
   "execution_count": 1,
   "metadata": {
    "collapsed": true
   },
   "outputs": [],
   "source": [
    "%run rop.py  # Loads the Gaussian Elimination operation helper. \n",
    "             #File rop.py must be in the same directory."
   ]
  },
  {
   "cell_type": "code",
   "execution_count": 2,
   "metadata": {
    "collapsed": false
   },
   "outputs": [
    {
     "data": {
      "image/png": "[encoded data removed]",
      "text/latex": [
       "$$\\left[\\begin{matrix}32 & 2 & 4 & \\frac{1}{2} & 15\\\\48 & 12 & 1 & 27 & 100\\\\40 & 1 & 8 & 1 & 10\\end{matrix}\\right]$$"
      ],
      "text/plain": [
       "⎡32  2   4  1/2  15 ⎤\n",
       "⎢                   ⎥\n",
       "⎢48  12  1  27   100⎥\n",
       "⎢                   ⎥\n",
       "⎣40  1   8   1   10 ⎦"
      ]
     },
     "execution_count": 2,
     "metadata": {},
     "output_type": "execute_result"
    }
   ],
   "source": [
    "A = matrix_to_rational([[32,2,4,1/2,15],[48,12,1,27,100],[40,1,8,1,10]])\n",
    "A"
   ]
  },
  {
   "cell_type": "code",
   "execution_count": 3,
   "metadata": {
    "collapsed": false
   },
   "outputs": [
    {
     "data": {
      "image/png": "[encoded data removed]",
      "text/latex": [
       "$$\\left[\\begin{matrix}1 & \\frac{1}{16} & \\frac{1}{8} & \\frac{1}{64} & \\frac{15}{32}\\\\48 & 12 & 1 & 27 & 100\\\\40 & 1 & 8 & 1 & 10\\end{matrix}\\right]$$"
      ],
      "text/plain": [
       "⎡                     15 ⎤\n",
       "⎢1   1/16  1/8  1/64  ── ⎥\n",
       "⎢                     32 ⎥\n",
       "⎢                        ⎥\n",
       "⎢48   12    1    27   100⎥\n",
       "⎢                        ⎥\n",
       "⎣40   1     8    1    10 ⎦"
      ]
     },
     "execution_count": 3,
     "metadata": {},
     "output_type": "execute_result"
    }
   ],
   "source": [
    "A1 = rop(A, 'R1*(1/32)=>R1')\n",
    "A1"
   ]
  },
  {
   "cell_type": "code",
   "execution_count": 4,
   "metadata": {
    "collapsed": false
   },
   "outputs": [
    {
     "data": {
      "image/png": "[encoded data removed]",
      "text/latex": [
       "$$\\left[\\begin{matrix}1 & \\frac{1}{16} & \\frac{1}{8} & \\frac{1}{64} & \\frac{15}{32}\\\\0 & 9 & -5 & \\frac{105}{4} & \\frac{155}{2}\\\\0 & - \\frac{3}{2} & 3 & \\frac{3}{8} & - \\frac{35}{4}\\end{matrix}\\right]$$"
      ],
      "text/plain": [
       "⎡                      15  ⎤\n",
       "⎢1  1/16  1/8  1/64    ──  ⎥\n",
       "⎢                      32  ⎥\n",
       "⎢                          ⎥\n",
       "⎢0   9    -5   105/4  155/2⎥\n",
       "⎢                          ⎥\n",
       "⎣0  -3/2   3    3/8   -35/4⎦"
      ]
     },
     "execution_count": 4,
     "metadata": {},
     "output_type": "execute_result"
    }
   ],
   "source": [
    "A2 = rop(A1, 'R1*(-48)+R2=>R2', 'R1*(-40)+R3=>R3')\n",
    "A2"
   ]
  },
  {
   "cell_type": "code",
   "execution_count": 5,
   "metadata": {
    "collapsed": false
   },
   "outputs": [
    {
     "data": {
      "image/png": "[encoded data removed]",
      "text/latex": [
       "$$\\left[\\begin{matrix}1 & \\frac{1}{16} & \\frac{1}{8} & \\frac{1}{64} & \\frac{15}{32}\\\\0 & 1 & - \\frac{5}{9} & \\frac{35}{12} & \\frac{155}{18}\\\\0 & - \\frac{3}{2} & 3 & \\frac{3}{8} & - \\frac{35}{4}\\end{matrix}\\right]$$"
      ],
      "text/plain": [
       "⎡                      15  ⎤\n",
       "⎢1  1/16  1/8   1/64   ──  ⎥\n",
       "⎢                      32  ⎥\n",
       "⎢                          ⎥\n",
       "⎢                35    155 ⎥\n",
       "⎢0   1    -5/9   ──    ─── ⎥\n",
       "⎢                12     18 ⎥\n",
       "⎢                          ⎥\n",
       "⎣0  -3/2   3    3/8   -35/4⎦"
      ]
     },
     "execution_count": 5,
     "metadata": {},
     "output_type": "execute_result"
    }
   ],
   "source": [
    "A3 = rop(A2, 'R2*(1/9)=>R2')\n",
    "A3"
   ]
  },
  {
   "cell_type": "code",
   "execution_count": 6,
   "metadata": {
    "collapsed": false
   },
   "outputs": [
    {
     "data": {
      "image/png": "[encoded data removed]",
      "text/latex": [
       "$$\\left[\\begin{matrix}1 & 0 & \\frac{23}{144} & - \\frac{1}{6} & - \\frac{5}{72}\\\\0 & 1 & - \\frac{5}{9} & \\frac{35}{12} & \\frac{155}{18}\\\\0 & 0 & \\frac{13}{6} & \\frac{19}{4} & \\frac{25}{6}\\end{matrix}\\right]$$"
      ],
      "text/plain": [
       "⎡       23              ⎤\n",
       "⎢1  0  ───   -1/6  -5/72⎥\n",
       "⎢      144              ⎥\n",
       "⎢                       ⎥\n",
       "⎢             35    155 ⎥\n",
       "⎢0  1  -5/9   ──    ─── ⎥\n",
       "⎢             12     18 ⎥\n",
       "⎢                       ⎥\n",
       "⎣0  0  13/6  19/4  25/6 ⎦"
      ]
     },
     "execution_count": 6,
     "metadata": {},
     "output_type": "execute_result"
    }
   ],
   "source": [
    "A4 = rop(A3, 'R2*(-1/16)+R1=>R1', 'R2*(3/2)+R3=>R3')\n",
    "A4"
   ]
  },
  {
   "cell_type": "code",
   "execution_count": 7,
   "metadata": {
    "collapsed": false
   },
   "outputs": [
    {
     "data": {
      "image/png": "[encoded data removed]",
      "text/latex": [
       "$$\\left[\\begin{matrix}1 & 0 & \\frac{23}{144} & - \\frac{1}{6} & - \\frac{5}{72}\\\\0 & 1 & - \\frac{5}{9} & \\frac{35}{12} & \\frac{155}{18}\\\\0 & 0 & 1 & \\frac{57}{26} & \\frac{25}{13}\\end{matrix}\\right]$$"
      ],
      "text/plain": [
       "⎡       23              ⎤\n",
       "⎢1  0  ───   -1/6  -5/72⎥\n",
       "⎢      144              ⎥\n",
       "⎢                       ⎥\n",
       "⎢             35    155 ⎥\n",
       "⎢0  1  -5/9   ──    ─── ⎥\n",
       "⎢             12     18 ⎥\n",
       "⎢                       ⎥\n",
       "⎢             57    25  ⎥\n",
       "⎢0  0   1     ──    ──  ⎥\n",
       "⎣             26    13  ⎦"
      ]
     },
     "execution_count": 7,
     "metadata": {},
     "output_type": "execute_result"
    }
   ],
   "source": [
    "A5 = rop(A4, 'R3*(6/13)=>R3')\n",
    "A5"
   ]
  },
  {
   "cell_type": "code",
   "execution_count": 8,
   "metadata": {
    "collapsed": false
   },
   "outputs": [
    {
     "data": {
      "image/png": "[encoded data removed]",
      "text/latex": [
       "$$\\left[\\begin{matrix}1 & 0 & 0 & - \\frac{215}{416} & - \\frac{235}{624}\\\\0 & 1 & 0 & \\frac{215}{52} & \\frac{755}{78}\\\\0 & 0 & 1 & \\frac{57}{26} & \\frac{25}{13}\\end{matrix}\\right]$$"
      ],
      "text/plain": [
       "⎡         -215   -235 ⎤\n",
       "⎢1  0  0  ─────  ─────⎥\n",
       "⎢          416    624 ⎥\n",
       "⎢                     ⎥\n",
       "⎢          215    755 ⎥\n",
       "⎢0  1  0   ───    ─── ⎥\n",
       "⎢           52     78 ⎥\n",
       "⎢                     ⎥\n",
       "⎢          57     25  ⎥\n",
       "⎢0  0  1   ──     ──  ⎥\n",
       "⎣          26     13  ⎦"
      ]
     },
     "execution_count": 8,
     "metadata": {},
     "output_type": "execute_result"
    }
   ],
   "source": [
    "A6 = rop(A5, 'R3*(-23/144)+R1=>R1', 'R3*(5/9)+R2=>R2')\n",
    "A6"
   ]
  },
  {
   "cell_type": "markdown",
   "metadata": {},
   "source": [
    "From this, we get the following solution in parametric form:\n",
    "\n",
    "$$\n",
    "x_1 = \\frac{-235}{624} + s\\frac{235}{624}\n",
    "$$\n",
    "\n",
    "$$\n",
    "x_2 = \\frac{755}{78} - s\\frac{215}{52}\n",
    "$$\n",
    "\n",
    "$$\n",
    "x_3 = \\frac{25}{13} - s\\frac{57}{26}\n",
    "$$\n",
    "\n",
    "$$ \n",
    "x_4 = s\n",
    "$$\n",
    "\n",
    "where $s$ is an arbitrary scalar. We can use the following code to write this solution in vector form:"
   ]
  },
  {
   "cell_type": "code",
   "execution_count": 9,
   "metadata": {
    "collapsed": false
   },
   "outputs": [
    {
     "data": {
      "image/png": "[encoded data removed]",
      "text/latex": [
       "$$\\left[\\begin{matrix}\\frac{215 s}{416} - \\frac{235}{624}\\\\- \\frac{215 s}{52} + \\frac{755}{78}\\\\- \\frac{57 s}{26} + \\frac{25}{13}\\end{matrix}\\right]$$"
      ],
      "text/plain": [
       "⎡ 215⋅s   235 ⎤\n",
       "⎢ ───── - ─── ⎥\n",
       "⎢  416    624 ⎥\n",
       "⎢             ⎥\n",
       "⎢  215⋅s   755⎥\n",
       "⎢- ───── + ───⎥\n",
       "⎢    52     78⎥\n",
       "⎢             ⎥\n",
       "⎢   57⋅s   25 ⎥\n",
       "⎢ - ──── + ── ⎥\n",
       "⎣    26    13 ⎦"
      ]
     },
     "execution_count": 9,
     "metadata": {},
     "output_type": "execute_result"
    }
   ],
   "source": [
    "s = Symbol('s')\n",
    "solution = A6[:,4] - s*A6[:,3]\n",
    "solution"
   ]
  },
  {
   "cell_type": "markdown",
   "metadata": {},
   "source": [
    "The lines of code in the previous cell mean the following:\n",
    "\n",
    "- `s = Symbol('s')`: Create a new symbol to represent the variable `s`\n",
    "- `solution = A6[:,4] - s*A6[:,3]`: Assign to `solution` the result of taking column 4 of `A6` and subtracting `s` times column 3 of `A6`. Notice the expression `A6[:,j]` used to get column `j` of the matrix. Also, recall that column indexes start at 0.\n",
    "- `solution`: display the `solution` vector.\n",
    "\n",
    "In this solution $s$ is the value of $x_4$ (amoount of bananas). Once $s$ is fixed, the amounts of the other foods are uniquely determined. If, for example, Jodi decides to have 1 banana for breakfast, this is how we can find the amounts of the other foods:"
   ]
  },
  {
   "cell_type": "code",
   "execution_count": 10,
   "metadata": {
    "collapsed": false
   },
   "outputs": [
    {
     "data": {
      "image/png": "[encoded data removed]",
      "text/latex": [
       "$$\\left[\\begin{matrix}\\frac{175}{1248}\\\\\\frac{865}{156}\\\\- \\frac{7}{26}\\end{matrix}\\right]$$"
      ],
      "text/plain": [
       "⎡175  ⎤\n",
       "⎢──── ⎥\n",
       "⎢1248 ⎥\n",
       "⎢     ⎥\n",
       "⎢ 865 ⎥\n",
       "⎢ ─── ⎥\n",
       "⎢ 156 ⎥\n",
       "⎢     ⎥\n",
       "⎣-7/26⎦"
      ]
     },
     "execution_count": 10,
     "metadata": {},
     "output_type": "execute_result"
    }
   ],
   "source": [
    "solution1 = solution.subs(s,1)\n",
    "solution1"
   ]
  },
  {
   "cell_type": "markdown",
   "metadata": {},
   "source": [
    "Oh well, this does not work, since Jodi would have to consume a negative amount of bacon! We see that the problem is that $s$ is too large. Let's try another possibility:"
   ]
  },
  {
   "cell_type": "code",
   "execution_count": 11,
   "metadata": {
    "collapsed": false
   },
   "outputs": [
    {
     "data": {
      "image/png": "[encoded data removed]",
      "text/latex": [
       "$$\\left[\\begin{matrix}\\frac{23}{624}\\\\\\frac{497}{78}\\\\\\frac{11}{65}\\end{matrix}\\right]$$"
      ],
      "text/plain": [
       "⎡ 23⎤\n",
       "⎢───⎥\n",
       "⎢624⎥\n",
       "⎢   ⎥\n",
       "⎢497⎥\n",
       "⎢───⎥\n",
       "⎢ 78⎥\n",
       "⎢   ⎥\n",
       "⎢11 ⎥\n",
       "⎢── ⎥\n",
       "⎣65 ⎦"
      ]
     },
     "execution_count": 11,
     "metadata": {},
     "output_type": "execute_result"
    }
   ],
   "source": [
    "solution2 = solution.subs(s,Rational(4,5))  # Rational(4,5) represents the fraction 4/5 exactly, not an approximation\n",
    "solution2"
   ]
  },
  {
   "cell_type": "markdown",
   "metadata": {},
   "source": [
    "This works. We would like to have decimal values to make it easier to prepare the meal, which we can get in the following way:"
   ]
  },
  {
   "cell_type": "code",
   "execution_count": 12,
   "metadata": {
    "collapsed": false
   },
   "outputs": [
    {
     "data": {
      "image/png": "[encoded data removed]",
      "text/latex": [
       "$$\\left[\\begin{matrix}0.0368589743589744\\\\6.37179487179487\\\\0.169230769230769\\end{matrix}\\right]$$"
      ],
      "text/plain": [
       "⎡0.0368589743589744⎤\n",
       "⎢                  ⎥\n",
       "⎢ 6.37179487179487 ⎥\n",
       "⎢                  ⎥\n",
       "⎣0.169230769230769 ⎦"
      ]
     },
     "execution_count": 12,
     "metadata": {},
     "output_type": "execute_result"
    }
   ],
   "source": [
    "solution2.evalf()"
   ]
  },
  {
   "cell_type": "markdown",
   "metadata": {},
   "source": [
    "This means that Jodi, according to this plan, would consume 0.037 quarts of milk, 6.37 slices of bread, 0.16 slices of bacon and 0.8 of a banana.\n",
    "\n",
    "A more sophisticated model for the _diet problem_ was proposed by economist George Stigler in 1939. Stigler, however, could not solve the problem exactly. A few year later, while working in problems related to the war effort, George Dantzig invented a linear-algebra method called _the simplex method_ that could solve Stigler's diet problem. The approach, however, had limited applicability, because it would often suggest diets that were unrealistic. In one of the solutions found by Dantzig, for example, it was required to consume 500 galons of vinegar.\n",
    "\n",
    "See https://en.wikipedia.org/wiki/Stigler_diet for details"
   ]
  },
  {
   "cell_type": "code",
   "execution_count": null,
   "metadata": {
    "collapsed": true
   },
   "outputs": [],
   "source": []
  }
 ],
 "metadata": {
  "kernelspec": {
   "display_name": "Python 3",
   "language": "python",
   "name": "python3"
  },
  "language_info": {
   "codemirror_mode": {
    "name": "ipython",
    "version": 3
   },
   "file_extension": ".py",
   "mimetype": "text/x-python",
   "name": "python",
   "nbconvert_exporter": "python",
   "pygments_lexer": "ipython3",
   "version": "3.5.1"
  }
 },
 "nbformat": 4,
 "nbformat_minor": 0
}
