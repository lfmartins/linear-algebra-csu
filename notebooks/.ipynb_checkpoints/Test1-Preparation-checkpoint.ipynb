{
 "cells": [
  {
   "cell_type": "code",
   "execution_count": 5,
   "metadata": {
    "collapsed": true
   },
   "outputs": [],
   "source": [
    "import json\n",
    "import random\n",
    "from latools import *\n",
    "from sympy import *\n",
    "init_printing(use_latex=True)\n",
    "import jinja2\n",
    "import os\n",
    "import jinja2\n",
    "import os"
   ]
  },
  {
   "cell_type": "code",
   "execution_count": 7,
   "metadata": {
    "collapsed": false
   },
   "outputs": [
    {
     "name": "stdout",
     "output_type": "stream",
     "text": [
      "\\documentclass{article}\n",
      "\\begin{document}\n",
      "\\section{Example}\n",
      "An example document using \\LaTeX, Python, and Jinja.\n",
      "\n",
      "% This is a regular LaTeX comment\n",
      "\\section{Long Form}\n",
      "\\begin{itemize}\n",
      "  \\item Counting: 0\n",
      "  \\item Counting: 1\n",
      "  \\item Counting: 2\n",
      "\\end{itemize}\n",
      "\n",
      "\\section{Short Form}\n",
      "\n",
      "\\begin{itemize}\n",
      "  \\item Counting: 0\n",
      "  \\item Counting: 1\n",
      "  \\item Counting: 2\n",
      "\\end{itemize}\n",
      "\n",
      "\\end{document}\n"
     ]
    }
   ],
   "source": [
    "from jinja2 import Template\n",
    "latex_jinja_env = jinja2.Environment(\n",
    "    block_start_string = '\\BLOCK{',\n",
    "    block_end_string = '}',\n",
    "    variable_start_string = '\\VAR{',\n",
    "    variable_end_string = '}',\n",
    "    comment_start_string = '\\#{',\n",
    "    comment_end_string = '}',\n",
    "    line_statement_prefix = '%%',\n",
    "    line_comment_prefix = '%#',\n",
    "    trim_blocks = True,\n",
    "    autoescape = False,\n",
    "    loader = jinja2.FileSystemLoader(os.path.abspath('.'))\n",
    ")\n",
    "template = latex_jinja_env.get_template('jinja-test.tex')\n",
    "print(template.render(section1='Long Form', section2='Short Form'))"
   ]
  },
  {
   "cell_type": "code",
   "execution_count": null,
   "metadata": {
    "collapsed": true
   },
   "outputs": [],
   "source": []
  }
 ],
 "metadata": {
  "kernelspec": {
   "display_name": "Python 3",
   "language": "python",
   "name": "python3"
  },
  "language_info": {
   "codemirror_mode": {
    "name": "ipython",
    "version": 3
   },
   "file_extension": ".py",
   "mimetype": "text/x-python",
   "name": "python",
   "nbconvert_exporter": "python",
   "pygments_lexer": "ipython3",
   "version": "3.5.1"
  }
 },
 "nbformat": 4,
 "nbformat_minor": 0
}
