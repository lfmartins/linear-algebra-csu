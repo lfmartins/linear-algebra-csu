{
 "cells": [
  {
   "cell_type": "code",
   "execution_count": 12,
   "metadata": {
    "collapsed": true
   },
   "outputs": [],
   "source": [
    "from latools import *\n",
    "from sympy import *\n",
    "init_printing(use_latex=True)"
   ]
  },
  {
   "cell_type": "markdown",
   "metadata": {},
   "source": [
    "# Augmented Matrix"
   ]
  },
  {
   "cell_type": "code",
   "execution_count": 13,
   "metadata": {
    "collapsed": false
   },
   "outputs": [
    {
     "data": {
      "image/png": "[encoded data removed]",
      "text/latex": [
       "$$\\left[\\begin{matrix}-2 & -3 & -9 & 2 & 0 & -16 & 0\\\\-1 & 2 & 6 & -2 & 1 & 15 & 6\\\\-1 & -3 & -9 & -3 & 1 & -1 & 21\\\\2 & 0 & 0 & -1 & 0 & 0 & 1\\end{matrix}\\right]$$"
      ],
      "text/plain": [
       "⎡-2  -3  -9  2   0  -16  0 ⎤\n",
       "⎢                          ⎥\n",
       "⎢-1  2   6   -2  1  15   6 ⎥\n",
       "⎢                          ⎥\n",
       "⎢-1  -3  -9  -3  1  -1   21⎥\n",
       "⎢                          ⎥\n",
       "⎣2   0   0   -1  0   0   1 ⎦"
      ]
     },
     "execution_count": 13,
     "metadata": {},
     "output_type": "execute_result"
    }
   ],
   "source": [
    "A = matrix_to_rational([[-2, -3, -9,  2, 0, -16,  0],\n",
    "                        [-1,  2,  6, -2, 1,  15,  6],\n",
    "                        [-1, -3, -9, -3, 1,  -1, 21],\n",
    "                        [2,   0,  0, -1, 0,   0,  1]])\n",
    "A"
   ]
  },
  {
   "cell_type": "markdown",
   "metadata": {},
   "source": [
    "# Row Operations"
   ]
  },
  {
   "cell_type": "code",
   "execution_count": 14,
   "metadata": {
    "collapsed": false
   },
   "outputs": [
    {
     "data": {
      "image/png": "[encoded data removed]",
      "text/latex": [
       "$$\\left[\\begin{matrix}1 & \\frac{3}{2} & \\frac{9}{2} & -1 & 0 & 8 & 0\\\\-1 & 2 & 6 & -2 & 1 & 15 & 6\\\\-1 & -3 & -9 & -3 & 1 & -1 & 21\\\\2 & 0 & 0 & -1 & 0 & 0 & 1\\end{matrix}\\right]$$"
      ],
      "text/plain": [
       "⎡1   3/2  9/2  -1  0  8   0 ⎤\n",
       "⎢                           ⎥\n",
       "⎢-1   2    6   -2  1  15  6 ⎥\n",
       "⎢                           ⎥\n",
       "⎢-1  -3   -9   -3  1  -1  21⎥\n",
       "⎢                           ⎥\n",
       "⎣2    0    0   -1  0  0   1 ⎦"
      ]
     },
     "execution_count": 14,
     "metadata": {},
     "output_type": "execute_result"
    }
   ],
   "source": [
    "A1 = rop(A, 'R1*(-1/2)=>R1')\n",
    "A1"
   ]
  },
  {
   "cell_type": "code",
   "execution_count": 15,
   "metadata": {
    "collapsed": false
   },
   "outputs": [
    {
     "data": {
      "image/png": "[encoded data removed]",
      "text/latex": [
       "$$\\left[\\begin{matrix}1 & \\frac{3}{2} & \\frac{9}{2} & -1 & 0 & 8 & 0\\\\0 & \\frac{7}{2} & \\frac{21}{2} & -3 & 1 & 23 & 6\\\\0 & - \\frac{3}{2} & - \\frac{9}{2} & -4 & 1 & 7 & 21\\\\0 & -3 & -9 & 1 & 0 & -16 & 1\\end{matrix}\\right]$$"
      ],
      "text/plain": [
       "⎡1  3/2   9/2   -1  0   8   0 ⎤\n",
       "⎢                             ⎥\n",
       "⎢0  7/2   21/2  -3  1  23   6 ⎥\n",
       "⎢                             ⎥\n",
       "⎢0  -3/2  -9/2  -4  1   7   21⎥\n",
       "⎢                             ⎥\n",
       "⎣0   -3    -9   1   0  -16  1 ⎦"
      ]
     },
     "execution_count": 15,
     "metadata": {},
     "output_type": "execute_result"
    }
   ],
   "source": [
    "A2 = rop(A1, 'R1*(1)+R2=>R2', 'R1*(1)+R3=>R3', 'R1*(-2)+R4=>R4')\n",
    "A2"
   ]
  },
  {
   "cell_type": "code",
   "execution_count": 16,
   "metadata": {
    "collapsed": false
   },
   "outputs": [
    {
     "data": {
      "image/png": "[encoded data removed]",
      "text/latex": [
       "$$\\left[\\begin{matrix}1 & \\frac{3}{2} & \\frac{9}{2} & -1 & 0 & 8 & 0\\\\0 & 1 & 3 & - \\frac{6}{7} & \\frac{2}{7} & \\frac{46}{7} & \\frac{12}{7}\\\\0 & - \\frac{3}{2} & - \\frac{9}{2} & -4 & 1 & 7 & 21\\\\0 & -3 & -9 & 1 & 0 & -16 & 1\\end{matrix}\\right]$$"
      ],
      "text/plain": [
       "⎡1  3/2   9/2    -1    0    8     0  ⎤\n",
       "⎢                                    ⎥\n",
       "⎢0   1     3    -6/7  2/7  46/7  12/7⎥\n",
       "⎢                                    ⎥\n",
       "⎢0  -3/2  -9/2   -4    1    7     21 ⎥\n",
       "⎢                                    ⎥\n",
       "⎣0   -3    -9    1     0   -16    1  ⎦"
      ]
     },
     "execution_count": 16,
     "metadata": {},
     "output_type": "execute_result"
    }
   ],
   "source": [
    "A3 = rop(A2, 'R2*(2/7)=>R2')\n",
    "A3"
   ]
  },
  {
   "cell_type": "code",
   "execution_count": 17,
   "metadata": {
    "collapsed": false
   },
   "outputs": [
    {
     "data": {
      "image/png": "[encoded data removed]",
      "text/latex": [
       "$$\\left[\\begin{matrix}1 & 0 & 0 & \\frac{2}{7} & - \\frac{3}{7} & - \\frac{13}{7} & - \\frac{18}{7}\\\\0 & 1 & 3 & - \\frac{6}{7} & \\frac{2}{7} & \\frac{46}{7} & \\frac{12}{7}\\\\0 & 0 & 0 & - \\frac{37}{7} & \\frac{10}{7} & \\frac{118}{7} & \\frac{165}{7}\\\\0 & 0 & 0 & - \\frac{11}{7} & \\frac{6}{7} & \\frac{26}{7} & \\frac{43}{7}\\end{matrix}\\right]$$"
      ],
      "text/plain": [
       "⎡1  0  0   2/7   -3/7  -13/7  -18/7⎤\n",
       "⎢                                  ⎥\n",
       "⎢0  1  3  -6/7   2/7   46/7   12/7 ⎥\n",
       "⎢                                  ⎥\n",
       "⎢0  0  0  -37/7  10/7  118/7  165/7⎥\n",
       "⎢                                  ⎥\n",
       "⎣0  0  0  -11/7  6/7   26/7   43/7 ⎦"
      ]
     },
     "execution_count": 17,
     "metadata": {},
     "output_type": "execute_result"
    }
   ],
   "source": [
    "A4 = rop(A3, 'R2*(-3/2)+R1=>R1', 'R2*(3/2)+R3=>R3', 'R2*(3)+R4=>R4')\n",
    "A4"
   ]
  },
  {
   "cell_type": "code",
   "execution_count": 18,
   "metadata": {
    "collapsed": false
   },
   "outputs": [
    {
     "data": {
      "image/png": "[encoded data removed]",
      "text/latex": [
       "$$\\left[\\begin{matrix}1 & 0 & 0 & \\frac{2}{7} & - \\frac{3}{7} & - \\frac{13}{7} & - \\frac{18}{7}\\\\0 & 1 & 3 & - \\frac{6}{7} & \\frac{2}{7} & \\frac{46}{7} & \\frac{12}{7}\\\\0 & 0 & 0 & 1 & - \\frac{10}{37} & - \\frac{118}{37} & - \\frac{165}{37}\\\\0 & 0 & 0 & - \\frac{11}{7} & \\frac{6}{7} & \\frac{26}{7} & \\frac{43}{7}\\end{matrix}\\right]$$"
      ],
      "text/plain": [
       "⎡1  0  0   2/7   -3/7  -13/7  -18/7⎤\n",
       "⎢                                  ⎥\n",
       "⎢0  1  3  -6/7   2/7   46/7   12/7 ⎥\n",
       "⎢                                  ⎥\n",
       "⎢                -10   -118   -165 ⎥\n",
       "⎢0  0  0    1    ────  ─────  ─────⎥\n",
       "⎢                 37     37     37 ⎥\n",
       "⎢                                  ⎥\n",
       "⎣0  0  0  -11/7  6/7   26/7   43/7 ⎦"
      ]
     },
     "execution_count": 18,
     "metadata": {},
     "output_type": "execute_result"
    }
   ],
   "source": [
    "A5 = rop(A4, 'R3*(-7/37)=>R3')\n",
    "A5"
   ]
  },
  {
   "cell_type": "code",
   "execution_count": 19,
   "metadata": {
    "collapsed": false
   },
   "outputs": [
    {
     "data": {
      "image/png": "[encoded data removed]",
      "text/latex": [
       "$$\\left[\\begin{matrix}1 & 0 & 0 & 0 & - \\frac{13}{37} & - \\frac{35}{37} & - \\frac{48}{37}\\\\0 & 1 & 3 & 0 & \\frac{2}{37} & \\frac{142}{37} & - \\frac{78}{37}\\\\0 & 0 & 0 & 1 & - \\frac{10}{37} & - \\frac{118}{37} & - \\frac{165}{37}\\\\0 & 0 & 0 & 0 & \\frac{16}{37} & - \\frac{48}{37} & - \\frac{32}{37}\\end{matrix}\\right]$$"
      ],
      "text/plain": [
       "⎡            -13   -35    -48  ⎤\n",
       "⎢1  0  0  0  ────  ────   ──── ⎥\n",
       "⎢             37    37     37  ⎥\n",
       "⎢                              ⎥\n",
       "⎢                   142   -78  ⎥\n",
       "⎢0  1  3  0  2/37   ───   ──── ⎥\n",
       "⎢                    37    37  ⎥\n",
       "⎢                              ⎥\n",
       "⎢            -10   -118   -165 ⎥\n",
       "⎢0  0  0  1  ────  ─────  ─────⎥\n",
       "⎢             37     37     37 ⎥\n",
       "⎢                              ⎥\n",
       "⎢             16   -48    -32  ⎥\n",
       "⎢0  0  0  0   ──   ────   ──── ⎥\n",
       "⎣             37    37     37  ⎦"
      ]
     },
     "execution_count": 19,
     "metadata": {},
     "output_type": "execute_result"
    }
   ],
   "source": [
    "A6 = rop(A5, 'R3*(-2/7)+R1=>R1', 'R3*(6/7)+R2=>R2', 'R3*(11/7)+R4=>R4')\n",
    "A6"
   ]
  },
  {
   "cell_type": "code",
   "execution_count": 20,
   "metadata": {
    "collapsed": false
   },
   "outputs": [
    {
     "data": {
      "image/png": "[encoded data removed]",
      "text/latex": [
       "$$\\left[\\begin{matrix}1 & 0 & 0 & 0 & - \\frac{13}{37} & - \\frac{35}{37} & - \\frac{48}{37}\\\\0 & 1 & 3 & 0 & \\frac{2}{37} & \\frac{142}{37} & - \\frac{78}{37}\\\\0 & 0 & 0 & 1 & - \\frac{10}{37} & - \\frac{118}{37} & - \\frac{165}{37}\\\\0 & 0 & 0 & 0 & 1 & -3 & -2\\end{matrix}\\right]$$"
      ],
      "text/plain": [
       "⎡            -13   -35    -48  ⎤\n",
       "⎢1  0  0  0  ────  ────   ──── ⎥\n",
       "⎢             37    37     37  ⎥\n",
       "⎢                              ⎥\n",
       "⎢                   142   -78  ⎥\n",
       "⎢0  1  3  0  2/37   ───   ──── ⎥\n",
       "⎢                    37    37  ⎥\n",
       "⎢                              ⎥\n",
       "⎢            -10   -118   -165 ⎥\n",
       "⎢0  0  0  1  ────  ─────  ─────⎥\n",
       "⎢             37     37     37 ⎥\n",
       "⎢                              ⎥\n",
       "⎣0  0  0  0   1     -3     -2  ⎦"
      ]
     },
     "execution_count": 20,
     "metadata": {},
     "output_type": "execute_result"
    }
   ],
   "source": [
    "A7 = rop(A6, 'R4*(37/16)=>R4')\n",
    "A7"
   ]
  },
  {
   "cell_type": "code",
   "execution_count": 21,
   "metadata": {
    "collapsed": false
   },
   "outputs": [
    {
     "data": {
      "image/png": "[encoded data removed]",
      "text/latex": [
       "$$\\left[\\begin{matrix}1 & 0 & 0 & 0 & 0 & -2 & -2\\\\0 & 1 & 3 & 0 & 0 & 4 & -2\\\\0 & 0 & 0 & 1 & 0 & -4 & -5\\\\0 & 0 & 0 & 0 & 1 & -3 & -2\\end{matrix}\\right]$$"
      ],
      "text/plain": [
       "⎡1  0  0  0  0  -2  -2⎤\n",
       "⎢                     ⎥\n",
       "⎢0  1  3  0  0  4   -2⎥\n",
       "⎢                     ⎥\n",
       "⎢0  0  0  1  0  -4  -5⎥\n",
       "⎢                     ⎥\n",
       "⎣0  0  0  0  1  -3  -2⎦"
      ]
     },
     "execution_count": 21,
     "metadata": {},
     "output_type": "execute_result"
    }
   ],
   "source": [
    "A8 = rop(A7, 'R4*(13/37)+R1=>R1', 'R4*(-2/37)+R2=>R2', 'R4*(10/37)+R3=>R3')\n",
    "A8"
   ]
  }
 ],
 "metadata": {
  "anaconda-cloud": {},
  "kernelspec": {
   "display_name": "Python [default]",
   "language": "python",
   "name": "python3"
  },
  "language_info": {
   "codemirror_mode": {
    "name": "ipython",
    "version": 3
   },
   "file_extension": ".py",
   "mimetype": "text/x-python",
   "name": "python",
   "nbconvert_exporter": "python",
   "pygments_lexer": "ipython3",
   "version": "3.5.2"
  }
 },
 "nbformat": 4,
 "nbformat_minor": 0
}
