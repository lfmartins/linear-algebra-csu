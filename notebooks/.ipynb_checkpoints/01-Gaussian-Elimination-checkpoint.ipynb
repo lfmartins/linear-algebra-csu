{
 "cells": [
  {
   "cell_type": "markdown",
   "metadata": {},
   "source": [
    "# Gaussian Elimination\n",
    "\n",
    "## Loading ``latools``\n",
    "\n",
    "This notebook demonstrates how to use Python, together with the course tools, to solve linear systems by Gaussian elimination. Before we start, we need to load the tools that we will use. \n",
    "\n",
    "The first thing to do is to make sure the file ``latools.py`` is in the same folder as this notebook. The file can be downloaded from the course site.\n",
    "\n",
    "Run the cell below by clicking on it and pressing ``Shift-Enter`` (that is, hold down the ``Shift`` and ``Enter`` keys on the keyboard. "
   ]
  },
  {
   "cell_type": "code",
   "execution_count": 8,
   "metadata": {
    "collapsed": false
   },
   "outputs": [],
   "source": [
    "from latools import *\n",
    "from sympy import init_printing\n",
    "init_printing(use_latex=True)"
   ]
  },
  {
   "cell_type": "markdown",
   "metadata": {},
   "source": [
    "_Note_: If you get errors running the code above, you probably don't have the file ``latools.py`` in the same directory as the notebook.\n",
    "\n",
    "Running the cell will not produce any output, it just loads the functions from the module ``latools``. The code in the cell above does the following:\n",
    "\n",
    "- **Line 1**: Load all functions from module ``latools`` into the current notebook.\n",
    "- **Line 2**: Load the function ``init_printing`` from the module ``sympy``. Module ``latools`` uses ``sympy`` in the background.\n",
    "- **Line 3**: Configure printing. The option ``use_latex=False`` tells ``sympy`` to use a simple text format when printing matrices. You may try to change this to ``use_latex=True``. This, however, requires Latex to be installed in your system. If you do, matrices will be printed using a fancy format."
   ]
  },
  {
   "cell_type": "markdown",
   "metadata": {},
   "source": [
    "## Gaussian Elimination Helpers\n",
    "\n",
    "To perform Gaussian eliminations, we will use the following two functions from the module ``latools``:\n",
    "\n",
    "- ``matrix_to_rational(A)``: transforms the entries of matrix ``A`` into rational values. Helpful if we want to do exact computations.\n",
    "- ``rop(A, *rop_seq, inplace=False, symbolic=True)``: performs a sequence of row operations on the matrix ``A``.\n",
    "\n",
    "Each row operation is entered as a string, which must be in one of the following forms:\n",
    "\n",
    "- Row swapping: **`Ri<=>Rj`**, where i and j are two integers\n",
    "- Row scaling: **`Ri*(c)=>Ri`**, where i is an integer and c is a constant. Notice that the parenthesis are always required.\n",
    "- Row scaling and adding: **`Ri*(c)+Rj=>Rj`**, where i and j are integers and c is a constant. \n",
    "\n",
    "Notice that in the last two cases the parenthesis around the factor ``c`` are **always** required. By default, the row operations are not done in-place, but a new matrix is returned. Setting ``inplace=True`` causes the operations to be done in-place.\n",
    "\n",
    "Notice that the row and column numbers are adjusted so that indexing starts with 1, not 0, as is the Python default.\n",
    "\n",
    "Let's now see some examples of how to use Gaussian elimination:\n",
    "\n",
    "**Example 1:** Solve the linear system:\n",
    "\n",
    "\\begin{alignat*}{6}\n",
    "1x  &{}+{}& 3y &{}+{}& 2z &{}+{}& 0w &{}={}& 9\\\\\n",
    "6x  &{}+{}& 2y &{}+{}& 0z &{}-{}& 2w &{}={}& 0\\\\\n",
    "-1x &{}+{}& 0y &{}+{}& 1z &{}+{}& 1w &{}={}& 3\n",
    "\\end{alignat*}\n",
    "\n",
    "\n",
    "### Augmented matrix setup\n",
    "\n",
    "Before doing the Gaussian elimination, we need to input the augmented matrix for the system:"
   ]
  },
  {
   "cell_type": "code",
   "execution_count": 9,
   "metadata": {
    "collapsed": false
   },
   "outputs": [
    {
     "data": {
      "image/png": "[encoded data removed]",
      "text/latex": [
       "$$\\left[\\begin{matrix}1 & 3 & 2 & 0 & 9\\\\6 & 2 & 0 & -2 & 0\\\\-1 & 0 & 1 & 1 & 3\\end{matrix}\\right]$$"
      ],
      "text/plain": [
       "⎡1   3  2  0   9⎤\n",
       "⎢               ⎥\n",
       "⎢6   2  0  -2  0⎥\n",
       "⎢               ⎥\n",
       "⎣-1  0  1  1   3⎦"
      ]
     },
     "execution_count": 9,
     "metadata": {},
     "output_type": "execute_result"
    }
   ],
   "source": [
    "A = matrix_to_rational([[  1, 3, 2,  0, 9],\n",
    "                        [  6, 2, 0, -2, 0],\n",
    "                        [ -1, 0, 1,  1, 3]])\n",
    "A"
   ]
  },
  {
   "cell_type": "markdown",
   "metadata": {},
   "source": [
    "### Step 1\n",
    "\n",
    "We use the $1$ on the first element of the first row as pivot to obtain zeros elsewhere in the first column:"
   ]
  },
  {
   "cell_type": "code",
   "execution_count": 10,
   "metadata": {
    "collapsed": false
   },
   "outputs": [
    {
     "data": {
      "image/png": "[encoded data removed]",
      "text/latex": [
       "$$\\left[\\begin{matrix}1 & 3 & 2 & 0 & 9\\\\0 & -16 & -12 & -2 & -54\\\\0 & 3 & 3 & 1 & 12\\end{matrix}\\right]$$"
      ],
      "text/plain": [
       "⎡1   3    2   0    9 ⎤\n",
       "⎢                    ⎥\n",
       "⎢0  -16  -12  -2  -54⎥\n",
       "⎢                    ⎥\n",
       "⎣0   3    3   1   12 ⎦"
      ]
     },
     "execution_count": 10,
     "metadata": {},
     "output_type": "execute_result"
    }
   ],
   "source": [
    "A1 = rop(A, 'R1*(-6)+R2=>R2', 'R1*(1)+R3=>R3')\n",
    "A1"
   ]
  },
  {
   "cell_type": "markdown",
   "metadata": {},
   "source": [
    "### Step 2\n",
    "\n",
    "We now move to the second column. The pivot is the $-16$, so we first multiply the second row by $-1/16$ to turn the pivot into a $1$:"
   ]
  },
  {
   "cell_type": "code",
   "execution_count": 11,
   "metadata": {
    "collapsed": false
   },
   "outputs": [
    {
     "data": {
      "image/png": "[encoded data removed]",
      "text/latex": [
       "$$\\left[\\begin{matrix}1 & 3 & 2 & 0 & 9\\\\0 & 1 & \\frac{3}{4} & \\frac{1}{8} & \\frac{27}{8}\\\\0 & 3 & 3 & 1 & 12\\end{matrix}\\right]$$"
      ],
      "text/plain": [
       "⎡1  3   2    0    9  ⎤\n",
       "⎢                    ⎥\n",
       "⎢0  1  3/4  1/8  27/8⎥\n",
       "⎢                    ⎥\n",
       "⎣0  3   3    1    12 ⎦"
      ]
     },
     "execution_count": 11,
     "metadata": {},
     "output_type": "execute_result"
    }
   ],
   "source": [
    "A2 = rop(A1, 'R2*(-1/16)=>R2')\n",
    "A2"
   ]
  },
  {
   "cell_type": "markdown",
   "metadata": {},
   "source": [
    "Now use the pivot (second row, second column) to get zeros at the non-pivot rows in column 2:"
   ]
  },
  {
   "cell_type": "code",
   "execution_count": 12,
   "metadata": {
    "collapsed": false
   },
   "outputs": [
    {
     "data": {
      "image/png": "[encoded data removed]",
      "text/latex": [
       "$$\\left[\\begin{matrix}1 & 0 & - \\frac{1}{4} & - \\frac{3}{8} & - \\frac{9}{8}\\\\0 & 1 & \\frac{3}{4} & \\frac{1}{8} & \\frac{27}{8}\\\\0 & 0 & \\frac{3}{4} & \\frac{5}{8} & \\frac{15}{8}\\end{matrix}\\right]$$"
      ],
      "text/plain": [
       "⎡1  0  -1/4  -3/8  -9/8⎤\n",
       "⎢                      ⎥\n",
       "⎢0  1  3/4   1/8   27/8⎥\n",
       "⎢                      ⎥\n",
       "⎣0  0  3/4   5/8   15/8⎦"
      ]
     },
     "execution_count": 12,
     "metadata": {},
     "output_type": "execute_result"
    }
   ],
   "source": [
    "A3 = rop(A2, 'R2*(-3)+R1=>R1', 'R2*(-3)+R3=>R3')\n",
    "A3"
   ]
  },
  {
   "cell_type": "markdown",
   "metadata": {},
   "source": [
    "### Step 3\n",
    "\n",
    "The next pivot is at (row 3, column 3), and is equal to $3/4$. Multiply row 3 by $4/3$ to make the pivot equal to 1:"
   ]
  },
  {
   "cell_type": "code",
   "execution_count": 13,
   "metadata": {
    "collapsed": false
   },
   "outputs": [
    {
     "data": {
      "image/png": "[encoded data removed]",
      "text/latex": [
       "$$\\left[\\begin{matrix}1 & 0 & - \\frac{1}{4} & - \\frac{3}{8} & - \\frac{9}{8}\\\\0 & 1 & \\frac{3}{4} & \\frac{1}{8} & \\frac{27}{8}\\\\0 & 0 & 1 & \\frac{5}{6} & \\frac{5}{2}\\end{matrix}\\right]$$"
      ],
      "text/plain": [
       "⎡1  0  -1/4  -3/8  -9/8⎤\n",
       "⎢                      ⎥\n",
       "⎢0  1  3/4   1/8   27/8⎥\n",
       "⎢                      ⎥\n",
       "⎣0  0   1    5/6   5/2 ⎦"
      ]
     },
     "execution_count": 13,
     "metadata": {},
     "output_type": "execute_result"
    }
   ],
   "source": [
    "A4 = rop(A3, 'R3*(4/3)=>R3')\n",
    "A4"
   ]
  },
  {
   "cell_type": "markdown",
   "metadata": {},
   "source": [
    "Now use the pivot to get zeros on column 3, rows 1 and 2:"
   ]
  },
  {
   "cell_type": "code",
   "execution_count": 14,
   "metadata": {
    "collapsed": false
   },
   "outputs": [
    {
     "data": {
      "image/png": "[encoded data removed]",
      "text/latex": [
       "$$\\left[\\begin{matrix}1 & 0 & 0 & - \\frac{1}{6} & - \\frac{1}{2}\\\\0 & 1 & 0 & - \\frac{1}{2} & \\frac{3}{2}\\\\0 & 0 & 1 & \\frac{5}{6} & \\frac{5}{2}\\end{matrix}\\right]$$"
      ],
      "text/plain": [
       "⎡1  0  0  -1/6  -1/2⎤\n",
       "⎢                   ⎥\n",
       "⎢0  1  0  -1/2  3/2 ⎥\n",
       "⎢                   ⎥\n",
       "⎣0  0  1  5/6   5/2 ⎦"
      ]
     },
     "execution_count": 14,
     "metadata": {},
     "output_type": "execute_result"
    }
   ],
   "source": [
    "A5 = rop(A4, 'R3*(1/4)+R1=>R1', 'R3*(-3/4)+R2=>R2')\n",
    "A5"
   ]
  },
  {
   "cell_type": "markdown",
   "metadata": {},
   "source": [
    "This matrix is in RREF (notice the identity matrix on the left. We now translate this matrix back into a system of equations:\n",
    "\n",
    "\\begin{alignat*}{6}\n",
    "1x &{}+{}& 0y &{}+{}& 0z &{}-{}& \\frac{1}{6}w &{}={}& -\\frac{1}{2}\\\\\n",
    "0x &{}+{}& 1y &{}+{}& 0z &{}-{}& \\frac{1}{2}w &{}={}&  \\frac{3}{2}\\\\\n",
    "0x &{}+{}& 0y &{}+{}& 1z &{}+{}& \\frac{5}{6}w &{}={}&  \\frac{5}{2}\\\\\n",
    "\\end{alignat*}\n",
    "\n",
    "\n",
    "The variables that corespond to the pivot columns, $x$, $y$ and $z$ are the _dependent_ variables, and the remaining variable, $w$, can be chosen arbitrarily. We can express the dependent variables all in terms of $w$:\n",
    "\n",
    "\\begin{alignat*}{4}\n",
    "x &{}={}& -\\frac{1}{2} &{}+{}& \\frac{1}{6}w\\\\\n",
    "y &{}={}&  \\frac{3}{2} &{}+{}& \\frac{1}{2}w\\\\\n",
    "z &{}={}&  \\frac{5}{2} &{}-{}& \\frac{5}{6}w\\\\\n",
    "\\end{alignat*}\n",
    "\n",
    "We will usually want to represent the solution as a vector:\n",
    "$$\n",
    "\\begin{bmatrix}x\\\\y\\\\z\\\\w\\end{bmatrix}=\n",
    "\\begin{bmatrix}\n",
    "-\\frac{1}{2} + \\frac{1}{6}s\\\\\n",
    " \\frac{3}{2} + \\frac{1}{2}s\\\\\n",
    " \\frac{5}{2} - \\frac{5}{6}s\\\\\n",
    " s\\\\\n",
    "\\end{bmatrix}\n",
    "$$\n",
    "In the formula above, $s$ is an arbitrary real number. Since we can freely choose one variable ($s$), we say that the solution set has _one degree of freedom_. We can also express the solution in terms of a combination of vectors:\n",
    "$$\n",
    "\\begin{bmatrix}x\\\\y\\\\z\\\\w\\end{bmatrix}=\n",
    "\\begin{bmatrix}\n",
    "-\\frac{1}{2} \\\\\n",
    " \\frac{3}{2} \\\\\n",
    " \\frac{5}{2} \\\\\n",
    " 0\\\\\n",
    "\\end{bmatrix}+\n",
    "s\\begin{bmatrix}\n",
    "\\frac{1}{6}\\\\\n",
    "\\frac{1}{2}\\\\\n",
    " -\\frac{5}{6}\\\\\n",
    " 1\\\\\n",
    "\\end{bmatrix}\n",
    "$$"
   ]
  },
  {
   "cell_type": "markdown",
   "metadata": {
    "collapsed": true
   },
   "source": [
    "## Exercises:\n",
    "\n",
    "Solve the following systems using Gaussian Elimination. A complete solution should include a representation of the solution set as a combination of vectors.\n",
    "\n",
    "_Note_: To add a computation cell, pres ``Esc`` and the ``a`` or ``b``. ``a`` adds a cell **a**bove, ``b`` adds a cell **b**elow the current cell."
   ]
  },
  {
   "cell_type": "markdown",
   "metadata": {
    "collapsed": true
   },
   "source": [
    "#### Exercise 1\n",
    "\n",
    "\\begin{alignat*}{7}\n",
    "     &&        && 6x_3  &&       &+& 19x_5 &+& 11x_6 &=& -27\\\\\n",
    "3x_1 &{}+{}& 12x_2 &{}+{}& 9x_3 &{}-{}& 6x_4 &{}+{}& 26x_5 &{}+{}& 31x_6 &{}={}& -63\\\\\n",
    " x_1 &{}+{}&  4x_2 &{}+{}& 3x_3 &{}-{}& 2x_4 &{}+{}& 10x_5 &{}+{}&  9x_6 &{}={}& -17\\\\\n",
    "-x_1 &{}-{}&  4x_2 &{}-{}& 4x_3 &{}+{}& 2x_4 &{}-{}& 13x_5 &{}-{}& 11x_6 &{}={}& 22\\\\\n",
    "\\end{alignat*}\n"
   ]
  },
  {
   "cell_type": "code",
   "execution_count": null,
   "metadata": {
    "collapsed": true
   },
   "outputs": [],
   "source": []
  },
  {
   "cell_type": "markdown",
   "metadata": {},
   "source": [
    "#### Exercise 2\n",
    "\n",
    "\\begin{alignat*}{4}\n",
    " x_1 &{}+{}&  4x_2 &{}-{}& 3x_3 &{}={}&  2\\\\\n",
    "3x_1 &{}-{}&  2x_2 &{}-{}&  x_3 &{}={}& -1\\\\\n",
    "-x_1 &{}+{}& 10x_2 &{}-{}& 5x_3 &{}={}&  3\\\\\n",
    "\\end{alignat*}\n",
    "\n",
    "\n"
   ]
  },
  {
   "cell_type": "code",
   "execution_count": null,
   "metadata": {
    "collapsed": true
   },
   "outputs": [],
   "source": []
  },
  {
   "cell_type": "markdown",
   "metadata": {},
   "source": [
    "#### Exercise 3\n",
    "\n",
    "\\begin{alignat*}{5}\n",
    "32x &{}+{}&  2y &{}+{}& 4z &{}+{}& \\frac{1}{2}t &{}={}&  15\\\\\n",
    "48x &{}+{}& 12y &{}+{}&  z &{}+{}&          27t &{}={}& 100\\\\\n",
    "40x &{}+{}&   y &{}+{}& 8z &{}+{}&            t       &= 10\n",
    "\\end{alignat*}\n",
    "\n",
    "This is the system from the diet problem example. Since food quantities should not be negative, find a solution whith all components positive. Is that a breakfast you would like to have?"
   ]
  },
  {
   "cell_type": "code",
   "execution_count": null,
   "metadata": {
    "collapsed": true
   },
   "outputs": [],
   "source": []
  },
  {
   "cell_type": "code",
   "execution_count": null,
   "metadata": {
    "collapsed": true
   },
   "outputs": [],
   "source": []
  }
 ],
 "metadata": {
  "anaconda-cloud": {},
  "kernelspec": {
   "display_name": "Python [default]",
   "language": "python",
   "name": "python3"
  },
  "language_info": {
   "codemirror_mode": {
    "name": "ipython",
    "version": 3
   },
   "file_extension": ".py",
   "mimetype": "text/x-python",
   "name": "python",
   "nbconvert_exporter": "python",
   "pygments_lexer": "ipython3",
   "version": "3.5.2"
  }
 },
 "nbformat": 4,
 "nbformat_minor": 0
}
