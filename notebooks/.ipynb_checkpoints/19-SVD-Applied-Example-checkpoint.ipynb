{
 "cells": [
  {
   "cell_type": "code",
   "execution_count": 1,
   "metadata": {
    "collapsed": false
   },
   "outputs": [],
   "source": [
    "%matplotlib inline\n",
    "import numpy as np\n",
    "from numpy.linalg import svd\n",
    "import matplotlib.pyplot as plt\n",
    "from numpy import linalg\n",
    "from numpy import random\n",
    "from PIL import Image"
   ]
  },
  {
   "cell_type": "markdown",
   "metadata": {},
   "source": [
    "In this notebook, we consider two applications of the singular value decomposition to image processing. \n",
    "\n",
    "The examples are adapted from the article [We Recommend a Singular Value Decomposition](http://www.ams.org/samplings/feature-column/fcarc-svd) by David Austin. This article is a great introduction to the SVD interpretation and applications.\n",
    "\n",
    "To demonstrate the use of the SVD in image processing, let's start by defining a greyscale image:"
   ]
  },
  {
   "cell_type": "code",
   "execution_count": 2,
   "metadata": {
    "collapsed": false
   },
   "outputs": [],
   "source": [
    "m = 25\n",
    "n = 15\n",
    "M = np.zeros((m,n))\n",
    "M[5:8,2:-2].fill(1)\n",
    "M[8:-8,2:5].fill(1)\n",
    "M[8:-8,-5:-2].fill(1)\n",
    "M[-8:-5,2:-2].fill(1)\n",
    "M = 1 - M"
   ]
  },
  {
   "cell_type": "markdown",
   "metadata": {},
   "source": [
    "The array `M` is a $25\\times 15$ array of zeros and ones, where 0 corresponds to black and 1 corresponds to black. The image, a black rectangular \"box\", is displayed with the following code: "
   ]
  },
  {
   "cell_type": "code",
   "execution_count": 3,
   "metadata": {
    "collapsed": false
   },
   "outputs": [
    {
     "data": {
      "image/png": "[encoded data removed]",
      "text/plain": [
       "<matplotlib.figure.Figure at 0x105639630>"
      ]
     },
     "metadata": {},
     "output_type": "display_data"
    }
   ],
   "source": [
    "plt.gray()\n",
    "plt.imshow(255 * M, interpolation='none')\n",
    "None"
   ]
  },
  {
   "cell_type": "markdown",
   "metadata": {},
   "source": [
    "We now consider the array `M` as being a real matrix, and compute its SVD, using the `svd` function from the module `linalg` "
   ]
  },
  {
   "cell_type": "code",
   "execution_count": 4,
   "metadata": {
    "collapsed": false
   },
   "outputs": [],
   "source": [
    "U,s,V = linalg.svd(M, full_matrices=False)"
   ]
  },
  {
   "cell_type": "markdown",
   "metadata": {},
   "source": [
    "The output of the `linalg.svd()` function consists of a vector $\\mathbf{s}$ and two matrices $U$ and $V$. The vector $\\mathbf{s}$ containing the singular values. The matrices $U$ and $V$ are such that:\n",
    "$$\n",
    "M=UDV\n",
    "$$\n",
    "where $D$ is a matrix with the singular values on its diagonal. (In the notation we used in class, $V$ is $P$ and $U$ is $Q^T$. The matrices $U$ and $V$ are orthogonal. \n",
    "\n",
    "We can check the correctness of the decomposition by reconstructing the matrix $M$ and redisplaying the image:"
   ]
  },
  {
   "cell_type": "code",
   "execution_count": 5,
   "metadata": {
    "collapsed": false
   },
   "outputs": [
    {
     "data": {
      "image/png": "[encoded data removed]",
      "text/plain": [
       "<matplotlib.figure.Figure at 0x10bb36198>"
      ]
     },
     "metadata": {},
     "output_type": "display_data"
    }
   ],
   "source": [
    "S = np.diag(s)\n",
    "MR = np.dot(U, np.dot(S,V))\n",
    "plt.gray()\n",
    "plt.imshow(255 * MR, interpolation='none')\n",
    "None"
   ]
  },
  {
   "cell_type": "markdown",
   "metadata": {},
   "source": [
    "# Image Compression\n",
    "So far, we didn't really accomplish much, since the amount of data needed to represent $U$, $\\mathbf{s}$ and $V$ is about the same needed for the full image matrix $M$. However, let's examine the components of vector $\\mathbf{s}$:"
   ]
  },
  {
   "cell_type": "code",
   "execution_count": 6,
   "metadata": {
    "collapsed": false
   },
   "outputs": [
    {
     "data": {
      "text/plain": [
       "array([  1.47242531e+01,   5.21662293e+00,   3.31409370e+00,\n",
       "         1.51448821e-16,   1.48952049e-16,   1.02144979e-32,\n",
       "         2.71957431e-33,   0.00000000e+00,   0.00000000e+00,\n",
       "         0.00000000e+00,   0.00000000e+00,   0.00000000e+00,\n",
       "         0.00000000e+00,   0.00000000e+00,   0.00000000e+00])"
      ]
     },
     "execution_count": 6,
     "metadata": {},
     "output_type": "execute_result"
    }
   ],
   "source": [
    "s"
   ]
  },
  {
   "cell_type": "markdown",
   "metadata": {},
   "source": [
    "Notice that the values beyond the third are essentially zero. If the computations were done without roundoff errors, these would be exactly zero, because the rank of the matrix $M$ is 3. To see why this is the case, notice that there are only three different kinds of columns in the image:\n",
    "\n",
    "- The white margins of the image, which are represented by an array of ones (remember, 1=white, 0=black).\n",
    "- The columns corresponding to the left and right sides of the box.\n",
    "- The columns corresponding to the top and bottom of the box.\n",
    "\n",
    "As a consequence, we can represent the image by keeping only the first three singular values:"
   ]
  },
  {
   "cell_type": "code",
   "execution_count": 7,
   "metadata": {
    "collapsed": false
   },
   "outputs": [
    {
     "data": {
      "text/plain": [
       "array([ 14.72425306,   5.21662293,   3.3140937 ])"
      ]
     },
     "execution_count": 7,
     "metadata": {},
     "output_type": "execute_result"
    }
   ],
   "source": [
    "s1 = s[0:3]\n",
    "s1"
   ]
  },
  {
   "cell_type": "markdown",
   "metadata": {},
   "source": [
    "To reconstruct the image, we need the first three columns of the matrix $U$ and the first three rows of matrix $V$:"
   ]
  },
  {
   "cell_type": "code",
   "execution_count": 8,
   "metadata": {
    "collapsed": true
   },
   "outputs": [],
   "source": [
    "U1 = U[:,0:3]\n",
    "V1 = V[0:3,:]"
   ]
  },
  {
   "cell_type": "markdown",
   "metadata": {},
   "source": [
    "Finally, here is the reconstruction:"
   ]
  },
  {
   "cell_type": "code",
   "execution_count": 9,
   "metadata": {
    "collapsed": false
   },
   "outputs": [
    {
     "data": {
      "image/png": "[encoded data removed]",
      "text/plain": [
       "<matplotlib.figure.Figure at 0x10ba20f60>"
      ]
     },
     "metadata": {},
     "output_type": "display_data"
    }
   ],
   "source": [
    "S1 = np.diag(s1)\n",
    "M2 = np.dot(U1, np.dot(S1,V1))\n",
    "plt.gray()\n",
    "plt.imshow(255*M2, interpolation='none')\n",
    "None"
   ]
  },
  {
   "cell_type": "markdown",
   "metadata": {},
   "source": [
    "How much compression we achieved? The original matrix, $M$, has $25\\times 15=375$ entries. If, instead of the matrix $M$, we transmit the matrices $U_1$, $V_1$ and the vector $s_1$, we have a total of $25\\times 3+3\\times15+3=123$ entries, so we get a compression factor of $123/375$, or about $33\\%$. Notice that for a more realistic image the compression rate would probably not be so good."
   ]
  },
  {
   "cell_type": "markdown",
   "metadata": {},
   "source": [
    "# Noise Reduction\n",
    "In the next application, let's assume that the image transmission is noisy. We can simulate this situation by adding a small random perturbation to the image data. This is done in the next cell, where we add a normally distributed random value to each entry of the matrix:"
   ]
  },
  {
   "cell_type": "code",
   "execution_count": 10,
   "metadata": {
    "collapsed": false
   },
   "outputs": [],
   "source": [
    "sd = 0.05\n",
    "MN = M + sd * random.randn(25,15)"
   ]
  },
  {
   "cell_type": "markdown",
   "metadata": {},
   "source": [
    "This is what the noisy image looks like:"
   ]
  },
  {
   "cell_type": "code",
   "execution_count": 11,
   "metadata": {
    "collapsed": false
   },
   "outputs": [
    {
     "data": {
      "image/png": "[encoded data removed]",
      "text/plain": [
       "<matplotlib.figure.Figure at 0x10ba20898>"
      ]
     },
     "metadata": {},
     "output_type": "display_data"
    }
   ],
   "source": [
    "plt.gray()\n",
    "plt.imshow(255 * MN, interpolation='none')\n",
    "None"
   ]
  },
  {
   "cell_type": "markdown",
   "metadata": {},
   "source": [
    "Let's see how we can \"clean up\" the noise by using a Singular Value Decomposition. First, we comopute the SVD:"
   ]
  },
  {
   "cell_type": "code",
   "execution_count": 12,
   "metadata": {
    "collapsed": true
   },
   "outputs": [],
   "source": [
    "U,s,V = linalg.svd(MN, full_matrices=False)"
   ]
  },
  {
   "cell_type": "markdown",
   "metadata": {},
   "source": [
    "Let's now see what the singular values look like:"
   ]
  },
  {
   "cell_type": "code",
   "execution_count": 13,
   "metadata": {
    "collapsed": false
   },
   "outputs": [
    {
     "data": {
      "text/plain": [
       "array([ 14.7578131 ,   5.22937477,   3.33441919,   0.383975  ,\n",
       "         0.33826818,   0.31271074,   0.29881508,   0.2648192 ,\n",
       "         0.25440087,   0.19885545,   0.18167082,   0.16583319,\n",
       "         0.15139172,   0.12084663,   0.10242299])"
      ]
     },
     "execution_count": 13,
     "metadata": {},
     "output_type": "execute_result"
    }
   ],
   "source": [
    "s"
   ]
  },
  {
   "cell_type": "markdown",
   "metadata": {},
   "source": [
    "Notice that there is a somewhat sharp drop in the size of the singular values after the third one. Let's see what happens if we keep only the first three singular values:"
   ]
  },
  {
   "cell_type": "code",
   "execution_count": 14,
   "metadata": {
    "collapsed": false
   },
   "outputs": [
    {
     "data": {
      "image/png": "[encoded data removed]",
      "text/plain": [
       "<matplotlib.figure.Figure at 0x10eafc400>"
      ]
     },
     "metadata": {},
     "output_type": "display_data"
    }
   ],
   "source": [
    "nc = 3\n",
    "s1 = s[0:nc]\n",
    "U1 = U[:,0:nc]\n",
    "V1 = V[0:nc,:]\n",
    "S1 = np.diag(s1)\n",
    "M2 = np.dot(U1, np.dot(S1,V1))\n",
    "plt.gray()\n",
    "plt.imshow(255*M2, interpolation='none')\n",
    "None"
   ]
  },
  {
   "cell_type": "markdown",
   "metadata": {},
   "source": [
    "Notice that the noise in the image was significantly decreased. In a real application, we would have to decide how many components should be kept"
   ]
  }
 ],
 "metadata": {
  "anaconda-cloud": {},
  "kernelspec": {
   "display_name": "Python [default]",
   "language": "python",
   "name": "python3"
  },
  "language_info": {
   "codemirror_mode": {
    "name": "ipython",
    "version": 3
   },
   "file_extension": ".py",
   "mimetype": "text/x-python",
   "name": "python",
   "nbconvert_exporter": "python",
   "pygments_lexer": "ipython3",
   "version": "3.5.2"
  }
 },
 "nbformat": 4,
 "nbformat_minor": 0
}
