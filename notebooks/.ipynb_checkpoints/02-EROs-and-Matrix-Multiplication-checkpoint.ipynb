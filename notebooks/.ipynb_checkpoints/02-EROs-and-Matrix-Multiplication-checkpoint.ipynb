{
 "cells": [
  {
   "cell_type": "code",
   "execution_count": 1,
   "metadata": {
    "collapsed": true
   },
   "outputs": [],
   "source": [
    "from latools import *\n",
    "from sympy import *\n",
    "init_printing(use_latex=True)"
   ]
  },
  {
   "cell_type": "markdown",
   "metadata": {},
   "source": [
    "# Solving Systems Using Matrix Multiplication\n",
    "\n",
    "We want to solve the linear system\n",
    "$$\n",
    "A\\mathbf{x}=\\mathbf{v}\n",
    "$$\n",
    "where $A$ is the matrix below:"
   ]
  },
  {
   "cell_type": "code",
   "execution_count": 2,
   "metadata": {
    "collapsed": false
   },
   "outputs": [
    {
     "data": {
      "image/png": "[encoded data removed]",
      "text/latex": [
       "$$\\left[\\begin{matrix}2 & 1 & -2\\\\2 & -1 & 2\\\\1 & 1 & 1\\end{matrix}\\right]$$"
      ],
      "text/plain": [
       "⎡2  1   -2⎤\n",
       "⎢         ⎥\n",
       "⎢2  -1  2 ⎥\n",
       "⎢         ⎥\n",
       "⎣1  1   1 ⎦"
      ]
     },
     "execution_count": 2,
     "metadata": {},
     "output_type": "execute_result"
    }
   ],
   "source": [
    "A = matrix_to_rational([[2,  1, -2],\n",
    "                        [2, -1,  2],\n",
    "                        [1,  1,  1]])\n",
    "A"
   ]
  },
  {
   "cell_type": "markdown",
   "metadata": {},
   "source": [
    "We want the right-hand side of the matrix, $\\mathbf{v}$ to be a generic vector. We can do this using the symbolic features of ``sympy``:"
   ]
  },
  {
   "cell_type": "code",
   "execution_count": 3,
   "metadata": {
    "collapsed": false
   },
   "outputs": [
    {
     "data": {
      "image/png": "[encoded data removed]",
      "text/latex": [
       "$$\\left[\\begin{matrix}a\\\\b\\\\c\\end{matrix}\\right]$$"
      ],
      "text/plain": [
       "⎡a⎤\n",
       "⎢ ⎥\n",
       "⎢b⎥\n",
       "⎢ ⎥\n",
       "⎣c⎦"
      ]
     },
     "execution_count": 3,
     "metadata": {},
     "output_type": "execute_result"
    }
   ],
   "source": [
    "a, b, c = symbols('a, b, c')\n",
    "v = Matrix([a,b,c])\n",
    "v"
   ]
  },
  {
   "cell_type": "markdown",
   "metadata": {},
   "source": [
    "Let's now perform a sequence of row operations to get the RREF of $A$:"
   ]
  },
  {
   "cell_type": "code",
   "execution_count": 4,
   "metadata": {
    "collapsed": false
   },
   "outputs": [
    {
     "data": {
      "image/png": "[encoded data removed]",
      "text/latex": [
       "$$\\left[\\begin{matrix}1 & \\frac{1}{2} & -1\\\\2 & -1 & 2\\\\1 & 1 & 1\\end{matrix}\\right]$$"
      ],
      "text/plain": [
       "⎡1  1/2  -1⎤\n",
       "⎢          ⎥\n",
       "⎢2  -1   2 ⎥\n",
       "⎢          ⎥\n",
       "⎣1   1   1 ⎦"
      ]
     },
     "execution_count": 4,
     "metadata": {},
     "output_type": "execute_result"
    }
   ],
   "source": [
    "A1 = rop(A, 'R1*(1/2)=>R1')\n",
    "A1"
   ]
  },
  {
   "cell_type": "code",
   "execution_count": 5,
   "metadata": {
    "collapsed": false
   },
   "outputs": [
    {
     "data": {
      "image/png": "[encoded data removed]",
      "text/latex": [
       "$$\\left[\\begin{matrix}1 & \\frac{1}{2} & -1\\\\0 & -2 & 4\\\\0 & \\frac{1}{2} & 2\\end{matrix}\\right]$$"
      ],
      "text/plain": [
       "⎡1  1/2  -1⎤\n",
       "⎢          ⎥\n",
       "⎢0  -2   4 ⎥\n",
       "⎢          ⎥\n",
       "⎣0  1/2  2 ⎦"
      ]
     },
     "execution_count": 5,
     "metadata": {},
     "output_type": "execute_result"
    }
   ],
   "source": [
    "A2 = rop(A1, 'R1*(-2)+R2=>R2', 'R1*(-1)+R3=>R3')\n",
    "A2"
   ]
  },
  {
   "cell_type": "code",
   "execution_count": 6,
   "metadata": {
    "collapsed": false
   },
   "outputs": [
    {
     "data": {
      "image/png": "[encoded data removed]",
      "text/latex": [
       "$$\\left[\\begin{matrix}1 & \\frac{1}{2} & -1\\\\0 & 1 & -2\\\\0 & \\frac{1}{2} & 2\\end{matrix}\\right]$$"
      ],
      "text/plain": [
       "⎡1  1/2  -1⎤\n",
       "⎢          ⎥\n",
       "⎢0   1   -2⎥\n",
       "⎢          ⎥\n",
       "⎣0  1/2  2 ⎦"
      ]
     },
     "execution_count": 6,
     "metadata": {},
     "output_type": "execute_result"
    }
   ],
   "source": [
    "A3 = rop(A2, 'R2*(-1/2)=>R2')\n",
    "A3"
   ]
  },
  {
   "cell_type": "code",
   "execution_count": 7,
   "metadata": {
    "collapsed": false
   },
   "outputs": [
    {
     "data": {
      "image/png": "[encoded data removed]",
      "text/latex": [
       "$$\\left[\\begin{matrix}1 & 0 & 0\\\\0 & 1 & -2\\\\0 & 0 & 3\\end{matrix}\\right]$$"
      ],
      "text/plain": [
       "⎡1  0  0 ⎤\n",
       "⎢        ⎥\n",
       "⎢0  1  -2⎥\n",
       "⎢        ⎥\n",
       "⎣0  0  3 ⎦"
      ]
     },
     "execution_count": 7,
     "metadata": {},
     "output_type": "execute_result"
    }
   ],
   "source": [
    "A4 = rop(A3, 'R2*(-1/2)+R1=>R1', 'R2*(-1/2)+R3=>R3')\n",
    "A4"
   ]
  },
  {
   "cell_type": "code",
   "execution_count": 8,
   "metadata": {
    "collapsed": false
   },
   "outputs": [
    {
     "data": {
      "image/png": "[encoded data removed]",
      "text/latex": [
       "$$\\left[\\begin{matrix}1 & 0 & 0\\\\0 & 1 & -2\\\\0 & 0 & 1\\end{matrix}\\right]$$"
      ],
      "text/plain": [
       "⎡1  0  0 ⎤\n",
       "⎢        ⎥\n",
       "⎢0  1  -2⎥\n",
       "⎢        ⎥\n",
       "⎣0  0  1 ⎦"
      ]
     },
     "execution_count": 8,
     "metadata": {},
     "output_type": "execute_result"
    }
   ],
   "source": [
    "A5 = rop(A4, 'R3*(1/3)=>R3')\n",
    "A5"
   ]
  },
  {
   "cell_type": "code",
   "execution_count": 9,
   "metadata": {
    "collapsed": false
   },
   "outputs": [
    {
     "data": {
      "image/png": "[encoded data removed]",
      "text/latex": [
       "$$\\left[\\begin{matrix}1 & 0 & 0\\\\0 & 1 & 0\\\\0 & 0 & 1\\end{matrix}\\right]$$"
      ],
      "text/plain": [
       "⎡1  0  0⎤\n",
       "⎢       ⎥\n",
       "⎢0  1  0⎥\n",
       "⎢       ⎥\n",
       "⎣0  0  1⎦"
      ]
     },
     "execution_count": 9,
     "metadata": {},
     "output_type": "execute_result"
    }
   ],
   "source": [
    "A6 = rop(A5, 'R3*(2)+R2=>R2')\n",
    "A6"
   ]
  },
  {
   "cell_type": "markdown",
   "metadata": {},
   "source": [
    "Notice that the RREF of matrix $A$ is the identity matrix. Let's also notice that we can define a sequence of row operations and obtain the RREF of $A$ in a single function call:"
   ]
  },
  {
   "cell_type": "code",
   "execution_count": 10,
   "metadata": {
    "collapsed": false
   },
   "outputs": [
    {
     "data": {
      "image/png": "[encoded data removed]",
      "text/latex": [
       "$$\\left[\\begin{matrix}1 & 0 & 0\\\\0 & 1 & 0\\\\0 & 0 & 1\\end{matrix}\\right]$$"
      ],
      "text/plain": [
       "⎡1  0  0⎤\n",
       "⎢       ⎥\n",
       "⎢0  1  0⎥\n",
       "⎢       ⎥\n",
       "⎣0  0  1⎦"
      ]
     },
     "execution_count": 10,
     "metadata": {},
     "output_type": "execute_result"
    }
   ],
   "source": [
    "rop_seq = ['R1*(1/2)=>R1', 'R1*(-2)+R2=>R2', 'R1*(-1)+R3=>R3', \n",
    "           'R2*(-1/2)=>R2', 'R2*(-1/2)+R1=>R1', 'R2*(-1/2)+R3=>R3',\n",
    "           'R3*(1/3)=>R3', 'R3*(2)+R2=>R2'\n",
    "          ]\n",
    "R = rop(A, *rop_seq)\n",
    "R"
   ]
  },
  {
   "cell_type": "markdown",
   "metadata": {},
   "source": [
    "Now a key insight: to get the solution of the system, we apply the \\emph{the same sequence of row operations to the vector $\\mathbf{v}$:"
   ]
  },
  {
   "cell_type": "code",
   "execution_count": 11,
   "metadata": {
    "collapsed": false
   },
   "outputs": [
    {
     "data": {
      "image/png": "[encoded data removed]",
      "text/latex": [
       "$$\\left[\\begin{matrix}\\frac{a}{4} + \\frac{b}{4}\\\\- \\frac{b}{3} + \\frac{2 c}{3}\\\\- \\frac{a}{4} + \\frac{b}{12} + \\frac{c}{3}\\end{matrix}\\right]$$"
      ],
      "text/plain": [
       "⎡   a   b    ⎤\n",
       "⎢   ─ + ─    ⎥\n",
       "⎢   4   4    ⎥\n",
       "⎢            ⎥\n",
       "⎢   b   2⋅c  ⎥\n",
       "⎢ - ─ + ───  ⎥\n",
       "⎢   3    3   ⎥\n",
       "⎢            ⎥\n",
       "⎢  a   b    c⎥\n",
       "⎢- ─ + ── + ─⎥\n",
       "⎣  4   12   3⎦"
      ]
     },
     "execution_count": 11,
     "metadata": {},
     "output_type": "execute_result"
    }
   ],
   "source": [
    "x = rop(v, *rop_seq)\n",
    "x"
   ]
  },
  {
   "cell_type": "code",
   "execution_count": 12,
   "metadata": {
    "collapsed": false
   },
   "outputs": [
    {
     "name": "stdout",
     "output_type": "stream",
     "text": [
      "\\left[\\begin{matrix}\\frac{a}{4} + \\frac{b}{4}\\\\- \\frac{b}{3} + \\frac{2 c}{3}\\\\- \\frac{a}{4} + \\frac{b}{12} + \\frac{c}{3}\\end{matrix}\\right]\n"
     ]
    }
   ],
   "source": [
    "print(latex(x))"
   ]
  },
  {
   "cell_type": "markdown",
   "metadata": {},
   "source": [
    "Lets check that indeed we have a solution:"
   ]
  },
  {
   "cell_type": "code",
   "execution_count": 13,
   "metadata": {
    "collapsed": false
   },
   "outputs": [
    {
     "data": {
      "image/png": "[encoded data removed]",
      "text/latex": [
       "$$\\left[\\begin{matrix}a\\\\b\\\\c\\end{matrix}\\right]$$"
      ],
      "text/plain": [
       "⎡a⎤\n",
       "⎢ ⎥\n",
       "⎢b⎥\n",
       "⎢ ⎥\n",
       "⎣c⎦"
      ]
     },
     "execution_count": 13,
     "metadata": {},
     "output_type": "execute_result"
    }
   ],
   "source": [
    "A * x"
   ]
  },
  {
   "cell_type": "markdown",
   "metadata": {},
   "source": [
    "Now, let's notice the following: the vector $x$ can alternatively be obtained from multiplying a matrix by $\\mathbf{v}$:"
   ]
  },
  {
   "cell_type": "code",
   "execution_count": 14,
   "metadata": {
    "collapsed": false
   },
   "outputs": [
    {
     "data": {
      "image/png": "[encoded data removed]",
      "text/latex": [
       "$$\\left[\\begin{matrix}\\frac{1}{4} & \\frac{1}{4} & 0\\\\0 & - \\frac{1}{3} & \\frac{2}{3}\\\\- \\frac{1}{4} & \\frac{1}{12} & \\frac{1}{3}\\end{matrix}\\right]$$"
      ],
      "text/plain": [
       "⎡1/4   1/4    0 ⎤\n",
       "⎢               ⎥\n",
       "⎢ 0    -1/3  2/3⎥\n",
       "⎢               ⎥\n",
       "⎣-1/4  1/12  1/3⎦"
      ]
     },
     "execution_count": 14,
     "metadata": {},
     "output_type": "execute_result"
    }
   ],
   "source": [
    "E = matrix_to_rational([[ 1/4,  1/4,   0],\n",
    "                        [   0, -1/3, 2/3],\n",
    "                        [-1/4, 1/12, 1/3]])\n",
    "E"
   ]
  },
  {
   "cell_type": "code",
   "execution_count": 15,
   "metadata": {
    "collapsed": false
   },
   "outputs": [
    {
     "data": {
      "image/png": "[encoded data removed]",
      "text/latex": [
       "$$\\left[\\begin{matrix}\\frac{a}{4} + \\frac{b}{4}\\\\- \\frac{b}{3} + \\frac{2 c}{3}\\\\- \\frac{a}{4} + \\frac{b}{12} + \\frac{c}{3}\\end{matrix}\\right]$$"
      ],
      "text/plain": [
       "⎡   a   b    ⎤\n",
       "⎢   ─ + ─    ⎥\n",
       "⎢   4   4    ⎥\n",
       "⎢            ⎥\n",
       "⎢   b   2⋅c  ⎥\n",
       "⎢ - ─ + ───  ⎥\n",
       "⎢   3    3   ⎥\n",
       "⎢            ⎥\n",
       "⎢  a   b    c⎥\n",
       "⎢- ─ + ── + ─⎥\n",
       "⎣  4   12   3⎦"
      ]
     },
     "execution_count": 15,
     "metadata": {},
     "output_type": "execute_result"
    }
   ],
   "source": [
    "E * v"
   ]
  },
  {
   "cell_type": "markdown",
   "metadata": {},
   "source": [
    "Now for the punchline: what happens when we multiply the matrix $E$ by $A$?"
   ]
  },
  {
   "cell_type": "code",
   "execution_count": 16,
   "metadata": {
    "collapsed": false
   },
   "outputs": [
    {
     "data": {
      "image/png": "[encoded data removed]",
      "text/latex": [
       "$$\\left[\\begin{matrix}1 & 0 & 0\\\\0 & 1 & 0\\\\0 & 0 & 1\\end{matrix}\\right]$$"
      ],
      "text/plain": [
       "⎡1  0  0⎤\n",
       "⎢       ⎥\n",
       "⎢0  1  0⎥\n",
       "⎢       ⎥\n",
       "⎣0  0  1⎦"
      ]
     },
     "execution_count": 16,
     "metadata": {},
     "output_type": "execute_result"
    }
   ],
   "source": [
    "E * A"
   ]
  },
  {
   "cell_type": "markdown",
   "metadata": {},
   "source": [
    "Finally, we notice that a more practical way to find what is the matrix $E$ is to perform the sequence of row operations to the $3\\times 3$ identity matrix:"
   ]
  },
  {
   "cell_type": "code",
   "execution_count": 17,
   "metadata": {
    "collapsed": false
   },
   "outputs": [
    {
     "data": {
      "image/png": "[encoded data removed]",
      "text/latex": [
       "$$\\left[\\begin{matrix}\\frac{1}{4} & \\frac{1}{4} & 0\\\\0 & - \\frac{1}{3} & \\frac{2}{3}\\\\- \\frac{1}{4} & \\frac{1}{12} & \\frac{1}{3}\\end{matrix}\\right]$$"
      ],
      "text/plain": [
       "⎡1/4   1/4    0 ⎤\n",
       "⎢               ⎥\n",
       "⎢ 0    -1/3  2/3⎥\n",
       "⎢               ⎥\n",
       "⎣-1/4  1/12  1/3⎦"
      ]
     },
     "execution_count": 17,
     "metadata": {},
     "output_type": "execute_result"
    }
   ],
   "source": [
    "E = rop(eye(3), *rop_seq)\n",
    "E"
   ]
  },
  {
   "cell_type": "markdown",
   "metadata": {},
   "source": [
    "We say that the matrix $E$ is the _inverse_ of the matrix $A$, and denote it by $A^{-1}$."
   ]
  },
  {
   "cell_type": "markdown",
   "metadata": {},
   "source": [
    "# The Inverse of a Matrix\n",
    "\n",
    "Let's start with the following $4\\times 4$ matrix:"
   ]
  },
  {
   "cell_type": "code",
   "execution_count": 18,
   "metadata": {
    "collapsed": false
   },
   "outputs": [
    {
     "data": {
      "image/png": "[encoded data removed]",
      "text/latex": [
       "$$\\left[\\begin{matrix}0 & 4 & -1 & 0\\\\0 & -2 & -2 & \\frac{1}{3}\\\\-1 & 1 & 0 & \\frac{1}{12}\\\\2 & -1 & 3 & 0\\end{matrix}\\right]$$"
      ],
      "text/plain": [
       "⎡0   4   -1   0  ⎤\n",
       "⎢                ⎥\n",
       "⎢0   -2  -2  1/3 ⎥\n",
       "⎢                ⎥\n",
       "⎢-1  1   0   1/12⎥\n",
       "⎢                ⎥\n",
       "⎣2   -1  3    0  ⎦"
      ]
     },
     "execution_count": 18,
     "metadata": {},
     "output_type": "execute_result"
    }
   ],
   "source": [
    "A = matrix_to_rational([[ 0,  4, -1, 0],\n",
    "                        [ 0, -2, -2, 1/3],\n",
    "                        [-1,  1,  0, 1/12],\n",
    "                        [ 2,- 1,  3, 0]])\n",
    "A"
   ]
  },
  {
   "cell_type": "markdown",
   "metadata": {},
   "source": [
    "We augment the matrix by appending the $4\\times 4$ identity:"
   ]
  },
  {
   "cell_type": "code",
   "execution_count": 19,
   "metadata": {
    "collapsed": false
   },
   "outputs": [
    {
     "data": {
      "image/png": "[encoded data removed]",
      "text/latex": [
       "$$\\left[\\begin{matrix}0 & 4 & -1 & 0 & 1 & 0 & 0 & 0\\\\0 & -2 & -2 & \\frac{1}{3} & 0 & 1 & 0 & 0\\\\-1 & 1 & 0 & \\frac{1}{12} & 0 & 0 & 1 & 0\\\\2 & -1 & 3 & 0 & 0 & 0 & 0 & 1\\end{matrix}\\right]$$"
      ],
      "text/plain": [
       "⎡0   4   -1   0    1  0  0  0⎤\n",
       "⎢                            ⎥\n",
       "⎢0   -2  -2  1/3   0  1  0  0⎥\n",
       "⎢                            ⎥\n",
       "⎢-1  1   0   1/12  0  0  1  0⎥\n",
       "⎢                            ⎥\n",
       "⎣2   -1  3    0    0  0  0  1⎦"
      ]
     },
     "execution_count": 19,
     "metadata": {},
     "output_type": "execute_result"
    }
   ],
   "source": [
    "M = Matrix.hstack(A,eye(4))\n",
    "M"
   ]
  },
  {
   "cell_type": "markdown",
   "metadata": {},
   "source": [
    "We now perform row operations to (if possible) reduce $A$ to the identity matrix."
   ]
  },
  {
   "cell_type": "code",
   "execution_count": 20,
   "metadata": {
    "collapsed": false
   },
   "outputs": [
    {
     "data": {
      "image/png": "[encoded data removed]",
      "text/latex": [
       "$$\\left[\\begin{matrix}-1 & 1 & 0 & \\frac{1}{12} & 0 & 0 & 1 & 0\\\\0 & -2 & -2 & \\frac{1}{3} & 0 & 1 & 0 & 0\\\\0 & 4 & -1 & 0 & 1 & 0 & 0 & 0\\\\2 & -1 & 3 & 0 & 0 & 0 & 0 & 1\\end{matrix}\\right]$$"
      ],
      "text/plain": [
       "⎡-1  1   0   1/12  0  0  1  0⎤\n",
       "⎢                            ⎥\n",
       "⎢0   -2  -2  1/3   0  1  0  0⎥\n",
       "⎢                            ⎥\n",
       "⎢0   4   -1   0    1  0  0  0⎥\n",
       "⎢                            ⎥\n",
       "⎣2   -1  3    0    0  0  0  1⎦"
      ]
     },
     "execution_count": 20,
     "metadata": {},
     "output_type": "execute_result"
    }
   ],
   "source": [
    "M1 = rop(M, 'R1<=>R3')\n",
    "M1"
   ]
  },
  {
   "cell_type": "code",
   "execution_count": 21,
   "metadata": {
    "collapsed": false
   },
   "outputs": [
    {
     "data": {
      "image/png": "[encoded data removed]",
      "text/latex": [
       "$$\\left[\\begin{matrix}1 & -1 & 0 & - \\frac{1}{12} & 0 & 0 & -1 & 0\\\\0 & -2 & -2 & \\frac{1}{3} & 0 & 1 & 0 & 0\\\\0 & 4 & -1 & 0 & 1 & 0 & 0 & 0\\\\2 & -1 & 3 & 0 & 0 & 0 & 0 & 1\\end{matrix}\\right]$$"
      ],
      "text/plain": [
       "⎡1  -1  0   -1/12  0  0  -1  0⎤\n",
       "⎢                             ⎥\n",
       "⎢0  -2  -2   1/3   0  1  0   0⎥\n",
       "⎢                             ⎥\n",
       "⎢0  4   -1    0    1  0  0   0⎥\n",
       "⎢                             ⎥\n",
       "⎣2  -1  3     0    0  0  0   1⎦"
      ]
     },
     "execution_count": 21,
     "metadata": {},
     "output_type": "execute_result"
    }
   ],
   "source": [
    "M2 = rop(M1, 'R1*(-1)=>R1')\n",
    "M2"
   ]
  },
  {
   "cell_type": "code",
   "execution_count": 22,
   "metadata": {
    "collapsed": false
   },
   "outputs": [
    {
     "data": {
      "image/png": "[encoded data removed]",
      "text/latex": [
       "$$\\left[\\begin{matrix}1 & -1 & 0 & - \\frac{1}{12} & 0 & 0 & -1 & 0\\\\0 & -2 & -2 & \\frac{1}{3} & 0 & 1 & 0 & 0\\\\0 & 4 & -1 & 0 & 1 & 0 & 0 & 0\\\\0 & 1 & 3 & \\frac{1}{6} & 0 & 0 & 2 & 1\\end{matrix}\\right]$$"
      ],
      "text/plain": [
       "⎡1  -1  0   -1/12  0  0  -1  0⎤\n",
       "⎢                             ⎥\n",
       "⎢0  -2  -2   1/3   0  1  0   0⎥\n",
       "⎢                             ⎥\n",
       "⎢0  4   -1    0    1  0  0   0⎥\n",
       "⎢                             ⎥\n",
       "⎣0  1   3    1/6   0  0  2   1⎦"
      ]
     },
     "execution_count": 22,
     "metadata": {},
     "output_type": "execute_result"
    }
   ],
   "source": [
    "M3 = rop(M2, 'R1*(-2)+R4=>R4')\n",
    "M3"
   ]
  },
  {
   "cell_type": "code",
   "execution_count": 23,
   "metadata": {
    "collapsed": false
   },
   "outputs": [
    {
     "data": {
      "image/png": "[encoded data removed]",
      "text/latex": [
       "$$\\left[\\begin{matrix}1 & -1 & 0 & - \\frac{1}{12} & 0 & 0 & -1 & 0\\\\0 & 1 & 1 & - \\frac{1}{6} & 0 & - \\frac{1}{2} & 0 & 0\\\\0 & 4 & -1 & 0 & 1 & 0 & 0 & 0\\\\0 & 1 & 3 & \\frac{1}{6} & 0 & 0 & 2 & 1\\end{matrix}\\right]$$"
      ],
      "text/plain": [
       "⎡1  -1  0   -1/12  0   0    -1  0⎤\n",
       "⎢                                ⎥\n",
       "⎢0  1   1   -1/6   0  -1/2  0   0⎥\n",
       "⎢                                ⎥\n",
       "⎢0  4   -1    0    1   0    0   0⎥\n",
       "⎢                                ⎥\n",
       "⎣0  1   3    1/6   0   0    2   1⎦"
      ]
     },
     "execution_count": 23,
     "metadata": {},
     "output_type": "execute_result"
    }
   ],
   "source": [
    "M4 = rop(M3, 'R2*(-1/2)=>R2')\n",
    "M4"
   ]
  },
  {
   "cell_type": "code",
   "execution_count": 24,
   "metadata": {
    "collapsed": false
   },
   "outputs": [
    {
     "data": {
      "image/png": "[encoded data removed]",
      "text/latex": [
       "$$\\left[\\begin{matrix}1 & 0 & 1 & - \\frac{1}{4} & 0 & - \\frac{1}{2} & -1 & 0\\\\0 & 1 & 1 & - \\frac{1}{6} & 0 & - \\frac{1}{2} & 0 & 0\\\\0 & 0 & -5 & \\frac{2}{3} & 1 & 2 & 0 & 0\\\\0 & 0 & 2 & \\frac{1}{3} & 0 & \\frac{1}{2} & 2 & 1\\end{matrix}\\right]$$"
      ],
      "text/plain": [
       "⎡1  0  1   -1/4  0  -1/2  -1  0⎤\n",
       "⎢                              ⎥\n",
       "⎢0  1  1   -1/6  0  -1/2  0   0⎥\n",
       "⎢                              ⎥\n",
       "⎢0  0  -5  2/3   1   2    0   0⎥\n",
       "⎢                              ⎥\n",
       "⎣0  0  2   1/3   0  1/2   2   1⎦"
      ]
     },
     "execution_count": 24,
     "metadata": {},
     "output_type": "execute_result"
    }
   ],
   "source": [
    "M5 = rop(M4, 'R2*(1)+R1=>R1', 'R2*(-4)+R3=>R3', 'R2*(-1)+R4=>R4')\n",
    "M5"
   ]
  },
  {
   "cell_type": "code",
   "execution_count": 25,
   "metadata": {
    "collapsed": false
   },
   "outputs": [
    {
     "data": {
      "image/png": "[encoded data removed]",
      "text/latex": [
       "$$\\left[\\begin{matrix}1 & 0 & 1 & - \\frac{1}{4} & 0 & - \\frac{1}{2} & -1 & 0\\\\0 & 1 & 1 & - \\frac{1}{6} & 0 & - \\frac{1}{2} & 0 & 0\\\\0 & 0 & 1 & - \\frac{2}{15} & - \\frac{1}{5} & - \\frac{2}{5} & 0 & 0\\\\0 & 0 & 2 & \\frac{1}{3} & 0 & \\frac{1}{2} & 2 & 1\\end{matrix}\\right]$$"
      ],
      "text/plain": [
       "⎡1  0  1  -1/4    0    -1/2  -1  0⎤\n",
       "⎢                                 ⎥\n",
       "⎢0  1  1  -1/6    0    -1/2  0   0⎥\n",
       "⎢                                 ⎥\n",
       "⎢0  0  1  -2/15  -1/5  -2/5  0   0⎥\n",
       "⎢                                 ⎥\n",
       "⎣0  0  2   1/3    0    1/2   2   1⎦"
      ]
     },
     "execution_count": 25,
     "metadata": {},
     "output_type": "execute_result"
    }
   ],
   "source": [
    "M6 = rop(M5, 'R3*(-1/5)=>R3')\n",
    "M6"
   ]
  },
  {
   "cell_type": "code",
   "execution_count": 26,
   "metadata": {
    "collapsed": false
   },
   "outputs": [
    {
     "data": {
      "image/png": "[encoded data removed]",
      "text/latex": [
       "$$\\left[\\begin{matrix}1 & 0 & 0 & - \\frac{7}{60} & \\frac{1}{5} & - \\frac{1}{10} & -1 & 0\\\\0 & 1 & 0 & - \\frac{1}{30} & \\frac{1}{5} & - \\frac{1}{10} & 0 & 0\\\\0 & 0 & 1 & - \\frac{2}{15} & - \\frac{1}{5} & - \\frac{2}{5} & 0 & 0\\\\0 & 0 & 0 & \\frac{3}{5} & \\frac{2}{5} & \\frac{13}{10} & 2 & 1\\end{matrix}\\right]$$"
      ],
      "text/plain": [
       "⎡1  0  0  -7/60  1/5   -1/10  -1  0⎤\n",
       "⎢                                  ⎥\n",
       "⎢0  1  0  -1/30  1/5   -1/10  0   0⎥\n",
       "⎢                                  ⎥\n",
       "⎢0  0  1  -2/15  -1/5  -2/5   0   0⎥\n",
       "⎢                                  ⎥\n",
       "⎢                       13         ⎥\n",
       "⎢0  0  0   3/5   2/5    ──    2   1⎥\n",
       "⎣                       10         ⎦"
      ]
     },
     "execution_count": 26,
     "metadata": {},
     "output_type": "execute_result"
    }
   ],
   "source": [
    "M7 = rop(M6, 'R3*(-1)+R1=>R1', 'R3*(-1)+R2=>R2', 'R3*(-2)+R4=>R4')\n",
    "M7"
   ]
  },
  {
   "cell_type": "code",
   "execution_count": 27,
   "metadata": {
    "collapsed": false
   },
   "outputs": [
    {
     "data": {
      "image/png": "[encoded data removed]",
      "text/latex": [
       "$$\\left[\\begin{matrix}1 & 0 & 0 & - \\frac{7}{60} & \\frac{1}{5} & - \\frac{1}{10} & -1 & 0\\\\0 & 1 & 0 & - \\frac{1}{30} & \\frac{1}{5} & - \\frac{1}{10} & 0 & 0\\\\0 & 0 & 1 & - \\frac{2}{15} & - \\frac{1}{5} & - \\frac{2}{5} & 0 & 0\\\\0 & 0 & 0 & 1 & \\frac{2}{3} & \\frac{13}{6} & \\frac{10}{3} & \\frac{5}{3}\\end{matrix}\\right]$$"
      ],
      "text/plain": [
       "⎡1  0  0  -7/60  1/5   -1/10   -1    0 ⎤\n",
       "⎢                                      ⎥\n",
       "⎢0  1  0  -1/30  1/5   -1/10   0     0 ⎥\n",
       "⎢                                      ⎥\n",
       "⎢0  0  1  -2/15  -1/5  -2/5    0     0 ⎥\n",
       "⎢                                      ⎥\n",
       "⎣0  0  0    1    2/3   13/6   10/3  5/3⎦"
      ]
     },
     "execution_count": 27,
     "metadata": {},
     "output_type": "execute_result"
    }
   ],
   "source": [
    "M8 = rop(M7, 'R4*(5/3)=>R4')\n",
    "M8"
   ]
  },
  {
   "cell_type": "code",
   "execution_count": 28,
   "metadata": {
    "collapsed": false
   },
   "outputs": [
    {
     "data": {
      "image/png": "[encoded data removed]",
      "text/latex": [
       "$$\\left[\\begin{matrix}1 & 0 & 0 & 0 & \\frac{5}{18} & \\frac{11}{72} & - \\frac{11}{18} & \\frac{7}{36}\\\\0 & 1 & 0 & 0 & \\frac{2}{9} & - \\frac{1}{36} & \\frac{1}{9} & \\frac{1}{18}\\\\0 & 0 & 1 & 0 & - \\frac{1}{9} & - \\frac{1}{9} & \\frac{4}{9} & \\frac{2}{9}\\\\0 & 0 & 0 & 1 & \\frac{2}{3} & \\frac{13}{6} & \\frac{10}{3} & \\frac{5}{3}\\end{matrix}\\right]$$"
      ],
      "text/plain": [
       "⎡                   11    -11       ⎤\n",
       "⎢1  0  0  0  5/18   ──    ────  7/36⎥\n",
       "⎢                   72     18       ⎥\n",
       "⎢                                   ⎥\n",
       "⎢0  1  0  0  2/9   -1/36  1/9   1/18⎥\n",
       "⎢                                   ⎥\n",
       "⎢0  0  1  0  -1/9  -1/9   4/9   2/9 ⎥\n",
       "⎢                                   ⎥\n",
       "⎣0  0  0  1  2/3   13/6   10/3  5/3 ⎦"
      ]
     },
     "execution_count": 28,
     "metadata": {},
     "output_type": "execute_result"
    }
   ],
   "source": [
    "M9 = rop(M8, 'R4*(7/60)+R1=>R1', 'R4*(1/30)+R2=>R2', 'R4*(2/15)+R3=>R3')\n",
    "M9"
   ]
  },
  {
   "cell_type": "markdown",
   "metadata": {},
   "source": [
    "The matrix that appears in the position originally holding the identity matrix is:"
   ]
  },
  {
   "cell_type": "code",
   "execution_count": 29,
   "metadata": {
    "collapsed": false
   },
   "outputs": [
    {
     "data": {
      "image/png": "[encoded data removed]",
      "text/latex": [
       "$$\\left[\\begin{matrix}\\frac{5}{18} & \\frac{11}{72} & - \\frac{11}{18} & \\frac{7}{36}\\\\\\frac{2}{9} & - \\frac{1}{36} & \\frac{1}{9} & \\frac{1}{18}\\\\- \\frac{1}{9} & - \\frac{1}{9} & \\frac{4}{9} & \\frac{2}{9}\\\\\\frac{2}{3} & \\frac{13}{6} & \\frac{10}{3} & \\frac{5}{3}\\end{matrix}\\right]$$"
      ],
      "text/plain": [
       "⎡       11    -11       ⎤\n",
       "⎢5/18   ──    ────  7/36⎥\n",
       "⎢       72     18       ⎥\n",
       "⎢                       ⎥\n",
       "⎢2/9   -1/36  1/9   1/18⎥\n",
       "⎢                       ⎥\n",
       "⎢-1/9  -1/9   4/9   2/9 ⎥\n",
       "⎢                       ⎥\n",
       "⎣2/3   13/6   10/3  5/3 ⎦"
      ]
     },
     "execution_count": 29,
     "metadata": {},
     "output_type": "execute_result"
    }
   ],
   "source": [
    "E = M9[:,4:8]\n",
    "E"
   ]
  },
  {
   "cell_type": "code",
   "execution_count": 30,
   "metadata": {
    "collapsed": false
   },
   "outputs": [
    {
     "data": {
      "image/png": "[encoded data removed]",
      "text/latex": [
       "$$\\left[\\begin{matrix}1 & 0 & 0 & 0\\\\0 & 1 & 0 & 0\\\\0 & 0 & 1 & 0\\\\0 & 0 & 0 & 1\\end{matrix}\\right]$$"
      ],
      "text/plain": [
       "⎡1  0  0  0⎤\n",
       "⎢          ⎥\n",
       "⎢0  1  0  0⎥\n",
       "⎢          ⎥\n",
       "⎢0  0  1  0⎥\n",
       "⎢          ⎥\n",
       "⎣0  0  0  1⎦"
      ]
     },
     "execution_count": 30,
     "metadata": {},
     "output_type": "execute_result"
    }
   ],
   "source": [
    "E*A"
   ]
  },
  {
   "cell_type": "code",
   "execution_count": 31,
   "metadata": {
    "collapsed": false
   },
   "outputs": [
    {
     "data": {
      "image/png": "[encoded data removed]",
      "text/latex": [
       "$$\\left[\\begin{matrix}1 & 0 & 0 & 0\\\\0 & 1 & 0 & 0\\\\0 & 0 & 1 & 0\\\\0 & 0 & 0 & 1\\end{matrix}\\right]$$"
      ],
      "text/plain": [
       "⎡1  0  0  0⎤\n",
       "⎢          ⎥\n",
       "⎢0  1  0  0⎥\n",
       "⎢          ⎥\n",
       "⎢0  0  1  0⎥\n",
       "⎢          ⎥\n",
       "⎣0  0  0  1⎦"
      ]
     },
     "execution_count": 31,
     "metadata": {},
     "output_type": "execute_result"
    }
   ],
   "source": [
    "A*E"
   ]
  },
  {
   "cell_type": "code",
   "execution_count": 32,
   "metadata": {
    "collapsed": false
   },
   "outputs": [
    {
     "data": {
      "image/png": "[encoded data removed]",
      "text/latex": [
       "$$\\left[\\begin{matrix}2\\\\-3\\\\5\\\\-1\\end{matrix}\\right]$$"
      ],
      "text/plain": [
       "⎡2 ⎤\n",
       "⎢  ⎥\n",
       "⎢-3⎥\n",
       "⎢  ⎥\n",
       "⎢5 ⎥\n",
       "⎢  ⎥\n",
       "⎣-1⎦"
      ]
     },
     "execution_count": 32,
     "metadata": {},
     "output_type": "execute_result"
    }
   ],
   "source": [
    "v = Matrix([2,-3,5,-1])\n",
    "v"
   ]
  },
  {
   "cell_type": "code",
   "execution_count": 33,
   "metadata": {
    "collapsed": false
   },
   "outputs": [
    {
     "data": {
      "image/png": "[encoded data removed]",
      "text/latex": [
       "$$\\left[\\begin{matrix}- \\frac{227}{72}\\\\\\frac{37}{36}\\\\\\frac{19}{9}\\\\\\frac{59}{6}\\end{matrix}\\right]$$"
      ],
      "text/plain": [
       "⎡-227 ⎤\n",
       "⎢─────⎥\n",
       "⎢  72 ⎥\n",
       "⎢     ⎥\n",
       "⎢ 37  ⎥\n",
       "⎢ ──  ⎥\n",
       "⎢ 36  ⎥\n",
       "⎢     ⎥\n",
       "⎢19/9 ⎥\n",
       "⎢     ⎥\n",
       "⎣59/6 ⎦"
      ]
     },
     "execution_count": 33,
     "metadata": {},
     "output_type": "execute_result"
    }
   ],
   "source": [
    "x = E * v\n",
    "x"
   ]
  },
  {
   "cell_type": "code",
   "execution_count": 34,
   "metadata": {
    "collapsed": false
   },
   "outputs": [
    {
     "data": {
      "image/png": "[encoded data removed]",
      "text/latex": [
       "$$\\left[\\begin{matrix}2\\\\-3\\\\5\\\\-1\\end{matrix}\\right]$$"
      ],
      "text/plain": [
       "⎡2 ⎤\n",
       "⎢  ⎥\n",
       "⎢-3⎥\n",
       "⎢  ⎥\n",
       "⎢5 ⎥\n",
       "⎢  ⎥\n",
       "⎣-1⎦"
      ]
     },
     "execution_count": 34,
     "metadata": {},
     "output_type": "execute_result"
    }
   ],
   "source": [
    "A * x"
   ]
  },
  {
   "cell_type": "code",
   "execution_count": null,
   "metadata": {
    "collapsed": true
   },
   "outputs": [],
   "source": []
  }
 ],
 "metadata": {
  "anaconda-cloud": {},
  "kernelspec": {
   "display_name": "Python [default]",
   "language": "python",
   "name": "python3"
  },
  "language_info": {
   "codemirror_mode": {
    "name": "ipython",
    "version": 3
   },
   "file_extension": ".py",
   "mimetype": "text/x-python",
   "name": "python",
   "nbconvert_exporter": "python",
   "pygments_lexer": "ipython3",
   "version": "3.5.2"
  }
 },
 "nbformat": 4,
 "nbformat_minor": 0
}
