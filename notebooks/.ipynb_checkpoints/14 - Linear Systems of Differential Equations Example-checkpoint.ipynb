{
 "cells": [
  {
   "cell_type": "code",
   "execution_count": 1,
   "metadata": {
    "collapsed": true
   },
   "outputs": [],
   "source": [
    "from sympy import *\n",
    "init_printing(use_latex=True)"
   ]
  },
  {
   "cell_type": "code",
   "execution_count": 2,
   "metadata": {
    "collapsed": true
   },
   "outputs": [],
   "source": [
    "%run rop.py"
   ]
  },
  {
   "cell_type": "markdown",
   "metadata": {},
   "source": [
    "# Linear Systems of Differential Equations\n",
    "\n",
    "In this notebook, we show how to solve the linear system of differential equations\n",
    "$$\n",
    "\\left[\\begin{matrix}-10 & 4 & 17\\\\6 & -5 & -14\\\\-8 & 4 & 15\\end{matrix}\\right]\n",
    "$$\n",
    "We first diagonalize the matrix $A$. Start by finding the eigenvalues of $A$:"
   ]
  },
  {
   "cell_type": "code",
   "execution_count": 3,
   "metadata": {
    "collapsed": false
   },
   "outputs": [
    {
     "data": {
      "image/png": "[encoded data removed]",
      "text/latex": [
       "$$\\left[\\begin{matrix}-10 & 4 & 17\\\\6 & -5 & -14\\\\-8 & 4 & 15\\end{matrix}\\right]$$"
      ],
      "text/plain": [
       "⎡-10  4   17 ⎤\n",
       "⎢            ⎥\n",
       "⎢ 6   -5  -14⎥\n",
       "⎢            ⎥\n",
       "⎣-8   4   15 ⎦"
      ]
     },
     "execution_count": 3,
     "metadata": {},
     "output_type": "execute_result"
    }
   ],
   "source": [
    "A = matrix_to_rational([[-10, 4, 17], [6, -5, -14], [-8, 4, 15]])\n",
    "A"
   ]
  },
  {
   "cell_type": "markdown",
   "metadata": {},
   "source": [
    "The characteristic polynomial of $A$ is:"
   ]
  },
  {
   "cell_type": "code",
   "execution_count": 4,
   "metadata": {
    "collapsed": false
   },
   "outputs": [
    {
     "data": {
      "image/png": "[encoded data removed]",
      "text/latex": [
       "$$- \\lambda^{3} + 7 \\lambda + 6$$"
      ],
      "text/plain": [
       "   3          \n",
       "- λ  + 7⋅λ + 6"
      ]
     },
     "execution_count": 4,
     "metadata": {},
     "output_type": "execute_result"
    }
   ],
   "source": [
    "lbd = symbols('lambda')\n",
    "f = det(A - lbd * eye(3))\n",
    "f"
   ]
  },
  {
   "cell_type": "code",
   "execution_count": 5,
   "metadata": {
    "collapsed": false
   },
   "outputs": [
    {
     "data": {
      "image/png": "[encoded data removed]",
      "text/latex": [
       "$$- \\left(\\lambda - 3\\right) \\left(\\lambda + 1\\right) \\left(\\lambda + 2\\right)$$"
      ],
      "text/plain": [
       "-(λ - 3)⋅(λ + 1)⋅(λ + 2)"
      ]
     },
     "execution_count": 5,
     "metadata": {},
     "output_type": "execute_result"
    }
   ],
   "source": [
    "factor(f)"
   ]
  },
  {
   "cell_type": "markdown",
   "metadata": {},
   "source": [
    "We conclude that the eigenvalues are $\\lambda_1=-2$, $\\lambda_2=-1$ and $\\lambda_3=3$. We now need to find a basis for the eigenspace of each eigenvalue. \n",
    "### $\\lambda_1=-2$"
   ]
  },
  {
   "cell_type": "code",
   "execution_count": 6,
   "metadata": {
    "collapsed": false
   },
   "outputs": [
    {
     "data": {
      "image/png": "[encoded data removed]",
      "text/latex": [
       "$$\\left[\\begin{matrix}-8 & 4 & 17\\\\6 & -3 & -14\\\\-8 & 4 & 17\\end{matrix}\\right]$$"
      ],
      "text/plain": [
       "⎡-8  4   17 ⎤\n",
       "⎢           ⎥\n",
       "⎢6   -3  -14⎥\n",
       "⎢           ⎥\n",
       "⎣-8  4   17 ⎦"
      ]
     },
     "execution_count": 6,
     "metadata": {},
     "output_type": "execute_result"
    }
   ],
   "source": [
    "B1 = A - (-2)*eye(3)\n",
    "B1"
   ]
  },
  {
   "cell_type": "code",
   "execution_count": 7,
   "metadata": {
    "collapsed": false
   },
   "outputs": [
    {
     "data": {
      "image/png": "[encoded data removed]",
      "text/latex": [
       "$$\\left[\\begin{matrix}1 & - \\frac{1}{2} & 0\\\\0 & 0 & 1\\\\0 & 0 & 0\\end{matrix}\\right]$$"
      ],
      "text/plain": [
       "⎡1  -1/2  0⎤\n",
       "⎢          ⎥\n",
       "⎢0   0    1⎥\n",
       "⎢          ⎥\n",
       "⎣0   0    0⎦"
      ]
     },
     "execution_count": 7,
     "metadata": {},
     "output_type": "execute_result"
    }
   ],
   "source": [
    "reduced_row_echelon(B1)"
   ]
  },
  {
   "cell_type": "markdown",
   "metadata": {},
   "source": [
    "The equations corresponding to the kernel of this matrix are:\n",
    "$$ x_1-\\frac{1}{2}x_2=0,\\quad x_3=0,$$\n",
    "and choosing $x_2=2$ we get the eigenvector:\n",
    "$$\n",
    "\\mathbf{v}_1=\\begin{bmatrix}1\\\\2\\\\0\\end{bmatrix}\n",
    "$$\n",
    "### $\\lambda_2=-1$"
   ]
  },
  {
   "cell_type": "code",
   "execution_count": 8,
   "metadata": {
    "collapsed": false
   },
   "outputs": [
    {
     "data": {
      "image/png": "[encoded data removed]",
      "text/latex": [
       "$$\\left[\\begin{matrix}-9 & 4 & 17\\\\6 & -4 & -14\\\\-8 & 4 & 16\\end{matrix}\\right]$$"
      ],
      "text/plain": [
       "⎡-9  4   17 ⎤\n",
       "⎢           ⎥\n",
       "⎢6   -4  -14⎥\n",
       "⎢           ⎥\n",
       "⎣-8  4   16 ⎦"
      ]
     },
     "execution_count": 8,
     "metadata": {},
     "output_type": "execute_result"
    }
   ],
   "source": [
    "B2 = A - (-1)*eye(3)\n",
    "B2"
   ]
  },
  {
   "cell_type": "code",
   "execution_count": 9,
   "metadata": {
    "collapsed": false
   },
   "outputs": [
    {
     "data": {
      "image/png": "[encoded data removed]",
      "text/latex": [
       "$$\\left[\\begin{matrix}1 & 0 & -1\\\\0 & 1 & 2\\\\0 & 0 & 0\\end{matrix}\\right]$$"
      ],
      "text/plain": [
       "⎡1  0  -1⎤\n",
       "⎢        ⎥\n",
       "⎢0  1  2 ⎥\n",
       "⎢        ⎥\n",
       "⎣0  0  0 ⎦"
      ]
     },
     "execution_count": 9,
     "metadata": {},
     "output_type": "execute_result"
    }
   ],
   "source": [
    "reduced_row_echelon(B2)"
   ]
  },
  {
   "cell_type": "markdown",
   "metadata": {},
   "source": [
    "The equations for a vector in the kernel are:\n",
    "$$x_1-x_3=0,\\quad x_2+2x_3=0$$\n",
    "so we choose $x_3=1$ to get the eigenvector:\n",
    "$$\n",
    "\\mathbf{v}_2 = \\begin{bmatrix}1\\\\-2\\\\1\\end{bmatrix}\n",
    "$$\n",
    "### $\\lambda_3=3$"
   ]
  },
  {
   "cell_type": "code",
   "execution_count": 10,
   "metadata": {
    "collapsed": false
   },
   "outputs": [
    {
     "data": {
      "image/png": "[encoded data removed]",
      "text/latex": [
       "$$\\left[\\begin{matrix}-13 & 4 & 17\\\\6 & -8 & -14\\\\-8 & 4 & 12\\end{matrix}\\right]$$"
      ],
      "text/plain": [
       "⎡-13  4   17 ⎤\n",
       "⎢            ⎥\n",
       "⎢ 6   -8  -14⎥\n",
       "⎢            ⎥\n",
       "⎣-8   4   12 ⎦"
      ]
     },
     "execution_count": 10,
     "metadata": {},
     "output_type": "execute_result"
    }
   ],
   "source": [
    "B3 = A - 3*eye(3)\n",
    "B3"
   ]
  },
  {
   "cell_type": "code",
   "execution_count": 11,
   "metadata": {
    "collapsed": false
   },
   "outputs": [
    {
     "data": {
      "image/png": "[encoded data removed]",
      "text/latex": [
       "$$\\left[\\begin{matrix}1 & 0 & -1\\\\0 & 1 & 1\\\\0 & 0 & 0\\end{matrix}\\right]$$"
      ],
      "text/plain": [
       "⎡1  0  -1⎤\n",
       "⎢        ⎥\n",
       "⎢0  1  1 ⎥\n",
       "⎢        ⎥\n",
       "⎣0  0  0 ⎦"
      ]
     },
     "execution_count": 11,
     "metadata": {},
     "output_type": "execute_result"
    }
   ],
   "source": [
    "reduced_row_echelon(B3)"
   ]
  },
  {
   "cell_type": "markdown",
   "metadata": {},
   "source": [
    "The equations for a vector in the kernel are:\n",
    "$$ x_1-x_3=0,\\quad x_2+x_3=0,$$\n",
    "and we can let $x_3=1$ to get the vector:\n",
    "$$\n",
    "\\mathbf{v}_3=\\begin{bmatrix}1\\\\-1\\\\1\\end{bmatrix}\n",
    "$$\n",
    "Now we form the matrix $P=[\\mathbf{v}_1,\\mathbf{v}_2,\\mathbf{v}_3]$"
   ]
  },
  {
   "cell_type": "code",
   "execution_count": 12,
   "metadata": {
    "collapsed": false
   },
   "outputs": [
    {
     "data": {
      "image/png": "[encoded data removed]",
      "text/latex": [
       "$$\\left[\\begin{matrix}1 & 1 & 1\\\\2 & -2 & -1\\\\0 & 1 & 1\\end{matrix}\\right]$$"
      ],
      "text/plain": [
       "⎡1  1   1 ⎤\n",
       "⎢         ⎥\n",
       "⎢2  -2  -1⎥\n",
       "⎢         ⎥\n",
       "⎣0  1   1 ⎦"
      ]
     },
     "execution_count": 12,
     "metadata": {},
     "output_type": "execute_result"
    }
   ],
   "source": [
    "P = matrix_to_rational([[1,1,1],[2,-2,-1],[0,1,1]])\n",
    "P"
   ]
  },
  {
   "cell_type": "markdown",
   "metadata": {},
   "source": [
    "We know that the matrix $P^{-1}AP$ is a diagonal matrix, with the eigenvalues of $A$ on the diagonal. Let's check that:"
   ]
  },
  {
   "cell_type": "code",
   "execution_count": 13,
   "metadata": {
    "collapsed": false
   },
   "outputs": [
    {
     "data": {
      "image/png": "[encoded data removed]",
      "text/latex": [
       "$$\\left[\\begin{matrix}-2 & 0 & 0\\\\0 & -1 & 0\\\\0 & 0 & 3\\end{matrix}\\right]$$"
      ],
      "text/plain": [
       "⎡-2  0   0⎤\n",
       "⎢         ⎥\n",
       "⎢0   -1  0⎥\n",
       "⎢         ⎥\n",
       "⎣0   0   3⎦"
      ]
     },
     "execution_count": 13,
     "metadata": {},
     "output_type": "execute_result"
    }
   ],
   "source": [
    "D = P**(-1) * A * P\n",
    "D"
   ]
  },
  {
   "cell_type": "markdown",
   "metadata": {},
   "source": [
    "Let's now go back to the system of differential equations. If we define the vector $\\mathbf{w}(t)$ by:\n",
    "$$\n",
    "\\mathbf{y}(t)=P\\mathbf{w}(t),\n",
    "$$\n",
    "we know that $\\mathbf{w}(t)$ is a solution of the decoupled system:\n",
    "$$\n",
    "\\mathbf{w}'(t)=D\\mathbf{w}(t)=\n",
    "\\begin{bmatrix}-2&0&0\\\\0&-1&0\\\\0&0&3\\end{bmatrix}\n",
    "$$\n",
    "which is:\n",
    "$$\n",
    "\\mathbf{w}(t)=\n",
    "\\begin{bmatrix}c_1e^{-2t}\\\\c_2e^{-t}\\\\c_3e^{3t}\\end{bmatrix}\n",
    "$$\n",
    "Let's define this:"
   ]
  },
  {
   "cell_type": "code",
   "execution_count": 27,
   "metadata": {
    "collapsed": false
   },
   "outputs": [
    {
     "data": {
      "image/png": "[encoded data removed]",
      "text/latex": [
       "$$\\left[\\begin{matrix}c_{1} e^{- 2 t}\\\\c_{2} e^{- t}\\\\c_{3} e^{3 t}\\end{matrix}\\right]$$"
      ],
      "text/plain": [
       "⎡    -2⋅t⎤\n",
       "⎢c₁⋅ℯ    ⎥\n",
       "⎢        ⎥\n",
       "⎢     -t ⎥\n",
       "⎢ c₂⋅ℯ   ⎥\n",
       "⎢        ⎥\n",
       "⎢    3⋅t ⎥\n",
       "⎣c₃⋅ℯ    ⎦"
      ]
     },
     "execution_count": 27,
     "metadata": {},
     "output_type": "execute_result"
    }
   ],
   "source": [
    "t, c1, c2, c3 = symbols('t,c_1,c_2,c_3')\n",
    "w = Matrix([c1*exp(-2*t), c2*exp(-t),c3*exp(3*t)])\n",
    "w"
   ]
  },
  {
   "cell_type": "markdown",
   "metadata": {},
   "source": [
    "The solution of the system of differential equations is then:"
   ]
  },
  {
   "cell_type": "code",
   "execution_count": 28,
   "metadata": {
    "collapsed": false
   },
   "outputs": [
    {
     "data": {
      "image/png": "[encoded data removed]",
      "text/latex": [
       "$$\\left[\\begin{matrix}c_{1} e^{- 2 t} + c_{2} e^{- t} + c_{3} e^{3 t}\\\\2 c_{1} e^{- 2 t} - 2 c_{2} e^{- t} - c_{3} e^{3 t}\\\\c_{2} e^{- t} + c_{3} e^{3 t}\\end{matrix}\\right]$$"
      ],
      "text/plain": [
       "⎡      -2⋅t       -t       3⋅t  ⎤\n",
       "⎢  c₁⋅ℯ     + c₂⋅ℯ   + c₃⋅ℯ     ⎥\n",
       "⎢                               ⎥\n",
       "⎢      -2⋅t         -t       3⋅t⎥\n",
       "⎢2⋅c₁⋅ℯ     - 2⋅c₂⋅ℯ   - c₃⋅ℯ   ⎥\n",
       "⎢                               ⎥\n",
       "⎢           -t       3⋅t        ⎥\n",
       "⎣       c₂⋅ℯ   + c₃⋅ℯ           ⎦"
      ]
     },
     "execution_count": 28,
     "metadata": {},
     "output_type": "execute_result"
    }
   ],
   "source": [
    "y = P * w\n",
    "y"
   ]
  },
  {
   "cell_type": "markdown",
   "metadata": {},
   "source": [
    "We can now check that this is indeed a solution of the system:"
   ]
  },
  {
   "cell_type": "code",
   "execution_count": 30,
   "metadata": {
    "collapsed": false
   },
   "outputs": [
    {
     "data": {
      "image/png": "[encoded data removed]",
      "text/latex": [
       "$$\\left[\\begin{matrix}0\\\\0\\\\0\\end{matrix}\\right]$$"
      ],
      "text/plain": [
       "⎡0⎤\n",
       "⎢ ⎥\n",
       "⎢0⎥\n",
       "⎢ ⎥\n",
       "⎣0⎦"
      ]
     },
     "execution_count": 30,
     "metadata": {},
     "output_type": "execute_result"
    }
   ],
   "source": [
    "y.diff(t) - A*y"
   ]
  },
  {
   "cell_type": "code",
   "execution_count": null,
   "metadata": {
    "collapsed": true
   },
   "outputs": [],
   "source": []
  }
 ],
 "metadata": {
  "kernelspec": {
   "display_name": "Python 3",
   "language": "python",
   "name": "python3"
  },
  "language_info": {
   "codemirror_mode": {
    "name": "ipython",
    "version": 3
   },
   "file_extension": ".py",
   "mimetype": "text/x-python",
   "name": "python",
   "nbconvert_exporter": "python",
   "pygments_lexer": "ipython3",
   "version": "3.5.1"
  }
 },
 "nbformat": 4,
 "nbformat_minor": 0
}
