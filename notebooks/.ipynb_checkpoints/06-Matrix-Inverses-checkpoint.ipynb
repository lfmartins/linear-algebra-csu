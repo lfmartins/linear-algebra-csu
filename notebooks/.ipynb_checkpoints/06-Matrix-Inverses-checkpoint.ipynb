{
 "cells": [
  {
   "cell_type": "code",
   "execution_count": 12,
   "metadata": {
    "collapsed": false
   },
   "outputs": [],
   "source": [
    "%run rop.py\n",
    "from sympy import *\n",
    "init_printing(use_latex=True) # If Latex is not installed, change to use_latex=False"
   ]
  },
  {
   "cell_type": "code",
   "execution_count": 29,
   "metadata": {
    "collapsed": false
   },
   "outputs": [
    {
     "data": {
      "image/png": "[encoded data removed]",
      "text/latex": [
       "$$\\left[\\begin{matrix}1 & 2 & -3 & 4\\\\2 & 1 & 3 & 3\\\\3 & 3 & 0 & 7\\\\2 & 2 & 5 & 5\\end{matrix}\\right]$$"
      ],
      "text/plain": [
       "⎡1  2  -3  4⎤\n",
       "⎢           ⎥\n",
       "⎢2  1  3   3⎥\n",
       "⎢           ⎥\n",
       "⎢3  3  0   7⎥\n",
       "⎢           ⎥\n",
       "⎣2  2  5   5⎦"
      ]
     },
     "execution_count": 29,
     "metadata": {},
     "output_type": "execute_result"
    }
   ],
   "source": [
    "A = matrix_to_rational([[1,2,-3,4],[2,1,3,3],[3,3,0,7],[2,2,5,5]])\n",
    "A"
   ]
  },
  {
   "cell_type": "code",
   "execution_count": 30,
   "metadata": {
    "collapsed": false
   },
   "outputs": [
    {
     "data": {
      "image/png": "[encoded data removed]",
      "text/latex": [
       "$$\\left[\\begin{matrix}1 & 2 & -3 & 4 & 1 & 0 & 0 & 0\\\\2 & 1 & 3 & 3 & 0 & 1 & 0 & 0\\\\3 & 3 & 0 & 7 & 0 & 0 & 1 & 0\\\\2 & 2 & 5 & 5 & 0 & 0 & 0 & 1\\end{matrix}\\right]$$"
      ],
      "text/plain": [
       "⎡1  2  -3  4  1  0  0  0⎤\n",
       "⎢                       ⎥\n",
       "⎢2  1  3   3  0  1  0  0⎥\n",
       "⎢                       ⎥\n",
       "⎢3  3  0   7  0  0  1  0⎥\n",
       "⎢                       ⎥\n",
       "⎣2  2  5   5  0  0  0  1⎦"
      ]
     },
     "execution_count": 30,
     "metadata": {},
     "output_type": "execute_result"
    }
   ],
   "source": [
    "M = A.col_insert(4, eye(4))\n",
    "M"
   ]
  },
  {
   "cell_type": "code",
   "execution_count": 32,
   "metadata": {
    "collapsed": false
   },
   "outputs": [
    {
     "data": {
      "image/png": "[encoded data removed]",
      "text/latex": [
       "$$\\left[\\begin{matrix}1 & 2 & -3 & 4 & 1 & 0 & 0 & 0\\\\0 & -3 & 9 & -5 & -2 & 1 & 0 & 0\\\\0 & -3 & 9 & -5 & -3 & 0 & 1 & 0\\\\0 & -2 & 11 & -3 & -2 & 0 & 0 & 1\\end{matrix}\\right]$$"
      ],
      "text/plain": [
       "⎡1  2   -3  4   1   0  0  0⎤\n",
       "⎢                          ⎥\n",
       "⎢0  -3  9   -5  -2  1  0  0⎥\n",
       "⎢                          ⎥\n",
       "⎢0  -3  9   -5  -3  0  1  0⎥\n",
       "⎢                          ⎥\n",
       "⎣0  -2  11  -3  -2  0  0  1⎦"
      ]
     },
     "execution_count": 32,
     "metadata": {},
     "output_type": "execute_result"
    }
   ],
   "source": [
    "M1 = rop(M, 'R1*(-2)+R2=>R2', 'R1*(-3)+R3=>R3', 'R1*(-2)+R4=>R4')\n",
    "M1"
   ]
  },
  {
   "cell_type": "code",
   "execution_count": 33,
   "metadata": {
    "collapsed": false
   },
   "outputs": [
    {
     "data": {
      "image/png": "[encoded data removed]",
      "text/latex": [
       "$$\\left[\\begin{matrix}1 & 2 & -3 & 4 & 1 & 0 & 0 & 0\\\\0 & 1 & -3 & \\frac{5}{3} & \\frac{2}{3} & - \\frac{1}{3} & 0 & 0\\\\0 & -3 & 9 & -5 & -3 & 0 & 1 & 0\\\\0 & -2 & 11 & -3 & -2 & 0 & 0 & 1\\end{matrix}\\right]$$"
      ],
      "text/plain": [
       "⎡1  2   -3   4    1    0    0  0⎤\n",
       "⎢                               ⎥\n",
       "⎢0  1   -3  5/3  2/3  -1/3  0  0⎥\n",
       "⎢                               ⎥\n",
       "⎢0  -3  9   -5   -3    0    1  0⎥\n",
       "⎢                               ⎥\n",
       "⎣0  -2  11  -3   -2    0    0  1⎦"
      ]
     },
     "execution_count": 33,
     "metadata": {},
     "output_type": "execute_result"
    }
   ],
   "source": [
    "M2 = rop(M1, 'R2*(-1/3)=>R2')\n",
    "M2"
   ]
  },
  {
   "cell_type": "code",
   "execution_count": 34,
   "metadata": {
    "collapsed": false
   },
   "outputs": [
    {
     "data": {
      "image/png": "[encoded data removed]",
      "text/latex": [
       "$$\\left[\\begin{matrix}1 & 0 & 3 & \\frac{2}{3} & - \\frac{1}{3} & \\frac{2}{3} & 0 & 0\\\\0 & 1 & -3 & \\frac{5}{3} & \\frac{2}{3} & - \\frac{1}{3} & 0 & 0\\\\0 & 0 & 0 & 0 & -1 & -1 & 1 & 0\\\\0 & 0 & 5 & \\frac{1}{3} & - \\frac{2}{3} & - \\frac{2}{3} & 0 & 1\\end{matrix}\\right]$$"
      ],
      "text/plain": [
       "⎡1  0  3   2/3  -1/3  2/3   0  0⎤\n",
       "⎢                               ⎥\n",
       "⎢0  1  -3  5/3  2/3   -1/3  0  0⎥\n",
       "⎢                               ⎥\n",
       "⎢0  0  0    0    -1    -1   1  0⎥\n",
       "⎢                               ⎥\n",
       "⎣0  0  5   1/3  -2/3  -2/3  0  1⎦"
      ]
     },
     "execution_count": 34,
     "metadata": {},
     "output_type": "execute_result"
    }
   ],
   "source": [
    "M3  = rop(M2, 'R2*(-2)+R1=>R1', 'R2*(3)+R3=>R3', 'R2*(2)+R4=>R4')\n",
    "M3"
   ]
  },
  {
   "cell_type": "code",
   "execution_count": 35,
   "metadata": {
    "collapsed": false
   },
   "outputs": [
    {
     "data": {
      "image/png": "[encoded data removed]",
      "text/latex": [
       "$$\\left[\\begin{matrix}1 & 0 & 3 & \\frac{2}{3} & - \\frac{1}{3} & \\frac{2}{3} & 0 & 0\\\\0 & 1 & -3 & \\frac{5}{3} & \\frac{2}{3} & - \\frac{1}{3} & 0 & 0\\\\0 & 0 & 5 & \\frac{1}{3} & - \\frac{2}{3} & - \\frac{2}{3} & 0 & 1\\\\0 & 0 & 0 & 0 & -1 & -1 & 1 & 0\\end{matrix}\\right]$$"
      ],
      "text/plain": [
       "⎡1  0  3   2/3  -1/3  2/3   0  0⎤\n",
       "⎢                               ⎥\n",
       "⎢0  1  -3  5/3  2/3   -1/3  0  0⎥\n",
       "⎢                               ⎥\n",
       "⎢0  0  5   1/3  -2/3  -2/3  0  1⎥\n",
       "⎢                               ⎥\n",
       "⎣0  0  0    0    -1    -1   1  0⎦"
      ]
     },
     "execution_count": 35,
     "metadata": {},
     "output_type": "execute_result"
    }
   ],
   "source": [
    "M4 = rop(M3,'R3<=>R4')\n",
    "M4"
   ]
  },
  {
   "cell_type": "code",
   "execution_count": 36,
   "metadata": {
    "collapsed": false
   },
   "outputs": [
    {
     "data": {
      "image/png": "[encoded data removed]",
      "text/latex": [
       "$$\\left[\\begin{matrix}1 & 0 & 3 & \\frac{2}{3} & - \\frac{1}{3} & \\frac{2}{3} & 0 & 0\\\\0 & 1 & -3 & \\frac{5}{3} & \\frac{2}{3} & - \\frac{1}{3} & 0 & 0\\\\0 & 0 & 1 & \\frac{1}{15} & - \\frac{2}{15} & - \\frac{2}{15} & 0 & \\frac{1}{5}\\\\0 & 0 & 0 & 0 & -1 & -1 & 1 & 0\\end{matrix}\\right]$$"
      ],
      "text/plain": [
       "⎡1  0  3   2/3   -1/3    2/3   0   0 ⎤\n",
       "⎢                                    ⎥\n",
       "⎢0  1  -3  5/3    2/3   -1/3   0   0 ⎥\n",
       "⎢                                    ⎥\n",
       "⎢0  0  1   1/15  -2/15  -2/15  0  1/5⎥\n",
       "⎢                                    ⎥\n",
       "⎣0  0  0    0     -1     -1    1   0 ⎦"
      ]
     },
     "execution_count": 36,
     "metadata": {},
     "output_type": "execute_result"
    }
   ],
   "source": [
    "M5 = rop(M4, 'R3*(1/5)=>R3')\n",
    "M5"
   ]
  },
  {
   "cell_type": "code",
   "execution_count": 37,
   "metadata": {
    "collapsed": false
   },
   "outputs": [
    {
     "data": {
      "image/png": "[encoded data removed]",
      "text/latex": [
       "$$\\left[\\begin{matrix}1 & 0 & 0 & \\frac{7}{15} & \\frac{1}{15} & \\frac{16}{15} & 0 & - \\frac{3}{5}\\\\0 & 1 & 0 & \\frac{28}{15} & \\frac{4}{15} & - \\frac{11}{15} & 0 & \\frac{3}{5}\\\\0 & 0 & 1 & \\frac{1}{15} & - \\frac{2}{15} & - \\frac{2}{15} & 0 & \\frac{1}{5}\\\\0 & 0 & 0 & 0 & -1 & -1 & 1 & 0\\end{matrix}\\right]$$"
      ],
      "text/plain": [
       "⎡                       16           ⎤\n",
       "⎢1  0  0  7/15  1/15    ──    0  -3/5⎥\n",
       "⎢                       15           ⎥\n",
       "⎢                                    ⎥\n",
       "⎢          28          -11           ⎥\n",
       "⎢0  1  0   ──   4/15   ────   0  3/5 ⎥\n",
       "⎢          15           15           ⎥\n",
       "⎢                                    ⎥\n",
       "⎢0  0  1  1/15  -2/15  -2/15  0  1/5 ⎥\n",
       "⎢                                    ⎥\n",
       "⎣0  0  0   0     -1     -1    1   0  ⎦"
      ]
     },
     "execution_count": 37,
     "metadata": {},
     "output_type": "execute_result"
    }
   ],
   "source": [
    "M6 = rop(M5, 'R3*(-3)+R1=>R1', 'R3*(3)+R2=>R2')\n",
    "M6"
   ]
  },
  {
   "cell_type": "code",
   "execution_count": 24,
   "metadata": {
    "collapsed": false
   },
   "outputs": [
    {
     "data": {
      "image/png": "[encoded data removed]",
      "text/latex": [
       "$$\\left[\\begin{matrix}1 & 0 & 0 & 0 & - \\frac{3}{11} & \\frac{37}{22} & \\frac{7}{22} & - \\frac{23}{22}\\\\0 & 1 & 0 & 0 & - \\frac{12}{11} & \\frac{19}{11} & \\frac{14}{11} & - \\frac{13}{11}\\\\0 & 0 & 1 & 0 & - \\frac{2}{11} & - \\frac{1}{22} & \\frac{1}{22} & \\frac{3}{22}\\\\0 & 0 & 0 & 1 & \\frac{8}{11} & - \\frac{29}{22} & - \\frac{15}{22} & \\frac{21}{22}\\end{matrix}\\right]$$"
      ],
      "text/plain": [
       "⎡                    37          -23 ⎤\n",
       "⎢1  0  0  0  -3/11   ──    7/22  ────⎥\n",
       "⎢                    22           22 ⎥\n",
       "⎢                                    ⎥\n",
       "⎢            -12     19     14   -13 ⎥\n",
       "⎢0  1  0  0  ────    ──     ──   ────⎥\n",
       "⎢             11     11     11    11 ⎥\n",
       "⎢                                    ⎥\n",
       "⎢0  0  1  0  -2/11  -1/22  1/22  3/22⎥\n",
       "⎢                                    ⎥\n",
       "⎢                   -29    -15    21 ⎥\n",
       "⎢0  0  0  1  8/11   ────   ────   ── ⎥\n",
       "⎣                    22     22    22 ⎦"
      ]
     },
     "execution_count": 24,
     "metadata": {},
     "output_type": "execute_result"
    }
   ],
   "source": [
    "M7 = rop(M6, 'R4*(-23/21)+R1=>R1','R4*(-26/21)+R2=>R2','R4*(1/7)+R3=>R3')\n",
    "M7"
   ]
  },
  {
   "cell_type": "code",
   "execution_count": 25,
   "metadata": {
    "collapsed": false
   },
   "outputs": [
    {
     "data": {
      "image/png": "[encoded data removed]",
      "text/latex": [
       "$$\\left[\\begin{matrix}- \\frac{3}{11} & \\frac{37}{22} & \\frac{7}{22} & - \\frac{23}{22}\\\\- \\frac{12}{11} & \\frac{19}{11} & \\frac{14}{11} & - \\frac{13}{11}\\\\- \\frac{2}{11} & - \\frac{1}{22} & \\frac{1}{22} & \\frac{3}{22}\\\\\\frac{8}{11} & - \\frac{29}{22} & - \\frac{15}{22} & \\frac{21}{22}\\end{matrix}\\right]$$"
      ],
      "text/plain": [
       "⎡        37          -23 ⎤\n",
       "⎢-3/11   ──    7/22  ────⎥\n",
       "⎢        22           22 ⎥\n",
       "⎢                        ⎥\n",
       "⎢-12     19     14   -13 ⎥\n",
       "⎢────    ──     ──   ────⎥\n",
       "⎢ 11     11     11    11 ⎥\n",
       "⎢                        ⎥\n",
       "⎢-2/11  -1/22  1/22  3/22⎥\n",
       "⎢                        ⎥\n",
       "⎢       -29    -15    21 ⎥\n",
       "⎢8/11   ────   ────   ── ⎥\n",
       "⎣        22     22    22 ⎦"
      ]
     },
     "execution_count": 25,
     "metadata": {},
     "output_type": "execute_result"
    }
   ],
   "source": [
    "Ainv = M7[:,4:]\n",
    "Ainv"
   ]
  },
  {
   "cell_type": "code",
   "execution_count": 26,
   "metadata": {
    "collapsed": false
   },
   "outputs": [
    {
     "data": {
      "image/png": "[encoded data removed]",
      "text/latex": [
       "$$\\left[\\begin{matrix}1 & 0 & 0 & 0\\\\0 & 1 & 0 & 0\\\\0 & 0 & 1 & 0\\\\0 & 0 & 0 & 1\\end{matrix}\\right]$$"
      ],
      "text/plain": [
       "⎡1  0  0  0⎤\n",
       "⎢          ⎥\n",
       "⎢0  1  0  0⎥\n",
       "⎢          ⎥\n",
       "⎢0  0  1  0⎥\n",
       "⎢          ⎥\n",
       "⎣0  0  0  1⎦"
      ]
     },
     "execution_count": 26,
     "metadata": {},
     "output_type": "execute_result"
    }
   ],
   "source": [
    "A * Ainv"
   ]
  },
  {
   "cell_type": "code",
   "execution_count": 27,
   "metadata": {
    "collapsed": false
   },
   "outputs": [
    {
     "data": {
      "image/png": "[encoded data removed]",
      "text/latex": [
       "$$\\left[\\begin{matrix}1 & 0 & 0 & 0\\\\0 & 1 & 0 & 0\\\\0 & 0 & 1 & 0\\\\0 & 0 & 0 & 1\\end{matrix}\\right]$$"
      ],
      "text/plain": [
       "⎡1  0  0  0⎤\n",
       "⎢          ⎥\n",
       "⎢0  1  0  0⎥\n",
       "⎢          ⎥\n",
       "⎢0  0  1  0⎥\n",
       "⎢          ⎥\n",
       "⎣0  0  0  1⎦"
      ]
     },
     "execution_count": 27,
     "metadata": {},
     "output_type": "execute_result"
    }
   ],
   "source": [
    "Ainv * A"
   ]
  },
  {
   "cell_type": "code",
   "execution_count": null,
   "metadata": {
    "collapsed": true
   },
   "outputs": [],
   "source": []
  }
 ],
 "metadata": {
  "kernelspec": {
   "display_name": "Python 3",
   "language": "python",
   "name": "python3"
  },
  "language_info": {
   "codemirror_mode": {
    "name": "ipython",
    "version": 3
   },
   "file_extension": ".py",
   "mimetype": "text/x-python",
   "name": "python",
   "nbconvert_exporter": "python",
   "pygments_lexer": "ipython3",
   "version": "3.4.3"
  }
 },
 "nbformat": 4,
 "nbformat_minor": 0
}
