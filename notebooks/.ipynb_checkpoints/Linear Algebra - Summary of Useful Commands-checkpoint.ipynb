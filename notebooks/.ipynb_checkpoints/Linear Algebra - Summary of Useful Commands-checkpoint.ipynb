{
 "cells": [
  {
   "cell_type": "code",
   "execution_count": 2,
   "metadata": {
    "collapsed": true
   },
   "outputs": [],
   "source": [
    "from latools import *\n",
    "from sympy import *\n",
    "init_printing(use_latex=True)"
   ]
  },
  {
   "cell_type": "markdown",
   "metadata": {},
   "source": [
    "# Gram-Schmidt\n",
    "\n",
    "__Input__: $\\{\\mathbf{u}_1,\\mathbf{u}_2,\\ldots,\\mathbf{u}_k\\}$ a linearly independent set of vectors in $\\mathbb{R}^n$\n",
    "\n",
    "__Output__: $\\{\\mathbf{v}_1,\\mathbf{v}_2,\\ldots,\\mathbf{v}_k\\}$, and orthogonal basis of $\\text{span}\\{\\mathbf{u}_1,\\mathbf{u}_2,\\ldots,\\mathbf{u}_k\\}$.\n",
    "\n",
    "__Algorithm__:\n",
    "\n",
    "- Let $\\mathbf{v}_1=\\mathbf{u}_1$\n",
    "- Let $\\displaystyle \\mathbf{v}_{j}=\\mathbf{u}_j-\n",
    "\\frac{\\mathbf{u}_j\\cdot \\mathbf{v}_1}{\\mathbf{v}_1\\cdot \\mathbf{v}_1}\\mathbf{v}_1-\n",
    "\\frac{\\mathbf{u}_j\\cdot \\mathbf{v}_2}{\\mathbf{v}_2\\cdot \\mathbf{v}_2}\\mathbf{v}_2-\\cdots-\n",
    "\\frac{\\mathbf{u}_j\\cdot \\mathbf{v}_{j-1}}{\\mathbf{v}_{j-1}\\cdot \\mathbf{v}_{j-1}}\\mathbf{v}_{j-1}$ for $j=2,\\ldots,k$\n",
    "\n",
    "The first three steps are, more explicitly:\n",
    "\n",
    "$$\n",
    "\\mathbf{v}_1=\\mathbf{u}_1\n",
    "$$\n",
    "\n",
    "$$\n",
    "\\mathbf{v}_2=\\mathbf{u}_2-\\frac{\\mathbf{u}_2\\cdot \\mathbf{v}_1}{\\mathbf{v}_1\\cdot \\mathbf{v}_1}\\mathbf{v}_1\n",
    "$$\n",
    "\n",
    "$$\n",
    "\\mathbf{v}_3=\\mathbf{u}_3-\n",
    "\\frac{\\mathbf{u}_3\\cdot \\mathbf{v}_1}{\\mathbf{v}_1\\cdot \\mathbf{v}_1}\\mathbf{v}_1-\n",
    "\\frac{\\mathbf{u}_3\\cdot \\mathbf{v}_2}{\\mathbf{v}_2\\cdot \\mathbf{v}_2}\\mathbf{v}_2\n",
    "$$\n"
   ]
  },
  {
   "cell_type": "markdown",
   "metadata": {
    "collapsed": true
   },
   "source": [
    "# Matrix operations\n",
    "\n",
    "## Matrix Input"
   ]
  },
  {
   "cell_type": "code",
   "execution_count": 4,
   "metadata": {
    "collapsed": false
   },
   "outputs": [
    {
     "data": {
      "image/png": "[encoded data removed]",
      "text/latex": [
       "$$\\left[\\begin{matrix}1 & 2 & 3\\\\4 & 5 & 6\\\\7 & 8 & 9\\end{matrix}\\right]$$"
      ],
      "text/plain": [
       "⎡1  2  3⎤\n",
       "⎢       ⎥\n",
       "⎢4  5  6⎥\n",
       "⎢       ⎥\n",
       "⎣7  8  9⎦"
      ]
     },
     "execution_count": 4,
     "metadata": {},
     "output_type": "execute_result"
    }
   ],
   "source": [
    "A = matrix_to_rational([[1,2,3],\n",
    "                        [4,5,6],\n",
    "                        [7,8,9]])\n",
    "A"
   ]
  },
  {
   "cell_type": "markdown",
   "metadata": {},
   "source": [
    "## Reduced row echelon form"
   ]
  },
  {
   "cell_type": "code",
   "execution_count": 13,
   "metadata": {
    "collapsed": false
   },
   "outputs": [
    {
     "data": {
      "image/png": "[encoded data removed]",
      "text/latex": [
       "$$\\left[\\begin{matrix}1 & 0 & -1\\\\0 & 1 & 2\\\\0 & 0 & 0\\end{matrix}\\right]$$"
      ],
      "text/plain": [
       "⎡1  0  -1⎤\n",
       "⎢        ⎥\n",
       "⎢0  1  2 ⎥\n",
       "⎢        ⎥\n",
       "⎣0  0  0 ⎦"
      ]
     },
     "execution_count": 13,
     "metadata": {},
     "output_type": "execute_result"
    }
   ],
   "source": [
    "R = reduced_row_echelon_form(A)\n",
    "R"
   ]
  },
  {
   "cell_type": "code",
   "execution_count": 16,
   "metadata": {
    "collapsed": false
   },
   "outputs": [
    {
     "data": {
      "image/png": "[encoded data removed]",
      "text/latex": [
       "$$\\left[\\begin{matrix}1 & 0 & -1 & - \\frac{5 x}{3} + \\frac{2 y}{3}\\\\0 & 1 & 2 & \\frac{4 x}{3} - \\frac{y}{3}\\\\0 & 0 & 0 & x - 2 y + z\\end{matrix}\\right]$$"
      ],
      "text/plain": [
       "⎡            5⋅x   2⋅y⎤\n",
       "⎢1  0  -1  - ─── + ───⎥\n",
       "⎢             3     3 ⎥\n",
       "⎢                     ⎥\n",
       "⎢            4⋅x   y  ⎥\n",
       "⎢0  1  2     ─── - ─  ⎥\n",
       "⎢             3    3  ⎥\n",
       "⎢                     ⎥\n",
       "⎣0  0  0   x - 2⋅y + z⎦"
      ]
     },
     "execution_count": 16,
     "metadata": {},
     "output_type": "execute_result"
    }
   ],
   "source": [
    "x,y,z = symbols('x,y,z')\n",
    "B = matrix_to_rational([[1,2,3,x],\n",
    "                        [4,5,6,y],\n",
    "                        [7,8,9,z]])\n",
    "# Ignore last column of augmented matrix\n",
    "R = reduced_row_echelon_form(B, extra_cols=1)\n",
    "R"
   ]
  },
  {
   "cell_type": "markdown",
   "metadata": {},
   "source": [
    "## Vector input"
   ]
  },
  {
   "cell_type": "code",
   "execution_count": 5,
   "metadata": {
    "collapsed": false
   },
   "outputs": [
    {
     "data": {
      "image/png": "[encoded data removed]",
      "text/latex": [
       "$$\\left[\\begin{matrix}1\\\\-1\\\\1\\end{matrix}\\right]$$"
      ],
      "text/plain": [
       "⎡1 ⎤\n",
       "⎢  ⎥\n",
       "⎢-1⎥\n",
       "⎢  ⎥\n",
       "⎣1 ⎦"
      ]
     },
     "execution_count": 5,
     "metadata": {},
     "output_type": "execute_result"
    }
   ],
   "source": [
    "v1 = Matrix([1,-1,1])\n",
    "v1"
   ]
  },
  {
   "cell_type": "markdown",
   "metadata": {},
   "source": [
    "## Vector with fractional entries"
   ]
  },
  {
   "cell_type": "code",
   "execution_count": 12,
   "metadata": {
    "collapsed": false
   },
   "outputs": [
    {
     "data": {
      "image/png": "[encoded data removed]",
      "text/latex": [
       "$$\\left[\\begin{matrix}\\frac{1}{2}\\\\- \\frac{2}{3}\\\\4\\end{matrix}\\right]$$"
      ],
      "text/plain": [
       "⎡1/2 ⎤\n",
       "⎢    ⎥\n",
       "⎢-2/3⎥\n",
       "⎢    ⎥\n",
       "⎣ 4  ⎦"
      ]
     },
     "execution_count": 12,
     "metadata": {},
     "output_type": "execute_result"
    }
   ],
   "source": [
    "v2 = Matrix([sympify('1/2'),sympify('-2/3'),4])\n",
    "v2"
   ]
  },
  {
   "cell_type": "markdown",
   "metadata": {},
   "source": [
    "# Matrix and vector operations"
   ]
  },
  {
   "cell_type": "code",
   "execution_count": 25,
   "metadata": {
    "collapsed": false
   },
   "outputs": [
    {
     "data": {
      "image/png": "[encoded data removed]",
      "text/latex": [
       "$$\\left[\\begin{matrix}2\\\\5\\\\8\\end{matrix}\\right]$$"
      ],
      "text/plain": [
       "⎡2⎤\n",
       "⎢ ⎥\n",
       "⎢5⎥\n",
       "⎢ ⎥\n",
       "⎣8⎦"
      ]
     },
     "execution_count": 25,
     "metadata": {},
     "output_type": "execute_result"
    }
   ],
   "source": [
    "# Multiplication\n",
    "A * v1"
   ]
  },
  {
   "cell_type": "code",
   "execution_count": 26,
   "metadata": {
    "collapsed": false
   },
   "outputs": [
    {
     "data": {
      "image/png": "[encoded data removed]",
      "text/latex": [
       "$$\\left[\\begin{matrix}\\frac{67}{6}\\\\\\frac{68}{3}\\\\\\frac{205}{6}\\end{matrix}\\right]$$"
      ],
      "text/plain": [
       "⎡67/6 ⎤\n",
       "⎢     ⎥\n",
       "⎢68/3 ⎥\n",
       "⎢     ⎥\n",
       "⎣205/6⎦"
      ]
     },
     "execution_count": 26,
     "metadata": {},
     "output_type": "execute_result"
    }
   ],
   "source": [
    "A * v2"
   ]
  },
  {
   "cell_type": "code",
   "execution_count": 31,
   "metadata": {
    "collapsed": false
   },
   "outputs": [
    {
     "data": {
      "image/png": "[encoded data removed]",
      "text/latex": [
       "$$0$$"
      ],
      "text/plain": [
       "0"
      ]
     },
     "execution_count": 31,
     "metadata": {},
     "output_type": "execute_result"
    }
   ],
   "source": [
    "# Determinant\n",
    "det(A)"
   ]
  },
  {
   "cell_type": "code",
   "execution_count": 27,
   "metadata": {
    "collapsed": false
   },
   "outputs": [
    {
     "data": {
      "image/png": "[encoded data removed]",
      "text/latex": [
       "$$\\left[\\begin{matrix}1 & \\frac{1}{2} & - \\frac{1}{2}\\\\-2 & - \\frac{3}{2} & \\frac{5}{2}\\\\0 & \\frac{1}{2} & - \\frac{1}{2}\\end{matrix}\\right]$$"
      ],
      "text/plain": [
       "⎡1   1/2   -1/2⎤\n",
       "⎢              ⎥\n",
       "⎢-2  -3/2  5/2 ⎥\n",
       "⎢              ⎥\n",
       "⎣0   1/2   -1/2⎦"
      ]
     },
     "execution_count": 27,
     "metadata": {},
     "output_type": "execute_result"
    }
   ],
   "source": [
    "# Inversion\n",
    "P = matrix_to_rational([[1,0,-1],\n",
    "                        [2,1,3],\n",
    "                        [2,1,1]])\n",
    "P**(-1)"
   ]
  },
  {
   "cell_type": "code",
   "execution_count": 28,
   "metadata": {
    "collapsed": false
   },
   "outputs": [
    {
     "data": {
      "image/png": "[encoded data removed]",
      "text/latex": [
       "$$\\left[\\begin{matrix}1 & 2 & 2\\\\0 & 1 & 1\\\\-1 & 3 & 1\\end{matrix}\\right]$$"
      ],
      "text/plain": [
       "⎡1   2  2⎤\n",
       "⎢        ⎥\n",
       "⎢0   1  1⎥\n",
       "⎢        ⎥\n",
       "⎣-1  3  1⎦"
      ]
     },
     "execution_count": 28,
     "metadata": {},
     "output_type": "execute_result"
    }
   ],
   "source": [
    "# Transposition\n",
    "P.T"
   ]
  },
  {
   "cell_type": "code",
   "execution_count": 29,
   "metadata": {
    "collapsed": false
   },
   "outputs": [
    {
     "data": {
      "image/png": "[encoded data removed]",
      "text/latex": [
       "$$\\frac{31}{6}$$"
      ],
      "text/plain": [
       "31/6"
      ]
     },
     "execution_count": 29,
     "metadata": {},
     "output_type": "execute_result"
    }
   ],
   "source": [
    "# Dot product\n",
    "v1.dot(v2)"
   ]
  },
  {
   "cell_type": "code",
   "execution_count": 30,
   "metadata": {
    "collapsed": false
   },
   "outputs": [
    {
     "data": {
      "image/png": "[encoded data removed]",
      "text/latex": [
       "$$\\sqrt{3}$$"
      ],
      "text/plain": [
       "√3"
      ]
     },
     "execution_count": 30,
     "metadata": {},
     "output_type": "execute_result"
    }
   ],
   "source": [
    "# Length (norm)\n",
    "v1.norm()"
   ]
  },
  {
   "cell_type": "code",
   "execution_count": null,
   "metadata": {
    "collapsed": true
   },
   "outputs": [],
   "source": []
  },
  {
   "cell_type": "code",
   "execution_count": null,
   "metadata": {
    "collapsed": true
   },
   "outputs": [],
   "source": []
  },
  {
   "cell_type": "code",
   "execution_count": null,
   "metadata": {
    "collapsed": true
   },
   "outputs": [],
   "source": []
  },
  {
   "cell_type": "code",
   "execution_count": null,
   "metadata": {
    "collapsed": true
   },
   "outputs": [],
   "source": []
  },
  {
   "cell_type": "code",
   "execution_count": null,
   "metadata": {
    "collapsed": true
   },
   "outputs": [],
   "source": []
  },
  {
   "cell_type": "code",
   "execution_count": null,
   "metadata": {
    "collapsed": true
   },
   "outputs": [],
   "source": []
  },
  {
   "cell_type": "code",
   "execution_count": null,
   "metadata": {
    "collapsed": true
   },
   "outputs": [],
   "source": []
  }
 ],
 "metadata": {
  "kernelspec": {
   "display_name": "Python 3",
   "language": "python",
   "name": "python3"
  },
  "language_info": {
   "codemirror_mode": {
    "name": "ipython",
    "version": 3
   },
   "file_extension": ".py",
   "mimetype": "text/x-python",
   "name": "python",
   "nbconvert_exporter": "python",
   "pygments_lexer": "ipython3",
   "version": "3.5.1"
  }
 },
 "nbformat": 4,
 "nbformat_minor": 0
}
