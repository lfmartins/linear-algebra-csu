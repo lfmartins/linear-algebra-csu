{
 "cells": [
  {
   "cell_type": "code",
   "execution_count": 1,
   "metadata": {
    "collapsed": true
   },
   "outputs": [],
   "source": [
    "from latools import *\n",
    "from sympy import *\n",
    "init_printing(use_latex=True)"
   ]
  },
  {
   "cell_type": "markdown",
   "metadata": {},
   "source": [
    "# Eigenvalues, Eigenvectors and Eigenspaces\n",
    "\n",
    "Let $L:\\mathbb{R}^n\\to\\mathbb{R}^n$. We will assume that $L$ is specified in terms of its matrix in the standard basis:\n",
    "$$\n",
    "L(\\mathbf{v})=A\\mathbf{v}\n",
    "$$\n",
    "where $A$ is a $n\\times n$ matrix.\n",
    "\n",
    "We say that the scalar $\\lambda$ is an _eigenvalue_ of $L$ (or $A$) if there is a nonzero vector $\\mathbf{v}$ such that:\n",
    "$$\n",
    "A\\mathbf{v}=\\lambda\\mathbf{v}\n",
    "$$\n",
    "Any nonzero vector $\\mathbf{v}$ for which the identity above is true is called an _eigenvector_ associated to $\\lambda$.\n",
    "\n",
    "The requirement $\\mathbf{v}\\ne0$ is extremely important, and leads to the following theorem, which is the starting step for finding eigenvalues and eigenvectors:\n",
    "\n",
    "__Theorem__. A scalar $\\lambda$ is an eigenvalue if any of the following three equivalent conditions hold:\n",
    "\n",
    "- $A-\\lambda I$ is singular.\n",
    "- $\\det(A-\\lambda I)=0$\n",
    "- The homogeneous system $(A-\\lambda I)\\mathbf{v}=\\mathbf{0}$ has infinitely many solutions.\n",
    "\n",
    "If $\\lambda$ is an eigenvalue, the solution set of the system:\n",
    "$$\n",
    "(A-\\lambda I)\\mathbf{v}=\\mathbf{0}\n",
    "$$\n",
    "is called the _eigenspace_ associated to $\\lambda$.\n",
    "\n",
    "The main goal of this notebook is to demonstrate how to find eigenvalues, eigenvectors and eigenspaces. The procedure is as follows:\n",
    "\n",
    "1. Compute $f(\\lambda)=\\det(A-\\lambda I)$. $f(\\lambda)$ is a polynomial of degree $n$ in the variable $\\lambda$, known as the _characteristic polynomial_ of the matrix $A$ (or the linear transformation $L$).\n",
    "2. Solve the equation $p(\\lambda)=0$. The solution will be a set of $n$ scalars: $\\lambda_1,\\lambda_2,\\ldots,\\lambda_n$. The set of solutions may have repeated zeros. It can also have complex zeros, but we will deal with these later.\n",
    "3. For each distinct $\\lambda_i$, solve the system $(A-\\lambda I)\\mathbf{v}=\\mathbf{0}$. The solution set of this system is the eigenspace associated to $\\lambda_i$, which we denote by $E(\\lambda_i)$. We are typically interested in finding a basis for this subspace.\n",
    "\n",
    "The rest of this notebook consists of examples of the whole procedure."
   ]
  },
  {
   "cell_type": "markdown",
   "metadata": {},
   "source": [
    "## Example 1\n",
    "\n",
    "Find the eigenvalues, eigenvectors and eigenspaces for the linear transformation $L:\\mathbb{R}^2\\to\\mathbb{R}^2$ given by:\n",
    "$$\n",
    "L\\left(\\begin{bmatrix}x\\\\y\\end{bmatrix}\\right)=\n",
    "\\begin{bmatrix}\n",
    "\\frac{4}{3}x-\\frac{10}{3}y\\\\\n",
    "-\\frac{5}{3}x-\\frac{1}{3}y\n",
    "\\end{bmatrix}\n",
    "$$\n",
    "\n",
    "_Solution_: We first write the linear transformation using matrix multiplication:\n",
    "$$\n",
    "L\\left(\\begin{bmatrix}x\\\\y\\end{bmatrix}\\right)=\n",
    "\\left[\\begin{matrix}\\frac{4}{3} & - \\frac{10}{3}\\\\- \\frac{5}{3} & - \\frac{1}{3}\\end{matrix}\\right]\n",
    "\\begin{bmatrix}x\\\\y\\end{bmatrix}\n",
    "$$\n",
    "We start by defining the matrix $A$:"
   ]
  },
  {
   "cell_type": "code",
   "execution_count": 2,
   "metadata": {
    "collapsed": false
   },
   "outputs": [
    {
     "data": {
      "image/png": "[encoded data removed]",
      "text/latex": [
       "$$\\left[\\begin{matrix}\\frac{4}{3} & - \\frac{10}{3}\\\\- \\frac{5}{3} & - \\frac{1}{3}\\end{matrix}\\right]$$"
      ],
      "text/plain": [
       "⎡4/3   -10/3⎤\n",
       "⎢           ⎥\n",
       "⎣-5/3  -1/3 ⎦"
      ]
     },
     "execution_count": 2,
     "metadata": {},
     "output_type": "execute_result"
    }
   ],
   "source": [
    "A = matrix_to_rational([[ 4/3, -10/3],\n",
    "                        [-5/3,  -1/3]])\n",
    "A"
   ]
  },
  {
   "cell_type": "markdown",
   "metadata": {},
   "source": [
    "Next compute the characteristic polynomial $p(\\lambda)=\\det(A-\\lambda I)$. Notice that the $2\\times 2$ identity matrix is denoted by `eye(2)`. Also notice that `lambda` is a reserved word in Python, so we use `lbd` for the symbolic variable $\\lambda$."
   ]
  },
  {
   "cell_type": "code",
   "execution_count": 3,
   "metadata": {
    "collapsed": false
   },
   "outputs": [
    {
     "data": {
      "image/png": "[encoded data removed]",
      "text/latex": [
       "$$\\lambda^{2} - \\lambda - 6$$"
      ],
      "text/plain": [
       " 2        \n",
       "λ  - λ - 6"
      ]
     },
     "execution_count": 3,
     "metadata": {},
     "output_type": "execute_result"
    }
   ],
   "source": [
    "lbd= symbols('lambda')\n",
    "p = det(A - lbd*eye(2))\n",
    "p"
   ]
  },
  {
   "cell_type": "markdown",
   "metadata": {},
   "source": [
    "To find the eigenvalues we factor $p$:"
   ]
  },
  {
   "cell_type": "code",
   "execution_count": 4,
   "metadata": {
    "collapsed": false
   },
   "outputs": [
    {
     "data": {
      "image/png": "[encoded data removed]",
      "text/latex": [
       "$$\\left(\\lambda - 3\\right) \\left(\\lambda + 2\\right)$$"
      ],
      "text/plain": [
       "(λ - 3)⋅(λ + 2)"
      ]
     },
     "execution_count": 4,
     "metadata": {},
     "output_type": "execute_result"
    }
   ],
   "source": [
    "factor(p)"
   ]
  },
  {
   "cell_type": "markdown",
   "metadata": {},
   "source": [
    "The eigenvalues are the solutions of $p(\\lambda)=0$:\n",
    "$$\n",
    "\\lambda_1=-2,\\quad\\lambda_2=3\n",
    "$$\n",
    "Next we need to find the eigenspace for each eigenvector:\n",
    "\n",
    "##### Eigenspace of $\\lambda_1=-2$:"
   ]
  },
  {
   "cell_type": "code",
   "execution_count": 5,
   "metadata": {
    "collapsed": false
   },
   "outputs": [
    {
     "data": {
      "image/png": "[encoded data removed]",
      "text/latex": [
       "$$\\left[\\begin{matrix}\\frac{10}{3} & - \\frac{10}{3}\\\\- \\frac{5}{3} & \\frac{5}{3}\\end{matrix}\\right]$$"
      ],
      "text/plain": [
       "⎡10/3  -10/3⎤\n",
       "⎢           ⎥\n",
       "⎣-5/3   5/3 ⎦"
      ]
     },
     "execution_count": 5,
     "metadata": {},
     "output_type": "execute_result"
    }
   ],
   "source": [
    "M = A - (-2)*eye(2)\n",
    "M"
   ]
  },
  {
   "cell_type": "code",
   "execution_count": 6,
   "metadata": {
    "collapsed": false
   },
   "outputs": [
    {
     "data": {
      "image/png": "[encoded data removed]",
      "text/latex": [
       "$$\\left[\\begin{matrix}1 & -1\\\\0 & 0\\end{matrix}\\right]$$"
      ],
      "text/plain": [
       "⎡1  -1⎤\n",
       "⎢     ⎥\n",
       "⎣0  0 ⎦"
      ]
     },
     "execution_count": 6,
     "metadata": {},
     "output_type": "execute_result"
    }
   ],
   "source": [
    "R = reduced_row_echelon_form(M)\n",
    "R"
   ]
  },
  {
   "cell_type": "markdown",
   "metadata": {},
   "source": [
    "The system corresponding to this matrix is:\n",
    "$$\n",
    "x-y=0\n",
    "$$\n",
    "This system has one free variable, $y$, so we get a single vector on the basis of the eigenspace, for example by letting $y=1$ and $x=1$\n",
    "$$\n",
    "\\left\\{\\begin{bmatrix}1\\\\1\\end{bmatrix}\\right\\}\n",
    "$$\n",
    "The eigenspace can be written as:\n",
    "$$\n",
    "E(-2)=\\left\\{c\\begin{bmatrix}1\\\\1\\end{bmatrix}\\,:\\,c\\in\\mathbb{R}\\right\\}\n",
    "$$"
   ]
  },
  {
   "cell_type": "markdown",
   "metadata": {},
   "source": [
    "##### Eigenspace of $\\lambda_2=3$:"
   ]
  },
  {
   "cell_type": "code",
   "execution_count": 7,
   "metadata": {
    "collapsed": false
   },
   "outputs": [
    {
     "data": {
      "image/png": "[encoded data removed]",
      "text/latex": [
       "$$\\left[\\begin{matrix}- \\frac{5}{3} & - \\frac{10}{3}\\\\- \\frac{5}{3} & - \\frac{10}{3}\\end{matrix}\\right]$$"
      ],
      "text/plain": [
       "⎡-5/3  -10/3⎤\n",
       "⎢           ⎥\n",
       "⎣-5/3  -10/3⎦"
      ]
     },
     "execution_count": 7,
     "metadata": {},
     "output_type": "execute_result"
    }
   ],
   "source": [
    "M = A - (3)*eye(2)\n",
    "M"
   ]
  },
  {
   "cell_type": "code",
   "execution_count": 8,
   "metadata": {
    "collapsed": false
   },
   "outputs": [
    {
     "data": {
      "image/png": "[encoded data removed]",
      "text/latex": [
       "$$\\left[\\begin{matrix}1 & 2\\\\0 & 0\\end{matrix}\\right]$$"
      ],
      "text/plain": [
       "⎡1  2⎤\n",
       "⎢    ⎥\n",
       "⎣0  0⎦"
      ]
     },
     "execution_count": 8,
     "metadata": {},
     "output_type": "execute_result"
    }
   ],
   "source": [
    "R = reduced_row_echelon_form(M)\n",
    "R"
   ]
  },
  {
   "cell_type": "markdown",
   "metadata": {},
   "source": [
    "The system corresponding to this matrix is:\n",
    "$$\n",
    "x+2y=0\n",
    "$$\n",
    "This system has one free variable, $y$, so we get a single vector on the basis of the eigenspace, for example by letting $y=1$ and $x=-2$\n",
    "$$\n",
    "\\left\\{\\begin{bmatrix}-2\\\\1\\end{bmatrix}\\right\\}\n",
    "$$\n",
    "The eigenspace can be written as:\n",
    "$$\n",
    "E(3)=\\left\\{c\\begin{bmatrix}-2\\\\1\\end{bmatrix}\\,:\\,c\\in\\mathbb{R}\\right\\}\n",
    "$$"
   ]
  },
  {
   "cell_type": "markdown",
   "metadata": {},
   "source": [
    "#### Summary of solution:\n",
    "\n",
    "$$\n",
    "\\text{Eigenvalue: }\\lambda_1=-2,\\quad \\text{Basis of eigenspace: }\\left\\{\\begin{bmatrix}-1\\\\1\\end{bmatrix}\\right\\}\n",
    "$$\n",
    "\n",
    "$$\n",
    "\\text{Eigenvalue: }\\lambda_2={3},\\quad \\text{Basis of eigenspace: }\\left\\{\\begin{bmatrix}-2\\\\1\\end{bmatrix}\\right\\}\n",
    "$$"
   ]
  },
  {
   "cell_type": "markdown",
   "metadata": {},
   "source": [
    "## Example 2:\n",
    "Find the eigenvalues and corresponding eigenspaces for the matrix:\n",
    "$$\n",
    "A=\\left[\\begin{matrix}14 & 6 & -2 & 4\\\\-6 & -1 & 2 & -1\\\\24 & 12 & -1 & 9\\\\-24 & -12 & 2 & -8\\end{matrix}\\right]\n",
    "$$\n",
    "\n",
    "_Solution_:"
   ]
  },
  {
   "cell_type": "code",
   "execution_count": 9,
   "metadata": {
    "collapsed": false
   },
   "outputs": [
    {
     "data": {
      "image/png": "[encoded data removed]",
      "text/latex": [
       "$$\\left[\\begin{matrix}14 & 6 & -2 & 4\\\\-6 & -1 & 2 & -1\\\\24 & 12 & -1 & 9\\\\-24 & -12 & 2 & -8\\end{matrix}\\right]$$"
      ],
      "text/plain": [
       "⎡14    6   -2  4 ⎤\n",
       "⎢                ⎥\n",
       "⎢-6   -1   2   -1⎥\n",
       "⎢                ⎥\n",
       "⎢24   12   -1  9 ⎥\n",
       "⎢                ⎥\n",
       "⎣-24  -12  2   -8⎦"
      ]
     },
     "execution_count": 9,
     "metadata": {},
     "output_type": "execute_result"
    }
   ],
   "source": [
    "A = matrix_to_rational([[ 14,   6, -2,  4],\n",
    "                        [ -6,  -1,  2, -1],\n",
    "                        [ 24,  12, -1,  9],\n",
    "                        [-24, -12,  2, -8]])\n",
    "A"
   ]
  },
  {
   "cell_type": "markdown",
   "metadata": {},
   "source": [
    "Characteristic polynomial"
   ]
  },
  {
   "cell_type": "code",
   "execution_count": 10,
   "metadata": {
    "collapsed": false
   },
   "outputs": [
    {
     "data": {
      "image/png": "[encoded data removed]",
      "text/latex": [
       "$$\\lambda^{4} - 4 \\lambda^{3} + 3 \\lambda^{2} + 4 \\lambda - 4$$"
      ],
      "text/plain": [
       " 4      3      2          \n",
       "λ  - 4⋅λ  + 3⋅λ  + 4⋅λ - 4"
      ]
     },
     "execution_count": 10,
     "metadata": {},
     "output_type": "execute_result"
    }
   ],
   "source": [
    "lbd=symbols('lambda')\n",
    "p = det(A - lbd*eye(4))\n",
    "p"
   ]
  },
  {
   "cell_type": "markdown",
   "metadata": {},
   "source": [
    "Factor the characteristic polynomial:"
   ]
  },
  {
   "cell_type": "code",
   "execution_count": 11,
   "metadata": {
    "collapsed": false
   },
   "outputs": [
    {
     "data": {
      "image/png": "[encoded data removed]",
      "text/latex": [
       "$$\\left(\\lambda - 2\\right)^{2} \\left(\\lambda - 1\\right) \\left(\\lambda + 1\\right)$$"
      ],
      "text/plain": [
       "       2                \n",
       "(λ - 2) ⋅(λ - 1)⋅(λ + 1)"
      ]
     },
     "execution_count": 11,
     "metadata": {},
     "output_type": "execute_result"
    }
   ],
   "source": [
    "factor(p)"
   ]
  },
  {
   "cell_type": "markdown",
   "metadata": {},
   "source": [
    "The eigenvalues are $\\lambda_1=-1$, $\\lambda_2=1$ and $\\lambda_3=2$.\n",
    "\n",
    "We now need to find the eigenspace of each eigenvalue:"
   ]
  },
  {
   "cell_type": "markdown",
   "metadata": {},
   "source": [
    "##### Eigenspace of $\\lambda_1=-1$"
   ]
  },
  {
   "cell_type": "code",
   "execution_count": 12,
   "metadata": {
    "collapsed": false
   },
   "outputs": [
    {
     "data": {
      "image/png": "[encoded data removed]",
      "text/latex": [
       "$$\\left[\\begin{matrix}15 & 6 & -2 & 4\\\\-6 & 0 & 2 & -1\\\\24 & 12 & 0 & 9\\\\-24 & -12 & 2 & -7\\end{matrix}\\right]$$"
      ],
      "text/plain": [
       "⎡15    6   -2  4 ⎤\n",
       "⎢                ⎥\n",
       "⎢-6    0   2   -1⎥\n",
       "⎢                ⎥\n",
       "⎢24   12   0   9 ⎥\n",
       "⎢                ⎥\n",
       "⎣-24  -12  2   -7⎦"
      ]
     },
     "execution_count": 12,
     "metadata": {},
     "output_type": "execute_result"
    }
   ],
   "source": [
    "M = A - (-1)*eye(4)\n",
    "M"
   ]
  },
  {
   "cell_type": "code",
   "execution_count": 13,
   "metadata": {
    "collapsed": false
   },
   "outputs": [
    {
     "data": {
      "image/png": "[encoded data removed]",
      "text/latex": [
       "$$\\left[\\begin{matrix}1 & 0 & 0 & \\frac{1}{2}\\\\0 & 1 & 0 & - \\frac{1}{4}\\\\0 & 0 & 1 & 1\\\\0 & 0 & 0 & 0\\end{matrix}\\right]$$"
      ],
      "text/plain": [
       "⎡1  0  0  1/2 ⎤\n",
       "⎢             ⎥\n",
       "⎢0  1  0  -1/4⎥\n",
       "⎢             ⎥\n",
       "⎢0  0  1   1  ⎥\n",
       "⎢             ⎥\n",
       "⎣0  0  0   0  ⎦"
      ]
     },
     "execution_count": 13,
     "metadata": {},
     "output_type": "execute_result"
    }
   ],
   "source": [
    "R = reduced_row_echelon_form(M)\n",
    "R"
   ]
  },
  {
   "cell_type": "markdown",
   "metadata": {},
   "source": [
    "The system corresponding to this matrix, using $x_1$, $x_2$, $x_3$, $x_4$ as variables:\n",
    "\\begin{align*}\n",
    "x_1+\\frac{1}{2}x_4&=0\\\\\n",
    "x_2-\\frac{1}{4}x_4&=0\\\\\n",
    "x_3+x_4&=0\n",
    "\\end{align*}\n",
    "There is one free variable, so the dimension of the eigenspace is 1. We get a basis by, for example, choosing $x_4=4$, which gives $x_1=-2$, $x_2=1$ and $x_3=-4$, so we get the basis:\n",
    "$$\n",
    "\\left\\{\\begin{bmatrix}-2\\\\1\\\\-4\\\\4\\end{bmatrix}\\right\\}\n",
    "$$\n",
    "The eigenspace is:\n",
    "$$\n",
    "E(-1)=\\left\\{c\\begin{bmatrix}-2\\\\1\\\\-4\\\\4\\end{bmatrix}\\,:\\,c\\in\\mathbb{R}\\right\\}\n",
    "$$"
   ]
  },
  {
   "cell_type": "markdown",
   "metadata": {},
   "source": [
    "##### Eigenspace of $\\lambda_2=1$:"
   ]
  },
  {
   "cell_type": "code",
   "execution_count": 14,
   "metadata": {
    "collapsed": false
   },
   "outputs": [
    {
     "data": {
      "image/png": "[encoded data removed]",
      "text/latex": [
       "$$\\left[\\begin{matrix}13 & 6 & -2 & 4\\\\-6 & -2 & 2 & -1\\\\24 & 12 & -2 & 9\\\\-24 & -12 & 2 & -9\\end{matrix}\\right]$$"
      ],
      "text/plain": [
       "⎡13    6   -2  4 ⎤\n",
       "⎢                ⎥\n",
       "⎢-6   -2   2   -1⎥\n",
       "⎢                ⎥\n",
       "⎢24   12   -2  9 ⎥\n",
       "⎢                ⎥\n",
       "⎣-24  -12  2   -9⎦"
      ]
     },
     "execution_count": 14,
     "metadata": {},
     "output_type": "execute_result"
    }
   ],
   "source": [
    "M = A - (1)*eye(4)\n",
    "M"
   ]
  },
  {
   "cell_type": "code",
   "execution_count": 15,
   "metadata": {
    "collapsed": false
   },
   "outputs": [
    {
     "data": {
      "image/png": "[encoded data removed]",
      "text/latex": [
       "$$\\left[\\begin{matrix}1 & 0 & 0 & 1\\\\0 & 1 & 0 & -1\\\\0 & 0 & 1 & \\frac{3}{2}\\\\0 & 0 & 0 & 0\\end{matrix}\\right]$$"
      ],
      "text/plain": [
       "⎡1  0  0   1 ⎤\n",
       "⎢            ⎥\n",
       "⎢0  1  0  -1 ⎥\n",
       "⎢            ⎥\n",
       "⎢0  0  1  3/2⎥\n",
       "⎢            ⎥\n",
       "⎣0  0  0   0 ⎦"
      ]
     },
     "execution_count": 15,
     "metadata": {},
     "output_type": "execute_result"
    }
   ],
   "source": [
    "R = reduced_row_echelon_form(M)\n",
    "R"
   ]
  },
  {
   "cell_type": "markdown",
   "metadata": {},
   "source": [
    "The equations now are:\n",
    "\\begin{align*}\n",
    "x_1+x_4&=0\\\\\n",
    "x_2-x_4&=0\\\\\n",
    "x_3+\\frac{3}{2}x_4&=0\n",
    "\\end{align*}\n",
    "The only free variable is $x_4$, so the eigenspace has dimension $1$. To get a basis of the eigenspace we can, for example, let $x_4=2$, so that $x_1=-2$, $x_2=2$ and $x_3=-3$. This gives the basis:\n",
    "$$\n",
    "\\left\\{\\begin{bmatrix}-2\\\\2\\\\-3\\\\2\\end{bmatrix}\\right\\}\n",
    "$$\n",
    "The eigenspace is then:\n",
    "$$\n",
    "E(1)=\\left\\{c\\begin{bmatrix}-2\\\\2\\\\-3\\\\2\\end{bmatrix}\\,:\\,c\\in\\mathbb{R}\\right\\}\n",
    "$$"
   ]
  },
  {
   "cell_type": "markdown",
   "metadata": {},
   "source": [
    "##### Eigenspace of $\\lambda_3=2$:"
   ]
  },
  {
   "cell_type": "code",
   "execution_count": 16,
   "metadata": {
    "collapsed": false
   },
   "outputs": [
    {
     "data": {
      "image/png": "[encoded data removed]",
      "text/latex": [
       "$$\\left[\\begin{matrix}12 & 6 & -2 & 4\\\\-6 & -3 & 2 & -1\\\\24 & 12 & -3 & 9\\\\-24 & -12 & 2 & -10\\end{matrix}\\right]$$"
      ],
      "text/plain": [
       "⎡12    6   -2   4 ⎤\n",
       "⎢                 ⎥\n",
       "⎢-6   -3   2   -1 ⎥\n",
       "⎢                 ⎥\n",
       "⎢24   12   -3   9 ⎥\n",
       "⎢                 ⎥\n",
       "⎣-24  -12  2   -10⎦"
      ]
     },
     "execution_count": 16,
     "metadata": {},
     "output_type": "execute_result"
    }
   ],
   "source": [
    "M = A - (2)*eye(4)\n",
    "M"
   ]
  },
  {
   "cell_type": "code",
   "execution_count": 17,
   "metadata": {
    "collapsed": false
   },
   "outputs": [
    {
     "data": {
      "image/png": "[encoded data removed]",
      "text/latex": [
       "$$\\left[\\begin{matrix}1 & \\frac{1}{2} & 0 & \\frac{1}{2}\\\\0 & 0 & 1 & 1\\\\0 & 0 & 0 & 0\\\\0 & 0 & 0 & 0\\end{matrix}\\right]$$"
      ],
      "text/plain": [
       "⎡1  1/2  0  1/2⎤\n",
       "⎢              ⎥\n",
       "⎢0   0   1   1 ⎥\n",
       "⎢              ⎥\n",
       "⎢0   0   0   0 ⎥\n",
       "⎢              ⎥\n",
       "⎣0   0   0   0 ⎦"
      ]
     },
     "execution_count": 17,
     "metadata": {},
     "output_type": "execute_result"
    }
   ],
   "source": [
    "R = reduced_row_echelon_form(M)\n",
    "R"
   ]
  },
  {
   "cell_type": "markdown",
   "metadata": {
    "collapsed": true
   },
   "source": [
    "The system is:\n",
    "\\begin{align*}\n",
    "x_1+\\frac{1}{2}x_2+\\frac{1}{2}x_4&=0\\\\\n",
    "x_3+x_4&=0\n",
    "\\end{align*}\n",
    "Now the system has _two_ free variables, $x_2$ and $x_4$, so the eigenspace will have dimension $2$, and we need two values in the basis. We do it in the \"standard\" way:\n",
    "\n",
    "Let $\\begin{bmatrix}x_2\\\\x_4\\end{bmatrix}=\\begin{bmatrix}1\\\\0\\end{bmatrix}$. Then $x_1=-\\frac{1}{2}$ and $x_3=0$. We get the vector:\n",
    "$$\n",
    "\\begin{bmatrix}-\\frac{1}{2}\\\\1\\\\0\\\\0\\end{bmatrix}\n",
    "$$\n",
    "\n",
    "Let $\\begin{bmatrix}x_2\\\\x_4\\end{bmatrix}=\\begin{bmatrix}0\\\\1\\end{bmatrix}$. Then $x_1=-\\frac{1}{2}$ and $x_3=-1$. We get the vector:\n",
    "$$\n",
    "\\begin{bmatrix}-\\frac{1}{2}\\\\0\\\\-1\\\\1\\end{bmatrix}\n",
    "$$\n",
    "We conclude that the basis of the eigenspace is:\n",
    "$$\n",
    "\\left\\{\\begin{bmatrix}-\\frac{1}{2}\\\\1\\\\0\\\\0\\end{bmatrix},\\begin{bmatrix}-\\frac{1}{2}\\\\0\\\\-1\\\\1\\end{bmatrix}\\right\\}\n",
    "$$\n",
    "So, the eigenspace is:\n",
    "$$\n",
    "\\left\\{\n",
    "c_1\\begin{bmatrix}-\\frac{1}{2}\\\\1\\\\0\\\\0\\end{bmatrix}+c_2\\begin{bmatrix}-\\frac{1}{2}\\\\0\\\\-1\\\\1\\end{bmatrix}\\,:\\,\n",
    "c_1,c_2\\in\\mathbb{R}\\right\\}\n",
    "$$"
   ]
  },
  {
   "cell_type": "markdown",
   "metadata": {},
   "source": [
    "##### Summary of solution:\n",
    "\n",
    "$$\\text{Eigenvalue: }\\lambda_1=-1 ,\\quad\\text{Basis of eigenspace: } \\left\\{\\begin{bmatrix}-2\\\\1\\\\-4\\\\4\\end{bmatrix}\\right\\}$$\n",
    "\n",
    "$$\\text{Eigenvalue: }\\lambda_2=1 ,\\quad\\text{Basis of eigenspace: } \\left\\{\\begin{bmatrix}-2\\\\2\\\\-3\\\\2\\end{bmatrix}\\right\\}$$\n",
    "\n",
    "$$\\text{Eigenvalue: }\\lambda_2=2 ,\\quad\\text{Basis of eigenspace: } \\left\\{\\begin{bmatrix}-\\frac{1}{2}\\\\1\\\\0\\\\0\\end{bmatrix},\\begin{bmatrix}-\\frac{1}{2}\\\\0\\\\-1\\\\1\\end{bmatrix}\\right\\}$$\n",
    "\n"
   ]
  },
  {
   "cell_type": "markdown",
   "metadata": {},
   "source": [
    "## Example 3\n",
    "\n",
    "Find all eigenvalues and corresponding eigenspaces for the matrix:\n",
    "$$\n",
    "A=\\left[\\begin{matrix}9 & 6 & 3\\\\-29 & -22 & -15\\\\27 & 22 & 17\\end{matrix}\\right]\n",
    "$$\n",
    "\n",
    "_Solution_:\n",
    "\n",
    "Define the matrix $A$, compute the characteristic polynomial and find its roots:"
   ]
  },
  {
   "cell_type": "code",
   "execution_count": 18,
   "metadata": {
    "collapsed": false
   },
   "outputs": [
    {
     "data": {
      "image/png": "[encoded data removed]",
      "text/latex": [
       "$$- \\lambda \\left(\\lambda - 2\\right)^{2}$$"
      ],
      "text/plain": [
       "          2\n",
       "-λ⋅(λ - 2) "
      ]
     },
     "execution_count": 18,
     "metadata": {},
     "output_type": "execute_result"
    }
   ],
   "source": [
    "A = matrix_to_rational([[  9,   6,   3],\n",
    "                        [-29, -22, -15],\n",
    "                        [ 27,  22,  17]])\n",
    "lbd=symbols('lambda')\n",
    "p = det(A - lbd*eye(3))\n",
    "factor(p)"
   ]
  },
  {
   "cell_type": "markdown",
   "metadata": {},
   "source": [
    "There are two eigenvalues: $\\lambda_1=0$ and $\\lambda_2=2$. \n",
    "\n",
    "Let's now find the eigenspace for each of the two eigenvalues."
   ]
  },
  {
   "cell_type": "markdown",
   "metadata": {},
   "source": [
    "##### Eigenspace of $\\lambda_1=0$"
   ]
  },
  {
   "cell_type": "code",
   "execution_count": 19,
   "metadata": {
    "collapsed": false
   },
   "outputs": [
    {
     "data": {
      "image/png": "[encoded data removed]",
      "text/latex": [
       "$$\\left[\\begin{matrix}1 & 0 & -1\\\\0 & 1 & 2\\\\0 & 0 & 0\\end{matrix}\\right]$$"
      ],
      "text/plain": [
       "⎡1  0  -1⎤\n",
       "⎢        ⎥\n",
       "⎢0  1  2 ⎥\n",
       "⎢        ⎥\n",
       "⎣0  0  0 ⎦"
      ]
     },
     "execution_count": 19,
     "metadata": {},
     "output_type": "execute_result"
    }
   ],
   "source": [
    "M = A - 0*eye(3)\n",
    "R = reduced_row_echelon_form(M)\n",
    "R"
   ]
  },
  {
   "cell_type": "markdown",
   "metadata": {},
   "source": [
    "The system corresponding to this matrix is:\n",
    "\\begin{align*}\n",
    "x_1-x_3&=0\\\\\n",
    "x_2+2x_3&=0\n",
    "\\end{align*}\n",
    "The system has one free variable, $x_3$, so the eigenspace has dimension $1$. We let $x_3=1$, and get $x_1=1$, $x_2=-2$, so a basis for the eigenspace is:\n",
    "$$\n",
    "\\left\\{\\begin{bmatrix}1\\\\-2\\\\1\\\\\\end{bmatrix}\\right\\}\n",
    "$$\n",
    "The eigenspace is:\n",
    "$$\n",
    "E(0)=\\left\\{c\\begin{bmatrix}1\\\\-2\\\\1\\\\\\end{bmatrix}\\;:\\;c\\in\\mathbb{R}\\right\\}\n",
    "$$"
   ]
  },
  {
   "cell_type": "markdown",
   "metadata": {},
   "source": [
    "##### Eigenspace of $\\lambda_2=2$"
   ]
  },
  {
   "cell_type": "code",
   "execution_count": 20,
   "metadata": {
    "collapsed": false
   },
   "outputs": [
    {
     "data": {
      "image/png": "[encoded data removed]",
      "text/latex": [
       "$$\\left[\\begin{matrix}1 & 0 & 3\\\\0 & 1 & -3\\\\0 & 0 & 0\\end{matrix}\\right]$$"
      ],
      "text/plain": [
       "⎡1  0  3 ⎤\n",
       "⎢        ⎥\n",
       "⎢0  1  -3⎥\n",
       "⎢        ⎥\n",
       "⎣0  0  0 ⎦"
      ]
     },
     "execution_count": 20,
     "metadata": {},
     "output_type": "execute_result"
    }
   ],
   "source": [
    "M = A - 2*eye(3)\n",
    "R = reduced_row_echelon_form(M)\n",
    "R"
   ]
  },
  {
   "cell_type": "markdown",
   "metadata": {},
   "source": [
    "The system correspoding to this matrix is:\n",
    "\\begin{align*}\n",
    "x_1+3x_3&=0\\\\\n",
    "x_2-3x_3&=0\n",
    "\\end{align*}\n",
    "There is one free variable, $x_3$, so the eigenspace has dimension 1. Letting $x_3=1$ we get $x_1=-3$ and $x_2=3$, so a basis of the eigenspace is:\n",
    "$$\n",
    "\\left\\{\\begin{bmatrix}-3\\\\3\\\\1\\end{bmatrix}\\right\\}\n",
    "$$\n",
    "The eigenspace is:\n",
    "$$\n",
    "\\left\\{c\\begin{bmatrix}-3\\\\3\\\\1\\end{bmatrix} \\,:\\, c\\in\\mathbb{R}\\right\\}\n",
    "$$"
   ]
  },
  {
   "cell_type": "markdown",
   "metadata": {},
   "source": [
    "##### Summary of solution:\n",
    "\n",
    "$$\\text{Eigenvalue: }\\lambda_1=0 ,\\quad\\text{Basis of eigenspace: } \n",
    "\\left\\{\\begin{bmatrix}1\\\\-2\\\\1\\\\\\end{bmatrix}\\right\\}$$\n",
    "\n",
    "$$\\text{Eigenvalue: }\\lambda_2=2 ,\\quad\\text{Basis of eigenspace: } \\left\\{\\begin{bmatrix}-3\\\\3\\\\1\\end{bmatrix}\\right\\}$$"
   ]
  },
  {
   "cell_type": "markdown",
   "metadata": {},
   "source": [
    "We notice an important aspect in which this example differs from the previous ones. The sum of the dimensions of the eigenspaces in this case is 2, which is smaller than the dimension of the whole vector space, $\\mathbb{R}^3$. As we will see, this has important consequences."
   ]
  },
  {
   "cell_type": "code",
   "execution_count": null,
   "metadata": {
    "collapsed": true
   },
   "outputs": [],
   "source": []
  }
 ],
 "metadata": {
  "anaconda-cloud": {},
  "kernelspec": {
   "display_name": "Python [default]",
   "language": "python",
   "name": "python3"
  },
  "language_info": {
   "codemirror_mode": {
    "name": "ipython",
    "version": 3
   },
   "file_extension": ".py",
   "mimetype": "text/x-python",
   "name": "python",
   "nbconvert_exporter": "python",
   "pygments_lexer": "ipython3",
   "version": "3.5.2"
  }
 },
 "nbformat": 4,
 "nbformat_minor": 0
}
