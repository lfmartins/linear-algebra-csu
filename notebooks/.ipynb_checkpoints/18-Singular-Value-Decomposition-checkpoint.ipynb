{
 "cells": [
  {
   "cell_type": "code",
   "execution_count": 1,
   "metadata": {
    "collapsed": true
   },
   "outputs": [],
   "source": [
    "from latools import *\n",
    "from sympy import *\n",
    "init_printing(use_latex=True)"
   ]
  },
  {
   "cell_type": "markdown",
   "metadata": {},
   "source": [
    "# A Simple Example\n",
    "\n",
    "As an example of the calculations needed to find the Singular Value Decomposition (SVD), let's consider the matrix:\n",
    "$$\n",
    "M=\\left[\\begin{matrix}3 & 2\\\\2 & 3\\\\2 & -2\\end{matrix}\\right]\n",
    "$$\n",
    "Since $M$ a $3\\times 2$ matrix, the associated linear transformation $L(\\mathbf{x})=M\\mathbf{x}$ has domain $\\mathbb{R^3}$ and codomain $\\mathbb{R}^2$. So, the goal of the SVD is to find:\n",
    "\n",
    "- An orthonormal basis $B$ of $\\mathbf{R^3}$. Denote by $P$ the matrix that has the vectors of $B$ as its columns.\n",
    "- An orthonormal basis $C$ of $\\mathbf{R^2}$. Denote by $Q$ the matrix that has the vectors of $C$ as ist columns.\n",
    "- The bases have the property that the matrix of $L$ from basis $B$ to basis $C$ has the form:\n",
    "$$\n",
    "D=Q^TMP\n",
    "$$\n",
    "where:\n",
    "$$\n",
    "D=\\begin{bmatrix}\\sqrt{\\lambda_1}&0\\\\0&\\sqrt{\\lambda_2}\\\\0&0\\end{bmatrix}\n",
    "$$\n",
    "$\\lambda_1$ and $\\lambda_2$ are the eigenvalues of the matrix $M^TM$. The singular values of $M$ are $\\sqrt{\\lambda_1}$ and $\\sqrt{\\lambda_2}$.\n",
    "\n",
    "Let's now see the steps needed to find the SVD:"
   ]
  },
  {
   "cell_type": "code",
   "execution_count": 2,
   "metadata": {
    "collapsed": false
   },
   "outputs": [
    {
     "data": {
      "image/png": "[encoded data removed]",
      "text/latex": [
       "$$\\left[\\begin{matrix}3 & 2\\\\2 & 3\\\\2 & -2\\end{matrix}\\right]$$"
      ],
      "text/plain": [
       "⎡3  2 ⎤\n",
       "⎢     ⎥\n",
       "⎢2  3 ⎥\n",
       "⎢     ⎥\n",
       "⎣2  -2⎦"
      ]
     },
     "execution_count": 2,
     "metadata": {},
     "output_type": "execute_result"
    }
   ],
   "source": [
    "M = matrix_to_rational([[3,2],\n",
    "                        [2,3],\n",
    "                        [2,-2]])\n",
    "M"
   ]
  },
  {
   "cell_type": "markdown",
   "metadata": {},
   "source": [
    "This is a $6\\times 3$ matrix, so we can use the singular value decomposition. \n",
    "\n",
    "__Step 1:__ Compute $A=M^TM$, find its eigenvalues and an orthonormal basis of eigenvectors:"
   ]
  },
  {
   "cell_type": "code",
   "execution_count": 3,
   "metadata": {
    "collapsed": false
   },
   "outputs": [
    {
     "data": {
      "image/png": "[encoded data removed]",
      "text/latex": [
       "$$\\left[\\begin{matrix}17 & 8\\\\8 & 17\\end{matrix}\\right]$$"
      ],
      "text/plain": [
       "⎡17  8 ⎤\n",
       "⎢      ⎥\n",
       "⎣8   17⎦"
      ]
     },
     "execution_count": 3,
     "metadata": {},
     "output_type": "execute_result"
    }
   ],
   "source": [
    "A = M.T * M\n",
    "A"
   ]
  },
  {
   "cell_type": "markdown",
   "metadata": {},
   "source": [
    "As expected, this is a symmetric $3\\times 3$ matrix. To find an orthonormal basis of $\\mathbb{R}^2$ that consists of eigenvectors of $A$, we start by computing the eigenvalues of $A$:"
   ]
  },
  {
   "cell_type": "code",
   "execution_count": 4,
   "metadata": {
    "collapsed": false
   },
   "outputs": [
    {
     "data": {
      "image/png": "[encoded data removed]",
      "text/latex": [
       "$$\\lambda^{2} - 34 \\lambda + 225$$"
      ],
      "text/plain": [
       " 2             \n",
       "λ  - 34⋅λ + 225"
      ]
     },
     "execution_count": 4,
     "metadata": {},
     "output_type": "execute_result"
    }
   ],
   "source": [
    "lbd = symbols('lambda')\n",
    "p = det(A - lbd * eye(2))\n",
    "p"
   ]
  },
  {
   "cell_type": "code",
   "execution_count": 5,
   "metadata": {
    "collapsed": false
   },
   "outputs": [
    {
     "data": {
      "image/png": "[encoded data removed]",
      "text/latex": [
       "$$\\left(\\lambda - 25\\right) \\left(\\lambda - 9\\right)$$"
      ],
      "text/plain": [
       "(λ - 25)⋅(λ - 9)"
      ]
     },
     "execution_count": 5,
     "metadata": {},
     "output_type": "execute_result"
    }
   ],
   "source": [
    "factor(p)"
   ]
  },
  {
   "cell_type": "markdown",
   "metadata": {},
   "source": [
    "The eigenvalues are $\\lambda_1=25$ and $\\lambda_2=9$. Notice that all eigenvalues are non-negative real numbers, as will always be the case.\n",
    "\n",
    "__Eigenspace associated to $\\lambda_1=25$:__"
   ]
  },
  {
   "cell_type": "code",
   "execution_count": 6,
   "metadata": {
    "collapsed": false
   },
   "outputs": [
    {
     "data": {
      "image/png": "[encoded data removed]",
      "text/latex": [
       "$$\\left[\\begin{matrix}1 & -1\\\\0 & 0\\end{matrix}\\right]$$"
      ],
      "text/plain": [
       "⎡1  -1⎤\n",
       "⎢     ⎥\n",
       "⎣0  0 ⎦"
      ]
     },
     "execution_count": 6,
     "metadata": {},
     "output_type": "execute_result"
    }
   ],
   "source": [
    "R = reduced_row_echelon_form(A - 25*eye(2))\n",
    "R"
   ]
  },
  {
   "cell_type": "markdown",
   "metadata": {},
   "source": [
    "This yields the system:\n",
    "$$\n",
    "x_1-x_2=0\n",
    "$$\n",
    "Letting $x_2=1$, we get $x_1=1$, and we get the eigenvector:\n",
    "$$\n",
    "\\begin{bmatrix}1\\\\1\\end{bmatrix}\n",
    "$$\n",
    "The first vector of our orthonormal basis is this vector, normalized to length 1, as computed in the next cell:"
   ]
  },
  {
   "cell_type": "code",
   "execution_count": 7,
   "metadata": {
    "collapsed": false
   },
   "outputs": [
    {
     "data": {
      "image/png": "[encoded data removed]",
      "text/latex": [
       "$$\\left[\\begin{matrix}\\frac{\\sqrt{2}}{2}\\\\\\frac{\\sqrt{2}}{2}\\end{matrix}\\right]$$"
      ],
      "text/plain": [
       "⎡√2⎤\n",
       "⎢──⎥\n",
       "⎢2 ⎥\n",
       "⎢  ⎥\n",
       "⎢√2⎥\n",
       "⎢──⎥\n",
       "⎣2 ⎦"
      ]
     },
     "execution_count": 7,
     "metadata": {},
     "output_type": "execute_result"
    }
   ],
   "source": [
    "v = Matrix([1,1])\n",
    "u1 = v / v.norm()\n",
    "u1"
   ]
  },
  {
   "cell_type": "markdown",
   "metadata": {},
   "source": [
    "__Eigenspace associated to $\\lambda_2=9$:__"
   ]
  },
  {
   "cell_type": "code",
   "execution_count": 8,
   "metadata": {
    "collapsed": false
   },
   "outputs": [
    {
     "data": {
      "image/png": "[encoded data removed]",
      "text/latex": [
       "$$\\left[\\begin{matrix}1 & 1\\\\0 & 0\\end{matrix}\\right]$$"
      ],
      "text/plain": [
       "⎡1  1⎤\n",
       "⎢    ⎥\n",
       "⎣0  0⎦"
      ]
     },
     "execution_count": 8,
     "metadata": {},
     "output_type": "execute_result"
    }
   ],
   "source": [
    "R = reduced_row_echelon_form(A - 9*eye(2))\n",
    "R"
   ]
  },
  {
   "cell_type": "markdown",
   "metadata": {},
   "source": [
    "This yields the system:\n",
    "$$\n",
    "x1+x2=0\n",
    "$$\n",
    "Letting $x2=-1$, we get $x1=1$, and we get the eigenvector:\n",
    "$$\n",
    "\\begin{bmatrix}1\\\\-1\\end{bmatrix}\n",
    "$$\n",
    "The second vector of our orthonormal basis is this vector, normalized to length 1, as computed in the next cell:"
   ]
  },
  {
   "cell_type": "code",
   "execution_count": 9,
   "metadata": {
    "collapsed": false
   },
   "outputs": [
    {
     "data": {
      "image/png": "[encoded data removed]",
      "text/latex": [
       "$$\\left[\\begin{matrix}\\frac{\\sqrt{2}}{2}\\\\- \\frac{\\sqrt{2}}{2}\\end{matrix}\\right]$$"
      ],
      "text/plain": [
       "⎡ √2 ⎤\n",
       "⎢ ── ⎥\n",
       "⎢ 2  ⎥\n",
       "⎢    ⎥\n",
       "⎢-√2 ⎥\n",
       "⎢────⎥\n",
       "⎣ 2  ⎦"
      ]
     },
     "execution_count": 9,
     "metadata": {},
     "output_type": "execute_result"
    }
   ],
   "source": [
    "v = Matrix([1,-1])\n",
    "u2 = v / v.norm()\n",
    "u2"
   ]
  },
  {
   "cell_type": "markdown",
   "metadata": {},
   "source": [
    "We conclude that the orthonormal basis of the domain of $\\mathbb{R}^2$ is $B=\\{\\mathbf{u}_1,\\mathbf{u}_2\\}$. The corresponding change of basis matrix is:"
   ]
  },
  {
   "cell_type": "code",
   "execution_count": 10,
   "metadata": {
    "collapsed": false
   },
   "outputs": [
    {
     "data": {
      "image/png": "[encoded data removed]",
      "text/latex": [
       "$$\\left[\\begin{matrix}\\frac{\\sqrt{2}}{2} & \\frac{\\sqrt{2}}{2}\\\\\\frac{\\sqrt{2}}{2} & - \\frac{\\sqrt{2}}{2}\\end{matrix}\\right]$$"
      ],
      "text/plain": [
       "⎡√2   √2 ⎤\n",
       "⎢──   ── ⎥\n",
       "⎢2    2  ⎥\n",
       "⎢        ⎥\n",
       "⎢√2  -√2 ⎥\n",
       "⎢──  ────⎥\n",
       "⎣2    2  ⎦"
      ]
     },
     "execution_count": 10,
     "metadata": {},
     "output_type": "execute_result"
    }
   ],
   "source": [
    "P = Matrix.hstack(u1,u2)\n",
    "P"
   ]
  },
  {
   "cell_type": "markdown",
   "metadata": {},
   "source": [
    "We can check that this is correct by computing:"
   ]
  },
  {
   "cell_type": "code",
   "execution_count": 11,
   "metadata": {
    "collapsed": false
   },
   "outputs": [
    {
     "data": {
      "image/png": "[encoded data removed]",
      "text/latex": [
       "$$\\left[\\begin{matrix}1 & 0\\\\0 & 1\\end{matrix}\\right]$$"
      ],
      "text/plain": [
       "⎡1  0⎤\n",
       "⎢    ⎥\n",
       "⎣0  1⎦"
      ]
     },
     "execution_count": 11,
     "metadata": {},
     "output_type": "execute_result"
    }
   ],
   "source": [
    "P.T * P"
   ]
  },
  {
   "cell_type": "code",
   "execution_count": 12,
   "metadata": {
    "collapsed": false
   },
   "outputs": [
    {
     "data": {
      "image/png": "[encoded data removed]",
      "text/latex": [
       "$$\\left[\\begin{matrix}25 & 0\\\\0 & 9\\end{matrix}\\right]$$"
      ],
      "text/plain": [
       "⎡25  0⎤\n",
       "⎢     ⎥\n",
       "⎣0   9⎦"
      ]
     },
     "execution_count": 12,
     "metadata": {},
     "output_type": "execute_result"
    }
   ],
   "source": [
    "P.T * A * P"
   ]
  },
  {
   "cell_type": "markdown",
   "metadata": {},
   "source": [
    "We now need to find an orthonormal basis of the codomain, $\\mathbb{R}^3$. The starting point is to compute:\n",
    "$$\n",
    "\\mathbf{v}_i=\\frac{M\\mathbf{u}_i}{\\sqrt{\\lambda_i}}\n",
    "$$\n",
    "for all vectors $\\mathbf{u}_i$ of the orthonormal basis $B$:"
   ]
  },
  {
   "cell_type": "code",
   "execution_count": 13,
   "metadata": {
    "collapsed": false
   },
   "outputs": [],
   "source": [
    "v1 = M * u1 / sqrt(25)\n",
    "v2 = M * u2 / sqrt(9)"
   ]
  },
  {
   "cell_type": "code",
   "execution_count": 14,
   "metadata": {
    "collapsed": false
   },
   "outputs": [
    {
     "data": {
      "image/png": "[encoded data removed]",
      "text/latex": [
       "$$\\left[\\begin{matrix}\\frac{\\sqrt{2}}{2}\\\\\\frac{\\sqrt{2}}{2}\\\\0\\end{matrix}\\right]$$"
      ],
      "text/plain": [
       "⎡√2⎤\n",
       "⎢──⎥\n",
       "⎢2 ⎥\n",
       "⎢  ⎥\n",
       "⎢√2⎥\n",
       "⎢──⎥\n",
       "⎢2 ⎥\n",
       "⎢  ⎥\n",
       "⎣0 ⎦"
      ]
     },
     "execution_count": 14,
     "metadata": {},
     "output_type": "execute_result"
    }
   ],
   "source": [
    "v1"
   ]
  },
  {
   "cell_type": "code",
   "execution_count": 15,
   "metadata": {
    "collapsed": false
   },
   "outputs": [
    {
     "data": {
      "image/png": "[encoded data removed]",
      "text/latex": [
       "$$\\left[\\begin{matrix}\\frac{\\sqrt{2}}{6}\\\\- \\frac{\\sqrt{2}}{6}\\\\\\frac{2 \\sqrt{2}}{3}\\end{matrix}\\right]$$"
      ],
      "text/plain": [
       "⎡ √2 ⎤\n",
       "⎢ ── ⎥\n",
       "⎢ 6  ⎥\n",
       "⎢    ⎥\n",
       "⎢-√2 ⎥\n",
       "⎢────⎥\n",
       "⎢ 6  ⎥\n",
       "⎢    ⎥\n",
       "⎢2⋅√2⎥\n",
       "⎢────⎥\n",
       "⎣ 3  ⎦"
      ]
     },
     "execution_count": 15,
     "metadata": {},
     "output_type": "execute_result"
    }
   ],
   "source": [
    "v2"
   ]
  },
  {
   "cell_type": "markdown",
   "metadata": {},
   "source": [
    "The set $\\{\\mathbf{v}_1,\\mathbf{v}_2\\}$ is an orthonormal set, as verified in the following computational cells."
   ]
  },
  {
   "cell_type": "code",
   "execution_count": 16,
   "metadata": {
    "collapsed": false
   },
   "outputs": [
    {
     "data": {
      "image/png": "[encoded data removed]",
      "text/latex": [
       "$$0$$"
      ],
      "text/plain": [
       "0"
      ]
     },
     "execution_count": 16,
     "metadata": {},
     "output_type": "execute_result"
    }
   ],
   "source": [
    "v1.dot(v2)"
   ]
  },
  {
   "cell_type": "code",
   "execution_count": 17,
   "metadata": {
    "collapsed": false
   },
   "outputs": [
    {
     "data": {
      "image/png": "[encoded data removed]",
      "text/latex": [
       "$$1$$"
      ],
      "text/plain": [
       "1"
      ]
     },
     "execution_count": 17,
     "metadata": {},
     "output_type": "execute_result"
    }
   ],
   "source": [
    "v1.norm()"
   ]
  },
  {
   "cell_type": "code",
   "execution_count": 18,
   "metadata": {
    "collapsed": false
   },
   "outputs": [
    {
     "data": {
      "image/png": "[encoded data removed]",
      "text/latex": [
       "$$1$$"
      ],
      "text/plain": [
       "1"
      ]
     },
     "execution_count": 18,
     "metadata": {},
     "output_type": "execute_result"
    }
   ],
   "source": [
    "v2.norm()"
   ]
  },
  {
   "cell_type": "markdown",
   "metadata": {},
   "source": [
    "We now need to complete  $\\{\\mathbf{v}_1,\\mathbf{v}_2\\}$ to an orthonormal basis of $\\mathbb{R}^3$. We need to find one more vector for the basis, which can be done by using the Gram-Schmidt procedure as follows:"
   ]
  },
  {
   "cell_type": "code",
   "execution_count": 19,
   "metadata": {
    "collapsed": false
   },
   "outputs": [
    {
     "data": {
      "image/png": "[encoded data removed]",
      "text/latex": [
       "$$\\left[\\begin{matrix}\\frac{2}{3}\\\\- \\frac{2}{3}\\\\- \\frac{1}{3}\\end{matrix}\\right]$$"
      ],
      "text/plain": [
       "⎡2/3 ⎤\n",
       "⎢    ⎥\n",
       "⎢-2/3⎥\n",
       "⎢    ⎥\n",
       "⎣-1/3⎦"
      ]
     },
     "execution_count": 19,
     "metadata": {},
     "output_type": "execute_result"
    }
   ],
   "source": [
    "v = Matrix([1,0,0])\n",
    "v3 = v - v.dot(v1) / v1.dot(v1) * v1 - v.dot(v2) / v2.dot(v2) * v2\n",
    "v3 = v3 / v3.norm()\n",
    "v3"
   ]
  },
  {
   "cell_type": "markdown",
   "metadata": {},
   "source": [
    "The following cell finishes the check that $\\{\\mathbf{v}_1,\\mathbf{v}_2,\\mathbf{v}_3\\}$ is an orthonormal basis of $\\mathbb{R}^3$:"
   ]
  },
  {
   "cell_type": "code",
   "execution_count": 20,
   "metadata": {
    "collapsed": false
   },
   "outputs": [
    {
     "data": {
      "image/png": "[encoded data removed]",
      "text/latex": [
       "$$\\left ( 0, \\quad 0, \\quad 1\\right )$$"
      ],
      "text/plain": [
       "(0, 0, 1)"
      ]
     },
     "execution_count": 20,
     "metadata": {},
     "output_type": "execute_result"
    }
   ],
   "source": [
    "v1.dot(v3), v2.dot(v3), v3.dot(v3)"
   ]
  },
  {
   "cell_type": "markdown",
   "metadata": {},
   "source": [
    "Let's now compute the change of basis matrix for the basis $\\{\\mathbf{v}_1,\\mathbf{v}_2,\\mathbf{v}_3\\}$:"
   ]
  },
  {
   "cell_type": "code",
   "execution_count": 21,
   "metadata": {
    "collapsed": false
   },
   "outputs": [
    {
     "data": {
      "image/png": "[encoded data removed]",
      "text/latex": [
       "$$\\left[\\begin{matrix}\\frac{\\sqrt{2}}{2} & \\frac{\\sqrt{2}}{6} & \\frac{2}{3}\\\\\\frac{\\sqrt{2}}{2} & - \\frac{\\sqrt{2}}{6} & - \\frac{2}{3}\\\\0 & \\frac{2 \\sqrt{2}}{3} & - \\frac{1}{3}\\end{matrix}\\right]$$"
      ],
      "text/plain": [
       "⎡√2   √2       ⎤\n",
       "⎢──   ──   2/3 ⎥\n",
       "⎢2    6        ⎥\n",
       "⎢              ⎥\n",
       "⎢√2  -√2       ⎥\n",
       "⎢──  ────  -2/3⎥\n",
       "⎢2    6        ⎥\n",
       "⎢              ⎥\n",
       "⎢    2⋅√2      ⎥\n",
       "⎢0   ────  -1/3⎥\n",
       "⎣     3        ⎦"
      ]
     },
     "execution_count": 21,
     "metadata": {},
     "output_type": "execute_result"
    }
   ],
   "source": [
    "Q = Matrix.hstack(v1,v2,v3)\n",
    "Q"
   ]
  },
  {
   "cell_type": "markdown",
   "metadata": {},
   "source": [
    "This should be an orthogonal matrix:"
   ]
  },
  {
   "cell_type": "code",
   "execution_count": 22,
   "metadata": {
    "collapsed": false
   },
   "outputs": [
    {
     "data": {
      "image/png": "[encoded data removed]",
      "text/latex": [
       "$$\\left[\\begin{matrix}1 & 0 & 0\\\\0 & 1 & 0\\\\0 & 0 & 1\\end{matrix}\\right]$$"
      ],
      "text/plain": [
       "⎡1  0  0⎤\n",
       "⎢       ⎥\n",
       "⎢0  1  0⎥\n",
       "⎢       ⎥\n",
       "⎣0  0  1⎦"
      ]
     },
     "execution_count": 22,
     "metadata": {},
     "output_type": "execute_result"
    }
   ],
   "source": [
    "Q.T*Q"
   ]
  },
  {
   "cell_type": "markdown",
   "metadata": {},
   "source": [
    "We can now check that\n",
    "$$\n",
    "Q^TMP=\\begin{bmatrix}\\sqrt{\\lambda_1}&0\\\\0&\\sqrt{\\lambda_2}\\\\0&0\\end{bmatrix}\n",
    "$$"
   ]
  },
  {
   "cell_type": "code",
   "execution_count": 23,
   "metadata": {
    "collapsed": false
   },
   "outputs": [
    {
     "data": {
      "image/png": "[encoded data removed]",
      "text/latex": [
       "$$\\left[\\begin{matrix}5 & 0\\\\0 & 3\\\\0 & 0\\end{matrix}\\right]$$"
      ],
      "text/plain": [
       "⎡5  0⎤\n",
       "⎢    ⎥\n",
       "⎢0  3⎥\n",
       "⎢    ⎥\n",
       "⎣0  0⎦"
      ]
     },
     "execution_count": 23,
     "metadata": {},
     "output_type": "execute_result"
    }
   ],
   "source": [
    "Q.T * M * P"
   ]
  },
  {
   "cell_type": "code",
   "execution_count": null,
   "metadata": {
    "collapsed": true
   },
   "outputs": [],
   "source": []
  }
 ],
 "metadata": {
  "anaconda-cloud": {},
  "kernelspec": {
   "display_name": "Python [default]",
   "language": "python",
   "name": "python3"
  },
  "language_info": {
   "codemirror_mode": {
    "name": "ipython",
    "version": 3
   },
   "file_extension": ".py",
   "mimetype": "text/x-python",
   "name": "python",
   "nbconvert_exporter": "python",
   "pygments_lexer": "ipython3",
   "version": "3.5.2"
  }
 },
 "nbformat": 4,
 "nbformat_minor": 0
}
