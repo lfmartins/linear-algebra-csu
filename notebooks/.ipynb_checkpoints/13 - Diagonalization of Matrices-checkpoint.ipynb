{
 "cells": [
  {
   "cell_type": "code",
   "execution_count": 1,
   "metadata": {
    "collapsed": true
   },
   "outputs": [],
   "source": [
    "from sympy import *\n",
    "init_printing(use_latex=True) # Change to use_latex=False if Latex is not installed."
   ]
  },
  {
   "cell_type": "code",
   "execution_count": 2,
   "metadata": {
    "collapsed": true
   },
   "outputs": [],
   "source": [
    "%run rop.py"
   ]
  },
  {
   "cell_type": "markdown",
   "metadata": {},
   "source": [
    "# Matrix Diagonalization Examples\n",
    "\n",
    "## Example 1"
   ]
  },
  {
   "cell_type": "code",
   "execution_count": 3,
   "metadata": {
    "collapsed": false
   },
   "outputs": [
    {
     "data": {
      "image/png": "[encoded data removed]",
      "text/latex": [
       "$$\\left[\\begin{matrix}4 & -1 & -2\\\\-6 & 3 & 4\\\\8 & -2 & -4\\end{matrix}\\right]$$"
      ],
      "text/plain": [
       "⎡4   -1  -2⎤\n",
       "⎢          ⎥\n",
       "⎢-6  3   4 ⎥\n",
       "⎢          ⎥\n",
       "⎣8   -2  -4⎦"
      ]
     },
     "execution_count": 3,
     "metadata": {},
     "output_type": "execute_result"
    }
   ],
   "source": [
    "A = matrix_to_rational([[4,-1,-2],[-6,3,4],[8,-2,-4]])\n",
    "A"
   ]
  },
  {
   "cell_type": "markdown",
   "metadata": {},
   "source": [
    "1. Find the eigenvalues"
   ]
  },
  {
   "cell_type": "code",
   "execution_count": 4,
   "metadata": {
    "collapsed": false
   },
   "outputs": [
    {
     "data": {
      "image/png": "[encoded data removed]",
      "text/latex": [
       "$$\\lambda$$"
      ],
      "text/plain": [
       "λ"
      ]
     },
     "execution_count": 4,
     "metadata": {},
     "output_type": "execute_result"
    }
   ],
   "source": [
    "lbd = symbols('lambda')\n",
    "lbd"
   ]
  },
  {
   "cell_type": "code",
   "execution_count": 5,
   "metadata": {
    "collapsed": false
   },
   "outputs": [
    {
     "data": {
      "image/png": "[encoded data removed]",
      "text/latex": [
       "$$- \\lambda^{3} + 3 \\lambda^{2} - 2 \\lambda$$"
      ],
      "text/plain": [
       "   3      2      \n",
       "- λ  + 3⋅λ  - 2⋅λ"
      ]
     },
     "execution_count": 5,
     "metadata": {},
     "output_type": "execute_result"
    }
   ],
   "source": [
    "f = det(A - lbd*eye(3))\n",
    "f"
   ]
  },
  {
   "cell_type": "code",
   "execution_count": 6,
   "metadata": {
    "collapsed": false
   },
   "outputs": [
    {
     "data": {
      "image/png": "[encoded data removed]",
      "text/latex": [
       "$$- \\lambda \\left(\\lambda - 2\\right) \\left(\\lambda - 1\\right)$$"
      ],
      "text/plain": [
       "-λ⋅(λ - 2)⋅(λ - 1)"
      ]
     },
     "execution_count": 6,
     "metadata": {},
     "output_type": "execute_result"
    }
   ],
   "source": [
    "f.factor()"
   ]
  },
  {
   "cell_type": "markdown",
   "metadata": {},
   "source": [
    "The eigenvalues are $\\lambda_1=0$, $\\lambda_2=1$ and $\\lambda_3=2$. We now find a basis for the eigenspace of each eigenvector:"
   ]
  },
  {
   "cell_type": "code",
   "execution_count": 7,
   "metadata": {
    "collapsed": false
   },
   "outputs": [
    {
     "data": {
      "image/png": "[encoded data removed]",
      "text/latex": [
       "$$\\left[\\begin{matrix}4 & -1 & -2\\\\-6 & 3 & 4\\\\8 & -2 & -4\\end{matrix}\\right]$$"
      ],
      "text/plain": [
       "⎡4   -1  -2⎤\n",
       "⎢          ⎥\n",
       "⎢-6  3   4 ⎥\n",
       "⎢          ⎥\n",
       "⎣8   -2  -4⎦"
      ]
     },
     "execution_count": 7,
     "metadata": {},
     "output_type": "execute_result"
    }
   ],
   "source": [
    "#lambda = 0\n",
    "B1 = A - 0*eye(3)\n",
    "B1"
   ]
  },
  {
   "cell_type": "code",
   "execution_count": 8,
   "metadata": {
    "collapsed": false
   },
   "outputs": [
    {
     "data": {
      "image/png": "[encoded data removed]",
      "text/latex": [
       "$$\\left[\\begin{matrix}1 & 0 & - \\frac{1}{3}\\\\0 & 1 & \\frac{2}{3}\\\\0 & 0 & 0\\end{matrix}\\right]$$"
      ],
      "text/plain": [
       "⎡1  0  -1/3⎤\n",
       "⎢          ⎥\n",
       "⎢0  1  2/3 ⎥\n",
       "⎢          ⎥\n",
       "⎣0  0   0  ⎦"
      ]
     },
     "execution_count": 8,
     "metadata": {},
     "output_type": "execute_result"
    }
   ],
   "source": [
    "reduced_row_echelon(B1)"
   ]
  },
  {
   "cell_type": "markdown",
   "metadata": {},
   "source": [
    "The equations for the kernel are:\n",
    "$$x_1-\\frac{1}{3}x_3=0,\\quad x_2+\\frac{2}{3}x_3=0$$\n",
    "Choosing $x_3=3$ we get a basis for the eigenspace of $\\lambda_1=0$:\n",
    "$$\\left\\{\\begin{bmatrix}1\\\\-2\\\\3\\end{bmatrix}\\right\\}$$"
   ]
  },
  {
   "cell_type": "code",
   "execution_count": 9,
   "metadata": {
    "collapsed": false
   },
   "outputs": [
    {
     "data": {
      "image/png": "[encoded data removed]",
      "text/latex": [
       "$$\\left[\\begin{matrix}3 & -1 & -2\\\\-6 & 2 & 4\\\\8 & -2 & -5\\end{matrix}\\right]$$"
      ],
      "text/plain": [
       "⎡3   -1  -2⎤\n",
       "⎢          ⎥\n",
       "⎢-6  2   4 ⎥\n",
       "⎢          ⎥\n",
       "⎣8   -2  -5⎦"
      ]
     },
     "execution_count": 9,
     "metadata": {},
     "output_type": "execute_result"
    }
   ],
   "source": [
    "#lambda = 1\n",
    "B2 = A - 1*eye(3)\n",
    "B2"
   ]
  },
  {
   "cell_type": "code",
   "execution_count": 10,
   "metadata": {
    "collapsed": false
   },
   "outputs": [
    {
     "data": {
      "image/png": "[encoded data removed]",
      "text/latex": [
       "$$\\left[\\begin{matrix}1 & 0 & - \\frac{1}{2}\\\\0 & 1 & \\frac{1}{2}\\\\0 & 0 & 0\\end{matrix}\\right]$$"
      ],
      "text/plain": [
       "⎡1  0  -1/2⎤\n",
       "⎢          ⎥\n",
       "⎢0  1  1/2 ⎥\n",
       "⎢          ⎥\n",
       "⎣0  0   0  ⎦"
      ]
     },
     "execution_count": 10,
     "metadata": {},
     "output_type": "execute_result"
    }
   ],
   "source": [
    "reduced_row_echelon(B2)"
   ]
  },
  {
   "cell_type": "markdown",
   "metadata": {},
   "source": [
    "The equations for the kernel are:\n",
    "$$x_1-\\frac{1}{2}x_3=0,\\quad x_2+\\frac{1}{2}x_3=0$$\n",
    "Choosing $x_3=2$ we get a basis for the eigenspace of $\\lambda_2=1$:\n",
    "$$\\left\\{\\begin{bmatrix}1\\\\-1\\\\2\\end{bmatrix}\\right\\}$$"
   ]
  },
  {
   "cell_type": "code",
   "execution_count": 11,
   "metadata": {
    "collapsed": false
   },
   "outputs": [
    {
     "data": {
      "image/png": "[encoded data removed]",
      "text/latex": [
       "$$\\left[\\begin{matrix}2 & -1 & -2\\\\-6 & 1 & 4\\\\8 & -2 & -6\\end{matrix}\\right]$$"
      ],
      "text/plain": [
       "⎡2   -1  -2⎤\n",
       "⎢          ⎥\n",
       "⎢-6  1   4 ⎥\n",
       "⎢          ⎥\n",
       "⎣8   -2  -6⎦"
      ]
     },
     "execution_count": 11,
     "metadata": {},
     "output_type": "execute_result"
    }
   ],
   "source": [
    "#lambda = 2\n",
    "B3 = A - 2*eye(3)\n",
    "B3"
   ]
  },
  {
   "cell_type": "code",
   "execution_count": 12,
   "metadata": {
    "collapsed": false
   },
   "outputs": [
    {
     "data": {
      "image/png": "[encoded data removed]",
      "text/latex": [
       "$$\\left[\\begin{matrix}1 & 0 & - \\frac{1}{2}\\\\0 & 1 & 1\\\\0 & 0 & 0\\end{matrix}\\right]$$"
      ],
      "text/plain": [
       "⎡1  0  -1/2⎤\n",
       "⎢          ⎥\n",
       "⎢0  1   1  ⎥\n",
       "⎢          ⎥\n",
       "⎣0  0   0  ⎦"
      ]
     },
     "execution_count": 12,
     "metadata": {},
     "output_type": "execute_result"
    }
   ],
   "source": [
    "reduced_row_echelon(B3)"
   ]
  },
  {
   "cell_type": "markdown",
   "metadata": {},
   "source": [
    "The equations for the kernel are:\n",
    "$$x_1-\\frac{1}{2}x_3=0,\\quad x_2+x_3=0$$\n",
    "Choosing $x_3=2$ we get a basis for the eigenspace of $\\lambda_3=2$:\n",
    "$$\\left\\{\\begin{bmatrix}1\\\\-1\\\\2\\end{bmatrix}\\right\\}$$\n",
    "Putting together all the eigenvectors we found, we get a basis for $\\mathbb{R}^3$:\n",
    "$$\n",
    "{\\cal B}=\\left\\{\n",
    "\\begin{bmatrix}1\\\\-2\\\\3\\end{bmatrix},\n",
    "\\begin{bmatrix}1\\\\-1\\\\2\\end{bmatrix},\n",
    "\\begin{bmatrix}1\\\\-1\\\\2\\end{bmatrix}\n",
    "\\right\\}\n",
    "$$\n",
    "The change of basis matrix for ${\\cal B}$ is the matrix that has the eigenvectors in its columns:\n",
    "$$\n",
    "P=\\begin{bmatrix}1&1&1\\\\-2&-1&-1\\\\3&2&2\\end{bmatrix}\n",
    "$$\n",
    "The diagonalization of matrix $A$ is the matrix $D$ with the eigenvalues in its diagonal:\n",
    "$$\n",
    "D=PAP^{-1}=\\begin{bmatrix}0&0&0\\\\0&1&0\\\\0&0&2\\end{bmatrix}\n",
    "$$\n",
    "We can check the correctness of our answer computationaly:"
   ]
  },
  {
   "cell_type": "code",
   "execution_count": 13,
   "metadata": {
    "collapsed": false
   },
   "outputs": [
    {
     "data": {
      "image/png": "[encoded data removed]",
      "text/latex": [
       "$$\\left[\\begin{matrix}1 & 1 & 1\\\\-2 & -1 & -2\\\\3 & 2 & 2\\end{matrix}\\right]$$"
      ],
      "text/plain": [
       "⎡1   1   1 ⎤\n",
       "⎢          ⎥\n",
       "⎢-2  -1  -2⎥\n",
       "⎢          ⎥\n",
       "⎣3   2   2 ⎦"
      ]
     },
     "execution_count": 13,
     "metadata": {},
     "output_type": "execute_result"
    }
   ],
   "source": [
    "P = matrix_to_rational([[1,1,1],[-2,-1,-2],[3,2,2]])\n",
    "P"
   ]
  },
  {
   "cell_type": "code",
   "execution_count": 14,
   "metadata": {
    "collapsed": false
   },
   "outputs": [
    {
     "data": {
      "image/png": "[encoded data removed]",
      "text/latex": [
       "$$\\left[\\begin{matrix}0 & 0 & 0\\\\0 & 1 & 0\\\\0 & 0 & 2\\end{matrix}\\right]$$"
      ],
      "text/plain": [
       "⎡0  0  0⎤\n",
       "⎢       ⎥\n",
       "⎢0  1  0⎥\n",
       "⎢       ⎥\n",
       "⎣0  0  2⎦"
      ]
     },
     "execution_count": 14,
     "metadata": {},
     "output_type": "execute_result"
    }
   ],
   "source": [
    "P**(-1) * A * P"
   ]
  },
  {
   "cell_type": "markdown",
   "metadata": {
    "collapsed": true
   },
   "source": [
    "## Example 2\n",
    "$$\n",
    "A=\\left[\\begin{matrix}-47 & 184 & \\frac{57}{2} & - \\frac{133}{2}\\\\-60 & 232 & 36 & -84\\\\25 & -95 & - \\frac{29}{2} & 35\\\\-120 & 463 & 72 & - \\frac{335}{2}\\end{matrix}\\right]\n",
    "$$"
   ]
  },
  {
   "cell_type": "markdown",
   "metadata": {},
   "source": [
    "Eigenvalues:"
   ]
  },
  {
   "cell_type": "code",
   "execution_count": 16,
   "metadata": {
    "collapsed": false
   },
   "outputs": [
    {
     "data": {
      "image/png": "[encoded data removed]",
      "text/latex": [
       "$$\\left[\\begin{matrix}-47 & 184 & \\frac{57}{2} & - \\frac{133}{2}\\\\-60 & 232 & 36 & -84\\\\25 & -95 & - \\frac{29}{2} & 35\\\\-120 & 463 & 72 & - \\frac{335}{2}\\end{matrix}\\right]$$"
      ],
      "text/plain": [
       "⎡-47   184  57/2   -133/2⎤\n",
       "⎢                        ⎥\n",
       "⎢-60   232   36     -84  ⎥\n",
       "⎢                        ⎥\n",
       "⎢ 25   -95  -29/2    35  ⎥\n",
       "⎢                        ⎥\n",
       "⎣-120  463   72    -335/2⎦"
      ]
     },
     "execution_count": 16,
     "metadata": {},
     "output_type": "execute_result"
    }
   ],
   "source": [
    "A = matrix_to_rational([[-47, 184, 57/2, -133/2], [-60, 232, 36, -84], [25, -95, -29/2, 35], [-120, 463, 72, -335/2]])\n",
    "A"
   ]
  },
  {
   "cell_type": "code",
   "execution_count": 17,
   "metadata": {
    "collapsed": false
   },
   "outputs": [
    {
     "data": {
      "image/png": "[encoded data removed]",
      "text/latex": [
       "$$\\lambda^{4} - 3 \\lambda^{3} - \\frac{23 \\lambda^{2}}{4} + \\frac{15 \\lambda}{2} - 2$$"
      ],
      "text/plain": [
       "                2           \n",
       " 4      3   23⋅λ    15⋅λ    \n",
       "λ  - 3⋅λ  - ───── + ──── - 2\n",
       "              4      2      "
      ]
     },
     "execution_count": 17,
     "metadata": {},
     "output_type": "execute_result"
    }
   ],
   "source": [
    "lbd = symbols('lambda')\n",
    "f = det(A - lbd*eye(4))\n",
    "f"
   ]
  },
  {
   "cell_type": "code",
   "execution_count": 18,
   "metadata": {
    "collapsed": false
   },
   "outputs": [
    {
     "data": {
      "image/png": "[encoded data removed]",
      "text/latex": [
       "$$\\frac{1}{4} \\left(\\lambda - 4\\right) \\left(\\lambda + 2\\right) \\left(2 \\lambda - 1\\right)^{2}$$"
      ],
      "text/plain": [
       "                         2\n",
       "(λ - 4)⋅(λ + 2)⋅(2⋅λ - 1) \n",
       "──────────────────────────\n",
       "            4             "
      ]
     },
     "execution_count": 18,
     "metadata": {},
     "output_type": "execute_result"
    }
   ],
   "source": [
    "factor(f)"
   ]
  },
  {
   "cell_type": "markdown",
   "metadata": {},
   "source": [
    "The eigenvalues are $\\lambda_1=-2$, $\\lambda_2=1/2$ (multiplicity 2) and $\\lambda_3=4$"
   ]
  },
  {
   "cell_type": "code",
   "execution_count": 19,
   "metadata": {
    "collapsed": false
   },
   "outputs": [
    {
     "data": {
      "image/png": "[encoded data removed]",
      "text/latex": [
       "$$\\left[\\begin{matrix}-45 & 184 & \\frac{57}{2} & - \\frac{133}{2}\\\\-60 & 234 & 36 & -84\\\\25 & -95 & - \\frac{25}{2} & 35\\\\-120 & 463 & 72 & - \\frac{331}{2}\\end{matrix}\\right]$$"
      ],
      "text/plain": [
       "⎡-45   184  57/2   -133/2⎤\n",
       "⎢                        ⎥\n",
       "⎢-60   234   36     -84  ⎥\n",
       "⎢                        ⎥\n",
       "⎢ 25   -95  -25/2    35  ⎥\n",
       "⎢                        ⎥\n",
       "⎣-120  463   72    -331/2⎦"
      ]
     },
     "execution_count": 19,
     "metadata": {},
     "output_type": "execute_result"
    }
   ],
   "source": [
    "# lambda_1=-2\n",
    "B1 = A - (-2)*eye(4)\n",
    "B1"
   ]
  },
  {
   "cell_type": "code",
   "execution_count": 20,
   "metadata": {
    "collapsed": false
   },
   "outputs": [
    {
     "data": {
      "image/png": "[encoded data removed]",
      "text/latex": [
       "$$\\left[\\begin{matrix}1 & 0 & 0 & - \\frac{1}{4}\\\\0 & 1 & 0 & - \\frac{1}{2}\\\\0 & 0 & 1 & \\frac{1}{2}\\\\0 & 0 & 0 & 0\\end{matrix}\\right]$$"
      ],
      "text/plain": [
       "⎡1  0  0  -1/4⎤\n",
       "⎢             ⎥\n",
       "⎢0  1  0  -1/2⎥\n",
       "⎢             ⎥\n",
       "⎢0  0  1  1/2 ⎥\n",
       "⎢             ⎥\n",
       "⎣0  0  0   0  ⎦"
      ]
     },
     "execution_count": 20,
     "metadata": {},
     "output_type": "execute_result"
    }
   ],
   "source": [
    "reduced_row_echelon(B1)"
   ]
  },
  {
   "cell_type": "markdown",
   "metadata": {},
   "source": [
    "The equations for the kernel are:\n",
    "$$x_1-\\frac{1}{4}x_4=0,\\quad x_2-\\frac{1}{2}x_4=0,\\quad x_3+\\frac{1}{2}x_4=$$\n",
    "Choosing $x_4=4$ we get a basis for the eigenspace of $\\lambda_1=-2$:\n",
    "$$\n",
    "\\left\\{\n",
    "\\begin{bmatrix}1\\\\2\\\\-2\\\\4\\end{bmatrix}\n",
    "\\right\\}\n",
    "$$"
   ]
  },
  {
   "cell_type": "code",
   "execution_count": 21,
   "metadata": {
    "collapsed": false
   },
   "outputs": [
    {
     "data": {
      "image/png": "[encoded data removed]",
      "text/latex": [
       "$$\\left[\\begin{matrix}- \\frac{95}{2} & 184 & \\frac{57}{2} & - \\frac{133}{2}\\\\-60 & \\frac{463}{2} & 36 & -84\\\\25 & -95 & -15 & 35\\\\-120 & 463 & 72 & -168\\end{matrix}\\right]$$"
      ],
      "text/plain": [
       "⎡-95/2   184   57/2  -133/2⎤\n",
       "⎢                          ⎥\n",
       "⎢ -60   463/2   36    -84  ⎥\n",
       "⎢                          ⎥\n",
       "⎢ 25     -95   -15     35  ⎥\n",
       "⎢                          ⎥\n",
       "⎣-120    463    72    -168 ⎦"
      ]
     },
     "execution_count": 21,
     "metadata": {},
     "output_type": "execute_result"
    }
   ],
   "source": [
    "# lambda_2=1/2\n",
    "B2 = A - (sympify('1/2'))*eye(4) # Notice how to enter a fraction!!!\n",
    "B2"
   ]
  },
  {
   "cell_type": "code",
   "execution_count": 22,
   "metadata": {
    "collapsed": false
   },
   "outputs": [
    {
     "data": {
      "image/png": "[encoded data removed]",
      "text/latex": [
       "$$\\left[\\begin{matrix}1 & 0 & - \\frac{3}{5} & \\frac{7}{5}\\\\0 & 1 & 0 & 0\\\\0 & 0 & 0 & 0\\\\0 & 0 & 0 & 0\\end{matrix}\\right]$$"
      ],
      "text/plain": [
       "⎡1  0  -3/5  7/5⎤\n",
       "⎢               ⎥\n",
       "⎢0  1   0     0 ⎥\n",
       "⎢               ⎥\n",
       "⎢0  0   0     0 ⎥\n",
       "⎢               ⎥\n",
       "⎣0  0   0     0 ⎦"
      ]
     },
     "execution_count": 22,
     "metadata": {},
     "output_type": "execute_result"
    }
   ],
   "source": [
    "reduced_row_echelon(B2)"
   ]
  },
  {
   "cell_type": "markdown",
   "metadata": {},
   "source": [
    "The equations for the kernel are:\n",
    "$$x_1-\\frac{3}{5}x_3+\\frac{7}{5}x_4=0,\\quad x_2=0$$\n",
    "Notice that there are _two_ free variables, so the kernel has dimension $2$. We can get two linearly independent eigenvectors with the following choices:\n",
    "\n",
    "- $x_3=5$, $x_4=0$: $\\begin{bmatrix}3\\\\0\\\\5\\\\0\\end{bmatrix}$\n",
    "- $x_3=0$, $x_4=5$: $\\begin{bmatrix}-7\\\\0\\\\0\\\\5\\end{bmatrix}$\n",
    "\n",
    "These two vectors define a basis for the eigenspace of $\\lambda_2=1/2$:\n",
    "$$\n",
    "\\left\\{\n",
    "\\begin{bmatrix}3\\\\0\\\\5\\\\0\\end{bmatrix},\n",
    "\\begin{bmatrix}-7\\\\0\\\\0\\\\5\\end{bmatrix}\n",
    "\\right\\}\n",
    "$$"
   ]
  },
  {
   "cell_type": "code",
   "execution_count": 23,
   "metadata": {
    "collapsed": false
   },
   "outputs": [
    {
     "data": {
      "image/png": "[encoded data removed]",
      "text/latex": [
       "$$\\left[\\begin{matrix}-51 & 184 & \\frac{57}{2} & - \\frac{133}{2}\\\\-60 & 228 & 36 & -84\\\\25 & -95 & - \\frac{37}{2} & 35\\\\-120 & 463 & 72 & - \\frac{343}{2}\\end{matrix}\\right]$$"
      ],
      "text/plain": [
       "⎡-51   184  57/2   -133/2⎤\n",
       "⎢                        ⎥\n",
       "⎢-60   228   36     -84  ⎥\n",
       "⎢                        ⎥\n",
       "⎢ 25   -95  -37/2    35  ⎥\n",
       "⎢                        ⎥\n",
       "⎣-120  463   72    -343/2⎦"
      ]
     },
     "execution_count": 23,
     "metadata": {},
     "output_type": "execute_result"
    }
   ],
   "source": [
    "# lambda_3 = 4\n",
    "B3 = A - 4*eye(4)\n",
    "B3"
   ]
  },
  {
   "cell_type": "code",
   "execution_count": 24,
   "metadata": {
    "collapsed": false
   },
   "outputs": [
    {
     "data": {
      "image/png": "[encoded data removed]",
      "text/latex": [
       "$$\\left[\\begin{matrix}1 & 0 & 0 & - \\frac{1}{2}\\\\0 & 1 & 0 & - \\frac{1}{2}\\\\0 & 0 & 1 & 0\\\\0 & 0 & 0 & 0\\end{matrix}\\right]$$"
      ],
      "text/plain": [
       "⎡1  0  0  -1/2⎤\n",
       "⎢             ⎥\n",
       "⎢0  1  0  -1/2⎥\n",
       "⎢             ⎥\n",
       "⎢0  0  1   0  ⎥\n",
       "⎢             ⎥\n",
       "⎣0  0  0   0  ⎦"
      ]
     },
     "execution_count": 24,
     "metadata": {},
     "output_type": "execute_result"
    }
   ],
   "source": [
    "reduced_row_echelon(B3)"
   ]
  },
  {
   "cell_type": "markdown",
   "metadata": {},
   "source": [
    "The equations for the kernel are:\n",
    "$$x_1-\\frac{1}{2}x_4=0,\\quad x_2-\\frac{1}{2}x_4=0,\\quad x_3=0$$\n",
    "Choosing $x_4=2$ we get the following basis of the eigenspace:\n",
    "$$\n",
    "\\left\\{\n",
    "\\begin{bmatrix}1\\\\1\\\\0\\\\2\\end{bmatrix}\n",
    "\\right\\}$$\n",
    "\n",
    "Since we have found a total of $4$ linearly independent eigenvectors corresponding to the three eigenvalues, the matrix can be diagonalized. The change of basis matrix is:\n",
    "$$\n",
    "P=\n",
    "\\begin{bmatrix}\n",
    "1&3&-7&1\\\\\n",
    "2&0&0&1\\\\\n",
    "-2&5&0&0\\\\\n",
    "4&0&5&2\n",
    "\\end{bmatrix}\n",
    "$$\n",
    "The diagonalization is:\n",
    "$$\n",
    "D=\\begin{bmatrix}-2&0&0&0\\\\0&\\frac{1}{2}&0&0\\\\0&0&\\frac{1}{2}&0\\\\0&0&0&4\\end{bmatrix}\n",
    "$$\n",
    "We can check this by computing $P^{-1}AP$:"
   ]
  },
  {
   "cell_type": "code",
   "execution_count": 25,
   "metadata": {
    "collapsed": false
   },
   "outputs": [
    {
     "data": {
      "image/png": "[encoded data removed]",
      "text/latex": [
       "$$\\left[\\begin{matrix}1 & 3 & -7 & 1\\\\2 & 0 & 0 & 1\\\\-2 & 5 & 0 & 0\\\\4 & 0 & 5 & 2\\end{matrix}\\right]$$"
      ],
      "text/plain": [
       "⎡1   3  -7  1⎤\n",
       "⎢            ⎥\n",
       "⎢2   0  0   1⎥\n",
       "⎢            ⎥\n",
       "⎢-2  5  0   0⎥\n",
       "⎢            ⎥\n",
       "⎣4   0  5   2⎦"
      ]
     },
     "execution_count": 25,
     "metadata": {},
     "output_type": "execute_result"
    }
   ],
   "source": [
    "P = matrix_to_rational([[1,3,-7,1],[2,0,0,1],[-2,5,0,0],[4,0,5,2]])\n",
    "P"
   ]
  },
  {
   "cell_type": "code",
   "execution_count": 26,
   "metadata": {
    "collapsed": false
   },
   "outputs": [
    {
     "data": {
      "image/png": "[encoded data removed]",
      "text/latex": [
       "$$\\left[\\begin{matrix}-2 & 0 & 0 & 0\\\\0 & \\frac{1}{2} & 0 & 0\\\\0 & 0 & \\frac{1}{2} & 0\\\\0 & 0 & 0 & 4\\end{matrix}\\right]$$"
      ],
      "text/plain": [
       "⎡-2   0    0   0⎤\n",
       "⎢               ⎥\n",
       "⎢0   1/2   0   0⎥\n",
       "⎢               ⎥\n",
       "⎢0    0   1/2  0⎥\n",
       "⎢               ⎥\n",
       "⎣0    0    0   4⎦"
      ]
     },
     "execution_count": 26,
     "metadata": {},
     "output_type": "execute_result"
    }
   ],
   "source": [
    "P**(-1)*A*P"
   ]
  },
  {
   "cell_type": "markdown",
   "metadata": {},
   "source": [
    "## Example 3\n",
    "$$\n",
    "A=\\left[\\begin{matrix}10 & 10 & -20\\\\-4 & 13 & 4\\\\-7 & 9 & -3\\end{matrix}\\right]\n",
    "$$"
   ]
  },
  {
   "cell_type": "code",
   "execution_count": 27,
   "metadata": {
    "collapsed": false
   },
   "outputs": [
    {
     "data": {
      "image/png": "[encoded data removed]",
      "text/latex": [
       "$$\\left[\\begin{matrix}10 & 10 & -20\\\\-4 & 13 & 4\\\\-7 & 9 & -3\\end{matrix}\\right]$$"
      ],
      "text/plain": [
       "⎡10  10  -20⎤\n",
       "⎢           ⎥\n",
       "⎢-4  13   4 ⎥\n",
       "⎢           ⎥\n",
       "⎣-7  9   -3 ⎦"
      ]
     },
     "execution_count": 27,
     "metadata": {},
     "output_type": "execute_result"
    }
   ],
   "source": [
    "A = matrix_to_rational([[10, 10, -20], [-4, 13, 4], [-7, 9, -3]])\n",
    "A"
   ]
  },
  {
   "cell_type": "code",
   "execution_count": 28,
   "metadata": {
    "collapsed": false
   },
   "outputs": [
    {
     "data": {
      "image/png": "[encoded data removed]",
      "text/latex": [
       "$$- \\lambda^{3} + 20 \\lambda^{2} + 75 \\lambda - 2250$$"
      ],
      "text/plain": [
       "   3       2              \n",
       "- λ  + 20⋅λ  + 75⋅λ - 2250"
      ]
     },
     "execution_count": 28,
     "metadata": {},
     "output_type": "execute_result"
    }
   ],
   "source": [
    "lbd = symbols('lambda')\n",
    "f = det(A - lbd*eye(3))\n",
    "f"
   ]
  },
  {
   "cell_type": "code",
   "execution_count": 29,
   "metadata": {
    "collapsed": false
   },
   "outputs": [
    {
     "data": {
      "image/png": "[encoded data removed]",
      "text/latex": [
       "$$- \\left(\\lambda - 15\\right)^{2} \\left(\\lambda + 10\\right)$$"
      ],
      "text/plain": [
       "         2         \n",
       "-(λ - 15) ⋅(λ + 10)"
      ]
     },
     "execution_count": 29,
     "metadata": {},
     "output_type": "execute_result"
    }
   ],
   "source": [
    "factor(f)"
   ]
  },
  {
   "cell_type": "markdown",
   "metadata": {},
   "source": [
    "The eigenvalues are $\\lambda_1=-10$ and $\\lambda_2=15$ (multiplicity 2). Let's now find the eigenspaces."
   ]
  },
  {
   "cell_type": "code",
   "execution_count": 30,
   "metadata": {
    "collapsed": false
   },
   "outputs": [
    {
     "data": {
      "image/png": "[encoded data removed]",
      "text/latex": [
       "$$\\left[\\begin{matrix}20 & 10 & -20\\\\-4 & 23 & 4\\\\-7 & 9 & 7\\end{matrix}\\right]$$"
      ],
      "text/plain": [
       "⎡20  10  -20⎤\n",
       "⎢           ⎥\n",
       "⎢-4  23   4 ⎥\n",
       "⎢           ⎥\n",
       "⎣-7  9    7 ⎦"
      ]
     },
     "execution_count": 30,
     "metadata": {},
     "output_type": "execute_result"
    }
   ],
   "source": [
    "# lambda_1 = -10\n",
    "B1 = A - (-10)*eye(3)\n",
    "B1"
   ]
  },
  {
   "cell_type": "code",
   "execution_count": 31,
   "metadata": {
    "collapsed": false
   },
   "outputs": [
    {
     "data": {
      "image/png": "[encoded data removed]",
      "text/latex": [
       "$$\\left[\\begin{matrix}1 & 0 & -1\\\\0 & 1 & 0\\\\0 & 0 & 0\\end{matrix}\\right]$$"
      ],
      "text/plain": [
       "⎡1  0  -1⎤\n",
       "⎢        ⎥\n",
       "⎢0  1  0 ⎥\n",
       "⎢        ⎥\n",
       "⎣0  0  0 ⎦"
      ]
     },
     "execution_count": 31,
     "metadata": {},
     "output_type": "execute_result"
    }
   ],
   "source": [
    "reduced_row_echelon(B1)"
   ]
  },
  {
   "cell_type": "markdown",
   "metadata": {},
   "source": [
    "The equations for the kernel are\n",
    "$$ x_1-x_3=0,\\quad,x_2=0 $$\n",
    "Choosing $x_3=1$ we get the following basis for the eigenspace:\n",
    "$$\n",
    "\\left\\{\n",
    "\\begin{bmatrix}1\\\\0\\\\1\\end{bmatrix}\n",
    "\\right\\}\n",
    "$$"
   ]
  },
  {
   "cell_type": "code",
   "execution_count": 32,
   "metadata": {
    "collapsed": false
   },
   "outputs": [
    {
     "data": {
      "image/png": "[encoded data removed]",
      "text/latex": [
       "$$\\left[\\begin{matrix}-5 & 10 & -20\\\\-4 & -2 & 4\\\\-7 & 9 & -18\\end{matrix}\\right]$$"
      ],
      "text/plain": [
       "⎡-5  10  -20⎤\n",
       "⎢           ⎥\n",
       "⎢-4  -2   4 ⎥\n",
       "⎢           ⎥\n",
       "⎣-7  9   -18⎦"
      ]
     },
     "execution_count": 32,
     "metadata": {},
     "output_type": "execute_result"
    }
   ],
   "source": [
    "# lambda_2 = 15\n",
    "B2 = A - 15*eye(3)\n",
    "B2"
   ]
  },
  {
   "cell_type": "code",
   "execution_count": 33,
   "metadata": {
    "collapsed": false
   },
   "outputs": [
    {
     "data": {
      "image/png": "[encoded data removed]",
      "text/latex": [
       "$$\\left[\\begin{matrix}1 & 0 & 0\\\\0 & 1 & -2\\\\0 & 0 & 0\\end{matrix}\\right]$$"
      ],
      "text/plain": [
       "⎡1  0  0 ⎤\n",
       "⎢        ⎥\n",
       "⎢0  1  -2⎥\n",
       "⎢        ⎥\n",
       "⎣0  0  0 ⎦"
      ]
     },
     "execution_count": 33,
     "metadata": {},
     "output_type": "execute_result"
    }
   ],
   "source": [
    "reduced_row_echelon(B2)"
   ]
  },
  {
   "cell_type": "markdown",
   "metadata": {},
   "source": [
    "The equations for the kernel are:\n",
    "$$x_1=0,\\quad x_2-2x_3=0$$\n",
    "Choosing $x_3=1$ we get the basis for the eigenspace:\n",
    "$$\n",
    "\\left\\{\n",
    "\\begin{bmatrix}0\\\\2\\\\1\\end{bmatrix}\n",
    "\\right\\}\n",
    "$$\n",
    "\n",
    "Notice that, in this case, we found a total of only _two_ eigenvectors, so it is not possible to find a basis of $\\mathbb{R}^3$ consisting of eigenvectors of $A$. The conclusion is that $A$ is _not diagonalizable_: it is not possible to find a change of coordinates that will transform $A$ into a diagonal matrix."
   ]
  },
  {
   "cell_type": "code",
   "execution_count": null,
   "metadata": {
    "collapsed": true
   },
   "outputs": [],
   "source": []
  },
  {
   "cell_type": "code",
   "execution_count": null,
   "metadata": {
    "collapsed": true
   },
   "outputs": [],
   "source": []
  },
  {
   "cell_type": "code",
   "execution_count": null,
   "metadata": {
    "collapsed": true
   },
   "outputs": [],
   "source": []
  },
  {
   "cell_type": "code",
   "execution_count": null,
   "metadata": {
    "collapsed": true
   },
   "outputs": [],
   "source": []
  },
  {
   "cell_type": "code",
   "execution_count": null,
   "metadata": {
    "collapsed": true
   },
   "outputs": [],
   "source": []
  },
  {
   "cell_type": "code",
   "execution_count": null,
   "metadata": {
    "collapsed": true
   },
   "outputs": [],
   "source": []
  },
  {
   "cell_type": "code",
   "execution_count": null,
   "metadata": {
    "collapsed": true
   },
   "outputs": [],
   "source": []
  },
  {
   "cell_type": "code",
   "execution_count": null,
   "metadata": {
    "collapsed": true
   },
   "outputs": [],
   "source": []
  },
  {
   "cell_type": "code",
   "execution_count": null,
   "metadata": {
    "collapsed": true
   },
   "outputs": [],
   "source": []
  },
  {
   "cell_type": "code",
   "execution_count": null,
   "metadata": {
    "collapsed": true
   },
   "outputs": [],
   "source": []
  }
 ],
 "metadata": {
  "kernelspec": {
   "display_name": "Python 3",
   "language": "python",
   "name": "python3"
  },
  "language_info": {
   "codemirror_mode": {
    "name": "ipython",
    "version": 3
   },
   "file_extension": ".py",
   "mimetype": "text/x-python",
   "name": "python",
   "nbconvert_exporter": "python",
   "pygments_lexer": "ipython3",
   "version": "3.5.1"
  }
 },
 "nbformat": 4,
 "nbformat_minor": 0
}
