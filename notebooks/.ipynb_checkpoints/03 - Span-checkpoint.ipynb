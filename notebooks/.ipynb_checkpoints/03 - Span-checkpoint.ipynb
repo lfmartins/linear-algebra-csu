{
 "cells": [
  {
   "cell_type": "markdown",
   "metadata": {},
   "source": [
    "# Span of a Set of Vectors\n",
    "\n",
    "## Example 1 \n",
    "\n",
    "Given the three vectors:\n",
    "\n",
    "$$\n",
    "\\mathbf{u}_1=\\left[\\begin{matrix}  2 \\\\ 1 \\\\ 0 \\\\\\end{matrix}\\right]\\quad\n",
    "\\mathbf{u}_2=\\left[\\begin{matrix} -3 \\\\ 2 \\\\ 1 \\\\\\end{matrix}\\right]\\quad\n",
    "\\mathbf{u}_3=\\left[\\begin{matrix}  1 \\\\ 1 \\\\ 2 \\\\\\end{matrix}\\right]\n",
    "$$\n",
    "\n",
    "Find, if possible, a linear combination of $\\mathbf{u}_1$, $\\mathbf{u}_2$, $\\mathbf{u}_3$ that is equal to the vector\n",
    "\n",
    "$$\n",
    "\\mathbf{v}=\\left[\\begin{matrix}  2 \\\\ -4 \\\\ 3 \\\\\\end{matrix}\\right]\n",
    "$$\n",
    "\n",
    "_Solution_:\n",
    "\n",
    "We want to find $c_1$, $c_2$ and $c_3$ such that:\n",
    "\n",
    "$$\n",
    " c_1\\left[\\begin{matrix}  2 \\\\ 1 \\\\ 0 \\\\\\end{matrix}\\right]\n",
    "+c_2\\left[\\begin{matrix} -3 \\\\ 2 \\\\ 1 \\\\\\end{matrix}\\right]\n",
    "+c_3\\left[\\begin{matrix}  1 \\\\ 1 \\\\ 2 \\\\\\end{matrix}\\right] = \n",
    "\\left[\\begin{matrix}  2 \\\\ -4 \\\\ 3 \\\\\\end{matrix}\\right]\n",
    "$$\n",
    "\n",
    "This is equivalent to the linear system:\n",
    "\n",
    "$$\n",
    "\\begin{array}{rcrcrcr}\n",
    "2c_1 &-& 3c_2 & &  c_3 &=& 2\\\\\n",
    " c_1 &+& 2c_2 &+&  c_3 &=& -4\\\\\n",
    "     & &  c_2 &+& 2c_3 &=&  3\\\\\n",
    "\\end{array}\n",
    "$$\n",
    "\n",
    "Using Gaussian Elimination we get the following:"
   ]
  },
  {
   "cell_type": "code",
   "execution_count": 52,
   "metadata": {
    "collapsed": true
   },
   "outputs": [],
   "source": [
    "%run rop.py"
   ]
  },
  {
   "cell_type": "code",
   "execution_count": 53,
   "metadata": {
    "collapsed": false
   },
   "outputs": [
    {
     "data": {
      "image/png": "[encoded data removed]",
      "text/latex": [
       "$$\\left[\\begin{matrix}2 & -3 & 1 & 2\\\\1 & 2 & 1 & -4\\\\0 & 1 & 2 & 3\\end{matrix}\\right]$$"
      ],
      "text/plain": [
       "⎡2  -3  1  2 ⎤\n",
       "⎢            ⎥\n",
       "⎢1  2   1  -4⎥\n",
       "⎢            ⎥\n",
       "⎣0  1   2  3 ⎦"
      ]
     },
     "execution_count": 53,
     "metadata": {},
     "output_type": "execute_result"
    }
   ],
   "source": [
    "A = matrix_to_rational([[2, -3, 1, 2],[1,2,1,-4],[0,1,2,3]])\n",
    "A"
   ]
  },
  {
   "cell_type": "code",
   "execution_count": 54,
   "metadata": {
    "collapsed": false
   },
   "outputs": [
    {
     "data": {
      "image/png": "[encoded data removed]",
      "text/latex": [
       "$$\\left[\\begin{matrix}1 & - \\frac{3}{2} & \\frac{1}{2} & 1\\\\1 & 2 & 1 & -4\\\\0 & 1 & 2 & 3\\end{matrix}\\right]$$"
      ],
      "text/plain": [
       "⎡1  -3/2  1/2  1 ⎤\n",
       "⎢                ⎥\n",
       "⎢1   2     1   -4⎥\n",
       "⎢                ⎥\n",
       "⎣0   1     2   3 ⎦"
      ]
     },
     "execution_count": 54,
     "metadata": {},
     "output_type": "execute_result"
    }
   ],
   "source": [
    "A1 = rop(A, 'R1*(1/2)=>R1')\n",
    "A1"
   ]
  },
  {
   "cell_type": "code",
   "execution_count": 55,
   "metadata": {
    "collapsed": false
   },
   "outputs": [
    {
     "data": {
      "image/png": "[encoded data removed]",
      "text/latex": [
       "$$\\left[\\begin{matrix}1 & - \\frac{3}{2} & \\frac{1}{2} & 1\\\\0 & \\frac{7}{2} & \\frac{1}{2} & -5\\\\0 & 1 & 2 & 3\\end{matrix}\\right]$$"
      ],
      "text/plain": [
       "⎡1  -3/2  1/2  1 ⎤\n",
       "⎢                ⎥\n",
       "⎢0  7/2   1/2  -5⎥\n",
       "⎢                ⎥\n",
       "⎣0   1     2   3 ⎦"
      ]
     },
     "execution_count": 55,
     "metadata": {},
     "output_type": "execute_result"
    }
   ],
   "source": [
    "A2 = rop(A1, 'R1*(-1)+R2=>R2')\n",
    "A2"
   ]
  },
  {
   "cell_type": "code",
   "execution_count": 56,
   "metadata": {
    "collapsed": false
   },
   "outputs": [
    {
     "data": {
      "image/png": "[encoded data removed]",
      "text/latex": [
       "$$\\left[\\begin{matrix}1 & - \\frac{3}{2} & \\frac{1}{2} & 1\\\\0 & 7 & 1 & -10\\\\0 & 1 & 2 & 3\\end{matrix}\\right]$$"
      ],
      "text/plain": [
       "⎡1  -3/2  1/2   1 ⎤\n",
       "⎢                 ⎥\n",
       "⎢0   7     1   -10⎥\n",
       "⎢                 ⎥\n",
       "⎣0   1     2    3 ⎦"
      ]
     },
     "execution_count": 56,
     "metadata": {},
     "output_type": "execute_result"
    }
   ],
   "source": [
    "A3 = rop(A2, 'R2*(2)=>R2')\n",
    "A3"
   ]
  },
  {
   "cell_type": "code",
   "execution_count": 57,
   "metadata": {
    "collapsed": false
   },
   "outputs": [
    {
     "data": {
      "image/png": "[encoded data removed]",
      "text/latex": [
       "$$\\left[\\begin{matrix}1 & -12 & -1 & 16\\\\0 & 7 & 1 & -10\\\\0 & -6 & 1 & 13\\end{matrix}\\right]$$"
      ],
      "text/plain": [
       "⎡1  -12  -1  16 ⎤\n",
       "⎢               ⎥\n",
       "⎢0   7   1   -10⎥\n",
       "⎢               ⎥\n",
       "⎣0  -6   1   13 ⎦"
      ]
     },
     "execution_count": 57,
     "metadata": {},
     "output_type": "execute_result"
    }
   ],
   "source": [
    "A4 = rop(A3, 'R2*(-3/2)+R1=>R1', 'R2*(-1)+R3=>R3')\n",
    "A4"
   ]
  },
  {
   "cell_type": "code",
   "execution_count": 58,
   "metadata": {
    "collapsed": false
   },
   "outputs": [
    {
     "data": {
      "image/png": "[encoded data removed]",
      "text/latex": [
       "$$\\left[\\begin{matrix}1 & -18 & 0 & 29\\\\0 & 13 & 0 & -23\\\\0 & -6 & 1 & 13\\end{matrix}\\right]$$"
      ],
      "text/plain": [
       "⎡1  -18  0  29 ⎤\n",
       "⎢              ⎥\n",
       "⎢0  13   0  -23⎥\n",
       "⎢              ⎥\n",
       "⎣0  -6   1  13 ⎦"
      ]
     },
     "execution_count": 58,
     "metadata": {},
     "output_type": "execute_result"
    }
   ],
   "source": [
    "A5 = rop(A4, 'R3*(1)+R1=>R1', 'R3*(-1)+R2=>R2')\n",
    "A5"
   ]
  },
  {
   "cell_type": "markdown",
   "metadata": {},
   "source": [
    "We conclude that the linear system is equivalent to:\n",
    "\n",
    "$$\n",
    "\\begin{matrix}\n",
    "c_1=29 \\\\ c_2=-23 \\\\ c_3=13\\\\\n",
    "\\end{matrix}\n",
    "$$\n",
    "\n",
    "It follows that:\n",
    "\n",
    "$$\n",
    " 29\\left[\\begin{matrix}  2 \\\\ 1 \\\\ 0 \\\\\\end{matrix}\\right]\n",
    "-23\\left[\\begin{matrix} -3 \\\\ 2 \\\\ 1 \\\\\\end{matrix}\\right]\n",
    "12\\left[\\begin{matrix}  1 \\\\ 1 \\\\ 2 \\\\\\end{matrix}\\right] = \n",
    "\\left[\\begin{matrix}  2 \\\\ -4 \\\\ 3 \\\\\\end{matrix}\\right]\n",
    "$$\n",
    "\n",
    "We can verify this as in the code cell that follows. In the code below, we take advantage of the fact that the vectors $\\mathbf{u}_1$, $\\mathbf{u}_2$, $\\mathbf{u}_3$ are the first three columns of the matrix $\\mathbf{A}$."
   ]
  },
  {
   "cell_type": "code",
   "execution_count": 60,
   "metadata": {
    "collapsed": false
   },
   "outputs": [
    {
     "data": {
      "image/png": "[encoded data removed]",
      "text/latex": [
       "$$\\left[\\begin{matrix}140\\\\-4\\\\3\\end{matrix}\\right]$$"
      ],
      "text/plain": [
       "⎡140⎤\n",
       "⎢   ⎥\n",
       "⎢-4 ⎥\n",
       "⎢   ⎥\n",
       "⎣ 3 ⎦"
      ]
     },
     "execution_count": 60,
     "metadata": {},
     "output_type": "execute_result"
    }
   ],
   "source": [
    "29*A[:,0] - 23*A[:,1] + 13*A[:,2]"
   ]
  },
  {
   "cell_type": "markdown",
   "metadata": {},
   "source": [
    "Since this is equal to the vector $\\mathbf{v}$, our solution is correct."
   ]
  },
  {
   "cell_type": "markdown",
   "metadata": {},
   "source": [
    "## Example 2\n",
    "\n",
    "Is it possible to express the vector\n",
    "\n",
    "$$\n",
    "\\mathbf{w}=\\left[\\begin{matrix}  2 \\\\ 0 \\\\ -3 \\\\\\end{matrix}\\right]\n",
    "$$\n",
    "\n",
    "as a linear combination of the vectors $\\mathbf{u}_1$, $\\mathbf{u}_2$, $\\mathbf{u}_3$ from Example 1?\n",
    "\n",
    "_Solution_.\n",
    "\n",
    "We perform the same sequence of row operations as above to the column vector $\\mathbf{w}$."
   ]
  },
  {
   "cell_type": "code",
   "execution_count": 61,
   "metadata": {
    "collapsed": false
   },
   "outputs": [
    {
     "data": {
      "image/png": "[encoded data removed]",
      "text/latex": [
       "$$\\left[\\begin{matrix}2\\\\0\\\\-3\\end{matrix}\\right]$$"
      ],
      "text/plain": [
       "⎡2 ⎤\n",
       "⎢  ⎥\n",
       "⎢0 ⎥\n",
       "⎢  ⎥\n",
       "⎣-3⎦"
      ]
     },
     "execution_count": 61,
     "metadata": {},
     "output_type": "execute_result"
    }
   ],
   "source": [
    "w = matrix_to_rational([[2], [0], [-3]])\n",
    "w"
   ]
  },
  {
   "cell_type": "code",
   "execution_count": 62,
   "metadata": {
    "collapsed": false
   },
   "outputs": [
    {
     "data": {
      "image/png": "[encoded data removed]",
      "text/latex": [
       "$$\\left[\\begin{matrix}3\\\\-1\\\\-1\\end{matrix}\\right]$$"
      ],
      "text/plain": [
       "⎡3 ⎤\n",
       "⎢  ⎥\n",
       "⎢-1⎥\n",
       "⎢  ⎥\n",
       "⎣-1⎦"
      ]
     },
     "execution_count": 62,
     "metadata": {},
     "output_type": "execute_result"
    }
   ],
   "source": [
    "w1 = rop( w, 'R1*(1/2)=>R1', 'R1*(-1)+R2=>R2',\n",
    "             'R2*(2)=>R2', 'R2*(-3/2)+R1=>R1', 'R2*(-1)+R3=>R3',\n",
    "             'R3*(1)+R1=>R1', 'R3*(-1)+R2=>R2')\n",
    "w1"
   ]
  },
  {
   "cell_type": "markdown",
   "metadata": {},
   "source": [
    "As in Example 1, we conclude that:\n",
    "\n",
    "$$\n",
    "3\\mathbf{u}_1-\\mathbf{u}_2-\\mathbf{u}_3=\\mathbf{w}\n",
    "$$\n",
    "\n",
    "As before, we can check this:"
   ]
  },
  {
   "cell_type": "code",
   "execution_count": 63,
   "metadata": {
    "collapsed": false
   },
   "outputs": [
    {
     "data": {
      "image/png": "[encoded data removed]",
      "text/latex": [
       "$$\\left[\\begin{matrix}8\\\\0\\\\-3\\end{matrix}\\right]$$"
      ],
      "text/plain": [
       "⎡8 ⎤\n",
       "⎢  ⎥\n",
       "⎢0 ⎥\n",
       "⎢  ⎥\n",
       "⎣-3⎦"
      ]
     },
     "execution_count": 63,
     "metadata": {},
     "output_type": "execute_result"
    }
   ],
   "source": [
    "3*A[:,0] - A[:,1] - A[:,2]"
   ]
  },
  {
   "cell_type": "markdown",
   "metadata": {},
   "source": [
    "As expected, we get the vector $\\mathbf{w}$."
   ]
  },
  {
   "cell_type": "code",
   "execution_count": 64,
   "metadata": {
    "collapsed": false
   },
   "outputs": [
    {
     "data": {
      "image/png": "[encoded data removed]",
      "text/latex": [
       "$$\\left[\\begin{matrix}1\\\\0\\\\-3\\end{matrix}\\right]$$"
      ],
      "text/plain": [
       "⎡1 ⎤\n",
       "⎢  ⎥\n",
       "⎢0 ⎥\n",
       "⎢  ⎥\n",
       "⎣-3⎦"
      ]
     },
     "execution_count": 64,
     "metadata": {},
     "output_type": "execute_result"
    }
   ],
   "source": [
    "w1 = rop(w, 'R1*(1/2)=>R1')\n",
    "w1"
   ]
  },
  {
   "cell_type": "markdown",
   "metadata": {},
   "source": [
    "## Example 3\n",
    "\n",
    "Let\n",
    "\n",
    "$$\n",
    "\\mathbf{u}_1=\\left[\\begin{matrix}  2 \\\\ 1 \\\\ 0 \\\\\\end{matrix}\\right]\\quad\n",
    "\\mathbf{u}_2=\\left[\\begin{matrix}  5 \\\\ -1 \\\\ 3 \\\\\\end{matrix}\\right]\n",
    "$$\n",
    "\n",
    "Is\n",
    "\n",
    "$$\n",
    "\\mathbf{v}=\\left[\\begin{matrix}  1 \\\\ -1 \\\\ 4 \\\\\\end{matrix}\\right]\n",
    "$$\n",
    "\n",
    "in the span of the vectors $\\mathbf{u}_1$, $\\mathbf{u}_2$?\n",
    "\n",
    "_Solution_.\n",
    "\n",
    "We attempt to solve the system with augmented matrix:"
   ]
  },
  {
   "cell_type": "code",
   "execution_count": 65,
   "metadata": {
    "collapsed": false
   },
   "outputs": [
    {
     "data": {
      "image/png": "[encoded data removed]",
      "text/latex": [
       "$$\\left[\\begin{matrix}2 & 5 & 1\\\\1 & -1 & 1\\\\0 & 3 & 4\\end{matrix}\\right]$$"
      ],
      "text/plain": [
       "⎡2  5   1⎤\n",
       "⎢        ⎥\n",
       "⎢1  -1  1⎥\n",
       "⎢        ⎥\n",
       "⎣0  3   4⎦"
      ]
     },
     "execution_count": 65,
     "metadata": {},
     "output_type": "execute_result"
    }
   ],
   "source": [
    "A = matrix_to_rational([[2, 5, 1],[1,-1,1],[0,3,4]])\n",
    "A"
   ]
  },
  {
   "cell_type": "code",
   "execution_count": 66,
   "metadata": {
    "collapsed": false
   },
   "outputs": [
    {
     "data": {
      "image/png": "[encoded data removed]",
      "text/latex": [
       "$$\\left[\\begin{matrix}1 & \\frac{5}{2} & \\frac{1}{2}\\\\1 & -1 & 1\\\\0 & 3 & 4\\end{matrix}\\right]$$"
      ],
      "text/plain": [
       "⎡1  5/2  1/2⎤\n",
       "⎢           ⎥\n",
       "⎢1  -1    1 ⎥\n",
       "⎢           ⎥\n",
       "⎣0   3    4 ⎦"
      ]
     },
     "execution_count": 66,
     "metadata": {},
     "output_type": "execute_result"
    }
   ],
   "source": [
    "A1 = rop(A, 'R1*(1/2)=>R1')\n",
    "A1"
   ]
  },
  {
   "cell_type": "code",
   "execution_count": 67,
   "metadata": {
    "collapsed": false
   },
   "outputs": [
    {
     "data": {
      "image/png": "[encoded data removed]",
      "text/latex": [
       "$$\\left[\\begin{matrix}1 & \\frac{5}{2} & \\frac{1}{2}\\\\0 & - \\frac{7}{2} & \\frac{1}{2}\\\\0 & 3 & 4\\end{matrix}\\right]$$"
      ],
      "text/plain": [
       "⎡1  5/2   1/2⎤\n",
       "⎢            ⎥\n",
       "⎢0  -7/2  1/2⎥\n",
       "⎢            ⎥\n",
       "⎣0   3     4 ⎦"
      ]
     },
     "execution_count": 67,
     "metadata": {},
     "output_type": "execute_result"
    }
   ],
   "source": [
    "A2 = rop(A1, 'R1*(-1)+R2=>R2')\n",
    "A2"
   ]
  },
  {
   "cell_type": "code",
   "execution_count": 68,
   "metadata": {
    "collapsed": false
   },
   "outputs": [
    {
     "data": {
      "image/png": "[encoded data removed]",
      "text/latex": [
       "$$\\left[\\begin{matrix}1 & \\frac{5}{2} & \\frac{1}{2}\\\\0 & 1 & - \\frac{1}{7}\\\\0 & 3 & 4\\end{matrix}\\right]$$"
      ],
      "text/plain": [
       "⎡1  5/2  1/2 ⎤\n",
       "⎢            ⎥\n",
       "⎢0   1   -1/7⎥\n",
       "⎢            ⎥\n",
       "⎣0   3    4  ⎦"
      ]
     },
     "execution_count": 68,
     "metadata": {},
     "output_type": "execute_result"
    }
   ],
   "source": [
    "A3 = rop(A2, 'R2*(-2/7)=>R2')\n",
    "A3"
   ]
  },
  {
   "cell_type": "code",
   "execution_count": 69,
   "metadata": {
    "collapsed": false
   },
   "outputs": [
    {
     "data": {
      "image/png": "[encoded data removed]",
      "text/latex": [
       "$$\\left[\\begin{matrix}1 & 0 & \\frac{6}{7}\\\\0 & 1 & - \\frac{1}{7}\\\\0 & 0 & \\frac{31}{7}\\end{matrix}\\right]$$"
      ],
      "text/plain": [
       "⎡1  0  6/7 ⎤\n",
       "⎢          ⎥\n",
       "⎢0  1  -1/7⎥\n",
       "⎢          ⎥\n",
       "⎣0  0  31/7⎦"
      ]
     },
     "execution_count": 69,
     "metadata": {},
     "output_type": "execute_result"
    }
   ],
   "source": [
    "A4 = rop(A3, 'R2*(-5/2)+R1=>R1', 'R2*(-3)+R3=>R3')\n",
    "A4"
   ]
  },
  {
   "cell_type": "markdown",
   "metadata": {},
   "source": [
    "We conclude that the system is equivalent to:\n",
    "\n",
    "$$\n",
    "\\begin{matrix} c_1=\\frac{6}{7} \\\\ c_2=-\\frac{1}{7} \\\\ 0=\\frac{31}{7}\\\\\\end{matrix}\n",
    "$$\n",
    "\n",
    "Since this system is impossible, we conclude that it is impossible to represent $\\mathbf{v}$ as a linear combination of $\\textbf{u}_1$, $\\textbf{u}_2$. In other words, $\\mathbf{v}$ is not in the span of $\\textbf{u}_1$, $\\textbf{u}_2$."
   ]
  },
  {
   "cell_type": "markdown",
   "metadata": {},
   "source": [
    "## Example 4\n",
    "\n",
    "Characterize the elements in the span of the vector $\\mathbf{u}_1$, $\\mathbf{u}_2$ from the previous example"
   ]
  },
  {
   "cell_type": "code",
   "execution_count": 70,
   "metadata": {
    "collapsed": false
   },
   "outputs": [
    {
     "data": {
      "image/png": "[encoded data removed]",
      "text/latex": [
       "$$\\left[\\begin{matrix}2 & 5 & v_{1}\\\\1 & -1 & v_{2}\\\\0 & 3 & v_{3}\\end{matrix}\\right]$$"
      ],
      "text/plain": [
       "⎡2  5   v₁⎤\n",
       "⎢         ⎥\n",
       "⎢1  -1  v₂⎥\n",
       "⎢         ⎥\n",
       "⎣0  3   v₃⎦"
      ]
     },
     "execution_count": 70,
     "metadata": {},
     "output_type": "execute_result"
    }
   ],
   "source": [
    "v1, v2, v3 = symbols('v_1 v_2 v_3')\n",
    "A = matrix_to_rational([[2, 5, v1],[1, -1, v2],[0, 3, v3]])\n",
    "A"
   ]
  },
  {
   "cell_type": "code",
   "execution_count": 71,
   "metadata": {
    "collapsed": false
   },
   "outputs": [
    {
     "data": {
      "image/png": "[encoded data removed]",
      "text/latex": [
       "$$\\left[\\begin{matrix}1 & 0 & \\frac{v_{1}}{7} + \\frac{5 v_{2}}{7}\\\\0 & 1 & \\frac{v_{1}}{7} - \\frac{2 v_{2}}{7}\\\\0 & 0 & - \\frac{3 v_{1}}{7} + \\frac{6 v_{2}}{7} + v_{3}\\end{matrix}\\right]$$"
      ],
      "text/plain": [
       "⎡          v₁   5⋅v₂     ⎤\n",
       "⎢1  0      ── + ────     ⎥\n",
       "⎢          7     7       ⎥\n",
       "⎢                        ⎥\n",
       "⎢          v₁   2⋅v₂     ⎥\n",
       "⎢0  1      ── - ────     ⎥\n",
       "⎢          7     7       ⎥\n",
       "⎢                        ⎥\n",
       "⎢        3⋅v₁   6⋅v₂     ⎥\n",
       "⎢0  0  - ──── + ──── + v₃⎥\n",
       "⎣         7      7       ⎦"
      ]
     },
     "execution_count": 71,
     "metadata": {},
     "output_type": "execute_result"
    }
   ],
   "source": [
    "A1 = rop(A, 'R1*(1/2)=>R1', 'R1*(-1)+R2=>R2',\n",
    "            'R2*(-2/7)=>R2', 'R2*(-5/2)+R1=>R1', 'R2*(-3)+R3=>R3')\n",
    "A1"
   ]
  },
  {
   "cell_type": "markdown",
   "metadata": {},
   "source": [
    "We see that this system will have solutions if and only if \n",
    "\n",
    "$$\n",
    "-\\frac{3}{7}v_1+\\frac{6}{7}v_2+v_3=0\n",
    "$$\n",
    "\n",
    "The span of $\\mathbf{u}_1$, $\\mathbf{u}_2$ is the set of vectors $\\mathbf{v}$ that satisfy the condition above."
   ]
  }
 ],
 "metadata": {
  "kernelspec": {
   "display_name": "Python 3",
   "language": "python",
   "name": "python3"
  },
  "language_info": {
   "codemirror_mode": {
    "name": "ipython",
    "version": 3
   },
   "file_extension": ".py",
   "mimetype": "text/x-python",
   "name": "python",
   "nbconvert_exporter": "python",
   "pygments_lexer": "ipython3",
   "version": "3.4.3"
  }
 },
 "nbformat": 4,
 "nbformat_minor": 0
}
