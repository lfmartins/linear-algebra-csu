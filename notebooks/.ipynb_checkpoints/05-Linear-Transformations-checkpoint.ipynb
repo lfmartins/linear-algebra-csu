{
 "cells": [
  {
   "cell_type": "code",
   "execution_count": null,
   "metadata": {
    "collapsed": true
   },
   "outputs": [],
   "source": [
    "%run rop.py\n",
    "from sympy import *\n",
    "init_printing(use_latex=True) # Change to use_latex=False if Latex is not installed"
   ]
  },
  {
   "cell_type": "markdown",
   "metadata": {},
   "source": [
    "# Linear Transformations\n",
    "\n",
    "A _linear transformation_ on Euclidean spaces is a function $T:"
   ]
  },
  {
   "cell_type": "markdown",
   "metadata": {},
   "source": [
    "\n",
    "\n",
    "## Example 1\n",
    "\n",
    "Let $T:\\mathbb{R}^3\\to\\mathbb{R}^2$ be the linear transformation defined by:\n",
    "\n",
    "$$\n",
    "T(\\mathbf{u})=\n",
    "\\left[\\begin{matrix} 1 & -2 & 4 \\\\ 3 & 0 & -5\\\\\\end{matrix}\\right]\n",
    "\\left[\\begin{matrix} u_1 \\\\ u_2 \\\\ u_3 \\end{matrix}\\right]\n",
    "$$\n",
    "\n",
    "Determine the range of $T$.\n",
    "\n",
    "### Solution\n",
    "\n",
    "We have to characterize the vectors $\\mathbf(w)$ in $\\mathbb{R}^2$ such that $T(\\mathbf{u})=\\mathbf{w}$ for some vector $\\mathbf{u}$. That means that we have to solve the equation: \n",
    "\n",
    "$$\n",
    "\\left[\\begin{matrix}1 & -2 & 4 \\\\ 3 & 0 & -5\\\\\\end{matrix}\\right]\\left[\\begin{matrix} u_1 \\\\ u_2 \\\\ u_3 \\end{matrix}\\right]=\n",
    "\\left[\\begin{matrix} v_1 \\\\ v_2 \\\\\\end{matrix}\\right]\n",
    "$$\n",
    "\n",
    "We solve this matrix equation in the usual way, by setting up the augmented matrix and using row operations until we get a matrix in reduced row echelon form."
   ]
  },
  {
   "cell_type": "code",
   "execution_count": 1,
   "metadata": {
    "collapsed": false
   },
   "outputs": [],
   "source": [
    "%run rop.py"
   ]
  },
  {
   "cell_type": "code",
   "execution_count": 5,
   "metadata": {
    "collapsed": false
   },
   "outputs": [],
   "source": [
    "from sympy import * \n",
    "init_printing(use_latex=True) # Change to use_latex=False if Latex is not installed"
   ]
  },
  {
   "cell_type": "code",
   "execution_count": 6,
   "metadata": {
    "collapsed": false
   },
   "outputs": [
    {
     "ename": "NameError",
     "evalue": "name 'matrix_to_rational' is not defined",
     "output_type": "error",
     "traceback": [
      "\u001b[0;31m---------------------------------------------------------------------------\u001b[0m",
      "\u001b[0;31mNameError\u001b[0m                                 Traceback (most recent call last)",
      "\u001b[0;32m<ipython-input-6-668868edd3ef>\u001b[0m in \u001b[0;36m<module>\u001b[0;34m()\u001b[0m\n\u001b[1;32m      1\u001b[0m \u001b[0mv1\u001b[0m\u001b[0;34m,\u001b[0m \u001b[0mv2\u001b[0m \u001b[0;34m=\u001b[0m \u001b[0msymbols\u001b[0m\u001b[0;34m(\u001b[0m\u001b[0;34m'v_1 v_2'\u001b[0m\u001b[0;34m)\u001b[0m\u001b[0;34m\u001b[0m\u001b[0m\n\u001b[0;32m----> 2\u001b[0;31m A = matrix_to_rational([[1, -2, 4, w1],\n\u001b[0m\u001b[1;32m      3\u001b[0m                         [3, 0, -5, w2]])\n\u001b[1;32m      4\u001b[0m \u001b[0mA\u001b[0m\u001b[0;34m\u001b[0m\u001b[0m\n",
      "\u001b[0;31mNameError\u001b[0m: name 'matrix_to_rational' is not defined"
     ]
    }
   ],
   "source": [
    "v1, v2 = symbols('v_1 v_2')\n",
    "A = matrix_to_rational([[1, -2, 4, w1],\n",
    "                        [3, 0, -5, w2]])\n",
    "A"
   ]
  },
  {
   "cell_type": "code",
   "execution_count": 3,
   "metadata": {
    "collapsed": false
   },
   "outputs": [
    {
     "data": {
      "image/png": "[encoded data removed]",
      "text/latex": [
       "$$\\left[\\begin{matrix}1 & -2 & 4 & w_{1}\\\\0 & 6 & -17 & - 3 w_{1} + w_{2}\\end{matrix}\\right]$$"
      ],
      "text/plain": [
       "⎡1  -2   4       w₁    ⎤\n",
       "⎢                      ⎥\n",
       "⎣0  6   -17  -3⋅w₁ + w₂⎦"
      ]
     },
     "execution_count": 3,
     "metadata": {},
     "output_type": "execute_result"
    }
   ],
   "source": [
    "A1 = rop(A, 'R1*(-3)+R2=>R2')\n",
    "A1"
   ]
  },
  {
   "cell_type": "code",
   "execution_count": 4,
   "metadata": {
    "collapsed": false
   },
   "outputs": [
    {
     "data": {
      "image/png": "[encoded data removed]",
      "text/latex": [
       "$$\\left[\\begin{matrix}1 & -2 & 4 & w_{1}\\\\0 & 1 & - \\frac{17}{6} & - \\frac{w_{1}}{2} + \\frac{w_{2}}{6}\\end{matrix}\\right]$$"
      ],
      "text/plain": [
       "⎡1  -2    4       w₁    ⎤\n",
       "⎢                       ⎥\n",
       "⎢                w₁   w₂⎥\n",
       "⎢0  1   -17/6  - ── + ──⎥\n",
       "⎣                2    6 ⎦"
      ]
     },
     "execution_count": 4,
     "metadata": {},
     "output_type": "execute_result"
    }
   ],
   "source": [
    "A2 = rop(A1, 'R2*(1/6)=>R2')\n",
    "A2"
   ]
  },
  {
   "cell_type": "code",
   "execution_count": 5,
   "metadata": {
    "collapsed": false
   },
   "outputs": [
    {
     "data": {
      "image/png": "[encoded data removed]",
      "text/latex": [
       "$$\\left[\\begin{matrix}1 & 0 & - \\frac{5}{3} & \\frac{w_{2}}{3}\\\\0 & 1 & - \\frac{17}{6} & - \\frac{w_{1}}{2} + \\frac{w_{2}}{6}\\end{matrix}\\right]$$"
      ],
      "text/plain": [
       "⎡                w₂    ⎤\n",
       "⎢1  0  -5/3      ──    ⎥\n",
       "⎢                3     ⎥\n",
       "⎢                      ⎥\n",
       "⎢               w₁   w₂⎥\n",
       "⎢0  1  -17/6  - ── + ──⎥\n",
       "⎣               2    6 ⎦"
      ]
     },
     "execution_count": 5,
     "metadata": {},
     "output_type": "execute_result"
    }
   ],
   "source": [
    "A3 = rop(A2, 'R2*(2)+R1=>R1')\n",
    "A3"
   ]
  },
  {
   "cell_type": "markdown",
   "metadata": {},
   "source": [
    "It follows that the system is equivalent to:\n",
    "\n",
    "$$\n",
    "\\begin{matrix}\n",
    "u_1-\\frac{5}{3}u_3=\\frac{w_2}{3}\\\\\n",
    "u_2-\\frac{17}{6}u_3=-\\frac{w_1}{2}+\\frac{w_2}{6}\n",
    "\\end{matrix}\n",
    "$$\n",
    "\n",
    "It is important to keep the meaning of the variables straight. We are assuming that $w_1$ and $w_2$ are given, and we have to find $u_1$, $u_2$ and $u_3$. It is clear that this can always be done. We can for example, let $u_3=0$, which gives the solution:\n",
    "\n",
    "$$\n",
    "\\begin{matrix}\n",
    "u_1=\\frac{w_2}{3}\\\\\n",
    "u_2=-\\frac{w_1}{2}+\\frac{w_2}{6}\\\\\n",
    "u_3=0\n",
    "\\end{matrix}\n",
    "$$\n",
    "\n",
    "We conclude that the range of $T$ is all of $\\mathbb{R}^2$. For a concrete example, let's suppose that $\\mathbf{w}=\\left[\\begin{matrix}3 \\\\ 4 \\end{matrix}\\right]$. Then, if we let:\n",
    "\n",
    "$$\n",
    "\\begin{matrix}\n",
    "u_1=\\frac{w_2}{3}=\\frac{4}{3}=1\\\\\n",
    "u_2=-\\frac{w_1}{2}+\\frac{w_2}{6}=-\\frac{3}{2}+\\frac{4}{6}=\\frac{-5}{6}\\\\\n",
    "u_3=0\n",
    "\\end{matrix}\n",
    "$$\n",
    "\n",
    "we get the a vector $\\mathbf{u}$ such that $T(\\mathbf{u})=\\mathbf{w}$. We can verify this as follows:"
   ]
  },
  {
   "cell_type": "code",
   "execution_count": 14,
   "metadata": {
    "collapsed": false
   },
   "outputs": [
    {
     "data": {
      "image/png": "[encoded data removed]",
      "text/latex": [
       "$$\\left[\\begin{matrix}\\frac{4}{3}\\\\- \\frac{5}{6}\\\\0\\end{matrix}\\right]$$"
      ],
      "text/plain": [
       "⎡4/3 ⎤\n",
       "⎢    ⎥\n",
       "⎢-5/6⎥\n",
       "⎢    ⎥\n",
       "⎣ 0  ⎦"
      ]
     },
     "execution_count": 14,
     "metadata": {},
     "output_type": "execute_result"
    }
   ],
   "source": [
    "u = matrix_to_rational([[4/3], [-5/6], [0]])\n",
    "u"
   ]
  },
  {
   "cell_type": "code",
   "execution_count": 15,
   "metadata": {
    "collapsed": false
   },
   "outputs": [
    {
     "data": {
      "image/png": "[encoded data removed]",
      "text/latex": [
       "$$\\left[\\begin{matrix}3\\\\4\\end{matrix}\\right]$$"
      ],
      "text/plain": [
       "⎡3⎤\n",
       "⎢ ⎥\n",
       "⎣4⎦"
      ]
     },
     "execution_count": 15,
     "metadata": {},
     "output_type": "execute_result"
    }
   ],
   "source": [
    "A[:,:3] * u"
   ]
  },
  {
   "cell_type": "code",
   "execution_count": 8,
   "metadata": {
    "collapsed": false
   },
   "outputs": [
    {
     "data": {
      "image/png": "[encoded data removed]",
      "text/latex": [
       "$$- \\frac{5}{6}$$"
      ],
      "text/plain": [
       "-5/6"
      ]
     },
     "execution_count": 8,
     "metadata": {},
     "output_type": "execute_result"
    }
   ],
   "source": [
    "-Rational(3,2)+Rational(4,6)"
   ]
  },
  {
   "cell_type": "markdown",
   "metadata": {},
   "source": [
    "## Example 2\n",
    "\n",
    "Let $T:\\mathbb{R}^3\\to\\mathbb{R}^2$ be the linear transformation defined by:\n",
    "\n",
    "$$\n",
    "T(\\mathbf{u})=\n",
    "\\left[\\begin{matrix} 1 & -2 & 4 \\\\ 3 & 0 & -5\\\\\\end{matrix}\\right]\n",
    "\\left[\\begin{matrix} u_1 \\\\ u_2 \\\\ u_3 \\end{matrix}\\right]\n",
    "$$\n",
    "\n",
    "Determine the range of $T$.\n",
    "\n",
    "### Solution\n",
    "\n",
    "We have to characterize the vectors $\\mathbf(w)$ in $\\mathbb{R}^2$ such that $T(\\mathbf{u})=\\mathbf{w}$ for some vector $\\mathbf{u}$. That means that we have to solve the equation: \n",
    "\n",
    "$$\n",
    "\\left[\\begin{matrix}1 & -2 & 4 \\\\ 3 & 0 & -5\\\\\\end{matrix}\\right]\\left[\\begin{matrix} u_1 \\\\ u_2 \\\\ u_3 \\end{matrix}\\right]=\n",
    "\\left[\\begin{matrix} w_1 \\\\ w_2 \\\\\\end{matrix}\\right]\n",
    "$$\n",
    "\n",
    "We solve this matrix equation in the usual way, by setting up the augmented matrix and using row operations until we get a matrix in reduced row echelon form."
   ]
  },
  {
   "cell_type": "code",
   "execution_count": null,
   "metadata": {
    "collapsed": true
   },
   "outputs": [],
   "source": []
  }
 ],
 "metadata": {
  "kernelspec": {
   "display_name": "Python 3",
   "language": "python",
   "name": "python3"
  },
  "language_info": {
   "codemirror_mode": {
    "name": "ipython",
    "version": 3
   },
   "file_extension": ".py",
   "mimetype": "text/x-python",
   "name": "python",
   "nbconvert_exporter": "python",
   "pygments_lexer": "ipython3",
   "version": "3.5.1"
  }
 },
 "nbformat": 4,
 "nbformat_minor": 0
}
