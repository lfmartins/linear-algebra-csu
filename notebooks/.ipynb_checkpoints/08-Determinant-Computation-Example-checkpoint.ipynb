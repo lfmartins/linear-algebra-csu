{
 "cells": [
  {
   "cell_type": "code",
   "execution_count": 2,
   "metadata": {
    "collapsed": true
   },
   "outputs": [],
   "source": [
    "from latools import *\n",
    "from sympy import *\n",
    "init_printing(use_latex=True)"
   ]
  },
  {
   "cell_type": "markdown",
   "metadata": {},
   "source": [
    "# Computing Determinants Using Row Operations\n",
    "\n",
    "To compute the determinant of a matrix $A$ using Row operations, proceed as follows:\n",
    "\n",
    "- Use row operations to reduce the matrix to a triangular matrix $T$. Use only the following two kinds of operation:\n",
    "    - Type 1: $\\mathtt{Ri*(c)+Rj=>Rj}$ - Multiply a row by a scalar and add to another row ($\\mathtt{i}\\ne\\mathtt{j}$)\n",
    "    - Type 3: $\\mathtt{Ri<=>Rj}$: - Swap rows $\\mathtt{i}$ and $\\mathtt{j}$ ($\\mathtt{i}\\ne\\mathtt{j}$)\n",
    "- The determinant of $A$ is then given by:\n",
    "\n",
    "$$\n",
    "(-1)^{\\text{(Number of row swaps)}}\\times\\text{(Product of diagonal entries of $T$)}\n",
    "$$\n",
    "\n",
    "The following cells show how to compute the determinant of the $5\\times5$ matrix\n",
    "\n",
    "$$\n",
    "A = \\left[\\begin{matrix}3 & -2 & 1 & \\frac{1}{4} & 0\\\\\\frac{2}{3} & - \\frac{4}{9} & -4 & 2 & 3\\\\4 & -1 & \\frac{1}{2} & 5 & 2\\\\-2 & 2 & 1 & 0 & 1\\\\2 & \\frac{5}{2} & -2 & 3 & -3\\end{matrix}\\right]\n",
    "$$"
   ]
  },
  {
   "cell_type": "code",
   "execution_count": 3,
   "metadata": {
    "collapsed": false
   },
   "outputs": [
    {
     "data": {
      "image/png": "[encoded data removed]",
      "text/latex": [
       "$$\\left[\\begin{matrix}3 & -2 & 1 & \\frac{1}{4} & 0\\\\\\frac{2}{3} & - \\frac{4}{9} & -4 & 2 & 3\\\\4 & -1 & \\frac{1}{2} & 5 & 2\\\\-2 & 2 & 1 & 0 & 1\\\\2 & \\frac{5}{2} & -2 & 3 & -3\\end{matrix}\\right]$$"
      ],
      "text/plain": [
       "⎡ 3    -2    1   1/4  0 ⎤\n",
       "⎢                       ⎥\n",
       "⎢2/3  -4/9  -4    2   3 ⎥\n",
       "⎢                       ⎥\n",
       "⎢ 4    -1   1/2   5   2 ⎥\n",
       "⎢                       ⎥\n",
       "⎢-2    2     1    0   1 ⎥\n",
       "⎢                       ⎥\n",
       "⎣ 2   5/2   -2    3   -3⎦"
      ]
     },
     "execution_count": 3,
     "metadata": {},
     "output_type": "execute_result"
    }
   ],
   "source": [
    "A = matrix_to_rational([[  3,   -2,   1, 1/4,  0],\n",
    "                        [2/3, -4/9,  -4,   2,  3],\n",
    "                        [  4,   -1, 1/2,   5,  2],\n",
    "                        [ -2,    2,   1,   0,  1],\n",
    "                        [  2,  5/2,  -2,   3, -3]])\n",
    "A"
   ]
  },
  {
   "cell_type": "code",
   "execution_count": 4,
   "metadata": {
    "collapsed": false
   },
   "outputs": [
    {
     "data": {
      "image/png": "[encoded data removed]",
      "text/latex": [
       "$$\\left[\\begin{matrix}3 & -2 & 1 & \\frac{1}{4} & 0\\\\0 & 0 & - \\frac{38}{9} & \\frac{35}{18} & 3\\\\0 & \\frac{5}{3} & - \\frac{5}{6} & \\frac{14}{3} & 2\\\\0 & \\frac{2}{3} & \\frac{5}{3} & \\frac{1}{6} & 1\\\\0 & \\frac{23}{6} & - \\frac{8}{3} & \\frac{17}{6} & -3\\end{matrix}\\right]$$"
      ],
      "text/plain": [
       "⎡3   -2     1    1/4   0 ⎤\n",
       "⎢                        ⎥\n",
       "⎢                 35     ⎥\n",
       "⎢0   0    -38/9   ──   3 ⎥\n",
       "⎢                 18     ⎥\n",
       "⎢                        ⎥\n",
       "⎢0  5/3   -5/6   14/3  2 ⎥\n",
       "⎢                        ⎥\n",
       "⎢0  2/3    5/3   1/6   1 ⎥\n",
       "⎢                        ⎥\n",
       "⎣0  23/6  -8/3   17/6  -3⎦"
      ]
     },
     "execution_count": 4,
     "metadata": {},
     "output_type": "execute_result"
    }
   ],
   "source": [
    "A1 = rop(A, 'R1*(-2/9)+R2=>R2', 'R1*(-4/3)+R3=>R3', 'R1*(2/3)+R4=>R4', 'R1*(-2/3)+R5=>R5')\n",
    "A1"
   ]
  },
  {
   "cell_type": "code",
   "execution_count": 5,
   "metadata": {
    "collapsed": false
   },
   "outputs": [
    {
     "data": {
      "image/png": "[encoded data removed]",
      "text/latex": [
       "$$\\left[\\begin{matrix}3 & -2 & 1 & \\frac{1}{4} & 0\\\\0 & \\frac{5}{3} & - \\frac{5}{6} & \\frac{14}{3} & 2\\\\0 & 0 & - \\frac{38}{9} & \\frac{35}{18} & 3\\\\0 & \\frac{2}{3} & \\frac{5}{3} & \\frac{1}{6} & 1\\\\0 & \\frac{23}{6} & - \\frac{8}{3} & \\frac{17}{6} & -3\\end{matrix}\\right]$$"
      ],
      "text/plain": [
       "⎡3   -2     1    1/4   0 ⎤\n",
       "⎢                        ⎥\n",
       "⎢0  5/3   -5/6   14/3  2 ⎥\n",
       "⎢                        ⎥\n",
       "⎢                 35     ⎥\n",
       "⎢0   0    -38/9   ──   3 ⎥\n",
       "⎢                 18     ⎥\n",
       "⎢                        ⎥\n",
       "⎢0  2/3    5/3   1/6   1 ⎥\n",
       "⎢                        ⎥\n",
       "⎣0  23/6  -8/3   17/6  -3⎦"
      ]
     },
     "execution_count": 5,
     "metadata": {},
     "output_type": "execute_result"
    }
   ],
   "source": [
    "A2 = rop(A1, 'R2<=>R3')   # 1 row swap\n",
    "A2"
   ]
  },
  {
   "cell_type": "code",
   "execution_count": 6,
   "metadata": {
    "collapsed": false
   },
   "outputs": [
    {
     "data": {
      "image/png": "[encoded data removed]",
      "text/latex": [
       "$$\\left[\\begin{matrix}3 & -2 & 1 & \\frac{1}{4} & 0\\\\0 & \\frac{5}{3} & - \\frac{5}{6} & \\frac{14}{3} & 2\\\\0 & 0 & - \\frac{38}{9} & \\frac{35}{18} & 3\\\\0 & 0 & 2 & - \\frac{17}{10} & \\frac{1}{5}\\\\0 & 0 & - \\frac{3}{4} & - \\frac{79}{10} & - \\frac{38}{5}\\end{matrix}\\right]$$"
      ],
      "text/plain": [
       "⎡3  -2     1    1/4     0  ⎤\n",
       "⎢                          ⎥\n",
       "⎢0  5/3  -5/6   14/3    2  ⎥\n",
       "⎢                          ⎥\n",
       "⎢                35        ⎥\n",
       "⎢0   0   -38/9   ──     3  ⎥\n",
       "⎢                18        ⎥\n",
       "⎢                          ⎥\n",
       "⎢               -17        ⎥\n",
       "⎢0   0     2    ────   1/5 ⎥\n",
       "⎢                10        ⎥\n",
       "⎢                          ⎥\n",
       "⎢               -79        ⎥\n",
       "⎢0   0   -3/4   ────  -38/5⎥\n",
       "⎣                10        ⎦"
      ]
     },
     "execution_count": 6,
     "metadata": {},
     "output_type": "execute_result"
    }
   ],
   "source": [
    "A2 = rop(A2, 'R2*(-2/5)+R4=>R4', 'R2*(-23/10)+R5=>R5')\n",
    "A2"
   ]
  },
  {
   "cell_type": "code",
   "execution_count": 7,
   "metadata": {
    "collapsed": false
   },
   "outputs": [
    {
     "data": {
      "image/png": "[encoded data removed]",
      "text/latex": [
       "$$\\left[\\begin{matrix}3 & -2 & 1 & \\frac{1}{4} & 0\\\\0 & \\frac{5}{3} & - \\frac{5}{6} & \\frac{14}{3} & 2\\\\0 & 0 & - \\frac{38}{9} & \\frac{35}{18} & 3\\\\0 & 0 & 0 & - \\frac{74}{95} & \\frac{154}{95}\\\\0 & 0 & 0 & - \\frac{12533}{1520} & - \\frac{6181}{760}\\end{matrix}\\right]$$"
      ],
      "text/plain": [
       "⎡3  -2     1      1/4      0   ⎤\n",
       "⎢                              ⎥\n",
       "⎢0  5/3  -5/6    14/3      2   ⎥\n",
       "⎢                              ⎥\n",
       "⎢                 35           ⎥\n",
       "⎢0   0   -38/9    ──       3   ⎥\n",
       "⎢                 18           ⎥\n",
       "⎢                              ⎥\n",
       "⎢                -74      154  ⎥\n",
       "⎢0   0     0     ────     ───  ⎥\n",
       "⎢                 95       95  ⎥\n",
       "⎢                              ⎥\n",
       "⎢               -12533   -6181 ⎥\n",
       "⎢0   0     0    ───────  ──────⎥\n",
       "⎣                 1520    760  ⎦"
      ]
     },
     "execution_count": 7,
     "metadata": {},
     "output_type": "execute_result"
    }
   ],
   "source": [
    "A3 = rop(A2, 'R3*(9/19)+R4=>R4', 'R3*(-27/152)+R5=>R5')   \n",
    "A3"
   ]
  },
  {
   "cell_type": "markdown",
   "metadata": {},
   "source": [
    "Up to now, we did the arthtmetic in our heads. But now let's use `sympy` to do the operations with fractions, in order to compute the multiplier for row 4:"
   ]
  },
  {
   "cell_type": "code",
   "execution_count": 8,
   "metadata": {
    "collapsed": false
   },
   "outputs": [
    {
     "data": {
      "image/png": "[encoded data removed]",
      "text/latex": [
       "$$- \\frac{12533}{1184}$$"
      ],
      "text/plain": [
       "-12533 \n",
       "───────\n",
       "  1184 "
      ]
     },
     "execution_count": 8,
     "metadata": {},
     "output_type": "execute_result"
    }
   ],
   "source": [
    "-Rational(-12533,1520) * (Rational(95,-74))"
   ]
  },
  {
   "cell_type": "code",
   "execution_count": 9,
   "metadata": {
    "collapsed": false
   },
   "outputs": [
    {
     "data": {
      "image/png": "[encoded data removed]",
      "text/latex": [
       "$$\\left[\\begin{matrix}3 & -2 & 1 & \\frac{1}{4} & 0\\\\0 & \\frac{5}{3} & - \\frac{5}{6} & \\frac{14}{3} & 2\\\\0 & 0 & - \\frac{38}{9} & \\frac{35}{18} & 3\\\\0 & 0 & 0 & - \\frac{74}{95} & \\frac{154}{95}\\\\0 & 0 & 0 & 0 & - \\frac{14973}{592}\\end{matrix}\\right]$$"
      ],
      "text/plain": [
       "⎡3  -2     1    1/4      0   ⎤\n",
       "⎢                            ⎥\n",
       "⎢0  5/3  -5/6   14/3     2   ⎥\n",
       "⎢                            ⎥\n",
       "⎢                35          ⎥\n",
       "⎢0   0   -38/9   ──      3   ⎥\n",
       "⎢                18          ⎥\n",
       "⎢                            ⎥\n",
       "⎢               -74     154  ⎥\n",
       "⎢0   0     0    ────    ───  ⎥\n",
       "⎢                95      95  ⎥\n",
       "⎢                            ⎥\n",
       "⎢                     -14973 ⎥\n",
       "⎢0   0     0     0    ───────⎥\n",
       "⎣                       592  ⎦"
      ]
     },
     "execution_count": 9,
     "metadata": {},
     "output_type": "execute_result"
    }
   ],
   "source": [
    "A4 = rop(A3, 'R4*(-12533/1184)+R5=>R5')\n",
    "A4"
   ]
  },
  {
   "cell_type": "markdown",
   "metadata": {},
   "source": [
    "We finally got the matrix in triangular form, so now all we have to do is to multiply the diagonal entries. Also, remember that we did one row swap, so we have to change the sign:"
   ]
  },
  {
   "cell_type": "code",
   "execution_count": 10,
   "metadata": {
    "collapsed": false
   },
   "outputs": [
    {
     "data": {
      "image/png": "[encoded data removed]",
      "text/latex": [
       "$$\\frac{4991}{12}$$"
      ],
      "text/plain": [
       "4991\n",
       "────\n",
       " 12 "
      ]
     },
     "execution_count": 10,
     "metadata": {},
     "output_type": "execute_result"
    }
   ],
   "source": [
    "-prod([A4[i,i] for i in range(5)])"
   ]
  },
  {
   "cell_type": "markdown",
   "metadata": {},
   "source": [
    "Conclusion: the determinant of $A$ is\n",
    "\n",
    "$$\n",
    "\\frac{4991}{12}\n",
    "$$"
   ]
  },
  {
   "cell_type": "code",
   "execution_count": null,
   "metadata": {
    "collapsed": true
   },
   "outputs": [],
   "source": []
  }
 ],
 "metadata": {
  "kernelspec": {
   "display_name": "Python [default]",
   "language": "python",
   "name": "python3"
  },
  "language_info": {
   "codemirror_mode": {
    "name": "ipython",
    "version": 3
   },
   "file_extension": ".py",
   "mimetype": "text/x-python",
   "name": "python",
   "nbconvert_exporter": "python",
   "pygments_lexer": "ipython3",
   "version": "3.5.2"
  }
 },
 "nbformat": 4,
 "nbformat_minor": 0
}
