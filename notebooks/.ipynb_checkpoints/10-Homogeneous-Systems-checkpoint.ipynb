{
 "cells": [
  {
   "cell_type": "code",
   "execution_count": 1,
   "metadata": {
    "collapsed": true
   },
   "outputs": [],
   "source": [
    "from latools import *\n",
    "from sympy import *\n",
    "init_printing(use_latex=True)"
   ]
  },
  {
   "cell_type": "markdown",
   "metadata": {},
   "source": [
    "# Homogeneous Systems.\n",
    "\n",
    "This notebook has examples showing how to find the solution set of a homogeneous linear system.\n",
    "\n",
    "## Example 1.\n",
    "\n",
    "$$\n",
    "\\left[\\begin{matrix}1 & 2 & -2 & 7 & 0 & 2 & 0\\\\-2 & 1 & 4 & 1 & -1 & 2 & 2\\\\1 & -1 & -2 & -2 & 0 & 0 & 7\\\\2 & 0 & -4 & 2 & 0 & 0 & 4\\end{matrix}\\right]\n",
    "\\begin{bmatrix}x_1\\\\x_2\\\\x_3\\\\x_4\\\\x_5\\\\x_6\\\\x_7\\end{bmatrix}=\n",
    "\\begin{bmatrix}0\\\\0\\\\0\\\\0\\end{bmatrix}\n",
    "$$\n",
    "\n",
    "### Solution\n",
    "\n",
    "#### Step 1\n",
    "\n",
    "Enter matrix $A$ and find its RREF equivalent matrix $R$:"
   ]
  },
  {
   "cell_type": "code",
   "execution_count": 2,
   "metadata": {
    "collapsed": false
   },
   "outputs": [
    {
     "data": {
      "image/png": "[encoded data removed]",
      "text/latex": [
       "$$\\left[\\begin{matrix}1 & 2 & -2 & 7 & 0 & 2 & 0\\\\-2 & 1 & 4 & 1 & -1 & 2 & 2\\\\1 & -1 & -2 & -2 & 0 & 0 & 7\\\\2 & 0 & -4 & 2 & 0 & 0 & 4\\end{matrix}\\right]$$"
      ],
      "text/plain": [
       "⎡1   2   -2  7   0   2  0⎤\n",
       "⎢                        ⎥\n",
       "⎢-2  1   4   1   -1  2  2⎥\n",
       "⎢                        ⎥\n",
       "⎢1   -1  -2  -2  0   0  7⎥\n",
       "⎢                        ⎥\n",
       "⎣2   0   -4  2   0   0  4⎦"
      ]
     },
     "execution_count": 2,
     "metadata": {},
     "output_type": "execute_result"
    }
   ],
   "source": [
    "A = matrix_to_rational([[ 1,  2, -2,  7,  0, 2, 0],\n",
    "                        [-2,  1,  4,  1, -1, 2, 2],\n",
    "                        [ 1, -1, -2, -2,  0, 0, 7],\n",
    "                        [ 2,  0, -4,  2,  0, 0, 4]])\n",
    "A"
   ]
  },
  {
   "cell_type": "code",
   "execution_count": 3,
   "metadata": {
    "collapsed": false
   },
   "outputs": [
    {
     "data": {
      "image/png": "[encoded data removed]",
      "text/latex": [
       "$$\\left[\\begin{matrix}1 & 0 & -2 & 1 & 0 & 0 & 2\\\\0 & 1 & 0 & 3 & 0 & 0 & -5\\\\0 & 0 & 0 & 0 & 1 & 0 & -3\\\\0 & 0 & 0 & 0 & 0 & 1 & 4\\end{matrix}\\right]$$"
      ],
      "text/plain": [
       "⎡1  0  -2  1  0  0  2 ⎤\n",
       "⎢                     ⎥\n",
       "⎢0  1  0   3  0  0  -5⎥\n",
       "⎢                     ⎥\n",
       "⎢0  0  0   0  1  0  -3⎥\n",
       "⎢                     ⎥\n",
       "⎣0  0  0   0  0  1  4 ⎦"
      ]
     },
     "execution_count": 3,
     "metadata": {},
     "output_type": "execute_result"
    }
   ],
   "source": [
    "R = reduced_row_echelon_form(A)\n",
    "R"
   ]
  },
  {
   "cell_type": "code",
   "execution_count": 4,
   "metadata": {
    "collapsed": false
   },
   "outputs": [
    {
     "name": "stdout",
     "output_type": "stream",
     "text": [
      "\\left[\\begin{matrix}1 & 0 & -2 & 1 & 0 & 0 & 2\\\\0 & 1 & 0 & 3 & 0 & 0 & -5\\\\0 & 0 & 0 & 0 & 1 & 0 & -3\\\\0 & 0 & 0 & 0 & 0 & 1 & 4\\end{matrix}\\right]\n"
     ]
    }
   ],
   "source": [
    "print(latex(R))"
   ]
  },
  {
   "cell_type": "markdown",
   "metadata": {},
   "source": [
    "#### Step 2\n",
    "Identify the free variables and write the pivot variables in terms of the free variables:\n",
    "\n",
    "- Pivot columns: 1, 2, 5, 6.\n",
    "- Non-pivot columns: 3, 4, 7. There are 3 free variables: $x_3$, $x_4$ and $x_7$\n",
    "\n",
    "From the RREF matrix $R$ we get:\n",
    "\\begin{align*}\n",
    "x_1 &= 2x_3-x_4-2x_7\\\\\n",
    "x_2 &= 0x_3-3x_4+5x_7\\\\\n",
    "x_5 &= 0x_3+0x_4+3x_7\\\\\n",
    "x_6 &= 0x_3+0x_4+4x_7\n",
    "\\end{align*}\n",
    "\n",
    "#### Step 3\n",
    "Find the _basis of the solution set_:\n",
    "\n",
    "1. Let\n",
    "$$\n",
    "\\begin{bmatrix}x_3\\\\x_4\\\\x_7\\end{bmatrix}=\\begin{bmatrix}1\\\\0\\\\0\\end{bmatrix}\n",
    "$$\n",
    "Then:\n",
    "\\begin{align*}\n",
    "x_1&=2\\\\\n",
    "x_2&=0\\\\\n",
    "x_5&=0\\\\\n",
    "x_6&=0\\\\\n",
    "\\end{align*}\n",
    "We get the solution:\n",
    "$$\n",
    "\\begin{bmatrix}2\\\\0\\\\1\\\\0\\\\0\\\\0\\\\0\\end{bmatrix}\n",
    "$$\n",
    "2. Let\n",
    "$$\n",
    "\\begin{bmatrix}x_3\\\\x_4\\\\x_7\\end{bmatrix}=\\begin{bmatrix}0\\\\1\\\\0\\end{bmatrix}\n",
    "$$\n",
    "Then:\n",
    "\\begin{align*}\n",
    "x_1&=-1\\\\\n",
    "x_2&=-3\\\\\n",
    "x_5&=0\\\\\n",
    "x_6&=0\\\\\n",
    "\\end{align*}\n",
    "We get the solution:\n",
    "$$\n",
    "\\begin{bmatrix}-1\\\\-3\\\\0\\\\1\\\\0\\\\0\\\\0\\end{bmatrix}\n",
    "$$\n",
    "3. Let\n",
    "$$\n",
    "\\begin{bmatrix}x_3\\\\x_4\\\\x_7\\end{bmatrix}=\\begin{bmatrix}0\\\\0\\\\1\\end{bmatrix}\n",
    "$$\n",
    "Then:\n",
    "\\begin{align*}\n",
    "x_1&=-2\\\\\n",
    "x_2&=5\\\\\n",
    "x_5&=3\\\\\n",
    "x_6&=4\\\\\n",
    "\\end{align*}\n",
    "We get the solution:\n",
    "$$\n",
    "\\begin{bmatrix}-2\\\\5\\\\0\\\\0\\\\3\\\\4\\\\1\\end{bmatrix}\n",
    "$$\n",
    "\n",
    "### Step 3\n",
    "\n",
    "Write the solution set, which is the span of the solutions we have found:\n",
    "$$\n",
    "S=\\left\\{\n",
    "\\lambda_1\\begin{bmatrix}2\\\\0\\\\1\\\\0\\\\0\\\\0\\\\0\\end{bmatrix}+\n",
    "\\lambda_2\\begin{bmatrix}-1\\\\-3\\\\0\\\\1\\\\0\\\\0\\\\0\\end{bmatrix}+\n",
    "\\lambda_3\\begin{bmatrix}-2\\\\5\\\\0\\\\0\\\\3\\\\4\\\\1\\end{bmatrix}\n",
    "\\;:\\;\\lambda_1,\\lambda_2,\\lambda_3\\in\\mathbb{R}\n",
    "\\right\\}\n",
    "$$"
   ]
  },
  {
   "cell_type": "code",
   "execution_count": null,
   "metadata": {
    "collapsed": true
   },
   "outputs": [],
   "source": []
  }
 ],
 "metadata": {
  "anaconda-cloud": {},
  "kernelspec": {
   "display_name": "Python [default]",
   "language": "python",
   "name": "python3"
  },
  "language_info": {
   "codemirror_mode": {
    "name": "ipython",
    "version": 3
   },
   "file_extension": ".py",
   "mimetype": "text/x-python",
   "name": "python",
   "nbconvert_exporter": "python",
   "pygments_lexer": "ipython3",
   "version": "3.5.2"
  }
 },
 "nbformat": 4,
 "nbformat_minor": 0
}
