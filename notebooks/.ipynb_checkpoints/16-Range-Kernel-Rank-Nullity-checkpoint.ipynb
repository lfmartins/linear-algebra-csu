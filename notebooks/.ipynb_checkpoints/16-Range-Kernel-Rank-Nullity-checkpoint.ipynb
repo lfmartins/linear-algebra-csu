{
 "cells": [
  {
   "cell_type": "code",
   "execution_count": 1,
   "metadata": {
    "collapsed": true
   },
   "outputs": [],
   "source": [
    "from latools import *\n",
    "from sympy import *\n",
    "init_printing(use_latex=True)"
   ]
  },
  {
   "cell_type": "markdown",
   "metadata": {},
   "source": [
    "# How to find the range and kernel of a matrix\n",
    "\n",
    "## Example\n",
    "\n",
    "Find the range, kernel, rank and nullity of the matrix:\n",
    "\n",
    "$$\n",
    "A=\\left[\\begin{matrix}2 & 4 & 1 & 1 & -5\\\\2 & 4 & 2 & 0 & -4\\\\-3 & -6 & 0 & -3 & 9\\\\0 & 0 & -2 & 2 & -2\\end{matrix}\\right]\n",
    "$$\n",
    "\n",
    "_Solution_: First notice that $A$ represents a linear transformation from $\\mathbb{R}^5$ to $\\mathbb{R}^4$ \n",
    "\n",
    "Start by finding the RREF of $A$."
   ]
  },
  {
   "cell_type": "code",
   "execution_count": 2,
   "metadata": {
    "collapsed": false
   },
   "outputs": [
    {
     "data": {
      "image/png": "[encoded data removed]",
      "text/latex": [
       "$$\\left[\\begin{matrix}2 & 4 & 1 & 1 & -5\\\\2 & 4 & 2 & 0 & -4\\\\-3 & -6 & 0 & -3 & 9\\\\0 & 0 & -2 & 2 & -2\\end{matrix}\\right]$$"
      ],
      "text/plain": [
       "⎡2   4   1   1   -5⎤\n",
       "⎢                  ⎥\n",
       "⎢2   4   2   0   -4⎥\n",
       "⎢                  ⎥\n",
       "⎢-3  -6  0   -3  9 ⎥\n",
       "⎢                  ⎥\n",
       "⎣0   0   -2  2   -2⎦"
      ]
     },
     "execution_count": 2,
     "metadata": {},
     "output_type": "execute_result"
    }
   ],
   "source": [
    "A = matrix_to_rational([[ 2,  4,  1,  1, -5],\n",
    "                        [ 2,  4,  2,  0, -4],\n",
    "                        [-3, -6,  0, -3,  9],\n",
    "                        [ 0,  0, -2,  2, -2]])\n",
    "A"
   ]
  },
  {
   "cell_type": "code",
   "execution_count": 3,
   "metadata": {
    "collapsed": false
   },
   "outputs": [
    {
     "data": {
      "image/png": "[encoded data removed]",
      "text/latex": [
       "$$\\left[\\begin{matrix}1 & 2 & 0 & 1 & -3\\\\0 & 0 & 1 & -1 & 1\\\\0 & 0 & 0 & 0 & 0\\\\0 & 0 & 0 & 0 & 0\\end{matrix}\\right]$$"
      ],
      "text/plain": [
       "⎡1  2  0  1   -3⎤\n",
       "⎢               ⎥\n",
       "⎢0  0  1  -1  1 ⎥\n",
       "⎢               ⎥\n",
       "⎢0  0  0  0   0 ⎥\n",
       "⎢               ⎥\n",
       "⎣0  0  0  0   0 ⎦"
      ]
     },
     "execution_count": 3,
     "metadata": {},
     "output_type": "execute_result"
    }
   ],
   "source": [
    "R = reduced_row_echelon_form(A)\n",
    "R"
   ]
  },
  {
   "cell_type": "markdown",
   "metadata": {},
   "source": [
    "In the RREF we have:\n",
    "\n",
    "- The free variables are $x_2$, $x_4$ and $x_5$.\n",
    "- The pivot variables are $x_1$ and $x_3$.\n",
    "\n",
    "Thus, a basis of the range is given by the pivot columns _in the original matrix_:\n",
    "$$\n",
    "\\text{range}(A)=\\text{span}\\left\\{\n",
    "\\left[\\begin{matrix}2\\\\2\\\\-3\\\\0\\end{matrix}\\right],\n",
    "\\left[\\begin{matrix}1\\\\2\\\\0\\\\-2\\end{matrix}\\right]\n",
    "\\right\\}\n",
    "$$\n",
    "It also follows that $\\text{rank}(A)=\\text{dim}(\\text{range}(A))=2$.\n",
    "\n",
    "To find a basis of the kernel of $A$ we need to find a basis of solutions of the homogeneous system $A\\mathbf{x}=\\mathbf{0}$. To do this, let's write the system associated with the RREF:\n",
    "\n",
    "\\begin{align*}\n",
    "x_1+2x_2+x_4-3x_5&=0\\\\\n",
    "x_3-x_4+x_5&=0\n",
    "\\end{align*}\n",
    "\n",
    "Writing the pivot variables as functions of the free variables we get:\n",
    "\n",
    "\\begin{align*}\n",
    "x_1&=-2x_2-x_4+3x_5\\\\\n",
    "x_3&=x_4-x_5\n",
    "\\end{align*}\n",
    "\n",
    "Since there are $3$ free variables, the dimension of the solution set is $3$. To find a basis, we construct the following table:\n",
    "\n",
    "$$\n",
    "\\begin{array}{l|rrr}\n",
    "\\text{Variable}&\\\\\n",
    "x_2                &  1 &  0 &  0\\\\\n",
    "x_4                &  0 &  1 &  0\\\\\n",
    "x_5                &  0 &  0 &  1\\\\\n",
    "x_1=-2x_2-x_4+3x_5 & -2 & -1 & -3\\\\\n",
    "x_3=x_4-x_5        &  0 &  1 & -1\\\\\n",
    "\\end{array}\n",
    "$$\n",
    "\n",
    "We conclude that:\n",
    "\n",
    "$$\n",
    "\\text{kernel}(A)=\\text{span}\n",
    "\\left\\{\n",
    "\\begin{bmatrix} -2\\\\ 1\\\\ 0\\\\ 0\\\\   0\\end{bmatrix},\n",
    "\\begin{bmatrix} -1\\\\ 0\\\\ 1\\\\ 1\\\\   0\\end{bmatrix},\n",
    "\\begin{bmatrix} 3\\\\ 0\\\\ -1\\\\ 0\\\\  1\\end{bmatrix}\n",
    "\\right\\}\n",
    "$$\n",
    "\n",
    "Finally, $\\text{nullity}(A)=3$ (Dimension of the kernel.)\n",
    "\n",
    "It is recommended that we check the results, as shown in the following cells:\n"
   ]
  },
  {
   "cell_type": "code",
   "execution_count": 4,
   "metadata": {
    "collapsed": false
   },
   "outputs": [
    {
     "data": {
      "image/png": "[encoded data removed]",
      "text/latex": [
       "$$\\left[\\begin{matrix}0\\\\0\\\\0\\\\0\\end{matrix}\\right]$$"
      ],
      "text/plain": [
       "⎡0⎤\n",
       "⎢ ⎥\n",
       "⎢0⎥\n",
       "⎢ ⎥\n",
       "⎢0⎥\n",
       "⎢ ⎥\n",
       "⎣0⎦"
      ]
     },
     "execution_count": 4,
     "metadata": {},
     "output_type": "execute_result"
    }
   ],
   "source": [
    "A*Matrix([-2,1,0,0,0])"
   ]
  },
  {
   "cell_type": "code",
   "execution_count": 5,
   "metadata": {
    "collapsed": false
   },
   "outputs": [
    {
     "data": {
      "image/png": "[encoded data removed]",
      "text/latex": [
       "$$\\left[\\begin{matrix}0\\\\0\\\\0\\\\0\\end{matrix}\\right]$$"
      ],
      "text/plain": [
       "⎡0⎤\n",
       "⎢ ⎥\n",
       "⎢0⎥\n",
       "⎢ ⎥\n",
       "⎢0⎥\n",
       "⎢ ⎥\n",
       "⎣0⎦"
      ]
     },
     "execution_count": 5,
     "metadata": {},
     "output_type": "execute_result"
    }
   ],
   "source": [
    "A*Matrix([-1,0,1,1,0])"
   ]
  },
  {
   "cell_type": "code",
   "execution_count": 6,
   "metadata": {
    "collapsed": false
   },
   "outputs": [
    {
     "data": {
      "image/png": "[encoded data removed]",
      "text/latex": [
       "$$\\left[\\begin{matrix}0\\\\0\\\\0\\\\0\\end{matrix}\\right]$$"
      ],
      "text/plain": [
       "⎡0⎤\n",
       "⎢ ⎥\n",
       "⎢0⎥\n",
       "⎢ ⎥\n",
       "⎢0⎥\n",
       "⎢ ⎥\n",
       "⎣0⎦"
      ]
     },
     "execution_count": 6,
     "metadata": {},
     "output_type": "execute_result"
    }
   ],
   "source": [
    "A*Matrix([3,0,-1,0,1])"
   ]
  },
  {
   "cell_type": "code",
   "execution_count": null,
   "metadata": {
    "collapsed": true
   },
   "outputs": [],
   "source": []
  }
 ],
 "metadata": {
  "anaconda-cloud": {},
  "kernelspec": {
   "display_name": "Python [default]",
   "language": "python",
   "name": "python3"
  },
  "language_info": {
   "codemirror_mode": {
    "name": "ipython",
    "version": 3
   },
   "file_extension": ".py",
   "mimetype": "text/x-python",
   "name": "python",
   "nbconvert_exporter": "python",
   "pygments_lexer": "ipython3",
   "version": "3.5.2"
  }
 },
 "nbformat": 4,
 "nbformat_minor": 0
}
