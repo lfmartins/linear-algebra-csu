{
 "cells": [
  {
   "cell_type": "code",
   "execution_count": 1,
   "metadata": {
    "collapsed": false
   },
   "outputs": [],
   "source": [
    "from latools import *\n",
    "from sympy import *\n",
    "init_printing(use_latex=True)"
   ]
  },
  {
   "cell_type": "markdown",
   "metadata": {},
   "source": [
    "# Bases of a Vector Space\n",
    "## Example 1\n",
    "Determine if the set of vectors:\n",
    "$$\n",
    "\\mathbf{v}_1=\\begin{bmatrix}1\\\\2\\\\4\\end{bmatrix},\\quad\n",
    "\\mathbf{v}_2=\\begin{bmatrix}2\\\\3\\\\-2\\end{bmatrix},\\quad\n",
    "\\mathbf{v}_1=\\begin{bmatrix}1\\\\2\\\\4\\end{bmatrix}\n",
    "$$\n",
    "is a basis of $\\mathbb{R}^3$.\n",
    "\n",
    "_Solution_: We start by checking if the give set spans $\\mathbb{R}^3$, that is, if we can always find $c_1$, $c_2$ and $c_3$ such that\n",
    "$$\n",
    "\\begin{bmatrix}x\\\\y\\\\z\\end{bmatrix}=c_1\\mathbf{v}_1+c_3\\mathbf{v}_2+c_3\\mathbf{v}_3\n",
    "$$\n",
    "To do this, we have to solve the system with augmented matrix:"
   ]
  },
  {
   "cell_type": "code",
   "execution_count": 2,
   "metadata": {
    "collapsed": false
   },
   "outputs": [
    {
     "data": {
      "image/png": "[encoded data removed]",
      "text/latex": [
       "$$\\left[\\begin{matrix}1 & 2 & -1 & x\\\\2 & 3 & -2 & y\\\\4 & -1 & -1 & z\\end{matrix}\\right]$$"
      ],
      "text/plain": [
       "⎡1  2   -1  x⎤\n",
       "⎢            ⎥\n",
       "⎢2  3   -2  y⎥\n",
       "⎢            ⎥\n",
       "⎣4  -1  -1  z⎦"
      ]
     },
     "execution_count": 2,
     "metadata": {},
     "output_type": "execute_result"
    }
   ],
   "source": [
    "x,y,z = symbols('x,y,z')\n",
    "A = matrix_to_rational([[1,  2, -1, x],\n",
    "                        [2,  3, -2, y],\n",
    "                        [4, -1, -1, z]])\n",
    "A"
   ]
  },
  {
   "cell_type": "markdown",
   "metadata": {},
   "source": [
    "The RREF of the matrix is:"
   ]
  },
  {
   "cell_type": "code",
   "execution_count": 3,
   "metadata": {
    "collapsed": false
   },
   "outputs": [
    {
     "data": {
      "image/png": "[encoded data removed]",
      "text/latex": [
       "$$\\left[\\begin{matrix}1 & 0 & 0 & \\frac{5 x}{3} - y + \\frac{z}{3}\\\\0 & 1 & 0 & 2 x - y\\\\0 & 0 & 1 & \\frac{14 x}{3} - 3 y + \\frac{z}{3}\\end{matrix}\\right]$$"
      ],
      "text/plain": [
       "⎡          5⋅x       z  ⎤\n",
       "⎢1  0  0   ─── - y + ─  ⎥\n",
       "⎢           3        3  ⎥\n",
       "⎢                       ⎥\n",
       "⎢0  1  0     2⋅x - y    ⎥\n",
       "⎢                       ⎥\n",
       "⎢         14⋅x         z⎥\n",
       "⎢0  0  1  ──── - 3⋅y + ─⎥\n",
       "⎣          3           3⎦"
      ]
     },
     "execution_count": 3,
     "metadata": {},
     "output_type": "execute_result"
    }
   ],
   "source": [
    "R = reduced_row_echelon_form(A, extra_cols=1)\n",
    "R"
   ]
  },
  {
   "cell_type": "markdown",
   "metadata": {},
   "source": [
    "From this RREF we see that we can always find $c_1$, $c_2$, $c_3$ for any given values of $x$, $y$, $z$. It follows that this set of vectors spans $\\mathbb{R}^3$. \n",
    "\n",
    "To check that the set of vectors is linearly independent, just notice that, ignoring the last column, there are no free variables in the left three columns of matrix $R$. This implies that the only solution of $c_1\\mathbf{v}_1+c_3\\mathbf{v}_2+c_3\\mathbf{v}_3=\\mathbf{0}$ is $c_1=c_2=c_3=0$, and the vectors are linearly independent."
   ]
  },
  {
   "cell_type": "markdown",
   "metadata": {},
   "source": [
    "## Example 2\n",
    "Determine if the vectors below span $\\mathbf{R}^4$:\n",
    "$$\n",
    "\\mathbf{v}_1=\\begin{bmatrix}1\\\\2\\\\0\\\\-1\\end{bmatrix},\\quad\n",
    "\\mathbf{v}_2=\\begin{bmatrix}3\\\\-1\\\\4\\\\0\\end{bmatrix},\\quad\n",
    "\\mathbf{v}_3=\\begin{bmatrix}1\\\\1\\\\1\\\\2\\end{bmatrix}\n",
    "$$\n",
    "\n",
    "_Solution_: As above, we attempt to solve the system with augmented matrix:"
   ]
  },
  {
   "cell_type": "code",
   "execution_count": 4,
   "metadata": {
    "collapsed": false
   },
   "outputs": [
    {
     "data": {
      "image/png": "[encoded data removed]",
      "text/latex": [
       "$$\\left[\\begin{matrix}1 & 3 & 1 & x\\\\2 & -1 & 1 & y\\\\0 & 4 & 1 & z\\\\-1 & 0 & 2 & t\\end{matrix}\\right]$$"
      ],
      "text/plain": [
       "⎡1   3   1  x⎤\n",
       "⎢            ⎥\n",
       "⎢2   -1  1  y⎥\n",
       "⎢            ⎥\n",
       "⎢0   4   1  z⎥\n",
       "⎢            ⎥\n",
       "⎣-1  0   2  t⎦"
      ]
     },
     "execution_count": 4,
     "metadata": {},
     "output_type": "execute_result"
    }
   ],
   "source": [
    "x,y,z,t = symbols('x,y,z,t')\n",
    "A = matrix_to_rational([[ 1,  3, 1, x],\n",
    "                        [ 2, -1, 1, y],\n",
    "                        [ 0,  4, 1, z],\n",
    "                        [-1,  0, 2, t]])\n",
    "A"
   ]
  },
  {
   "cell_type": "markdown",
   "metadata": {},
   "source": [
    "The RREF is:"
   ]
  },
  {
   "cell_type": "code",
   "execution_count": 5,
   "metadata": {
    "collapsed": false
   },
   "outputs": [
    {
     "data": {
      "image/png": "[encoded data removed]",
      "text/latex": [
       "$$\\left[\\begin{matrix}1 & 0 & 0 & \\frac{5 x}{3} - \\frac{y}{3} - \\frac{4 z}{3}\\\\0 & 1 & 0 & \\frac{2 x}{3} - \\frac{y}{3} - \\frac{z}{3}\\\\0 & 0 & 1 & - \\frac{8 x}{3} + \\frac{4 y}{3} + \\frac{7 z}{3}\\\\0 & 0 & 0 & t + 7 x - 3 y - 6 z\\end{matrix}\\right]$$"
      ],
      "text/plain": [
       "⎡            5⋅x   y   4⋅z   ⎤\n",
       "⎢1  0  0     ─── - ─ - ───   ⎥\n",
       "⎢             3    3    3    ⎥\n",
       "⎢                            ⎥\n",
       "⎢             2⋅x   y   z    ⎥\n",
       "⎢0  1  0      ─── - ─ - ─    ⎥\n",
       "⎢              3    3   3    ⎥\n",
       "⎢                            ⎥\n",
       "⎢            8⋅x   4⋅y   7⋅z ⎥\n",
       "⎢0  0  1   - ─── + ─── + ─── ⎥\n",
       "⎢             3     3     3  ⎥\n",
       "⎢                            ⎥\n",
       "⎣0  0  0  t + 7⋅x - 3⋅y - 6⋅z⎦"
      ]
     },
     "execution_count": 5,
     "metadata": {},
     "output_type": "execute_result"
    }
   ],
   "source": [
    "R = reduced_row_echelon_form(A, extra_cols=1)\n",
    "R"
   ]
  },
  {
   "cell_type": "markdown",
   "metadata": {},
   "source": [
    "Notice the last line, which corresponds to the equation:\n",
    "\\[\n",
    "0=t+7x-3y-6z\n",
    "\\]\n",
    "This equation is impossible if the expression in the right is not zero. We conclude that the given set _does not span $\\mathbb{R}^4$. \n",
    "\n",
    "The procedure above gives the same result for any set of three or fewer vectors in $\\mathbb{R}^4$. This illustrates the general principle:\n",
    "\n",
    "__Proposition__. A set with fewer than $n$ vectors cannot span $\\mathbb{R}^n$"
   ]
  },
  {
   "cell_type": "markdown",
   "metadata": {},
   "source": [
    "## Example 3\n",
    "Determine if the vectors below are linearly independent in $\\mathbb{R}^2$:\n",
    "$$\n",
    "\\mathbf{v}_1=\\begin{bmatrix}1\\\\1\\end{bmatrix},\\quad\n",
    "\\mathbf{v}_2=\\begin{bmatrix}-1\\\\2\\end{bmatrix},\\quad\n",
    "\\mathbf{v}_1=\\begin{bmatrix}-3\\\\0\\end{bmatrix}\n",
    "$$\n",
    "\n",
    "_Solution_: We have to solve the homogeneous system $c_1\\mathbf{v}_1+c_2\\mathbf{v}_2+c_3\\mathbf{v}_3=\\mathbf{0}$. The matrix of the system (not augmented) is:"
   ]
  },
  {
   "cell_type": "code",
   "execution_count": 6,
   "metadata": {
    "collapsed": false
   },
   "outputs": [
    {
     "data": {
      "image/png": "[encoded data removed]",
      "text/latex": [
       "$$\\left[\\begin{matrix}1 & -1 & -3\\\\1 & 2 & 0\\end{matrix}\\right]$$"
      ],
      "text/plain": [
       "⎡1  -1  -3⎤\n",
       "⎢         ⎥\n",
       "⎣1  2   0 ⎦"
      ]
     },
     "execution_count": 6,
     "metadata": {},
     "output_type": "execute_result"
    }
   ],
   "source": [
    "A = matrix_to_rational([[1, -1, -3],\n",
    "                        [1,  2,  0]])\n",
    "A"
   ]
  },
  {
   "cell_type": "markdown",
   "metadata": {},
   "source": [
    "This yields the RREF:"
   ]
  },
  {
   "cell_type": "code",
   "execution_count": 7,
   "metadata": {
    "collapsed": false
   },
   "outputs": [
    {
     "data": {
      "image/png": "[encoded data removed]",
      "text/latex": [
       "$$\\left[\\begin{matrix}1 & 0 & -2\\\\0 & 1 & 1\\end{matrix}\\right]$$"
      ],
      "text/plain": [
       "⎡1  0  -2⎤\n",
       "⎢        ⎥\n",
       "⎣0  1  1 ⎦"
      ]
     },
     "execution_count": 7,
     "metadata": {},
     "output_type": "execute_result"
    }
   ],
   "source": [
    "R = reduced_row_echelon_form(A)\n",
    "R"
   ]
  },
  {
   "cell_type": "markdown",
   "metadata": {},
   "source": [
    "This has a free variable, $c_3$, so there are nonzero solutions, and the vectors are linearly dependent. It is easy to see that this will always be the case if we have 3 or more vectors in $\\mathbf{R}^2$. This illustrated the following general fact:\n",
    "\n",
    "__Proposition__. A set of more than $n$ vectors in $\\mathbf{R}^n$ is always linearly dependent."
   ]
  },
  {
   "cell_type": "markdown",
   "metadata": {},
   "source": [
    "## Example 4\n",
    "\n",
    "Suppose we have an ordered basis of $\\mathbb{R}^3$, $B=(\\mathbf{v}_1, \\mathbf{v}_2, \\mathbf{v}_3)$, where:\n",
    "$$\n",
    "\\mathbf{v}_1=\\left[\\begin{matrix}2\\\\0\\\\1\\end{matrix}\\right],\\quad\n",
    "\\mathbf{v}_2=\\left[\\begin{matrix}1\\\\-3\\\\1\\end{matrix}\\right],\\quad\n",
    "\\mathbf{v}_3=\\left[\\begin{matrix}1\\\\1\\\\1\\end{matrix}\\right]\n",
    "$$\n",
    "\n",
    "Let's define the three vectors in Python"
   ]
  },
  {
   "cell_type": "code",
   "execution_count": 8,
   "metadata": {
    "collapsed": true
   },
   "outputs": [],
   "source": [
    "v1 = Matrix([2,  0, 1])\n",
    "v2 = Matrix([1, -3, 1])\n",
    "v3 = Matrix([1,  1, 1])"
   ]
  },
  {
   "cell_type": "markdown",
   "metadata": {},
   "source": [
    "Construct the matrix $P$ by placing the vectors in its columns:\n",
    "$$\n",
    "P=\\begin{bmatrix}2&1&1\\\\0&-3&1\\\\1&1&1\\end{bmatrix}\n",
    "$$\n",
    "We can construct this matrix in Python with the following code:"
   ]
  },
  {
   "cell_type": "code",
   "execution_count": 9,
   "metadata": {
    "collapsed": false
   },
   "outputs": [
    {
     "data": {
      "image/png": "[encoded data removed]",
      "text/latex": [
       "$$\\left[\\begin{matrix}2 & 1 & 1\\\\0 & -3 & 1\\\\1 & 1 & 1\\end{matrix}\\right]$$"
      ],
      "text/plain": [
       "⎡2  1   1⎤\n",
       "⎢        ⎥\n",
       "⎢0  -3  1⎥\n",
       "⎢        ⎥\n",
       "⎣1  1   1⎦"
      ]
     },
     "execution_count": 9,
     "metadata": {},
     "output_type": "execute_result"
    }
   ],
   "source": [
    "P = Matrix.hstack(v1,v2,v3)\n",
    "P"
   ]
  },
  {
   "cell_type": "markdown",
   "metadata": {},
   "source": [
    "The matrix $P$ is the _change of basis_ matrix from basis $B$ to the standard basis $E$. This means that:\n",
    "$$\n",
    "[u]_E=P[u]_B\n",
    "$$\n",
    "Where:\n",
    "\n",
    "- $[u]_E$ are the coordinates of $u$ in the standard basis.\n",
    "- $[u]_B$ are the coordinates of $u$ in the basis $B$\n",
    "\n",
    "Then, we also have:\n",
    "$$\n",
    "[u]_B=P^{-1}[u]_E\n",
    "$$\n",
    "This means that $P^{-1}$ is the change of basis matrix from basis $E$ to basis $B$. For example, suppose that:\n",
    "$$\n",
    "[\\mathbf{u}]_E=\\begin{bmatrix}2\\\\-1\\\\1\\end{bmatrix}_E\n",
    "$$\n",
    "Then to find the coordinates of $\\mathbf{u}$ in basis $B$ we compute $P^{-1}[\\mathbf{u}]_E$"
   ]
  },
  {
   "cell_type": "code",
   "execution_count": 10,
   "metadata": {
    "collapsed": false
   },
   "outputs": [
    {
     "data": {
      "image/png": "[encoded data removed]",
      "text/latex": [
       "$$\\left[\\begin{matrix}1\\\\\\frac{1}{4}\\\\- \\frac{1}{4}\\end{matrix}\\right]$$"
      ],
      "text/plain": [
       "⎡ 1  ⎤\n",
       "⎢    ⎥\n",
       "⎢1/4 ⎥\n",
       "⎢    ⎥\n",
       "⎣-1/4⎦"
      ]
     },
     "execution_count": 10,
     "metadata": {},
     "output_type": "execute_result"
    }
   ],
   "source": [
    "u = Matrix([2,-1,1])\n",
    "P**(-1) * u "
   ]
  },
  {
   "cell_type": "markdown",
   "metadata": {},
   "source": [
    "We can verify that this is correct by computing the corresponding linear combination of the vectors in the basis:"
   ]
  },
  {
   "cell_type": "code",
   "execution_count": 11,
   "metadata": {
    "collapsed": false
   },
   "outputs": [
    {
     "data": {
      "image/png": "[encoded data removed]",
      "text/latex": [
       "$$\\left[\\begin{matrix}2\\\\-1\\\\1\\end{matrix}\\right]$$"
      ],
      "text/plain": [
       "⎡2 ⎤\n",
       "⎢  ⎥\n",
       "⎢-1⎥\n",
       "⎢  ⎥\n",
       "⎣1 ⎦"
      ]
     },
     "execution_count": 11,
     "metadata": {},
     "output_type": "execute_result"
    }
   ],
   "source": [
    "1*v1 + sympify('1/4')*v2 - sympify('1/4')*v3"
   ]
  },
  {
   "cell_type": "markdown",
   "metadata": {},
   "source": [
    "Next suppose that we have a linear transformation $L:\\mathbb{R}^3\\to\\mathbb{R}^3$ given by:\n",
    "$$\n",
    "L\\left(\\begin{bmatrix}x\\\\y\\\\z\\end{bmatrix}_E\\right)=\n",
    "\\left[\\begin{matrix}- \\frac{17}{2} & \\frac{1}{2} & 13\\\\- \\frac{3}{2} & \\frac{7}{2} & 3\\\\- \\frac{13}{2} & \\frac{1}{2} & 11\\end{matrix}\\right]\n",
    "\\begin{bmatrix}x\\\\y\\\\z\\end{bmatrix}_E\n",
    "$$\n",
    "Notice that, in the expression above, all coordinates are in the _standard basis_.\n",
    "\n",
    "Recall that above we defined a basis $\\mathbb{R}^3$, $B=(\\mathbf{v}_1, \\mathbf{v}_2, \\mathbf{v}_3)$.\n",
    "\n",
    "We want to find the matrix that represents the linear transformation $L$ using $B$ as input basis and $E$ as output basis. This is particularly easy, all we have to do is to construct the matrix:\n",
    "$$\n",
    "M=\\begin{bmatrix}[L(\\mathbf{v}_1)]_E&[L(\\mathbf{v}_2)]_E&L([\\mathbf{v}_3)]_E\\end{bmatrix}\n",
    "$$\n",
    "Then, \n",
    "$$\n",
    "[L(\\mathbf{u})]_E = M[\\mathbf{u}]_B\n",
    "$$\n",
    "We do this in the following cells. First, set up the matrix that defines $L$:"
   ]
  },
  {
   "cell_type": "code",
   "execution_count": 12,
   "metadata": {
    "collapsed": false
   },
   "outputs": [
    {
     "data": {
      "image/png": "[encoded data removed]",
      "text/latex": [
       "$$\\left[\\begin{matrix}- \\frac{17}{2} & \\frac{1}{2} & 13\\\\- \\frac{3}{2} & \\frac{7}{2} & 3\\\\- \\frac{13}{2} & \\frac{1}{2} & 11\\end{matrix}\\right]$$"
      ],
      "text/plain": [
       "⎡-17/2  1/2  13⎤\n",
       "⎢              ⎥\n",
       "⎢-3/2   7/2  3 ⎥\n",
       "⎢              ⎥\n",
       "⎣-13/2  1/2  11⎦"
      ]
     },
     "execution_count": 12,
     "metadata": {},
     "output_type": "execute_result"
    }
   ],
   "source": [
    "A = matrix_to_rational([[-17/2, 1/2, 13],\n",
    "                        [ -3/2, 7/2,  3],\n",
    "                        [-13/2, 1/2, 11]])\n",
    "A"
   ]
  },
  {
   "cell_type": "markdown",
   "metadata": {},
   "source": [
    "Then compute $L$ applied to the vectors in the basis $B$:"
   ]
  },
  {
   "cell_type": "code",
   "execution_count": 13,
   "metadata": {
    "collapsed": false
   },
   "outputs": [
    {
     "data": {
      "image/png": "[encoded data removed]",
      "text/latex": [
       "$$\\left[\\begin{matrix}-4\\\\0\\\\-2\\end{matrix}\\right]$$"
      ],
      "text/plain": [
       "⎡-4⎤\n",
       "⎢  ⎥\n",
       "⎢0 ⎥\n",
       "⎢  ⎥\n",
       "⎣-2⎦"
      ]
     },
     "execution_count": 13,
     "metadata": {},
     "output_type": "execute_result"
    }
   ],
   "source": [
    "Lv1 = A*v1\n",
    "Lv1"
   ]
  },
  {
   "cell_type": "code",
   "execution_count": 14,
   "metadata": {
    "collapsed": false
   },
   "outputs": [
    {
     "data": {
      "image/png": "[encoded data removed]",
      "text/latex": [
       "$$\\left[\\begin{matrix}3\\\\-9\\\\3\\end{matrix}\\right]$$"
      ],
      "text/plain": [
       "⎡3 ⎤\n",
       "⎢  ⎥\n",
       "⎢-9⎥\n",
       "⎢  ⎥\n",
       "⎣3 ⎦"
      ]
     },
     "execution_count": 14,
     "metadata": {},
     "output_type": "execute_result"
    }
   ],
   "source": [
    "Lv2 = A*v2\n",
    "Lv2"
   ]
  },
  {
   "cell_type": "code",
   "execution_count": 15,
   "metadata": {
    "collapsed": false
   },
   "outputs": [
    {
     "data": {
      "image/png": "[encoded data removed]",
      "text/latex": [
       "$$\\left[\\begin{matrix}5\\\\5\\\\5\\end{matrix}\\right]$$"
      ],
      "text/plain": [
       "⎡5⎤\n",
       "⎢ ⎥\n",
       "⎢5⎥\n",
       "⎢ ⎥\n",
       "⎣5⎦"
      ]
     },
     "execution_count": 15,
     "metadata": {},
     "output_type": "execute_result"
    }
   ],
   "source": [
    "Lv3 = A*v3\n",
    "Lv3"
   ]
  },
  {
   "cell_type": "markdown",
   "metadata": {},
   "source": [
    "The matrix of the linear transformation has the vectors we computed above on its columns:"
   ]
  },
  {
   "cell_type": "code",
   "execution_count": 16,
   "metadata": {
    "collapsed": false
   },
   "outputs": [
    {
     "data": {
      "image/png": "[encoded data removed]",
      "text/latex": [
       "$$\\left[\\begin{matrix}-4 & 3 & 5\\\\0 & -9 & 5\\\\-2 & 3 & 5\\end{matrix}\\right]$$"
      ],
      "text/plain": [
       "⎡-4  3   5⎤\n",
       "⎢         ⎥\n",
       "⎢0   -9  5⎥\n",
       "⎢         ⎥\n",
       "⎣-2  3   5⎦"
      ]
     },
     "execution_count": 16,
     "metadata": {},
     "output_type": "execute_result"
    }
   ],
   "source": [
    "M=Matrix.hstack(Lv1,Lv2,Lv3)\n",
    "M"
   ]
  },
  {
   "cell_type": "markdown",
   "metadata": {},
   "source": [
    "We are now ready to compute the matrix of the linear transformation from the input basis $B$ to the input basis $B$. We just have to put together two formulas that we saw before:\n",
    "$$\n",
    "[L(u)]_E=M[u]_B\n",
    "$$\n",
    "and\n",
    "$$\n",
    "[L (u)]_B=P^{-1}[L(u)]_E\n",
    "$$\n",
    "Putting these two formulas together we have:\n",
    "$$\n",
    "[L (u)]_B=P^{-1}[L(u)]_E=P^{-1}M[u]_B\n",
    "$$\n",
    "So, the matrix we seek is $P^{-1}M$:"
   ]
  },
  {
   "cell_type": "code",
   "execution_count": 17,
   "metadata": {
    "collapsed": false
   },
   "outputs": [
    {
     "data": {
      "image/png": "[encoded data removed]",
      "text/latex": [
       "$$\\left[\\begin{matrix}-2 & 0 & 0\\\\0 & 3 & 0\\\\0 & 0 & 5\\end{matrix}\\right]$$"
      ],
      "text/plain": [
       "⎡-2  0  0⎤\n",
       "⎢        ⎥\n",
       "⎢0   3  0⎥\n",
       "⎢        ⎥\n",
       "⎣0   0  5⎦"
      ]
     },
     "execution_count": 17,
     "metadata": {},
     "output_type": "execute_result"
    }
   ],
   "source": [
    "P**(-1)*M"
   ]
  },
  {
   "cell_type": "markdown",
   "metadata": {},
   "source": [
    "We notice the remarkable fact that this matrix is diagonal, that is, the linear transformation $L$ has a specially simple representation in the basis $B$. The next topic we will study is how to find these basis that make the representation of a linear transformation very simple."
   ]
  },
  {
   "cell_type": "code",
   "execution_count": null,
   "metadata": {
    "collapsed": true
   },
   "outputs": [],
   "source": []
  }
 ],
 "metadata": {
  "anaconda-cloud": {},
  "kernelspec": {
   "display_name": "Python [default]",
   "language": "python",
   "name": "python3"
  },
  "language_info": {
   "codemirror_mode": {
    "name": "ipython",
    "version": 3
   },
   "file_extension": ".py",
   "mimetype": "text/x-python",
   "name": "python",
   "nbconvert_exporter": "python",
   "pygments_lexer": "ipython3",
   "version": "3.5.2"
  }
 },
 "nbformat": 4,
 "nbformat_minor": 0
}
