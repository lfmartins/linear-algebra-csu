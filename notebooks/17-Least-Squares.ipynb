{
 "cells": [
  {
   "cell_type": "code",
   "execution_count": 17,
   "metadata": {
    "collapsed": false
   },
   "outputs": [],
   "source": [
    "%matplotlib inline\n",
    "import numpy as np\n",
    "import matplotlib.pyplot as plt\n",
    "from latools import *\n",
    "from sympy import *\n",
    "init_printing(use_latex=True)"
   ]
  },
  {
   "cell_type": "markdown",
   "metadata": {},
   "source": [
    "# Fitting a linear function to data\n",
    "\n",
    "Suppose that we have a set of data:\n",
    "$$\n",
    "\\begin{array}{c|c|c}\n",
    "i & \\alpha_i & \\beta_i\\\\\\hline\n",
    "1 & 2 & 3\\\\\n",
    "2 & 1 & 1\\\\\n",
    "3 & 4 & 6\\\\\n",
    "4 & 3 & 3\\\\\n",
    "5 & 7 & 8\n",
    "\\end{array}\n",
    "$$\n",
    "Scientists suspect that there is a linear relationship relating the variables $\\alpha$ and $\\beta$:\n",
    "$$\n",
    "\\beta_i = \\alpha_i m+d\n",
    "$$\n",
    "where $m$ and $d$ are contants to be determined. We can set up the problem of finding $m$ and $d$ as a linear system:\n",
    "\\begin{align*}\n",
    "2m+d &=3\\\\\n",
    "1m+d &=1\\\\\n",
    "4m+d &=6\\\\\n",
    "3m+d &=3\\\\\n",
    "7m+d &=8\n",
    "\\end{align*}\n",
    "We can formulate this in matrix form:\n",
    "$$\n",
    "\\begin{bmatrix}2&1\\\\1&1\\\\4&1\\\\3&1\\\\7&1\\end{bmatrix}\n",
    "\\begin{bmatrix}m\\\\d\\end{bmatrix}=\n",
    "\\begin{bmatrix}3\\\\1\\\\6\\\\3\\\\8\\end{bmatrix}\n",
    "$$\n",
    "Let's try to solve it using our standard methods. Define the augmented matrix:"
   ]
  },
  {
   "cell_type": "code",
   "execution_count": 18,
   "metadata": {
    "collapsed": false
   },
   "outputs": [
    {
     "data": {
      "image/png": "[encoded data removed]",
      "text/latex": [
       "$$\\left[\\begin{matrix}2 & 1\\\\1 & 1\\\\4 & 1\\\\3 & 1\\\\7 & 1\\end{matrix}\\right]$$"
      ],
      "text/plain": [
       "⎡2  1⎤\n",
       "⎢    ⎥\n",
       "⎢1  1⎥\n",
       "⎢    ⎥\n",
       "⎢4  1⎥\n",
       "⎢    ⎥\n",
       "⎢3  1⎥\n",
       "⎢    ⎥\n",
       "⎣7  1⎦"
      ]
     },
     "execution_count": 18,
     "metadata": {},
     "output_type": "execute_result"
    }
   ],
   "source": [
    "A = matrix_to_rational([[2,1],[1,1],[4,1],[3,1],[7,1]])\n",
    "A"
   ]
  },
  {
   "cell_type": "code",
   "execution_count": 19,
   "metadata": {
    "collapsed": false
   },
   "outputs": [
    {
     "data": {
      "image/png": "[encoded data removed]",
      "text/latex": [
       "$$\\left[\\begin{matrix}3\\\\1\\\\6\\\\3\\\\8\\end{matrix}\\right]$$"
      ],
      "text/plain": [
       "⎡3⎤\n",
       "⎢ ⎥\n",
       "⎢1⎥\n",
       "⎢ ⎥\n",
       "⎢6⎥\n",
       "⎢ ⎥\n",
       "⎢3⎥\n",
       "⎢ ⎥\n",
       "⎣8⎦"
      ]
     },
     "execution_count": 19,
     "metadata": {},
     "output_type": "execute_result"
    }
   ],
   "source": [
    "b = matrix_to_rational([[3],[1],[6],[3],[8]])\n",
    "b"
   ]
  },
  {
   "cell_type": "code",
   "execution_count": 20,
   "metadata": {
    "collapsed": false
   },
   "outputs": [
    {
     "data": {
      "image/png": "[encoded data removed]",
      "text/latex": [
       "$$\\left[\\begin{matrix}2 & 1 & 3\\\\1 & 1 & 1\\\\4 & 1 & 6\\\\3 & 1 & 3\\\\7 & 1 & 8\\end{matrix}\\right]$$"
      ],
      "text/plain": [
       "⎡2  1  3⎤\n",
       "⎢       ⎥\n",
       "⎢1  1  1⎥\n",
       "⎢       ⎥\n",
       "⎢4  1  6⎥\n",
       "⎢       ⎥\n",
       "⎢3  1  3⎥\n",
       "⎢       ⎥\n",
       "⎣7  1  8⎦"
      ]
     },
     "execution_count": 20,
     "metadata": {},
     "output_type": "execute_result"
    }
   ],
   "source": [
    "M = Matrix.hstack(A,b)\n",
    "M"
   ]
  },
  {
   "cell_type": "code",
   "execution_count": 21,
   "metadata": {
    "collapsed": false
   },
   "outputs": [
    {
     "data": {
      "image/png": "[encoded data removed]",
      "text/latex": [
       "$$\\left[\\begin{matrix}1 & 0 & 0\\\\0 & 1 & 0\\\\0 & 0 & 1\\\\0 & 0 & 0\\\\0 & 0 & 0\\end{matrix}\\right]$$"
      ],
      "text/plain": [
       "⎡1  0  0⎤\n",
       "⎢       ⎥\n",
       "⎢0  1  0⎥\n",
       "⎢       ⎥\n",
       "⎢0  0  1⎥\n",
       "⎢       ⎥\n",
       "⎢0  0  0⎥\n",
       "⎢       ⎥\n",
       "⎣0  0  0⎦"
      ]
     },
     "execution_count": 21,
     "metadata": {},
     "output_type": "execute_result"
    }
   ],
   "source": [
    "R = reduced_row_echelon_form(M)\n",
    "R"
   ]
  },
  {
   "cell_type": "markdown",
   "metadata": {},
   "source": [
    "Thus, the system is equivalent to:\n",
    "\\begin{align*}\n",
    "m&=0\\\\\n",
    "d&=0\\\\\n",
    "0&=1\n",
    "\\end{align*}\n",
    "Due to the last equation, this system is inconsistent. This happens because _there is no straight line that goes through all the points_:"
   ]
  },
  {
   "cell_type": "code",
   "execution_count": 22,
   "metadata": {
    "collapsed": false
   },
   "outputs": [
    {
     "data": {
      "image/png": "[encoded data removed]",
      "text/plain": [
       "<matplotlib.figure.Figure at 0x1114abc88>"
      ]
     },
     "metadata": {},
     "output_type": "display_data"
    }
   ],
   "source": [
    "plt.plot(A[:,0], b[:], 'o')\n",
    "plt.axis([-1,8,-1,9])\n",
    "None"
   ]
  },
  {
   "cell_type": "code",
   "execution_count": 23,
   "metadata": {
    "collapsed": false
   },
   "outputs": [
    {
     "data": {
      "image/png": "[encoded data removed]",
      "text/latex": [
       "$$\\left[\\begin{matrix}2\\\\1\\\\4\\\\3\\\\7\\end{matrix}\\right]$$"
      ],
      "text/plain": [
       "⎡2⎤\n",
       "⎢ ⎥\n",
       "⎢1⎥\n",
       "⎢ ⎥\n",
       "⎢4⎥\n",
       "⎢ ⎥\n",
       "⎢3⎥\n",
       "⎢ ⎥\n",
       "⎣7⎦"
      ]
     },
     "execution_count": 23,
     "metadata": {},
     "output_type": "execute_result"
    }
   ],
   "source": [
    "A[:,0]"
   ]
  },
  {
   "cell_type": "markdown",
   "metadata": {},
   "source": [
    "The fact that the data does not perfectly fit a straight line is not surprising. Two factors may be at play:\n",
    "\n",
    "- The data contains measurement errors. Even if the \"actual\" values fall on a straight line, the measured values will not.\n",
    "- The straight line model is not completely accurate. It may be valid as a first approximation, but it will be necessary to adjust it with a more refined model.\n",
    "\n",
    "This is a situation where we can find a _Least Squares Solution_. To do this we first compute $A_1=A^TA$ and $\\mathbf{b}_1=A.T * b$:"
   ]
  },
  {
   "cell_type": "code",
   "execution_count": 24,
   "metadata": {
    "collapsed": false
   },
   "outputs": [
    {
     "data": {
      "image/png": "[encoded data removed]",
      "text/latex": [
       "$$\\left[\\begin{matrix}79 & 17\\\\17 & 5\\end{matrix}\\right]$$"
      ],
      "text/plain": [
       "⎡79  17⎤\n",
       "⎢      ⎥\n",
       "⎣17  5 ⎦"
      ]
     },
     "execution_count": 24,
     "metadata": {},
     "output_type": "execute_result"
    }
   ],
   "source": [
    "A1 = A.T * A\n",
    "A1"
   ]
  },
  {
   "cell_type": "code",
   "execution_count": 25,
   "metadata": {
    "collapsed": false
   },
   "outputs": [
    {
     "data": {
      "image/png": "[encoded data removed]",
      "text/latex": [
       "$$\\left[\\begin{matrix}96\\\\21\\end{matrix}\\right]$$"
      ],
      "text/plain": [
       "⎡96⎤\n",
       "⎢  ⎥\n",
       "⎣21⎦"
      ]
     },
     "execution_count": 25,
     "metadata": {},
     "output_type": "execute_result"
    }
   ],
   "source": [
    "b1 = A.T * b\n",
    "b1"
   ]
  },
  {
   "cell_type": "code",
   "execution_count": 26,
   "metadata": {
    "collapsed": false
   },
   "outputs": [
    {
     "data": {
      "image/png": "[encoded data removed]",
      "text/latex": [
       "$$\\left[\\begin{matrix}79 & 17 & 96\\\\17 & 5 & 21\\end{matrix}\\right]$$"
      ],
      "text/plain": [
       "⎡79  17  96⎤\n",
       "⎢          ⎥\n",
       "⎣17  5   21⎦"
      ]
     },
     "execution_count": 26,
     "metadata": {},
     "output_type": "execute_result"
    }
   ],
   "source": [
    "M = Matrix.hstack(A1, b1)\n",
    "M"
   ]
  },
  {
   "cell_type": "code",
   "execution_count": 27,
   "metadata": {
    "collapsed": false
   },
   "outputs": [
    {
     "data": {
      "image/png": "[encoded data removed]",
      "text/latex": [
       "$$\\left[\\begin{matrix}1 & 0 & \\frac{123}{106}\\\\0 & 1 & \\frac{27}{106}\\end{matrix}\\right]$$"
      ],
      "text/plain": [
       "⎡      123⎤\n",
       "⎢1  0  ───⎥\n",
       "⎢      106⎥\n",
       "⎢         ⎥\n",
       "⎢       27⎥\n",
       "⎢0  1  ───⎥\n",
       "⎣      106⎦"
      ]
     },
     "execution_count": 27,
     "metadata": {},
     "output_type": "execute_result"
    }
   ],
   "source": [
    "R = reduced_row_echelon_form(M)\n",
    "R"
   ]
  },
  {
   "cell_type": "markdown",
   "metadata": {},
   "source": [
    "So, we get the solution:\n",
    "$$\n",
    "\\begin{bmatrix}m\\\\d\\end{bmatrix}=\\begin{bmatrix}\\frac{123}{106}\\\\\\frac{27}{106}\\end{bmatrix}\n",
    "$$\n",
    "That is, the line that best fits our data (in the least squares sense) is:\n",
    "$$\n",
    "\\beta=\\frac{123}{106}\\alpha + \\frac{27}{106}\n",
    "$$\n",
    "Let's now display the data points again, together with the linear approximation:"
   ]
  },
  {
   "cell_type": "code",
   "execution_count": 28,
   "metadata": {
    "collapsed": false
   },
   "outputs": [
    {
     "data": {
      "image/png": "[encoded data removed]",
      "text/latex": [
       "$$\\left ( \\frac{123}{106}, \\quad \\frac{27}{106}\\right )$$"
      ],
      "text/plain": [
       "⎛123   27⎞\n",
       "⎜───, ───⎟\n",
       "⎝106  106⎠"
      ]
     },
     "execution_count": 28,
     "metadata": {},
     "output_type": "execute_result"
    }
   ],
   "source": [
    "xlss = R[:,2]\n",
    "m, d = xlss\n",
    "m, d"
   ]
  },
  {
   "cell_type": "code",
   "execution_count": 29,
   "metadata": {
    "collapsed": false
   },
   "outputs": [
    {
     "data": {
      "image/png": "[encoded data removed]",
      "text/plain": [
       "<matplotlib.figure.Figure at 0x1114abc50>"
      ]
     },
     "metadata": {},
     "output_type": "display_data"
    }
   ],
   "source": [
    "plt.plot(A[:,0], b[:], 'o')\n",
    "xvalues = np.linspace(0,7,300)\n",
    "yvalues = m * xvalues + d\n",
    "plt.plot(xvalues, yvalues, '--', color='red', lw=2)\n",
    "plt.axis([-1,8,-1,9])\n",
    "None"
   ]
  },
  {
   "cell_type": "markdown",
   "metadata": {},
   "source": [
    "To estimate the error in the approximation, we can compute the residuals:"
   ]
  },
  {
   "cell_type": "code",
   "execution_count": 30,
   "metadata": {
    "collapsed": false
   },
   "outputs": [
    {
     "data": {
      "image/png": "[encoded data removed]",
      "text/latex": [
       "$$\\left[\\begin{matrix}\\frac{45}{106}\\\\- \\frac{22}{53}\\\\\\frac{117}{106}\\\\- \\frac{39}{53}\\\\- \\frac{20}{53}\\end{matrix}\\right]$$"
      ],
      "text/plain": [
       "⎡ 45 ⎤\n",
       "⎢─── ⎥\n",
       "⎢106 ⎥\n",
       "⎢    ⎥\n",
       "⎢-22 ⎥\n",
       "⎢────⎥\n",
       "⎢ 53 ⎥\n",
       "⎢    ⎥\n",
       "⎢117 ⎥\n",
       "⎢─── ⎥\n",
       "⎢106 ⎥\n",
       "⎢    ⎥\n",
       "⎢-39 ⎥\n",
       "⎢────⎥\n",
       "⎢ 53 ⎥\n",
       "⎢    ⎥\n",
       "⎢-20 ⎥\n",
       "⎢────⎥\n",
       "⎣ 53 ⎦"
      ]
     },
     "execution_count": 30,
     "metadata": {},
     "output_type": "execute_result"
    }
   ],
   "source": [
    "r = (b - A * xlss)\n",
    "r"
   ]
  },
  {
   "cell_type": "code",
   "execution_count": 31,
   "metadata": {
    "collapsed": false
   },
   "outputs": [
    {
     "data": {
      "image/png": "[encoded data removed]",
      "text/latex": [
       "$$\\left [ 0.42452830188679247, \\quad -0.41509433962264153, \\quad 1.1037735849056605, \\quad -0.7358490566037735, \\quad -0.37735849056603776\\right ]$$"
      ],
      "text/plain": [
       "[0.42452830188679247, -0.41509433962264153, 1.1037735849056605, -0.73584905660\n",
       "37735, -0.37735849056603776]"
      ]
     },
     "execution_count": 31,
     "metadata": {},
     "output_type": "execute_result"
    }
   ],
   "source": [
    "[float(vv) for vv in r]"
   ]
  },
  {
   "cell_type": "markdown",
   "metadata": {},
   "source": [
    "The squared length of the residuals is a measure of how good the linear model is:"
   ]
  },
  {
   "cell_type": "code",
   "execution_count": 32,
   "metadata": {
    "collapsed": false
   },
   "outputs": [
    {
     "data": {
      "image/png": "[encoded data removed]",
      "text/latex": [
       "$$2.2547169811320753$$"
      ],
      "text/plain": [
       "2.2547169811320753"
      ]
     },
     "execution_count": 32,
     "metadata": {},
     "output_type": "execute_result"
    }
   ],
   "source": [
    "float(r.norm()**2)"
   ]
  },
  {
   "cell_type": "markdown",
   "metadata": {},
   "source": [
    "The interpretation of this number is the following: any other pair $(m,d)$ would yield a larger value of $||\\mathbf{r}||^2$ for this data set."
   ]
  }
 ],
 "metadata": {
  "anaconda-cloud": {},
  "kernelspec": {
   "display_name": "Python [default]",
   "language": "python",
   "name": "python3"
  },
  "language_info": {
   "codemirror_mode": {
    "name": "ipython",
    "version": 3
   },
   "file_extension": ".py",
   "mimetype": "text/x-python",
   "name": "python",
   "nbconvert_exporter": "python",
   "pygments_lexer": "ipython3",
   "version": "3.5.2"
  }
 },
 "nbformat": 4,
 "nbformat_minor": 0
}
