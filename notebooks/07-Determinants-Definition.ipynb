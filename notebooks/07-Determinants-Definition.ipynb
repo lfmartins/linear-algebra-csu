{
 "cells": [
  {
   "cell_type": "code",
   "execution_count": 3,
   "metadata": {
    "collapsed": false
   },
   "outputs": [],
   "source": [
    "from latools import *\n",
    "from sympy import *\n",
    "init_printing(use_latex=True)\n",
    "from itertools import permutations"
   ]
  },
  {
   "cell_type": "code",
   "execution_count": 4,
   "metadata": {
    "collapsed": true
   },
   "outputs": [],
   "source": [
    "def row_scale(M, i, c):\n",
    "    M[i,:] *= c\n",
    "    for k in range(M.cols):\n",
    "        M[i,k] = cancel(M[i,k])\n",
    "\n",
    "def row_scale_add(M, i, j, c):\n",
    "    M[j,:] += c*M[i,:]\n",
    "    for k in range(M.cols):\n",
    "        M[j,k] = cancel(M[j,k])\n",
    "\n",
    "def row_swap(M, i, j):\n",
    "    M[i,:], M[j,:] = M[j,:], M[i,:]"
   ]
  },
  {
   "cell_type": "code",
   "execution_count": 5,
   "metadata": {
    "collapsed": false
   },
   "outputs": [
    {
     "data": {
      "image/png": "[encoded data removed]",
      "text/latex": [
       "$$\\left[\\begin{matrix}a & b & 1 & 0\\\\c & d & 0 & 1\\end{matrix}\\right]$$"
      ],
      "text/plain": [
       "⎡a  b  1  0⎤\n",
       "⎢          ⎥\n",
       "⎣c  d  0  1⎦"
      ]
     },
     "execution_count": 5,
     "metadata": {},
     "output_type": "execute_result"
    }
   ],
   "source": [
    "a, b, c, d = symbols('a, b, c, d')\n",
    "A = Matrix([[a, b],[c, d]])\n",
    "M = A.row_join(eye(2))\n",
    "M"
   ]
  },
  {
   "cell_type": "code",
   "execution_count": 6,
   "metadata": {
    "collapsed": false
   },
   "outputs": [
    {
     "data": {
      "image/png": "[encoded data removed]",
      "text/latex": [
       "$$\\left[\\begin{matrix}1 & \\frac{b}{a} & \\frac{1}{a} & 0\\\\c & d & 0 & 1\\end{matrix}\\right]$$"
      ],
      "text/plain": [
       "⎡   b  1   ⎤\n",
       "⎢1  ─  ─  0⎥\n",
       "⎢   a  a   ⎥\n",
       "⎢          ⎥\n",
       "⎣c  d  0  1⎦"
      ]
     },
     "execution_count": 6,
     "metadata": {},
     "output_type": "execute_result"
    }
   ],
   "source": [
    "row_scale(M, 0, 1/a)\n",
    "M"
   ]
  },
  {
   "cell_type": "code",
   "execution_count": 7,
   "metadata": {
    "collapsed": false
   },
   "outputs": [
    {
     "data": {
      "image/png": "[encoded data removed]",
      "text/latex": [
       "$$\\left[\\begin{matrix}1 & \\frac{b}{a} & \\frac{1}{a} & 0\\\\0 & \\frac{1}{a} \\left(a d - b c\\right) & - \\frac{c}{a} & 1\\end{matrix}\\right]$$"
      ],
      "text/plain": [
       "⎡       b       1    ⎤\n",
       "⎢1      ─       ─   0⎥\n",
       "⎢       a       a    ⎥\n",
       "⎢                    ⎥\n",
       "⎢   a⋅d - b⋅c  -c    ⎥\n",
       "⎢0  ─────────  ───  1⎥\n",
       "⎣       a       a    ⎦"
      ]
     },
     "execution_count": 7,
     "metadata": {},
     "output_type": "execute_result"
    }
   ],
   "source": [
    "row_scale_add(M, 0, 1, -c)\n",
    "M"
   ]
  },
  {
   "cell_type": "code",
   "execution_count": 8,
   "metadata": {
    "collapsed": false
   },
   "outputs": [
    {
     "data": {
      "image/png": "[encoded data removed]",
      "text/latex": [
       "$$\\left[\\begin{matrix}1 & \\frac{b}{a} & \\frac{1}{a} & 0\\\\0 & 1 & - \\frac{c}{a d - b c} & \\frac{a}{a d - b c}\\end{matrix}\\right]$$"
      ],
      "text/plain": [
       "⎡   b      1               ⎤\n",
       "⎢1  ─      ─          0    ⎥\n",
       "⎢   a      a               ⎥\n",
       "⎢                          ⎥\n",
       "⎢         -c          a    ⎥\n",
       "⎢0  1  ─────────  ─────────⎥\n",
       "⎣      a⋅d - b⋅c  a⋅d - b⋅c⎦"
      ]
     },
     "execution_count": 8,
     "metadata": {},
     "output_type": "execute_result"
    }
   ],
   "source": [
    "row_scale(M, 1, a/(a*d-b*c))\n",
    "M"
   ]
  },
  {
   "cell_type": "code",
   "execution_count": 9,
   "metadata": {
    "collapsed": false
   },
   "outputs": [
    {
     "data": {
      "image/png": "[encoded data removed]",
      "text/latex": [
       "$$\\left[\\begin{matrix}1 & 0 & \\frac{d}{a d - b c} & - \\frac{b}{a d - b c}\\\\0 & 1 & - \\frac{c}{a d - b c} & \\frac{a}{a d - b c}\\end{matrix}\\right]$$"
      ],
      "text/plain": [
       "⎡          d         -b    ⎤\n",
       "⎢1  0  ─────────  ─────────⎥\n",
       "⎢      a⋅d - b⋅c  a⋅d - b⋅c⎥\n",
       "⎢                          ⎥\n",
       "⎢         -c          a    ⎥\n",
       "⎢0  1  ─────────  ─────────⎥\n",
       "⎣      a⋅d - b⋅c  a⋅d - b⋅c⎦"
      ]
     },
     "execution_count": 9,
     "metadata": {},
     "output_type": "execute_result"
    }
   ],
   "source": [
    "row_scale_add(M, 1, 0, -b/a)\n",
    "M"
   ]
  },
  {
   "cell_type": "code",
   "execution_count": 10,
   "metadata": {
    "collapsed": false
   },
   "outputs": [
    {
     "data": {
      "image/png": "[encoded data removed]",
      "text/latex": [
       "$$\\left[\\begin{matrix}\\frac{d}{a d - b c} & - \\frac{b}{a d - b c}\\\\- \\frac{c}{a d - b c} & \\frac{a}{a d - b c}\\end{matrix}\\right]$$"
      ],
      "text/plain": [
       "⎡    d         -b    ⎤\n",
       "⎢─────────  ─────────⎥\n",
       "⎢a⋅d - b⋅c  a⋅d - b⋅c⎥\n",
       "⎢                    ⎥\n",
       "⎢   -c          a    ⎥\n",
       "⎢─────────  ─────────⎥\n",
       "⎣a⋅d - b⋅c  a⋅d - b⋅c⎦"
      ]
     },
     "execution_count": 10,
     "metadata": {},
     "output_type": "execute_result"
    }
   ],
   "source": [
    "Ainv = M[:, 2:]\n",
    "Ainv"
   ]
  },
  {
   "cell_type": "code",
   "execution_count": 11,
   "metadata": {
    "collapsed": false
   },
   "outputs": [
    {
     "data": {
      "image/png": "[encoded data removed]",
      "text/latex": [
       "$$a d - b c$$"
      ],
      "text/plain": [
       "a⋅d - b⋅c"
      ]
     },
     "execution_count": 11,
     "metadata": {},
     "output_type": "execute_result"
    }
   ],
   "source": [
    "Adet = denom(Ainv[0,0])\n",
    "Adet"
   ]
  },
  {
   "cell_type": "code",
   "execution_count": 12,
   "metadata": {
    "collapsed": false
   },
   "outputs": [
    {
     "data": {
      "image/png": "[encoded data removed]",
      "text/latex": [
       "$$\\left[\\begin{matrix}d & - b\\\\- c & a\\end{matrix}\\right]$$"
      ],
      "text/plain": [
       "⎡d   -b⎤\n",
       "⎢      ⎥\n",
       "⎣-c  a ⎦"
      ]
     },
     "execution_count": 12,
     "metadata": {},
     "output_type": "execute_result"
    }
   ],
   "source": [
    "C = Adet*Ainv\n",
    "C"
   ]
  },
  {
   "cell_type": "code",
   "execution_count": 13,
   "metadata": {
    "collapsed": false
   },
   "outputs": [],
   "source": [
    "n = 2\n",
    "A = Matrix([symbols(','.join(['a_{}{}'.format(i+1,j+1) for j in range(n)])) for i in range(n)])"
   ]
  },
  {
   "cell_type": "code",
   "execution_count": 14,
   "metadata": {
    "collapsed": false
   },
   "outputs": [
    {
     "name": "stdout",
     "output_type": "stream",
     "text": [
      "\\left[\\begin{matrix}a_{11} & a_{12}\\\\a_{21} & a_{22}\\end{matrix}\\right]\n"
     ]
    }
   ],
   "source": [
    "print(latex(A))"
   ]
  },
  {
   "cell_type": "code",
   "execution_count": 15,
   "metadata": {
    "collapsed": false
   },
   "outputs": [],
   "source": [
    "n = 2\n",
    "A = Matrix([symbols(','.join(['a_{}{}'.format(i+1,j+1) for j in range(n)])) for i in range(n)])\n",
    "M = A.row_join(eye(n))\n",
    "for i in range(M.rows):\n",
    "    row_scale(M, i, 1/M[i,i])\n",
    "    for j in range(M.rows):\n",
    "        if i != j:\n",
    "            row_scale_add(M, i, j, -M[j,i])\n",
    "Ainv = M[:, n:]\n",
    "Adet = denom(Ainv[0,0])\n",
    "C = Adet * Ainv"
   ]
  },
  {
   "cell_type": "code",
   "execution_count": 16,
   "metadata": {
    "collapsed": false
   },
   "outputs": [
    {
     "data": {
      "image/png": "[encoded data removed]",
      "text/latex": [
       "$$\\left[\\begin{matrix}\\frac{a_{22}}{a_{11} a_{22} - a_{12} a_{21}} & - \\frac{a_{12}}{a_{11} a_{22} - a_{12} a_{21}}\\\\- \\frac{a_{21}}{a_{11} a_{22} - a_{12} a_{21}} & \\frac{a_{11}}{a_{11} a_{22} - a_{12} a_{21}}\\end{matrix}\\right]$$"
      ],
      "text/plain": [
       "⎡       a₂₂               -a₁₂       ⎤\n",
       "⎢─────────────────  ─────────────────⎥\n",
       "⎢a₁₁⋅a₂₂ - a₁₂⋅a₂₁  a₁₁⋅a₂₂ - a₁₂⋅a₂₁⎥\n",
       "⎢                                    ⎥\n",
       "⎢      -a₂₁                a₁₁       ⎥\n",
       "⎢─────────────────  ─────────────────⎥\n",
       "⎣a₁₁⋅a₂₂ - a₁₂⋅a₂₁  a₁₁⋅a₂₂ - a₁₂⋅a₂₁⎦"
      ]
     },
     "execution_count": 16,
     "metadata": {},
     "output_type": "execute_result"
    }
   ],
   "source": [
    "Ainv"
   ]
  },
  {
   "cell_type": "code",
   "execution_count": 17,
   "metadata": {
    "collapsed": false
   },
   "outputs": [
    {
     "data": {
      "image/png": "[encoded data removed]",
      "text/latex": [
       "$$a_{11} a_{22} - a_{12} a_{21}$$"
      ],
      "text/plain": [
       "a₁₁⋅a₂₂ - a₁₂⋅a₂₁"
      ]
     },
     "execution_count": 17,
     "metadata": {},
     "output_type": "execute_result"
    }
   ],
   "source": [
    "Adet"
   ]
  },
  {
   "cell_type": "code",
   "execution_count": 18,
   "metadata": {
    "collapsed": false
   },
   "outputs": [
    {
     "name": "stdout",
     "output_type": "stream",
     "text": [
      "a_{11} a_{22} - a_{12} a_{21}\n"
     ]
    }
   ],
   "source": [
    "print(latex(Adet))"
   ]
  },
  {
   "cell_type": "code",
   "execution_count": 19,
   "metadata": {
    "collapsed": false
   },
   "outputs": [
    {
     "data": {
      "image/png": "[encoded data removed]",
      "text/latex": [
       "$$\\left[\\begin{matrix}a_{22} & - a_{12}\\\\- a_{21} & a_{11}\\end{matrix}\\right]$$"
      ],
      "text/plain": [
       "⎡a₂₂   -a₁₂⎤\n",
       "⎢          ⎥\n",
       "⎣-a₂₁  a₁₁ ⎦"
      ]
     },
     "execution_count": 19,
     "metadata": {},
     "output_type": "execute_result"
    }
   ],
   "source": [
    "C"
   ]
  },
  {
   "cell_type": "code",
   "execution_count": 20,
   "metadata": {
    "collapsed": false
   },
   "outputs": [],
   "source": [
    "n = 3\n",
    "A = Matrix([symbols(','.join(['a_{}{}'.format(i+1,j+1) for j in range(n)])) \n",
    "            for i in range(n)])\n",
    "M = A.row_join(eye(n))\n",
    "for i in range(M.rows):\n",
    "    row_scale(M, i, 1/M[i,i])\n",
    "    for j in range(M.rows):\n",
    "        if i != j:\n",
    "            row_scale_add(M, i, j, -M[j,i])\n",
    "Ainv = M[:,n:]\n",
    "Adet = denom(Ainv[0,0])\n",
    "C = Adet * Ainv"
   ]
  },
  {
   "cell_type": "code",
   "execution_count": 21,
   "metadata": {
    "collapsed": false
   },
   "outputs": [
    {
     "data": {
      "image/png": "[encoded data removed]",
      "text/latex": [
       "$$\\left[\\begin{matrix}a_{11} & a_{12} & a_{13}\\\\a_{21} & a_{22} & a_{23}\\\\a_{31} & a_{32} & a_{33}\\end{matrix}\\right]$$"
      ],
      "text/plain": [
       "⎡a₁₁  a₁₂  a₁₃⎤\n",
       "⎢             ⎥\n",
       "⎢a₂₁  a₂₂  a₂₃⎥\n",
       "⎢             ⎥\n",
       "⎣a₃₁  a₃₂  a₃₃⎦"
      ]
     },
     "execution_count": 21,
     "metadata": {},
     "output_type": "execute_result"
    }
   ],
   "source": [
    "A"
   ]
  },
  {
   "cell_type": "code",
   "execution_count": 22,
   "metadata": {
    "collapsed": false
   },
   "outputs": [
    {
     "name": "stdout",
     "output_type": "stream",
     "text": [
      "\\left[\\begin{matrix}a_{11} & a_{12} & a_{13}\\\\a_{21} & a_{22} & a_{23}\\\\a_{31} & a_{32} & a_{33}\\end{matrix}\\right]\n"
     ]
    }
   ],
   "source": [
    "print(latex(A))"
   ]
  },
  {
   "cell_type": "code",
   "execution_count": 23,
   "metadata": {
    "collapsed": false
   },
   "outputs": [
    {
     "data": {
      "image/png": "[encoded data removed]",
      "text/latex": [
       "$$a_{11} a_{22} a_{33} - a_{11} a_{23} a_{32} - a_{12} a_{21} a_{33} + a_{12} a_{23} a_{31} + a_{13} a_{21} a_{32} - a_{13} a_{22} a_{31}$$"
      ],
      "text/plain": [
       "a₁₁⋅a₂₂⋅a₃₃ - a₁₁⋅a₂₃⋅a₃₂ - a₁₂⋅a₂₁⋅a₃₃ + a₁₂⋅a₂₃⋅a₃₁ + a₁₃⋅a₂₁⋅a₃₂ - a₁₃⋅a₂₂⋅\n",
       "a₃₁"
      ]
     },
     "execution_count": 23,
     "metadata": {},
     "output_type": "execute_result"
    }
   ],
   "source": [
    "Adet"
   ]
  },
  {
   "cell_type": "code",
   "execution_count": 24,
   "metadata": {
    "collapsed": false
   },
   "outputs": [
    {
     "name": "stdout",
     "output_type": "stream",
     "text": [
      "a_{11} a_{22} a_{33} - a_{11} a_{23} a_{32} - a_{12} a_{21} a_{33} + a_{12} a_{23} a_{31} + a_{13} a_{21} a_{32} - a_{13} a_{22} a_{31}\n"
     ]
    }
   ],
   "source": [
    "print(latex(Adet))"
   ]
  },
  {
   "cell_type": "code",
   "execution_count": 25,
   "metadata": {
    "collapsed": false
   },
   "outputs": [
    {
     "data": {
      "image/png": "[encoded data removed]",
      "text/latex": [
       "$$\\left[\\begin{matrix}a_{22} a_{33} - a_{23} a_{32} & - a_{12} a_{33} + a_{13} a_{32} & a_{12} a_{23} - a_{13} a_{22}\\\\- a_{21} a_{33} + a_{23} a_{31} & a_{11} a_{33} - a_{13} a_{31} & - a_{11} a_{23} + a_{13} a_{21}\\\\a_{21} a_{32} - a_{22} a_{31} & - a_{11} a_{32} + a_{12} a_{31} & a_{11} a_{22} - a_{12} a_{21}\\end{matrix}\\right]$$"
      ],
      "text/plain": [
       "⎡a₂₂⋅a₃₃ - a₂₃⋅a₃₂   -a₁₂⋅a₃₃ + a₁₃⋅a₃₂  a₁₂⋅a₂₃ - a₁₃⋅a₂₂ ⎤\n",
       "⎢                                                          ⎥\n",
       "⎢-a₂₁⋅a₃₃ + a₂₃⋅a₃₁  a₁₁⋅a₃₃ - a₁₃⋅a₃₁   -a₁₁⋅a₂₃ + a₁₃⋅a₂₁⎥\n",
       "⎢                                                          ⎥\n",
       "⎣a₂₁⋅a₃₂ - a₂₂⋅a₃₁   -a₁₁⋅a₃₂ + a₁₂⋅a₃₁  a₁₁⋅a₂₂ - a₁₂⋅a₂₁ ⎦"
      ]
     },
     "execution_count": 25,
     "metadata": {},
     "output_type": "execute_result"
    }
   ],
   "source": [
    "C"
   ]
  },
  {
   "cell_type": "code",
   "execution_count": 26,
   "metadata": {
    "collapsed": false
   },
   "outputs": [
    {
     "name": "stdout",
     "output_type": "stream",
     "text": [
      "\\left[\\begin{matrix}a_{22} a_{33} - a_{23} a_{32} & - a_{12} a_{33} + a_{13} a_{32} & a_{12} a_{23} - a_{13} a_{22}\\\\- a_{21} a_{33} + a_{23} a_{31} & a_{11} a_{33} - a_{13} a_{31} & - a_{11} a_{23} + a_{13} a_{21}\\\\a_{21} a_{32} - a_{22} a_{31} & - a_{11} a_{32} + a_{12} a_{31} & a_{11} a_{22} - a_{12} a_{21}\\end{matrix}\\right]\n"
     ]
    }
   ],
   "source": [
    "print(latex(C))"
   ]
  },
  {
   "cell_type": "code",
   "execution_count": 27,
   "metadata": {
    "collapsed": false
   },
   "outputs": [
    {
     "data": {
      "image/png": "[encoded data removed]",
      "text/latex": [
       "$$\\left[\\begin{matrix}1 & 0 & 0\\\\0 & 1 & 0\\\\0 & 0 & 1\\end{matrix}\\right]$$"
      ],
      "text/plain": [
       "⎡1  0  0⎤\n",
       "⎢       ⎥\n",
       "⎢0  1  0⎥\n",
       "⎢       ⎥\n",
       "⎣0  0  1⎦"
      ]
     },
     "execution_count": 27,
     "metadata": {},
     "output_type": "execute_result"
    }
   ],
   "source": [
    "simplify(A*Ainv)"
   ]
  },
  {
   "cell_type": "code",
   "execution_count": 28,
   "metadata": {
    "collapsed": false
   },
   "outputs": [],
   "source": [
    "n = 4\n",
    "A = Matrix([symbols(','.join(['a_{}{}'.format(i+1,j+1) for j in range(n)])) \n",
    "            for i in range(n)])\n",
    "M = A.row_join(eye(n))\n",
    "for i in range(M.rows):\n",
    "    row_scale(M, i, 1/M[i,i])\n",
    "    for j in range(M.rows):\n",
    "        if i != j:\n",
    "            row_scale_add(M, i, j, -M[j,i])\n",
    "Ainv = M[:,n:]\n",
    "Adet = denom(Ainv[0,0])\n",
    "C = Adet * Ainv"
   ]
  },
  {
   "cell_type": "code",
   "execution_count": 29,
   "metadata": {
    "collapsed": false
   },
   "outputs": [
    {
     "data": {
      "image/png": "[encoded data removed]",
      "text/latex": [
       "$$a_{11} a_{22} a_{33} a_{44} - a_{11} a_{22} a_{34} a_{43} - a_{11} a_{23} a_{32} a_{44} + a_{11} a_{23} a_{34} a_{42} + a_{11} a_{24} a_{32} a_{43} - a_{11} a_{24} a_{33} a_{42} - a_{12} a_{21} a_{33} a_{44} + a_{12} a_{21} a_{34} a_{43} + a_{12} a_{23} a_{31} a_{44} - a_{12} a_{23} a_{34} a_{41} - a_{12} a_{24} a_{31} a_{43} + a_{12} a_{24} a_{33} a_{41} + a_{13} a_{21} a_{32} a_{44} - a_{13} a_{21} a_{34} a_{42} - a_{13} a_{22} a_{31} a_{44} + a_{13} a_{22} a_{34} a_{41} + a_{13} a_{24} a_{31} a_{42} - a_{13} a_{24} a_{32} a_{41} - a_{14} a_{21} a_{32} a_{43} + a_{14} a_{21} a_{33} a_{42} + a_{14} a_{22} a_{31} a_{43} - a_{14} a_{22} a_{33} a_{41} - a_{14} a_{23} a_{31} a_{42} + a_{14} a_{23} a_{32} a_{41}$$"
      ],
      "text/plain": [
       "a₁₁⋅a₂₂⋅a₃₃⋅a₄₄ - a₁₁⋅a₂₂⋅a₃₄⋅a₄₃ - a₁₁⋅a₂₃⋅a₃₂⋅a₄₄ + a₁₁⋅a₂₃⋅a₃₄⋅a₄₂ + a₁₁⋅a₂\n",
       "₄⋅a₃₂⋅a₄₃ - a₁₁⋅a₂₄⋅a₃₃⋅a₄₂ - a₁₂⋅a₂₁⋅a₃₃⋅a₄₄ + a₁₂⋅a₂₁⋅a₃₄⋅a₄₃ + a₁₂⋅a₂₃⋅a₃₁⋅\n",
       "a₄₄ - a₁₂⋅a₂₃⋅a₃₄⋅a₄₁ - a₁₂⋅a₂₄⋅a₃₁⋅a₄₃ + a₁₂⋅a₂₄⋅a₃₃⋅a₄₁ + a₁₃⋅a₂₁⋅a₃₂⋅a₄₄ - \n",
       "a₁₃⋅a₂₁⋅a₃₄⋅a₄₂ - a₁₃⋅a₂₂⋅a₃₁⋅a₄₄ + a₁₃⋅a₂₂⋅a₃₄⋅a₄₁ + a₁₃⋅a₂₄⋅a₃₁⋅a₄₂ - a₁₃⋅a₂\n",
       "₄⋅a₃₂⋅a₄₁ - a₁₄⋅a₂₁⋅a₃₂⋅a₄₃ + a₁₄⋅a₂₁⋅a₃₃⋅a₄₂ + a₁₄⋅a₂₂⋅a₃₁⋅a₄₃ - a₁₄⋅a₂₂⋅a₃₃⋅\n",
       "a₄₁ - a₁₄⋅a₂₃⋅a₃₁⋅a₄₂ + a₁₄⋅a₂₃⋅a₃₂⋅a₄₁"
      ]
     },
     "execution_count": 29,
     "metadata": {},
     "output_type": "execute_result"
    }
   ],
   "source": [
    "Adet"
   ]
  },
  {
   "cell_type": "code",
   "execution_count": 30,
   "metadata": {
    "collapsed": false
   },
   "outputs": [
    {
     "data": {
      "image/png": "[encoded data removed]",
      "text/latex": [
       "$$\\left[\\begin{matrix}1 & 0 & 0 & 0\\\\0 & 1 & 0 & 0\\\\0 & 0 & 1 & 0\\\\0 & 0 & 0 & 1\\end{matrix}\\right]$$"
      ],
      "text/plain": [
       "⎡1  0  0  0⎤\n",
       "⎢          ⎥\n",
       "⎢0  1  0  0⎥\n",
       "⎢          ⎥\n",
       "⎢0  0  1  0⎥\n",
       "⎢          ⎥\n",
       "⎣0  0  0  1⎦"
      ]
     },
     "execution_count": 30,
     "metadata": {},
     "output_type": "execute_result"
    }
   ],
   "source": [
    "simplify(A*Ainv)"
   ]
  },
  {
   "cell_type": "code",
   "execution_count": 31,
   "metadata": {
    "collapsed": false
   },
   "outputs": [
    {
     "data": {
      "image/png": "[encoded data removed]",
      "text/latex": [
       "$$\\left[\\begin{matrix}a_{22} a_{33} a_{44} - a_{22} a_{34} a_{43} - a_{23} a_{32} a_{44} + a_{23} a_{34} a_{42} + a_{24} a_{32} a_{43} - a_{24} a_{33} a_{42} & - a_{12} a_{33} a_{44} + a_{12} a_{34} a_{43} + a_{13} a_{32} a_{44} - a_{13} a_{34} a_{42} - a_{14} a_{32} a_{43} + a_{14} a_{33} a_{42} & a_{12} a_{23} a_{44} - a_{12} a_{24} a_{43} - a_{13} a_{22} a_{44} + a_{13} a_{24} a_{42} + a_{14} a_{22} a_{43} - a_{14} a_{23} a_{42} & - a_{12} a_{23} a_{34} + a_{12} a_{24} a_{33} + a_{13} a_{22} a_{34} - a_{13} a_{24} a_{32} - a_{14} a_{22} a_{33} + a_{14} a_{23} a_{32}\\\\- a_{21} a_{33} a_{44} + a_{21} a_{34} a_{43} + a_{23} a_{31} a_{44} - a_{23} a_{34} a_{41} - a_{24} a_{31} a_{43} + a_{24} a_{33} a_{41} & a_{11} a_{33} a_{44} - a_{11} a_{34} a_{43} - a_{13} a_{31} a_{44} + a_{13} a_{34} a_{41} + a_{14} a_{31} a_{43} - a_{14} a_{33} a_{41} & - a_{11} a_{23} a_{44} + a_{11} a_{24} a_{43} + a_{13} a_{21} a_{44} - a_{13} a_{24} a_{41} - a_{14} a_{21} a_{43} + a_{14} a_{23} a_{41} & a_{11} a_{23} a_{34} - a_{11} a_{24} a_{33} - a_{13} a_{21} a_{34} + a_{13} a_{24} a_{31} + a_{14} a_{21} a_{33} - a_{14} a_{23} a_{31}\\\\a_{21} a_{32} a_{44} - a_{21} a_{34} a_{42} - a_{22} a_{31} a_{44} + a_{22} a_{34} a_{41} + a_{24} a_{31} a_{42} - a_{24} a_{32} a_{41} & - a_{11} a_{32} a_{44} + a_{11} a_{34} a_{42} + a_{12} a_{31} a_{44} - a_{12} a_{34} a_{41} - a_{14} a_{31} a_{42} + a_{14} a_{32} a_{41} & a_{11} a_{22} a_{44} - a_{11} a_{24} a_{42} - a_{12} a_{21} a_{44} + a_{12} a_{24} a_{41} + a_{14} a_{21} a_{42} - a_{14} a_{22} a_{41} & - a_{11} a_{22} a_{34} + a_{11} a_{24} a_{32} + a_{12} a_{21} a_{34} - a_{12} a_{24} a_{31} - a_{14} a_{21} a_{32} + a_{14} a_{22} a_{31}\\\\- a_{21} a_{32} a_{43} + a_{21} a_{33} a_{42} + a_{22} a_{31} a_{43} - a_{22} a_{33} a_{41} - a_{23} a_{31} a_{42} + a_{23} a_{32} a_{41} & a_{11} a_{32} a_{43} - a_{11} a_{33} a_{42} - a_{12} a_{31} a_{43} + a_{12} a_{33} a_{41} + a_{13} a_{31} a_{42} - a_{13} a_{32} a_{41} & - a_{11} a_{22} a_{43} + a_{11} a_{23} a_{42} + a_{12} a_{21} a_{43} - a_{12} a_{23} a_{41} - a_{13} a_{21} a_{42} + a_{13} a_{22} a_{41} & a_{11} a_{22} a_{33} - a_{11} a_{23} a_{32} - a_{12} a_{21} a_{33} + a_{12} a_{23} a_{31} + a_{13} a_{21} a_{32} - a_{13} a_{22} a_{31}\\end{matrix}\\right]$$"
      ],
      "text/plain": [
       "⎡a₂₂⋅a₃₃⋅a₄₄ - a₂₂⋅a₃₄⋅a₄₃ - a₂₃⋅a₃₂⋅a₄₄ + a₂₃⋅a₃₄⋅a₄₂ + a₂₄⋅a₃₂⋅a₄₃ - a₂₄⋅a₃₃\n",
       "⎢                                                                             \n",
       "⎢-a₂₁⋅a₃₃⋅a₄₄ + a₂₁⋅a₃₄⋅a₄₃ + a₂₃⋅a₃₁⋅a₄₄ - a₂₃⋅a₃₄⋅a₄₁ - a₂₄⋅a₃₁⋅a₄₃ + a₂₄⋅a₃\n",
       "⎢                                                                             \n",
       "⎢a₂₁⋅a₃₂⋅a₄₄ - a₂₁⋅a₃₄⋅a₄₂ - a₂₂⋅a₃₁⋅a₄₄ + a₂₂⋅a₃₄⋅a₄₁ + a₂₄⋅a₃₁⋅a₄₂ - a₂₄⋅a₃₂\n",
       "⎢                                                                             \n",
       "⎣-a₂₁⋅a₃₂⋅a₄₃ + a₂₁⋅a₃₃⋅a₄₂ + a₂₂⋅a₃₁⋅a₄₃ - a₂₂⋅a₃₃⋅a₄₁ - a₂₃⋅a₃₁⋅a₄₂ + a₂₃⋅a₃\n",
       "\n",
       "⋅a₄₂   -a₁₂⋅a₃₃⋅a₄₄ + a₁₂⋅a₃₄⋅a₄₃ + a₁₃⋅a₃₂⋅a₄₄ - a₁₃⋅a₃₄⋅a₄₂ - a₁₄⋅a₃₂⋅a₄₃ + \n",
       "                                                                              \n",
       "₃⋅a₄₁  a₁₁⋅a₃₃⋅a₄₄ - a₁₁⋅a₃₄⋅a₄₃ - a₁₃⋅a₃₁⋅a₄₄ + a₁₃⋅a₃₄⋅a₄₁ + a₁₄⋅a₃₁⋅a₄₃ - a\n",
       "                                                                              \n",
       "⋅a₄₁   -a₁₁⋅a₃₂⋅a₄₄ + a₁₁⋅a₃₄⋅a₄₂ + a₁₂⋅a₃₁⋅a₄₄ - a₁₂⋅a₃₄⋅a₄₁ - a₁₄⋅a₃₁⋅a₄₂ + \n",
       "                                                                              \n",
       "₂⋅a₄₁  a₁₁⋅a₃₂⋅a₄₃ - a₁₁⋅a₃₃⋅a₄₂ - a₁₂⋅a₃₁⋅a₄₃ + a₁₂⋅a₃₃⋅a₄₁ + a₁₃⋅a₃₁⋅a₄₂ - a\n",
       "\n",
       "a₁₄⋅a₃₃⋅a₄₂  a₁₂⋅a₂₃⋅a₄₄ - a₁₂⋅a₂₄⋅a₄₃ - a₁₃⋅a₂₂⋅a₄₄ + a₁₃⋅a₂₄⋅a₄₂ + a₁₄⋅a₂₂⋅a\n",
       "                                                                              \n",
       "₁₄⋅a₃₃⋅a₄₁   -a₁₁⋅a₂₃⋅a₄₄ + a₁₁⋅a₂₄⋅a₄₃ + a₁₃⋅a₂₁⋅a₄₄ - a₁₃⋅a₂₄⋅a₄₁ - a₁₄⋅a₂₁⋅\n",
       "                                                                              \n",
       "a₁₄⋅a₃₂⋅a₄₁  a₁₁⋅a₂₂⋅a₄₄ - a₁₁⋅a₂₄⋅a₄₂ - a₁₂⋅a₂₁⋅a₄₄ + a₁₂⋅a₂₄⋅a₄₁ + a₁₄⋅a₂₁⋅a\n",
       "                                                                              \n",
       "₁₃⋅a₃₂⋅a₄₁   -a₁₁⋅a₂₂⋅a₄₃ + a₁₁⋅a₂₃⋅a₄₂ + a₁₂⋅a₂₁⋅a₄₃ - a₁₂⋅a₂₃⋅a₄₁ - a₁₃⋅a₂₁⋅\n",
       "\n",
       "₄₃ - a₁₄⋅a₂₃⋅a₄₂   -a₁₂⋅a₂₃⋅a₃₄ + a₁₂⋅a₂₄⋅a₃₃ + a₁₃⋅a₂₂⋅a₃₄ - a₁₃⋅a₂₄⋅a₃₂ - a₁\n",
       "                                                                              \n",
       "a₄₃ + a₁₄⋅a₂₃⋅a₄₁  a₁₁⋅a₂₃⋅a₃₄ - a₁₁⋅a₂₄⋅a₃₃ - a₁₃⋅a₂₁⋅a₃₄ + a₁₃⋅a₂₄⋅a₃₁ + a₁₄\n",
       "                                                                              \n",
       "₄₂ - a₁₄⋅a₂₂⋅a₄₁   -a₁₁⋅a₂₂⋅a₃₄ + a₁₁⋅a₂₄⋅a₃₂ + a₁₂⋅a₂₁⋅a₃₄ - a₁₂⋅a₂₄⋅a₃₁ - a₁\n",
       "                                                                              \n",
       "a₄₂ + a₁₃⋅a₂₂⋅a₄₁  a₁₁⋅a₂₂⋅a₃₃ - a₁₁⋅a₂₃⋅a₃₂ - a₁₂⋅a₂₁⋅a₃₃ + a₁₂⋅a₂₃⋅a₃₁ + a₁₃\n",
       "\n",
       "₄⋅a₂₂⋅a₃₃ + a₁₄⋅a₂₃⋅a₃₂⎤\n",
       "                       ⎥\n",
       "⋅a₂₁⋅a₃₃ - a₁₄⋅a₂₃⋅a₃₁ ⎥\n",
       "                       ⎥\n",
       "₄⋅a₂₁⋅a₃₂ + a₁₄⋅a₂₂⋅a₃₁⎥\n",
       "                       ⎥\n",
       "⋅a₂₁⋅a₃₂ - a₁₃⋅a₂₂⋅a₃₁ ⎦"
      ]
     },
     "execution_count": 31,
     "metadata": {},
     "output_type": "execute_result"
    }
   ],
   "source": [
    "C"
   ]
  },
  {
   "cell_type": "code",
   "execution_count": 32,
   "metadata": {
    "collapsed": false
   },
   "outputs": [
    {
     "name": "stdout",
     "output_type": "stream",
     "text": [
      "a_{11} a_{22} a_{33} a_{44} - a_{11} a_{22} a_{34} a_{43} - a_{11} a_{23} a_{32} a_{44} + a_{11} a_{23} a_{34} a_{42} + a_{11} a_{24} a_{32} a_{43} - a_{11} a_{24} a_{33} a_{42} - a_{12} a_{21} a_{33} a_{44} + a_{12} a_{21} a_{34} a_{43} + a_{12} a_{23} a_{31} a_{44} - a_{12} a_{23} a_{34} a_{41} - a_{12} a_{24} a_{31} a_{43} + a_{12} a_{24} a_{33} a_{41} + a_{13} a_{21} a_{32} a_{44} - a_{13} a_{21} a_{34} a_{42} - a_{13} a_{22} a_{31} a_{44} + a_{13} a_{22} a_{34} a_{41} + a_{13} a_{24} a_{31} a_{42} - a_{13} a_{24} a_{32} a_{41} - a_{14} a_{21} a_{32} a_{43} + a_{14} a_{21} a_{33} a_{42} + a_{14} a_{22} a_{31} a_{43} - a_{14} a_{22} a_{33} a_{41} - a_{14} a_{23} a_{31} a_{42} + a_{14} a_{23} a_{32} a_{41}\n"
     ]
    }
   ],
   "source": [
    "print(latex(Adet))"
   ]
  },
  {
   "cell_type": "code",
   "execution_count": 33,
   "metadata": {
    "collapsed": false
   },
   "outputs": [
    {
     "data": {
      "image/png": "[encoded data removed]",
      "text/latex": [
       "$$\\left[\\begin{matrix}1 & 0 & -3 & -1\\\\2 & -1 & -4 & 1\\\\3 & 1 & 1 & 2\\\\1 & 2 & 1 & 1\\end{matrix}\\right]$$"
      ],
      "text/plain": [
       "⎡1  0   -3  -1⎤\n",
       "⎢             ⎥\n",
       "⎢2  -1  -4  1 ⎥\n",
       "⎢             ⎥\n",
       "⎢3  1   1   2 ⎥\n",
       "⎢             ⎥\n",
       "⎣1  2   1   1 ⎦"
      ]
     },
     "execution_count": 33,
     "metadata": {},
     "output_type": "execute_result"
    }
   ],
   "source": [
    "A = Matrix([[1,0,-3,-1],\n",
    "            [2,-1,-4,1],\n",
    "            [3,1,1,2],\n",
    "            [1,2,1,1]])\n",
    "A"
   ]
  },
  {
   "cell_type": "code",
   "execution_count": 34,
   "metadata": {
    "collapsed": false
   },
   "outputs": [
    {
     "name": "stdout",
     "output_type": "stream",
     "text": [
      "\\left[\\begin{matrix}1 & 0 & -3 & -1\\\\2 & -1 & -4 & 1\\\\3 & 1 & 1 & 2\\\\1 & 2 & 1 & 1\\end{matrix}\\right]\n"
     ]
    }
   ],
   "source": [
    "print(latex(A))"
   ]
  },
  {
   "cell_type": "code",
   "execution_count": 35,
   "metadata": {
    "collapsed": false
   },
   "outputs": [
    {
     "data": {
      "image/png": "[encoded data removed]",
      "text/latex": [
       "$$\\left[\\begin{matrix}1 & 2\\\\3 & -1\\end{matrix}\\right]$$"
      ],
      "text/plain": [
       "⎡1  2 ⎤\n",
       "⎢     ⎥\n",
       "⎣3  -1⎦"
      ]
     },
     "execution_count": 35,
     "metadata": {},
     "output_type": "execute_result"
    }
   ],
   "source": [
    "A = Matrix([[1,2],[3,-1]])\n",
    "A"
   ]
  },
  {
   "cell_type": "code",
   "execution_count": 36,
   "metadata": {
    "collapsed": true
   },
   "outputs": [],
   "source": [
    "A = Matrix([[2,-1,0],[3,2,4],[2,1,4]])"
   ]
  },
  {
   "cell_type": "code",
   "execution_count": 37,
   "metadata": {
    "collapsed": false
   },
   "outputs": [
    {
     "data": {
      "image/png": "[encoded data removed]",
      "text/latex": [
       "$$\\left[\\begin{matrix}\\frac{1}{2} & 0 & 0 & 0\\\\3 & -1 & 0 & 0\\\\1 & 4 & 5 & 0\\\\2 & -3 & 4 & 3\\end{matrix}\\right]$$"
      ],
      "text/plain": [
       "⎡1/2  0   0  0⎤\n",
       "⎢             ⎥\n",
       "⎢ 3   -1  0  0⎥\n",
       "⎢             ⎥\n",
       "⎢ 1   4   5  0⎥\n",
       "⎢             ⎥\n",
       "⎣ 2   -3  4  3⎦"
      ]
     },
     "execution_count": 37,
     "metadata": {},
     "output_type": "execute_result"
    }
   ],
   "source": [
    "A = Matrix([[Rational(1,2),  0, 0, 0],\n",
    "            [3, -1, 0, 0],\n",
    "            [1,  4, 5, 0],\n",
    "            [2, -3, 4, 3]])\n",
    "A"
   ]
  },
  {
   "cell_type": "code",
   "execution_count": 38,
   "metadata": {
    "collapsed": false
   },
   "outputs": [
    {
     "name": "stdout",
     "output_type": "stream",
     "text": [
      "\\left[\\begin{matrix}\\frac{1}{2} & 0 & 0 & 0\\\\3 & -1 & 0 & 0\\\\1 & 4 & 5 & 0\\\\2 & -3 & 4 & 3\\end{matrix}\\right]\n"
     ]
    }
   ],
   "source": [
    "print(latex(A))"
   ]
  },
  {
   "cell_type": "code",
   "execution_count": 39,
   "metadata": {
    "collapsed": false
   },
   "outputs": [
    {
     "data": {
      "image/png": "[encoded data removed]",
      "text/latex": [
       "$$\\left[\\begin{matrix}6 & -3 & -2 & 0\\\\0 & 4 & 2 & 1\\\\0 & 0 & -8 & 0\\\\0 & 0 & 0 & 4\\end{matrix}\\right]$$"
      ],
      "text/plain": [
       "⎡6  -3  -2  0⎤\n",
       "⎢            ⎥\n",
       "⎢0  4   2   1⎥\n",
       "⎢            ⎥\n",
       "⎢0  0   -8  0⎥\n",
       "⎢            ⎥\n",
       "⎣0  0   0   4⎦"
      ]
     },
     "execution_count": 39,
     "metadata": {},
     "output_type": "execute_result"
    }
   ],
   "source": [
    "B = Matrix([[6, -3, -2, 0],\n",
    "            [0,  4,  2, 1],\n",
    "            [0,  0, -8, 0],\n",
    "            [0,  0,  0, 4]])\n",
    "B"
   ]
  },
  {
   "cell_type": "code",
   "execution_count": 40,
   "metadata": {
    "collapsed": false
   },
   "outputs": [
    {
     "name": "stdout",
     "output_type": "stream",
     "text": [
      "\\left[\\begin{matrix}6 & -3 & -2 & 0\\\\0 & 4 & 2 & 1\\\\0 & 0 & -8 & 0\\\\0 & 0 & 0 & 4\\end{matrix}\\right]\n"
     ]
    }
   ],
   "source": [
    "print(latex(B))"
   ]
  },
  {
   "cell_type": "code",
   "execution_count": 41,
   "metadata": {
    "collapsed": false
   },
   "outputs": [
    {
     "data": {
      "image/png": "[encoded data removed]",
      "text/latex": [
       "$$-768$$"
      ],
      "text/plain": [
       "-768"
      ]
     },
     "execution_count": 41,
     "metadata": {},
     "output_type": "execute_result"
    }
   ],
   "source": [
    "6*4*-8*4"
   ]
  },
  {
   "cell_type": "code",
   "execution_count": 42,
   "metadata": {
    "collapsed": false
   },
   "outputs": [],
   "source": [
    "n = A.rows\n",
    "sout = \"\"\"\\\\begin{tabular}{|c|l|c|c|}\\\\hline\n",
    "Permutation & Inversions & Term in Determinant\\\\\\\\\\\\hline\n",
    "\"\"\"\n",
    "detA = 0\n",
    "for p in permutations(range(n)):\n",
    "    sout += '${}$ & '.format(str(tuple([k+1 for k in p])))\n",
    "    sout += ' $'\n",
    "    ninv = 0\n",
    "    for i in range(n):\n",
    "        for j in range(i, n):\n",
    "            if p[i]>p[j]:\n",
    "                sout += '({},{})\\;'.format(p[i]+1,p[j]+1)\n",
    "                ninv += 1\n",
    "    sout += '$ & '\n",
    "    sout += ' $'\n",
    "    sout += '+' if ninv % 2 == 0 else '-'\n",
    "    for i in range(n):\n",
    "        sout += 'a_{{{}{}}}'.format(i+1, p[i]+1)\n",
    "    sout += '='\n",
    "    sout += '+' if ninv % 2 == 0 else '-'\n",
    "    v = 1\n",
    "    for i in range(n):\n",
    "        t = A[i, p[i]]\n",
    "        v *= t\n",
    "        sout += '({})'.format(t)\n",
    "    detA += v if ninv % 2 == 0 else -v\n",
    "    sout += '={} $ '.format(v)\n",
    "    sout += '\\\\\\\\\\\\hline\\n'\n",
    "sout += '&& Sum: ${}$\\\\\\\\\\hline\\n'.format(detA) \n",
    "sout +=\"\"\"\\\\end{tabular}\n",
    "\"\"\""
   ]
  },
  {
   "cell_type": "code",
   "execution_count": 43,
   "metadata": {
    "collapsed": false
   },
   "outputs": [
    {
     "name": "stdout",
     "output_type": "stream",
     "text": [
      "\\begin{tabular}{|c|l|c|c|}\\hline\n",
      "Permutation & Inversions & Term in Determinant\\\\\\hline\n",
      "$(1, 2, 3, 4)$ &  $$ &  $+a_{11}a_{22}a_{33}a_{44}=+(1/2)(-1)(5)(3)=-15/2 $ \\\\\\hline\n",
      "$(1, 2, 4, 3)$ &  $(4,3)\\;$ &  $-a_{11}a_{22}a_{34}a_{43}=-(1/2)(-1)(0)(4)=0 $ \\\\\\hline\n",
      "$(1, 3, 2, 4)$ &  $(3,2)\\;$ &  $-a_{11}a_{23}a_{32}a_{44}=-(1/2)(0)(4)(3)=0 $ \\\\\\hline\n",
      "$(1, 3, 4, 2)$ &  $(3,2)\\;(4,2)\\;$ &  $+a_{11}a_{23}a_{34}a_{42}=+(1/2)(0)(0)(-3)=0 $ \\\\\\hline\n",
      "$(1, 4, 2, 3)$ &  $(4,2)\\;(4,3)\\;$ &  $+a_{11}a_{24}a_{32}a_{43}=+(1/2)(0)(4)(4)=0 $ \\\\\\hline\n",
      "$(1, 4, 3, 2)$ &  $(4,3)\\;(4,2)\\;(3,2)\\;$ &  $-a_{11}a_{24}a_{33}a_{42}=-(1/2)(0)(5)(-3)=0 $ \\\\\\hline\n",
      "$(2, 1, 3, 4)$ &  $(2,1)\\;$ &  $-a_{12}a_{21}a_{33}a_{44}=-(0)(3)(5)(3)=0 $ \\\\\\hline\n",
      "$(2, 1, 4, 3)$ &  $(2,1)\\;(4,3)\\;$ &  $+a_{12}a_{21}a_{34}a_{43}=+(0)(3)(0)(4)=0 $ \\\\\\hline\n",
      "$(2, 3, 1, 4)$ &  $(2,1)\\;(3,1)\\;$ &  $+a_{12}a_{23}a_{31}a_{44}=+(0)(0)(1)(3)=0 $ \\\\\\hline\n",
      "$(2, 3, 4, 1)$ &  $(2,1)\\;(3,1)\\;(4,1)\\;$ &  $-a_{12}a_{23}a_{34}a_{41}=-(0)(0)(0)(2)=0 $ \\\\\\hline\n",
      "$(2, 4, 1, 3)$ &  $(2,1)\\;(4,1)\\;(4,3)\\;$ &  $-a_{12}a_{24}a_{31}a_{43}=-(0)(0)(1)(4)=0 $ \\\\\\hline\n",
      "$(2, 4, 3, 1)$ &  $(2,1)\\;(4,3)\\;(4,1)\\;(3,1)\\;$ &  $+a_{12}a_{24}a_{33}a_{41}=+(0)(0)(5)(2)=0 $ \\\\\\hline\n",
      "$(3, 1, 2, 4)$ &  $(3,1)\\;(3,2)\\;$ &  $+a_{13}a_{21}a_{32}a_{44}=+(0)(3)(4)(3)=0 $ \\\\\\hline\n",
      "$(3, 1, 4, 2)$ &  $(3,1)\\;(3,2)\\;(4,2)\\;$ &  $-a_{13}a_{21}a_{34}a_{42}=-(0)(3)(0)(-3)=0 $ \\\\\\hline\n",
      "$(3, 2, 1, 4)$ &  $(3,2)\\;(3,1)\\;(2,1)\\;$ &  $-a_{13}a_{22}a_{31}a_{44}=-(0)(-1)(1)(3)=0 $ \\\\\\hline\n",
      "$(3, 2, 4, 1)$ &  $(3,2)\\;(3,1)\\;(2,1)\\;(4,1)\\;$ &  $+a_{13}a_{22}a_{34}a_{41}=+(0)(-1)(0)(2)=0 $ \\\\\\hline\n",
      "$(3, 4, 1, 2)$ &  $(3,1)\\;(3,2)\\;(4,1)\\;(4,2)\\;$ &  $+a_{13}a_{24}a_{31}a_{42}=+(0)(0)(1)(-3)=0 $ \\\\\\hline\n",
      "$(3, 4, 2, 1)$ &  $(3,2)\\;(3,1)\\;(4,2)\\;(4,1)\\;(2,1)\\;$ &  $-a_{13}a_{24}a_{32}a_{41}=-(0)(0)(4)(2)=0 $ \\\\\\hline\n",
      "$(4, 1, 2, 3)$ &  $(4,1)\\;(4,2)\\;(4,3)\\;$ &  $-a_{14}a_{21}a_{32}a_{43}=-(0)(3)(4)(4)=0 $ \\\\\\hline\n",
      "$(4, 1, 3, 2)$ &  $(4,1)\\;(4,3)\\;(4,2)\\;(3,2)\\;$ &  $+a_{14}a_{21}a_{33}a_{42}=+(0)(3)(5)(-3)=0 $ \\\\\\hline\n",
      "$(4, 2, 1, 3)$ &  $(4,2)\\;(4,1)\\;(4,3)\\;(2,1)\\;$ &  $+a_{14}a_{22}a_{31}a_{43}=+(0)(-1)(1)(4)=0 $ \\\\\\hline\n",
      "$(4, 2, 3, 1)$ &  $(4,2)\\;(4,3)\\;(4,1)\\;(2,1)\\;(3,1)\\;$ &  $-a_{14}a_{22}a_{33}a_{41}=-(0)(-1)(5)(2)=0 $ \\\\\\hline\n",
      "$(4, 3, 1, 2)$ &  $(4,3)\\;(4,1)\\;(4,2)\\;(3,1)\\;(3,2)\\;$ &  $-a_{14}a_{23}a_{31}a_{42}=-(0)(0)(1)(-3)=0 $ \\\\\\hline\n",
      "$(4, 3, 2, 1)$ &  $(4,3)\\;(4,2)\\;(4,1)\\;(3,2)\\;(3,1)\\;(2,1)\\;$ &  $+a_{14}a_{23}a_{32}a_{41}=+(0)(0)(4)(2)=0 $ \\\\\\hline\n",
      "&& Sum: $-15/2$\\\\\\hline\n",
      "\\end{tabular}\n",
      "\n"
     ]
    }
   ],
   "source": [
    "print(sout)"
   ]
  },
  {
   "cell_type": "code",
   "execution_count": 44,
   "metadata": {
    "collapsed": false
   },
   "outputs": [
    {
     "data": {
      "image/png": "[encoded data removed]",
      "text/latex": [
       "$$\\left[\\begin{matrix}1 & 3 & 2 & 4\\\\-2 & -6 & 0 & 4\\\\2 & 1 & 4 & -2\\\\3 & -3 & 0 & 2\\end{matrix}\\right]$$"
      ],
      "text/plain": [
       "⎡1   3   2  4 ⎤\n",
       "⎢             ⎥\n",
       "⎢-2  -6  0  4 ⎥\n",
       "⎢             ⎥\n",
       "⎢2   1   4  -2⎥\n",
       "⎢             ⎥\n",
       "⎣3   -3  0  2 ⎦"
      ]
     },
     "execution_count": 44,
     "metadata": {},
     "output_type": "execute_result"
    }
   ],
   "source": [
    "A = Matrix([[1,3,2,4],\n",
    "            [-2,-6,0,4],\n",
    "            [2,1,4,-2],\n",
    "            [3,-3,0,2]])\n",
    "A"
   ]
  },
  {
   "cell_type": "code",
   "execution_count": 45,
   "metadata": {
    "collapsed": false
   },
   "outputs": [
    {
     "name": "stdout",
     "output_type": "stream",
     "text": [
      "\\left[\\begin{matrix}1 & 3 & 2 & 4\\\\-2 & -6 & 0 & 4\\\\2 & 1 & 4 & -2\\\\3 & -3 & 0 & 2\\end{matrix}\\right]\n"
     ]
    }
   ],
   "source": [
    "print(latex(A))"
   ]
  },
  {
   "cell_type": "code",
   "execution_count": 46,
   "metadata": {
    "collapsed": false
   },
   "outputs": [
    {
     "data": {
      "image/png": "[encoded data removed]",
      "text/latex": [
       "$$\\left[\\begin{matrix}1 & 3 & 2 & 4\\\\0 & 0 & 4 & 12\\\\0 & -5 & 0 & -10\\\\0 & -12 & -6 & -10\\end{matrix}\\right]$$"
      ],
      "text/plain": [
       "⎡1   3   2    4 ⎤\n",
       "⎢               ⎥\n",
       "⎢0   0   4   12 ⎥\n",
       "⎢               ⎥\n",
       "⎢0  -5   0   -10⎥\n",
       "⎢               ⎥\n",
       "⎣0  -12  -6  -10⎦"
      ]
     },
     "execution_count": 46,
     "metadata": {},
     "output_type": "execute_result"
    }
   ],
   "source": [
    "A1 = rop(A, 'R1*(2)+R2=>R2', 'R1*(-2)+R3=>R3', 'R1*(-3)+R4=>R4')\n",
    "A1"
   ]
  },
  {
   "cell_type": "code",
   "execution_count": 47,
   "metadata": {
    "collapsed": false
   },
   "outputs": [
    {
     "name": "stdout",
     "output_type": "stream",
     "text": [
      "\\left[\\begin{matrix}1 & 3 & 2 & 4\\\\0 & 0 & 4 & 12\\\\0 & -5 & 0 & -10\\\\0 & -12 & -6 & -10\\end{matrix}\\right]\n"
     ]
    }
   ],
   "source": [
    "print(latex(A1))"
   ]
  },
  {
   "cell_type": "code",
   "execution_count": 48,
   "metadata": {
    "collapsed": false
   },
   "outputs": [
    {
     "data": {
      "image/png": "[encoded data removed]",
      "text/latex": [
       "$$\\left[\\begin{matrix}1 & 3 & 2 & 4\\\\0 & -5 & 0 & -10\\\\0 & 0 & 4 & 12\\\\0 & -12 & -6 & -10\\end{matrix}\\right]$$"
      ],
      "text/plain": [
       "⎡1   3   2    4 ⎤\n",
       "⎢               ⎥\n",
       "⎢0  -5   0   -10⎥\n",
       "⎢               ⎥\n",
       "⎢0   0   4   12 ⎥\n",
       "⎢               ⎥\n",
       "⎣0  -12  -6  -10⎦"
      ]
     },
     "execution_count": 48,
     "metadata": {},
     "output_type": "execute_result"
    }
   ],
   "source": [
    "A2 = rop(A1, 'R2<=>R3')\n",
    "A2"
   ]
  },
  {
   "cell_type": "code",
   "execution_count": 49,
   "metadata": {
    "collapsed": false
   },
   "outputs": [
    {
     "name": "stdout",
     "output_type": "stream",
     "text": [
      "\\left[\\begin{matrix}1 & 3 & 2 & 4\\\\0 & -5 & 0 & -10\\\\0 & 0 & 4 & 12\\\\0 & -12 & -6 & -10\\end{matrix}\\right]\n"
     ]
    }
   ],
   "source": [
    "print(latex(A2))"
   ]
  },
  {
   "cell_type": "code",
   "execution_count": 50,
   "metadata": {
    "collapsed": false
   },
   "outputs": [
    {
     "data": {
      "image/png": "[encoded data removed]",
      "text/latex": [
       "$$\\left[\\begin{matrix}1 & 3 & 2 & 4\\\\0 & 1 & 0 & 2\\\\0 & 0 & 4 & 12\\\\0 & -12 & -6 & -10\\end{matrix}\\right]$$"
      ],
      "text/plain": [
       "⎡1   3   2    4 ⎤\n",
       "⎢               ⎥\n",
       "⎢0   1   0    2 ⎥\n",
       "⎢               ⎥\n",
       "⎢0   0   4   12 ⎥\n",
       "⎢               ⎥\n",
       "⎣0  -12  -6  -10⎦"
      ]
     },
     "execution_count": 50,
     "metadata": {},
     "output_type": "execute_result"
    }
   ],
   "source": [
    "A3 = rop(A2, 'R2*(-1/5)=>R2')\n",
    "A3"
   ]
  },
  {
   "cell_type": "code",
   "execution_count": 51,
   "metadata": {
    "collapsed": false
   },
   "outputs": [
    {
     "name": "stdout",
     "output_type": "stream",
     "text": [
      "\\left[\\begin{matrix}1 & 3 & 2 & 4\\\\0 & 1 & 0 & 2\\\\0 & 0 & 4 & 12\\\\0 & -12 & -6 & -10\\end{matrix}\\right]\n"
     ]
    }
   ],
   "source": [
    "print(latex(A3))"
   ]
  },
  {
   "cell_type": "code",
   "execution_count": 52,
   "metadata": {
    "collapsed": false
   },
   "outputs": [
    {
     "data": {
      "image/png": "[encoded data removed]",
      "text/latex": [
       "$$\\left[\\begin{matrix}1 & 3 & 2 & 4\\\\0 & 1 & 0 & 2\\\\0 & 0 & 4 & 12\\\\0 & 0 & -6 & 14\\end{matrix}\\right]$$"
      ],
      "text/plain": [
       "⎡1  3  2   4 ⎤\n",
       "⎢            ⎥\n",
       "⎢0  1  0   2 ⎥\n",
       "⎢            ⎥\n",
       "⎢0  0  4   12⎥\n",
       "⎢            ⎥\n",
       "⎣0  0  -6  14⎦"
      ]
     },
     "execution_count": 52,
     "metadata": {},
     "output_type": "execute_result"
    }
   ],
   "source": [
    "A4 = rop(A3, 'R2*(12)+R4=>R4')\n",
    "A4"
   ]
  },
  {
   "cell_type": "code",
   "execution_count": 53,
   "metadata": {
    "collapsed": false
   },
   "outputs": [
    {
     "name": "stdout",
     "output_type": "stream",
     "text": [
      "\\left[\\begin{matrix}1 & 3 & 2 & 4\\\\0 & 1 & 0 & 2\\\\0 & 0 & 4 & 12\\\\0 & 0 & -6 & 14\\end{matrix}\\right]\n"
     ]
    }
   ],
   "source": [
    "print(latex(A4))"
   ]
  },
  {
   "cell_type": "code",
   "execution_count": 54,
   "metadata": {
    "collapsed": false
   },
   "outputs": [
    {
     "data": {
      "image/png": "[encoded data removed]",
      "text/latex": [
       "$$\\left[\\begin{matrix}1 & 3 & 2 & 4\\\\0 & 1 & 0 & 2\\\\0 & 0 & 1 & 3\\\\0 & 0 & -6 & 14\\end{matrix}\\right]$$"
      ],
      "text/plain": [
       "⎡1  3  2   4 ⎤\n",
       "⎢            ⎥\n",
       "⎢0  1  0   2 ⎥\n",
       "⎢            ⎥\n",
       "⎢0  0  1   3 ⎥\n",
       "⎢            ⎥\n",
       "⎣0  0  -6  14⎦"
      ]
     },
     "execution_count": 54,
     "metadata": {},
     "output_type": "execute_result"
    }
   ],
   "source": [
    "A5 = rop(A4, 'R3*(1/4)=>R3')\n",
    "A5"
   ]
  },
  {
   "cell_type": "code",
   "execution_count": 55,
   "metadata": {
    "collapsed": false
   },
   "outputs": [
    {
     "name": "stdout",
     "output_type": "stream",
     "text": [
      "\\left[\\begin{matrix}1 & 3 & 2 & 4\\\\0 & 1 & 0 & 2\\\\0 & 0 & 1 & 3\\\\0 & 0 & -6 & 14\\end{matrix}\\right]\n"
     ]
    }
   ],
   "source": [
    "print(latex(A5))"
   ]
  },
  {
   "cell_type": "code",
   "execution_count": 56,
   "metadata": {
    "collapsed": false
   },
   "outputs": [
    {
     "data": {
      "image/png": "[encoded data removed]",
      "text/latex": [
       "$$\\left[\\begin{matrix}1 & 3 & 2 & 4\\\\0 & 1 & 0 & 2\\\\0 & 0 & 1 & 3\\\\0 & 0 & 0 & 32\\end{matrix}\\right]$$"
      ],
      "text/plain": [
       "⎡1  3  2  4 ⎤\n",
       "⎢           ⎥\n",
       "⎢0  1  0  2 ⎥\n",
       "⎢           ⎥\n",
       "⎢0  0  1  3 ⎥\n",
       "⎢           ⎥\n",
       "⎣0  0  0  32⎦"
      ]
     },
     "execution_count": 56,
     "metadata": {},
     "output_type": "execute_result"
    }
   ],
   "source": [
    "A6 = rop(A5, 'R3*(6)+R4=>R4')\n",
    "A6"
   ]
  },
  {
   "cell_type": "code",
   "execution_count": 57,
   "metadata": {
    "collapsed": false
   },
   "outputs": [
    {
     "name": "stdout",
     "output_type": "stream",
     "text": [
      "\\left[\\begin{matrix}1 & 3 & 2 & 4\\\\0 & 1 & 0 & 2\\\\0 & 0 & 1 & 3\\\\0 & 0 & 0 & 32\\end{matrix}\\right]\n"
     ]
    }
   ],
   "source": [
    "print(latex(A6))"
   ]
  },
  {
   "cell_type": "code",
   "execution_count": 58,
   "metadata": {
    "collapsed": false
   },
   "outputs": [
    {
     "data": {
      "image/png": "[encoded data removed]",
      "text/latex": [
       "$$640$$"
      ],
      "text/plain": [
       "640"
      ]
     },
     "execution_count": 58,
     "metadata": {},
     "output_type": "execute_result"
    }
   ],
   "source": [
    "32*5*4"
   ]
  },
  {
   "cell_type": "code",
   "execution_count": 59,
   "metadata": {
    "collapsed": false
   },
   "outputs": [
    {
     "data": {
      "image/png": "[encoded data removed]",
      "text/latex": [
       "$$640$$"
      ],
      "text/plain": [
       "640"
      ]
     },
     "execution_count": 59,
     "metadata": {},
     "output_type": "execute_result"
    }
   ],
   "source": [
    "A.det()"
   ]
  },
  {
   "cell_type": "code",
   "execution_count": null,
   "metadata": {
    "collapsed": true
   },
   "outputs": [],
   "source": []
  },
  {
   "cell_type": "code",
   "execution_count": null,
   "metadata": {
    "collapsed": true
   },
   "outputs": [],
   "source": []
  },
  {
   "cell_type": "code",
   "execution_count": null,
   "metadata": {
    "collapsed": true
   },
   "outputs": [],
   "source": []
  },
  {
   "cell_type": "code",
   "execution_count": null,
   "metadata": {
    "collapsed": true
   },
   "outputs": [],
   "source": []
  },
  {
   "cell_type": "code",
   "execution_count": null,
   "metadata": {
    "collapsed": true
   },
   "outputs": [],
   "source": []
  },
  {
   "cell_type": "code",
   "execution_count": null,
   "metadata": {
    "collapsed": true
   },
   "outputs": [],
   "source": []
  },
  {
   "cell_type": "code",
   "execution_count": null,
   "metadata": {
    "collapsed": true
   },
   "outputs": [],
   "source": []
  },
  {
   "cell_type": "code",
   "execution_count": null,
   "metadata": {
    "collapsed": true
   },
   "outputs": [],
   "source": []
  },
  {
   "cell_type": "code",
   "execution_count": null,
   "metadata": {
    "collapsed": true
   },
   "outputs": [],
   "source": []
  },
  {
   "cell_type": "code",
   "execution_count": null,
   "metadata": {
    "collapsed": true
   },
   "outputs": [],
   "source": []
  },
  {
   "cell_type": "code",
   "execution_count": null,
   "metadata": {
    "collapsed": true
   },
   "outputs": [],
   "source": []
  },
  {
   "cell_type": "code",
   "execution_count": null,
   "metadata": {
    "collapsed": true
   },
   "outputs": [],
   "source": []
  }
 ],
 "metadata": {
  "anaconda-cloud": {},
  "kernelspec": {
   "display_name": "Python [default]",
   "language": "python",
   "name": "python3"
  },
  "language_info": {
   "codemirror_mode": {
    "name": "ipython",
    "version": 3
   },
   "file_extension": ".py",
   "mimetype": "text/x-python",
   "name": "python",
   "nbconvert_exporter": "python",
   "pygments_lexer": "ipython3",
   "version": "3.5.2"
  }
 },
 "nbformat": 4,
 "nbformat_minor": 0
}
