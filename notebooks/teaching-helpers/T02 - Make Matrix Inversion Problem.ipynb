{
 "cells": [
  {
   "cell_type": "code",
   "execution_count": 1,
   "metadata": {
    "collapsed": true
   },
   "outputs": [],
   "source": [
    "from latools import *\n",
    "from sympy import *\n",
    "import random\n",
    "init_printing(use_latex=False)"
   ]
  },
  {
   "cell_type": "code",
   "execution_count": 2,
   "metadata": {
    "collapsed": true
   },
   "outputs": [],
   "source": [
    "A = eye(4)\n",
    "cmax = 4\n",
    "cvalues = [k for k in range(-cmax, cmax+1) if k != 0]\n",
    "nrows, _ = A.shape\n",
    "for i in range(nrows):\n",
    "    for j in range(nrows):\n",
    "        if i == j:\n",
    "            continue\n",
    "        c = random.choice(cvalues)\n",
    "        A[j,:] += c*A[i,:]"
   ]
  },
  {
   "cell_type": "code",
   "execution_count": 3,
   "metadata": {
    "collapsed": false
   },
   "outputs": [
    {
     "data": {
      "text/plain": [
       "⎡-31  -16  4   2 ⎤\n",
       "⎢                ⎥\n",
       "⎢ 4    3   0   1 ⎥\n",
       "⎢                ⎥\n",
       "⎢13    4   -3  -4⎥\n",
       "⎢                ⎥\n",
       "⎣-5   -2   1   1 ⎦"
      ]
     },
     "execution_count": 3,
     "metadata": {},
     "output_type": "execute_result"
    }
   ],
   "source": [
    "A"
   ]
  },
  {
   "cell_type": "code",
   "execution_count": 4,
   "metadata": {
    "collapsed": false
   },
   "outputs": [
    {
     "name": "stdout",
     "output_type": "stream",
     "text": [
      "\\left[\\begin{matrix}-31 & -16 & 4 & 2\\\\4 & 3 & 0 & 1\\\\13 & 4 & -3 & -4\\\\-5 & -2 & 1 & 1\\end{matrix}\\right]\n"
     ]
    }
   ],
   "source": [
    "print(latex(A))"
   ]
  },
  {
   "cell_type": "code",
   "execution_count": 5,
   "metadata": {
    "collapsed": true
   },
   "outputs": [],
   "source": [
    "A = eye(3)\n",
    "A[1,:] *= Rational(1,2)\n",
    "cmax = 4\n",
    "cvalues = [k for k in range(-cmax, cmax+1) if k != 0]\n",
    "nrows, _ = A.shape\n",
    "for i in range(nrows):\n",
    "    for j in range(nrows):\n",
    "        if i == j:\n",
    "            continue\n",
    "        c = random.choice(cvalues)\n",
    "        A[j,:] += c*A[i,:]"
   ]
  },
  {
   "cell_type": "code",
   "execution_count": 6,
   "metadata": {
    "collapsed": false
   },
   "outputs": [
    {
     "data": {
      "text/plain": [
       "⎡17  5/2   1 ⎤\n",
       "⎢            ⎥\n",
       "⎢-4  -1/2  -1⎥\n",
       "⎢            ⎥\n",
       "⎣7    1    1 ⎦"
      ]
     },
     "execution_count": 6,
     "metadata": {},
     "output_type": "execute_result"
    }
   ],
   "source": [
    "A"
   ]
  },
  {
   "cell_type": "code",
   "execution_count": 8,
   "metadata": {
    "collapsed": false
   },
   "outputs": [
    {
     "data": {
      "text/plain": [
       "1/2"
      ]
     },
     "execution_count": 8,
     "metadata": {},
     "output_type": "execute_result"
    }
   ],
   "source": [
    "A.det()"
   ]
  },
  {
   "cell_type": "code",
   "execution_count": 9,
   "metadata": {
    "collapsed": false
   },
   "outputs": [
    {
     "name": "stdout",
     "output_type": "stream",
     "text": [
      "\\left[\\begin{matrix}17 & \\frac{5}{2} & 1\\\\-4 & - \\frac{1}{2} & -1\\\\7 & 1 & 1\\end{matrix}\\right]\n"
     ]
    }
   ],
   "source": [
    "print(latex(A))"
   ]
  },
  {
   "cell_type": "code",
   "execution_count": 19,
   "metadata": {
    "collapsed": true
   },
   "outputs": [],
   "source": [
    "A = eye(5)\n",
    "A[3,:] *= 0\n",
    "cmax = 1\n",
    "cvalues = [k for k in range(-cmax, cmax+1) if k != 0]\n",
    "nrows, _ = A.shape\n",
    "for i in range(nrows):\n",
    "    for j in range(nrows):\n",
    "        if i == j:\n",
    "            continue\n",
    "        c = random.choice(cvalues)\n",
    "        A[j,:] += c*A[i,:]\n",
    "        c = random.choice(cvalues)\n",
    "        A[:,j] += c*A[:,i]"
   ]
  },
  {
   "cell_type": "code",
   "execution_count": 20,
   "metadata": {
    "collapsed": false
   },
   "outputs": [
    {
     "data": {
      "text/plain": [
       "⎡1    1   -1   1   1 ⎤\n",
       "⎢                    ⎥\n",
       "⎢7   16   -5  13   9 ⎥\n",
       "⎢                    ⎥\n",
       "⎢-9  -17  6   -13  -9⎥\n",
       "⎢                    ⎥\n",
       "⎢11  21   -7  16   11⎥\n",
       "⎢                    ⎥\n",
       "⎣5    9   -3   7   5 ⎦"
      ]
     },
     "execution_count": 20,
     "metadata": {},
     "output_type": "execute_result"
    }
   ],
   "source": [
    "A"
   ]
  },
  {
   "cell_type": "code",
   "execution_count": 21,
   "metadata": {
    "collapsed": false
   },
   "outputs": [
    {
     "data": {
      "text/plain": [
       "0"
      ]
     },
     "execution_count": 21,
     "metadata": {},
     "output_type": "execute_result"
    }
   ],
   "source": [
    "A.det()"
   ]
  },
  {
   "cell_type": "code",
   "execution_count": 22,
   "metadata": {
    "collapsed": false
   },
   "outputs": [
    {
     "name": "stdout",
     "output_type": "stream",
     "text": [
      "\\left[\\begin{matrix}1 & 1 & -1 & 1 & 1\\\\7 & 16 & -5 & 13 & 9\\\\-9 & -17 & 6 & -13 & -9\\\\11 & 21 & -7 & 16 & 11\\\\5 & 9 & -3 & 7 & 5\\end{matrix}\\right]\n"
     ]
    }
   ],
   "source": [
    "print(latex(A))"
   ]
  },
  {
   "cell_type": "code",
   "execution_count": 34,
   "metadata": {
    "collapsed": false
   },
   "outputs": [],
   "source": [
    "A = eye(3)\n",
    "cmax = 1\n",
    "cvalues = [k for k in range(-cmax, cmax+1) if k != 0]\n",
    "nrows, _ = A.shape\n",
    "for i in range(nrows):\n",
    "    for j in range(nrows):\n",
    "        if i == j:\n",
    "            continue\n",
    "        c = random.choice(cvalues)\n",
    "        A[j,:] += c*A[i,:]\n",
    "        c = random.choice(cvalues)\n",
    "        A[:,j] += c*A[:,i]"
   ]
  },
  {
   "cell_type": "code",
   "execution_count": 35,
   "metadata": {
    "collapsed": false
   },
   "outputs": [
    {
     "data": {
      "text/plain": [
       "⎡1   -1  3 ⎤\n",
       "⎢          ⎥\n",
       "⎢-1  0   -1⎥\n",
       "⎢          ⎥\n",
       "⎣1   -1  2 ⎦"
      ]
     },
     "execution_count": 35,
     "metadata": {},
     "output_type": "execute_result"
    }
   ],
   "source": [
    "A"
   ]
  },
  {
   "cell_type": "code",
   "execution_count": 33,
   "metadata": {
    "collapsed": false
   },
   "outputs": [
    {
     "data": {
      "text/plain": [
       "⎡-11  -3  9 ⎤\n",
       "⎢           ⎥\n",
       "⎢-9   -2  7 ⎥\n",
       "⎢           ⎥\n",
       "⎣ 5   1   -4⎦"
      ]
     },
     "execution_count": 33,
     "metadata": {},
     "output_type": "execute_result"
    }
   ],
   "source": [
    "A"
   ]
  },
  {
   "cell_type": "code",
   "execution_count": 40,
   "metadata": {
    "collapsed": true
   },
   "outputs": [],
   "source": [
    "A = eye(4)\n",
    "cmax = 2\n",
    "cvalues = [k for k in range(-cmax, cmax+1) if k != 0]\n",
    "nrows, _ = A.shape\n",
    "for i in range(nrows):\n",
    "    for j in range(nrows):\n",
    "        if i == j:\n",
    "            continue\n",
    "        c = random.choice(cvalues)\n",
    "        A[j,:] += c*A[i,:]"
   ]
  },
  {
   "cell_type": "code",
   "execution_count": 41,
   "metadata": {
    "collapsed": false
   },
   "outputs": [
    {
     "data": {
      "text/plain": [
       "⎡1   1   0   -1⎤\n",
       "⎢              ⎥\n",
       "⎢3   2   0   1 ⎥\n",
       "⎢              ⎥\n",
       "⎢-8  -3  2   -1⎥\n",
       "⎢              ⎥\n",
       "⎣5   2   -1  1 ⎦"
      ]
     },
     "execution_count": 41,
     "metadata": {},
     "output_type": "execute_result"
    }
   ],
   "source": [
    "A"
   ]
  },
  {
   "cell_type": "code",
   "execution_count": 42,
   "metadata": {
    "collapsed": false
   },
   "outputs": [
    {
     "data": {
      "text/plain": [
       "1"
      ]
     },
     "execution_count": 42,
     "metadata": {},
     "output_type": "execute_result"
    }
   ],
   "source": [
    "A.det()"
   ]
  },
  {
   "cell_type": "code",
   "execution_count": 45,
   "metadata": {
    "collapsed": true
   },
   "outputs": [],
   "source": [
    "A = eye(3)\n",
    "A[0,:] *= 0\n",
    "cmax = 2\n",
    "cvalues = [k for k in range(-cmax, cmax+1) if k != 0]\n",
    "nrows, _ = A.shape\n",
    "for i in range(nrows):\n",
    "    for j in range(nrows):\n",
    "        if i == j:\n",
    "            continue\n",
    "        c = random.choice(cvalues)\n",
    "        A[j,:] += c*A[i,:]\n",
    "        c = random.choice(cvalues)\n",
    "        A[:,j] += c*A[:,i]"
   ]
  },
  {
   "cell_type": "code",
   "execution_count": 46,
   "metadata": {
    "collapsed": false
   },
   "outputs": [
    {
     "data": {
      "text/plain": [
       "⎡7  -11  -4⎤\n",
       "⎢          ⎥\n",
       "⎢1  -1   0 ⎥\n",
       "⎢          ⎥\n",
       "⎣2  -3   -1⎦"
      ]
     },
     "execution_count": 46,
     "metadata": {},
     "output_type": "execute_result"
    }
   ],
   "source": [
    "A"
   ]
  },
  {
   "cell_type": "code",
   "execution_count": 47,
   "metadata": {
    "collapsed": false
   },
   "outputs": [
    {
     "data": {
      "text/plain": [
       "0"
      ]
     },
     "execution_count": 47,
     "metadata": {},
     "output_type": "execute_result"
    }
   ],
   "source": [
    "A = eye(3)\n",
    "A[0,:] *= 0\n",
    "cmax = 2\n",
    "cvalues = [k for k in range(-cmax, cmax+1) if k != 0]\n",
    "nrows, _ = A.shape\n",
    "for i in range(nrows):\n",
    "    for j in range(nrows):\n",
    "        if i == j:\n",
    "            continue\n",
    "        c = random.choice(cvalues)\n",
    "        A[j,:] += c*A[i,:]\n",
    "        c = random.choice(cvalues)\n",
    "        A[:,j] += c*A[:,i]"
   ]
  },
  {
   "cell_type": "code",
   "execution_count": null,
   "metadata": {
    "collapsed": true
   },
   "outputs": [],
   "source": []
  }
 ],
 "metadata": {
  "kernelspec": {
   "display_name": "Python 3",
   "language": "python",
   "name": "python3"
  },
  "language_info": {
   "codemirror_mode": {
    "name": "ipython",
    "version": 3
   },
   "file_extension": ".py",
   "mimetype": "text/x-python",
   "name": "python",
   "nbconvert_exporter": "python",
   "pygments_lexer": "ipython3",
   "version": "3.5.1"
  }
 },
 "nbformat": 4,
 "nbformat_minor": 0
}
