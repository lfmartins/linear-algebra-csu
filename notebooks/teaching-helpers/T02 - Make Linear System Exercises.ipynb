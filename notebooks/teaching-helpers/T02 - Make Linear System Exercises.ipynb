{
 "cells": [
  {
   "cell_type": "code",
   "execution_count": 2,
   "metadata": {
    "collapsed": true
   },
   "outputs": [],
   "source": [
    "import json\n",
    "import random\n",
    "from latools import *\n",
    "from sympy import *\n",
    "init_printing(use_latex=True)"
   ]
  },
  {
   "cell_type": "code",
   "execution_count": 2,
   "metadata": {
    "collapsed": false
   },
   "outputs": [],
   "source": [
    "def rref_to_solution_basis(R):\n",
    "    m, n = R.shape\n",
    "    nvars = n - 1\n",
    "    jold = -1\n",
    "    pivots = []\n",
    "    zero_rows = []\n",
    "    for i in range(m):\n",
    "        for j in range(n-1):\n",
    "            if R[i,j] != 0:\n",
    "                break\n",
    "        else:\n",
    "            zero_rows.append(i)\n",
    "            continue\n",
    "        if len(zero_rows) != 0:\n",
    "            raise ValueError('zero rows not at the bottom')\n",
    "        if R[i,j] != 1:\n",
    "            raise ValueError('leading element of row {} is not 1'.format(i+1))\n",
    "        for k in range(m):\n",
    "            if k != i and R[k, j] != 0:\n",
    "                raise ValueError('nonzero in pivot column {}'.format(j+1))\n",
    "        if j <= jold:\n",
    "            raise ValueError('pivot columns not in increasing order')\n",
    "        pivots.append((i,j))\n",
    "    for i in zero_rows:\n",
    "        if R[i,nvars] != 0:\n",
    "            return None, None\n",
    "    pivot_columns = [j for _ , j in pivots]\n",
    "    non_pivot_columns = [j for j in range(n-1) if j not in pivot_columns]\n",
    "    cvec = zeros(nvars, 1)\n",
    "    for (i,j) in pivots:\n",
    "        cvec[j] = R[i, n-1]\n",
    "    bvecs = [zeros(nvars,1) for _ in range(len(non_pivot_columns))]\n",
    "    for i, j in enumerate(non_pivot_columns):\n",
    "        bvecs[i][j] = 1\n",
    "        for k, l in pivots:\n",
    "            bvecs[i][l] = -R[k,j]\n",
    "    return cvec, bvecs\n",
    "def vector_to_latex(vec, align=''):\n",
    "    if len(align) > 0:\n",
    "        start = '\\\\begin{{bmatrix*}}[{}]'.format(align)\n",
    "        end =  '\\\\end{bmatrix*}'\n",
    "    else:\n",
    "        start = '\\\\begin{bmatrix}'\n",
    "        end = '\\\\end{bmatrix}'\n",
    "    return start + '\\\\\\\\'.join(str(v) for v in vec) + end\n",
    "def rref_to_solution_latex(R, align=''):\n",
    "    cvec, bvecs = rref_to_solution_basis(R)\n",
    "    if cvec is None:\n",
    "        return '\\\\varnothing'\n",
    "    sout = '\\\\left\\\\{' + vector_to_latex(cvec, align=align) + '\\n' \n",
    "    for i, vec in enumerate(bvecs):\n",
    "        sout += '+\\\\lambda_{{{}}}'.format(i+1) + vector_to_latex(vec, align=align) + '\\n'\n",
    "    sout += '\\\\;:\\\\;'\n",
    "    sout += ','.join('\\\\lambda_{{{}}}'.format(i+1) for i in range(len(bvecs)))\n",
    "    sout += '\\\\in\\\\mathbb{R}\\\\right\\\\}\\n'\n",
    "    return sout\n",
    "def make_linear_system_exercise(R, pvalues=range(-4,4), align='', vnames=None):\n",
    "    m, n = R.shape\n",
    "    P = zeros(m)\n",
    "    while P.det() == 0:\n",
    "        for i in range(m):\n",
    "            for j in range(m):\n",
    "                P[i, j] = nsimplify(random.choice(pvalues))\n",
    "    A = P * R\n",
    "    system_str = matrix_to_system_latex(A, vnames)\n",
    "    solution_str = rref_to_solution_latex(R, align=align)\n",
    "    return system_str, solution_str\n",
    "def pattern_to_exercise(pattern, rvalues=range(-5,5), pvalues=range(-3,3), align=''):\n",
    "    m = len(pattern)\n",
    "    n = max(len(pat) for pat in pattern)\n",
    "    R = zeros(m, n)\n",
    "    for i, pat in enumerate(pattern):\n",
    "        for j, s in enumerate(pat):\n",
    "            R[i,j] = 0 if s == '0' else 1 if s == '1' else random.choice(rvalues)\n",
    "    return make_linear_system_exercise(R, pvalues, align=align)"
   ]
  },
  {
   "cell_type": "markdown",
   "metadata": {},
   "source": [
    "Tests"
   ]
  },
  {
   "cell_type": "code",
   "execution_count": 3,
   "metadata": {
    "collapsed": true
   },
   "outputs": [],
   "source": [
    "pattern = [\"1x0x00xx\",\n",
    "      \"001x00xx\",\n",
    "      \"000010xx\",\n",
    "      \"000001xx\"\n",
    "     ]"
   ]
  },
  {
   "cell_type": "code",
   "execution_count": 4,
   "metadata": {
    "collapsed": false
   },
   "outputs": [
    {
     "name": "stdout",
     "output_type": "stream",
     "text": [
      "\\begin{alignat*}{17}\n",
      "&{}{}&&{}{}&- 3 x_{3} &{}-{}& 12 x_{4} &{}-{}& 2 x_{5}&{}{}& &{}-{}& 12 x_{7} &{}={}&4\\\\ \n",
      "x_{1}&{}{}& &{}-{}& 3 x_{3} &{}-{}& 11 x_{4} &{}+{}& 2 x_{5} &{}-{}& 2 x_{6} &{}-{}& 4 x_{7} &{}={}&-1\\\\ \n",
      "- 2 x_{1}&{}{}& &{}-{}& 3 x_{3} &{}-{}& 14 x_{4} &{}+{}& x_{5}&{}{}& &{}-{}& 11 x_{7} &{}={}&17\\\\ \n",
      "- 2 x_{1}&{}{}& &{}-{}& 3 x_{3} &{}-{}& 14 x_{4} &{}-{}& x_{5} &{}-{}& x_{6} &{}-{}& 21 x_{7} &{}={}&13\\\\ \n",
      "\\end{alignat*}\n",
      "\n",
      "\\left\\{\\begin{bmatrix}-5\\\\0\\\\-2\\\\0\\\\1\\\\2\\\\0\\end{bmatrix}\n",
      "+\\lambda_{1}\\begin{bmatrix}0\\\\1\\\\0\\\\0\\\\0\\\\0\\\\0\\end{bmatrix}\n",
      "+\\lambda_{2}\\begin{bmatrix}-1\\\\0\\\\-4\\\\1\\\\0\\\\0\\\\0\\end{bmatrix}\n",
      "+\\lambda_{3}\\begin{bmatrix}-4\\\\0\\\\-2\\\\0\\\\-3\\\\-4\\\\1\\end{bmatrix}\n",
      "\\;:\\;\\lambda_{1},\\lambda_{2},\\lambda_{3}\\in\\mathbb{R}\\right\\}\n",
      "\n"
     ]
    }
   ],
   "source": [
    "exercise, solution = pattern_to_exercise(pattern)\n",
    "print(exercise)\n",
    "print(solution)"
   ]
  },
  {
   "cell_type": "markdown",
   "metadata": {},
   "source": [
    "This is a system:\n",
    "\\begin{alignat*}{17}\n",
    "&{}{}&&{}{}&- 3 x_{3} &{}+{}& 6 x_{4} &{}-{}& 2 x_{5} &{}+{}& 2 x_{6} &{}-{}& 9 x_{7} &{}={}&-12\\\\ \n",
    "- x_{1} &{}-{}& x_{2}&{}{}& &{}-{}& 4 x_{4} &{}-{}& 3 x_{5} &{}+{}& 2 x_{6} &{}-{}& 10 x_{7} &{}={}&-19\\\\ \n",
    "- 2 x_{1} &{}-{}& 2 x_{2} &{}-{}& x_{3} &{}-{}& 6 x_{4} &{}+{}& x_{5} &{}-{}& x_{6} &{}+{}& 15 x_{7} &{}={}&0\\\\ \n",
    "x_{1} &{}+{}& x_{2} &{}-{}& 2 x_{3} &{}+{}& 8 x_{4}&{}{}& &{}+{}& x_{6} &{}-{}& 6 x_{7} &{}={}&1\\\\ \n",
    "\\end{alignat*}\n"
   ]
  },
  {
   "cell_type": "markdown",
   "metadata": {},
   "source": [
    "$$\n",
    "\\left\\{\\begin{bmatrix}1\\\\0\\\\-5\\\\0\\\\-2\\\\-5\\\\0\\end{bmatrix}\n",
    "+\\lambda_{1}\\begin{bmatrix}-2\\\\1\\\\0\\\\0\\\\0\\\\0\\\\0\\end{bmatrix}\n",
    "+\\lambda_{2}\\begin{bmatrix}-2\\\\0\\\\0\\\\1\\\\0\\\\0\\\\0\\end{bmatrix}\n",
    "+\\lambda_{3}\\begin{bmatrix}3\\\\0\\\\-2\\\\0\\\\5\\\\5\\\\1\\end{bmatrix}\n",
    "\\;:\\;\\lambda_{1},\\lambda_{2},\\lambda_{3}\\in\\mathbb{R}\\right\\}\n",
    "$$"
   ]
  },
  {
   "cell_type": "code",
   "execution_count": 7,
   "metadata": {
    "collapsed": false
   },
   "outputs": [
    {
     "name": "stdout",
     "output_type": "stream",
     "text": [
      "['1x0x0xx', '001x0xx', '00001xx', '0000000']\n",
      "['1000x0x', '0100x0x', '0010x0x', '0001x0x', '000001x']\n",
      "['1000x', '0100x', '0010x', '0001x', '00000']\n"
     ]
    }
   ],
   "source": [
    "dirname = 'make-linear-system'\n",
    "in_file = open(dirname + '/rref_patterns.json','r')\n",
    "patterns = json.load(in_file)\n",
    "problems = []\n",
    "solutions = []\n",
    "for pattern in patterns:\n",
    "    print(pattern)\n",
    "    problem, solution = pattern_to_exercise(pattern, align='r')\n",
    "    problems.append(problem)\n",
    "    solutions.append(solution)\n",
    "in_file.close()\n",
    "out_str = \"\"\"\n",
    "\\\\documentclass[12pt]{article}\n",
    "\\\\input{../lamacros.tex}\n",
    "\\\\setheadings{MTH288 --- Exercises --- Solving Linear Systems}\n",
    "\\\\begin{document}\\n\n",
    "For each of the items below, do the following:\n",
    "\\\\begin{enumerate}\n",
    "\\\\item Write the augmented matrix for the given system.\n",
    "\\\\item Use elementary row operations to transform the matrix into reduced row echelon form.\n",
    "\\\\item Write the system that corresponds to the reduced row echelon form.\n",
    "\\\\item Write the solution set of the system (using set notation).\n",
    "\\\\end{enumerate}\n",
    "\n",
    "\\\\textbf{Exercises}:\n",
    "\\\\begin{enumerate}\n",
    "\"\"\"\n",
    "for problem in problems:\n",
    "    out_str += '\\\\item ' + problem + '\\n'\n",
    "out_str += \"\"\"\n",
    "\\\\end{enumerate}\n",
    "\\\\clearpage\n",
    "\\\\textbf{Solutions}:\n",
    "\\\\begin{enumerate}\n",
    "\"\"\"\n",
    "for solution in solutions:\n",
    "    out_str += '\\\\item\\\\[' + solution + '\\\\]\\n'\n",
    "out_str += \"\"\"\n",
    "\\\\end{enumerate}\n",
    "\\\\end{document}\n",
    "\"\"\"\n",
    "out_file = open(dirname + '/linear_system_exercises.tex', 'w')\n",
    "out_file.write(out_str)\n",
    "out_file.close()"
   ]
  },
  {
   "cell_type": "code",
   "execution_count": null,
   "metadata": {
    "collapsed": false
   },
   "outputs": [],
   "source": []
  },
  {
   "cell_type": "code",
   "execution_count": null,
   "metadata": {
    "collapsed": true
   },
   "outputs": [],
   "source": []
  }
 ],
 "metadata": {
  "kernelspec": {
   "display_name": "Python 3",
   "language": "python",
   "name": "python3"
  },
  "language_info": {
   "codemirror_mode": {
    "name": "ipython",
    "version": 3
   },
   "file_extension": ".py",
   "mimetype": "text/x-python",
   "name": "python",
   "nbconvert_exporter": "python",
   "pygments_lexer": "ipython3",
   "version": "3.5.1"
  }
 },
 "nbformat": 4,
 "nbformat_minor": 0
}
