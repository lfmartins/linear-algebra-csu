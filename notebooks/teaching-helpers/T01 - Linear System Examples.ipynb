{
 "cells": [
  {
   "cell_type": "code",
   "execution_count": 1,
   "metadata": {
    "collapsed": true
   },
   "outputs": [],
   "source": [
    "from latools import *\n",
    "from sympy import *\n",
    "init_printing(use_latex=True)"
   ]
  },
  {
   "cell_type": "code",
   "execution_count": 2,
   "metadata": {
    "collapsed": true
   },
   "outputs": [],
   "source": [
    "def matrix_to_system_latex(A, vnames):\n",
    "    m, n = A.shape\n",
    "    vs = symbols(vnames)\n",
    "    sout = '\\\\begin{{alignat*}}{{{}}}\\n'.format(2*n+1)\n",
    "    for i in range(m):\n",
    "        leading = True\n",
    "        for j in range(n):\n",
    "            a = A[i,j]\n",
    "            if j < n - 1:\n",
    "                v = vs[j]\n",
    "                if a == 0:\n",
    "                    sout += '&{}\\hphantom{+}{}&'\n",
    "                    continue\n",
    "                pm = '-' if a < 0 else '+' if not leading else '\\hphantom{+}'\n",
    "                sout += ' &{}' + pm + '{}& ' + latex(abs(a)*v)\n",
    "                leading = False\n",
    "            else:\n",
    "                if leading:\n",
    "                    sout += '0'\n",
    "                sout += ' &{{}}={{}}{}'.format(latex(a))\n",
    "        sout += '\\\\\\\\ \\n'\n",
    "        \n",
    "    sout += '\\end{alignat*}\\n'\n",
    "    return sout"
   ]
  },
  {
   "cell_type": "code",
   "execution_count": 3,
   "metadata": {
    "collapsed": false
   },
   "outputs": [
    {
     "data": {
      "image/png": "[encoded data removed]",
      "text/latex": [
       "$$\\left[\\begin{matrix}2 & -4 & 4 & 4 & -6 & -2\\\\3 & -6 & 6 & 1 & 2 & 9\\\\-2 & 4 & -2 & 4 & 1 & 5\\\\5 & -10 & 4 & -8 & -1 & 4\\\\-7 & 14 & -2 & 17 & 4 & 1\\end{matrix}\\right]$$"
      ],
      "text/plain": [
       "⎡2   -4   4   4   -6  -2⎤\n",
       "⎢                       ⎥\n",
       "⎢3   -6   6   1   2   9 ⎥\n",
       "⎢                       ⎥\n",
       "⎢-2   4   -2  4   1   5 ⎥\n",
       "⎢                       ⎥\n",
       "⎢5   -10  4   -8  -1  4 ⎥\n",
       "⎢                       ⎥\n",
       "⎣-7  14   -2  17  4   1 ⎦"
      ]
     },
     "execution_count": 3,
     "metadata": {},
     "output_type": "execute_result"
    }
   ],
   "source": [
    "A = matrix_to_rational([[ 2,  -4,  4,  4, -6, -2],\n",
    "                        [ 3,  -6,  6,  1,  2,  9],\n",
    "                        [-2,   4, -2,  4,  1,  5],\n",
    "                        [ 5, -10,  4, -8, -1,  4],\n",
    "                        [-7,  14, -2, 17,  4,  1]])\n",
    "A"
   ]
  },
  {
   "cell_type": "code",
   "execution_count": 4,
   "metadata": {
    "collapsed": false
   },
   "outputs": [
    {
     "name": "stdout",
     "output_type": "stream",
     "text": [
      "\\begin{alignat*}{13}\n",
      " &{}\\hphantom{+}{}& 2 x &{}-{}& 4 y &{}+{}& 4 z &{}+{}& 4 u &{}-{}& 6 v &{}={}-2\\\\ \n",
      " &{}\\hphantom{+}{}& 3 x &{}-{}& 6 y &{}+{}& 6 z &{}+{}& u &{}+{}& 2 v &{}={}9\\\\ \n",
      " &{}-{}& 2 x &{}+{}& 4 y &{}-{}& 2 z &{}+{}& 4 u &{}+{}& v &{}={}5\\\\ \n",
      " &{}\\hphantom{+}{}& 5 x &{}-{}& 10 y &{}+{}& 4 z &{}-{}& 8 u &{}-{}& v &{}={}4\\\\ \n",
      " &{}-{}& 7 x &{}+{}& 14 y &{}-{}& 2 z &{}+{}& 17 u &{}+{}& 4 v &{}={}1\\\\ \n",
      "\\end{alignat*}\n",
      "\n"
     ]
    }
   ],
   "source": [
    "print(matrix_to_system_latex(A, 'x, y, z, u, v'))"
   ]
  },
  {
   "cell_type": "markdown",
   "metadata": {},
   "source": [
    "\\begin{alignat*}{13}\n",
    " &{}\\hphantom{+}{}& 2 x &{}-{}& 4 y &{}+{}& 4 z &{}+{}& 4 u &{}-{}& 6 v &{}={}-2\\\\ \n",
    " &{}\\hphantom{+}{}& 3 x &{}-{}& 6 y &{}+{}& 6 z &{}+{}& u &{}+{}& 2 v &{}={}9\\\\ \n",
    " &{}-{}& 2 x &{}+{}& 4 y &{}-{}& 2 z &{}+{}& 4 u &{}+{}& v &{}={}5\\\\ \n",
    " &{}\\hphantom{+}{}& 5 x &{}-{}& 10 y &{}+{}& 4 z &{}-{}& 8 u &{}-{}& v &{}={}4\\\\ \n",
    " &{}-{}& 7 x &{}+{}& 14 y &{}-{}& 2 z &{}+{}& 17 u &{}+{}& 4 v &{}={}1\\\\ \n",
    "\\end{alignat*}"
   ]
  },
  {
   "cell_type": "code",
   "execution_count": 6,
   "metadata": {
    "collapsed": false
   },
   "outputs": [
    {
     "name": "stdout",
     "output_type": "stream",
     "text": [
      "\\left[\\begin{matrix}2 & -4 & 4 & 4 & -6 & -2\\\\3 & -6 & 6 & 1 & 2 & 9\\\\-2 & 4 & -2 & 4 & 1 & 5\\\\5 & -10 & 4 & -8 & -1 & 4\\\\-7 & 14 & -2 & 17 & 4 & 1\\end{matrix}\\right]\n"
     ]
    }
   ],
   "source": [
    "print(latex(A))"
   ]
  },
  {
   "cell_type": "code",
   "execution_count": 7,
   "metadata": {
    "collapsed": false
   },
   "outputs": [
    {
     "data": {
      "image/png": "[encoded data removed]",
      "text/latex": [
       "$$\\left[\\begin{matrix}1 & -2 & 2 & 2 & -3 & -1\\\\3 & -6 & 6 & 1 & 2 & 9\\\\-2 & 4 & -2 & 4 & 1 & 5\\\\5 & -10 & 4 & -8 & -1 & 4\\\\-7 & 14 & -2 & 17 & 4 & 1\\end{matrix}\\right]$$"
      ],
      "text/plain": [
       "⎡1   -2   2   2   -3  -1⎤\n",
       "⎢                       ⎥\n",
       "⎢3   -6   6   1   2   9 ⎥\n",
       "⎢                       ⎥\n",
       "⎢-2   4   -2  4   1   5 ⎥\n",
       "⎢                       ⎥\n",
       "⎢5   -10  4   -8  -1  4 ⎥\n",
       "⎢                       ⎥\n",
       "⎣-7  14   -2  17  4   1 ⎦"
      ]
     },
     "execution_count": 7,
     "metadata": {},
     "output_type": "execute_result"
    }
   ],
   "source": [
    "A1 = rop(A, 'R1*(1/2)=>R1')\n",
    "A1"
   ]
  },
  {
   "cell_type": "code",
   "execution_count": 8,
   "metadata": {
    "collapsed": false
   },
   "outputs": [
    {
     "name": "stdout",
     "output_type": "stream",
     "text": [
      "\\left[\\begin{matrix}1 & -2 & 2 & 2 & -3 & -1\\\\3 & -6 & 6 & 1 & 2 & 9\\\\-2 & 4 & -2 & 4 & 1 & 5\\\\5 & -10 & 4 & -8 & -1 & 4\\\\-7 & 14 & -2 & 17 & 4 & 1\\end{matrix}\\right]\n"
     ]
    }
   ],
   "source": [
    "print(latex(A1))"
   ]
  },
  {
   "cell_type": "code",
   "execution_count": 9,
   "metadata": {
    "collapsed": false
   },
   "outputs": [
    {
     "data": {
      "image/png": "[encoded data removed]",
      "text/latex": [
       "$$\\left[\\begin{matrix}1 & -2 & 2 & 2 & -3 & -1\\\\0 & 0 & 0 & -5 & 11 & 12\\\\0 & 0 & 2 & 8 & -5 & 3\\\\0 & 0 & -6 & -18 & 14 & 9\\\\0 & 0 & 12 & 31 & -17 & -6\\end{matrix}\\right]$$"
      ],
      "text/plain": [
       "⎡1  -2  2    2   -3   -1⎤\n",
       "⎢                       ⎥\n",
       "⎢0  0   0   -5   11   12⎥\n",
       "⎢                       ⎥\n",
       "⎢0  0   2    8   -5   3 ⎥\n",
       "⎢                       ⎥\n",
       "⎢0  0   -6  -18  14   9 ⎥\n",
       "⎢                       ⎥\n",
       "⎣0  0   12  31   -17  -6⎦"
      ]
     },
     "execution_count": 9,
     "metadata": {},
     "output_type": "execute_result"
    }
   ],
   "source": [
    "A2 = rop(A1, 'R1*(-3)+R2=>R2', 'R1*(2)+R3=>R3', 'R1*(-5)+R4=>R4', 'R1*(7)+R5=>R5')\n",
    "A2"
   ]
  },
  {
   "cell_type": "code",
   "execution_count": 10,
   "metadata": {
    "collapsed": false
   },
   "outputs": [
    {
     "name": "stdout",
     "output_type": "stream",
     "text": [
      "\\left[\\begin{matrix}1 & -2 & 2 & 2 & -3 & -1\\\\0 & 0 & 0 & -5 & 11 & 12\\\\0 & 0 & 2 & 8 & -5 & 3\\\\0 & 0 & -6 & -18 & 14 & 9\\\\0 & 0 & 12 & 31 & -17 & -6\\end{matrix}\\right]\n"
     ]
    }
   ],
   "source": [
    "print(latex(A2))"
   ]
  },
  {
   "cell_type": "code",
   "execution_count": 11,
   "metadata": {
    "collapsed": false
   },
   "outputs": [
    {
     "data": {
      "image/png": "[encoded data removed]",
      "text/latex": [
       "$$\\left[\\begin{matrix}1 & -2 & 2 & 2 & -3 & -1\\\\0 & 0 & 2 & 8 & -5 & 3\\\\0 & 0 & 0 & -5 & 11 & 12\\\\0 & 0 & -6 & -18 & 14 & 9\\\\0 & 0 & 12 & 31 & -17 & -6\\end{matrix}\\right]$$"
      ],
      "text/plain": [
       "⎡1  -2  2    2   -3   -1⎤\n",
       "⎢                       ⎥\n",
       "⎢0  0   2    8   -5   3 ⎥\n",
       "⎢                       ⎥\n",
       "⎢0  0   0   -5   11   12⎥\n",
       "⎢                       ⎥\n",
       "⎢0  0   -6  -18  14   9 ⎥\n",
       "⎢                       ⎥\n",
       "⎣0  0   12  31   -17  -6⎦"
      ]
     },
     "execution_count": 11,
     "metadata": {},
     "output_type": "execute_result"
    }
   ],
   "source": [
    "A3 = rop(A2,'R2<=>R3')\n",
    "A3"
   ]
  },
  {
   "cell_type": "code",
   "execution_count": 12,
   "metadata": {
    "collapsed": false
   },
   "outputs": [
    {
     "name": "stdout",
     "output_type": "stream",
     "text": [
      "\\left[\\begin{matrix}1 & -2 & 2 & 2 & -3 & -1\\\\0 & 0 & 2 & 8 & -5 & 3\\\\0 & 0 & 0 & -5 & 11 & 12\\\\0 & 0 & -6 & -18 & 14 & 9\\\\0 & 0 & 12 & 31 & -17 & -6\\end{matrix}\\right]\n"
     ]
    }
   ],
   "source": [
    "print(latex(A3))"
   ]
  },
  {
   "cell_type": "code",
   "execution_count": 13,
   "metadata": {
    "collapsed": false
   },
   "outputs": [
    {
     "data": {
      "image/png": "[encoded data removed]",
      "text/latex": [
       "$$\\left[\\begin{matrix}1 & -2 & 2 & 2 & -3 & -1\\\\0 & 0 & 1 & 4 & - \\frac{5}{2} & \\frac{3}{2}\\\\0 & 0 & 0 & -5 & 11 & 12\\\\0 & 0 & -6 & -18 & 14 & 9\\\\0 & 0 & 12 & 31 & -17 & -6\\end{matrix}\\right]$$"
      ],
      "text/plain": [
       "⎡1  -2  2    2    -3   -1 ⎤\n",
       "⎢                         ⎥\n",
       "⎢0  0   1    4   -5/2  3/2⎥\n",
       "⎢                         ⎥\n",
       "⎢0  0   0   -5    11   12 ⎥\n",
       "⎢                         ⎥\n",
       "⎢0  0   -6  -18   14    9 ⎥\n",
       "⎢                         ⎥\n",
       "⎣0  0   12  31   -17   -6 ⎦"
      ]
     },
     "execution_count": 13,
     "metadata": {},
     "output_type": "execute_result"
    }
   ],
   "source": [
    "A4 = rop(A3, 'R2*(1/2)=>R2')\n",
    "A4"
   ]
  },
  {
   "cell_type": "code",
   "execution_count": 14,
   "metadata": {
    "collapsed": false,
    "scrolled": true
   },
   "outputs": [
    {
     "name": "stdout",
     "output_type": "stream",
     "text": [
      "\\left[\\begin{matrix}1 & -2 & 2 & 2 & -3 & -1\\\\0 & 0 & 1 & 4 & - \\frac{5}{2} & \\frac{3}{2}\\\\0 & 0 & 0 & -5 & 11 & 12\\\\0 & 0 & -6 & -18 & 14 & 9\\\\0 & 0 & 12 & 31 & -17 & -6\\end{matrix}\\right]\n"
     ]
    }
   ],
   "source": [
    "print(latex(A4))"
   ]
  },
  {
   "cell_type": "code",
   "execution_count": 15,
   "metadata": {
    "collapsed": false
   },
   "outputs": [
    {
     "data": {
      "image/png": "[encoded data removed]",
      "text/latex": [
       "$$\\left[\\begin{matrix}1 & -2 & 0 & -6 & 2 & -4\\\\0 & 0 & 1 & 4 & - \\frac{5}{2} & \\frac{3}{2}\\\\0 & 0 & 0 & -5 & 11 & 12\\\\0 & 0 & 0 & 6 & -1 & 18\\\\0 & 0 & 0 & -17 & 13 & -24\\end{matrix}\\right]$$"
      ],
      "text/plain": [
       "⎡1  -2  0  -6    2    -4 ⎤\n",
       "⎢                        ⎥\n",
       "⎢0  0   1   4   -5/2  3/2⎥\n",
       "⎢                        ⎥\n",
       "⎢0  0   0  -5    11   12 ⎥\n",
       "⎢                        ⎥\n",
       "⎢0  0   0   6    -1   18 ⎥\n",
       "⎢                        ⎥\n",
       "⎣0  0   0  -17   13   -24⎦"
      ]
     },
     "execution_count": 15,
     "metadata": {},
     "output_type": "execute_result"
    }
   ],
   "source": [
    "A5 = rop(A4, 'R2*(-2)+R1=>R1', 'R2*(6)+R4=>R4', 'R2*(-12)+R5=>R5')\n",
    "A5"
   ]
  },
  {
   "cell_type": "code",
   "execution_count": 16,
   "metadata": {
    "collapsed": false
   },
   "outputs": [
    {
     "name": "stdout",
     "output_type": "stream",
     "text": [
      "\\left[\\begin{matrix}1 & -2 & 0 & -6 & 2 & -4\\\\0 & 0 & 1 & 4 & - \\frac{5}{2} & \\frac{3}{2}\\\\0 & 0 & 0 & -5 & 11 & 12\\\\0 & 0 & 0 & 6 & -1 & 18\\\\0 & 0 & 0 & -17 & 13 & -24\\end{matrix}\\right]\n"
     ]
    }
   ],
   "source": [
    "print(latex(A5))"
   ]
  },
  {
   "cell_type": "code",
   "execution_count": 17,
   "metadata": {
    "collapsed": false
   },
   "outputs": [
    {
     "data": {
      "image/png": "[encoded data removed]",
      "text/latex": [
       "$$\\left[\\begin{matrix}1 & -2 & 0 & -6 & 2 & -4\\\\0 & 0 & 1 & 4 & - \\frac{5}{2} & \\frac{3}{2}\\\\0 & 0 & 0 & 1 & - \\frac{11}{5} & - \\frac{12}{5}\\\\0 & 0 & 0 & 6 & -1 & 18\\\\0 & 0 & 0 & -17 & 13 & -24\\end{matrix}\\right]$$"
      ],
      "text/plain": [
       "⎡1  -2  0  -6     2     -4  ⎤\n",
       "⎢                           ⎥\n",
       "⎢0  0   1   4   -5/2    3/2 ⎥\n",
       "⎢                           ⎥\n",
       "⎢0  0   0   1   -11/5  -12/5⎥\n",
       "⎢                           ⎥\n",
       "⎢0  0   0   6    -1     18  ⎥\n",
       "⎢                           ⎥\n",
       "⎣0  0   0  -17   13     -24 ⎦"
      ]
     },
     "execution_count": 17,
     "metadata": {},
     "output_type": "execute_result"
    }
   ],
   "source": [
    "A6 = rop(A5, 'R3*(-1/5)=>R3')\n",
    "A6"
   ]
  },
  {
   "cell_type": "code",
   "execution_count": 18,
   "metadata": {
    "collapsed": false
   },
   "outputs": [
    {
     "name": "stdout",
     "output_type": "stream",
     "text": [
      "\\left[\\begin{matrix}1 & -2 & 0 & -6 & 2 & -4\\\\0 & 0 & 1 & 4 & - \\frac{5}{2} & \\frac{3}{2}\\\\0 & 0 & 0 & 1 & - \\frac{11}{5} & - \\frac{12}{5}\\\\0 & 0 & 0 & 6 & -1 & 18\\\\0 & 0 & 0 & -17 & 13 & -24\\end{matrix}\\right]\n"
     ]
    }
   ],
   "source": [
    "print(latex(A6))"
   ]
  },
  {
   "cell_type": "code",
   "execution_count": 19,
   "metadata": {
    "collapsed": false
   },
   "outputs": [
    {
     "data": {
      "image/png": "[encoded data removed]",
      "text/latex": [
       "$$\\left[\\begin{matrix}1 & -2 & 0 & 0 & - \\frac{56}{5} & - \\frac{92}{5}\\\\0 & 0 & 1 & 0 & \\frac{63}{10} & \\frac{111}{10}\\\\0 & 0 & 0 & 1 & - \\frac{11}{5} & - \\frac{12}{5}\\\\0 & 0 & 0 & 0 & \\frac{61}{5} & \\frac{162}{5}\\\\0 & 0 & 0 & 0 & - \\frac{122}{5} & - \\frac{324}{5}\\end{matrix}\\right]$$"
      ],
      "text/plain": [
       "⎡1  -2  0  0  -56/5   -92/5 ⎤\n",
       "⎢                           ⎥\n",
       "⎢               63     111  ⎥\n",
       "⎢0  0   1  0    ──     ───  ⎥\n",
       "⎢               10      10  ⎥\n",
       "⎢                           ⎥\n",
       "⎢0  0   0  1  -11/5   -12/5 ⎥\n",
       "⎢                           ⎥\n",
       "⎢0  0   0  0   61/5   162/5 ⎥\n",
       "⎢                           ⎥\n",
       "⎣0  0   0  0  -122/5  -324/5⎦"
      ]
     },
     "execution_count": 19,
     "metadata": {},
     "output_type": "execute_result"
    }
   ],
   "source": [
    "A7 = rop(A6, 'R3*(6)+R1=>R1', 'R3*(-4)+R2=>R2', 'R3*(-6)+R4=>R4', 'R3*(17)+R5=>R5')\n",
    "A7"
   ]
  },
  {
   "cell_type": "code",
   "execution_count": 20,
   "metadata": {
    "collapsed": false,
    "scrolled": true
   },
   "outputs": [
    {
     "name": "stdout",
     "output_type": "stream",
     "text": [
      "\\left[\\begin{matrix}1 & -2 & 0 & 0 & - \\frac{56}{5} & - \\frac{92}{5}\\\\0 & 0 & 1 & 0 & \\frac{63}{10} & \\frac{111}{10}\\\\0 & 0 & 0 & 1 & - \\frac{11}{5} & - \\frac{12}{5}\\\\0 & 0 & 0 & 0 & \\frac{61}{5} & \\frac{162}{5}\\\\0 & 0 & 0 & 0 & - \\frac{122}{5} & - \\frac{324}{5}\\end{matrix}\\right]\n"
     ]
    }
   ],
   "source": [
    "print(latex(A7))"
   ]
  },
  {
   "cell_type": "code",
   "execution_count": 21,
   "metadata": {
    "collapsed": false
   },
   "outputs": [
    {
     "data": {
      "image/png": "[encoded data removed]",
      "text/latex": [
       "$$\\left[\\begin{matrix}1 & -2 & 0 & 0 & - \\frac{56}{5} & - \\frac{92}{5}\\\\0 & 0 & 1 & 0 & \\frac{63}{10} & \\frac{111}{10}\\\\0 & 0 & 0 & 1 & - \\frac{11}{5} & - \\frac{12}{5}\\\\0 & 0 & 0 & 0 & 1 & \\frac{162}{61}\\\\0 & 0 & 0 & 0 & - \\frac{122}{5} & - \\frac{324}{5}\\end{matrix}\\right]$$"
      ],
      "text/plain": [
       "⎡1  -2  0  0  -56/5   -92/5 ⎤\n",
       "⎢                           ⎥\n",
       "⎢               63     111  ⎥\n",
       "⎢0  0   1  0    ──     ───  ⎥\n",
       "⎢               10      10  ⎥\n",
       "⎢                           ⎥\n",
       "⎢0  0   0  1  -11/5   -12/5 ⎥\n",
       "⎢                           ⎥\n",
       "⎢                      162  ⎥\n",
       "⎢0  0   0  0    1      ───  ⎥\n",
       "⎢                       61  ⎥\n",
       "⎢                           ⎥\n",
       "⎣0  0   0  0  -122/5  -324/5⎦"
      ]
     },
     "execution_count": 21,
     "metadata": {},
     "output_type": "execute_result"
    }
   ],
   "source": [
    "A8 = rop(A7, 'R4*(5/61)=>R4')\n",
    "A8"
   ]
  },
  {
   "cell_type": "code",
   "execution_count": 22,
   "metadata": {
    "collapsed": false
   },
   "outputs": [
    {
     "name": "stdout",
     "output_type": "stream",
     "text": [
      "\\left[\\begin{matrix}2 & -4 & 4 & 4 & -6 & -2\\\\3 & -6 & 6 & 1 & 2 & 9\\\\-2 & 4 & -2 & 4 & 1 & 5\\\\5 & -10 & 4 & -8 & -1 & 4\\\\-7 & 14 & -2 & 17 & 4 & 1\\end{matrix}\\right]\n"
     ]
    }
   ],
   "source": [
    "print(latex(A))"
   ]
  },
  {
   "cell_type": "code",
   "execution_count": 23,
   "metadata": {
    "collapsed": false
   },
   "outputs": [
    {
     "data": {
      "image/png": "[encoded data removed]",
      "text/latex": [
       "$$\\left[\\begin{matrix}1 & -2 & 0 & 0 & 0 & \\frac{692}{61}\\\\0 & 0 & 1 & 0 & 0 & - \\frac{687}{122}\\\\0 & 0 & 0 & 1 & 0 & \\frac{210}{61}\\\\0 & 0 & 0 & 0 & 1 & \\frac{162}{61}\\\\0 & 0 & 0 & 0 & 0 & 0\\end{matrix}\\right]$$"
      ],
      "text/plain": [
       "⎡                 692 ⎤\n",
       "⎢1  -2  0  0  0   ─── ⎥\n",
       "⎢                  61 ⎥\n",
       "⎢                     ⎥\n",
       "⎢                -687 ⎥\n",
       "⎢0  0   1  0  0  ─────⎥\n",
       "⎢                 122 ⎥\n",
       "⎢                     ⎥\n",
       "⎢                 210 ⎥\n",
       "⎢0  0   0  1  0   ─── ⎥\n",
       "⎢                  61 ⎥\n",
       "⎢                     ⎥\n",
       "⎢                 162 ⎥\n",
       "⎢0  0   0  0  1   ─── ⎥\n",
       "⎢                  61 ⎥\n",
       "⎢                     ⎥\n",
       "⎣0  0   0  0  0    0  ⎦"
      ]
     },
     "execution_count": 23,
     "metadata": {},
     "output_type": "execute_result"
    }
   ],
   "source": [
    "A9 = rop(A8, 'R4*(56/5)+R1=>R1', 'R4*(-63/10)+R2=>R2', 'R4*(11/5)+R3=>R3', 'R4*(122/5)+R5=>R5')\n",
    "A9"
   ]
  },
  {
   "cell_type": "code",
   "execution_count": 24,
   "metadata": {
    "collapsed": false
   },
   "outputs": [
    {
     "name": "stdout",
     "output_type": "stream",
     "text": [
      "\\left[\\begin{matrix}1 & -2 & 0 & 0 & 0 & \\frac{692}{61}\\\\0 & 0 & 1 & 0 & 0 & - \\frac{687}{122}\\\\0 & 0 & 0 & 1 & 0 & \\frac{210}{61}\\\\0 & 0 & 0 & 0 & 1 & \\frac{162}{61}\\\\0 & 0 & 0 & 0 & 0 & 0\\end{matrix}\\right]\n"
     ]
    }
   ],
   "source": [
    "print(latex(A9))"
   ]
  },
  {
   "cell_type": "code",
   "execution_count": 25,
   "metadata": {
    "collapsed": false
   },
   "outputs": [
    {
     "name": "stdout",
     "output_type": "stream",
     "text": [
      "\\begin{alignat*}{13}\n",
      " &{}\\hphantom{+}{}& x &{}-{}& 2 y&{}\\hphantom{+}{}&&{}\\hphantom{+}{}&&{}\\hphantom{+}{}& &{}={}\\frac{692}{61}\\\\ \n",
      "&{}\\hphantom{+}{}&&{}\\hphantom{+}{}& &{}\\hphantom{+}{}& z&{}\\hphantom{+}{}&&{}\\hphantom{+}{}& &{}={}- \\frac{687}{122}\\\\ \n",
      "&{}\\hphantom{+}{}&&{}\\hphantom{+}{}&&{}\\hphantom{+}{}& &{}\\hphantom{+}{}& u&{}\\hphantom{+}{}& &{}={}\\frac{210}{61}\\\\ \n",
      "&{}\\hphantom{+}{}&&{}\\hphantom{+}{}&&{}\\hphantom{+}{}&&{}\\hphantom{+}{}& &{}\\hphantom{+}{}& v &{}={}\\frac{162}{61}\\\\ \n",
      "&{}\\hphantom{+}{}&&{}\\hphantom{+}{}&&{}\\hphantom{+}{}&&{}\\hphantom{+}{}&&{}\\hphantom{+}{}&0 &{}={}0\\\\ \n",
      "\\end{alignat*}\n",
      "\n"
     ]
    }
   ],
   "source": [
    "print(matrix_to_system_latex(A9, 'x, y, z, u, v'))"
   ]
  },
  {
   "cell_type": "markdown",
   "metadata": {
    "collapsed": true
   },
   "source": [
    "\\begin{alignat*}{13}\n",
    " &{}\\hphantom{+}{}& x &{}-{}& 2 y&{}\\hphantom{+}{}&&{}\\hphantom{+}{}&&{}\\hphantom{+}{}& &{}={}\\frac{692}{61}\\\\ \n",
    "&{}\\hphantom{+}{}&&{}\\hphantom{+}{}& &{}\\hphantom{+}{}& z&{}\\hphantom{+}{}&&{}\\hphantom{+}{}& &{}={}- \\frac{687}&&{122}\\\\ \n",
    "{}\\hphantom{+}{}&&{}\\hphantom{+}{}&&{}\\hphantom{+}{}& &{}\\hphantom{+}{}& u&{}\\hphantom{+}{}& &{}={}\\frac{210}{61}\\\\ \n",
    "{}\\hphantom{+}{}&&{}\\hphantom{+}{}&&{}\\hphantom{+}{}&&{}\\hphantom{+}{}& &{}\\hphantom{+}{}& v &{}={}\\frac{162}{61}\\\\ \n",
    "{}\\hphantom{+}{}&&{}\\hphantom{+}{}&&{}\\hphantom{+}{}&&{}\\hphantom{+}{}&&{}\\hphantom{+}{}&0 &{}={}0\\\\ \n",
    "\\end{alignat*}"
   ]
  },
  {
   "cell_type": "code",
   "execution_count": null,
   "metadata": {
    "collapsed": true
   },
   "outputs": [],
   "source": []
  }
 ],
 "metadata": {
  "kernelspec": {
   "display_name": "Python 3",
   "language": "python",
   "name": "python3"
  },
  "language_info": {
   "codemirror_mode": {
    "name": "ipython",
    "version": 3
   },
   "file_extension": ".py",
   "mimetype": "text/x-python",
   "name": "python",
   "nbconvert_exporter": "python",
   "pygments_lexer": "ipython3",
   "version": "3.5.1"
  }
 },
 "nbformat": 4,
 "nbformat_minor": 0
}
